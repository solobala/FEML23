{
  "nbformat": 4,
  "nbformat_minor": 0,
  "metadata": {
    "colab": {
      "provenance": [],
      "collapsed_sections": [
        "rzKSyaKg3JIO",
        "G9xyw8obRa7n"
      ],
      "authorship_tag": "ABX9TyNZtaSzCBRsZThWNU+GAVTd",
      "include_colab_link": true
    },
    "kernelspec": {
      "name": "python3",
      "display_name": "Python 3"
    },
    "language_info": {
      "name": "python"
    }
  },
  "cells": [
    {
      "cell_type": "markdown",
      "metadata": {
        "id": "view-in-github",
        "colab_type": "text"
      },
      "source": [
        "<a href=\"https://colab.research.google.com/github/solobala/FEML23/blob/master/FEML27_DZ9_1.ipynb\" target=\"_parent\"><img src=\"https://colab.research.google.com/assets/colab-badge.svg\" alt=\"Open In Colab\"/></a>"
      ]
    },
    {
      "cell_type": "markdown",
      "source": [
        "Домашнее задание к лекции «Feature Selection» обновленное"
      ],
      "metadata": {
        "id": "SBlZt0A6HEkr"
      }
    },
    {
      "cell_type": "markdown",
      "source": [
        "**Цель**:\n",
        "\n",
        "Изучить методы отбора признаков для эффективного обучения моделей машинного обучения.\n",
        "\n",
        "**Описание задания:**\n",
        "\n",
        "В домашнем задании нужно решить задачу классификации точек наиболее эффективно. Для этого в работе необходимо применить различные методы по отбору признаков. Отбор признаков предпочтительнее осуществлять основываясь на математическом аппарате, поэтому данные для этого задания будут сгенерированы, чтобы избежать признаков с физическим смыслом."
      ],
      "metadata": {
        "id": "xKAmh_RNHLVd"
      }
    },
    {
      "cell_type": "markdown",
      "source": [
        "# 0. Установка пакетов, импорт библиотек и пользовательские функции"
      ],
      "metadata": {
        "id": "6q6yKjS-Hafa"
      }
    },
    {
      "cell_type": "code",
      "source": [
        "from sklearn.datasets import make_classification\n",
        "import numpy as np\n",
        "import pandas as pd \n",
        "import scipy.stats \n",
        "import seaborn as sns\n",
        "import matplotlib.pyplot as plt  # Библиотека для визуализации результатов\n",
        "\n",
        "\n",
        "from sklearn.model_selection import cross_val_score\n",
        "from sklearn.linear_model import LogisticRegression\n",
        "from sklearn.model_selection import KFold\n",
        "\n",
        "from sklearn.preprocessing import StandardScaler\n",
        "from sklearn.inspection import permutation_importance\n",
        "from sklearn.model_selection import train_test_split, GridSearchCV\n",
        "\n",
        "from sklearn.ensemble import RandomForestClassifier\n",
        "from sklearn.neighbors import KNeighborsClassifier\n",
        "\n",
        "\n",
        "from sklearn.feature_selection import SelectKBest\n",
        "from sklearn.feature_selection import f_classif, chi2, mutual_info_classif\n",
        "from sklearn.feature_selection import VarianceThreshold\n",
        "\n",
        "from sklearn.feature_selection import RFE\n",
        "from sklearn.feature_selection import SelectFromModel\n",
        "from sklearn.feature_selection import SequentialFeatureSelector\n",
        "import warnings\n",
        "warnings.filterwarnings('ignore')"
      ],
      "metadata": {
        "id": "t4ge1uKUHHxu"
      },
      "execution_count": 1,
      "outputs": []
    },
    {
      "cell_type": "code",
      "source": [
        "def get_learn(X,y,random_seed, model):\n",
        "  \"\"\"\n",
        "  Служебная функция. выполняет:\n",
        "    - разделение на Train и test\n",
        "    - обучение модели\n",
        "    - расчет метрик качества classification_report\n",
        "    возвращает название метода удаления выбросов, \n",
        "    classification_report в виде словаря и отдельно - accuracy\n",
        "    df- датафрейм, random_seed - фиксатор генератора случ.чисел, \n",
        "    method - название метода поиска выбросов, model - модель классификатора,\n",
        "    flag - признак печати результатов (True/False)\n",
        "  \"\"\"\n",
        "  num_folds = 9\n",
        "\n",
        "  kfold = KFold(n_splits=num_folds, random_state=random_seed, shuffle=True)\n",
        "  X_train, X_test, y_train, y_test = train_test_split(X, y, test_size=0.2, random_state=random_seed)\n",
        "  lr = model                                  \n",
        "  lr.fit(X_train, y_train)\n",
        "  y_pred = lr.predict(X_test)\n",
        "  a = cross_val_score(LogisticRegression(), X, y, scoring='accuracy').mean()\n",
        " \n",
        "  return a"
      ],
      "metadata": {
        "id": "niAIerxufrVj"
      },
      "execution_count": 2,
      "outputs": []
    },
    {
      "cell_type": "code",
      "source": [
        "def make_corr(X, y, discrete_features):\n",
        "  \"\"\"\n",
        "   Возвращает к-ты корреляции в формате Series\n",
        "  \"\"\"\n",
        "  corr = df.corr()\n",
        "  corr_scores = pd.Series(corr, name=\"corr Scores\", index=X.columns)\n",
        "  corr_scores = corr_scores.sort_values(ascending=False)\n",
        "  return corr_scores"
      ],
      "metadata": {
        "id": "YqlYTARev_Sm"
      },
      "execution_count": 3,
      "outputs": []
    },
    {
      "cell_type": "code",
      "source": [
        "def make_mi_scores(X, y, discrete_features):\n",
        "  \"\"\"\n",
        "    Взаимная информация (МИ) между двумя случайными величинами представляет собой \n",
        "    неотрицательную величину, которая измеряет зависимость между переменными. \n",
        "    Равна нулю тогда и только тогда, когда две случайные величины независимы, \n",
        "    а более высокие значения означают более высокую зависимость.\n",
        "\n",
        "    Функция основана на непараметрических методах оценки энтропии \n",
        "    по k-ближайшим соседним расстояниям. \n",
        "    Можно использовать для выбора одномерных признаков (sci-kit learn)\n",
        "  \"\"\"\n",
        "  mi_scores = mutual_info_classif(X, y, discrete_features=discrete_features)\n",
        "  mi_scores = pd.Series(mi_scores, name=\"MI Scores\", index=X.columns)\n",
        "  mi_scores = mi_scores.sort_values(ascending=False)\n",
        "  return mi_scores"
      ],
      "metadata": {
        "id": "oouLwXFElG_G"
      },
      "execution_count": 4,
      "outputs": []
    },
    {
      "cell_type": "code",
      "source": [
        "def plot_mi_scores(scores):\n",
        "    scores = scores.sort_values(ascending=True)\n",
        "    width = np.arange(len(scores))\n",
        "    ticks = list(scores.index)\n",
        "    plt.barh(width, scores)\n",
        "    plt.yticks(width, ticks)\n",
        "    plt.title(\"Mutual Information Scores\")"
      ],
      "metadata": {
        "id": "2G-OPePtlL4w"
      },
      "execution_count": 5,
      "outputs": []
    },
    {
      "cell_type": "markdown",
      "source": [
        "# 1. Сгенерируйте данные с помощью кода:"
      ],
      "metadata": {
        "id": "r0TDDzeWIfKO"
      }
    },
    {
      "cell_type": "code",
      "source": [
        "num_folds = 9\n",
        "random_seed = 1"
      ],
      "metadata": {
        "id": "JHgkLaRcXUyd"
      },
      "execution_count": 6,
      "outputs": []
    },
    {
      "cell_type": "code",
      "execution_count": 7,
      "metadata": {
        "id": "Q5-e3_V1G-iR"
      },
      "outputs": [],
      "source": [
        "x_data_generated, y_data_generated = make_classification(scale=1, random_state=random_seed)"
      ]
    },
    {
      "cell_type": "code",
      "source": [
        "x_data_generated"
      ],
      "metadata": {
        "colab": {
          "base_uri": "https://localhost:8080/"
        },
        "id": "gjAhyymvVxQw",
        "outputId": "be0642ce-4c26-4074-d0fd-214ea9fc5a92"
      },
      "execution_count": 8,
      "outputs": [
        {
          "output_type": "execute_result",
          "data": {
            "text/plain": [
              "array([[ 0.6065484 ,  0.81695766,  1.05132077, ..., -0.36453805,\n",
              "         0.16466507, -0.76780375],\n",
              "       [-3.05376438,  0.92116205, -1.45832446, ...,  0.20437739,\n",
              "        -1.55269878, -0.4466992 ],\n",
              "       [ 0.60640394,  0.68064537,  1.02124813, ...,  1.03703898,\n",
              "        -0.83001099, -0.03599018],\n",
              "       ...,\n",
              "       [-2.30803851, -1.42368943,  1.14256392, ..., -0.24701649,\n",
              "        -0.37911961,  0.27610275],\n",
              "       [-1.53702887,  2.14957042,  0.32455352, ...,  2.15323347,\n",
              "         1.31972591, -0.8797298 ],\n",
              "       [ 0.37167029, -0.95543218, -0.1484898 , ..., -0.6294416 ,\n",
              "         0.14225137,  0.78002714]])"
            ]
          },
          "metadata": {},
          "execution_count": 8
        }
      ]
    },
    {
      "cell_type": "code",
      "source": [
        "y_data_generated"
      ],
      "metadata": {
        "colab": {
          "base_uri": "https://localhost:8080/"
        },
        "id": "HYsw3zfAVzqS",
        "outputId": "f8e3b24d-d220-403b-8e9e-5bd3a2367c90"
      },
      "execution_count": 9,
      "outputs": [
        {
          "output_type": "execute_result",
          "data": {
            "text/plain": [
              "array([1, 1, 1, 0, 0, 0, 0, 1, 0, 1, 0, 0, 0, 1, 0, 1, 1, 0, 1, 0, 1, 1,\n",
              "       0, 1, 0, 0, 0, 1, 0, 1, 0, 1, 1, 0, 0, 1, 1, 1, 1, 1, 1, 1, 0, 1,\n",
              "       0, 0, 0, 1, 1, 1, 1, 0, 0, 1, 0, 1, 1, 1, 0, 0, 1, 0, 1, 1, 1, 0,\n",
              "       0, 0, 0, 1, 0, 0, 1, 1, 0, 1, 0, 1, 0, 0, 0, 0, 1, 0, 1, 0, 0, 0,\n",
              "       1, 0, 0, 1, 0, 0, 1, 1, 1, 0, 1, 0])"
            ]
          },
          "metadata": {},
          "execution_count": 9
        }
      ]
    },
    {
      "cell_type": "markdown",
      "source": [
        "#2. Постройте модель логистической регрессии и оцените среднюю точность. Для этого используйте следующий код:"
      ],
      "metadata": {
        "id": "Pw_9_Ii_IlDE"
      }
    },
    {
      "cell_type": "code",
      "source": [
        "dff=pd.DataFrame()\n",
        "df = pd.concat([dff, pd.DataFrame(x_data_generated)], axis= 1 )\n",
        "df.columns = ['X' + str(i) for i in range(1,21)]\n",
        "df=pd.concat([df, pd.DataFrame(y_data_generated)], axis= 1)\n",
        "df.rename(columns={0: 'target'}, inplace=True)\n",
        "df.head()"
      ],
      "metadata": {
        "colab": {
          "base_uri": "https://localhost:8080/",
          "height": 236
        },
        "id": "dTPFqGMDBkRc",
        "outputId": "b00465c9-de58-4121-9ac9-ec3f557f25e9"
      },
      "execution_count": 10,
      "outputs": [
        {
          "output_type": "execute_result",
          "data": {
            "text/plain": [
              "         X1        X2        X3        X4        X5        X6        X7  \\\n",
              "0  0.606548  0.816958  1.051321  1.657125 -0.459718 -0.588964  0.650323   \n",
              "1 -3.053764  0.921162 -1.458324  0.240506  0.612233 -0.513571 -0.192004   \n",
              "2  0.606404  0.680645  1.021248  1.495885  0.672620 -0.693833 -1.470237   \n",
              "3  1.616950 -1.515948  2.449369  0.623362  0.242669 -0.512259  0.129102   \n",
              "4 -0.828148 -1.569173  1.762609 -1.223880  1.127751 -0.921486 -0.447308   \n",
              "\n",
              "         X8        X9       X10  ...       X12       X13       X14       X15  \\\n",
              "0  0.050317  1.705484  1.417674  ...  0.309817  0.778174 -1.124787 -1.283933   \n",
              "1  0.398598  0.744885 -0.999427  ... -0.961264  0.578464 -1.070208 -1.287740   \n",
              "2  0.599213  2.428877  0.675454  ... -0.214654 -1.019520 -1.204402 -1.285590   \n",
              "3  1.407540  0.201830 -0.434957  ... -1.219744  0.109403 -0.024881  0.676609   \n",
              "4 -0.982161  0.050293  0.558264  ...  0.680979 -0.474590 -0.540548  0.284574   \n",
              "\n",
              "        X16       X17       X18       X19       X20  target  \n",
              "0  0.080751  0.094996 -0.364538  0.164665 -0.767804       1  \n",
              "1 -1.494194  0.494342  0.204377 -1.552699 -0.446699       1  \n",
              "2 -0.477124  0.524750  1.037039 -0.830011 -0.035990       1  \n",
              "3 -0.198838 -0.545774 -0.203394  1.558806 -0.700399       0  \n",
              "4  0.522655 -0.357514  0.098942 -0.429386 -0.355413       0  \n",
              "\n",
              "[5 rows x 21 columns]"
            ],
            "text/html": [
              "\n",
              "  <div id=\"df-9f9edb16-2ae0-4778-a813-c1ba71d2b7d8\">\n",
              "    <div class=\"colab-df-container\">\n",
              "      <div>\n",
              "<style scoped>\n",
              "    .dataframe tbody tr th:only-of-type {\n",
              "        vertical-align: middle;\n",
              "    }\n",
              "\n",
              "    .dataframe tbody tr th {\n",
              "        vertical-align: top;\n",
              "    }\n",
              "\n",
              "    .dataframe thead th {\n",
              "        text-align: right;\n",
              "    }\n",
              "</style>\n",
              "<table border=\"1\" class=\"dataframe\">\n",
              "  <thead>\n",
              "    <tr style=\"text-align: right;\">\n",
              "      <th></th>\n",
              "      <th>X1</th>\n",
              "      <th>X2</th>\n",
              "      <th>X3</th>\n",
              "      <th>X4</th>\n",
              "      <th>X5</th>\n",
              "      <th>X6</th>\n",
              "      <th>X7</th>\n",
              "      <th>X8</th>\n",
              "      <th>X9</th>\n",
              "      <th>X10</th>\n",
              "      <th>...</th>\n",
              "      <th>X12</th>\n",
              "      <th>X13</th>\n",
              "      <th>X14</th>\n",
              "      <th>X15</th>\n",
              "      <th>X16</th>\n",
              "      <th>X17</th>\n",
              "      <th>X18</th>\n",
              "      <th>X19</th>\n",
              "      <th>X20</th>\n",
              "      <th>target</th>\n",
              "    </tr>\n",
              "  </thead>\n",
              "  <tbody>\n",
              "    <tr>\n",
              "      <th>0</th>\n",
              "      <td>0.606548</td>\n",
              "      <td>0.816958</td>\n",
              "      <td>1.051321</td>\n",
              "      <td>1.657125</td>\n",
              "      <td>-0.459718</td>\n",
              "      <td>-0.588964</td>\n",
              "      <td>0.650323</td>\n",
              "      <td>0.050317</td>\n",
              "      <td>1.705484</td>\n",
              "      <td>1.417674</td>\n",
              "      <td>...</td>\n",
              "      <td>0.309817</td>\n",
              "      <td>0.778174</td>\n",
              "      <td>-1.124787</td>\n",
              "      <td>-1.283933</td>\n",
              "      <td>0.080751</td>\n",
              "      <td>0.094996</td>\n",
              "      <td>-0.364538</td>\n",
              "      <td>0.164665</td>\n",
              "      <td>-0.767804</td>\n",
              "      <td>1</td>\n",
              "    </tr>\n",
              "    <tr>\n",
              "      <th>1</th>\n",
              "      <td>-3.053764</td>\n",
              "      <td>0.921162</td>\n",
              "      <td>-1.458324</td>\n",
              "      <td>0.240506</td>\n",
              "      <td>0.612233</td>\n",
              "      <td>-0.513571</td>\n",
              "      <td>-0.192004</td>\n",
              "      <td>0.398598</td>\n",
              "      <td>0.744885</td>\n",
              "      <td>-0.999427</td>\n",
              "      <td>...</td>\n",
              "      <td>-0.961264</td>\n",
              "      <td>0.578464</td>\n",
              "      <td>-1.070208</td>\n",
              "      <td>-1.287740</td>\n",
              "      <td>-1.494194</td>\n",
              "      <td>0.494342</td>\n",
              "      <td>0.204377</td>\n",
              "      <td>-1.552699</td>\n",
              "      <td>-0.446699</td>\n",
              "      <td>1</td>\n",
              "    </tr>\n",
              "    <tr>\n",
              "      <th>2</th>\n",
              "      <td>0.606404</td>\n",
              "      <td>0.680645</td>\n",
              "      <td>1.021248</td>\n",
              "      <td>1.495885</td>\n",
              "      <td>0.672620</td>\n",
              "      <td>-0.693833</td>\n",
              "      <td>-1.470237</td>\n",
              "      <td>0.599213</td>\n",
              "      <td>2.428877</td>\n",
              "      <td>0.675454</td>\n",
              "      <td>...</td>\n",
              "      <td>-0.214654</td>\n",
              "      <td>-1.019520</td>\n",
              "      <td>-1.204402</td>\n",
              "      <td>-1.285590</td>\n",
              "      <td>-0.477124</td>\n",
              "      <td>0.524750</td>\n",
              "      <td>1.037039</td>\n",
              "      <td>-0.830011</td>\n",
              "      <td>-0.035990</td>\n",
              "      <td>1</td>\n",
              "    </tr>\n",
              "    <tr>\n",
              "      <th>3</th>\n",
              "      <td>1.616950</td>\n",
              "      <td>-1.515948</td>\n",
              "      <td>2.449369</td>\n",
              "      <td>0.623362</td>\n",
              "      <td>0.242669</td>\n",
              "      <td>-0.512259</td>\n",
              "      <td>0.129102</td>\n",
              "      <td>1.407540</td>\n",
              "      <td>0.201830</td>\n",
              "      <td>-0.434957</td>\n",
              "      <td>...</td>\n",
              "      <td>-1.219744</td>\n",
              "      <td>0.109403</td>\n",
              "      <td>-0.024881</td>\n",
              "      <td>0.676609</td>\n",
              "      <td>-0.198838</td>\n",
              "      <td>-0.545774</td>\n",
              "      <td>-0.203394</td>\n",
              "      <td>1.558806</td>\n",
              "      <td>-0.700399</td>\n",
              "      <td>0</td>\n",
              "    </tr>\n",
              "    <tr>\n",
              "      <th>4</th>\n",
              "      <td>-0.828148</td>\n",
              "      <td>-1.569173</td>\n",
              "      <td>1.762609</td>\n",
              "      <td>-1.223880</td>\n",
              "      <td>1.127751</td>\n",
              "      <td>-0.921486</td>\n",
              "      <td>-0.447308</td>\n",
              "      <td>-0.982161</td>\n",
              "      <td>0.050293</td>\n",
              "      <td>0.558264</td>\n",
              "      <td>...</td>\n",
              "      <td>0.680979</td>\n",
              "      <td>-0.474590</td>\n",
              "      <td>-0.540548</td>\n",
              "      <td>0.284574</td>\n",
              "      <td>0.522655</td>\n",
              "      <td>-0.357514</td>\n",
              "      <td>0.098942</td>\n",
              "      <td>-0.429386</td>\n",
              "      <td>-0.355413</td>\n",
              "      <td>0</td>\n",
              "    </tr>\n",
              "  </tbody>\n",
              "</table>\n",
              "<p>5 rows × 21 columns</p>\n",
              "</div>\n",
              "      <button class=\"colab-df-convert\" onclick=\"convertToInteractive('df-9f9edb16-2ae0-4778-a813-c1ba71d2b7d8')\"\n",
              "              title=\"Convert this dataframe to an interactive table.\"\n",
              "              style=\"display:none;\">\n",
              "        \n",
              "  <svg xmlns=\"http://www.w3.org/2000/svg\" height=\"24px\"viewBox=\"0 0 24 24\"\n",
              "       width=\"24px\">\n",
              "    <path d=\"M0 0h24v24H0V0z\" fill=\"none\"/>\n",
              "    <path d=\"M18.56 5.44l.94 2.06.94-2.06 2.06-.94-2.06-.94-.94-2.06-.94 2.06-2.06.94zm-11 1L8.5 8.5l.94-2.06 2.06-.94-2.06-.94L8.5 2.5l-.94 2.06-2.06.94zm10 10l.94 2.06.94-2.06 2.06-.94-2.06-.94-.94-2.06-.94 2.06-2.06.94z\"/><path d=\"M17.41 7.96l-1.37-1.37c-.4-.4-.92-.59-1.43-.59-.52 0-1.04.2-1.43.59L10.3 9.45l-7.72 7.72c-.78.78-.78 2.05 0 2.83L4 21.41c.39.39.9.59 1.41.59.51 0 1.02-.2 1.41-.59l7.78-7.78 2.81-2.81c.8-.78.8-2.07 0-2.86zM5.41 20L4 18.59l7.72-7.72 1.47 1.35L5.41 20z\"/>\n",
              "  </svg>\n",
              "      </button>\n",
              "      \n",
              "  <style>\n",
              "    .colab-df-container {\n",
              "      display:flex;\n",
              "      flex-wrap:wrap;\n",
              "      gap: 12px;\n",
              "    }\n",
              "\n",
              "    .colab-df-convert {\n",
              "      background-color: #E8F0FE;\n",
              "      border: none;\n",
              "      border-radius: 50%;\n",
              "      cursor: pointer;\n",
              "      display: none;\n",
              "      fill: #1967D2;\n",
              "      height: 32px;\n",
              "      padding: 0 0 0 0;\n",
              "      width: 32px;\n",
              "    }\n",
              "\n",
              "    .colab-df-convert:hover {\n",
              "      background-color: #E2EBFA;\n",
              "      box-shadow: 0px 1px 2px rgba(60, 64, 67, 0.3), 0px 1px 3px 1px rgba(60, 64, 67, 0.15);\n",
              "      fill: #174EA6;\n",
              "    }\n",
              "\n",
              "    [theme=dark] .colab-df-convert {\n",
              "      background-color: #3B4455;\n",
              "      fill: #D2E3FC;\n",
              "    }\n",
              "\n",
              "    [theme=dark] .colab-df-convert:hover {\n",
              "      background-color: #434B5C;\n",
              "      box-shadow: 0px 1px 3px 1px rgba(0, 0, 0, 0.15);\n",
              "      filter: drop-shadow(0px 1px 2px rgba(0, 0, 0, 0.3));\n",
              "      fill: #FFFFFF;\n",
              "    }\n",
              "  </style>\n",
              "\n",
              "      <script>\n",
              "        const buttonEl =\n",
              "          document.querySelector('#df-9f9edb16-2ae0-4778-a813-c1ba71d2b7d8 button.colab-df-convert');\n",
              "        buttonEl.style.display =\n",
              "          google.colab.kernel.accessAllowed ? 'block' : 'none';\n",
              "\n",
              "        async function convertToInteractive(key) {\n",
              "          const element = document.querySelector('#df-9f9edb16-2ae0-4778-a813-c1ba71d2b7d8');\n",
              "          const dataTable =\n",
              "            await google.colab.kernel.invokeFunction('convertToInteractive',\n",
              "                                                     [key], {});\n",
              "          if (!dataTable) return;\n",
              "\n",
              "          const docLinkHtml = 'Like what you see? Visit the ' +\n",
              "            '<a target=\"_blank\" href=https://colab.research.google.com/notebooks/data_table.ipynb>data table notebook</a>'\n",
              "            + ' to learn more about interactive tables.';\n",
              "          element.innerHTML = '';\n",
              "          dataTable['output_type'] = 'display_data';\n",
              "          await google.colab.output.renderOutput(dataTable, element);\n",
              "          const docLink = document.createElement('div');\n",
              "          docLink.innerHTML = docLinkHtml;\n",
              "          element.appendChild(docLink);\n",
              "        }\n",
              "      </script>\n",
              "    </div>\n",
              "  </div>\n",
              "  "
            ]
          },
          "metadata": {},
          "execution_count": 10
        }
      ]
    },
    {
      "cell_type": "code",
      "source": [
        "X = df.drop(columns=['target'])\n",
        "y=df['target']\n",
        "a_base = get_learn(X,y, random_seed=random_seed, model=LogisticRegression()) # получим базовое значение accuracy"
      ],
      "metadata": {
        "id": "zHCWccZsdvNg"
      },
      "execution_count": 11,
      "outputs": []
    },
    {
      "cell_type": "code",
      "source": [
        "df_results= pd.DataFrame(columns = ['method', 'features', 'accuracy'])\n",
        "df_results.loc[len(df_results.index)] = ['baseline', X.columns.tolist(),  a_base]"
      ],
      "metadata": {
        "id": "MogBBbykdOmi"
      },
      "execution_count": 12,
      "outputs": []
    },
    {
      "cell_type": "code",
      "source": [
        "df_results.head()"
      ],
      "metadata": {
        "colab": {
          "base_uri": "https://localhost:8080/",
          "height": 81
        },
        "id": "4cWHxvCwvre8",
        "outputId": "5cd05dde-6ea0-4d28-97d2-981468fe1489"
      },
      "execution_count": 13,
      "outputs": [
        {
          "output_type": "execute_result",
          "data": {
            "text/plain": [
              "     method                                           features  accuracy\n",
              "0  baseline  [X1, X2, X3, X4, X5, X6, X7, X8, X9, X10, X11,...       0.9"
            ],
            "text/html": [
              "\n",
              "  <div id=\"df-923e6515-3edc-4cc6-9c44-08e09349c9c3\">\n",
              "    <div class=\"colab-df-container\">\n",
              "      <div>\n",
              "<style scoped>\n",
              "    .dataframe tbody tr th:only-of-type {\n",
              "        vertical-align: middle;\n",
              "    }\n",
              "\n",
              "    .dataframe tbody tr th {\n",
              "        vertical-align: top;\n",
              "    }\n",
              "\n",
              "    .dataframe thead th {\n",
              "        text-align: right;\n",
              "    }\n",
              "</style>\n",
              "<table border=\"1\" class=\"dataframe\">\n",
              "  <thead>\n",
              "    <tr style=\"text-align: right;\">\n",
              "      <th></th>\n",
              "      <th>method</th>\n",
              "      <th>features</th>\n",
              "      <th>accuracy</th>\n",
              "    </tr>\n",
              "  </thead>\n",
              "  <tbody>\n",
              "    <tr>\n",
              "      <th>0</th>\n",
              "      <td>baseline</td>\n",
              "      <td>[X1, X2, X3, X4, X5, X6, X7, X8, X9, X10, X11,...</td>\n",
              "      <td>0.9</td>\n",
              "    </tr>\n",
              "  </tbody>\n",
              "</table>\n",
              "</div>\n",
              "      <button class=\"colab-df-convert\" onclick=\"convertToInteractive('df-923e6515-3edc-4cc6-9c44-08e09349c9c3')\"\n",
              "              title=\"Convert this dataframe to an interactive table.\"\n",
              "              style=\"display:none;\">\n",
              "        \n",
              "  <svg xmlns=\"http://www.w3.org/2000/svg\" height=\"24px\"viewBox=\"0 0 24 24\"\n",
              "       width=\"24px\">\n",
              "    <path d=\"M0 0h24v24H0V0z\" fill=\"none\"/>\n",
              "    <path d=\"M18.56 5.44l.94 2.06.94-2.06 2.06-.94-2.06-.94-.94-2.06-.94 2.06-2.06.94zm-11 1L8.5 8.5l.94-2.06 2.06-.94-2.06-.94L8.5 2.5l-.94 2.06-2.06.94zm10 10l.94 2.06.94-2.06 2.06-.94-2.06-.94-.94-2.06-.94 2.06-2.06.94z\"/><path d=\"M17.41 7.96l-1.37-1.37c-.4-.4-.92-.59-1.43-.59-.52 0-1.04.2-1.43.59L10.3 9.45l-7.72 7.72c-.78.78-.78 2.05 0 2.83L4 21.41c.39.39.9.59 1.41.59.51 0 1.02-.2 1.41-.59l7.78-7.78 2.81-2.81c.8-.78.8-2.07 0-2.86zM5.41 20L4 18.59l7.72-7.72 1.47 1.35L5.41 20z\"/>\n",
              "  </svg>\n",
              "      </button>\n",
              "      \n",
              "  <style>\n",
              "    .colab-df-container {\n",
              "      display:flex;\n",
              "      flex-wrap:wrap;\n",
              "      gap: 12px;\n",
              "    }\n",
              "\n",
              "    .colab-df-convert {\n",
              "      background-color: #E8F0FE;\n",
              "      border: none;\n",
              "      border-radius: 50%;\n",
              "      cursor: pointer;\n",
              "      display: none;\n",
              "      fill: #1967D2;\n",
              "      height: 32px;\n",
              "      padding: 0 0 0 0;\n",
              "      width: 32px;\n",
              "    }\n",
              "\n",
              "    .colab-df-convert:hover {\n",
              "      background-color: #E2EBFA;\n",
              "      box-shadow: 0px 1px 2px rgba(60, 64, 67, 0.3), 0px 1px 3px 1px rgba(60, 64, 67, 0.15);\n",
              "      fill: #174EA6;\n",
              "    }\n",
              "\n",
              "    [theme=dark] .colab-df-convert {\n",
              "      background-color: #3B4455;\n",
              "      fill: #D2E3FC;\n",
              "    }\n",
              "\n",
              "    [theme=dark] .colab-df-convert:hover {\n",
              "      background-color: #434B5C;\n",
              "      box-shadow: 0px 1px 3px 1px rgba(0, 0, 0, 0.15);\n",
              "      filter: drop-shadow(0px 1px 2px rgba(0, 0, 0, 0.3));\n",
              "      fill: #FFFFFF;\n",
              "    }\n",
              "  </style>\n",
              "\n",
              "      <script>\n",
              "        const buttonEl =\n",
              "          document.querySelector('#df-923e6515-3edc-4cc6-9c44-08e09349c9c3 button.colab-df-convert');\n",
              "        buttonEl.style.display =\n",
              "          google.colab.kernel.accessAllowed ? 'block' : 'none';\n",
              "\n",
              "        async function convertToInteractive(key) {\n",
              "          const element = document.querySelector('#df-923e6515-3edc-4cc6-9c44-08e09349c9c3');\n",
              "          const dataTable =\n",
              "            await google.colab.kernel.invokeFunction('convertToInteractive',\n",
              "                                                     [key], {});\n",
              "          if (!dataTable) return;\n",
              "\n",
              "          const docLinkHtml = 'Like what you see? Visit the ' +\n",
              "            '<a target=\"_blank\" href=https://colab.research.google.com/notebooks/data_table.ipynb>data table notebook</a>'\n",
              "            + ' to learn more about interactive tables.';\n",
              "          element.innerHTML = '';\n",
              "          dataTable['output_type'] = 'display_data';\n",
              "          await google.colab.output.renderOutput(dataTable, element);\n",
              "          const docLink = document.createElement('div');\n",
              "          docLink.innerHTML = docLinkHtml;\n",
              "          element.appendChild(docLink);\n",
              "        }\n",
              "      </script>\n",
              "    </div>\n",
              "  </div>\n",
              "  "
            ]
          },
          "metadata": {},
          "execution_count": 13
        }
      ]
    },
    {
      "cell_type": "markdown",
      "source": [
        "#3. Используйте статистические методы для отбора признаков:"
      ],
      "metadata": {
        "id": "PSTHG2mCKC1Z"
      }
    },
    {
      "cell_type": "markdown",
      "source": [
        "## a) Выберите признаки на основе матрицы корреляции."
      ],
      "metadata": {
        "id": "KTUu5yknN28A"
      }
    },
    {
      "cell_type": "code",
      "source": [
        "corr = df.corr()\n",
        "plt.figure(figsize=(12,9))\n",
        "sns.heatmap(corr,annot=True)\n",
        "plt.show()"
      ],
      "metadata": {
        "colab": {
          "base_uri": "https://localhost:8080/",
          "height": 759
        },
        "id": "csFeDVXhDlSY",
        "outputId": "c539b064-2444-4f1b-fa3d-c2c856daa75d"
      },
      "execution_count": 14,
      "outputs": [
        {
          "output_type": "display_data",
          "data": {
            "text/plain": [
              "<Figure size 1200x900 with 2 Axes>"
            ],
            "image/png": "[encoded data removed]"
          },
          "metadata": {}
        }
      ]
    },
    {
      "cell_type": "markdown",
      "source": [
        "Отбор признаков по к-ту корреляции в данном случае - не лучшая идея (это не регррессия, а классификация).  Хотя с учетом высокой степени линейной корреляции между X2 и target,может и получиться "
      ],
      "metadata": {
        "id": "1kSo59ioM_oq"
      }
    },
    {
      "cell_type": "code",
      "source": [
        "from scipy.stats import pearsonr # В этой библиотеке не только к-т корреляции считается, но и p_value для него\n",
        "a_base=0.8\n",
        "thresholds = [0.2,0.6,0.65,0.7,0.75,0.8,0.85,0.9,0.9] # здесь указан порог к-та корреляции ( т.е. построена матрица, то данные взяты оттуда, а то можо было и перебором)\n",
        "\n",
        "for thr in thresholds:\n",
        "  corr_columns=[]\n",
        "  method = f'corr {thr}'\n",
        "  for b in X.columns.to_list():\n",
        "   \n",
        "    if (abs(pearsonr(X[b], y)[0])>=thr) & (abs(pearsonr(X[b], y)[1])<=0.05) & (b !='target'):\n",
        "      corr_columns.append(b)\n",
        "  \n",
        "  features = list(set(corr_columns))\n",
        " \n",
        "  if features !=[]:\n",
        "    a = get_learn(df[features] ,y, random_seed=random_seed, model=LogisticRegression())  \n",
        "\n",
        "    if a>=a_base:\n",
        "      a_base = a\n",
        "      a_opt = a\n",
        "      features_opt = features\n",
        "      method_opt = method\n",
        "  \n",
        "df_results.loc[len(df_results.index)] = [method_opt, features_opt,  a_opt] \n"
      ],
      "metadata": {
        "id": "dEjYETSNxYtg"
      },
      "execution_count": 15,
      "outputs": []
    },
    {
      "cell_type": "code",
      "source": [
        "df_results.head()"
      ],
      "metadata": {
        "colab": {
          "base_uri": "https://localhost:8080/",
          "height": 112
        },
        "id": "_KwGjdPtLWGK",
        "outputId": "f07739c9-d606-42cc-e0a1-9a462b2ab58b"
      },
      "execution_count": 16,
      "outputs": [
        {
          "output_type": "execute_result",
          "data": {
            "text/plain": [
              "     method                                           features  accuracy\n",
              "0  baseline  [X1, X2, X3, X4, X5, X6, X7, X8, X9, X10, X11,...      0.90\n",
              "1  corr 0.9                                               [X2]      0.96"
            ],
            "text/html": [
              "\n",
              "  <div id=\"df-28a86680-e6d7-4e51-86af-ba7fa39cb00d\">\n",
              "    <div class=\"colab-df-container\">\n",
              "      <div>\n",
              "<style scoped>\n",
              "    .dataframe tbody tr th:only-of-type {\n",
              "        vertical-align: middle;\n",
              "    }\n",
              "\n",
              "    .dataframe tbody tr th {\n",
              "        vertical-align: top;\n",
              "    }\n",
              "\n",
              "    .dataframe thead th {\n",
              "        text-align: right;\n",
              "    }\n",
              "</style>\n",
              "<table border=\"1\" class=\"dataframe\">\n",
              "  <thead>\n",
              "    <tr style=\"text-align: right;\">\n",
              "      <th></th>\n",
              "      <th>method</th>\n",
              "      <th>features</th>\n",
              "      <th>accuracy</th>\n",
              "    </tr>\n",
              "  </thead>\n",
              "  <tbody>\n",
              "    <tr>\n",
              "      <th>0</th>\n",
              "      <td>baseline</td>\n",
              "      <td>[X1, X2, X3, X4, X5, X6, X7, X8, X9, X10, X11,...</td>\n",
              "      <td>0.90</td>\n",
              "    </tr>\n",
              "    <tr>\n",
              "      <th>1</th>\n",
              "      <td>corr 0.9</td>\n",
              "      <td>[X2]</td>\n",
              "      <td>0.96</td>\n",
              "    </tr>\n",
              "  </tbody>\n",
              "</table>\n",
              "</div>\n",
              "      <button class=\"colab-df-convert\" onclick=\"convertToInteractive('df-28a86680-e6d7-4e51-86af-ba7fa39cb00d')\"\n",
              "              title=\"Convert this dataframe to an interactive table.\"\n",
              "              style=\"display:none;\">\n",
              "        \n",
              "  <svg xmlns=\"http://www.w3.org/2000/svg\" height=\"24px\"viewBox=\"0 0 24 24\"\n",
              "       width=\"24px\">\n",
              "    <path d=\"M0 0h24v24H0V0z\" fill=\"none\"/>\n",
              "    <path d=\"M18.56 5.44l.94 2.06.94-2.06 2.06-.94-2.06-.94-.94-2.06-.94 2.06-2.06.94zm-11 1L8.5 8.5l.94-2.06 2.06-.94-2.06-.94L8.5 2.5l-.94 2.06-2.06.94zm10 10l.94 2.06.94-2.06 2.06-.94-2.06-.94-.94-2.06-.94 2.06-2.06.94z\"/><path d=\"M17.41 7.96l-1.37-1.37c-.4-.4-.92-.59-1.43-.59-.52 0-1.04.2-1.43.59L10.3 9.45l-7.72 7.72c-.78.78-.78 2.05 0 2.83L4 21.41c.39.39.9.59 1.41.59.51 0 1.02-.2 1.41-.59l7.78-7.78 2.81-2.81c.8-.78.8-2.07 0-2.86zM5.41 20L4 18.59l7.72-7.72 1.47 1.35L5.41 20z\"/>\n",
              "  </svg>\n",
              "      </button>\n",
              "      \n",
              "  <style>\n",
              "    .colab-df-container {\n",
              "      display:flex;\n",
              "      flex-wrap:wrap;\n",
              "      gap: 12px;\n",
              "    }\n",
              "\n",
              "    .colab-df-convert {\n",
              "      background-color: #E8F0FE;\n",
              "      border: none;\n",
              "      border-radius: 50%;\n",
              "      cursor: pointer;\n",
              "      display: none;\n",
              "      fill: #1967D2;\n",
              "      height: 32px;\n",
              "      padding: 0 0 0 0;\n",
              "      width: 32px;\n",
              "    }\n",
              "\n",
              "    .colab-df-convert:hover {\n",
              "      background-color: #E2EBFA;\n",
              "      box-shadow: 0px 1px 2px rgba(60, 64, 67, 0.3), 0px 1px 3px 1px rgba(60, 64, 67, 0.15);\n",
              "      fill: #174EA6;\n",
              "    }\n",
              "\n",
              "    [theme=dark] .colab-df-convert {\n",
              "      background-color: #3B4455;\n",
              "      fill: #D2E3FC;\n",
              "    }\n",
              "\n",
              "    [theme=dark] .colab-df-convert:hover {\n",
              "      background-color: #434B5C;\n",
              "      box-shadow: 0px 1px 3px 1px rgba(0, 0, 0, 0.15);\n",
              "      filter: drop-shadow(0px 1px 2px rgba(0, 0, 0, 0.3));\n",
              "      fill: #FFFFFF;\n",
              "    }\n",
              "  </style>\n",
              "\n",
              "      <script>\n",
              "        const buttonEl =\n",
              "          document.querySelector('#df-28a86680-e6d7-4e51-86af-ba7fa39cb00d button.colab-df-convert');\n",
              "        buttonEl.style.display =\n",
              "          google.colab.kernel.accessAllowed ? 'block' : 'none';\n",
              "\n",
              "        async function convertToInteractive(key) {\n",
              "          const element = document.querySelector('#df-28a86680-e6d7-4e51-86af-ba7fa39cb00d');\n",
              "          const dataTable =\n",
              "            await google.colab.kernel.invokeFunction('convertToInteractive',\n",
              "                                                     [key], {});\n",
              "          if (!dataTable) return;\n",
              "\n",
              "          const docLinkHtml = 'Like what you see? Visit the ' +\n",
              "            '<a target=\"_blank\" href=https://colab.research.google.com/notebooks/data_table.ipynb>data table notebook</a>'\n",
              "            + ' to learn more about interactive tables.';\n",
              "          element.innerHTML = '';\n",
              "          dataTable['output_type'] = 'display_data';\n",
              "          await google.colab.output.renderOutput(dataTable, element);\n",
              "          const docLink = document.createElement('div');\n",
              "          docLink.innerHTML = docLinkHtml;\n",
              "          element.appendChild(docLink);\n",
              "        }\n",
              "      </script>\n",
              "    </div>\n",
              "  </div>\n",
              "  "
            ]
          },
          "metadata": {},
          "execution_count": 16
        }
      ]
    },
    {
      "cell_type": "markdown",
      "source": [
        "## b) Выбор признаков на основе Mutual Information"
      ],
      "metadata": {
        "id": "rzKSyaKg3JIO"
      }
    },
    {
      "cell_type": "code",
      "source": [
        "X=df.drop(columns=['target'])\n",
        "y = df['target']"
      ],
      "metadata": {
        "id": "YExtAg_eoCNL"
      },
      "execution_count": 17,
      "outputs": []
    },
    {
      "cell_type": "code",
      "source": [
        "mi_scores = make_mi_scores(X,y, discrete_features='auto')\n",
        "mi_scores"
      ],
      "metadata": {
        "colab": {
          "base_uri": "https://localhost:8080/"
        },
        "id": "t2nictOkjAT-",
        "outputId": "f8c5f123-bd8d-4127-90ba-aecfc3d3fba1"
      },
      "execution_count": 18,
      "outputs": [
        {
          "output_type": "execute_result",
          "data": {
            "text/plain": [
              "X2     0.585451\n",
              "X15    0.221356\n",
              "X6     0.197538\n",
              "X14    0.128445\n",
              "X20    0.052854\n",
              "X10    0.045388\n",
              "X9     0.035912\n",
              "X8     0.027195\n",
              "X3     0.022473\n",
              "X11    0.010940\n",
              "X1     0.009868\n",
              "X16    0.009317\n",
              "X17    0.007365\n",
              "X18    0.005466\n",
              "X7     0.000000\n",
              "X12    0.000000\n",
              "X13    0.000000\n",
              "X5     0.000000\n",
              "X4     0.000000\n",
              "X19    0.000000\n",
              "Name: MI Scores, dtype: float64"
            ]
          },
          "metadata": {},
          "execution_count": 18
        }
      ]
    },
    {
      "cell_type": "code",
      "source": [
        "plt.figure(dpi=100, figsize=(5, 5))\n",
        "plot_mi_scores(mi_scores)"
      ],
      "metadata": {
        "colab": {
          "base_uri": "https://localhost:8080/",
          "height": 468
        },
        "id": "Psavs8LAo4tz",
        "outputId": "ebf4032c-63b8-4209-92f1-7d098bb3f2ab"
      },
      "execution_count": 19,
      "outputs": [
        {
          "output_type": "display_data",
          "data": {
            "text/plain": [
              "<Figure size 500x500 with 1 Axes>"
            ],
            "image/png": "[encoded data removed]"
          },
          "metadata": {}
        }
      ]
    },
    {
      "cell_type": "code",
      "source": [
        "features = mi_scores[mi_scores>0.01].index.tolist()\n",
        "features = features[:-1]\n",
        "features"
      ],
      "metadata": {
        "colab": {
          "base_uri": "https://localhost:8080/"
        },
        "id": "de55HRvTubrb",
        "outputId": "ccbad3c7-70ef-4ebd-a162-d0af838ef401"
      },
      "execution_count": 20,
      "outputs": [
        {
          "output_type": "execute_result",
          "data": {
            "text/plain": [
              "['X2', 'X15', 'X6', 'X14', 'X20', 'X10', 'X9', 'X8', 'X3']"
            ]
          },
          "metadata": {},
          "execution_count": 20
        }
      ]
    },
    {
      "cell_type": "code",
      "source": [
        "# Ставим порог отсечения на уровне X11=0.01\n",
        "count = len(mi_scores[mi_scores>0.01])\n",
        "features = mi_scores[mi_scores>0.01].index.tolist()\n",
        "a_base=0.8\n",
        "for i in range(count,1,-1):\n",
        "  method = f'MI {i}'\n",
        "  a = get_learn(df[features], y, random_seed=random_seed, model=LogisticRegression())\n",
        "\n",
        "  if a>=a_base:\n",
        "    a_base = a\n",
        "    a_opt = a\n",
        "    features_opt = features\n",
        "    method_opt = method\n",
        "  features = features[:-1] # убираем по одному признаку до тех пор, пока метрика не начнет падать\n",
        "df_results.loc[len(df_results.index)] = [method_opt, features_opt,  a_opt]  "
      ],
      "metadata": {
        "id": "XiqBUKYVrWOw"
      },
      "execution_count": 21,
      "outputs": []
    },
    {
      "cell_type": "code",
      "source": [
        "df_results.head()"
      ],
      "metadata": {
        "colab": {
          "base_uri": "https://localhost:8080/",
          "height": 143
        },
        "id": "Upab2ONSu90z",
        "outputId": "f058cd1b-0b28-4ffe-835d-ec7c7ded947a"
      },
      "execution_count": 22,
      "outputs": [
        {
          "output_type": "execute_result",
          "data": {
            "text/plain": [
              "     method                                           features  accuracy\n",
              "0  baseline  [X1, X2, X3, X4, X5, X6, X7, X8, X9, X10, X11,...      0.90\n",
              "1  corr 0.9                                               [X2]      0.96\n",
              "2      MI 2                                          [X2, X15]      0.96"
            ],
            "text/html": [
              "\n",
              "  <div id=\"df-81ffab1a-faff-4aef-8681-3feeffc53b7f\">\n",
              "    <div class=\"colab-df-container\">\n",
              "      <div>\n",
              "<style scoped>\n",
              "    .dataframe tbody tr th:only-of-type {\n",
              "        vertical-align: middle;\n",
              "    }\n",
              "\n",
              "    .dataframe tbody tr th {\n",
              "        vertical-align: top;\n",
              "    }\n",
              "\n",
              "    .dataframe thead th {\n",
              "        text-align: right;\n",
              "    }\n",
              "</style>\n",
              "<table border=\"1\" class=\"dataframe\">\n",
              "  <thead>\n",
              "    <tr style=\"text-align: right;\">\n",
              "      <th></th>\n",
              "      <th>method</th>\n",
              "      <th>features</th>\n",
              "      <th>accuracy</th>\n",
              "    </tr>\n",
              "  </thead>\n",
              "  <tbody>\n",
              "    <tr>\n",
              "      <th>0</th>\n",
              "      <td>baseline</td>\n",
              "      <td>[X1, X2, X3, X4, X5, X6, X7, X8, X9, X10, X11,...</td>\n",
              "      <td>0.90</td>\n",
              "    </tr>\n",
              "    <tr>\n",
              "      <th>1</th>\n",
              "      <td>corr 0.9</td>\n",
              "      <td>[X2]</td>\n",
              "      <td>0.96</td>\n",
              "    </tr>\n",
              "    <tr>\n",
              "      <th>2</th>\n",
              "      <td>MI 2</td>\n",
              "      <td>[X2, X15]</td>\n",
              "      <td>0.96</td>\n",
              "    </tr>\n",
              "  </tbody>\n",
              "</table>\n",
              "</div>\n",
              "      <button class=\"colab-df-convert\" onclick=\"convertToInteractive('df-81ffab1a-faff-4aef-8681-3feeffc53b7f')\"\n",
              "              title=\"Convert this dataframe to an interactive table.\"\n",
              "              style=\"display:none;\">\n",
              "        \n",
              "  <svg xmlns=\"http://www.w3.org/2000/svg\" height=\"24px\"viewBox=\"0 0 24 24\"\n",
              "       width=\"24px\">\n",
              "    <path d=\"M0 0h24v24H0V0z\" fill=\"none\"/>\n",
              "    <path d=\"M18.56 5.44l.94 2.06.94-2.06 2.06-.94-2.06-.94-.94-2.06-.94 2.06-2.06.94zm-11 1L8.5 8.5l.94-2.06 2.06-.94-2.06-.94L8.5 2.5l-.94 2.06-2.06.94zm10 10l.94 2.06.94-2.06 2.06-.94-2.06-.94-.94-2.06-.94 2.06-2.06.94z\"/><path d=\"M17.41 7.96l-1.37-1.37c-.4-.4-.92-.59-1.43-.59-.52 0-1.04.2-1.43.59L10.3 9.45l-7.72 7.72c-.78.78-.78 2.05 0 2.83L4 21.41c.39.39.9.59 1.41.59.51 0 1.02-.2 1.41-.59l7.78-7.78 2.81-2.81c.8-.78.8-2.07 0-2.86zM5.41 20L4 18.59l7.72-7.72 1.47 1.35L5.41 20z\"/>\n",
              "  </svg>\n",
              "      </button>\n",
              "      \n",
              "  <style>\n",
              "    .colab-df-container {\n",
              "      display:flex;\n",
              "      flex-wrap:wrap;\n",
              "      gap: 12px;\n",
              "    }\n",
              "\n",
              "    .colab-df-convert {\n",
              "      background-color: #E8F0FE;\n",
              "      border: none;\n",
              "      border-radius: 50%;\n",
              "      cursor: pointer;\n",
              "      display: none;\n",
              "      fill: #1967D2;\n",
              "      height: 32px;\n",
              "      padding: 0 0 0 0;\n",
              "      width: 32px;\n",
              "    }\n",
              "\n",
              "    .colab-df-convert:hover {\n",
              "      background-color: #E2EBFA;\n",
              "      box-shadow: 0px 1px 2px rgba(60, 64, 67, 0.3), 0px 1px 3px 1px rgba(60, 64, 67, 0.15);\n",
              "      fill: #174EA6;\n",
              "    }\n",
              "\n",
              "    [theme=dark] .colab-df-convert {\n",
              "      background-color: #3B4455;\n",
              "      fill: #D2E3FC;\n",
              "    }\n",
              "\n",
              "    [theme=dark] .colab-df-convert:hover {\n",
              "      background-color: #434B5C;\n",
              "      box-shadow: 0px 1px 3px 1px rgba(0, 0, 0, 0.15);\n",
              "      filter: drop-shadow(0px 1px 2px rgba(0, 0, 0, 0.3));\n",
              "      fill: #FFFFFF;\n",
              "    }\n",
              "  </style>\n",
              "\n",
              "      <script>\n",
              "        const buttonEl =\n",
              "          document.querySelector('#df-81ffab1a-faff-4aef-8681-3feeffc53b7f button.colab-df-convert');\n",
              "        buttonEl.style.display =\n",
              "          google.colab.kernel.accessAllowed ? 'block' : 'none';\n",
              "\n",
              "        async function convertToInteractive(key) {\n",
              "          const element = document.querySelector('#df-81ffab1a-faff-4aef-8681-3feeffc53b7f');\n",
              "          const dataTable =\n",
              "            await google.colab.kernel.invokeFunction('convertToInteractive',\n",
              "                                                     [key], {});\n",
              "          if (!dataTable) return;\n",
              "\n",
              "          const docLinkHtml = 'Like what you see? Visit the ' +\n",
              "            '<a target=\"_blank\" href=https://colab.research.google.com/notebooks/data_table.ipynb>data table notebook</a>'\n",
              "            + ' to learn more about interactive tables.';\n",
              "          element.innerHTML = '';\n",
              "          dataTable['output_type'] = 'display_data';\n",
              "          await google.colab.output.renderOutput(dataTable, element);\n",
              "          const docLink = document.createElement('div');\n",
              "          docLink.innerHTML = docLinkHtml;\n",
              "          element.appendChild(docLink);\n",
              "        }\n",
              "      </script>\n",
              "    </div>\n",
              "  </div>\n",
              "  "
            ]
          },
          "metadata": {},
          "execution_count": 22
        }
      ]
    },
    {
      "cell_type": "markdown",
      "source": [
        "## c) Отсеките низковариативные признаки (VarianceThreshold)."
      ],
      "metadata": {
        "id": "w1kZhAVuN4YY"
      }
    },
    {
      "cell_type": "markdown",
      "source": [
        "## d) Повторите п. 2 на отобранных признаках в п. 3a, п. 3b."
      ],
      "metadata": {
        "id": "G9xyw8obRa7n"
      }
    },
    {
      "cell_type": "code",
      "source": [
        "X=df.drop(columns=['target'])"
      ],
      "metadata": {
        "id": "Xg2fgpKuSInR"
      },
      "execution_count": 23,
      "outputs": []
    },
    {
      "cell_type": "code",
      "source": [
        "# Меняем Threshhold в диапазоне и ищем порог, при котором модель показывает лучшую accuracy\n",
        "thresholds = np.arange(0.25, 1.7, 0.05)\n",
        "a_base=0.8\n",
        "for thr in thresholds:\n",
        "\n",
        "  method = f'VarianceThreshold_{thr:.2f}'\n",
        "  selector = VarianceThreshold(thr)\n",
        "  X_var = selector.fit_transform(X)\n",
        "  a = get_learn(X_var,y, random_seed=random_seed, model=LogisticRegression())\n",
        "  \n",
        "  \n",
        "  if a >= a_base:\n",
        "    a_base=a\n",
        "    method_opt = method\n",
        "    features_opt = selector.get_feature_names_out().tolist()\n",
        "    a_opt = a\n",
        " \n",
        "df_results.loc[len(df_results.index)] = [method_opt, features_opt,  a_opt]"
      ],
      "metadata": {
        "id": "XZWR6QjcRaOG"
      },
      "execution_count": null,
      "outputs": []
    },
    {
      "cell_type": "code",
      "source": [
        "df_results.sort_values(by='accuracy', ascending=False)"
      ],
      "metadata": {
        "colab": {
          "base_uri": "https://localhost:8080/",
          "height": 175
        },
        "id": "mpnZBVUxesID",
        "outputId": "8f6d7148-6bfc-41c2-b7f7-f801b6187cac"
      },
      "execution_count": 25,
      "outputs": [
        {
          "output_type": "execute_result",
          "data": {
            "text/plain": [
              "                   method                                           features  \\\n",
              "1                corr 0.9                                               [X2]   \n",
              "2                    MI 2                                          [X2, X15]   \n",
              "3  VarianceThreshold_1.05                    [X1, X2, X3, X8, X11, X14, X15]   \n",
              "0                baseline  [X1, X2, X3, X4, X5, X6, X7, X8, X9, X10, X11,...   \n",
              "\n",
              "   accuracy  \n",
              "1      0.96  \n",
              "2      0.96  \n",
              "3      0.94  \n",
              "0      0.90  "
            ],
            "text/html": [
              "\n",
              "  <div id=\"df-7f7850c6-09a2-4754-9eea-4176a0dfc8fd\">\n",
              "    <div class=\"colab-df-container\">\n",
              "      <div>\n",
              "<style scoped>\n",
              "    .dataframe tbody tr th:only-of-type {\n",
              "        vertical-align: middle;\n",
              "    }\n",
              "\n",
              "    .dataframe tbody tr th {\n",
              "        vertical-align: top;\n",
              "    }\n",
              "\n",
              "    .dataframe thead th {\n",
              "        text-align: right;\n",
              "    }\n",
              "</style>\n",
              "<table border=\"1\" class=\"dataframe\">\n",
              "  <thead>\n",
              "    <tr style=\"text-align: right;\">\n",
              "      <th></th>\n",
              "      <th>method</th>\n",
              "      <th>features</th>\n",
              "      <th>accuracy</th>\n",
              "    </tr>\n",
              "  </thead>\n",
              "  <tbody>\n",
              "    <tr>\n",
              "      <th>1</th>\n",
              "      <td>corr 0.9</td>\n",
              "      <td>[X2]</td>\n",
              "      <td>0.96</td>\n",
              "    </tr>\n",
              "    <tr>\n",
              "      <th>2</th>\n",
              "      <td>MI 2</td>\n",
              "      <td>[X2, X15]</td>\n",
              "      <td>0.96</td>\n",
              "    </tr>\n",
              "    <tr>\n",
              "      <th>3</th>\n",
              "      <td>VarianceThreshold_1.05</td>\n",
              "      <td>[X1, X2, X3, X8, X11, X14, X15]</td>\n",
              "      <td>0.94</td>\n",
              "    </tr>\n",
              "    <tr>\n",
              "      <th>0</th>\n",
              "      <td>baseline</td>\n",
              "      <td>[X1, X2, X3, X4, X5, X6, X7, X8, X9, X10, X11,...</td>\n",
              "      <td>0.90</td>\n",
              "    </tr>\n",
              "  </tbody>\n",
              "</table>\n",
              "</div>\n",
              "      <button class=\"colab-df-convert\" onclick=\"convertToInteractive('df-7f7850c6-09a2-4754-9eea-4176a0dfc8fd')\"\n",
              "              title=\"Convert this dataframe to an interactive table.\"\n",
              "              style=\"display:none;\">\n",
              "        \n",
              "  <svg xmlns=\"http://www.w3.org/2000/svg\" height=\"24px\"viewBox=\"0 0 24 24\"\n",
              "       width=\"24px\">\n",
              "    <path d=\"M0 0h24v24H0V0z\" fill=\"none\"/>\n",
              "    <path d=\"M18.56 5.44l.94 2.06.94-2.06 2.06-.94-2.06-.94-.94-2.06-.94 2.06-2.06.94zm-11 1L8.5 8.5l.94-2.06 2.06-.94-2.06-.94L8.5 2.5l-.94 2.06-2.06.94zm10 10l.94 2.06.94-2.06 2.06-.94-2.06-.94-.94-2.06-.94 2.06-2.06.94z\"/><path d=\"M17.41 7.96l-1.37-1.37c-.4-.4-.92-.59-1.43-.59-.52 0-1.04.2-1.43.59L10.3 9.45l-7.72 7.72c-.78.78-.78 2.05 0 2.83L4 21.41c.39.39.9.59 1.41.59.51 0 1.02-.2 1.41-.59l7.78-7.78 2.81-2.81c.8-.78.8-2.07 0-2.86zM5.41 20L4 18.59l7.72-7.72 1.47 1.35L5.41 20z\"/>\n",
              "  </svg>\n",
              "      </button>\n",
              "      \n",
              "  <style>\n",
              "    .colab-df-container {\n",
              "      display:flex;\n",
              "      flex-wrap:wrap;\n",
              "      gap: 12px;\n",
              "    }\n",
              "\n",
              "    .colab-df-convert {\n",
              "      background-color: #E8F0FE;\n",
              "      border: none;\n",
              "      border-radius: 50%;\n",
              "      cursor: pointer;\n",
              "      display: none;\n",
              "      fill: #1967D2;\n",
              "      height: 32px;\n",
              "      padding: 0 0 0 0;\n",
              "      width: 32px;\n",
              "    }\n",
              "\n",
              "    .colab-df-convert:hover {\n",
              "      background-color: #E2EBFA;\n",
              "      box-shadow: 0px 1px 2px rgba(60, 64, 67, 0.3), 0px 1px 3px 1px rgba(60, 64, 67, 0.15);\n",
              "      fill: #174EA6;\n",
              "    }\n",
              "\n",
              "    [theme=dark] .colab-df-convert {\n",
              "      background-color: #3B4455;\n",
              "      fill: #D2E3FC;\n",
              "    }\n",
              "\n",
              "    [theme=dark] .colab-df-convert:hover {\n",
              "      background-color: #434B5C;\n",
              "      box-shadow: 0px 1px 3px 1px rgba(0, 0, 0, 0.15);\n",
              "      filter: drop-shadow(0px 1px 2px rgba(0, 0, 0, 0.3));\n",
              "      fill: #FFFFFF;\n",
              "    }\n",
              "  </style>\n",
              "\n",
              "      <script>\n",
              "        const buttonEl =\n",
              "          document.querySelector('#df-7f7850c6-09a2-4754-9eea-4176a0dfc8fd button.colab-df-convert');\n",
              "        buttonEl.style.display =\n",
              "          google.colab.kernel.accessAllowed ? 'block' : 'none';\n",
              "\n",
              "        async function convertToInteractive(key) {\n",
              "          const element = document.querySelector('#df-7f7850c6-09a2-4754-9eea-4176a0dfc8fd');\n",
              "          const dataTable =\n",
              "            await google.colab.kernel.invokeFunction('convertToInteractive',\n",
              "                                                     [key], {});\n",
              "          if (!dataTable) return;\n",
              "\n",
              "          const docLinkHtml = 'Like what you see? Visit the ' +\n",
              "            '<a target=\"_blank\" href=https://colab.research.google.com/notebooks/data_table.ipynb>data table notebook</a>'\n",
              "            + ' to learn more about interactive tables.';\n",
              "          element.innerHTML = '';\n",
              "          dataTable['output_type'] = 'display_data';\n",
              "          await google.colab.output.renderOutput(dataTable, element);\n",
              "          const docLink = document.createElement('div');\n",
              "          docLink.innerHTML = docLinkHtml;\n",
              "          element.appendChild(docLink);\n",
              "        }\n",
              "      </script>\n",
              "    </div>\n",
              "  </div>\n",
              "  "
            ]
          },
          "metadata": {},
          "execution_count": 25
        }
      ]
    },
    {
      "cell_type": "markdown",
      "source": [
        "# 4. Осуществите отбор признаков на основе дисперсионного анализа:"
      ],
      "metadata": {
        "id": "j9QnKm_-Rs5T"
      }
    },
    {
      "cell_type": "markdown",
      "source": [
        "## a) Выберите 5 лучших признаков с помощью скоринговой функции для классификации f_classif (SelectKBest(f_classif, k=5))."
      ],
      "metadata": {
        "id": "a8rg6lBIRuhN"
      }
    },
    {
      "cell_type": "code",
      "source": [
        "from sklearn.feature_selection import SelectKBest\n",
        "from sklearn.feature_selection import f_classif\n",
        "selector = SelectKBest(f_classif, k=5)\n",
        "X_new = selector.fit_transform(X, y)\n",
        "method = 'SelectKBest k=5'\n",
        "cols_idxs = selector.get_support(indices=True)\n",
        "features = df.iloc[:,cols_idxs].columns.tolist()"
      ],
      "metadata": {
        "id": "1ttFf6qKRylN"
      },
      "execution_count": 26,
      "outputs": []
    },
    {
      "cell_type": "markdown",
      "source": [
        "## b) Повторите п. 2 на отобранных признаках."
      ],
      "metadata": {
        "id": "AZcpieKnR6YJ"
      }
    },
    {
      "cell_type": "code",
      "source": [
        "a=get_learn(X_new,y, random_seed=random_seed, model=LogisticRegression())\n",
        "df_results.loc[len(df_results.index)] = [method, features,  a]"
      ],
      "metadata": {
        "id": "-WYGcHqNR1xB"
      },
      "execution_count": 27,
      "outputs": []
    },
    {
      "cell_type": "code",
      "source": [
        "df_results.sort_values(by='accuracy', ascending=False)"
      ],
      "metadata": {
        "colab": {
          "base_uri": "https://localhost:8080/",
          "height": 206
        },
        "id": "rxr6y3kgRtGp",
        "outputId": "93b67a70-2e47-4f26-fbf7-e1ef89ef4d73"
      },
      "execution_count": 28,
      "outputs": [
        {
          "output_type": "execute_result",
          "data": {
            "text/plain": [
              "                   method                                           features  \\\n",
              "1                corr 0.9                                               [X2]   \n",
              "2                    MI 2                                          [X2, X15]   \n",
              "4         SelectKBest k=5                              [X2, X6, X7, X8, X15]   \n",
              "3  VarianceThreshold_1.05                    [X1, X2, X3, X8, X11, X14, X15]   \n",
              "0                baseline  [X1, X2, X3, X4, X5, X6, X7, X8, X9, X10, X11,...   \n",
              "\n",
              "   accuracy  \n",
              "1      0.96  \n",
              "2      0.96  \n",
              "4      0.96  \n",
              "3      0.94  \n",
              "0      0.90  "
            ],
            "text/html": [
              "\n",
              "  <div id=\"df-4e2c23ee-a36d-4751-b8ac-ad6637d41ae4\">\n",
              "    <div class=\"colab-df-container\">\n",
              "      <div>\n",
              "<style scoped>\n",
              "    .dataframe tbody tr th:only-of-type {\n",
              "        vertical-align: middle;\n",
              "    }\n",
              "\n",
              "    .dataframe tbody tr th {\n",
              "        vertical-align: top;\n",
              "    }\n",
              "\n",
              "    .dataframe thead th {\n",
              "        text-align: right;\n",
              "    }\n",
              "</style>\n",
              "<table border=\"1\" class=\"dataframe\">\n",
              "  <thead>\n",
              "    <tr style=\"text-align: right;\">\n",
              "      <th></th>\n",
              "      <th>method</th>\n",
              "      <th>features</th>\n",
              "      <th>accuracy</th>\n",
              "    </tr>\n",
              "  </thead>\n",
              "  <tbody>\n",
              "    <tr>\n",
              "      <th>1</th>\n",
              "      <td>corr 0.9</td>\n",
              "      <td>[X2]</td>\n",
              "      <td>0.96</td>\n",
              "    </tr>\n",
              "    <tr>\n",
              "      <th>2</th>\n",
              "      <td>MI 2</td>\n",
              "      <td>[X2, X15]</td>\n",
              "      <td>0.96</td>\n",
              "    </tr>\n",
              "    <tr>\n",
              "      <th>4</th>\n",
              "      <td>SelectKBest k=5</td>\n",
              "      <td>[X2, X6, X7, X8, X15]</td>\n",
              "      <td>0.96</td>\n",
              "    </tr>\n",
              "    <tr>\n",
              "      <th>3</th>\n",
              "      <td>VarianceThreshold_1.05</td>\n",
              "      <td>[X1, X2, X3, X8, X11, X14, X15]</td>\n",
              "      <td>0.94</td>\n",
              "    </tr>\n",
              "    <tr>\n",
              "      <th>0</th>\n",
              "      <td>baseline</td>\n",
              "      <td>[X1, X2, X3, X4, X5, X6, X7, X8, X9, X10, X11,...</td>\n",
              "      <td>0.90</td>\n",
              "    </tr>\n",
              "  </tbody>\n",
              "</table>\n",
              "</div>\n",
              "      <button class=\"colab-df-convert\" onclick=\"convertToInteractive('df-4e2c23ee-a36d-4751-b8ac-ad6637d41ae4')\"\n",
              "              title=\"Convert this dataframe to an interactive table.\"\n",
              "              style=\"display:none;\">\n",
              "        \n",
              "  <svg xmlns=\"http://www.w3.org/2000/svg\" height=\"24px\"viewBox=\"0 0 24 24\"\n",
              "       width=\"24px\">\n",
              "    <path d=\"M0 0h24v24H0V0z\" fill=\"none\"/>\n",
              "    <path d=\"M18.56 5.44l.94 2.06.94-2.06 2.06-.94-2.06-.94-.94-2.06-.94 2.06-2.06.94zm-11 1L8.5 8.5l.94-2.06 2.06-.94-2.06-.94L8.5 2.5l-.94 2.06-2.06.94zm10 10l.94 2.06.94-2.06 2.06-.94-2.06-.94-.94-2.06-.94 2.06-2.06.94z\"/><path d=\"M17.41 7.96l-1.37-1.37c-.4-.4-.92-.59-1.43-.59-.52 0-1.04.2-1.43.59L10.3 9.45l-7.72 7.72c-.78.78-.78 2.05 0 2.83L4 21.41c.39.39.9.59 1.41.59.51 0 1.02-.2 1.41-.59l7.78-7.78 2.81-2.81c.8-.78.8-2.07 0-2.86zM5.41 20L4 18.59l7.72-7.72 1.47 1.35L5.41 20z\"/>\n",
              "  </svg>\n",
              "      </button>\n",
              "      \n",
              "  <style>\n",
              "    .colab-df-container {\n",
              "      display:flex;\n",
              "      flex-wrap:wrap;\n",
              "      gap: 12px;\n",
              "    }\n",
              "\n",
              "    .colab-df-convert {\n",
              "      background-color: #E8F0FE;\n",
              "      border: none;\n",
              "      border-radius: 50%;\n",
              "      cursor: pointer;\n",
              "      display: none;\n",
              "      fill: #1967D2;\n",
              "      height: 32px;\n",
              "      padding: 0 0 0 0;\n",
              "      width: 32px;\n",
              "    }\n",
              "\n",
              "    .colab-df-convert:hover {\n",
              "      background-color: #E2EBFA;\n",
              "      box-shadow: 0px 1px 2px rgba(60, 64, 67, 0.3), 0px 1px 3px 1px rgba(60, 64, 67, 0.15);\n",
              "      fill: #174EA6;\n",
              "    }\n",
              "\n",
              "    [theme=dark] .colab-df-convert {\n",
              "      background-color: #3B4455;\n",
              "      fill: #D2E3FC;\n",
              "    }\n",
              "\n",
              "    [theme=dark] .colab-df-convert:hover {\n",
              "      background-color: #434B5C;\n",
              "      box-shadow: 0px 1px 3px 1px rgba(0, 0, 0, 0.15);\n",
              "      filter: drop-shadow(0px 1px 2px rgba(0, 0, 0, 0.3));\n",
              "      fill: #FFFFFF;\n",
              "    }\n",
              "  </style>\n",
              "\n",
              "      <script>\n",
              "        const buttonEl =\n",
              "          document.querySelector('#df-4e2c23ee-a36d-4751-b8ac-ad6637d41ae4 button.colab-df-convert');\n",
              "        buttonEl.style.display =\n",
              "          google.colab.kernel.accessAllowed ? 'block' : 'none';\n",
              "\n",
              "        async function convertToInteractive(key) {\n",
              "          const element = document.querySelector('#df-4e2c23ee-a36d-4751-b8ac-ad6637d41ae4');\n",
              "          const dataTable =\n",
              "            await google.colab.kernel.invokeFunction('convertToInteractive',\n",
              "                                                     [key], {});\n",
              "          if (!dataTable) return;\n",
              "\n",
              "          const docLinkHtml = 'Like what you see? Visit the ' +\n",
              "            '<a target=\"_blank\" href=https://colab.research.google.com/notebooks/data_table.ipynb>data table notebook</a>'\n",
              "            + ' to learn more about interactive tables.';\n",
              "          element.innerHTML = '';\n",
              "          dataTable['output_type'] = 'display_data';\n",
              "          await google.colab.output.renderOutput(dataTable, element);\n",
              "          const docLink = document.createElement('div');\n",
              "          docLink.innerHTML = docLinkHtml;\n",
              "          element.appendChild(docLink);\n",
              "        }\n",
              "      </script>\n",
              "    </div>\n",
              "  </div>\n",
              "  "
            ]
          },
          "metadata": {},
          "execution_count": 28
        }
      ]
    },
    {
      "cell_type": "markdown",
      "source": [
        "#5.  Отбор с использованием моделей:"
      ],
      "metadata": {
        "id": "UXj7ybQcR8bb"
      }
    },
    {
      "cell_type": "markdown",
      "source": [
        "## a) Реализуйте отбор признаков с помощью логистической регрессии. Отобранные признаки подайте далее на вход в саму логистическую регрессию (SelectFromModel). Используйте L1 регуляризацию."
      ],
      "metadata": {
        "id": "-kt5ZMHOSHPJ"
      }
    },
    {
      "cell_type": "code",
      "source": [
        "scaler = StandardScaler()\n",
        "X_std = scaler.fit_transform(X)\n",
        "param = {'C': [10**-2,10**-1,10**0,10**1,10**2]}\n",
        "\n",
        "lr_model = LogisticRegression(penalty='l1', solver='liblinear')\n",
        "gs_model = GridSearchCV(estimator=lr_model, param_grid=param)\n",
        "X_train_std, X_test_std, y_train, y_test = train_test_split(X_std, y, test_size=0.2, random_state=random_seed)\n",
        "gs_model.fit(X_train_std, y_train)\n",
        "\n",
        "model = LogisticRegression(**gs_model.best_params_, penalty='l1', solver='liblinear')\n",
        "model.fit(X_train_std, y_train)"
      ],
      "metadata": {
        "colab": {
          "base_uri": "https://localhost:8080/",
          "height": 75
        },
        "id": "gy0I-yq2gRYg",
        "outputId": "8a240d6c-32bb-4238-d9c9-7d5f505d5e9b"
      },
      "execution_count": 29,
      "outputs": [
        {
          "output_type": "execute_result",
          "data": {
            "text/plain": [
              "LogisticRegression(C=0.1, penalty='l1', solver='liblinear')"
            ],
            "text/html": [
              "<style>#sk-container-id-1 {color: black;background-color: white;}#sk-container-id-1 pre{padding: 0;}#sk-container-id-1 div.sk-toggleable {background-color: white;}#sk-container-id-1 label.sk-toggleable__label {cursor: pointer;display: block;width: 100%;margin-bottom: 0;padding: 0.3em;box-sizing: border-box;text-align: center;}#sk-container-id-1 label.sk-toggleable__label-arrow:before {content: \"▸\";float: left;margin-right: 0.25em;color: #696969;}#sk-container-id-1 label.sk-toggleable__label-arrow:hover:before {color: black;}#sk-container-id-1 div.sk-estimator:hover label.sk-toggleable__label-arrow:before {color: black;}#sk-container-id-1 div.sk-toggleable__content {max-height: 0;max-width: 0;overflow: hidden;text-align: left;background-color: #f0f8ff;}#sk-container-id-1 div.sk-toggleable__content pre {margin: 0.2em;color: black;border-radius: 0.25em;background-color: #f0f8ff;}#sk-container-id-1 input.sk-toggleable__control:checked~div.sk-toggleable__content {max-height: 200px;max-width: 100%;overflow: auto;}#sk-container-id-1 input.sk-toggleable__control:checked~label.sk-toggleable__label-arrow:before {content: \"▾\";}#sk-container-id-1 div.sk-estimator input.sk-toggleable__control:checked~label.sk-toggleable__label {background-color: #d4ebff;}#sk-container-id-1 div.sk-label input.sk-toggleable__control:checked~label.sk-toggleable__label {background-color: #d4ebff;}#sk-container-id-1 input.sk-hidden--visually {border: 0;clip: rect(1px 1px 1px 1px);clip: rect(1px, 1px, 1px, 1px);height: 1px;margin: -1px;overflow: hidden;padding: 0;position: absolute;width: 1px;}#sk-container-id-1 div.sk-estimator {font-family: monospace;background-color: #f0f8ff;border: 1px dotted black;border-radius: 0.25em;box-sizing: border-box;margin-bottom: 0.5em;}#sk-container-id-1 div.sk-estimator:hover {background-color: #d4ebff;}#sk-container-id-1 div.sk-parallel-item::after {content: \"\";width: 100%;border-bottom: 1px solid gray;flex-grow: 1;}#sk-container-id-1 div.sk-label:hover label.sk-toggleable__label {background-color: #d4ebff;}#sk-container-id-1 div.sk-serial::before {content: \"\";position: absolute;border-left: 1px solid gray;box-sizing: border-box;top: 0;bottom: 0;left: 50%;z-index: 0;}#sk-container-id-1 div.sk-serial {display: flex;flex-direction: column;align-items: center;background-color: white;padding-right: 0.2em;padding-left: 0.2em;position: relative;}#sk-container-id-1 div.sk-item {position: relative;z-index: 1;}#sk-container-id-1 div.sk-parallel {display: flex;align-items: stretch;justify-content: center;background-color: white;position: relative;}#sk-container-id-1 div.sk-item::before, #sk-container-id-1 div.sk-parallel-item::before {content: \"\";position: absolute;border-left: 1px solid gray;box-sizing: border-box;top: 0;bottom: 0;left: 50%;z-index: -1;}#sk-container-id-1 div.sk-parallel-item {display: flex;flex-direction: column;z-index: 1;position: relative;background-color: white;}#sk-container-id-1 div.sk-parallel-item:first-child::after {align-self: flex-end;width: 50%;}#sk-container-id-1 div.sk-parallel-item:last-child::after {align-self: flex-start;width: 50%;}#sk-container-id-1 div.sk-parallel-item:only-child::after {width: 0;}#sk-container-id-1 div.sk-dashed-wrapped {border: 1px dashed gray;margin: 0 0.4em 0.5em 0.4em;box-sizing: border-box;padding-bottom: 0.4em;background-color: white;}#sk-container-id-1 div.sk-label label {font-family: monospace;font-weight: bold;display: inline-block;line-height: 1.2em;}#sk-container-id-1 div.sk-label-container {text-align: center;}#sk-container-id-1 div.sk-container {/* jupyter's `normalize.less` sets `[hidden] { display: none; }` but bootstrap.min.css set `[hidden] { display: none !important; }` so we also need the `!important` here to be able to override the default hidden behavior on the sphinx rendered scikit-learn.org. See: https://github.com/scikit-learn/scikit-learn/issues/21755 */display: inline-block !important;position: relative;}#sk-container-id-1 div.sk-text-repr-fallback {display: none;}</style><div id=\"sk-container-id-1\" class=\"sk-top-container\"><div class=\"sk-text-repr-fallback\"><pre>LogisticRegression(C=0.1, penalty=&#x27;l1&#x27;, solver=&#x27;liblinear&#x27;)</pre><b>In a Jupyter environment, please rerun this cell to show the HTML representation or trust the notebook. <br />On GitHub, the HTML representation is unable to render, please try loading this page with nbviewer.org.</b></div><div class=\"sk-container\" hidden><div class=\"sk-item\"><div class=\"sk-estimator sk-toggleable\"><input class=\"sk-toggleable__control sk-hidden--visually\" id=\"sk-estimator-id-1\" type=\"checkbox\" checked><label for=\"sk-estimator-id-1\" class=\"sk-toggleable__label sk-toggleable__label-arrow\">LogisticRegression</label><div class=\"sk-toggleable__content\"><pre>LogisticRegression(C=0.1, penalty=&#x27;l1&#x27;, solver=&#x27;liblinear&#x27;)</pre></div></div></div></div></div>"
            ]
          },
          "metadata": {},
          "execution_count": 29
        }
      ]
    },
    {
      "cell_type": "code",
      "source": [
        "model.coef_[0]"
      ],
      "metadata": {
        "colab": {
          "base_uri": "https://localhost:8080/"
        },
        "id": "FeT-SURAjcm_",
        "outputId": "ce1c182c-d6d2-41ce-d51e-da70f27dae78"
      },
      "execution_count": 30,
      "outputs": [
        {
          "output_type": "execute_result",
          "data": {
            "text/plain": [
              "array([0.        , 1.75167724, 0.        , 0.        , 0.        ,\n",
              "       0.        , 0.        , 0.        , 0.        , 0.        ,\n",
              "       0.        , 0.        , 0.        , 0.        , 0.        ,\n",
              "       0.        , 0.        , 0.        , 0.        , 0.        ])"
            ]
          },
          "metadata": {},
          "execution_count": 30
        }
      ]
    },
    {
      "cell_type": "code",
      "source": [
        "coef = model.coef_[0]\n",
        "imp_features = pd.Series(X.columns)[list(coef!=0)]\n",
        "X_train, X_test, y_train, y_test = train_test_split(X, y, test_size=0.2, random_state=random_seed)\n",
        "X_train = X_train[imp_features]\n",
        "X_test = X_test[imp_features]"
      ],
      "metadata": {
        "id": "3O4QlTw8hX_l"
      },
      "execution_count": 31,
      "outputs": []
    },
    {
      "cell_type": "code",
      "source": [
        "\n",
        "a = get_learn(X[['X2']],y, random_seed=random_seed, model=LogisticRegression())\n",
        "method ='LR_L1_regularisation'\n",
        "df_results.loc[len(df_results.index)] = [method, imp_features.tolist(), a]"
      ],
      "metadata": {
        "id": "OEl_9FLyjyZ7"
      },
      "execution_count": 32,
      "outputs": []
    },
    {
      "cell_type": "code",
      "source": [
        "df_results.sort_values(by='accuracy', ascending=False)"
      ],
      "metadata": {
        "colab": {
          "base_uri": "https://localhost:8080/",
          "height": 238
        },
        "id": "3tnX_nNSkJh9",
        "outputId": "27e5f9be-7606-4ed8-bef2-c31eee8d9353"
      },
      "execution_count": 33,
      "outputs": [
        {
          "output_type": "execute_result",
          "data": {
            "text/plain": [
              "                   method                                           features  \\\n",
              "1                corr 0.9                                               [X2]   \n",
              "2                    MI 2                                          [X2, X15]   \n",
              "4         SelectKBest k=5                              [X2, X6, X7, X8, X15]   \n",
              "5    LR_L1_regularisation                                               [X2]   \n",
              "3  VarianceThreshold_1.05                    [X1, X2, X3, X8, X11, X14, X15]   \n",
              "0                baseline  [X1, X2, X3, X4, X5, X6, X7, X8, X9, X10, X11,...   \n",
              "\n",
              "   accuracy  \n",
              "1      0.96  \n",
              "2      0.96  \n",
              "4      0.96  \n",
              "5      0.96  \n",
              "3      0.94  \n",
              "0      0.90  "
            ],
            "text/html": [
              "\n",
              "  <div id=\"df-50331b9c-91c2-4109-98f5-70fa1fe1397f\">\n",
              "    <div class=\"colab-df-container\">\n",
              "      <div>\n",
              "<style scoped>\n",
              "    .dataframe tbody tr th:only-of-type {\n",
              "        vertical-align: middle;\n",
              "    }\n",
              "\n",
              "    .dataframe tbody tr th {\n",
              "        vertical-align: top;\n",
              "    }\n",
              "\n",
              "    .dataframe thead th {\n",
              "        text-align: right;\n",
              "    }\n",
              "</style>\n",
              "<table border=\"1\" class=\"dataframe\">\n",
              "  <thead>\n",
              "    <tr style=\"text-align: right;\">\n",
              "      <th></th>\n",
              "      <th>method</th>\n",
              "      <th>features</th>\n",
              "      <th>accuracy</th>\n",
              "    </tr>\n",
              "  </thead>\n",
              "  <tbody>\n",
              "    <tr>\n",
              "      <th>1</th>\n",
              "      <td>corr 0.9</td>\n",
              "      <td>[X2]</td>\n",
              "      <td>0.96</td>\n",
              "    </tr>\n",
              "    <tr>\n",
              "      <th>2</th>\n",
              "      <td>MI 2</td>\n",
              "      <td>[X2, X15]</td>\n",
              "      <td>0.96</td>\n",
              "    </tr>\n",
              "    <tr>\n",
              "      <th>4</th>\n",
              "      <td>SelectKBest k=5</td>\n",
              "      <td>[X2, X6, X7, X8, X15]</td>\n",
              "      <td>0.96</td>\n",
              "    </tr>\n",
              "    <tr>\n",
              "      <th>5</th>\n",
              "      <td>LR_L1_regularisation</td>\n",
              "      <td>[X2]</td>\n",
              "      <td>0.96</td>\n",
              "    </tr>\n",
              "    <tr>\n",
              "      <th>3</th>\n",
              "      <td>VarianceThreshold_1.05</td>\n",
              "      <td>[X1, X2, X3, X8, X11, X14, X15]</td>\n",
              "      <td>0.94</td>\n",
              "    </tr>\n",
              "    <tr>\n",
              "      <th>0</th>\n",
              "      <td>baseline</td>\n",
              "      <td>[X1, X2, X3, X4, X5, X6, X7, X8, X9, X10, X11,...</td>\n",
              "      <td>0.90</td>\n",
              "    </tr>\n",
              "  </tbody>\n",
              "</table>\n",
              "</div>\n",
              "      <button class=\"colab-df-convert\" onclick=\"convertToInteractive('df-50331b9c-91c2-4109-98f5-70fa1fe1397f')\"\n",
              "              title=\"Convert this dataframe to an interactive table.\"\n",
              "              style=\"display:none;\">\n",
              "        \n",
              "  <svg xmlns=\"http://www.w3.org/2000/svg\" height=\"24px\"viewBox=\"0 0 24 24\"\n",
              "       width=\"24px\">\n",
              "    <path d=\"M0 0h24v24H0V0z\" fill=\"none\"/>\n",
              "    <path d=\"M18.56 5.44l.94 2.06.94-2.06 2.06-.94-2.06-.94-.94-2.06-.94 2.06-2.06.94zm-11 1L8.5 8.5l.94-2.06 2.06-.94-2.06-.94L8.5 2.5l-.94 2.06-2.06.94zm10 10l.94 2.06.94-2.06 2.06-.94-2.06-.94-.94-2.06-.94 2.06-2.06.94z\"/><path d=\"M17.41 7.96l-1.37-1.37c-.4-.4-.92-.59-1.43-.59-.52 0-1.04.2-1.43.59L10.3 9.45l-7.72 7.72c-.78.78-.78 2.05 0 2.83L4 21.41c.39.39.9.59 1.41.59.51 0 1.02-.2 1.41-.59l7.78-7.78 2.81-2.81c.8-.78.8-2.07 0-2.86zM5.41 20L4 18.59l7.72-7.72 1.47 1.35L5.41 20z\"/>\n",
              "  </svg>\n",
              "      </button>\n",
              "      \n",
              "  <style>\n",
              "    .colab-df-container {\n",
              "      display:flex;\n",
              "      flex-wrap:wrap;\n",
              "      gap: 12px;\n",
              "    }\n",
              "\n",
              "    .colab-df-convert {\n",
              "      background-color: #E8F0FE;\n",
              "      border: none;\n",
              "      border-radius: 50%;\n",
              "      cursor: pointer;\n",
              "      display: none;\n",
              "      fill: #1967D2;\n",
              "      height: 32px;\n",
              "      padding: 0 0 0 0;\n",
              "      width: 32px;\n",
              "    }\n",
              "\n",
              "    .colab-df-convert:hover {\n",
              "      background-color: #E2EBFA;\n",
              "      box-shadow: 0px 1px 2px rgba(60, 64, 67, 0.3), 0px 1px 3px 1px rgba(60, 64, 67, 0.15);\n",
              "      fill: #174EA6;\n",
              "    }\n",
              "\n",
              "    [theme=dark] .colab-df-convert {\n",
              "      background-color: #3B4455;\n",
              "      fill: #D2E3FC;\n",
              "    }\n",
              "\n",
              "    [theme=dark] .colab-df-convert:hover {\n",
              "      background-color: #434B5C;\n",
              "      box-shadow: 0px 1px 3px 1px rgba(0, 0, 0, 0.15);\n",
              "      filter: drop-shadow(0px 1px 2px rgba(0, 0, 0, 0.3));\n",
              "      fill: #FFFFFF;\n",
              "    }\n",
              "  </style>\n",
              "\n",
              "      <script>\n",
              "        const buttonEl =\n",
              "          document.querySelector('#df-50331b9c-91c2-4109-98f5-70fa1fe1397f button.colab-df-convert');\n",
              "        buttonEl.style.display =\n",
              "          google.colab.kernel.accessAllowed ? 'block' : 'none';\n",
              "\n",
              "        async function convertToInteractive(key) {\n",
              "          const element = document.querySelector('#df-50331b9c-91c2-4109-98f5-70fa1fe1397f');\n",
              "          const dataTable =\n",
              "            await google.colab.kernel.invokeFunction('convertToInteractive',\n",
              "                                                     [key], {});\n",
              "          if (!dataTable) return;\n",
              "\n",
              "          const docLinkHtml = 'Like what you see? Visit the ' +\n",
              "            '<a target=\"_blank\" href=https://colab.research.google.com/notebooks/data_table.ipynb>data table notebook</a>'\n",
              "            + ' to learn more about interactive tables.';\n",
              "          element.innerHTML = '';\n",
              "          dataTable['output_type'] = 'display_data';\n",
              "          await google.colab.output.renderOutput(dataTable, element);\n",
              "          const docLink = document.createElement('div');\n",
              "          docLink.innerHTML = docLinkHtml;\n",
              "          element.appendChild(docLink);\n",
              "        }\n",
              "      </script>\n",
              "    </div>\n",
              "  </div>\n",
              "  "
            ]
          },
          "metadata": {},
          "execution_count": 33
        }
      ]
    },
    {
      "cell_type": "code",
      "source": [
        "from sklearn.feature_selection import SelectFromModel\n",
        "selector = SelectFromModel(estimator=LogisticRegression()).fit(X, y)\n",
        "X_new = selector.transform(X)\n",
        "method = 'SelectFromModel'\n",
        "cols_idxs = selector.get_support(indices=True)\n",
        "features = df.iloc[:,cols_idxs].columns.tolist()\n",
        "features"
      ],
      "metadata": {
        "colab": {
          "base_uri": "https://localhost:8080/"
        },
        "id": "GHZicbG0jW7d",
        "outputId": "b9025319-df75-468b-c5bd-ef8929d2937b"
      },
      "execution_count": 34,
      "outputs": [
        {
          "output_type": "execute_result",
          "data": {
            "text/plain": [
              "['X2', 'X6', 'X8', 'X15', 'X17']"
            ]
          },
          "metadata": {},
          "execution_count": 34
        }
      ]
    },
    {
      "cell_type": "code",
      "source": [
        "a = get_learn(X_new,y, random_seed=random_seed, model=LogisticRegression())\n",
        "df_results.loc[len(df_results.index)] = [method, features, a]\n"
      ],
      "metadata": {
        "id": "SBoXl6V64ng5"
      },
      "execution_count": 35,
      "outputs": []
    },
    {
      "cell_type": "code",
      "source": [
        "df_results.sort_values(by='accuracy', ascending=False)"
      ],
      "metadata": {
        "colab": {
          "base_uri": "https://localhost:8080/",
          "height": 269
        },
        "id": "AGgCdr37lA-O",
        "outputId": "e78d1a81-02b4-4640-db2e-f1204eb169dc"
      },
      "execution_count": 36,
      "outputs": [
        {
          "output_type": "execute_result",
          "data": {
            "text/plain": [
              "                   method                                           features  \\\n",
              "1                corr 0.9                                               [X2]   \n",
              "2                    MI 2                                          [X2, X15]   \n",
              "4         SelectKBest k=5                              [X2, X6, X7, X8, X15]   \n",
              "5    LR_L1_regularisation                                               [X2]   \n",
              "6         SelectFromModel                             [X2, X6, X8, X15, X17]   \n",
              "3  VarianceThreshold_1.05                    [X1, X2, X3, X8, X11, X14, X15]   \n",
              "0                baseline  [X1, X2, X3, X4, X5, X6, X7, X8, X9, X10, X11,...   \n",
              "\n",
              "   accuracy  \n",
              "1      0.96  \n",
              "2      0.96  \n",
              "4      0.96  \n",
              "5      0.96  \n",
              "6      0.96  \n",
              "3      0.94  \n",
              "0      0.90  "
            ],
            "text/html": [
              "\n",
              "  <div id=\"df-83e09167-8c29-4686-9433-def6fd12920d\">\n",
              "    <div class=\"colab-df-container\">\n",
              "      <div>\n",
              "<style scoped>\n",
              "    .dataframe tbody tr th:only-of-type {\n",
              "        vertical-align: middle;\n",
              "    }\n",
              "\n",
              "    .dataframe tbody tr th {\n",
              "        vertical-align: top;\n",
              "    }\n",
              "\n",
              "    .dataframe thead th {\n",
              "        text-align: right;\n",
              "    }\n",
              "</style>\n",
              "<table border=\"1\" class=\"dataframe\">\n",
              "  <thead>\n",
              "    <tr style=\"text-align: right;\">\n",
              "      <th></th>\n",
              "      <th>method</th>\n",
              "      <th>features</th>\n",
              "      <th>accuracy</th>\n",
              "    </tr>\n",
              "  </thead>\n",
              "  <tbody>\n",
              "    <tr>\n",
              "      <th>1</th>\n",
              "      <td>corr 0.9</td>\n",
              "      <td>[X2]</td>\n",
              "      <td>0.96</td>\n",
              "    </tr>\n",
              "    <tr>\n",
              "      <th>2</th>\n",
              "      <td>MI 2</td>\n",
              "      <td>[X2, X15]</td>\n",
              "      <td>0.96</td>\n",
              "    </tr>\n",
              "    <tr>\n",
              "      <th>4</th>\n",
              "      <td>SelectKBest k=5</td>\n",
              "      <td>[X2, X6, X7, X8, X15]</td>\n",
              "      <td>0.96</td>\n",
              "    </tr>\n",
              "    <tr>\n",
              "      <th>5</th>\n",
              "      <td>LR_L1_regularisation</td>\n",
              "      <td>[X2]</td>\n",
              "      <td>0.96</td>\n",
              "    </tr>\n",
              "    <tr>\n",
              "      <th>6</th>\n",
              "      <td>SelectFromModel</td>\n",
              "      <td>[X2, X6, X8, X15, X17]</td>\n",
              "      <td>0.96</td>\n",
              "    </tr>\n",
              "    <tr>\n",
              "      <th>3</th>\n",
              "      <td>VarianceThreshold_1.05</td>\n",
              "      <td>[X1, X2, X3, X8, X11, X14, X15]</td>\n",
              "      <td>0.94</td>\n",
              "    </tr>\n",
              "    <tr>\n",
              "      <th>0</th>\n",
              "      <td>baseline</td>\n",
              "      <td>[X1, X2, X3, X4, X5, X6, X7, X8, X9, X10, X11,...</td>\n",
              "      <td>0.90</td>\n",
              "    </tr>\n",
              "  </tbody>\n",
              "</table>\n",
              "</div>\n",
              "      <button class=\"colab-df-convert\" onclick=\"convertToInteractive('df-83e09167-8c29-4686-9433-def6fd12920d')\"\n",
              "              title=\"Convert this dataframe to an interactive table.\"\n",
              "              style=\"display:none;\">\n",
              "        \n",
              "  <svg xmlns=\"http://www.w3.org/2000/svg\" height=\"24px\"viewBox=\"0 0 24 24\"\n",
              "       width=\"24px\">\n",
              "    <path d=\"M0 0h24v24H0V0z\" fill=\"none\"/>\n",
              "    <path d=\"M18.56 5.44l.94 2.06.94-2.06 2.06-.94-2.06-.94-.94-2.06-.94 2.06-2.06.94zm-11 1L8.5 8.5l.94-2.06 2.06-.94-2.06-.94L8.5 2.5l-.94 2.06-2.06.94zm10 10l.94 2.06.94-2.06 2.06-.94-2.06-.94-.94-2.06-.94 2.06-2.06.94z\"/><path d=\"M17.41 7.96l-1.37-1.37c-.4-.4-.92-.59-1.43-.59-.52 0-1.04.2-1.43.59L10.3 9.45l-7.72 7.72c-.78.78-.78 2.05 0 2.83L4 21.41c.39.39.9.59 1.41.59.51 0 1.02-.2 1.41-.59l7.78-7.78 2.81-2.81c.8-.78.8-2.07 0-2.86zM5.41 20L4 18.59l7.72-7.72 1.47 1.35L5.41 20z\"/>\n",
              "  </svg>\n",
              "      </button>\n",
              "      \n",
              "  <style>\n",
              "    .colab-df-container {\n",
              "      display:flex;\n",
              "      flex-wrap:wrap;\n",
              "      gap: 12px;\n",
              "    }\n",
              "\n",
              "    .colab-df-convert {\n",
              "      background-color: #E8F0FE;\n",
              "      border: none;\n",
              "      border-radius: 50%;\n",
              "      cursor: pointer;\n",
              "      display: none;\n",
              "      fill: #1967D2;\n",
              "      height: 32px;\n",
              "      padding: 0 0 0 0;\n",
              "      width: 32px;\n",
              "    }\n",
              "\n",
              "    .colab-df-convert:hover {\n",
              "      background-color: #E2EBFA;\n",
              "      box-shadow: 0px 1px 2px rgba(60, 64, 67, 0.3), 0px 1px 3px 1px rgba(60, 64, 67, 0.15);\n",
              "      fill: #174EA6;\n",
              "    }\n",
              "\n",
              "    [theme=dark] .colab-df-convert {\n",
              "      background-color: #3B4455;\n",
              "      fill: #D2E3FC;\n",
              "    }\n",
              "\n",
              "    [theme=dark] .colab-df-convert:hover {\n",
              "      background-color: #434B5C;\n",
              "      box-shadow: 0px 1px 3px 1px rgba(0, 0, 0, 0.15);\n",
              "      filter: drop-shadow(0px 1px 2px rgba(0, 0, 0, 0.3));\n",
              "      fill: #FFFFFF;\n",
              "    }\n",
              "  </style>\n",
              "\n",
              "      <script>\n",
              "        const buttonEl =\n",
              "          document.querySelector('#df-83e09167-8c29-4686-9433-def6fd12920d button.colab-df-convert');\n",
              "        buttonEl.style.display =\n",
              "          google.colab.kernel.accessAllowed ? 'block' : 'none';\n",
              "\n",
              "        async function convertToInteractive(key) {\n",
              "          const element = document.querySelector('#df-83e09167-8c29-4686-9433-def6fd12920d');\n",
              "          const dataTable =\n",
              "            await google.colab.kernel.invokeFunction('convertToInteractive',\n",
              "                                                     [key], {});\n",
              "          if (!dataTable) return;\n",
              "\n",
              "          const docLinkHtml = 'Like what you see? Visit the ' +\n",
              "            '<a target=\"_blank\" href=https://colab.research.google.com/notebooks/data_table.ipynb>data table notebook</a>'\n",
              "            + ' to learn more about interactive tables.';\n",
              "          element.innerHTML = '';\n",
              "          dataTable['output_type'] = 'display_data';\n",
              "          await google.colab.output.renderOutput(dataTable, element);\n",
              "          const docLink = document.createElement('div');\n",
              "          docLink.innerHTML = docLinkHtml;\n",
              "          element.appendChild(docLink);\n",
              "        }\n",
              "      </script>\n",
              "    </div>\n",
              "  </div>\n",
              "  "
            ]
          },
          "metadata": {},
          "execution_count": 36
        }
      ]
    },
    {
      "cell_type": "markdown",
      "source": [
        "# b) Реализуйте отбор признаков с помощью модели RandomForest и встроенного атрибута feature_impotance."
      ],
      "metadata": {
        "id": "mDxjFGRDSVEg"
      }
    },
    {
      "cell_type": "code",
      "source": [
        "model = RandomForestClassifier(random_state=random_seed)\n",
        "model.fit(X, y)\n",
        "imps = pd.Series(model.feature_importances_, index=X.columns.to_list())\n",
        "features = imps.sort_values(ascending=False).head(3).index.to_list()\n",
        "features\n",
        "# features = imps.sort_values(ascending=False)\n",
        "# features.index.tolist()"
      ],
      "metadata": {
        "colab": {
          "base_uri": "https://localhost:8080/"
        },
        "id": "xAt6q2zycwer",
        "outputId": "bb754432-6ae8-406f-f72c-bc8ee534d0f4"
      },
      "execution_count": 37,
      "outputs": [
        {
          "output_type": "execute_result",
          "data": {
            "text/plain": [
              "['X2', 'X15', 'X6']"
            ]
          },
          "metadata": {},
          "execution_count": 37
        }
      ]
    },
    {
      "cell_type": "code",
      "source": [
        "plt.figure(figsize=(15, 6))\n",
        "plt.bar(np.arange(len(model.feature_importances_)), sorted(model.feature_importances_, reverse=True))\n",
        "plt.xlabel('features')\n",
        "plt.ylabel('coefs');"
      ],
      "metadata": {
        "colab": {
          "base_uri": "https://localhost:8080/",
          "height": 542
        },
        "id": "CSKJsnaNcIZD",
        "outputId": "cdaab204-2853-46e4-8ef7-5805a8c1975c"
      },
      "execution_count": 38,
      "outputs": [
        {
          "output_type": "display_data",
          "data": {
            "text/plain": [
              "<Figure size 1500x600 with 1 Axes>"
            ],
            "image/png": "[encoded data removed]"
          },
          "metadata": {}
        }
      ]
    },
    {
      "cell_type": "markdown",
      "source": [
        "# c) Повторите п. 2 на отобранных признаках в п. 5a, п. 5b."
      ],
      "metadata": {
        "id": "LogQw0uLSZTi"
      }
    },
    {
      "cell_type": "code",
      "source": [
        "a = get_learn(X[features],y, random_seed=random_seed, model=RandomForestClassifier(random_state=random_seed))\n",
        "method='RFC'\n",
        "\n",
        "df_results.loc[len(df_results.index)] = [method, features,  a]"
      ],
      "metadata": {
        "id": "pxqJbSwvbr1L"
      },
      "execution_count": 39,
      "outputs": []
    },
    {
      "cell_type": "code",
      "source": [
        "df_results.sort_values(by='accuracy', ascending=False)"
      ],
      "metadata": {
        "colab": {
          "base_uri": "https://localhost:8080/",
          "height": 300
        },
        "id": "BP6dZ0AZSeII",
        "outputId": "931215bf-8f82-4005-84b9-dbb0592de0d7"
      },
      "execution_count": 40,
      "outputs": [
        {
          "output_type": "execute_result",
          "data": {
            "text/plain": [
              "                   method                                           features  \\\n",
              "1                corr 0.9                                               [X2]   \n",
              "2                    MI 2                                          [X2, X15]   \n",
              "4         SelectKBest k=5                              [X2, X6, X7, X8, X15]   \n",
              "5    LR_L1_regularisation                                               [X2]   \n",
              "6         SelectFromModel                             [X2, X6, X8, X15, X17]   \n",
              "7                     RFC                                      [X2, X15, X6]   \n",
              "3  VarianceThreshold_1.05                    [X1, X2, X3, X8, X11, X14, X15]   \n",
              "0                baseline  [X1, X2, X3, X4, X5, X6, X7, X8, X9, X10, X11,...   \n",
              "\n",
              "   accuracy  \n",
              "1      0.96  \n",
              "2      0.96  \n",
              "4      0.96  \n",
              "5      0.96  \n",
              "6      0.96  \n",
              "7      0.96  \n",
              "3      0.94  \n",
              "0      0.90  "
            ],
            "text/html": [
              "\n",
              "  <div id=\"df-5ea98bc0-7409-47d9-b13f-14fbb348850b\">\n",
              "    <div class=\"colab-df-container\">\n",
              "      <div>\n",
              "<style scoped>\n",
              "    .dataframe tbody tr th:only-of-type {\n",
              "        vertical-align: middle;\n",
              "    }\n",
              "\n",
              "    .dataframe tbody tr th {\n",
              "        vertical-align: top;\n",
              "    }\n",
              "\n",
              "    .dataframe thead th {\n",
              "        text-align: right;\n",
              "    }\n",
              "</style>\n",
              "<table border=\"1\" class=\"dataframe\">\n",
              "  <thead>\n",
              "    <tr style=\"text-align: right;\">\n",
              "      <th></th>\n",
              "      <th>method</th>\n",
              "      <th>features</th>\n",
              "      <th>accuracy</th>\n",
              "    </tr>\n",
              "  </thead>\n",
              "  <tbody>\n",
              "    <tr>\n",
              "      <th>1</th>\n",
              "      <td>corr 0.9</td>\n",
              "      <td>[X2]</td>\n",
              "      <td>0.96</td>\n",
              "    </tr>\n",
              "    <tr>\n",
              "      <th>2</th>\n",
              "      <td>MI 2</td>\n",
              "      <td>[X2, X15]</td>\n",
              "      <td>0.96</td>\n",
              "    </tr>\n",
              "    <tr>\n",
              "      <th>4</th>\n",
              "      <td>SelectKBest k=5</td>\n",
              "      <td>[X2, X6, X7, X8, X15]</td>\n",
              "      <td>0.96</td>\n",
              "    </tr>\n",
              "    <tr>\n",
              "      <th>5</th>\n",
              "      <td>LR_L1_regularisation</td>\n",
              "      <td>[X2]</td>\n",
              "      <td>0.96</td>\n",
              "    </tr>\n",
              "    <tr>\n",
              "      <th>6</th>\n",
              "      <td>SelectFromModel</td>\n",
              "      <td>[X2, X6, X8, X15, X17]</td>\n",
              "      <td>0.96</td>\n",
              "    </tr>\n",
              "    <tr>\n",
              "      <th>7</th>\n",
              "      <td>RFC</td>\n",
              "      <td>[X2, X15, X6]</td>\n",
              "      <td>0.96</td>\n",
              "    </tr>\n",
              "    <tr>\n",
              "      <th>3</th>\n",
              "      <td>VarianceThreshold_1.05</td>\n",
              "      <td>[X1, X2, X3, X8, X11, X14, X15]</td>\n",
              "      <td>0.94</td>\n",
              "    </tr>\n",
              "    <tr>\n",
              "      <th>0</th>\n",
              "      <td>baseline</td>\n",
              "      <td>[X1, X2, X3, X4, X5, X6, X7, X8, X9, X10, X11,...</td>\n",
              "      <td>0.90</td>\n",
              "    </tr>\n",
              "  </tbody>\n",
              "</table>\n",
              "</div>\n",
              "      <button class=\"colab-df-convert\" onclick=\"convertToInteractive('df-5ea98bc0-7409-47d9-b13f-14fbb348850b')\"\n",
              "              title=\"Convert this dataframe to an interactive table.\"\n",
              "              style=\"display:none;\">\n",
              "        \n",
              "  <svg xmlns=\"http://www.w3.org/2000/svg\" height=\"24px\"viewBox=\"0 0 24 24\"\n",
              "       width=\"24px\">\n",
              "    <path d=\"M0 0h24v24H0V0z\" fill=\"none\"/>\n",
              "    <path d=\"M18.56 5.44l.94 2.06.94-2.06 2.06-.94-2.06-.94-.94-2.06-.94 2.06-2.06.94zm-11 1L8.5 8.5l.94-2.06 2.06-.94-2.06-.94L8.5 2.5l-.94 2.06-2.06.94zm10 10l.94 2.06.94-2.06 2.06-.94-2.06-.94-.94-2.06-.94 2.06-2.06.94z\"/><path d=\"M17.41 7.96l-1.37-1.37c-.4-.4-.92-.59-1.43-.59-.52 0-1.04.2-1.43.59L10.3 9.45l-7.72 7.72c-.78.78-.78 2.05 0 2.83L4 21.41c.39.39.9.59 1.41.59.51 0 1.02-.2 1.41-.59l7.78-7.78 2.81-2.81c.8-.78.8-2.07 0-2.86zM5.41 20L4 18.59l7.72-7.72 1.47 1.35L5.41 20z\"/>\n",
              "  </svg>\n",
              "      </button>\n",
              "      \n",
              "  <style>\n",
              "    .colab-df-container {\n",
              "      display:flex;\n",
              "      flex-wrap:wrap;\n",
              "      gap: 12px;\n",
              "    }\n",
              "\n",
              "    .colab-df-convert {\n",
              "      background-color: #E8F0FE;\n",
              "      border: none;\n",
              "      border-radius: 50%;\n",
              "      cursor: pointer;\n",
              "      display: none;\n",
              "      fill: #1967D2;\n",
              "      height: 32px;\n",
              "      padding: 0 0 0 0;\n",
              "      width: 32px;\n",
              "    }\n",
              "\n",
              "    .colab-df-convert:hover {\n",
              "      background-color: #E2EBFA;\n",
              "      box-shadow: 0px 1px 2px rgba(60, 64, 67, 0.3), 0px 1px 3px 1px rgba(60, 64, 67, 0.15);\n",
              "      fill: #174EA6;\n",
              "    }\n",
              "\n",
              "    [theme=dark] .colab-df-convert {\n",
              "      background-color: #3B4455;\n",
              "      fill: #D2E3FC;\n",
              "    }\n",
              "\n",
              "    [theme=dark] .colab-df-convert:hover {\n",
              "      background-color: #434B5C;\n",
              "      box-shadow: 0px 1px 3px 1px rgba(0, 0, 0, 0.15);\n",
              "      filter: drop-shadow(0px 1px 2px rgba(0, 0, 0, 0.3));\n",
              "      fill: #FFFFFF;\n",
              "    }\n",
              "  </style>\n",
              "\n",
              "      <script>\n",
              "        const buttonEl =\n",
              "          document.querySelector('#df-5ea98bc0-7409-47d9-b13f-14fbb348850b button.colab-df-convert');\n",
              "        buttonEl.style.display =\n",
              "          google.colab.kernel.accessAllowed ? 'block' : 'none';\n",
              "\n",
              "        async function convertToInteractive(key) {\n",
              "          const element = document.querySelector('#df-5ea98bc0-7409-47d9-b13f-14fbb348850b');\n",
              "          const dataTable =\n",
              "            await google.colab.kernel.invokeFunction('convertToInteractive',\n",
              "                                                     [key], {});\n",
              "          if (!dataTable) return;\n",
              "\n",
              "          const docLinkHtml = 'Like what you see? Visit the ' +\n",
              "            '<a target=\"_blank\" href=https://colab.research.google.com/notebooks/data_table.ipynb>data table notebook</a>'\n",
              "            + ' to learn more about interactive tables.';\n",
              "          element.innerHTML = '';\n",
              "          dataTable['output_type'] = 'display_data';\n",
              "          await google.colab.output.renderOutput(dataTable, element);\n",
              "          const docLink = document.createElement('div');\n",
              "          docLink.innerHTML = docLinkHtml;\n",
              "          element.appendChild(docLink);\n",
              "        }\n",
              "      </script>\n",
              "    </div>\n",
              "  </div>\n",
              "  "
            ]
          },
          "metadata": {},
          "execution_count": 40
        }
      ]
    },
    {
      "cell_type": "code",
      "source": [
        "from sklearn.inspection import permutation_importance\n",
        "res = permutation_importance(model, X, y)\n"
      ],
      "metadata": {
        "id": "5q96oHTn8XQ2"
      },
      "execution_count": 41,
      "outputs": []
    },
    {
      "cell_type": "code",
      "source": [
        "from sklearn.feature_selection import RFE\n",
        "X_train, X_test, y_train, y_test = train_test_split(X, y, test_size=0.2, random_state=random_seed)\n",
        "selector = RFE(model, n_features_to_select=1, step=1)\n",
        "selector = selector.fit(X_train, y_train)\n",
        "selector.support_ #Это отобранные признаки\n",
        "features = selector.get_feature_names_out(X.columns).tolist() # Это названия отобранных признаков\n"
      ],
      "metadata": {
        "id": "rPnA6qS8_hiQ"
      },
      "execution_count": 42,
      "outputs": []
    },
    {
      "cell_type": "code",
      "source": [
        "X_rfe=selector.transform(X)\n",
        "a = cross_val_score(model, X[features], y, scoring='accuracy').mean()\n",
        "method='RFC_RFE'\n",
        "df_results.loc[len(df_results.index)] = [method, features,  a]\n"
      ],
      "metadata": {
        "id": "euoDOo01_zmG"
      },
      "execution_count": 43,
      "outputs": []
    },
    {
      "cell_type": "markdown",
      "source": [
        "# 6. Перебор признаков:"
      ],
      "metadata": {
        "id": "P836FKOiSg_U"
      }
    },
    {
      "cell_type": "markdown",
      "source": [
        "## a) SequentialFeatureSelector."
      ],
      "metadata": {
        "id": "o-VRP-4ySlOe"
      }
    },
    {
      "cell_type": "code",
      "source": [
        "from sklearn.feature_selection import SequentialFeatureSelector\n",
        "from sklearn.neighbors import KNeighborsClassifier\n",
        "knn = KNeighborsClassifier(n_neighbors=3)\n",
        "feature_names = X.columns\n",
        "sfs = SequentialFeatureSelector(knn, n_features_to_select=5, direction='backward')\n",
        "sfs.fit(X, y)\n",
        "features = feature_names[sfs.get_support()].tolist()\n",
        "print(\n",
        "    \"Features selected by forward sequential selection: \"\n",
        "    f\"{features}\"\n",
        ")"
      ],
      "metadata": {
        "colab": {
          "base_uri": "https://localhost:8080/"
        },
        "id": "tp_DxWE4Skwi",
        "outputId": "fcd20acb-e919-4832-cd84-db88fc77894d"
      },
      "execution_count": 52,
      "outputs": [
        {
          "output_type": "stream",
          "name": "stdout",
          "text": [
            "Features selected by forward sequential selection: ['X2', 'X6', 'X10', 'X13', 'X15']\n"
          ]
        }
      ]
    },
    {
      "cell_type": "markdown",
      "source": [
        "## b) Повторите п. 2 на отобранных признаках."
      ],
      "metadata": {
        "id": "yDR-SbQdSpXS"
      }
    },
    {
      "cell_type": "code",
      "source": [
        "a = get_learn(X[features] ,y, random_seed=random_seed, model=LogisticRegression())  \n",
        "method='LR_SequentialFeatureSelector_backward'\n",
        "df_results.loc[len(df_results.index)] = [method, features,  a]"
      ],
      "metadata": {
        "id": "fkIpOxxNStsM"
      },
      "execution_count": 53,
      "outputs": []
    },
    {
      "cell_type": "markdown",
      "source": [
        "# 7. Сформулируйте выводы по проделанной работе:\n"
      ],
      "metadata": {
        "id": "QT3670qVSyB5"
      }
    },
    {
      "cell_type": "markdown",
      "source": [
        "## a) Сделайте таблицу вида |способ выбора признаков|количество признаков|средняя точность модели|."
      ],
      "metadata": {
        "id": "6QSFFm8ES3Ca"
      }
    },
    {
      "cell_type": "code",
      "source": [
        "df_results.head(25).sort_values(by=['accuracy'], ascending=False).style\\\n",
        "         .format(precision=4, subset=['accuracy']) \\\n",
        "         .highlight_null(null_color='lightgrey') \\\n",
        " .highlight_max(color='yellowgreen', subset=[ 'accuracy']) \\\n",
        " .highlight_min(color='coral', subset=[ 'accuracy']) "
      ],
      "metadata": {
        "colab": {
          "base_uri": "https://localhost:8080/",
          "height": 394
        },
        "id": "0kJJ5Ixtpacg",
        "outputId": "273a54eb-c8a1-4f47-a04d-9f202a650c74"
      },
      "execution_count": 54,
      "outputs": [
        {
          "output_type": "execute_result",
          "data": {
            "text/plain": [
              "<pandas.io.formats.style.Styler at 0x7faaa62b9e80>"
            ],
            "text/html": [
              "<style type=\"text/css\">\n",
              "#T_139fc_row0_col2, #T_139fc_row1_col2, #T_139fc_row2_col2, #T_139fc_row3_col2, #T_139fc_row4_col2, #T_139fc_row5_col2, #T_139fc_row6_col2 {\n",
              "  background-color: yellowgreen;\n",
              "}\n",
              "#T_139fc_row10_col2 {\n",
              "  background-color: coral;\n",
              "}\n",
              "</style>\n",
              "<table id=\"T_139fc\" class=\"dataframe\">\n",
              "  <thead>\n",
              "    <tr>\n",
              "      <th class=\"blank level0\" >&nbsp;</th>\n",
              "      <th id=\"T_139fc_level0_col0\" class=\"col_heading level0 col0\" >method</th>\n",
              "      <th id=\"T_139fc_level0_col1\" class=\"col_heading level0 col1\" >features</th>\n",
              "      <th id=\"T_139fc_level0_col2\" class=\"col_heading level0 col2\" >accuracy</th>\n",
              "    </tr>\n",
              "  </thead>\n",
              "  <tbody>\n",
              "    <tr>\n",
              "      <th id=\"T_139fc_level0_row0\" class=\"row_heading level0 row0\" >1</th>\n",
              "      <td id=\"T_139fc_row0_col0\" class=\"data row0 col0\" >corr 0.9</td>\n",
              "      <td id=\"T_139fc_row0_col1\" class=\"data row0 col1\" >['X2']</td>\n",
              "      <td id=\"T_139fc_row0_col2\" class=\"data row0 col2\" >0.9600</td>\n",
              "    </tr>\n",
              "    <tr>\n",
              "      <th id=\"T_139fc_level0_row1\" class=\"row_heading level0 row1\" >2</th>\n",
              "      <td id=\"T_139fc_row1_col0\" class=\"data row1 col0\" >MI 2</td>\n",
              "      <td id=\"T_139fc_row1_col1\" class=\"data row1 col1\" >['X2', 'X15']</td>\n",
              "      <td id=\"T_139fc_row1_col2\" class=\"data row1 col2\" >0.9600</td>\n",
              "    </tr>\n",
              "    <tr>\n",
              "      <th id=\"T_139fc_level0_row2\" class=\"row_heading level0 row2\" >4</th>\n",
              "      <td id=\"T_139fc_row2_col0\" class=\"data row2 col0\" >SelectKBest k=5</td>\n",
              "      <td id=\"T_139fc_row2_col1\" class=\"data row2 col1\" >['X2', 'X6', 'X7', 'X8', 'X15']</td>\n",
              "      <td id=\"T_139fc_row2_col2\" class=\"data row2 col2\" >0.9600</td>\n",
              "    </tr>\n",
              "    <tr>\n",
              "      <th id=\"T_139fc_level0_row3\" class=\"row_heading level0 row3\" >5</th>\n",
              "      <td id=\"T_139fc_row3_col0\" class=\"data row3 col0\" >LR_L1_regularisation</td>\n",
              "      <td id=\"T_139fc_row3_col1\" class=\"data row3 col1\" >['X2']</td>\n",
              "      <td id=\"T_139fc_row3_col2\" class=\"data row3 col2\" >0.9600</td>\n",
              "    </tr>\n",
              "    <tr>\n",
              "      <th id=\"T_139fc_level0_row4\" class=\"row_heading level0 row4\" >6</th>\n",
              "      <td id=\"T_139fc_row4_col0\" class=\"data row4 col0\" >SelectFromModel</td>\n",
              "      <td id=\"T_139fc_row4_col1\" class=\"data row4 col1\" >['X2', 'X6', 'X8', 'X15', 'X17']</td>\n",
              "      <td id=\"T_139fc_row4_col2\" class=\"data row4 col2\" >0.9600</td>\n",
              "    </tr>\n",
              "    <tr>\n",
              "      <th id=\"T_139fc_level0_row5\" class=\"row_heading level0 row5\" >7</th>\n",
              "      <td id=\"T_139fc_row5_col0\" class=\"data row5 col0\" >RFC</td>\n",
              "      <td id=\"T_139fc_row5_col1\" class=\"data row5 col1\" >['X2', 'X15', 'X6']</td>\n",
              "      <td id=\"T_139fc_row5_col2\" class=\"data row5 col2\" >0.9600</td>\n",
              "    </tr>\n",
              "    <tr>\n",
              "      <th id=\"T_139fc_level0_row6\" class=\"row_heading level0 row6\" >8</th>\n",
              "      <td id=\"T_139fc_row6_col0\" class=\"data row6 col0\" >RFC_RFE</td>\n",
              "      <td id=\"T_139fc_row6_col1\" class=\"data row6 col1\" >['X2']</td>\n",
              "      <td id=\"T_139fc_row6_col2\" class=\"data row6 col2\" >0.9600</td>\n",
              "    </tr>\n",
              "    <tr>\n",
              "      <th id=\"T_139fc_level0_row7\" class=\"row_heading level0 row7\" >9</th>\n",
              "      <td id=\"T_139fc_row7_col0\" class=\"data row7 col0\" >LR_SequentialFeatureSelector</td>\n",
              "      <td id=\"T_139fc_row7_col1\" class=\"data row7 col1\" >['X2', 'X4', 'X6', 'X10', 'X15']</td>\n",
              "      <td id=\"T_139fc_row7_col2\" class=\"data row7 col2\" >0.9500</td>\n",
              "    </tr>\n",
              "    <tr>\n",
              "      <th id=\"T_139fc_level0_row8\" class=\"row_heading level0 row8\" >10</th>\n",
              "      <td id=\"T_139fc_row8_col0\" class=\"data row8 col0\" >LR_SequentialFeatureSelector_backward</td>\n",
              "      <td id=\"T_139fc_row8_col1\" class=\"data row8 col1\" >['X2', 'X6', 'X10', 'X13', 'X15']</td>\n",
              "      <td id=\"T_139fc_row8_col2\" class=\"data row8 col2\" >0.9500</td>\n",
              "    </tr>\n",
              "    <tr>\n",
              "      <th id=\"T_139fc_level0_row9\" class=\"row_heading level0 row9\" >3</th>\n",
              "      <td id=\"T_139fc_row9_col0\" class=\"data row9 col0\" >VarianceThreshold_1.05</td>\n",
              "      <td id=\"T_139fc_row9_col1\" class=\"data row9 col1\" >['X1', 'X2', 'X3', 'X8', 'X11', 'X14', 'X15']</td>\n",
              "      <td id=\"T_139fc_row9_col2\" class=\"data row9 col2\" >0.9400</td>\n",
              "    </tr>\n",
              "    <tr>\n",
              "      <th id=\"T_139fc_level0_row10\" class=\"row_heading level0 row10\" >0</th>\n",
              "      <td id=\"T_139fc_row10_col0\" class=\"data row10 col0\" >baseline</td>\n",
              "      <td id=\"T_139fc_row10_col1\" class=\"data row10 col1\" >['X1', 'X2', 'X3', 'X4', 'X5', 'X6', 'X7', 'X8', 'X9', 'X10', 'X11', 'X12', 'X13', 'X14', 'X15', 'X16', 'X17', 'X18', 'X19', 'X20']</td>\n",
              "      <td id=\"T_139fc_row10_col2\" class=\"data row10 col2\" >0.9000</td>\n",
              "    </tr>\n",
              "  </tbody>\n",
              "</table>\n"
            ]
          },
          "metadata": {},
          "execution_count": 54
        }
      ]
    },
    {
      "cell_type": "markdown",
      "source": [
        "Правильный отбор признаков может существенно повлиять на точность модели. Во всех вариантах отбора признаков фигурирует X2, и достаточно оказалось использовать тоьлко этот признак, чтобы обеспечить хорошую accuracy"
      ],
      "metadata": {
        "id": "akkhtG99qFYs"
      }
    }
  ]
}