{
  "nbformat": 4,
  "nbformat_minor": 0,
  "metadata": {
    "colab": {
      "provenance": [],
      "authorship_tag": "ABX9TyM7o8va0Z6XB3AnjtTKIVO1",
      "include_colab_link": true
    },
    "kernelspec": {
      "name": "python3",
      "display_name": "Python 3"
    },
    "language_info": {
      "name": "python"
    }
  },
  "cells": [
    {
      "cell_type": "markdown",
      "metadata": {
        "id": "view-in-github",
        "colab_type": "text"
      },
      "source": [
        "<a href=\"https://colab.research.google.com/github/solobala/FEML23/blob/master/FEML23_DZ3_1.ipynb\" target=\"_parent\"><img src=\"https://colab.research.google.com/assets/colab-badge.svg\" alt=\"Open In Colab\"/></a>"
      ]
    },
    {
      "cell_type": "markdown",
      "source": [
        "# Домашняя работа «Оценка точности модели, переобучение, регуляризация» обновленное"
      ],
      "metadata": {
        "id": "IWlOhigz8A3_"
      }
    },
    {
      "cell_type": "markdown",
      "source": [
        "## Цель: закрепить знания о математическом смысле метрик TPR, FPR. Изучить построение ROC-кривой, графика Precision-Recall.\n",
        "Описание задания:\n",
        "Решить задачу классификации при помощи обучения модели логистической регрессии. Качество модели оценивается путем подсчета метрик TPR, FPR и построения графиков ROC-кривой, Precision-Recall. Данные для обучения модели хранятся в файле athletes.csv, который можно найти в материалах к занятию."
      ],
      "metadata": {
        "id": "Yqba30SM8H-V"
      }
    },
    {
      "cell_type": "markdown",
      "source": [
        "**target - пол спортсмена. **"
      ],
      "metadata": {
        "id": "VJ7Ts7NVQq4l"
      }
    },
    {
      "cell_type": "markdown",
      "source": [
        "## Этапы работы:"
      ],
      "metadata": {
        "id": "SK0DoDD38NR6"
      }
    },
    {
      "cell_type": "markdown",
      "source": [
        "### Импорт библиотек и загрузка датасета"
      ],
      "metadata": {
        "id": "pJJaGjvD8aNo"
      }
    },
    {
      "cell_type": "code",
      "source": [
        "from zipfile import ZipFile # Загрузка данных\n",
        "import fnmatch\n",
        "import os\n",
        "import numpy as np\n",
        "import pandas as pd\n",
        "\n",
        "from datetime import datetime,timedelta\n",
        "from dateutil.parser import parse as du_parse\n",
        "from dateutil.relativedelta import relativedelta\n",
        "\n",
        "import scipy.stats as sts\n",
        "\n",
        "from sklearn.linear_model import LogisticRegression\n",
        "from sklearn.model_selection import train_test_split\n",
        "\n",
        "\n",
        "from sklearn.model_selection import  RandomizedSearchCV # библиотека для оптимизации гиперпараметров\n",
        "from sklearn.impute import SimpleImputer # библиотека для заполнения пропусков  в данных\n",
        "from sklearn.preprocessing import LabelEncoder, OneHotEncoder # библиотека для кодирования категриальных переменных\n",
        "from sklearn.preprocessing import StandardScaler # библиотека для нормализации номинальных признаков\n",
        "from sklearn.pipeline import Pipeline\n",
        "from sklearn.compose import ColumnTransformer\n",
        "from sklearn.feature_selection import SelectPercentile, chi2\n",
        "\n",
        "from sklearn.metrics import average_precision_score\n",
        "from sklearn.metrics import accuracy_score\n",
        "from sklearn.metrics import balanced_accuracy_score\n",
        "from sklearn.metrics import precision_score\n",
        "from sklearn.model_selection import cross_val_score\n",
        "\n",
        "\n",
        "import matplotlib.pyplot as plt\n",
        "\n",
        "np.random.seed(0)"
      ],
      "metadata": {
        "id": "Zo1ino-E8d5c"
      },
      "execution_count": null,
      "outputs": []
    },
    {
      "cell_type": "code",
      "source": [
        "!wget -O\"dz_3.zip\" \"https://u.netology.ru/backend/uploads/lms/attachments/files/data/26021/ноутбук_и_дополнительнае_материалы-_Оценка_точности_модели__переобучение__регуляризация.zip\"   # Качаем архив выбранного датасета\n",
        "\n",
        "with ZipFile('dz_3.zip', 'r') as zip_file:  \n",
        "    print(zip_file.infolist())\n",
        "    for item in zip_file.infolist():\n",
        "      if fnmatch.fnmatch(item.filename, '*athletes.csv'):\n",
        "\n",
        "        zip_file.extract(item.filename)\n",
        "        os.rename(item.filename,\"athletes.csv\")"
      ],
      "metadata": {
        "colab": {
          "base_uri": "https://localhost:8080/"
        },
        "id": "22iUksjYAIp5",
        "outputId": "681a721e-b146-4001-a30b-e9ef4b56a6ad"
      },
      "execution_count": null,
      "outputs": [
        {
          "output_type": "stream",
          "name": "stdout",
          "text": [
            "--2023-03-31 17:30:48--  https://u.netology.ru/backend/uploads/lms/attachments/files/data/26021/%D0%BD%D0%BE%D1%83%D1%82%D0%B1%D1%83%D0%BA_%D0%B8_%D0%B4%D0%BE%D0%BF%D0%BE%D0%BB%D0%BD%D0%B8%D1%82%D0%B5%D0%BB%D1%8C%D0%BD%D0%B0%D0%B5_%D0%BC%D0%B0%D1%82%D0%B5%D1%80%D0%B8%D0%B0%D0%BB%D1%8B-_%D0%9E%D1%86%D0%B5%D0%BD%D0%BA%D0%B0_%D1%82%D0%BE%D1%87%D0%BD%D0%BE%D1%81%D1%82%D0%B8_%D0%BC%D0%BE%D0%B4%D0%B5%D0%BB%D0%B8__%D0%BF%D0%B5%D1%80%D0%B5%D0%BE%D0%B1%D1%83%D1%87%D0%B5%D0%BD%D0%B8%D0%B5__%D1%80%D0%B5%D0%B3%D1%83%D0%BB%D1%8F%D1%80%D0%B8%D0%B7%D0%B0%D1%86%D0%B8%D1%8F.zip\n",
            "Resolving u.netology.ru (u.netology.ru)... 213.180.193.247, 2a02:6b8::1da\n",
            "Connecting to u.netology.ru (u.netology.ru)|213.180.193.247|:443... connected.\n",
            "HTTP request sent, awaiting response... 200 OK\n",
            "Length: 1005262 (982K) [application/x-zip-compressed]\n",
            "Saving to: ‘dz_3.zip’\n",
            "\n",
            "dz_3.zip            100%[===================>] 981.70K  1.23MB/s    in 0.8s    \n",
            "\n",
            "2023-03-31 17:30:50 (1.23 MB/s) - ‘dz_3.zip’ saved [1005262/1005262]\n",
            "\n",
            "[<ZipInfo filename='adult.csv' compress_type=deflate external_attr=0x20 file_size=5326368 compress_size=604807>, <ZipInfo filename='affair_data.csv' compress_type=deflate external_attr=0x20 file_size=231435 compress_size=24733>, <ZipInfo filename='athletes.csv' compress_type=deflate external_attr=0x20 file_size=764969 compress_size=267856>, <ZipInfo filename='athletes_classifier.ipynb' compress_type=deflate external_attr=0x20 file_size=35062 compress_size=12043>, <ZipInfo filename='cross_val_score.ipynb' compress_type=deflate external_attr=0x20 file_size=24178 compress_size=4877>, <ZipInfo filename='Logres_affair.ipynb' compress_type=deflate external_attr=0x20 file_size=285712 compress_size=90050>]\n"
          ]
        }
      ]
    },
    {
      "cell_type": "markdown",
      "source": [
        "### 1. Преобразование данных"
      ],
      "metadata": {
        "id": "vBzYtBZp8gXa"
      }
    },
    {
      "cell_type": "code",
      "source": [
        "data = pd.read_csv('athletes.csv')\n",
        "data.head()"
      ],
      "metadata": {
        "colab": {
          "base_uri": "https://localhost:8080/",
          "height": 206
        },
        "id": "VpU3Gyb7DqWo",
        "outputId": "f8993caa-6433-4cd1-fc61-f017597020ec"
      },
      "execution_count": null,
      "outputs": [
        {
          "output_type": "execute_result",
          "data": {
            "text/plain": [
              "          id            name nationality     sex       dob  height  weight  \\\n",
              "0  736041664  A Jesus Garcia         ESP    male  10/17/69    1.72    64.0   \n",
              "1  532037425      A Lam Shin         KOR  female   9/23/86    1.68    56.0   \n",
              "2  435962603     Aaron Brown         CAN    male   5/27/92    1.98    79.0   \n",
              "3  521041435      Aaron Cook         MDA    male    1/2/91    1.83    80.0   \n",
              "4   33922579      Aaron Gate         NZL    male  11/26/90    1.81    71.0   \n",
              "\n",
              "       sport  gold  silver  bronze  \n",
              "0  athletics     0       0       0  \n",
              "1    fencing     0       0       0  \n",
              "2  athletics     0       0       1  \n",
              "3  taekwondo     0       0       0  \n",
              "4    cycling     0       0       0  "
            ],
            "text/html": [
              "\n",
              "  <div id=\"df-ff50815f-b57c-4dfa-858e-d59771c64391\">\n",
              "    <div class=\"colab-df-container\">\n",
              "      <div>\n",
              "<style scoped>\n",
              "    .dataframe tbody tr th:only-of-type {\n",
              "        vertical-align: middle;\n",
              "    }\n",
              "\n",
              "    .dataframe tbody tr th {\n",
              "        vertical-align: top;\n",
              "    }\n",
              "\n",
              "    .dataframe thead th {\n",
              "        text-align: right;\n",
              "    }\n",
              "</style>\n",
              "<table border=\"1\" class=\"dataframe\">\n",
              "  <thead>\n",
              "    <tr style=\"text-align: right;\">\n",
              "      <th></th>\n",
              "      <th>id</th>\n",
              "      <th>name</th>\n",
              "      <th>nationality</th>\n",
              "      <th>sex</th>\n",
              "      <th>dob</th>\n",
              "      <th>height</th>\n",
              "      <th>weight</th>\n",
              "      <th>sport</th>\n",
              "      <th>gold</th>\n",
              "      <th>silver</th>\n",
              "      <th>bronze</th>\n",
              "    </tr>\n",
              "  </thead>\n",
              "  <tbody>\n",
              "    <tr>\n",
              "      <th>0</th>\n",
              "      <td>736041664</td>\n",
              "      <td>A Jesus Garcia</td>\n",
              "      <td>ESP</td>\n",
              "      <td>male</td>\n",
              "      <td>10/17/69</td>\n",
              "      <td>1.72</td>\n",
              "      <td>64.0</td>\n",
              "      <td>athletics</td>\n",
              "      <td>0</td>\n",
              "      <td>0</td>\n",
              "      <td>0</td>\n",
              "    </tr>\n",
              "    <tr>\n",
              "      <th>1</th>\n",
              "      <td>532037425</td>\n",
              "      <td>A Lam Shin</td>\n",
              "      <td>KOR</td>\n",
              "      <td>female</td>\n",
              "      <td>9/23/86</td>\n",
              "      <td>1.68</td>\n",
              "      <td>56.0</td>\n",
              "      <td>fencing</td>\n",
              "      <td>0</td>\n",
              "      <td>0</td>\n",
              "      <td>0</td>\n",
              "    </tr>\n",
              "    <tr>\n",
              "      <th>2</th>\n",
              "      <td>435962603</td>\n",
              "      <td>Aaron Brown</td>\n",
              "      <td>CAN</td>\n",
              "      <td>male</td>\n",
              "      <td>5/27/92</td>\n",
              "      <td>1.98</td>\n",
              "      <td>79.0</td>\n",
              "      <td>athletics</td>\n",
              "      <td>0</td>\n",
              "      <td>0</td>\n",
              "      <td>1</td>\n",
              "    </tr>\n",
              "    <tr>\n",
              "      <th>3</th>\n",
              "      <td>521041435</td>\n",
              "      <td>Aaron Cook</td>\n",
              "      <td>MDA</td>\n",
              "      <td>male</td>\n",
              "      <td>1/2/91</td>\n",
              "      <td>1.83</td>\n",
              "      <td>80.0</td>\n",
              "      <td>taekwondo</td>\n",
              "      <td>0</td>\n",
              "      <td>0</td>\n",
              "      <td>0</td>\n",
              "    </tr>\n",
              "    <tr>\n",
              "      <th>4</th>\n",
              "      <td>33922579</td>\n",
              "      <td>Aaron Gate</td>\n",
              "      <td>NZL</td>\n",
              "      <td>male</td>\n",
              "      <td>11/26/90</td>\n",
              "      <td>1.81</td>\n",
              "      <td>71.0</td>\n",
              "      <td>cycling</td>\n",
              "      <td>0</td>\n",
              "      <td>0</td>\n",
              "      <td>0</td>\n",
              "    </tr>\n",
              "  </tbody>\n",
              "</table>\n",
              "</div>\n",
              "      <button class=\"colab-df-convert\" onclick=\"convertToInteractive('df-ff50815f-b57c-4dfa-858e-d59771c64391')\"\n",
              "              title=\"Convert this dataframe to an interactive table.\"\n",
              "              style=\"display:none;\">\n",
              "        \n",
              "  <svg xmlns=\"http://www.w3.org/2000/svg\" height=\"24px\"viewBox=\"0 0 24 24\"\n",
              "       width=\"24px\">\n",
              "    <path d=\"M0 0h24v24H0V0z\" fill=\"none\"/>\n",
              "    <path d=\"M18.56 5.44l.94 2.06.94-2.06 2.06-.94-2.06-.94-.94-2.06-.94 2.06-2.06.94zm-11 1L8.5 8.5l.94-2.06 2.06-.94-2.06-.94L8.5 2.5l-.94 2.06-2.06.94zm10 10l.94 2.06.94-2.06 2.06-.94-2.06-.94-.94-2.06-.94 2.06-2.06.94z\"/><path d=\"M17.41 7.96l-1.37-1.37c-.4-.4-.92-.59-1.43-.59-.52 0-1.04.2-1.43.59L10.3 9.45l-7.72 7.72c-.78.78-.78 2.05 0 2.83L4 21.41c.39.39.9.59 1.41.59.51 0 1.02-.2 1.41-.59l7.78-7.78 2.81-2.81c.8-.78.8-2.07 0-2.86zM5.41 20L4 18.59l7.72-7.72 1.47 1.35L5.41 20z\"/>\n",
              "  </svg>\n",
              "      </button>\n",
              "      \n",
              "  <style>\n",
              "    .colab-df-container {\n",
              "      display:flex;\n",
              "      flex-wrap:wrap;\n",
              "      gap: 12px;\n",
              "    }\n",
              "\n",
              "    .colab-df-convert {\n",
              "      background-color: #E8F0FE;\n",
              "      border: none;\n",
              "      border-radius: 50%;\n",
              "      cursor: pointer;\n",
              "      display: none;\n",
              "      fill: #1967D2;\n",
              "      height: 32px;\n",
              "      padding: 0 0 0 0;\n",
              "      width: 32px;\n",
              "    }\n",
              "\n",
              "    .colab-df-convert:hover {\n",
              "      background-color: #E2EBFA;\n",
              "      box-shadow: 0px 1px 2px rgba(60, 64, 67, 0.3), 0px 1px 3px 1px rgba(60, 64, 67, 0.15);\n",
              "      fill: #174EA6;\n",
              "    }\n",
              "\n",
              "    [theme=dark] .colab-df-convert {\n",
              "      background-color: #3B4455;\n",
              "      fill: #D2E3FC;\n",
              "    }\n",
              "\n",
              "    [theme=dark] .colab-df-convert:hover {\n",
              "      background-color: #434B5C;\n",
              "      box-shadow: 0px 1px 3px 1px rgba(0, 0, 0, 0.15);\n",
              "      filter: drop-shadow(0px 1px 2px rgba(0, 0, 0, 0.3));\n",
              "      fill: #FFFFFF;\n",
              "    }\n",
              "  </style>\n",
              "\n",
              "      <script>\n",
              "        const buttonEl =\n",
              "          document.querySelector('#df-ff50815f-b57c-4dfa-858e-d59771c64391 button.colab-df-convert');\n",
              "        buttonEl.style.display =\n",
              "          google.colab.kernel.accessAllowed ? 'block' : 'none';\n",
              "\n",
              "        async function convertToInteractive(key) {\n",
              "          const element = document.querySelector('#df-ff50815f-b57c-4dfa-858e-d59771c64391');\n",
              "          const dataTable =\n",
              "            await google.colab.kernel.invokeFunction('convertToInteractive',\n",
              "                                                     [key], {});\n",
              "          if (!dataTable) return;\n",
              "\n",
              "          const docLinkHtml = 'Like what you see? Visit the ' +\n",
              "            '<a target=\"_blank\" href=https://colab.research.google.com/notebooks/data_table.ipynb>data table notebook</a>'\n",
              "            + ' to learn more about interactive tables.';\n",
              "          element.innerHTML = '';\n",
              "          dataTable['output_type'] = 'display_data';\n",
              "          await google.colab.output.renderOutput(dataTable, element);\n",
              "          const docLink = document.createElement('div');\n",
              "          docLink.innerHTML = docLinkHtml;\n",
              "          element.appendChild(docLink);\n",
              "        }\n",
              "      </script>\n",
              "    </div>\n",
              "  </div>\n",
              "  "
            ]
          },
          "metadata": {},
          "execution_count": 3
        }
      ]
    },
    {
      "cell_type": "code",
      "source": [
        "data.info()"
      ],
      "metadata": {
        "colab": {
          "base_uri": "https://localhost:8080/"
        },
        "id": "C3XaI_5WDvy2",
        "outputId": "0180c99a-20df-494e-8d84-d7af5f65f904"
      },
      "execution_count": null,
      "outputs": [
        {
          "output_type": "stream",
          "name": "stdout",
          "text": [
            "<class 'pandas.core.frame.DataFrame'>\n",
            "RangeIndex: 11538 entries, 0 to 11537\n",
            "Data columns (total 11 columns):\n",
            " #   Column       Non-Null Count  Dtype  \n",
            "---  ------       --------------  -----  \n",
            " 0   id           11538 non-null  int64  \n",
            " 1   name         11538 non-null  object \n",
            " 2   nationality  11538 non-null  object \n",
            " 3   sex          11538 non-null  object \n",
            " 4   dob          11537 non-null  object \n",
            " 5   height       11208 non-null  float64\n",
            " 6   weight       10879 non-null  float64\n",
            " 7   sport        11538 non-null  object \n",
            " 8   gold         11538 non-null  int64  \n",
            " 9   silver       11538 non-null  int64  \n",
            " 10  bronze       11538 non-null  int64  \n",
            "dtypes: float64(2), int64(4), object(5)\n",
            "memory usage: 991.7+ KB\n"
          ]
        }
      ]
    },
    {
      "cell_type": "code",
      "source": [
        "data = data.drop_duplicates()\n",
        "data.shape # дубликатов нет"
      ],
      "metadata": {
        "colab": {
          "base_uri": "https://localhost:8080/"
        },
        "id": "l0piO4ahD12k",
        "outputId": "906a0c5e-d86b-4950-b622-ed1a39877fad"
      },
      "execution_count": null,
      "outputs": [
        {
          "output_type": "execute_result",
          "data": {
            "text/plain": [
              "(11538, 11)"
            ]
          },
          "metadata": {},
          "execution_count": 5
        }
      ]
    },
    {
      "cell_type": "code",
      "source": [
        "# пропуски - в столбцах height, weight и dob - составляют менее 6%\n",
        "len(data[pd.isnull( data['height']) | pd.isnull(data['weight']) | pd.isnull(data['dob']) ])/data.shape[0]*100"
      ],
      "metadata": {
        "colab": {
          "base_uri": "https://localhost:8080/"
        },
        "id": "wb0TMYuz83sB",
        "outputId": "70889055-85d3-41c4-fd6f-a39e594b6acd"
      },
      "execution_count": null,
      "outputs": [
        {
          "output_type": "execute_result",
          "data": {
            "text/plain": [
              "5.893569076096377"
            ]
          },
          "metadata": {},
          "execution_count": 6
        }
      ]
    },
    {
      "cell_type": "code",
      "source": [
        "# Категориальные features - определяем по типу object. Вместе с target их 9\n",
        "cat_features = data.select_dtypes(\"object\").columns\n",
        "print(*cat_features, sep=\", \")"
      ],
      "metadata": {
        "colab": {
          "base_uri": "https://localhost:8080/"
        },
        "id": "TVOPIoOJELbs",
        "outputId": "76669d8c-79cb-4076-ee0e-7de159577254"
      },
      "execution_count": null,
      "outputs": [
        {
          "output_type": "stream",
          "name": "stdout",
          "text": [
            "name, nationality, sex, dob, sport\n"
          ]
        }
      ]
    },
    {
      "cell_type": "code",
      "source": [
        "# Количественные features - определяем по типу numeric\n",
        "numerical_features = data.select_dtypes(\"number\").columns\n",
        "print(*numerical_features, sep=\", \")"
      ],
      "metadata": {
        "colab": {
          "base_uri": "https://localhost:8080/"
        },
        "id": "ua328ABvESj_",
        "outputId": "910b1de7-41cf-4a3c-ef1a-bda341ca592f"
      },
      "execution_count": null,
      "outputs": [
        {
          "output_type": "stream",
          "name": "stdout",
          "text": [
            "id, height, weight, gold, silver, bronze\n"
          ]
        }
      ]
    },
    {
      "cell_type": "markdown",
      "source": [
        "#### Работа с пропусками"
      ],
      "metadata": {
        "id": "Lk1SEhL_8ukN"
      }
    },
    {
      "cell_type": "markdown",
      "source": [
        "Удалим строки, в которых пропущены значения 2 и более признаков. Далее сделаем дополнительный столбец 'imt' - индекс массы тела. Заполняем пропущенные значения, используем библиотеку SimpleImputer"
      ],
      "metadata": {
        "id": "BsDSEhxTG8mp"
      }
    },
    {
      "cell_type": "code",
      "source": [
        "data[pd.isnull(data['dob'])].head()"
      ],
      "metadata": {
        "colab": {
          "base_uri": "https://localhost:8080/",
          "height": 81
        },
        "id": "GDhig6paJv1z",
        "outputId": "736f396f-0a58-4f30-ee18-e43fca577878"
      },
      "execution_count": null,
      "outputs": [
        {
          "output_type": "execute_result",
          "data": {
            "text/plain": [
              "             id           name nationality   sex  dob  height  weight  \\\n",
              "8546  663676373  Pavel Sozykin         RUS  male  NaN     NaN     NaN   \n",
              "\n",
              "        sport  gold  silver  bronze  \n",
              "8546  sailing     0       0       0  "
            ],
            "text/html": [
              "\n",
              "  <div id=\"df-d025c218-48a6-4ead-8bf5-db23cc26eb68\">\n",
              "    <div class=\"colab-df-container\">\n",
              "      <div>\n",
              "<style scoped>\n",
              "    .dataframe tbody tr th:only-of-type {\n",
              "        vertical-align: middle;\n",
              "    }\n",
              "\n",
              "    .dataframe tbody tr th {\n",
              "        vertical-align: top;\n",
              "    }\n",
              "\n",
              "    .dataframe thead th {\n",
              "        text-align: right;\n",
              "    }\n",
              "</style>\n",
              "<table border=\"1\" class=\"dataframe\">\n",
              "  <thead>\n",
              "    <tr style=\"text-align: right;\">\n",
              "      <th></th>\n",
              "      <th>id</th>\n",
              "      <th>name</th>\n",
              "      <th>nationality</th>\n",
              "      <th>sex</th>\n",
              "      <th>dob</th>\n",
              "      <th>height</th>\n",
              "      <th>weight</th>\n",
              "      <th>sport</th>\n",
              "      <th>gold</th>\n",
              "      <th>silver</th>\n",
              "      <th>bronze</th>\n",
              "    </tr>\n",
              "  </thead>\n",
              "  <tbody>\n",
              "    <tr>\n",
              "      <th>8546</th>\n",
              "      <td>663676373</td>\n",
              "      <td>Pavel Sozykin</td>\n",
              "      <td>RUS</td>\n",
              "      <td>male</td>\n",
              "      <td>NaN</td>\n",
              "      <td>NaN</td>\n",
              "      <td>NaN</td>\n",
              "      <td>sailing</td>\n",
              "      <td>0</td>\n",
              "      <td>0</td>\n",
              "      <td>0</td>\n",
              "    </tr>\n",
              "  </tbody>\n",
              "</table>\n",
              "</div>\n",
              "      <button class=\"colab-df-convert\" onclick=\"convertToInteractive('df-d025c218-48a6-4ead-8bf5-db23cc26eb68')\"\n",
              "              title=\"Convert this dataframe to an interactive table.\"\n",
              "              style=\"display:none;\">\n",
              "        \n",
              "  <svg xmlns=\"http://www.w3.org/2000/svg\" height=\"24px\"viewBox=\"0 0 24 24\"\n",
              "       width=\"24px\">\n",
              "    <path d=\"M0 0h24v24H0V0z\" fill=\"none\"/>\n",
              "    <path d=\"M18.56 5.44l.94 2.06.94-2.06 2.06-.94-2.06-.94-.94-2.06-.94 2.06-2.06.94zm-11 1L8.5 8.5l.94-2.06 2.06-.94-2.06-.94L8.5 2.5l-.94 2.06-2.06.94zm10 10l.94 2.06.94-2.06 2.06-.94-2.06-.94-.94-2.06-.94 2.06-2.06.94z\"/><path d=\"M17.41 7.96l-1.37-1.37c-.4-.4-.92-.59-1.43-.59-.52 0-1.04.2-1.43.59L10.3 9.45l-7.72 7.72c-.78.78-.78 2.05 0 2.83L4 21.41c.39.39.9.59 1.41.59.51 0 1.02-.2 1.41-.59l7.78-7.78 2.81-2.81c.8-.78.8-2.07 0-2.86zM5.41 20L4 18.59l7.72-7.72 1.47 1.35L5.41 20z\"/>\n",
              "  </svg>\n",
              "      </button>\n",
              "      \n",
              "  <style>\n",
              "    .colab-df-container {\n",
              "      display:flex;\n",
              "      flex-wrap:wrap;\n",
              "      gap: 12px;\n",
              "    }\n",
              "\n",
              "    .colab-df-convert {\n",
              "      background-color: #E8F0FE;\n",
              "      border: none;\n",
              "      border-radius: 50%;\n",
              "      cursor: pointer;\n",
              "      display: none;\n",
              "      fill: #1967D2;\n",
              "      height: 32px;\n",
              "      padding: 0 0 0 0;\n",
              "      width: 32px;\n",
              "    }\n",
              "\n",
              "    .colab-df-convert:hover {\n",
              "      background-color: #E2EBFA;\n",
              "      box-shadow: 0px 1px 2px rgba(60, 64, 67, 0.3), 0px 1px 3px 1px rgba(60, 64, 67, 0.15);\n",
              "      fill: #174EA6;\n",
              "    }\n",
              "\n",
              "    [theme=dark] .colab-df-convert {\n",
              "      background-color: #3B4455;\n",
              "      fill: #D2E3FC;\n",
              "    }\n",
              "\n",
              "    [theme=dark] .colab-df-convert:hover {\n",
              "      background-color: #434B5C;\n",
              "      box-shadow: 0px 1px 3px 1px rgba(0, 0, 0, 0.15);\n",
              "      filter: drop-shadow(0px 1px 2px rgba(0, 0, 0, 0.3));\n",
              "      fill: #FFFFFF;\n",
              "    }\n",
              "  </style>\n",
              "\n",
              "      <script>\n",
              "        const buttonEl =\n",
              "          document.querySelector('#df-d025c218-48a6-4ead-8bf5-db23cc26eb68 button.colab-df-convert');\n",
              "        buttonEl.style.display =\n",
              "          google.colab.kernel.accessAllowed ? 'block' : 'none';\n",
              "\n",
              "        async function convertToInteractive(key) {\n",
              "          const element = document.querySelector('#df-d025c218-48a6-4ead-8bf5-db23cc26eb68');\n",
              "          const dataTable =\n",
              "            await google.colab.kernel.invokeFunction('convertToInteractive',\n",
              "                                                     [key], {});\n",
              "          if (!dataTable) return;\n",
              "\n",
              "          const docLinkHtml = 'Like what you see? Visit the ' +\n",
              "            '<a target=\"_blank\" href=https://colab.research.google.com/notebooks/data_table.ipynb>data table notebook</a>'\n",
              "            + ' to learn more about interactive tables.';\n",
              "          element.innerHTML = '';\n",
              "          dataTable['output_type'] = 'display_data';\n",
              "          await google.colab.output.renderOutput(dataTable, element);\n",
              "          const docLink = document.createElement('div');\n",
              "          docLink.innerHTML = docLinkHtml;\n",
              "          element.appendChild(docLink);\n",
              "        }\n",
              "      </script>\n",
              "    </div>\n",
              "  </div>\n",
              "  "
            ]
          },
          "metadata": {},
          "execution_count": 9
        }
      ]
    },
    {
      "cell_type": "code",
      "source": [
        "# В этой строке стразу 3 пропуска, и она такая одна. Просто удалим ее\n",
        "data = data.drop(index=8546)"
      ],
      "metadata": {
        "id": "_mCpiB2-KY8c"
      },
      "execution_count": null,
      "outputs": []
    },
    {
      "cell_type": "code",
      "source": [
        "def age(x):\n",
        "  a = datetime.strptime(x,'%m/%d/%y')\n",
        "  delta = timedelta(days=36520, \n",
        "                           seconds=0, \n",
        "                           microseconds=0, \n",
        "                           milliseconds=0, \n",
        "                           minutes=0, \n",
        "                           hours=0, \n",
        "                           weeks=0)\n",
        "  if a.year > datetime.today().year:\n",
        "    a-=delta\n",
        "  return datetime.today().year-a.year"
      ],
      "metadata": {
        "id": "5uVA4p-Utqrh"
      },
      "execution_count": null,
      "outputs": []
    },
    {
      "cell_type": "code",
      "source": [
        "# введем еще один признак - возраст ( это номинальный, который заменит порядковый dob)\n",
        "data['age'] = data['dob'].apply(age)\n",
        "data.drop(columns=['dob'], inplace=True)\n",
        "data.head()"
      ],
      "metadata": {
        "colab": {
          "base_uri": "https://localhost:8080/",
          "height": 206
        },
        "id": "wSQYfpXToExd",
        "outputId": "40418b46-c0c1-4e5d-c208-eb5a95ac7cbd"
      },
      "execution_count": null,
      "outputs": [
        {
          "output_type": "execute_result",
          "data": {
            "text/plain": [
              "          id            name nationality     sex  height  weight      sport  \\\n",
              "0  736041664  A Jesus Garcia         ESP    male    1.72    64.0  athletics   \n",
              "1  532037425      A Lam Shin         KOR  female    1.68    56.0    fencing   \n",
              "2  435962603     Aaron Brown         CAN    male    1.98    79.0  athletics   \n",
              "3  521041435      Aaron Cook         MDA    male    1.83    80.0  taekwondo   \n",
              "4   33922579      Aaron Gate         NZL    male    1.81    71.0    cycling   \n",
              "\n",
              "   gold  silver  bronze  age  \n",
              "0     0       0       0   54  \n",
              "1     0       0       0   37  \n",
              "2     0       0       1   31  \n",
              "3     0       0       0   32  \n",
              "4     0       0       0   33  "
            ],
            "text/html": [
              "\n",
              "  <div id=\"df-14fb64f3-025a-4dfc-965a-43ba7d19fe9e\">\n",
              "    <div class=\"colab-df-container\">\n",
              "      <div>\n",
              "<style scoped>\n",
              "    .dataframe tbody tr th:only-of-type {\n",
              "        vertical-align: middle;\n",
              "    }\n",
              "\n",
              "    .dataframe tbody tr th {\n",
              "        vertical-align: top;\n",
              "    }\n",
              "\n",
              "    .dataframe thead th {\n",
              "        text-align: right;\n",
              "    }\n",
              "</style>\n",
              "<table border=\"1\" class=\"dataframe\">\n",
              "  <thead>\n",
              "    <tr style=\"text-align: right;\">\n",
              "      <th></th>\n",
              "      <th>id</th>\n",
              "      <th>name</th>\n",
              "      <th>nationality</th>\n",
              "      <th>sex</th>\n",
              "      <th>height</th>\n",
              "      <th>weight</th>\n",
              "      <th>sport</th>\n",
              "      <th>gold</th>\n",
              "      <th>silver</th>\n",
              "      <th>bronze</th>\n",
              "      <th>age</th>\n",
              "    </tr>\n",
              "  </thead>\n",
              "  <tbody>\n",
              "    <tr>\n",
              "      <th>0</th>\n",
              "      <td>736041664</td>\n",
              "      <td>A Jesus Garcia</td>\n",
              "      <td>ESP</td>\n",
              "      <td>male</td>\n",
              "      <td>1.72</td>\n",
              "      <td>64.0</td>\n",
              "      <td>athletics</td>\n",
              "      <td>0</td>\n",
              "      <td>0</td>\n",
              "      <td>0</td>\n",
              "      <td>54</td>\n",
              "    </tr>\n",
              "    <tr>\n",
              "      <th>1</th>\n",
              "      <td>532037425</td>\n",
              "      <td>A Lam Shin</td>\n",
              "      <td>KOR</td>\n",
              "      <td>female</td>\n",
              "      <td>1.68</td>\n",
              "      <td>56.0</td>\n",
              "      <td>fencing</td>\n",
              "      <td>0</td>\n",
              "      <td>0</td>\n",
              "      <td>0</td>\n",
              "      <td>37</td>\n",
              "    </tr>\n",
              "    <tr>\n",
              "      <th>2</th>\n",
              "      <td>435962603</td>\n",
              "      <td>Aaron Brown</td>\n",
              "      <td>CAN</td>\n",
              "      <td>male</td>\n",
              "      <td>1.98</td>\n",
              "      <td>79.0</td>\n",
              "      <td>athletics</td>\n",
              "      <td>0</td>\n",
              "      <td>0</td>\n",
              "      <td>1</td>\n",
              "      <td>31</td>\n",
              "    </tr>\n",
              "    <tr>\n",
              "      <th>3</th>\n",
              "      <td>521041435</td>\n",
              "      <td>Aaron Cook</td>\n",
              "      <td>MDA</td>\n",
              "      <td>male</td>\n",
              "      <td>1.83</td>\n",
              "      <td>80.0</td>\n",
              "      <td>taekwondo</td>\n",
              "      <td>0</td>\n",
              "      <td>0</td>\n",
              "      <td>0</td>\n",
              "      <td>32</td>\n",
              "    </tr>\n",
              "    <tr>\n",
              "      <th>4</th>\n",
              "      <td>33922579</td>\n",
              "      <td>Aaron Gate</td>\n",
              "      <td>NZL</td>\n",
              "      <td>male</td>\n",
              "      <td>1.81</td>\n",
              "      <td>71.0</td>\n",
              "      <td>cycling</td>\n",
              "      <td>0</td>\n",
              "      <td>0</td>\n",
              "      <td>0</td>\n",
              "      <td>33</td>\n",
              "    </tr>\n",
              "  </tbody>\n",
              "</table>\n",
              "</div>\n",
              "      <button class=\"colab-df-convert\" onclick=\"convertToInteractive('df-14fb64f3-025a-4dfc-965a-43ba7d19fe9e')\"\n",
              "              title=\"Convert this dataframe to an interactive table.\"\n",
              "              style=\"display:none;\">\n",
              "        \n",
              "  <svg xmlns=\"http://www.w3.org/2000/svg\" height=\"24px\"viewBox=\"0 0 24 24\"\n",
              "       width=\"24px\">\n",
              "    <path d=\"M0 0h24v24H0V0z\" fill=\"none\"/>\n",
              "    <path d=\"M18.56 5.44l.94 2.06.94-2.06 2.06-.94-2.06-.94-.94-2.06-.94 2.06-2.06.94zm-11 1L8.5 8.5l.94-2.06 2.06-.94-2.06-.94L8.5 2.5l-.94 2.06-2.06.94zm10 10l.94 2.06.94-2.06 2.06-.94-2.06-.94-.94-2.06-.94 2.06-2.06.94z\"/><path d=\"M17.41 7.96l-1.37-1.37c-.4-.4-.92-.59-1.43-.59-.52 0-1.04.2-1.43.59L10.3 9.45l-7.72 7.72c-.78.78-.78 2.05 0 2.83L4 21.41c.39.39.9.59 1.41.59.51 0 1.02-.2 1.41-.59l7.78-7.78 2.81-2.81c.8-.78.8-2.07 0-2.86zM5.41 20L4 18.59l7.72-7.72 1.47 1.35L5.41 20z\"/>\n",
              "  </svg>\n",
              "      </button>\n",
              "      \n",
              "  <style>\n",
              "    .colab-df-container {\n",
              "      display:flex;\n",
              "      flex-wrap:wrap;\n",
              "      gap: 12px;\n",
              "    }\n",
              "\n",
              "    .colab-df-convert {\n",
              "      background-color: #E8F0FE;\n",
              "      border: none;\n",
              "      border-radius: 50%;\n",
              "      cursor: pointer;\n",
              "      display: none;\n",
              "      fill: #1967D2;\n",
              "      height: 32px;\n",
              "      padding: 0 0 0 0;\n",
              "      width: 32px;\n",
              "    }\n",
              "\n",
              "    .colab-df-convert:hover {\n",
              "      background-color: #E2EBFA;\n",
              "      box-shadow: 0px 1px 2px rgba(60, 64, 67, 0.3), 0px 1px 3px 1px rgba(60, 64, 67, 0.15);\n",
              "      fill: #174EA6;\n",
              "    }\n",
              "\n",
              "    [theme=dark] .colab-df-convert {\n",
              "      background-color: #3B4455;\n",
              "      fill: #D2E3FC;\n",
              "    }\n",
              "\n",
              "    [theme=dark] .colab-df-convert:hover {\n",
              "      background-color: #434B5C;\n",
              "      box-shadow: 0px 1px 3px 1px rgba(0, 0, 0, 0.15);\n",
              "      filter: drop-shadow(0px 1px 2px rgba(0, 0, 0, 0.3));\n",
              "      fill: #FFFFFF;\n",
              "    }\n",
              "  </style>\n",
              "\n",
              "      <script>\n",
              "        const buttonEl =\n",
              "          document.querySelector('#df-14fb64f3-025a-4dfc-965a-43ba7d19fe9e button.colab-df-convert');\n",
              "        buttonEl.style.display =\n",
              "          google.colab.kernel.accessAllowed ? 'block' : 'none';\n",
              "\n",
              "        async function convertToInteractive(key) {\n",
              "          const element = document.querySelector('#df-14fb64f3-025a-4dfc-965a-43ba7d19fe9e');\n",
              "          const dataTable =\n",
              "            await google.colab.kernel.invokeFunction('convertToInteractive',\n",
              "                                                     [key], {});\n",
              "          if (!dataTable) return;\n",
              "\n",
              "          const docLinkHtml = 'Like what you see? Visit the ' +\n",
              "            '<a target=\"_blank\" href=https://colab.research.google.com/notebooks/data_table.ipynb>data table notebook</a>'\n",
              "            + ' to learn more about interactive tables.';\n",
              "          element.innerHTML = '';\n",
              "          dataTable['output_type'] = 'display_data';\n",
              "          await google.colab.output.renderOutput(dataTable, element);\n",
              "          const docLink = document.createElement('div');\n",
              "          docLink.innerHTML = docLinkHtml;\n",
              "          element.appendChild(docLink);\n",
              "        }\n",
              "      </script>\n",
              "    </div>\n",
              "  </div>\n",
              "  "
            ]
          },
          "metadata": {},
          "execution_count": 12
        }
      ]
    },
    {
      "cell_type": "code",
      "source": [
        "# удалим также строки, где одновременно пропущены и рост, и вес (сколько их?) Менее 3 %\n",
        "len(data[pd.isnull( data['height']) & pd.isnull(data['weight'])])/data.shape[0]*100"
      ],
      "metadata": {
        "colab": {
          "base_uri": "https://localhost:8080/"
        },
        "id": "cHxNoQJAIvNP",
        "outputId": "8557ae8c-f2eb-4887-fb26-5835dd847ea2"
      },
      "execution_count": null,
      "outputs": [
        {
          "output_type": "execute_result",
          "data": {
            "text/plain": [
              "2.669671491722285"
            ]
          },
          "metadata": {},
          "execution_count": 13
        }
      ]
    },
    {
      "cell_type": "code",
      "source": [
        "data = data[~(pd.isnull( data['height']) & pd.isnull(data['weight']))]"
      ],
      "metadata": {
        "id": "SXc9IbkDkFen"
      },
      "execution_count": null,
      "outputs": []
    },
    {
      "cell_type": "code",
      "source": [
        "data.info()\n"
      ],
      "metadata": {
        "colab": {
          "base_uri": "https://localhost:8080/"
        },
        "id": "1_GNuaMSxmip",
        "outputId": "dfba3e6c-fdc5-4e7d-e1c7-084d811f084b"
      },
      "execution_count": null,
      "outputs": [
        {
          "output_type": "stream",
          "name": "stdout",
          "text": [
            "<class 'pandas.core.frame.DataFrame'>\n",
            "Int64Index: 11229 entries, 0 to 11537\n",
            "Data columns (total 11 columns):\n",
            " #   Column       Non-Null Count  Dtype  \n",
            "---  ------       --------------  -----  \n",
            " 0   id           11229 non-null  int64  \n",
            " 1   name         11229 non-null  object \n",
            " 2   nationality  11229 non-null  object \n",
            " 3   sex          11229 non-null  object \n",
            " 4   height       11208 non-null  float64\n",
            " 5   weight       10879 non-null  float64\n",
            " 6   sport        11229 non-null  object \n",
            " 7   gold         11229 non-null  int64  \n",
            " 8   silver       11229 non-null  int64  \n",
            " 9   bronze       11229 non-null  int64  \n",
            " 10  age          11229 non-null  int64  \n",
            "dtypes: float64(2), int64(5), object(4)\n",
            "memory usage: 1.0+ MB\n"
          ]
        }
      ]
    },
    {
      "cell_type": "markdown",
      "source": [
        "#### Работа с номинальными признаками"
      ],
      "metadata": {
        "id": "HNXJMlXeXw4W"
      }
    },
    {
      "cell_type": "code",
      "source": [
        "data.head()"
      ],
      "metadata": {
        "colab": {
          "base_uri": "https://localhost:8080/",
          "height": 206
        },
        "id": "PgNqGM0X102F",
        "outputId": "e0daf103-ab47-4bee-ecf6-580587e78cae"
      },
      "execution_count": null,
      "outputs": [
        {
          "output_type": "execute_result",
          "data": {
            "text/plain": [
              "          id            name nationality     sex  height  weight      sport  \\\n",
              "0  736041664  A Jesus Garcia         ESP    male    1.72    64.0  athletics   \n",
              "1  532037425      A Lam Shin         KOR  female    1.68    56.0    fencing   \n",
              "2  435962603     Aaron Brown         CAN    male    1.98    79.0  athletics   \n",
              "3  521041435      Aaron Cook         MDA    male    1.83    80.0  taekwondo   \n",
              "4   33922579      Aaron Gate         NZL    male    1.81    71.0    cycling   \n",
              "\n",
              "   gold  silver  bronze  age  \n",
              "0     0       0       0   54  \n",
              "1     0       0       0   37  \n",
              "2     0       0       1   31  \n",
              "3     0       0       0   32  \n",
              "4     0       0       0   33  "
            ],
            "text/html": [
              "\n",
              "  <div id=\"df-26332532-4f59-4fa7-8bf6-6503215285eb\">\n",
              "    <div class=\"colab-df-container\">\n",
              "      <div>\n",
              "<style scoped>\n",
              "    .dataframe tbody tr th:only-of-type {\n",
              "        vertical-align: middle;\n",
              "    }\n",
              "\n",
              "    .dataframe tbody tr th {\n",
              "        vertical-align: top;\n",
              "    }\n",
              "\n",
              "    .dataframe thead th {\n",
              "        text-align: right;\n",
              "    }\n",
              "</style>\n",
              "<table border=\"1\" class=\"dataframe\">\n",
              "  <thead>\n",
              "    <tr style=\"text-align: right;\">\n",
              "      <th></th>\n",
              "      <th>id</th>\n",
              "      <th>name</th>\n",
              "      <th>nationality</th>\n",
              "      <th>sex</th>\n",
              "      <th>height</th>\n",
              "      <th>weight</th>\n",
              "      <th>sport</th>\n",
              "      <th>gold</th>\n",
              "      <th>silver</th>\n",
              "      <th>bronze</th>\n",
              "      <th>age</th>\n",
              "    </tr>\n",
              "  </thead>\n",
              "  <tbody>\n",
              "    <tr>\n",
              "      <th>0</th>\n",
              "      <td>736041664</td>\n",
              "      <td>A Jesus Garcia</td>\n",
              "      <td>ESP</td>\n",
              "      <td>male</td>\n",
              "      <td>1.72</td>\n",
              "      <td>64.0</td>\n",
              "      <td>athletics</td>\n",
              "      <td>0</td>\n",
              "      <td>0</td>\n",
              "      <td>0</td>\n",
              "      <td>54</td>\n",
              "    </tr>\n",
              "    <tr>\n",
              "      <th>1</th>\n",
              "      <td>532037425</td>\n",
              "      <td>A Lam Shin</td>\n",
              "      <td>KOR</td>\n",
              "      <td>female</td>\n",
              "      <td>1.68</td>\n",
              "      <td>56.0</td>\n",
              "      <td>fencing</td>\n",
              "      <td>0</td>\n",
              "      <td>0</td>\n",
              "      <td>0</td>\n",
              "      <td>37</td>\n",
              "    </tr>\n",
              "    <tr>\n",
              "      <th>2</th>\n",
              "      <td>435962603</td>\n",
              "      <td>Aaron Brown</td>\n",
              "      <td>CAN</td>\n",
              "      <td>male</td>\n",
              "      <td>1.98</td>\n",
              "      <td>79.0</td>\n",
              "      <td>athletics</td>\n",
              "      <td>0</td>\n",
              "      <td>0</td>\n",
              "      <td>1</td>\n",
              "      <td>31</td>\n",
              "    </tr>\n",
              "    <tr>\n",
              "      <th>3</th>\n",
              "      <td>521041435</td>\n",
              "      <td>Aaron Cook</td>\n",
              "      <td>MDA</td>\n",
              "      <td>male</td>\n",
              "      <td>1.83</td>\n",
              "      <td>80.0</td>\n",
              "      <td>taekwondo</td>\n",
              "      <td>0</td>\n",
              "      <td>0</td>\n",
              "      <td>0</td>\n",
              "      <td>32</td>\n",
              "    </tr>\n",
              "    <tr>\n",
              "      <th>4</th>\n",
              "      <td>33922579</td>\n",
              "      <td>Aaron Gate</td>\n",
              "      <td>NZL</td>\n",
              "      <td>male</td>\n",
              "      <td>1.81</td>\n",
              "      <td>71.0</td>\n",
              "      <td>cycling</td>\n",
              "      <td>0</td>\n",
              "      <td>0</td>\n",
              "      <td>0</td>\n",
              "      <td>33</td>\n",
              "    </tr>\n",
              "  </tbody>\n",
              "</table>\n",
              "</div>\n",
              "      <button class=\"colab-df-convert\" onclick=\"convertToInteractive('df-26332532-4f59-4fa7-8bf6-6503215285eb')\"\n",
              "              title=\"Convert this dataframe to an interactive table.\"\n",
              "              style=\"display:none;\">\n",
              "        \n",
              "  <svg xmlns=\"http://www.w3.org/2000/svg\" height=\"24px\"viewBox=\"0 0 24 24\"\n",
              "       width=\"24px\">\n",
              "    <path d=\"M0 0h24v24H0V0z\" fill=\"none\"/>\n",
              "    <path d=\"M18.56 5.44l.94 2.06.94-2.06 2.06-.94-2.06-.94-.94-2.06-.94 2.06-2.06.94zm-11 1L8.5 8.5l.94-2.06 2.06-.94-2.06-.94L8.5 2.5l-.94 2.06-2.06.94zm10 10l.94 2.06.94-2.06 2.06-.94-2.06-.94-.94-2.06-.94 2.06-2.06.94z\"/><path d=\"M17.41 7.96l-1.37-1.37c-.4-.4-.92-.59-1.43-.59-.52 0-1.04.2-1.43.59L10.3 9.45l-7.72 7.72c-.78.78-.78 2.05 0 2.83L4 21.41c.39.39.9.59 1.41.59.51 0 1.02-.2 1.41-.59l7.78-7.78 2.81-2.81c.8-.78.8-2.07 0-2.86zM5.41 20L4 18.59l7.72-7.72 1.47 1.35L5.41 20z\"/>\n",
              "  </svg>\n",
              "      </button>\n",
              "      \n",
              "  <style>\n",
              "    .colab-df-container {\n",
              "      display:flex;\n",
              "      flex-wrap:wrap;\n",
              "      gap: 12px;\n",
              "    }\n",
              "\n",
              "    .colab-df-convert {\n",
              "      background-color: #E8F0FE;\n",
              "      border: none;\n",
              "      border-radius: 50%;\n",
              "      cursor: pointer;\n",
              "      display: none;\n",
              "      fill: #1967D2;\n",
              "      height: 32px;\n",
              "      padding: 0 0 0 0;\n",
              "      width: 32px;\n",
              "    }\n",
              "\n",
              "    .colab-df-convert:hover {\n",
              "      background-color: #E2EBFA;\n",
              "      box-shadow: 0px 1px 2px rgba(60, 64, 67, 0.3), 0px 1px 3px 1px rgba(60, 64, 67, 0.15);\n",
              "      fill: #174EA6;\n",
              "    }\n",
              "\n",
              "    [theme=dark] .colab-df-convert {\n",
              "      background-color: #3B4455;\n",
              "      fill: #D2E3FC;\n",
              "    }\n",
              "\n",
              "    [theme=dark] .colab-df-convert:hover {\n",
              "      background-color: #434B5C;\n",
              "      box-shadow: 0px 1px 3px 1px rgba(0, 0, 0, 0.15);\n",
              "      filter: drop-shadow(0px 1px 2px rgba(0, 0, 0, 0.3));\n",
              "      fill: #FFFFFF;\n",
              "    }\n",
              "  </style>\n",
              "\n",
              "      <script>\n",
              "        const buttonEl =\n",
              "          document.querySelector('#df-26332532-4f59-4fa7-8bf6-6503215285eb button.colab-df-convert');\n",
              "        buttonEl.style.display =\n",
              "          google.colab.kernel.accessAllowed ? 'block' : 'none';\n",
              "\n",
              "        async function convertToInteractive(key) {\n",
              "          const element = document.querySelector('#df-26332532-4f59-4fa7-8bf6-6503215285eb');\n",
              "          const dataTable =\n",
              "            await google.colab.kernel.invokeFunction('convertToInteractive',\n",
              "                                                     [key], {});\n",
              "          if (!dataTable) return;\n",
              "\n",
              "          const docLinkHtml = 'Like what you see? Visit the ' +\n",
              "            '<a target=\"_blank\" href=https://colab.research.google.com/notebooks/data_table.ipynb>data table notebook</a>'\n",
              "            + ' to learn more about interactive tables.';\n",
              "          element.innerHTML = '';\n",
              "          dataTable['output_type'] = 'display_data';\n",
              "          await google.colab.output.renderOutput(dataTable, element);\n",
              "          const docLink = document.createElement('div');\n",
              "          docLink.innerHTML = docLinkHtml;\n",
              "          element.appendChild(docLink);\n",
              "        }\n",
              "      </script>\n",
              "    </div>\n",
              "  </div>\n",
              "  "
            ]
          },
          "metadata": {},
          "execution_count": 16
        }
      ]
    },
    {
      "cell_type": "code",
      "source": [
        "def firstname(name):\n",
        "  names = name.split(' ')\n",
        "  first_name=' '.join(names[:-1])\n",
        "  return first_name"
      ],
      "metadata": {
        "id": "VzzC5i4v3FC6"
      },
      "execution_count": null,
      "outputs": []
    },
    {
      "cell_type": "code",
      "source": [
        "# Заменим признак name на firs_nameЮ т.к мы прогнозируем пол спортсмена, а имя более значимый признак при определении пола, чем имя и фамилия\n",
        "data['first_name']=data['name'].apply(firstname)"
      ],
      "metadata": {
        "id": "YN-x413s2vLc"
      },
      "execution_count": null,
      "outputs": []
    },
    {
      "cell_type": "code",
      "source": [
        "data.head()"
      ],
      "metadata": {
        "colab": {
          "base_uri": "https://localhost:8080/",
          "height": 206
        },
        "id": "3-691pDF3_WB",
        "outputId": "84c80ecc-710d-4015-caf1-565bb9de8fcb"
      },
      "execution_count": null,
      "outputs": [
        {
          "output_type": "execute_result",
          "data": {
            "text/plain": [
              "          id            name nationality     sex  height  weight      sport  \\\n",
              "0  736041664  A Jesus Garcia         ESP    male    1.72    64.0  athletics   \n",
              "1  532037425      A Lam Shin         KOR  female    1.68    56.0    fencing   \n",
              "2  435962603     Aaron Brown         CAN    male    1.98    79.0  athletics   \n",
              "3  521041435      Aaron Cook         MDA    male    1.83    80.0  taekwondo   \n",
              "4   33922579      Aaron Gate         NZL    male    1.81    71.0    cycling   \n",
              "\n",
              "   gold  silver  bronze  age first_name  \n",
              "0     0       0       0   54    A Jesus  \n",
              "1     0       0       0   37      A Lam  \n",
              "2     0       0       1   31      Aaron  \n",
              "3     0       0       0   32      Aaron  \n",
              "4     0       0       0   33      Aaron  "
            ],
            "text/html": [
              "\n",
              "  <div id=\"df-8d5f382f-5506-4bb1-8332-8f10d458d2c6\">\n",
              "    <div class=\"colab-df-container\">\n",
              "      <div>\n",
              "<style scoped>\n",
              "    .dataframe tbody tr th:only-of-type {\n",
              "        vertical-align: middle;\n",
              "    }\n",
              "\n",
              "    .dataframe tbody tr th {\n",
              "        vertical-align: top;\n",
              "    }\n",
              "\n",
              "    .dataframe thead th {\n",
              "        text-align: right;\n",
              "    }\n",
              "</style>\n",
              "<table border=\"1\" class=\"dataframe\">\n",
              "  <thead>\n",
              "    <tr style=\"text-align: right;\">\n",
              "      <th></th>\n",
              "      <th>id</th>\n",
              "      <th>name</th>\n",
              "      <th>nationality</th>\n",
              "      <th>sex</th>\n",
              "      <th>height</th>\n",
              "      <th>weight</th>\n",
              "      <th>sport</th>\n",
              "      <th>gold</th>\n",
              "      <th>silver</th>\n",
              "      <th>bronze</th>\n",
              "      <th>age</th>\n",
              "      <th>first_name</th>\n",
              "    </tr>\n",
              "  </thead>\n",
              "  <tbody>\n",
              "    <tr>\n",
              "      <th>0</th>\n",
              "      <td>736041664</td>\n",
              "      <td>A Jesus Garcia</td>\n",
              "      <td>ESP</td>\n",
              "      <td>male</td>\n",
              "      <td>1.72</td>\n",
              "      <td>64.0</td>\n",
              "      <td>athletics</td>\n",
              "      <td>0</td>\n",
              "      <td>0</td>\n",
              "      <td>0</td>\n",
              "      <td>54</td>\n",
              "      <td>A Jesus</td>\n",
              "    </tr>\n",
              "    <tr>\n",
              "      <th>1</th>\n",
              "      <td>532037425</td>\n",
              "      <td>A Lam Shin</td>\n",
              "      <td>KOR</td>\n",
              "      <td>female</td>\n",
              "      <td>1.68</td>\n",
              "      <td>56.0</td>\n",
              "      <td>fencing</td>\n",
              "      <td>0</td>\n",
              "      <td>0</td>\n",
              "      <td>0</td>\n",
              "      <td>37</td>\n",
              "      <td>A Lam</td>\n",
              "    </tr>\n",
              "    <tr>\n",
              "      <th>2</th>\n",
              "      <td>435962603</td>\n",
              "      <td>Aaron Brown</td>\n",
              "      <td>CAN</td>\n",
              "      <td>male</td>\n",
              "      <td>1.98</td>\n",
              "      <td>79.0</td>\n",
              "      <td>athletics</td>\n",
              "      <td>0</td>\n",
              "      <td>0</td>\n",
              "      <td>1</td>\n",
              "      <td>31</td>\n",
              "      <td>Aaron</td>\n",
              "    </tr>\n",
              "    <tr>\n",
              "      <th>3</th>\n",
              "      <td>521041435</td>\n",
              "      <td>Aaron Cook</td>\n",
              "      <td>MDA</td>\n",
              "      <td>male</td>\n",
              "      <td>1.83</td>\n",
              "      <td>80.0</td>\n",
              "      <td>taekwondo</td>\n",
              "      <td>0</td>\n",
              "      <td>0</td>\n",
              "      <td>0</td>\n",
              "      <td>32</td>\n",
              "      <td>Aaron</td>\n",
              "    </tr>\n",
              "    <tr>\n",
              "      <th>4</th>\n",
              "      <td>33922579</td>\n",
              "      <td>Aaron Gate</td>\n",
              "      <td>NZL</td>\n",
              "      <td>male</td>\n",
              "      <td>1.81</td>\n",
              "      <td>71.0</td>\n",
              "      <td>cycling</td>\n",
              "      <td>0</td>\n",
              "      <td>0</td>\n",
              "      <td>0</td>\n",
              "      <td>33</td>\n",
              "      <td>Aaron</td>\n",
              "    </tr>\n",
              "  </tbody>\n",
              "</table>\n",
              "</div>\n",
              "      <button class=\"colab-df-convert\" onclick=\"convertToInteractive('df-8d5f382f-5506-4bb1-8332-8f10d458d2c6')\"\n",
              "              title=\"Convert this dataframe to an interactive table.\"\n",
              "              style=\"display:none;\">\n",
              "        \n",
              "  <svg xmlns=\"http://www.w3.org/2000/svg\" height=\"24px\"viewBox=\"0 0 24 24\"\n",
              "       width=\"24px\">\n",
              "    <path d=\"M0 0h24v24H0V0z\" fill=\"none\"/>\n",
              "    <path d=\"M18.56 5.44l.94 2.06.94-2.06 2.06-.94-2.06-.94-.94-2.06-.94 2.06-2.06.94zm-11 1L8.5 8.5l.94-2.06 2.06-.94-2.06-.94L8.5 2.5l-.94 2.06-2.06.94zm10 10l.94 2.06.94-2.06 2.06-.94-2.06-.94-.94-2.06-.94 2.06-2.06.94z\"/><path d=\"M17.41 7.96l-1.37-1.37c-.4-.4-.92-.59-1.43-.59-.52 0-1.04.2-1.43.59L10.3 9.45l-7.72 7.72c-.78.78-.78 2.05 0 2.83L4 21.41c.39.39.9.59 1.41.59.51 0 1.02-.2 1.41-.59l7.78-7.78 2.81-2.81c.8-.78.8-2.07 0-2.86zM5.41 20L4 18.59l7.72-7.72 1.47 1.35L5.41 20z\"/>\n",
              "  </svg>\n",
              "      </button>\n",
              "      \n",
              "  <style>\n",
              "    .colab-df-container {\n",
              "      display:flex;\n",
              "      flex-wrap:wrap;\n",
              "      gap: 12px;\n",
              "    }\n",
              "\n",
              "    .colab-df-convert {\n",
              "      background-color: #E8F0FE;\n",
              "      border: none;\n",
              "      border-radius: 50%;\n",
              "      cursor: pointer;\n",
              "      display: none;\n",
              "      fill: #1967D2;\n",
              "      height: 32px;\n",
              "      padding: 0 0 0 0;\n",
              "      width: 32px;\n",
              "    }\n",
              "\n",
              "    .colab-df-convert:hover {\n",
              "      background-color: #E2EBFA;\n",
              "      box-shadow: 0px 1px 2px rgba(60, 64, 67, 0.3), 0px 1px 3px 1px rgba(60, 64, 67, 0.15);\n",
              "      fill: #174EA6;\n",
              "    }\n",
              "\n",
              "    [theme=dark] .colab-df-convert {\n",
              "      background-color: #3B4455;\n",
              "      fill: #D2E3FC;\n",
              "    }\n",
              "\n",
              "    [theme=dark] .colab-df-convert:hover {\n",
              "      background-color: #434B5C;\n",
              "      box-shadow: 0px 1px 3px 1px rgba(0, 0, 0, 0.15);\n",
              "      filter: drop-shadow(0px 1px 2px rgba(0, 0, 0, 0.3));\n",
              "      fill: #FFFFFF;\n",
              "    }\n",
              "  </style>\n",
              "\n",
              "      <script>\n",
              "        const buttonEl =\n",
              "          document.querySelector('#df-8d5f382f-5506-4bb1-8332-8f10d458d2c6 button.colab-df-convert');\n",
              "        buttonEl.style.display =\n",
              "          google.colab.kernel.accessAllowed ? 'block' : 'none';\n",
              "\n",
              "        async function convertToInteractive(key) {\n",
              "          const element = document.querySelector('#df-8d5f382f-5506-4bb1-8332-8f10d458d2c6');\n",
              "          const dataTable =\n",
              "            await google.colab.kernel.invokeFunction('convertToInteractive',\n",
              "                                                     [key], {});\n",
              "          if (!dataTable) return;\n",
              "\n",
              "          const docLinkHtml = 'Like what you see? Visit the ' +\n",
              "            '<a target=\"_blank\" href=https://colab.research.google.com/notebooks/data_table.ipynb>data table notebook</a>'\n",
              "            + ' to learn more about interactive tables.';\n",
              "          element.innerHTML = '';\n",
              "          dataTable['output_type'] = 'display_data';\n",
              "          await google.colab.output.renderOutput(dataTable, element);\n",
              "          const docLink = document.createElement('div');\n",
              "          docLink.innerHTML = docLinkHtml;\n",
              "          element.appendChild(docLink);\n",
              "        }\n",
              "      </script>\n",
              "    </div>\n",
              "  </div>\n",
              "  "
            ]
          },
          "metadata": {},
          "execution_count": 19
        }
      ]
    },
    {
      "cell_type": "code",
      "source": [
        "y=data.sex\n"
      ],
      "metadata": {
        "id": "lkQrqhNZ6-hz"
      },
      "execution_count": null,
      "outputs": []
    },
    {
      "cell_type": "code",
      "source": [
        "X=data.drop(columns=['id','name', 'sex'])\n",
        "X.head()"
      ],
      "metadata": {
        "colab": {
          "base_uri": "https://localhost:8080/",
          "height": 206
        },
        "id": "2j4EkQ1-2UE0",
        "outputId": "308f1185-f961-4179-d234-02d65d278cea"
      },
      "execution_count": null,
      "outputs": [
        {
          "output_type": "execute_result",
          "data": {
            "text/plain": [
              "  nationality  height  weight      sport  gold  silver  bronze  age first_name\n",
              "0         ESP    1.72    64.0  athletics     0       0       0   54    A Jesus\n",
              "1         KOR    1.68    56.0    fencing     0       0       0   37      A Lam\n",
              "2         CAN    1.98    79.0  athletics     0       0       1   31      Aaron\n",
              "3         MDA    1.83    80.0  taekwondo     0       0       0   32      Aaron\n",
              "4         NZL    1.81    71.0    cycling     0       0       0   33      Aaron"
            ],
            "text/html": [
              "\n",
              "  <div id=\"df-65628f16-6629-4d2b-819a-1e6b4061fd98\">\n",
              "    <div class=\"colab-df-container\">\n",
              "      <div>\n",
              "<style scoped>\n",
              "    .dataframe tbody tr th:only-of-type {\n",
              "        vertical-align: middle;\n",
              "    }\n",
              "\n",
              "    .dataframe tbody tr th {\n",
              "        vertical-align: top;\n",
              "    }\n",
              "\n",
              "    .dataframe thead th {\n",
              "        text-align: right;\n",
              "    }\n",
              "</style>\n",
              "<table border=\"1\" class=\"dataframe\">\n",
              "  <thead>\n",
              "    <tr style=\"text-align: right;\">\n",
              "      <th></th>\n",
              "      <th>nationality</th>\n",
              "      <th>height</th>\n",
              "      <th>weight</th>\n",
              "      <th>sport</th>\n",
              "      <th>gold</th>\n",
              "      <th>silver</th>\n",
              "      <th>bronze</th>\n",
              "      <th>age</th>\n",
              "      <th>first_name</th>\n",
              "    </tr>\n",
              "  </thead>\n",
              "  <tbody>\n",
              "    <tr>\n",
              "      <th>0</th>\n",
              "      <td>ESP</td>\n",
              "      <td>1.72</td>\n",
              "      <td>64.0</td>\n",
              "      <td>athletics</td>\n",
              "      <td>0</td>\n",
              "      <td>0</td>\n",
              "      <td>0</td>\n",
              "      <td>54</td>\n",
              "      <td>A Jesus</td>\n",
              "    </tr>\n",
              "    <tr>\n",
              "      <th>1</th>\n",
              "      <td>KOR</td>\n",
              "      <td>1.68</td>\n",
              "      <td>56.0</td>\n",
              "      <td>fencing</td>\n",
              "      <td>0</td>\n",
              "      <td>0</td>\n",
              "      <td>0</td>\n",
              "      <td>37</td>\n",
              "      <td>A Lam</td>\n",
              "    </tr>\n",
              "    <tr>\n",
              "      <th>2</th>\n",
              "      <td>CAN</td>\n",
              "      <td>1.98</td>\n",
              "      <td>79.0</td>\n",
              "      <td>athletics</td>\n",
              "      <td>0</td>\n",
              "      <td>0</td>\n",
              "      <td>1</td>\n",
              "      <td>31</td>\n",
              "      <td>Aaron</td>\n",
              "    </tr>\n",
              "    <tr>\n",
              "      <th>3</th>\n",
              "      <td>MDA</td>\n",
              "      <td>1.83</td>\n",
              "      <td>80.0</td>\n",
              "      <td>taekwondo</td>\n",
              "      <td>0</td>\n",
              "      <td>0</td>\n",
              "      <td>0</td>\n",
              "      <td>32</td>\n",
              "      <td>Aaron</td>\n",
              "    </tr>\n",
              "    <tr>\n",
              "      <th>4</th>\n",
              "      <td>NZL</td>\n",
              "      <td>1.81</td>\n",
              "      <td>71.0</td>\n",
              "      <td>cycling</td>\n",
              "      <td>0</td>\n",
              "      <td>0</td>\n",
              "      <td>0</td>\n",
              "      <td>33</td>\n",
              "      <td>Aaron</td>\n",
              "    </tr>\n",
              "  </tbody>\n",
              "</table>\n",
              "</div>\n",
              "      <button class=\"colab-df-convert\" onclick=\"convertToInteractive('df-65628f16-6629-4d2b-819a-1e6b4061fd98')\"\n",
              "              title=\"Convert this dataframe to an interactive table.\"\n",
              "              style=\"display:none;\">\n",
              "        \n",
              "  <svg xmlns=\"http://www.w3.org/2000/svg\" height=\"24px\"viewBox=\"0 0 24 24\"\n",
              "       width=\"24px\">\n",
              "    <path d=\"M0 0h24v24H0V0z\" fill=\"none\"/>\n",
              "    <path d=\"M18.56 5.44l.94 2.06.94-2.06 2.06-.94-2.06-.94-.94-2.06-.94 2.06-2.06.94zm-11 1L8.5 8.5l.94-2.06 2.06-.94-2.06-.94L8.5 2.5l-.94 2.06-2.06.94zm10 10l.94 2.06.94-2.06 2.06-.94-2.06-.94-.94-2.06-.94 2.06-2.06.94z\"/><path d=\"M17.41 7.96l-1.37-1.37c-.4-.4-.92-.59-1.43-.59-.52 0-1.04.2-1.43.59L10.3 9.45l-7.72 7.72c-.78.78-.78 2.05 0 2.83L4 21.41c.39.39.9.59 1.41.59.51 0 1.02-.2 1.41-.59l7.78-7.78 2.81-2.81c.8-.78.8-2.07 0-2.86zM5.41 20L4 18.59l7.72-7.72 1.47 1.35L5.41 20z\"/>\n",
              "  </svg>\n",
              "      </button>\n",
              "      \n",
              "  <style>\n",
              "    .colab-df-container {\n",
              "      display:flex;\n",
              "      flex-wrap:wrap;\n",
              "      gap: 12px;\n",
              "    }\n",
              "\n",
              "    .colab-df-convert {\n",
              "      background-color: #E8F0FE;\n",
              "      border: none;\n",
              "      border-radius: 50%;\n",
              "      cursor: pointer;\n",
              "      display: none;\n",
              "      fill: #1967D2;\n",
              "      height: 32px;\n",
              "      padding: 0 0 0 0;\n",
              "      width: 32px;\n",
              "    }\n",
              "\n",
              "    .colab-df-convert:hover {\n",
              "      background-color: #E2EBFA;\n",
              "      box-shadow: 0px 1px 2px rgba(60, 64, 67, 0.3), 0px 1px 3px 1px rgba(60, 64, 67, 0.15);\n",
              "      fill: #174EA6;\n",
              "    }\n",
              "\n",
              "    [theme=dark] .colab-df-convert {\n",
              "      background-color: #3B4455;\n",
              "      fill: #D2E3FC;\n",
              "    }\n",
              "\n",
              "    [theme=dark] .colab-df-convert:hover {\n",
              "      background-color: #434B5C;\n",
              "      box-shadow: 0px 1px 3px 1px rgba(0, 0, 0, 0.15);\n",
              "      filter: drop-shadow(0px 1px 2px rgba(0, 0, 0, 0.3));\n",
              "      fill: #FFFFFF;\n",
              "    }\n",
              "  </style>\n",
              "\n",
              "      <script>\n",
              "        const buttonEl =\n",
              "          document.querySelector('#df-65628f16-6629-4d2b-819a-1e6b4061fd98 button.colab-df-convert');\n",
              "        buttonEl.style.display =\n",
              "          google.colab.kernel.accessAllowed ? 'block' : 'none';\n",
              "\n",
              "        async function convertToInteractive(key) {\n",
              "          const element = document.querySelector('#df-65628f16-6629-4d2b-819a-1e6b4061fd98');\n",
              "          const dataTable =\n",
              "            await google.colab.kernel.invokeFunction('convertToInteractive',\n",
              "                                                     [key], {});\n",
              "          if (!dataTable) return;\n",
              "\n",
              "          const docLinkHtml = 'Like what you see? Visit the ' +\n",
              "            '<a target=\"_blank\" href=https://colab.research.google.com/notebooks/data_table.ipynb>data table notebook</a>'\n",
              "            + ' to learn more about interactive tables.';\n",
              "          element.innerHTML = '';\n",
              "          dataTable['output_type'] = 'display_data';\n",
              "          await google.colab.output.renderOutput(dataTable, element);\n",
              "          const docLink = document.createElement('div');\n",
              "          docLink.innerHTML = docLinkHtml;\n",
              "          element.appendChild(docLink);\n",
              "        }\n",
              "      </script>\n",
              "    </div>\n",
              "  </div>\n",
              "  "
            ]
          },
          "metadata": {},
          "execution_count": 21
        }
      ]
    },
    {
      "cell_type": "code",
      "source": [
        "# Произведем Label-кодирование признака 'sex'\n",
        "le = LabelEncoder()\n",
        "le.fit(y)\n",
        "y = pd.Series(data=le.transform(y))"
      ],
      "metadata": {
        "id": "uxrvkSVp270H"
      },
      "execution_count": null,
      "outputs": []
    },
    {
      "cell_type": "code",
      "source": [
        "y.value_counts() # практически сбалансированы"
      ],
      "metadata": {
        "colab": {
          "base_uri": "https://localhost:8080/"
        },
        "id": "VTbibVMg1nHo",
        "outputId": "8f954ea5-0ac1-4318-c59f-0cd0ab125dc3"
      },
      "execution_count": null,
      "outputs": [
        {
          "output_type": "execute_result",
          "data": {
            "text/plain": [
              "1    6153\n",
              "0    5076\n",
              "dtype: int64"
            ]
          },
          "metadata": {},
          "execution_count": 23
        }
      ]
    },
    {
      "cell_type": "code",
      "source": [
        "numeric_features = [\"height\", \"weight\",\"age\"]\n",
        "numeric_transformer = Pipeline(\n",
        "    steps=[(\"imputer\", SimpleImputer(strategy=\"median\")), (\"scaler\", StandardScaler())]\n",
        ")\n",
        "\n",
        "categorical_features = [\"nationality\", \"sport\", \"first_name\"]\n",
        "categorical_transformer = Pipeline(\n",
        "    steps=[\n",
        "        (\"encoder\", OneHotEncoder(handle_unknown=\"ignore\")),\n",
        "        (\"selector\", SelectPercentile(chi2, percentile=50)),\n",
        "    ]\n",
        ")\n",
        "preprocessor = ColumnTransformer(\n",
        "    transformers=[\n",
        "        (\"num\", numeric_transformer, numeric_features),\n",
        "        (\"cat\", categorical_transformer, categorical_features),\n",
        "    ]\n",
        ")        \n",
        "    "
      ],
      "metadata": {
        "id": "sRYEo4Nn57w2"
      },
      "execution_count": null,
      "outputs": []
    },
    {
      "cell_type": "code",
      "source": [
        "clf = Pipeline(\n",
        "    steps=[(\"preprocessor\", preprocessor), (\"classifier\", LogisticRegression(max_iter=1000))]\n",
        ")\n",
        "\n",
        "\n",
        "\n"
      ],
      "metadata": {
        "id": "z2lBRK4H8TtN"
      },
      "execution_count": null,
      "outputs": []
    },
    {
      "cell_type": "code",
      "source": [
        "clf"
      ],
      "metadata": {
        "colab": {
          "base_uri": "https://localhost:8080/",
          "height": 227
        },
        "id": "INX-5JS-9Bow",
        "outputId": "0cd79037-a6e7-4ace-f62d-66a1c58d4d9b"
      },
      "execution_count": null,
      "outputs": [
        {
          "output_type": "execute_result",
          "data": {
            "text/plain": [
              "Pipeline(steps=[('preprocessor',\n",
              "                 ColumnTransformer(transformers=[('num',\n",
              "                                                  Pipeline(steps=[('imputer',\n",
              "                                                                   SimpleImputer(strategy='median')),\n",
              "                                                                  ('scaler',\n",
              "                                                                   StandardScaler())]),\n",
              "                                                  ['height', 'weight', 'age']),\n",
              "                                                 ('cat',\n",
              "                                                  Pipeline(steps=[('encoder',\n",
              "                                                                   OneHotEncoder(handle_unknown='ignore')),\n",
              "                                                                  ('selector',\n",
              "                                                                   SelectPercentile(percentile=50,\n",
              "                                                                                    score_func=<function chi2 at 0x7f98b83c5b80>))]),\n",
              "                                                  ['nationality', 'sport',\n",
              "                                                   'first_name'])])),\n",
              "                ('classifier', LogisticRegression(max_iter=1000))])"
            ],
            "text/html": [
              "<style>#sk-container-id-1 {color: black;background-color: white;}#sk-container-id-1 pre{padding: 0;}#sk-container-id-1 div.sk-toggleable {background-color: white;}#sk-container-id-1 label.sk-toggleable__label {cursor: pointer;display: block;width: 100%;margin-bottom: 0;padding: 0.3em;box-sizing: border-box;text-align: center;}#sk-container-id-1 label.sk-toggleable__label-arrow:before {content: \"▸\";float: left;margin-right: 0.25em;color: #696969;}#sk-container-id-1 label.sk-toggleable__label-arrow:hover:before {color: black;}#sk-container-id-1 div.sk-estimator:hover label.sk-toggleable__label-arrow:before {color: black;}#sk-container-id-1 div.sk-toggleable__content {max-height: 0;max-width: 0;overflow: hidden;text-align: left;background-color: #f0f8ff;}#sk-container-id-1 div.sk-toggleable__content pre {margin: 0.2em;color: black;border-radius: 0.25em;background-color: #f0f8ff;}#sk-container-id-1 input.sk-toggleable__control:checked~div.sk-toggleable__content {max-height: 200px;max-width: 100%;overflow: auto;}#sk-container-id-1 input.sk-toggleable__control:checked~label.sk-toggleable__label-arrow:before {content: \"▾\";}#sk-container-id-1 div.sk-estimator input.sk-toggleable__control:checked~label.sk-toggleable__label {background-color: #d4ebff;}#sk-container-id-1 div.sk-label input.sk-toggleable__control:checked~label.sk-toggleable__label {background-color: #d4ebff;}#sk-container-id-1 input.sk-hidden--visually {border: 0;clip: rect(1px 1px 1px 1px);clip: rect(1px, 1px, 1px, 1px);height: 1px;margin: -1px;overflow: hidden;padding: 0;position: absolute;width: 1px;}#sk-container-id-1 div.sk-estimator {font-family: monospace;background-color: #f0f8ff;border: 1px dotted black;border-radius: 0.25em;box-sizing: border-box;margin-bottom: 0.5em;}#sk-container-id-1 div.sk-estimator:hover {background-color: #d4ebff;}#sk-container-id-1 div.sk-parallel-item::after {content: \"\";width: 100%;border-bottom: 1px solid gray;flex-grow: 1;}#sk-container-id-1 div.sk-label:hover label.sk-toggleable__label {background-color: #d4ebff;}#sk-container-id-1 div.sk-serial::before {content: \"\";position: absolute;border-left: 1px solid gray;box-sizing: border-box;top: 0;bottom: 0;left: 50%;z-index: 0;}#sk-container-id-1 div.sk-serial {display: flex;flex-direction: column;align-items: center;background-color: white;padding-right: 0.2em;padding-left: 0.2em;position: relative;}#sk-container-id-1 div.sk-item {position: relative;z-index: 1;}#sk-container-id-1 div.sk-parallel {display: flex;align-items: stretch;justify-content: center;background-color: white;position: relative;}#sk-container-id-1 div.sk-item::before, #sk-container-id-1 div.sk-parallel-item::before {content: \"\";position: absolute;border-left: 1px solid gray;box-sizing: border-box;top: 0;bottom: 0;left: 50%;z-index: -1;}#sk-container-id-1 div.sk-parallel-item {display: flex;flex-direction: column;z-index: 1;position: relative;background-color: white;}#sk-container-id-1 div.sk-parallel-item:first-child::after {align-self: flex-end;width: 50%;}#sk-container-id-1 div.sk-parallel-item:last-child::after {align-self: flex-start;width: 50%;}#sk-container-id-1 div.sk-parallel-item:only-child::after {width: 0;}#sk-container-id-1 div.sk-dashed-wrapped {border: 1px dashed gray;margin: 0 0.4em 0.5em 0.4em;box-sizing: border-box;padding-bottom: 0.4em;background-color: white;}#sk-container-id-1 div.sk-label label {font-family: monospace;font-weight: bold;display: inline-block;line-height: 1.2em;}#sk-container-id-1 div.sk-label-container {text-align: center;}#sk-container-id-1 div.sk-container {/* jupyter's `normalize.less` sets `[hidden] { display: none; }` but bootstrap.min.css set `[hidden] { display: none !important; }` so we also need the `!important` here to be able to override the default hidden behavior on the sphinx rendered scikit-learn.org. See: https://github.com/scikit-learn/scikit-learn/issues/21755 */display: inline-block !important;position: relative;}#sk-container-id-1 div.sk-text-repr-fallback {display: none;}</style><div id=\"sk-container-id-1\" class=\"sk-top-container\"><div class=\"sk-text-repr-fallback\"><pre>Pipeline(steps=[(&#x27;preprocessor&#x27;,\n",
              "                 ColumnTransformer(transformers=[(&#x27;num&#x27;,\n",
              "                                                  Pipeline(steps=[(&#x27;imputer&#x27;,\n",
              "                                                                   SimpleImputer(strategy=&#x27;median&#x27;)),\n",
              "                                                                  (&#x27;scaler&#x27;,\n",
              "                                                                   StandardScaler())]),\n",
              "                                                  [&#x27;height&#x27;, &#x27;weight&#x27;, &#x27;age&#x27;]),\n",
              "                                                 (&#x27;cat&#x27;,\n",
              "                                                  Pipeline(steps=[(&#x27;encoder&#x27;,\n",
              "                                                                   OneHotEncoder(handle_unknown=&#x27;ignore&#x27;)),\n",
              "                                                                  (&#x27;selector&#x27;,\n",
              "                                                                   SelectPercentile(percentile=50,\n",
              "                                                                                    score_func=&lt;function chi2 at 0x7f98b83c5b80&gt;))]),\n",
              "                                                  [&#x27;nationality&#x27;, &#x27;sport&#x27;,\n",
              "                                                   &#x27;first_name&#x27;])])),\n",
              "                (&#x27;classifier&#x27;, LogisticRegression(max_iter=1000))])</pre><b>In a Jupyter environment, please rerun this cell to show the HTML representation or trust the notebook. <br />On GitHub, the HTML representation is unable to render, please try loading this page with nbviewer.org.</b></div><div class=\"sk-container\" hidden><div class=\"sk-item sk-dashed-wrapped\"><div class=\"sk-label-container\"><div class=\"sk-label sk-toggleable\"><input class=\"sk-toggleable__control sk-hidden--visually\" id=\"sk-estimator-id-1\" type=\"checkbox\" ><label for=\"sk-estimator-id-1\" class=\"sk-toggleable__label sk-toggleable__label-arrow\">Pipeline</label><div class=\"sk-toggleable__content\"><pre>Pipeline(steps=[(&#x27;preprocessor&#x27;,\n",
              "                 ColumnTransformer(transformers=[(&#x27;num&#x27;,\n",
              "                                                  Pipeline(steps=[(&#x27;imputer&#x27;,\n",
              "                                                                   SimpleImputer(strategy=&#x27;median&#x27;)),\n",
              "                                                                  (&#x27;scaler&#x27;,\n",
              "                                                                   StandardScaler())]),\n",
              "                                                  [&#x27;height&#x27;, &#x27;weight&#x27;, &#x27;age&#x27;]),\n",
              "                                                 (&#x27;cat&#x27;,\n",
              "                                                  Pipeline(steps=[(&#x27;encoder&#x27;,\n",
              "                                                                   OneHotEncoder(handle_unknown=&#x27;ignore&#x27;)),\n",
              "                                                                  (&#x27;selector&#x27;,\n",
              "                                                                   SelectPercentile(percentile=50,\n",
              "                                                                                    score_func=&lt;function chi2 at 0x7f98b83c5b80&gt;))]),\n",
              "                                                  [&#x27;nationality&#x27;, &#x27;sport&#x27;,\n",
              "                                                   &#x27;first_name&#x27;])])),\n",
              "                (&#x27;classifier&#x27;, LogisticRegression(max_iter=1000))])</pre></div></div></div><div class=\"sk-serial\"><div class=\"sk-item sk-dashed-wrapped\"><div class=\"sk-label-container\"><div class=\"sk-label sk-toggleable\"><input class=\"sk-toggleable__control sk-hidden--visually\" id=\"sk-estimator-id-2\" type=\"checkbox\" ><label for=\"sk-estimator-id-2\" class=\"sk-toggleable__label sk-toggleable__label-arrow\">preprocessor: ColumnTransformer</label><div class=\"sk-toggleable__content\"><pre>ColumnTransformer(transformers=[(&#x27;num&#x27;,\n",
              "                                 Pipeline(steps=[(&#x27;imputer&#x27;,\n",
              "                                                  SimpleImputer(strategy=&#x27;median&#x27;)),\n",
              "                                                 (&#x27;scaler&#x27;, StandardScaler())]),\n",
              "                                 [&#x27;height&#x27;, &#x27;weight&#x27;, &#x27;age&#x27;]),\n",
              "                                (&#x27;cat&#x27;,\n",
              "                                 Pipeline(steps=[(&#x27;encoder&#x27;,\n",
              "                                                  OneHotEncoder(handle_unknown=&#x27;ignore&#x27;)),\n",
              "                                                 (&#x27;selector&#x27;,\n",
              "                                                  SelectPercentile(percentile=50,\n",
              "                                                                   score_func=&lt;function chi2 at 0x7f98b83c5b80&gt;))]),\n",
              "                                 [&#x27;nationality&#x27;, &#x27;sport&#x27;, &#x27;first_name&#x27;])])</pre></div></div></div><div class=\"sk-parallel\"><div class=\"sk-parallel-item\"><div class=\"sk-item\"><div class=\"sk-label-container\"><div class=\"sk-label sk-toggleable\"><input class=\"sk-toggleable__control sk-hidden--visually\" id=\"sk-estimator-id-3\" type=\"checkbox\" ><label for=\"sk-estimator-id-3\" class=\"sk-toggleable__label sk-toggleable__label-arrow\">num</label><div class=\"sk-toggleable__content\"><pre>[&#x27;height&#x27;, &#x27;weight&#x27;, &#x27;age&#x27;]</pre></div></div></div><div class=\"sk-serial\"><div class=\"sk-item\"><div class=\"sk-serial\"><div class=\"sk-item\"><div class=\"sk-estimator sk-toggleable\"><input class=\"sk-toggleable__control sk-hidden--visually\" id=\"sk-estimator-id-4\" type=\"checkbox\" ><label for=\"sk-estimator-id-4\" class=\"sk-toggleable__label sk-toggleable__label-arrow\">SimpleImputer</label><div class=\"sk-toggleable__content\"><pre>SimpleImputer(strategy=&#x27;median&#x27;)</pre></div></div></div><div class=\"sk-item\"><div class=\"sk-estimator sk-toggleable\"><input class=\"sk-toggleable__control sk-hidden--visually\" id=\"sk-estimator-id-5\" type=\"checkbox\" ><label for=\"sk-estimator-id-5\" class=\"sk-toggleable__label sk-toggleable__label-arrow\">StandardScaler</label><div class=\"sk-toggleable__content\"><pre>StandardScaler()</pre></div></div></div></div></div></div></div></div><div class=\"sk-parallel-item\"><div class=\"sk-item\"><div class=\"sk-label-container\"><div class=\"sk-label sk-toggleable\"><input class=\"sk-toggleable__control sk-hidden--visually\" id=\"sk-estimator-id-6\" type=\"checkbox\" ><label for=\"sk-estimator-id-6\" class=\"sk-toggleable__label sk-toggleable__label-arrow\">cat</label><div class=\"sk-toggleable__content\"><pre>[&#x27;nationality&#x27;, &#x27;sport&#x27;, &#x27;first_name&#x27;]</pre></div></div></div><div class=\"sk-serial\"><div class=\"sk-item\"><div class=\"sk-serial\"><div class=\"sk-item\"><div class=\"sk-estimator sk-toggleable\"><input class=\"sk-toggleable__control sk-hidden--visually\" id=\"sk-estimator-id-7\" type=\"checkbox\" ><label for=\"sk-estimator-id-7\" class=\"sk-toggleable__label sk-toggleable__label-arrow\">OneHotEncoder</label><div class=\"sk-toggleable__content\"><pre>OneHotEncoder(handle_unknown=&#x27;ignore&#x27;)</pre></div></div></div><div class=\"sk-item\"><div class=\"sk-estimator sk-toggleable\"><input class=\"sk-toggleable__control sk-hidden--visually\" id=\"sk-estimator-id-8\" type=\"checkbox\" ><label for=\"sk-estimator-id-8\" class=\"sk-toggleable__label sk-toggleable__label-arrow\">SelectPercentile</label><div class=\"sk-toggleable__content\"><pre>SelectPercentile(percentile=50, score_func=&lt;function chi2 at 0x7f98b83c5b80&gt;)</pre></div></div></div></div></div></div></div></div></div></div><div class=\"sk-item\"><div class=\"sk-estimator sk-toggleable\"><input class=\"sk-toggleable__control sk-hidden--visually\" id=\"sk-estimator-id-9\" type=\"checkbox\" ><label for=\"sk-estimator-id-9\" class=\"sk-toggleable__label sk-toggleable__label-arrow\">LogisticRegression</label><div class=\"sk-toggleable__content\"><pre>LogisticRegression(max_iter=1000)</pre></div></div></div></div></div></div></div>"
            ]
          },
          "metadata": {},
          "execution_count": 26
        }
      ]
    },
    {
      "cell_type": "markdown",
      "source": [
        "### 2. Разделение выборку на обучающее (80% данных) и тестовое (20% данных) подмножества"
      ],
      "metadata": {
        "id": "E0CAD0UC8eXP"
      }
    },
    {
      "cell_type": "code",
      "source": [
        "X_train, X_test, y_train, y_test = train_test_split(X, y, test_size=0.2, random_state=0)\n"
      ],
      "metadata": {
        "id": "xNLJMnQM9PZo"
      },
      "execution_count": null,
      "outputs": []
    },
    {
      "cell_type": "code",
      "source": [
        "clf.fit(X_train, y_train)\n",
        "print(\"model score: %.3f\" % clf.score(X_test, y_test))"
      ],
      "metadata": {
        "colab": {
          "base_uri": "https://localhost:8080/"
        },
        "id": "r8vISkgrPF5a",
        "outputId": "23c94d4b-31c1-48bd-c8ee-275677774b85"
      },
      "execution_count": null,
      "outputs": [
        {
          "output_type": "stream",
          "name": "stdout",
          "text": [
            "model score: 0.858\n"
          ]
        }
      ]
    },
    {
      "cell_type": "markdown",
      "source": [
        "Выполним оптимизацию гиперпараметров с помощью RandomizedSearchCV. Мы будем искать как стратегию заполнения пропусков в  предварительной обработке номинальных признаков, так и параметр регуляризации логистической регрессии. RandomizedSearchCV случайным образом выбирает фиксированное количество настроек параметров, настроенных с помощью n_iter"
      ],
      "metadata": {
        "id": "UYoEAXJHRXMN"
      }
    },
    {
      "cell_type": "code",
      "source": [
        "param_grid = {\n",
        "    \"preprocessor__num__imputer__strategy\": [\"mean\", \"median\"],\n",
        "    \"preprocessor__cat__selector__percentile\": [10, 30, 50, 70],\n",
        "    \"classifier__C\": [0.1, 1.0, 10, 100],\n",
        "}\n",
        "\n",
        "search_cv = RandomizedSearchCV(clf, param_grid, n_iter=10, random_state=0)\n",
        "search_cv"
      ],
      "metadata": {
        "colab": {
          "base_uri": "https://localhost:8080/",
          "height": 253
        },
        "id": "9ct6uS6G-rAU",
        "outputId": "dc9ef8e5-3071-46f0-cbdd-30cdf12b66ec"
      },
      "execution_count": null,
      "outputs": [
        {
          "output_type": "execute_result",
          "data": {
            "text/plain": [
              "RandomizedSearchCV(estimator=Pipeline(steps=[('preprocessor',\n",
              "                                              ColumnTransformer(transformers=[('num',\n",
              "                                                                               Pipeline(steps=[('imputer',\n",
              "                                                                                                SimpleImputer(strategy='median')),\n",
              "                                                                                               ('scaler',\n",
              "                                                                                                StandardScaler())]),\n",
              "                                                                               ['height',\n",
              "                                                                                'weight',\n",
              "                                                                                'age']),\n",
              "                                                                              ('cat',\n",
              "                                                                               Pipeline(steps=[('encoder',\n",
              "                                                                                                OneHotEncoder(handle_unknown='ignore')),\n",
              "                                                                                               ('selector',\n",
              "                                                                                                SelectPercentile(percentile=50,\n",
              "                                                                                                                 score_func=<function chi2 at 0x7f98b83c5b80>))]),\n",
              "                                                                               ['nationality',\n",
              "                                                                                'sport',\n",
              "                                                                                'first_name'])])),\n",
              "                                             ('classifier',\n",
              "                                              LogisticRegression(max_iter=1000))]),\n",
              "                   param_distributions={'classifier__C': [0.1, 1.0, 10, 100],\n",
              "                                        'preprocessor__cat__selector__percentile': [10,\n",
              "                                                                                    30,\n",
              "                                                                                    50,\n",
              "                                                                                    70],\n",
              "                                        'preprocessor__num__imputer__strategy': ['mean',\n",
              "                                                                                 'median']},\n",
              "                   random_state=0)"
            ],
            "text/html": [
              "<style>#sk-container-id-2 {color: black;background-color: white;}#sk-container-id-2 pre{padding: 0;}#sk-container-id-2 div.sk-toggleable {background-color: white;}#sk-container-id-2 label.sk-toggleable__label {cursor: pointer;display: block;width: 100%;margin-bottom: 0;padding: 0.3em;box-sizing: border-box;text-align: center;}#sk-container-id-2 label.sk-toggleable__label-arrow:before {content: \"▸\";float: left;margin-right: 0.25em;color: #696969;}#sk-container-id-2 label.sk-toggleable__label-arrow:hover:before {color: black;}#sk-container-id-2 div.sk-estimator:hover label.sk-toggleable__label-arrow:before {color: black;}#sk-container-id-2 div.sk-toggleable__content {max-height: 0;max-width: 0;overflow: hidden;text-align: left;background-color: #f0f8ff;}#sk-container-id-2 div.sk-toggleable__content pre {margin: 0.2em;color: black;border-radius: 0.25em;background-color: #f0f8ff;}#sk-container-id-2 input.sk-toggleable__control:checked~div.sk-toggleable__content {max-height: 200px;max-width: 100%;overflow: auto;}#sk-container-id-2 input.sk-toggleable__control:checked~label.sk-toggleable__label-arrow:before {content: \"▾\";}#sk-container-id-2 div.sk-estimator input.sk-toggleable__control:checked~label.sk-toggleable__label {background-color: #d4ebff;}#sk-container-id-2 div.sk-label input.sk-toggleable__control:checked~label.sk-toggleable__label {background-color: #d4ebff;}#sk-container-id-2 input.sk-hidden--visually {border: 0;clip: rect(1px 1px 1px 1px);clip: rect(1px, 1px, 1px, 1px);height: 1px;margin: -1px;overflow: hidden;padding: 0;position: absolute;width: 1px;}#sk-container-id-2 div.sk-estimator {font-family: monospace;background-color: #f0f8ff;border: 1px dotted black;border-radius: 0.25em;box-sizing: border-box;margin-bottom: 0.5em;}#sk-container-id-2 div.sk-estimator:hover {background-color: #d4ebff;}#sk-container-id-2 div.sk-parallel-item::after {content: \"\";width: 100%;border-bottom: 1px solid gray;flex-grow: 1;}#sk-container-id-2 div.sk-label:hover label.sk-toggleable__label {background-color: #d4ebff;}#sk-container-id-2 div.sk-serial::before {content: \"\";position: absolute;border-left: 1px solid gray;box-sizing: border-box;top: 0;bottom: 0;left: 50%;z-index: 0;}#sk-container-id-2 div.sk-serial {display: flex;flex-direction: column;align-items: center;background-color: white;padding-right: 0.2em;padding-left: 0.2em;position: relative;}#sk-container-id-2 div.sk-item {position: relative;z-index: 1;}#sk-container-id-2 div.sk-parallel {display: flex;align-items: stretch;justify-content: center;background-color: white;position: relative;}#sk-container-id-2 div.sk-item::before, #sk-container-id-2 div.sk-parallel-item::before {content: \"\";position: absolute;border-left: 1px solid gray;box-sizing: border-box;top: 0;bottom: 0;left: 50%;z-index: -1;}#sk-container-id-2 div.sk-parallel-item {display: flex;flex-direction: column;z-index: 1;position: relative;background-color: white;}#sk-container-id-2 div.sk-parallel-item:first-child::after {align-self: flex-end;width: 50%;}#sk-container-id-2 div.sk-parallel-item:last-child::after {align-self: flex-start;width: 50%;}#sk-container-id-2 div.sk-parallel-item:only-child::after {width: 0;}#sk-container-id-2 div.sk-dashed-wrapped {border: 1px dashed gray;margin: 0 0.4em 0.5em 0.4em;box-sizing: border-box;padding-bottom: 0.4em;background-color: white;}#sk-container-id-2 div.sk-label label {font-family: monospace;font-weight: bold;display: inline-block;line-height: 1.2em;}#sk-container-id-2 div.sk-label-container {text-align: center;}#sk-container-id-2 div.sk-container {/* jupyter's `normalize.less` sets `[hidden] { display: none; }` but bootstrap.min.css set `[hidden] { display: none !important; }` so we also need the `!important` here to be able to override the default hidden behavior on the sphinx rendered scikit-learn.org. See: https://github.com/scikit-learn/scikit-learn/issues/21755 */display: inline-block !important;position: relative;}#sk-container-id-2 div.sk-text-repr-fallback {display: none;}</style><div id=\"sk-container-id-2\" class=\"sk-top-container\"><div class=\"sk-text-repr-fallback\"><pre>RandomizedSearchCV(estimator=Pipeline(steps=[(&#x27;preprocessor&#x27;,\n",
              "                                              ColumnTransformer(transformers=[(&#x27;num&#x27;,\n",
              "                                                                               Pipeline(steps=[(&#x27;imputer&#x27;,\n",
              "                                                                                                SimpleImputer(strategy=&#x27;median&#x27;)),\n",
              "                                                                                               (&#x27;scaler&#x27;,\n",
              "                                                                                                StandardScaler())]),\n",
              "                                                                               [&#x27;height&#x27;,\n",
              "                                                                                &#x27;weight&#x27;,\n",
              "                                                                                &#x27;age&#x27;]),\n",
              "                                                                              (&#x27;cat&#x27;,\n",
              "                                                                               Pipeline(steps=[(&#x27;encoder&#x27;,\n",
              "                                                                                                OneHotEncoder(handle_unknown=&#x27;ignore&#x27;)),\n",
              "                                                                                               (&#x27;selector&#x27;,\n",
              "                                                                                                SelectPercentile(percentile=50,\n",
              "                                                                                                                 score_func=&lt;function chi2 at 0x7f98b83c5b80&gt;))]),\n",
              "                                                                               [&#x27;nationality&#x27;,\n",
              "                                                                                &#x27;sport&#x27;,\n",
              "                                                                                &#x27;first_name&#x27;])])),\n",
              "                                             (&#x27;classifier&#x27;,\n",
              "                                              LogisticRegression(max_iter=1000))]),\n",
              "                   param_distributions={&#x27;classifier__C&#x27;: [0.1, 1.0, 10, 100],\n",
              "                                        &#x27;preprocessor__cat__selector__percentile&#x27;: [10,\n",
              "                                                                                    30,\n",
              "                                                                                    50,\n",
              "                                                                                    70],\n",
              "                                        &#x27;preprocessor__num__imputer__strategy&#x27;: [&#x27;mean&#x27;,\n",
              "                                                                                 &#x27;median&#x27;]},\n",
              "                   random_state=0)</pre><b>In a Jupyter environment, please rerun this cell to show the HTML representation or trust the notebook. <br />On GitHub, the HTML representation is unable to render, please try loading this page with nbviewer.org.</b></div><div class=\"sk-container\" hidden><div class=\"sk-item sk-dashed-wrapped\"><div class=\"sk-label-container\"><div class=\"sk-label sk-toggleable\"><input class=\"sk-toggleable__control sk-hidden--visually\" id=\"sk-estimator-id-10\" type=\"checkbox\" ><label for=\"sk-estimator-id-10\" class=\"sk-toggleable__label sk-toggleable__label-arrow\">RandomizedSearchCV</label><div class=\"sk-toggleable__content\"><pre>RandomizedSearchCV(estimator=Pipeline(steps=[(&#x27;preprocessor&#x27;,\n",
              "                                              ColumnTransformer(transformers=[(&#x27;num&#x27;,\n",
              "                                                                               Pipeline(steps=[(&#x27;imputer&#x27;,\n",
              "                                                                                                SimpleImputer(strategy=&#x27;median&#x27;)),\n",
              "                                                                                               (&#x27;scaler&#x27;,\n",
              "                                                                                                StandardScaler())]),\n",
              "                                                                               [&#x27;height&#x27;,\n",
              "                                                                                &#x27;weight&#x27;,\n",
              "                                                                                &#x27;age&#x27;]),\n",
              "                                                                              (&#x27;cat&#x27;,\n",
              "                                                                               Pipeline(steps=[(&#x27;encoder&#x27;,\n",
              "                                                                                                OneHotEncoder(handle_unknown=&#x27;ignore&#x27;)),\n",
              "                                                                                               (&#x27;selector&#x27;,\n",
              "                                                                                                SelectPercentile(percentile=50,\n",
              "                                                                                                                 score_func=&lt;function chi2 at 0x7f98b83c5b80&gt;))]),\n",
              "                                                                               [&#x27;nationality&#x27;,\n",
              "                                                                                &#x27;sport&#x27;,\n",
              "                                                                                &#x27;first_name&#x27;])])),\n",
              "                                             (&#x27;classifier&#x27;,\n",
              "                                              LogisticRegression(max_iter=1000))]),\n",
              "                   param_distributions={&#x27;classifier__C&#x27;: [0.1, 1.0, 10, 100],\n",
              "                                        &#x27;preprocessor__cat__selector__percentile&#x27;: [10,\n",
              "                                                                                    30,\n",
              "                                                                                    50,\n",
              "                                                                                    70],\n",
              "                                        &#x27;preprocessor__num__imputer__strategy&#x27;: [&#x27;mean&#x27;,\n",
              "                                                                                 &#x27;median&#x27;]},\n",
              "                   random_state=0)</pre></div></div></div><div class=\"sk-parallel\"><div class=\"sk-parallel-item\"><div class=\"sk-item\"><div class=\"sk-label-container\"><div class=\"sk-label sk-toggleable\"><input class=\"sk-toggleable__control sk-hidden--visually\" id=\"sk-estimator-id-11\" type=\"checkbox\" ><label for=\"sk-estimator-id-11\" class=\"sk-toggleable__label sk-toggleable__label-arrow\">estimator: Pipeline</label><div class=\"sk-toggleable__content\"><pre>Pipeline(steps=[(&#x27;preprocessor&#x27;,\n",
              "                 ColumnTransformer(transformers=[(&#x27;num&#x27;,\n",
              "                                                  Pipeline(steps=[(&#x27;imputer&#x27;,\n",
              "                                                                   SimpleImputer(strategy=&#x27;median&#x27;)),\n",
              "                                                                  (&#x27;scaler&#x27;,\n",
              "                                                                   StandardScaler())]),\n",
              "                                                  [&#x27;height&#x27;, &#x27;weight&#x27;, &#x27;age&#x27;]),\n",
              "                                                 (&#x27;cat&#x27;,\n",
              "                                                  Pipeline(steps=[(&#x27;encoder&#x27;,\n",
              "                                                                   OneHotEncoder(handle_unknown=&#x27;ignore&#x27;)),\n",
              "                                                                  (&#x27;selector&#x27;,\n",
              "                                                                   SelectPercentile(percentile=50,\n",
              "                                                                                    score_func=&lt;function chi2 at 0x7f98b83c5b80&gt;))]),\n",
              "                                                  [&#x27;nationality&#x27;, &#x27;sport&#x27;,\n",
              "                                                   &#x27;first_name&#x27;])])),\n",
              "                (&#x27;classifier&#x27;, LogisticRegression(max_iter=1000))])</pre></div></div></div><div class=\"sk-serial\"><div class=\"sk-item\"><div class=\"sk-serial\"><div class=\"sk-item sk-dashed-wrapped\"><div class=\"sk-label-container\"><div class=\"sk-label sk-toggleable\"><input class=\"sk-toggleable__control sk-hidden--visually\" id=\"sk-estimator-id-12\" type=\"checkbox\" ><label for=\"sk-estimator-id-12\" class=\"sk-toggleable__label sk-toggleable__label-arrow\">preprocessor: ColumnTransformer</label><div class=\"sk-toggleable__content\"><pre>ColumnTransformer(transformers=[(&#x27;num&#x27;,\n",
              "                                 Pipeline(steps=[(&#x27;imputer&#x27;,\n",
              "                                                  SimpleImputer(strategy=&#x27;median&#x27;)),\n",
              "                                                 (&#x27;scaler&#x27;, StandardScaler())]),\n",
              "                                 [&#x27;height&#x27;, &#x27;weight&#x27;, &#x27;age&#x27;]),\n",
              "                                (&#x27;cat&#x27;,\n",
              "                                 Pipeline(steps=[(&#x27;encoder&#x27;,\n",
              "                                                  OneHotEncoder(handle_unknown=&#x27;ignore&#x27;)),\n",
              "                                                 (&#x27;selector&#x27;,\n",
              "                                                  SelectPercentile(percentile=50,\n",
              "                                                                   score_func=&lt;function chi2 at 0x7f98b83c5b80&gt;))]),\n",
              "                                 [&#x27;nationality&#x27;, &#x27;sport&#x27;, &#x27;first_name&#x27;])])</pre></div></div></div><div class=\"sk-parallel\"><div class=\"sk-parallel-item\"><div class=\"sk-item\"><div class=\"sk-label-container\"><div class=\"sk-label sk-toggleable\"><input class=\"sk-toggleable__control sk-hidden--visually\" id=\"sk-estimator-id-13\" type=\"checkbox\" ><label for=\"sk-estimator-id-13\" class=\"sk-toggleable__label sk-toggleable__label-arrow\">num</label><div class=\"sk-toggleable__content\"><pre>[&#x27;height&#x27;, &#x27;weight&#x27;, &#x27;age&#x27;]</pre></div></div></div><div class=\"sk-serial\"><div class=\"sk-item\"><div class=\"sk-serial\"><div class=\"sk-item\"><div class=\"sk-estimator sk-toggleable\"><input class=\"sk-toggleable__control sk-hidden--visually\" id=\"sk-estimator-id-14\" type=\"checkbox\" ><label for=\"sk-estimator-id-14\" class=\"sk-toggleable__label sk-toggleable__label-arrow\">SimpleImputer</label><div class=\"sk-toggleable__content\"><pre>SimpleImputer(strategy=&#x27;median&#x27;)</pre></div></div></div><div class=\"sk-item\"><div class=\"sk-estimator sk-toggleable\"><input class=\"sk-toggleable__control sk-hidden--visually\" id=\"sk-estimator-id-15\" type=\"checkbox\" ><label for=\"sk-estimator-id-15\" class=\"sk-toggleable__label sk-toggleable__label-arrow\">StandardScaler</label><div class=\"sk-toggleable__content\"><pre>StandardScaler()</pre></div></div></div></div></div></div></div></div><div class=\"sk-parallel-item\"><div class=\"sk-item\"><div class=\"sk-label-container\"><div class=\"sk-label sk-toggleable\"><input class=\"sk-toggleable__control sk-hidden--visually\" id=\"sk-estimator-id-16\" type=\"checkbox\" ><label for=\"sk-estimator-id-16\" class=\"sk-toggleable__label sk-toggleable__label-arrow\">cat</label><div class=\"sk-toggleable__content\"><pre>[&#x27;nationality&#x27;, &#x27;sport&#x27;, &#x27;first_name&#x27;]</pre></div></div></div><div class=\"sk-serial\"><div class=\"sk-item\"><div class=\"sk-serial\"><div class=\"sk-item\"><div class=\"sk-estimator sk-toggleable\"><input class=\"sk-toggleable__control sk-hidden--visually\" id=\"sk-estimator-id-17\" type=\"checkbox\" ><label for=\"sk-estimator-id-17\" class=\"sk-toggleable__label sk-toggleable__label-arrow\">OneHotEncoder</label><div class=\"sk-toggleable__content\"><pre>OneHotEncoder(handle_unknown=&#x27;ignore&#x27;)</pre></div></div></div><div class=\"sk-item\"><div class=\"sk-estimator sk-toggleable\"><input class=\"sk-toggleable__control sk-hidden--visually\" id=\"sk-estimator-id-18\" type=\"checkbox\" ><label for=\"sk-estimator-id-18\" class=\"sk-toggleable__label sk-toggleable__label-arrow\">SelectPercentile</label><div class=\"sk-toggleable__content\"><pre>SelectPercentile(percentile=50, score_func=&lt;function chi2 at 0x7f98b83c5b80&gt;)</pre></div></div></div></div></div></div></div></div></div></div><div class=\"sk-item\"><div class=\"sk-estimator sk-toggleable\"><input class=\"sk-toggleable__control sk-hidden--visually\" id=\"sk-estimator-id-19\" type=\"checkbox\" ><label for=\"sk-estimator-id-19\" class=\"sk-toggleable__label sk-toggleable__label-arrow\">LogisticRegression</label><div class=\"sk-toggleable__content\"><pre>LogisticRegression(max_iter=1000)</pre></div></div></div></div></div></div></div></div></div></div></div></div>"
            ]
          },
          "metadata": {},
          "execution_count": 29
        }
      ]
    },
    {
      "cell_type": "code",
      "source": [
        "# Вызов «обучения» запускает перекрестный поиск наилучшей комбинации гиперпараметров:\n",
        "search_cv.fit(X_train, y_train)\n",
        "\n",
        "print(\"Best params:\")\n",
        "print(search_cv.best_params_)"
      ],
      "metadata": {
        "colab": {
          "base_uri": "https://localhost:8080/"
        },
        "id": "It0PERqg-y3L",
        "outputId": "be25c34d-9707-46d6-81ba-f6364b3ec4e4"
      },
      "execution_count": null,
      "outputs": [
        {
          "output_type": "stream",
          "name": "stdout",
          "text": [
            "Best params:\n",
            "{'preprocessor__num__imputer__strategy': 'mean', 'preprocessor__cat__selector__percentile': 70, 'classifier__C': 10}\n"
          ]
        }
      ]
    },
    {
      "cell_type": "code",
      "source": [
        "cv_results = pd.DataFrame(search_cv.cv_results_)\n",
        "cv_results = cv_results.sort_values(\"mean_test_score\", ascending=False)\n",
        "cv_results[\n",
        "    [\n",
        "        \"mean_test_score\",\n",
        "        \"std_test_score\",\n",
        "        \"param_preprocessor__num__imputer__strategy\",\n",
        "        \"param_preprocessor__cat__selector__percentile\",\n",
        "        \"param_classifier__C\",\n",
        "    ]\n",
        "].head(5)"
      ],
      "metadata": {
        "colab": {
          "base_uri": "https://localhost:8080/",
          "height": 206
        },
        "id": "_zhHHZx5_cyt",
        "outputId": "fd89dc05-c116-4620-8209-98ea4c4cdcc6"
      },
      "execution_count": null,
      "outputs": [
        {
          "output_type": "execute_result",
          "data": {
            "text/plain": [
              "   mean_test_score  std_test_score param_preprocessor__num__imputer__strategy  \\\n",
              "1         0.874430        0.004044                                       mean   \n",
              "7         0.872760        0.006354                                       mean   \n",
              "8         0.868753        0.007268                                       mean   \n",
              "5         0.856730        0.004363                                       mean   \n",
              "2         0.855951        0.005458                                       mean   \n",
              "\n",
              "  param_preprocessor__cat__selector__percentile param_classifier__C  \n",
              "1                                            70                  10  \n",
              "7                                            30                 100  \n",
              "8                                            50                  10  \n",
              "5                                            70                 1.0  \n",
              "2                                            30                 1.0  "
            ],
            "text/html": [
              "\n",
              "  <div id=\"df-03f0f763-3d77-42df-b993-e88fc1aa25c4\">\n",
              "    <div class=\"colab-df-container\">\n",
              "      <div>\n",
              "<style scoped>\n",
              "    .dataframe tbody tr th:only-of-type {\n",
              "        vertical-align: middle;\n",
              "    }\n",
              "\n",
              "    .dataframe tbody tr th {\n",
              "        vertical-align: top;\n",
              "    }\n",
              "\n",
              "    .dataframe thead th {\n",
              "        text-align: right;\n",
              "    }\n",
              "</style>\n",
              "<table border=\"1\" class=\"dataframe\">\n",
              "  <thead>\n",
              "    <tr style=\"text-align: right;\">\n",
              "      <th></th>\n",
              "      <th>mean_test_score</th>\n",
              "      <th>std_test_score</th>\n",
              "      <th>param_preprocessor__num__imputer__strategy</th>\n",
              "      <th>param_preprocessor__cat__selector__percentile</th>\n",
              "      <th>param_classifier__C</th>\n",
              "    </tr>\n",
              "  </thead>\n",
              "  <tbody>\n",
              "    <tr>\n",
              "      <th>1</th>\n",
              "      <td>0.874430</td>\n",
              "      <td>0.004044</td>\n",
              "      <td>mean</td>\n",
              "      <td>70</td>\n",
              "      <td>10</td>\n",
              "    </tr>\n",
              "    <tr>\n",
              "      <th>7</th>\n",
              "      <td>0.872760</td>\n",
              "      <td>0.006354</td>\n",
              "      <td>mean</td>\n",
              "      <td>30</td>\n",
              "      <td>100</td>\n",
              "    </tr>\n",
              "    <tr>\n",
              "      <th>8</th>\n",
              "      <td>0.868753</td>\n",
              "      <td>0.007268</td>\n",
              "      <td>mean</td>\n",
              "      <td>50</td>\n",
              "      <td>10</td>\n",
              "    </tr>\n",
              "    <tr>\n",
              "      <th>5</th>\n",
              "      <td>0.856730</td>\n",
              "      <td>0.004363</td>\n",
              "      <td>mean</td>\n",
              "      <td>70</td>\n",
              "      <td>1.0</td>\n",
              "    </tr>\n",
              "    <tr>\n",
              "      <th>2</th>\n",
              "      <td>0.855951</td>\n",
              "      <td>0.005458</td>\n",
              "      <td>mean</td>\n",
              "      <td>30</td>\n",
              "      <td>1.0</td>\n",
              "    </tr>\n",
              "  </tbody>\n",
              "</table>\n",
              "</div>\n",
              "      <button class=\"colab-df-convert\" onclick=\"convertToInteractive('df-03f0f763-3d77-42df-b993-e88fc1aa25c4')\"\n",
              "              title=\"Convert this dataframe to an interactive table.\"\n",
              "              style=\"display:none;\">\n",
              "        \n",
              "  <svg xmlns=\"http://www.w3.org/2000/svg\" height=\"24px\"viewBox=\"0 0 24 24\"\n",
              "       width=\"24px\">\n",
              "    <path d=\"M0 0h24v24H0V0z\" fill=\"none\"/>\n",
              "    <path d=\"M18.56 5.44l.94 2.06.94-2.06 2.06-.94-2.06-.94-.94-2.06-.94 2.06-2.06.94zm-11 1L8.5 8.5l.94-2.06 2.06-.94-2.06-.94L8.5 2.5l-.94 2.06-2.06.94zm10 10l.94 2.06.94-2.06 2.06-.94-2.06-.94-.94-2.06-.94 2.06-2.06.94z\"/><path d=\"M17.41 7.96l-1.37-1.37c-.4-.4-.92-.59-1.43-.59-.52 0-1.04.2-1.43.59L10.3 9.45l-7.72 7.72c-.78.78-.78 2.05 0 2.83L4 21.41c.39.39.9.59 1.41.59.51 0 1.02-.2 1.41-.59l7.78-7.78 2.81-2.81c.8-.78.8-2.07 0-2.86zM5.41 20L4 18.59l7.72-7.72 1.47 1.35L5.41 20z\"/>\n",
              "  </svg>\n",
              "      </button>\n",
              "      \n",
              "  <style>\n",
              "    .colab-df-container {\n",
              "      display:flex;\n",
              "      flex-wrap:wrap;\n",
              "      gap: 12px;\n",
              "    }\n",
              "\n",
              "    .colab-df-convert {\n",
              "      background-color: #E8F0FE;\n",
              "      border: none;\n",
              "      border-radius: 50%;\n",
              "      cursor: pointer;\n",
              "      display: none;\n",
              "      fill: #1967D2;\n",
              "      height: 32px;\n",
              "      padding: 0 0 0 0;\n",
              "      width: 32px;\n",
              "    }\n",
              "\n",
              "    .colab-df-convert:hover {\n",
              "      background-color: #E2EBFA;\n",
              "      box-shadow: 0px 1px 2px rgba(60, 64, 67, 0.3), 0px 1px 3px 1px rgba(60, 64, 67, 0.15);\n",
              "      fill: #174EA6;\n",
              "    }\n",
              "\n",
              "    [theme=dark] .colab-df-convert {\n",
              "      background-color: #3B4455;\n",
              "      fill: #D2E3FC;\n",
              "    }\n",
              "\n",
              "    [theme=dark] .colab-df-convert:hover {\n",
              "      background-color: #434B5C;\n",
              "      box-shadow: 0px 1px 3px 1px rgba(0, 0, 0, 0.15);\n",
              "      filter: drop-shadow(0px 1px 2px rgba(0, 0, 0, 0.3));\n",
              "      fill: #FFFFFF;\n",
              "    }\n",
              "  </style>\n",
              "\n",
              "      <script>\n",
              "        const buttonEl =\n",
              "          document.querySelector('#df-03f0f763-3d77-42df-b993-e88fc1aa25c4 button.colab-df-convert');\n",
              "        buttonEl.style.display =\n",
              "          google.colab.kernel.accessAllowed ? 'block' : 'none';\n",
              "\n",
              "        async function convertToInteractive(key) {\n",
              "          const element = document.querySelector('#df-03f0f763-3d77-42df-b993-e88fc1aa25c4');\n",
              "          const dataTable =\n",
              "            await google.colab.kernel.invokeFunction('convertToInteractive',\n",
              "                                                     [key], {});\n",
              "          if (!dataTable) return;\n",
              "\n",
              "          const docLinkHtml = 'Like what you see? Visit the ' +\n",
              "            '<a target=\"_blank\" href=https://colab.research.google.com/notebooks/data_table.ipynb>data table notebook</a>'\n",
              "            + ' to learn more about interactive tables.';\n",
              "          element.innerHTML = '';\n",
              "          dataTable['output_type'] = 'display_data';\n",
              "          await google.colab.output.renderOutput(dataTable, element);\n",
              "          const docLink = document.createElement('div');\n",
              "          docLink.innerHTML = docLinkHtml;\n",
              "          element.appendChild(docLink);\n",
              "        }\n",
              "      </script>\n",
              "    </div>\n",
              "  </div>\n",
              "  "
            ]
          },
          "metadata": {},
          "execution_count": 31
        }
      ]
    },
    {
      "cell_type": "code",
      "source": [
        "print(\n",
        "    \"accuracy of the best model from randomized search: \"\n",
        "    f\"{search_cv.score(X_test, y_test):.3f}\"\n",
        ")"
      ],
      "metadata": {
        "colab": {
          "base_uri": "https://localhost:8080/"
        },
        "id": "prxxrnp7_-Dy",
        "outputId": "563def1b-173e-40a5-eec3-26ab80b5a580"
      },
      "execution_count": null,
      "outputs": [
        {
          "output_type": "stream",
          "name": "stdout",
          "text": [
            "accuracy of the best model from randomized search: 0.875\n"
          ]
        }
      ]
    },
    {
      "cell_type": "code",
      "source": [
        "predictions = search_cv.predict(X_test)\n"
      ],
      "metadata": {
        "id": "GXw4UcYNC1gm"
      },
      "execution_count": null,
      "outputs": []
    },
    {
      "cell_type": "code",
      "source": [
        "pred_proba = search_cv.predict_proba(X_test)"
      ],
      "metadata": {
        "id": "k5Bms4pjZrKf"
      },
      "execution_count": null,
      "outputs": []
    },
    {
      "cell_type": "code",
      "source": [
        "from sklearn.metrics import recall_score, precision_score"
      ],
      "metadata": {
        "id": "05jYLn-4Y6sE"
      },
      "execution_count": null,
      "outputs": []
    },
    {
      "cell_type": "code",
      "source": [
        "precision_score(y_test, predictions)"
      ],
      "metadata": {
        "colab": {
          "base_uri": "https://localhost:8080/"
        },
        "id": "W8PBBbmHCsIR",
        "outputId": "9388fec5-8951-4099-821a-cf6a24d1064b"
      },
      "execution_count": null,
      "outputs": [
        {
          "output_type": "execute_result",
          "data": {
            "text/plain": [
              "0.8536770280515542"
            ]
          },
          "metadata": {},
          "execution_count": 36
        }
      ]
    },
    {
      "cell_type": "code",
      "source": [
        "recall_score(y_test, predictions)"
      ],
      "metadata": {
        "colab": {
          "base_uri": "https://localhost:8080/"
        },
        "id": "7WrJxg_pY96o",
        "outputId": "3c52fb3b-637e-4703-fbec-5f6fbcdc6a81"
      },
      "execution_count": null,
      "outputs": [
        {
          "output_type": "execute_result",
          "data": {
            "text/plain": [
              "0.9282769991755977"
            ]
          },
          "metadata": {},
          "execution_count": 37
        }
      ]
    },
    {
      "cell_type": "code",
      "source": [
        "# Просто для практики - расчет метрик качества вручную\n",
        "tp = 0 # True positive\n",
        "fp = 0 # False positive\n",
        "fn = 0 # False negative\n",
        "tn = 0 # True negative\n",
        "\n",
        "predictions = search_cv.predict_proba( X_test )\n",
        "for predicted_prob, actual in zip( predictions[:, 1], y_test ):    \n",
        "    if predicted_prob >= 0.5:\n",
        "        predicted = 1\n",
        "    else:\n",
        "        predicted = 0\n",
        "    \n",
        "    if predicted == 1:\n",
        "        if actual == 1:\n",
        "            tp += 1\n",
        "        else:\n",
        "            fp += 1\n",
        "    \n",
        "    else:\n",
        "        if actual == 1:\n",
        "            fn += 1\n",
        "        else:\n",
        "            tn += 1"
      ],
      "metadata": {
        "id": "VHqp8vAJYaRD"
      },
      "execution_count": null,
      "outputs": []
    },
    {
      "cell_type": "code",
      "source": [
        "pred=search_cv.predict(X_test)"
      ],
      "metadata": {
        "id": "HFt06LANaDSV"
      },
      "execution_count": null,
      "outputs": []
    },
    {
      "cell_type": "code",
      "source": [
        "tp, fp, fn, tn"
      ],
      "metadata": {
        "colab": {
          "base_uri": "https://localhost:8080/"
        },
        "id": "p8DCsNogYmQN",
        "outputId": "318e5498-62e3-4fd0-dabe-b683eb0296d3"
      },
      "execution_count": null,
      "outputs": [
        {
          "output_type": "execute_result",
          "data": {
            "text/plain": [
              "(1126, 193, 87, 840)"
            ]
          },
          "metadata": {},
          "execution_count": 40
        }
      ]
    },
    {
      "cell_type": "code",
      "source": [
        "# какая точность получилась?\n",
        "(tp + tn) / (tp + fp + fn + tn)"
      ],
      "metadata": {
        "colab": {
          "base_uri": "https://localhost:8080/"
        },
        "id": "xIcQWkRRYoOj",
        "outputId": "9c7d7b4d-249e-4fef-f6d4-e4e78406c1fc"
      },
      "execution_count": null,
      "outputs": [
        {
          "output_type": "execute_result",
          "data": {
            "text/plain": [
              "0.8753339269813001"
            ]
          },
          "metadata": {},
          "execution_count": 41
        }
      ]
    },
    {
      "cell_type": "code",
      "source": [
        "precision = tp / (tp + fp) # доля правильно предсказанных среди причисленных моделью к категории 1\n",
        "precision"
      ],
      "metadata": {
        "colab": {
          "base_uri": "https://localhost:8080/"
        },
        "id": "zbpKPE-6YxZq",
        "outputId": "e246d97e-330f-4556-d5a5-f4311cb06e4d"
      },
      "execution_count": null,
      "outputs": [
        {
          "output_type": "execute_result",
          "data": {
            "text/plain": [
              "0.8536770280515542"
            ]
          },
          "metadata": {},
          "execution_count": 42
        }
      ]
    },
    {
      "cell_type": "code",
      "source": [
        "recall = tp / (tp + fn) # Recall − доля правильно предсказанные среди Реальной категории 1\n",
        "recall"
      ],
      "metadata": {
        "colab": {
          "base_uri": "https://localhost:8080/"
        },
        "id": "0y6rDoXBY0or",
        "outputId": "ef48f973-3163-4cfb-926c-2a67f0a83576"
      },
      "execution_count": null,
      "outputs": [
        {
          "output_type": "execute_result",
          "data": {
            "text/plain": [
              "0.9282769991755977"
            ]
          },
          "metadata": {},
          "execution_count": 43
        }
      ]
    },
    {
      "cell_type": "code",
      "source": [
        "fpr = fp/(fp + tn) # доля неправильно предсказанных среди относящихся к категории 0\n",
        "\n",
        "fpr"
      ],
      "metadata": {
        "colab": {
          "base_uri": "https://localhost:8080/"
        },
        "id": "xmeaNsW6eVgk",
        "outputId": "7e5a26e5-1d12-4657-da76-25248a8fb1c3"
      },
      "execution_count": null,
      "outputs": [
        {
          "output_type": "execute_result",
          "data": {
            "text/plain": [
              "0.1868344627299129"
            ]
          },
          "metadata": {},
          "execution_count": 44
        }
      ]
    },
    {
      "cell_type": "markdown",
      "source": [
        "### 3. Построение ROC-кривой с помощью функции sklearn.metrics.roc_curve."
      ],
      "metadata": {
        "id": "2ANUta9k9QCz"
      }
    },
    {
      "cell_type": "code",
      "source": [
        "# посчитаем ROC-кривую (Receiver Operating Characteristic)\n",
        "from sklearn.metrics import roc_curve"
      ],
      "metadata": {
        "id": "hbriV1LB9cak"
      },
      "execution_count": null,
      "outputs": []
    },
    {
      "cell_type": "code",
      "source": [
        "# получаем значения false и true positive rate для различных значений порога\n",
        "fpr, tpr, thres = roc_curve( y_test, predictions[:, 1] )"
      ],
      "metadata": {
        "id": "A_XY-JboacLd"
      },
      "execution_count": null,
      "outputs": []
    },
    {
      "cell_type": "code",
      "source": [
        "for line in zip( fpr[:10], tpr[:10], thres[:10] ):\n",
        "    print( line )"
      ],
      "metadata": {
        "colab": {
          "base_uri": "https://localhost:8080/"
        },
        "id": "wCP8TnZiajk_",
        "outputId": "95516d3d-3a1d-4bd0-f977-4b3c7313779c"
      },
      "execution_count": null,
      "outputs": [
        {
          "output_type": "stream",
          "name": "stdout",
          "text": [
            "(0.0, 0.0, 1.9999910383390707)\n",
            "(0.0, 0.0008244023083264633, 0.9999910383390708)\n",
            "(0.0, 0.07996702390766694, 0.9985757529871959)\n",
            "(0.000968054211035818, 0.07996702390766694, 0.9985752439682749)\n",
            "(0.000968054211035818, 0.08244023083264633, 0.9985062291208803)\n",
            "(0.001936108422071636, 0.08244023083264633, 0.9984832726163773)\n",
            "(0.001936108422071636, 0.10057708161582853, 0.9981088189805695)\n",
            "(0.002904162633107454, 0.10057708161582853, 0.9980864246926623)\n",
            "(0.002904162633107454, 0.10140148392415499, 0.9980658679848564)\n",
            "(0.003872216844143272, 0.10140148392415499, 0.9980610120610677)\n"
          ]
        }
      ]
    },
    {
      "cell_type": "code",
      "source": [
        "plt.plot( fpr, tpr,  label = 'by sklearn.metrics.roc_curve' )\n",
        "plt.legend( loc = 0 )\n",
        "plt.xlabel('False Positive Rate')\n",
        "plt.ylabel('True Positive Rate')\n",
        "plt.grid()"
      ],
      "metadata": {
        "colab": {
          "base_uri": "https://localhost:8080/",
          "height": 449
        },
        "id": "MmaB7ryOalyE",
        "outputId": "001f8512-1306-41d3-b1ff-b5a993ecbaf5"
      },
      "execution_count": null,
      "outputs": [
        {
          "output_type": "display_data",
          "data": {
            "text/plain": [
              "<Figure size 640x480 with 1 Axes>"
            ],
            "image/png": "[encoded data removed]"
          },
          "metadata": {}
        }
      ]
    },
    {
      "cell_type": "markdown",
      "source": [
        "### 4. Вычисление значения ROC-AUC метрики с помощью функции sklearn.metrics.roc_auc_score"
      ],
      "metadata": {
        "id": "M0BOFpGl9hbo"
      }
    },
    {
      "cell_type": "code",
      "source": [
        "from sklearn.metrics import roc_auc_score"
      ],
      "metadata": {
        "id": "c8HSjH6v9nXM"
      },
      "execution_count": null,
      "outputs": []
    },
    {
      "cell_type": "code",
      "source": [
        "roc_auc_score( y_test, predictions[:, 1] )"
      ],
      "metadata": {
        "colab": {
          "base_uri": "https://localhost:8080/"
        },
        "id": "z-1r52B8azz2",
        "outputId": "66534591-30ff-4556-8b04-7cb0e07739c8"
      },
      "execution_count": null,
      "outputs": [
        {
          "output_type": "execute_result",
          "data": {
            "text/plain": [
              "0.9464042731652659"
            ]
          },
          "metadata": {},
          "execution_count": 50
        }
      ]
    },
    {
      "cell_type": "code",
      "source": [
        "# Можно посчитать с помощью более общего метода auc\n",
        "from sklearn.metrics import auc\n",
        "auc( fpr, tpr )"
      ],
      "metadata": {
        "colab": {
          "base_uri": "https://localhost:8080/"
        },
        "id": "ICdnsx8VbDsw",
        "outputId": "f5fe091d-613a-4aab-a7c4-99bb3c6dd2c0"
      },
      "execution_count": null,
      "outputs": [
        {
          "output_type": "execute_result",
          "data": {
            "text/plain": [
              "0.9464042731652659"
            ]
          },
          "metadata": {},
          "execution_count": 51
        }
      ]
    },
    {
      "cell_type": "markdown",
      "source": [
        "### 5. Реализация подсчета метрик TPR, FPR «вручную», без использования готовых функций из библиотеки sklearn"
      ],
      "metadata": {
        "id": "iXJh11IM9ryP"
      }
    },
    {
      "cell_type": "code",
      "source": [
        "def check(X_test, y_test, treshold):\n",
        "  \"\"\"\n",
        "  Ф-я в качестве аргументов на вход принимает массив значений \n",
        "  признаков тестовой выборки X_test, \n",
        "  истинное значение (y_test) и порог (threshold).\n",
        "  Возвращает значения метрик precision, recall, fpr\n",
        "  \"\"\"\n",
        "  tp = 0 # True positive\n",
        "  fp = 0 # False positive\n",
        "  fn = 0 # False negative\n",
        "  tn = 0 # True negative\n",
        "\n",
        "  predictions = clf.predict_proba( X_test )\n",
        "  for predicted_prob, actual in zip( predictions[:, 1], y_test ):    \n",
        "      if predicted_prob >= treshold:\n",
        "          predicted = 1\n",
        "      else:\n",
        "          predicted = 0\n",
        "      \n",
        "      if predicted == 1:\n",
        "          if actual == 1:\n",
        "              tp += 1\n",
        "          else:\n",
        "              fp += 1\n",
        "      \n",
        "      else:\n",
        "          if actual == 1:\n",
        "              fn += 1\n",
        "          else:\n",
        "              tn += 1\n",
        "  precision = tp / (tp + fp + 1e-09)\n",
        "  recall = tp / (tp + fn) \n",
        "  fpr = fp/(tn + fp ) \n",
        "  return precision, recall, fpr  \n",
        "\n"
      ],
      "metadata": {
        "id": "I6VHOKy7uo54"
      },
      "execution_count": null,
      "outputs": []
    },
    {
      "cell_type": "code",
      "source": [
        "thresholds = [0.05 * (i) for i in range (20)]\n",
        "fprs = []\n",
        "precisions =[] \n",
        "recalls = [] #tpr\n",
        "for th in thresholds:\n",
        "  precision_, recall_, fpr_ =  check(X_test, y_test, th) \n",
        "  fprs.append(fpr_) \n",
        "  precisions.append(precision_)\n",
        "  recalls.append(recall_)"
      ],
      "metadata": {
        "id": "BWDkSoqhv51j"
      },
      "execution_count": null,
      "outputs": []
    },
    {
      "cell_type": "markdown",
      "source": [
        "### 6. Построение ROC-кривой с помощью вычисленных в п. 5 метрик: объедините графики из п. 3 и п. 6 в один. Сравните, сделайте вывод."
      ],
      "metadata": {
        "id": "oy5fVaI69zVt"
      }
    },
    {
      "cell_type": "code",
      "source": [
        "a=[0,0.1,0.2,0.3,0.4,0.5,0.6,0.7,0.9,0.9,1]\n",
        "b=a"
      ],
      "metadata": {
        "id": "bw2VMaj8H1sa"
      },
      "execution_count": null,
      "outputs": []
    },
    {
      "cell_type": "code",
      "source": [
        "plt.plot( fpr, tpr, color = 'green',  linewidth =5 , label = 'by sklearn.metrics.roc_curve' )\n",
        "plt.plot( fprs, recalls, color='red' , label = 'hand_made', marker='o')\n",
        "plt.plot(a,b, color='brown', linestyle='dashed' )\n",
        "plt.legend( loc = 0 )\n",
        "plt.xlabel('False Positive Rate')\n",
        "plt.ylabel('True Positive Rate')\n",
        "plt.grid()\n",
        "plt.show()"
      ],
      "metadata": {
        "id": "NzA79LiL_MwF",
        "colab": {
          "base_uri": "https://localhost:8080/",
          "height": 449
        },
        "outputId": "628645e4-9b07-48f6-87a2-8a0af2cfdd9c"
      },
      "execution_count": null,
      "outputs": [
        {
          "output_type": "display_data",
          "data": {
            "text/plain": [
              "<Figure size 640x480 with 1 Axes>"
            ],
            "image/png": "[encoded data removed]"
          },
          "metadata": {}
        }
      ]
    },
    {
      "cell_type": "markdown",
      "source": [
        "###7. Постройте график Precision-Recall, используя метрики, посчитанные в п. 5."
      ],
      "metadata": {
        "id": "h6e2Ed1z_NOh"
      }
    },
    {
      "cell_type": "code",
      "source": [
        "# Для практики построим график, используя ф-ю из библиотеки\n",
        "from sklearn.metrics import precision_recall_curve"
      ],
      "metadata": {
        "id": "bjGFwxXc9Qrd"
      },
      "execution_count": null,
      "outputs": []
    },
    {
      "cell_type": "code",
      "source": [
        "pr, re, thres = precision_recall_curve(y_test, predictions[:, 1])"
      ],
      "metadata": {
        "id": "jhiss036OchZ"
      },
      "execution_count": null,
      "outputs": []
    },
    {
      "cell_type": "code",
      "source": [
        "plt.plot(re, pr,  label = 'by sklearn.metrics.precision_recall_curve')\n",
        "plt.grid()\n",
        "plt.xlim(0,1)\n",
        "plt.ylim(0,1)\n",
        "plt.ylabel('Precision')\n",
        "plt.xlabel('Recall')\n",
        "plt.legend( loc = 0 )\n",
        "plt.show()"
      ],
      "metadata": {
        "colab": {
          "base_uri": "https://localhost:8080/",
          "height": 455
        },
        "id": "4pTMhZ6mOhRY",
        "outputId": "68a8bbbd-a533-42b0-c551-8843b5a01829"
      },
      "execution_count": null,
      "outputs": [
        {
          "output_type": "display_data",
          "data": {
            "text/plain": [
              "<Figure size 640x480 with 1 Axes>"
            ],
            "image/png": "[encoded data removed]"
          },
          "metadata": {}
        }
      ]
    },
    {
      "cell_type": "code",
      "source": [
        "# построим график на основании расчетов\n",
        "plt.plot(recalls, precisions,  color='red' ,  label = 'by hand-made')\n",
        "plt.grid()\n",
        "plt.xlim(0,1)\n",
        "plt.ylim(0,1)\n",
        "plt.ylabel('Precision')\n",
        "plt.xlabel('Recall')\n",
        "plt.legend( loc = 0 )\n",
        "plt.show()"
      ],
      "metadata": {
        "colab": {
          "base_uri": "https://localhost:8080/",
          "height": 455
        },
        "id": "6mwYNs18Ophy",
        "outputId": "b9f66484-4ae5-4dfc-aec7-f31be6a585df"
      },
      "execution_count": null,
      "outputs": [
        {
          "output_type": "display_data",
          "data": {
            "text/plain": [
              "<Figure size 640x480 with 1 Axes>"
            ],
            "image/png": "[encoded data removed]"
          },
          "metadata": {}
        }
      ]
    },
    {
      "cell_type": "markdown",
      "source": [
        "###8. *Вычислите значение ROC-AUC метрики, используя метрики, посчитанные в п. 5."
      ],
      "metadata": {
        "id": "XtFf7Hy676jK"
      }
    },
    {
      "cell_type": "code",
      "execution_count": null,
      "metadata": {
        "id": "lEYmQ-aF70Wd"
      },
      "outputs": [],
      "source": [
        "roc_auc=0\n",
        "for i in range(len(fprs)-1):\n",
        "  roc_auc +=(recalls[i+1] + recalls[i])/2*(fprs[i]-fprs[i+1])"
      ]
    },
    {
      "cell_type": "code",
      "source": [
        "roc_auc"
      ],
      "metadata": {
        "colab": {
          "base_uri": "https://localhost:8080/"
        },
        "id": "LHkdGFMQOhvq",
        "outputId": "35b637a7-52ec-4a5c-b552-c8b7cdeed501"
      },
      "execution_count": null,
      "outputs": [
        {
          "output_type": "execute_result",
          "data": {
            "text/plain": [
              "0.9260871057254063"
            ]
          },
          "metadata": {},
          "execution_count": 61
        }
      ]
    },
    {
      "cell_type": "markdown",
      "source": [
        "Т.к вычисление велось приближенным способом, путем разбиения фигуры под кривой на трапеции и суммирования их площадей, метрика roc_auc (0.9254171292124922) получилась меньше, чем  вычисленная при помощи ф-ии auc и roc_auc_score (0.9473068859539565). В принципе, у нас незначительный дисбаланс между метками в целевом классе, поэтому можно пользоваться ею, тем более что ее значение близко к 1. "
      ],
      "metadata": {
        "id": "LzqU_rux92Rx"
      }
    },
    {
      "cell_type": "code",
      "source": [
        "# Для практики рассчитаем и вторую метрику pr_auc, тем более, что некоторый дисбаланс между метками класса имеется. \n",
        "# площадь под кривой pr_auc\n",
        "average_precision_score( y_test, predictions[:, 1] )"
      ],
      "metadata": {
        "id": "yz2xwqaF-HEr",
        "colab": {
          "base_uri": "https://localhost:8080/"
        },
        "outputId": "c273778c-702d-4394-efcd-599101303d65"
      },
      "execution_count": null,
      "outputs": [
        {
          "output_type": "execute_result",
          "data": {
            "text/plain": [
              "0.9491167202231695"
            ]
          },
          "metadata": {},
          "execution_count": 62
        }
      ]
    },
    {
      "cell_type": "markdown",
      "source": [
        "### 9. Сформулируйте выводы по проделанной работе:\n",
        "a. как по полученным графикам сделать вывод о качестве модели? Как вы оцениваете обученную модель исходя из подсчитанных метрик?\n",
        "\n",
        "b. *может ли ROC-кривая проходить ниже диагонали?"
      ],
      "metadata": {
        "id": "lFREhvT6_dYb"
      }
    },
    {
      "cell_type": "markdown",
      "source": [
        "a. По полученным графикам можно сделать вывод о том, что модель хорошая. Площадь под кривой близка к 1. О качестве модели говорят и полученные метрики precision и recall, величина которых также близка 1"
      ],
      "metadata": {
        "id": "MRYXUQlGMBTa"
      }
    },
    {
      "cell_type": "markdown",
      "source": [
        "b. Если ROC-кривая проходит ниже диагонали, это означает, что площадь под кривой будет менее 0.5. Значение менее 0,5 говорит, что классификатор действует с точностью до наоборот: если положительные назвать отрицательными и наоборот, классификатор будет работать лучше."
      ],
      "metadata": {
        "id": "-bpr0moBK8Cg"
      }
    }
  ]
}