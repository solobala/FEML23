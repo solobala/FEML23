{
  "nbformat": 4,
  "nbformat_minor": 0,
  "metadata": {
    "kernelspec": {
      "display_name": "Python 3",
      "language": "python",
      "name": "python3"
    },
    "language_info": {
      "codemirror_mode": {
        "name": "ipython",
        "version": 3
      },
      "file_extension": ".py",
      "mimetype": "text/x-python",
      "name": "python",
      "nbconvert_exporter": "python",
      "pygments_lexer": "ipython3",
      "version": "3.7.9"
    },
    "varInspector": {
      "cols": {
        "lenName": 16,
        "lenType": 16,
        "lenVar": 40
      },
      "kernels_config": {
        "python": {
          "delete_cmd_postfix": "",
          "delete_cmd_prefix": "del ",
          "library": "var_list.py",
          "varRefreshCmd": "print(var_dic_list())"
        },
        "r": {
          "delete_cmd_postfix": ") ",
          "delete_cmd_prefix": "rm(",
          "library": "var_list.r",
          "varRefreshCmd": "cat(var_dic_list()) "
        }
      },
      "types_to_exclude": [
        "module",
        "function",
        "builtin_function_or_method",
        "instance",
        "_Feature"
      ],
      "window_display": false
    },
    "colab": {
      "provenance": [],
      "toc_visible": true,
      "include_colab_link": true
    }
  },
  "cells": [
    {
      "cell_type": "markdown",
      "metadata": {
        "id": "view-in-github",
        "colab_type": "text"
      },
      "source": [
        "<a href=\"https://colab.research.google.com/github/solobala/FEML23/blob/master/FEML3_gradient_descent_Ponomareva.ipynb\" target=\"_parent\"><img src=\"https://colab.research.google.com/assets/colab-badge.svg\" alt=\"Open In Colab\"/></a>"
      ]
    },
    {
      "cell_type": "markdown",
      "source": [
        "https://bit.ly/FEML-3-GD"
      ],
      "metadata": {
        "id": "ycU6wIgnKXfp"
      }
    },
    {
      "cell_type": "markdown",
      "metadata": {
        "id": "jT2CUJrkIMpD"
      },
      "source": [
        "## Градиентный спуск"
      ]
    },
    {
      "cell_type": "code",
      "metadata": {
        "ExecuteTime": {
          "end_time": "2020-07-02T16:43:40.144255Z",
          "start_time": "2020-07-02T16:43:39.487117Z"
        },
        "id": "June5bnaIMo_"
      },
      "source": [
        "import numpy as np\n",
        "from sklearn.datasets import make_blobs\n",
        "from sklearn.model_selection import train_test_split\n",
        "from sklearn.metrics import accuracy_score\n",
        "import matplotlib.pyplot as plt"
      ],
      "execution_count": null,
      "outputs": []
    },
    {
      "cell_type": "code",
      "metadata": {
        "ExecuteTime": {
          "end_time": "2020-07-02T17:07:58.653482Z",
          "start_time": "2020-07-02T17:07:58.482885Z"
        },
        "id": "jgf7ipC7IMpE",
        "outputId": "720b391d-6090-4abd-bccd-a18788c89b5b",
        "colab": {
          "base_uri": "https://localhost:8080/",
          "height": 269
        }
      },
      "source": [
        "f = lambda x: x**3 - 2 * x**2 + 2\n",
        "x = np.linspace(-1, 2.5, 1000)\n",
        "plt.plot(x,f(x))\n",
        "plt.xlim([-1,2.5])\n",
        "plt.ylim([0,3])\n",
        "plt.show()"
      ],
      "execution_count": null,
      "outputs": [
        {
          "output_type": "display_data",
          "data": {
            "text/plain": [
              "<Figure size 432x288 with 1 Axes>"
            ],
            "image/png": "[encoded data removed]"
          },
          "metadata": {
            "needs_background": "light"
          }
        }
      ]
    },
    {
      "cell_type": "code",
      "metadata": {
        "ExecuteTime": {
          "end_time": "2020-07-02T17:08:28.334753Z",
          "start_time": "2020-07-02T17:08:28.174017Z"
        },
        "id": "zDYzT6SoIMpG",
        "outputId": "d1da9057-9954-43d7-df9a-8d4721c15e25",
        "colab": {
          "base_uri": "https://localhost:8080/",
          "height": 269
        }
      },
      "source": [
        "f_prime = lambda x: 3 * x**2 - 4 * x\n",
        "x = np.linspace(-1, 2.5, 1000)\n",
        "plt.plot(x, f_prime(x))\n",
        "plt.xlim([-1,2.5])\n",
        "plt.ylim([-2,3])\n",
        "plt.show()"
      ],
      "execution_count": null,
      "outputs": [
        {
          "output_type": "display_data",
          "data": {
            "text/plain": [
              "<Figure size 432x288 with 1 Axes>"
            ],
            "image/png": "[encoded data removed]"
          },
          "metadata": {
            "needs_background": "light"
          }
        }
      ]
    },
    {
      "cell_type": "markdown",
      "metadata": {
        "id": "cj-1SJwdIMpH"
      },
      "source": [
        "## Метод градиентного спуска"
      ]
    },
    {
      "cell_type": "code",
      "metadata": {
        "ExecuteTime": {
          "end_time": "2020-07-02T17:08:54.645718Z",
          "start_time": "2020-07-02T17:08:54.642533Z"
        },
        "id": "Pzkz-xfHIMpH"
      },
      "source": [
        "lr = 0.1\n",
        "points = [2]\n",
        "n_epochs = 15"
      ],
      "execution_count": null,
      "outputs": []
    },
    {
      "cell_type": "code",
      "metadata": {
        "ExecuteTime": {
          "end_time": "2020-07-02T17:09:37.221392Z",
          "start_time": "2020-07-02T17:09:37.217541Z"
        },
        "id": "AI0pr1sqIMpI"
      },
      "source": [
        "for _ in range(n_epochs):\n",
        "    cur_point = points[-1]\n",
        "    grad = f_prime(cur_point)\n",
        "    new_point = cur_point - lr * grad\n",
        "    points.append(new_point)"
      ],
      "execution_count": null,
      "outputs": []
    },
    {
      "cell_type": "code",
      "metadata": {
        "ExecuteTime": {
          "end_time": "2020-07-02T17:09:39.334618Z",
          "start_time": "2020-07-02T17:09:39.331181Z"
        },
        "id": "gN-ccGiWIMpI"
      },
      "source": [
        "y_points = [f(p) for p in points]"
      ],
      "execution_count": null,
      "outputs": []
    },
    {
      "cell_type": "code",
      "metadata": {
        "ExecuteTime": {
          "end_time": "2020-07-02T17:09:40.298739Z",
          "start_time": "2020-07-02T17:09:40.163350Z"
        },
        "id": "WMnDJOhuIMpJ",
        "outputId": "9f1b5d56-09aa-4566-e94f-a53ceca0c205",
        "colab": {
          "base_uri": "https://localhost:8080/",
          "height": 269
        }
      },
      "source": [
        "plt.plot(x,f(x))\n",
        "plt.plot(points, y_points, 'ro')\n",
        "plt.xlim([-1,2.5])\n",
        "plt.ylim([-2,3])\n",
        "plt.show()"
      ],
      "execution_count": null,
      "outputs": [
        {
          "output_type": "display_data",
          "data": {
            "text/plain": [
              "<Figure size 432x288 with 1 Axes>"
            ],
            "image/png": "[encoded data removed]"
          },
          "metadata": {
            "needs_background": "light"
          }
        }
      ]
    },
    {
      "cell_type": "markdown",
      "metadata": {
        "id": "-G9UFIqzIMpK"
      },
      "source": [
        "## Практический пример"
      ]
    },
    {
      "cell_type": "code",
      "metadata": {
        "ExecuteTime": {
          "end_time": "2020-07-02T17:10:58.925894Z",
          "start_time": "2020-07-02T17:10:58.763281Z"
        },
        "id": "GjBtKGyjIMpL",
        "outputId": "b14291eb-5f6a-4f70-8ebf-16a211d38f1d",
        "colab": {
          "base_uri": "https://localhost:8080/",
          "height": 265
        }
      },
      "source": [
        "N = 100\n",
        "X = np.random.uniform(low=0, high=100, size=N)\n",
        "Y = 2*X + 1 + np.random.normal(scale=5, size=N)\n",
        "\n",
        "plt.scatter(X, Y)\n",
        "plt.show()"
      ],
      "execution_count": null,
      "outputs": [
        {
          "output_type": "display_data",
          "data": {
            "text/plain": [
              "<Figure size 432x288 with 1 Axes>"
            ],
            "image/png": "[encoded data removed]"
          },
          "metadata": {
            "needs_background": "light"
          }
        }
      ]
    },
    {
      "cell_type": "markdown",
      "metadata": {
        "id": "bK30a9x0IMpN"
      },
      "source": [
        "## Применим метод градиентного спуска"
      ]
    },
    {
      "cell_type": "code",
      "metadata": {
        "ExecuteTime": {
          "end_time": "2020-07-02T17:11:59.522475Z",
          "start_time": "2020-07-02T17:11:59.519206Z"
        },
        "id": "LVKj6wQKIMpN"
      },
      "source": [
        "EPOCHS = 20\n",
        "LEARNING_RATE = 0.0001"
      ],
      "execution_count": null,
      "outputs": []
    },
    {
      "cell_type": "code",
      "metadata": {
        "ExecuteTime": {
          "end_time": "2020-07-02T17:12:05.180457Z",
          "start_time": "2020-07-02T17:12:05.175428Z"
        },
        "id": "BNXhXObuIMpO"
      },
      "source": [
        "def cost_function(X, y, theta0, theta1):\n",
        "    total_cost = 0\n",
        "    for i in range(len(X)):\n",
        "        pred = theta0 + theta1 * X[i]\n",
        "        total_cost += (pred - y[i]) ** 2\n",
        "    return total_cost / len(X)"
      ],
      "execution_count": null,
      "outputs": []
    },
    {
      "cell_type": "markdown",
      "source": [
        "$$Loss = (θ_0 + θ_1 * x - y)^2 $$\n",
        "\n",
        "$$\\frac{dLoss}{dθ_0} = 2 \\cdot (θ_0 + θ_1 * x - y) \\cdot 1 $$\n",
        "\n",
        "\n",
        "$$\\frac{dLoss}{dθ_1} = 2 \\cdot (θ_0 + θ_1 * x - y) \\cdot x $$"
      ],
      "metadata": {
        "id": "AgeswDIMDWSy"
      }
    },
    {
      "cell_type": "code",
      "metadata": {
        "ExecuteTime": {
          "end_time": "2020-07-02T17:12:44.559629Z",
          "start_time": "2020-07-02T17:12:44.555016Z"
        },
        "id": "-T3LPQ_CIMpO"
      },
      "source": [
        "def der_theta0(X, y, theta0, theta1):\n",
        "    total_cost = 0\n",
        "    for i in range(len(X)):\n",
        "        pred = theta0 + theta1 * X[i]\n",
        "        total_cost += 2 * (pred - y[i])\n",
        "    return total_cost / len(X)"
      ],
      "execution_count": null,
      "outputs": []
    },
    {
      "cell_type": "code",
      "metadata": {
        "ExecuteTime": {
          "end_time": "2020-07-02T17:12:47.210313Z",
          "start_time": "2020-07-02T17:12:47.205710Z"
        },
        "id": "eC9AmaqIIMpP"
      },
      "source": [
        "def der_theta1(X, y, theta0, theta1):\n",
        "    total_cost = 0\n",
        "    for i in range(len(X)):\n",
        "        pred = theta0 + theta1 * X[i]\n",
        "        total_cost += 2 * (pred - y[i]) * X[i]\n",
        "    return total_cost / (len(X))"
      ],
      "execution_count": null,
      "outputs": []
    },
    {
      "cell_type": "code",
      "metadata": {
        "ExecuteTime": {
          "end_time": "2020-07-02T17:13:37.902116Z",
          "start_time": "2020-07-02T17:13:37.885449Z"
        },
        "id": "sI_yxm9JIMpP",
        "outputId": "dcf73ce7-947f-41d2-ff7e-f77c49ee142e",
        "colab": {
          "base_uri": "https://localhost:8080/"
        }
      },
      "source": [
        "theta0 = 1\n",
        "theta1 = 1\n",
        "\n",
        "for _ in range(EPOCHS):\n",
        "    dt0 = der_theta0(X, Y, theta0, theta1)\n",
        "    dt1 = der_theta1(X, Y, theta0, theta1)\n",
        "\n",
        "    theta0 = theta0 - LEARNING_RATE * dt0\n",
        "    theta1 -= LEARNING_RATE * dt1\n",
        "\n",
        "    print(\"t0:\", theta0, \"t1:\", theta1, \"cost:\", cost_function(X, Y, theta0, theta1))"
      ],
      "execution_count": null,
      "outputs": [
        {
          "output_type": "stream",
          "name": "stdout",
          "text": [
            "t0: 1.0096264979002953 t1: 1.6334874467932767 cost: 462.92597226483093\n",
            "t0: 1.013165130309258 t1: 1.8673240380285874 cost: 88.52441113438259\n",
            "t0: 1.0144565771552714 t1: 1.9536393099196296 cost: 37.51083461413318\n",
            "t0: 1.0149185313126818 t1: 1.98550070197666 cost: 30.560044908152474\n",
            "t0: 1.015074299363487 t1: 1.9972617787485536 cost: 29.612969855706424\n",
            "t0: 1.0151170471080369 t1: 2.0016033167069116 cost: 29.48392271902273\n",
            "t0: 1.0151180769676935 t1: 2.003206113726258 cost: 29.466334855840778\n",
            "t0: 1.0151037084838956 t1: 2.0037979716325474 cost: 29.46393372378157\n",
            "t0: 1.015083656870326 t1: 2.004016666127659 cost: 29.46360183947294\n",
            "t0: 1.0150615082599885 t1: 2.0040976164823654 cost: 29.463551898188413\n",
            "t0: 1.015038586385956 t1: 2.004127721951199 cost: 29.463540373170986\n",
            "t0: 1.0150153798718096 t1: 2.0041390592643835 cost: 29.46353408301595\n",
            "t0: 1.0149920690809278 t1: 2.004143468760798 cost: 29.463528506636397\n",
            "t0: 1.014968720589989 t1: 2.0041453210113764 cost: 29.463523028017736\n",
            "t0: 1.0149453589741004 t1: 2.004146229305272 cost: 29.463517563225764\n",
            "t0: 1.0149219933045177 t1: 2.004146789148641 cost: 29.46351210082404\n",
            "t0: 1.0148986269296305 t1: 2.004147220357988 cost: 29.4635066392543\n",
            "t0: 1.0148752610853722 t1: 2.004147604073189 cost: 29.463501178304067\n",
            "t0: 1.014851896227915 t1: 2.0041479702450418 cost: 29.463495717944443\n",
            "t0: 1.014828532525601 t1: 2.00414832992915 cost: 29.463490258171372\n"
          ]
        }
      ]
    },
    {
      "cell_type": "code",
      "metadata": {
        "ExecuteTime": {
          "end_time": "2019-10-02T18:03:03.238389Z",
          "start_time": "2019-10-02T18:03:03.227373Z"
        },
        "id": "jIeNtiduIMpQ",
        "outputId": "45702a03-f34e-498f-bd8c-bac4bf5c6559",
        "colab": {
          "base_uri": "https://localhost:8080/"
        }
      },
      "source": [
        "cost_function(X,Y,10,10)"
      ],
      "execution_count": null,
      "outputs": [
        {
          "output_type": "execute_result",
          "data": {
            "text/plain": [
              "208638.10857124915"
            ]
          },
          "metadata": {},
          "execution_count": 14
        }
      ]
    },
    {
      "cell_type": "markdown",
      "source": [
        "$$Loss = \\frac{1}{n}||Xw - Y||^{2}$$\n",
        "\n",
        "\n",
        "где используется $L_{2}$ норма:\n",
        "\n",
        "$$||X w - Y|| = \\sqrt{\\sum_{i=1}^n{(X_iw - y_i)^2}} $$\n",
        "\n",
        "$$MSE = \\frac{1}{n}\\sqrt{\\sum_{i=1}^n{(X_iw - y_i)^2}} ^{2} = \\frac{1}{n}\\sum_{i=1}^n{(X_iw - y_i)^2}$$\n",
        "\n",
        "Градиент:\n",
        "\n",
        "$$\\frac{∂ MSE}{∂ w_0} = \\frac{2}{n}\\sum{({Xw - y})}$$\n",
        "\n",
        "$$\\frac{∂ MSE}{∂ w} = \\frac{2}{n}\\sum{({Xw - y}) \\cdot X}$$\n"
      ],
      "metadata": {
        "id": "pGTsqgRvFmV0"
      }
    },
    {
      "cell_type": "code",
      "metadata": {
        "ExecuteTime": {
          "end_time": "2020-07-02T17:15:28.752738Z",
          "start_time": "2020-07-02T17:15:28.745209Z"
        },
        "id": "zg-6R1TXIMpQ",
        "colab": {
          "base_uri": "https://localhost:8080/"
        },
        "outputId": "f751ff03-543b-4f22-bc3a-cb14f444aa1f"
      },
      "source": [
        "EPOCHS = 20\n",
        "LEARNING_RATE = 0.0001\n",
        "\n",
        "costs = []\n",
        "params = []\n",
        "preds = []\n",
        "np.random.seed(9)\n",
        "params = np.random.normal(size=(2,))\n",
        "print(params)\n",
        "\n",
        "list_params_gd = [params.copy()]\n",
        "for _ in range(EPOCHS):\n",
        "    predictions = params[0] + params[1] * X\n",
        "    preds.append(predictions)\n",
        "\n",
        "    cost = np.sum((predictions - Y) ** 2) / len(predictions)\n",
        "    costs.append(cost)\n",
        "\n",
        "    params[0] -= LEARNING_RATE * np.sum(predictions - Y) * (2/len(predictions))\n",
        "    params[1] -= LEARNING_RATE * np.sum((predictions - Y) * X) * (2/len(predictions))\n",
        "\n",
        "    list_params_gd.append(params.copy())"
      ],
      "execution_count": null,
      "outputs": [
        {
          "output_type": "stream",
          "name": "stdout",
          "text": [
            "[ 0.00110855 -0.28954407]\n"
          ]
        }
      ]
    },
    {
      "cell_type": "code",
      "source": [
        "costs[-1]"
      ],
      "metadata": {
        "colab": {
          "base_uri": "https://localhost:8080/"
        },
        "id": "aFNsuUOKJ5-y",
        "outputId": "856b4a4a-8d24-4ded-e25d-e8d95aef99f7"
      },
      "execution_count": null,
      "outputs": [
        {
          "output_type": "execute_result",
          "data": {
            "text/plain": [
              "29.491618312060513"
            ]
          },
          "metadata": {},
          "execution_count": 26
        }
      ]
    },
    {
      "cell_type": "code",
      "metadata": {
        "ExecuteTime": {
          "end_time": "2020-07-02T17:15:31.784801Z",
          "start_time": "2020-07-02T17:15:31.525987Z"
        },
        "id": "m3pHpOVkIMpR",
        "outputId": "706fe328-c7fb-4226-c496-75e5d2bc745c",
        "colab": {
          "base_uri": "https://localhost:8080/",
          "height": 375
        }
      },
      "source": [
        "plt.figure(figsize=(10, 6))\n",
        "plt.plot(costs)\n",
        "plt.show()"
      ],
      "execution_count": null,
      "outputs": [
        {
          "output_type": "display_data",
          "data": {
            "text/plain": [
              "<Figure size 720x432 with 1 Axes>"
            ],
            "image/png": "[encoded data removed]"
          },
          "metadata": {
            "needs_background": "light"
          }
        }
      ]
    },
    {
      "cell_type": "code",
      "metadata": {
        "ExecuteTime": {
          "end_time": "2020-07-02T17:16:43.830493Z",
          "start_time": "2020-07-02T17:16:43.602842Z"
        },
        "id": "YevPKWFUIMpR",
        "outputId": "d10525f9-c8f8-4221-ec17-58dd2709797e",
        "colab": {
          "base_uri": "https://localhost:8080/",
          "height": 483
        }
      },
      "source": [
        "plt.figure(figsize=(10, 8))\n",
        "plt.scatter(X, Y, color='blue', label='Train')\n",
        "plt.plot(X, preds[10], color='red', label='Pred')\n",
        "plt.legend()\n",
        "plt.show()"
      ],
      "execution_count": null,
      "outputs": [
        {
          "output_type": "display_data",
          "data": {
            "text/plain": [
              "<Figure size 720x576 with 1 Axes>"
            ],
            "image/png": "[encoded data removed]"
          },
          "metadata": {
            "needs_background": "light"
          }
        }
      ]
    },
    {
      "cell_type": "code",
      "metadata": {
        "ExecuteTime": {
          "end_time": "2020-07-02T17:15:50.387455Z",
          "start_time": "2020-07-02T17:15:50.382315Z"
        },
        "id": "MTjjf4syIMpS",
        "outputId": "f5594e5a-4988-4203-ab3a-216343ea4aae",
        "colab": {
          "base_uri": "https://localhost:8080/"
        }
      },
      "source": [
        "params"
      ],
      "execution_count": null,
      "outputs": [
        {
          "output_type": "execute_result",
          "data": {
            "text/plain": [
              "array([0.03685792, 2.01904572])"
            ]
          },
          "metadata": {},
          "execution_count": 29
        }
      ]
    },
    {
      "cell_type": "markdown",
      "metadata": {
        "id": "HP9lG7u4IMpS"
      },
      "source": [
        "## Метод стохастического градиентного спуска"
      ]
    },
    {
      "cell_type": "code",
      "source": [
        "EPOCHS = 100\n",
        "LEARNING_RATE = 0.0001\n",
        "\n",
        "costs = []\n",
        "params = []\n",
        "preds = []\n",
        "np.random.seed(9)\n",
        "params = np.random.normal(size=(2,))\n",
        "print(params)\n",
        "list_params_sgd = [params.copy()]\n",
        "\n",
        "for _ in range(EPOCHS):\n",
        "    predictions = params[0] + params[1] * X\n",
        "    preds.append(predictions)\n",
        "\n",
        "    cost = np.sum((predictions - Y) ** 2) / len(predictions)\n",
        "    costs.append(cost)\n",
        "\n",
        "    i = np.random.choice(len(X))\n",
        "    current_prediction = params[0] + params[1] * X[i]\n",
        "\n",
        "    params[0] -= LEARNING_RATE * np.sum(current_prediction - Y[i]) * 2\n",
        "    params[1] -= LEARNING_RATE * np.sum((current_prediction - Y[i]) * X[i]) * 2\n",
        "\n",
        "    list_params_sgd.append(params.copy())"
      ],
      "metadata": {
        "colab": {
          "base_uri": "https://localhost:8080/"
        },
        "id": "m1_L04EIH0Nc",
        "outputId": "5cc7c193-5407-4d2d-a977-007f2955e47a"
      },
      "execution_count": null,
      "outputs": [
        {
          "output_type": "stream",
          "name": "stdout",
          "text": [
            "[ 0.00110855 -0.28954407]\n"
          ]
        }
      ]
    },
    {
      "cell_type": "code",
      "source": [
        "costs[-1]"
      ],
      "metadata": {
        "colab": {
          "base_uri": "https://localhost:8080/"
        },
        "id": "72e5eZyEJ_9R",
        "outputId": "3a0828ab-a34c-456c-cf70-6002bed9d47b"
      },
      "execution_count": null,
      "outputs": [
        {
          "output_type": "execute_result",
          "data": {
            "text/plain": [
              "39.08007084421647"
            ]
          },
          "metadata": {},
          "execution_count": 31
        }
      ]
    },
    {
      "cell_type": "code",
      "metadata": {
        "ExecuteTime": {
          "end_time": "2020-07-02T17:22:41.566918Z",
          "start_time": "2020-07-02T17:22:41.441683Z"
        },
        "id": "9_b0ORW4IMpT",
        "outputId": "4f6eb5d9-89c3-4809-db97-6c2bce270586",
        "colab": {
          "base_uri": "https://localhost:8080/",
          "height": 267
        }
      },
      "source": [
        "plt.plot(costs[10:])\n",
        "plt.show()"
      ],
      "execution_count": null,
      "outputs": [
        {
          "output_type": "display_data",
          "data": {
            "text/plain": [
              "<Figure size 432x288 with 1 Axes>"
            ],
            "image/png": "[encoded data removed]"
          },
          "metadata": {
            "needs_background": "light"
          }
        }
      ]
    },
    {
      "cell_type": "code",
      "metadata": {
        "ExecuteTime": {
          "end_time": "2020-07-02T17:20:25.440071Z",
          "start_time": "2020-07-02T17:20:25.258393Z"
        },
        "id": "Pz0Mp67fIMpU",
        "outputId": "4a5daa8d-294e-47c2-9367-a8b211731224",
        "colab": {
          "base_uri": "https://localhost:8080/",
          "height": 265
        }
      },
      "source": [
        "plt.scatter(X, Y, color='blue')\n",
        "plt.plot(X, preds[-1], color='red')\n",
        "plt.show()"
      ],
      "execution_count": null,
      "outputs": [
        {
          "output_type": "display_data",
          "data": {
            "text/plain": [
              "<Figure size 432x288 with 1 Axes>"
            ],
            "image/png": "[encoded data removed]"
          },
          "metadata": {
            "needs_background": "light"
          }
        }
      ]
    },
    {
      "cell_type": "code",
      "source": [
        "list_params_sgd = np.array(list_params_sgd)\n",
        "list_params_gd = np.array(list_params_gd)\n",
        "\n",
        "plt.plot(list_params_gd[:, 0], list_params_gd[:, 1], marker='*', label='gd')\n",
        "plt.plot(list_params_sgd[:, 0], list_params_sgd[:, 1], marker='*', label='sgd')\n",
        "plt.legend()\n",
        "plt.show()"
      ],
      "metadata": {
        "colab": {
          "base_uri": "https://localhost:8080/",
          "height": 265
        },
        "id": "QJe2Wl00IuQf",
        "outputId": "dd0bc709-a520-4cff-ea87-9880649ec417"
      },
      "execution_count": null,
      "outputs": [
        {
          "output_type": "display_data",
          "data": {
            "text/plain": [
              "<Figure size 432x288 with 1 Axes>"
            ],
            "image/png": "[encoded data removed]"
          },
          "metadata": {
            "needs_background": "light"
          }
        }
      ]
    },
    {
      "cell_type": "markdown",
      "source": [
        "## **Дополнительные материалы**\n",
        "1. Методы оптимизации нейронных сетей https://habr.com/ru/post/318970/\n",
        "2. Реализация линейной регрессии https://www.youtube.com/watch?v=KJA9A1q9l7E\n",
        "3. Реализация логистической регрессии https://youtu.be/ruVK07YF-RU\n",
        "4. Метод сопряжённых градиентов (Newton conjugate gradient method) http://www.machinelearning.ru/wiki/index.php?title=%D0%9C%D0%B5%D1%82%D0%BE%D0%B4_%D1%81%D0%BE%D0%BF%D1%80%D1%8F%D0%B6%D1%91%D0%BD%D0%BD%D1%8B%D1%85_%D0%B3%D1%80%D0%B0%D0%B4%D0%B8%D0%B5%D0%BD%D1%82%D0%BE%D0%B2\n"
      ],
      "metadata": {
        "id": "23c8VvE4Q_lH"
      }
    }
  ]
}