{
  "nbformat": 4,
  "nbformat_minor": 0,
  "metadata": {
    "colab": {
      "provenance": [],
      "include_colab_link": true
    },
    "kernelspec": {
      "name": "python3",
      "display_name": "Python 3"
    },
    "language_info": {
      "name": "python"
    }
  },
  "cells": [
    {
      "cell_type": "markdown",
      "metadata": {
        "id": "view-in-github",
        "colab_type": "text"
      },
      "source": [
        "<a href=\"https://colab.research.google.com/github/solobala/FEML23/blob/master/FEML23_DZ2_2.ipynb\" target=\"_parent\"><img src=\"https://colab.research.google.com/assets/colab-badge.svg\" alt=\"Open In Colab\"/></a>"
      ]
    },
    {
      "cell_type": "markdown",
      "source": [
        "Домашнее задание к занятию Функции потерь и оптимизация\n",
        "==========="
      ],
      "metadata": {
        "id": "wmdOUaavD5qu"
      }
    },
    {
      "cell_type": "markdown",
      "source": [
        "## 1. Загрузите данные. Используйте датасет с ирисами. Его можно загрузить непосредственно из библиотеки Sklearn. В данных оставьте только 2 класса: Iris Versicolor, Iris Virginica."
      ],
      "metadata": {
        "id": "-urNOqxeEJg3"
      }
    },
    {
      "cell_type": "markdown",
      "source": [
        "### Импорт необходимых библиотек"
      ],
      "metadata": {
        "id": "Hscd-hHgHqeQ"
      }
    },
    {
      "cell_type": "code",
      "source": [
        "import numpy as np\n",
        "import pandas as pd\n",
        "\n",
        "import scipy.stats as sts\n",
        "from scipy.optimize import minimize\n",
        "from sklearn.linear_model import LogisticRegression\n",
        "from sklearn.model_selection import train_test_split\n",
        "\n",
        "from sklearn.preprocessing import LabelEncoder\n",
        "from sklearn.pipeline import make_pipeline\n",
        "from sklearn import datasets\n",
        "\n",
        "# from tensorflow import keras\n",
        "# from tensorflow.keras import layers\n",
        "\n",
        "import matplotlib.pyplot as plt\n",
        "import seaborn as sns\n"
      ],
      "metadata": {
        "id": "gxjekMeT7F15"
      },
      "execution_count": null,
      "outputs": []
    },
    {
      "cell_type": "markdown",
      "source": [
        "### Загрузка датасета"
      ],
      "metadata": {
        "id": "3FX8OkINpERt"
      }
    },
    {
      "cell_type": "code",
      "source": [
        "iris = datasets.load_iris()\n",
        "data = pd.DataFrame(iris.data, columns=iris.feature_names)\n",
        "data_class = iris.target\n",
        "data['target']=data_class\n",
        "data = data[data['target']!=0]\n",
        "data.head()\n"
      ],
      "metadata": {
        "colab": {
          "base_uri": "https://localhost:8080/",
          "height": 206
        },
        "id": "MO_GUiX37KGU",
        "outputId": "3c8648d5-488f-4c69-d6fe-9a0475e78e7e"
      },
      "execution_count": null,
      "outputs": [
        {
          "output_type": "execute_result",
          "data": {
            "text/plain": [
              "    sepal length (cm)  sepal width (cm)  petal length (cm)  petal width (cm)  \\\n",
              "50                7.0               3.2                4.7               1.4   \n",
              "51                6.4               3.2                4.5               1.5   \n",
              "52                6.9               3.1                4.9               1.5   \n",
              "53                5.5               2.3                4.0               1.3   \n",
              "54                6.5               2.8                4.6               1.5   \n",
              "\n",
              "    target  \n",
              "50       1  \n",
              "51       1  \n",
              "52       1  \n",
              "53       1  \n",
              "54       1  "
            ],
            "text/html": [
              "\n",
              "  <div id=\"df-a78c2f74-b232-4e0b-be75-7a9097eae1ae\">\n",
              "    <div class=\"colab-df-container\">\n",
              "      <div>\n",
              "<style scoped>\n",
              "    .dataframe tbody tr th:only-of-type {\n",
              "        vertical-align: middle;\n",
              "    }\n",
              "\n",
              "    .dataframe tbody tr th {\n",
              "        vertical-align: top;\n",
              "    }\n",
              "\n",
              "    .dataframe thead th {\n",
              "        text-align: right;\n",
              "    }\n",
              "</style>\n",
              "<table border=\"1\" class=\"dataframe\">\n",
              "  <thead>\n",
              "    <tr style=\"text-align: right;\">\n",
              "      <th></th>\n",
              "      <th>sepal length (cm)</th>\n",
              "      <th>sepal width (cm)</th>\n",
              "      <th>petal length (cm)</th>\n",
              "      <th>petal width (cm)</th>\n",
              "      <th>target</th>\n",
              "    </tr>\n",
              "  </thead>\n",
              "  <tbody>\n",
              "    <tr>\n",
              "      <th>50</th>\n",
              "      <td>7.0</td>\n",
              "      <td>3.2</td>\n",
              "      <td>4.7</td>\n",
              "      <td>1.4</td>\n",
              "      <td>1</td>\n",
              "    </tr>\n",
              "    <tr>\n",
              "      <th>51</th>\n",
              "      <td>6.4</td>\n",
              "      <td>3.2</td>\n",
              "      <td>4.5</td>\n",
              "      <td>1.5</td>\n",
              "      <td>1</td>\n",
              "    </tr>\n",
              "    <tr>\n",
              "      <th>52</th>\n",
              "      <td>6.9</td>\n",
              "      <td>3.1</td>\n",
              "      <td>4.9</td>\n",
              "      <td>1.5</td>\n",
              "      <td>1</td>\n",
              "    </tr>\n",
              "    <tr>\n",
              "      <th>53</th>\n",
              "      <td>5.5</td>\n",
              "      <td>2.3</td>\n",
              "      <td>4.0</td>\n",
              "      <td>1.3</td>\n",
              "      <td>1</td>\n",
              "    </tr>\n",
              "    <tr>\n",
              "      <th>54</th>\n",
              "      <td>6.5</td>\n",
              "      <td>2.8</td>\n",
              "      <td>4.6</td>\n",
              "      <td>1.5</td>\n",
              "      <td>1</td>\n",
              "    </tr>\n",
              "  </tbody>\n",
              "</table>\n",
              "</div>\n",
              "      <button class=\"colab-df-convert\" onclick=\"convertToInteractive('df-a78c2f74-b232-4e0b-be75-7a9097eae1ae')\"\n",
              "              title=\"Convert this dataframe to an interactive table.\"\n",
              "              style=\"display:none;\">\n",
              "        \n",
              "  <svg xmlns=\"http://www.w3.org/2000/svg\" height=\"24px\"viewBox=\"0 0 24 24\"\n",
              "       width=\"24px\">\n",
              "    <path d=\"M0 0h24v24H0V0z\" fill=\"none\"/>\n",
              "    <path d=\"M18.56 5.44l.94 2.06.94-2.06 2.06-.94-2.06-.94-.94-2.06-.94 2.06-2.06.94zm-11 1L8.5 8.5l.94-2.06 2.06-.94-2.06-.94L8.5 2.5l-.94 2.06-2.06.94zm10 10l.94 2.06.94-2.06 2.06-.94-2.06-.94-.94-2.06-.94 2.06-2.06.94z\"/><path d=\"M17.41 7.96l-1.37-1.37c-.4-.4-.92-.59-1.43-.59-.52 0-1.04.2-1.43.59L10.3 9.45l-7.72 7.72c-.78.78-.78 2.05 0 2.83L4 21.41c.39.39.9.59 1.41.59.51 0 1.02-.2 1.41-.59l7.78-7.78 2.81-2.81c.8-.78.8-2.07 0-2.86zM5.41 20L4 18.59l7.72-7.72 1.47 1.35L5.41 20z\"/>\n",
              "  </svg>\n",
              "      </button>\n",
              "      \n",
              "  <style>\n",
              "    .colab-df-container {\n",
              "      display:flex;\n",
              "      flex-wrap:wrap;\n",
              "      gap: 12px;\n",
              "    }\n",
              "\n",
              "    .colab-df-convert {\n",
              "      background-color: #E8F0FE;\n",
              "      border: none;\n",
              "      border-radius: 50%;\n",
              "      cursor: pointer;\n",
              "      display: none;\n",
              "      fill: #1967D2;\n",
              "      height: 32px;\n",
              "      padding: 0 0 0 0;\n",
              "      width: 32px;\n",
              "    }\n",
              "\n",
              "    .colab-df-convert:hover {\n",
              "      background-color: #E2EBFA;\n",
              "      box-shadow: 0px 1px 2px rgba(60, 64, 67, 0.3), 0px 1px 3px 1px rgba(60, 64, 67, 0.15);\n",
              "      fill: #174EA6;\n",
              "    }\n",
              "\n",
              "    [theme=dark] .colab-df-convert {\n",
              "      background-color: #3B4455;\n",
              "      fill: #D2E3FC;\n",
              "    }\n",
              "\n",
              "    [theme=dark] .colab-df-convert:hover {\n",
              "      background-color: #434B5C;\n",
              "      box-shadow: 0px 1px 3px 1px rgba(0, 0, 0, 0.15);\n",
              "      filter: drop-shadow(0px 1px 2px rgba(0, 0, 0, 0.3));\n",
              "      fill: #FFFFFF;\n",
              "    }\n",
              "  </style>\n",
              "\n",
              "      <script>\n",
              "        const buttonEl =\n",
              "          document.querySelector('#df-a78c2f74-b232-4e0b-be75-7a9097eae1ae button.colab-df-convert');\n",
              "        buttonEl.style.display =\n",
              "          google.colab.kernel.accessAllowed ? 'block' : 'none';\n",
              "\n",
              "        async function convertToInteractive(key) {\n",
              "          const element = document.querySelector('#df-a78c2f74-b232-4e0b-be75-7a9097eae1ae');\n",
              "          const dataTable =\n",
              "            await google.colab.kernel.invokeFunction('convertToInteractive',\n",
              "                                                     [key], {});\n",
              "          if (!dataTable) return;\n",
              "\n",
              "          const docLinkHtml = 'Like what you see? Visit the ' +\n",
              "            '<a target=\"_blank\" href=https://colab.research.google.com/notebooks/data_table.ipynb>data table notebook</a>'\n",
              "            + ' to learn more about interactive tables.';\n",
              "          element.innerHTML = '';\n",
              "          dataTable['output_type'] = 'display_data';\n",
              "          await google.colab.output.renderOutput(dataTable, element);\n",
              "          const docLink = document.createElement('div');\n",
              "          docLink.innerHTML = docLinkHtml;\n",
              "          element.appendChild(docLink);\n",
              "        }\n",
              "      </script>\n",
              "    </div>\n",
              "  </div>\n",
              "  "
            ]
          },
          "metadata": {},
          "execution_count": 2
        }
      ]
    },
    {
      "cell_type": "markdown",
      "source": [
        "### Проверка нормальности распределения признаков"
      ],
      "metadata": {
        "id": "DFBbSlel3sxj"
      }
    },
    {
      "cell_type": "code",
      "source": [
        "plt.hist(data[\"sepal length (cm)\"], bins=50);"
      ],
      "metadata": {
        "colab": {
          "base_uri": "https://localhost:8080/",
          "height": 265
        },
        "id": "Kf0rZE0P1Ew3",
        "outputId": "d73a384b-2a93-4d63-f31c-c55d0eb1e5e1"
      },
      "execution_count": null,
      "outputs": [
        {
          "output_type": "display_data",
          "data": {
            "text/plain": [
              "<Figure size 432x288 with 1 Axes>"
            ],
            "image/png": "[encoded data removed]"
          },
          "metadata": {
            "needs_background": "light"
          }
        }
      ]
    },
    {
      "cell_type": "code",
      "source": [
        "plt.hist(data[\"sepal width (cm)\"], bins=50);"
      ],
      "metadata": {
        "colab": {
          "base_uri": "https://localhost:8080/",
          "height": 265
        },
        "id": "n8QgGnBb2Ehl",
        "outputId": "cb21ad74-5697-4a4c-e64f-bb8fdb7b51ae"
      },
      "execution_count": null,
      "outputs": [
        {
          "output_type": "display_data",
          "data": {
            "text/plain": [
              "<Figure size 432x288 with 1 Axes>"
            ],
            "image/png": "[encoded data removed]"
          },
          "metadata": {
            "needs_background": "light"
          }
        }
      ]
    },
    {
      "cell_type": "code",
      "source": [
        "plt.hist(data[\"petal length (cm)\"], bins=50);"
      ],
      "metadata": {
        "colab": {
          "base_uri": "https://localhost:8080/",
          "height": 265
        },
        "id": "AtqzFRkv2LJR",
        "outputId": "9c1477de-5acd-475d-fa45-160bf2d0d2a7"
      },
      "execution_count": null,
      "outputs": [
        {
          "output_type": "display_data",
          "data": {
            "text/plain": [
              "<Figure size 432x288 with 1 Axes>"
            ],
            "image/png": "[encoded data removed]"
          },
          "metadata": {
            "needs_background": "light"
          }
        }
      ]
    },
    {
      "cell_type": "code",
      "source": [
        "plt.hist(data[\"petal width (cm)\"], bins=50);"
      ],
      "metadata": {
        "colab": {
          "base_uri": "https://localhost:8080/",
          "height": 265
        },
        "id": "tQeQauaQ2RGY",
        "outputId": "23bbbb58-b7f2-4112-8a27-4b1e522e12c6"
      },
      "execution_count": null,
      "outputs": [
        {
          "output_type": "display_data",
          "data": {
            "text/plain": [
              "<Figure size 432x288 with 1 Axes>"
            ],
            "image/png": "[encoded data removed]"
          },
          "metadata": {
            "needs_background": "light"
          }
        }
      ]
    },
    {
      "cell_type": "code",
      "source": [
        "from scipy.stats import shapiro\n",
        "from statsmodels.graphics.gofplots import qqplot\n",
        "\n",
        "from numpy.random import seed"
      ],
      "metadata": {
        "id": "4aM_L4Ei2zNa"
      },
      "execution_count": null,
      "outputs": []
    },
    {
      "cell_type": "code",
      "source": [
        "def shapiro_test(df,names):\n",
        "    \"\"\"\n",
        "    Служебная функция для вывода информации по тесту Шапиро-Уилкса\n",
        "    \"\"\"\n",
        "    seed(1)\n",
        "    for name in names:\n",
        "        stat, p = shapiro(df[name])\n",
        "        print(name)\n",
        "        print('Statistics=%.3f, p=%.3f' % (stat, p))\n",
        "        alpha = 0.05\n",
        "        if p > alpha:\n",
        "            print('Предположительно нормальное распределение (Недостаточно данных, чтобы отвергнуть H0)')\n",
        "        else:\n",
        "            print('Отвергаем H0 о нормальности распределения')\n",
        "        print()"
      ],
      "metadata": {
        "id": "Ct9NiryW2ZpB"
      },
      "execution_count": null,
      "outputs": []
    },
    {
      "cell_type": "code",
      "source": [
        "seed(1)\n",
        "qqplot(data[\"sepal length (cm)\"], line='s')\n",
        "qqplot(data[\"sepal width (cm)\"], line='s')\n",
        "qqplot(data[\"petal length (cm)\"], line='s')\n",
        "qqplot(data[\"petal width (cm)\"], line='s')\n",
        "plt.show()"
      ],
      "metadata": {
        "colab": {
          "base_uri": "https://localhost:8080/",
          "height": 1000
        },
        "id": "Awi2QRZw200N",
        "outputId": "03a816ef-ab1a-4ac3-a9f8-1a84bae0e317"
      },
      "execution_count": null,
      "outputs": [
        {
          "output_type": "display_data",
          "data": {
            "text/plain": [
              "<Figure size 432x288 with 1 Axes>"
            ],
            "image/png": "[encoded data removed]"
          },
          "metadata": {
            "needs_background": "light"
          }
        },
        {
          "output_type": "display_data",
          "data": {
            "text/plain": [
              "<Figure size 432x288 with 1 Axes>"
            ],
            "image/png": "[encoded data removed]"
          },
          "metadata": {
            "needs_background": "light"
          }
        },
        {
          "output_type": "display_data",
          "data": {
            "text/plain": [
              "<Figure size 432x288 with 1 Axes>"
            ],
            "image/png": "[encoded data removed]"
          },
          "metadata": {
            "needs_background": "light"
          }
        },
        {
          "output_type": "display_data",
          "data": {
            "text/plain": [
              "<Figure size 432x288 with 1 Axes>"
            ],
            "image/png": "[encoded data removed]"
          },
          "metadata": {
            "needs_background": "light"
          }
        }
      ]
    },
    {
      "cell_type": "code",
      "source": [
        "shapiro_test(data,[\"sepal length (cm)\", \"sepal width (cm)\", \"petal length (cm)\",\"petal width (cm)\"])"
      ],
      "metadata": {
        "colab": {
          "base_uri": "https://localhost:8080/"
        },
        "id": "0T-hccEO3RKq",
        "outputId": "22a159bf-cdf8-40b3-af6f-6b3a8ba95f9f"
      },
      "execution_count": null,
      "outputs": [
        {
          "output_type": "stream",
          "name": "stdout",
          "text": [
            "sepal length (cm)\n",
            "Statistics=0.981, p=0.146\n",
            "Предположительно нормальное распределение (Недостаточно данных, чтобы отвергнуть H0)\n",
            "\n",
            "sepal width (cm)\n",
            "Statistics=0.980, p=0.126\n",
            "Предположительно нормальное распределение (Недостаточно данных, чтобы отвергнуть H0)\n",
            "\n",
            "petal length (cm)\n",
            "Statistics=0.991, p=0.745\n",
            "Предположительно нормальное распределение (Недостаточно данных, чтобы отвергнуть H0)\n",
            "\n",
            "petal width (cm)\n",
            "Statistics=0.952, p=0.001\n",
            "Отвергаем H0 о нормальности распределения\n",
            "\n"
          ]
        }
      ]
    },
    {
      "cell_type": "markdown",
      "source": [
        "### Проверка сбалансированности классов"
      ],
      "metadata": {
        "id": "00G5hIw7pKvw"
      }
    },
    {
      "cell_type": "code",
      "source": [
        "data['target'].value_counts() "
      ],
      "metadata": {
        "colab": {
          "base_uri": "https://localhost:8080/"
        },
        "id": "PyHvKZDMonSu",
        "outputId": "d9cdd926-fce4-4fe0-9fcf-d5fd8be62954"
      },
      "execution_count": null,
      "outputs": [
        {
          "output_type": "execute_result",
          "data": {
            "text/plain": [
              "1    50\n",
              "2    50\n",
              "Name: target, dtype: int64"
            ]
          },
          "metadata": {},
          "execution_count": 11
        }
      ]
    },
    {
      "cell_type": "markdown",
      "source": [
        "Классы сбалансированы, для оценки качества работы модели можно будет использовать accuracy"
      ],
      "metadata": {
        "id": "I0qJzdGypUuL"
      }
    },
    {
      "cell_type": "markdown",
      "source": [
        "### Подготовка векторов признаков и целевой переменной для последующего моделирования"
      ],
      "metadata": {
        "id": "acwnX0mMqDr9"
      }
    },
    {
      "cell_type": "code",
      "source": [
        "y = data['target'].to_numpy()\n",
        "X = data.iloc[:, 0:4]"
      ],
      "metadata": {
        "id": "WRlGL6W08b_Y"
      },
      "execution_count": null,
      "outputs": []
    },
    {
      "cell_type": "code",
      "source": [
        "# Перекодируем target, т.к для бинарной классификации нужны метки классов 1 и 0, а в датасете 1 и 2\n",
        "le = LabelEncoder()\n",
        "le.fit(y)\n",
        "y = le.transform(y)"
      ],
      "metadata": {
        "id": "G9zv4EvMCF62"
      },
      "execution_count": null,
      "outputs": []
    },
    {
      "cell_type": "markdown",
      "source": [
        "### Разбивка датасета на обучающее и тестовое подмножества"
      ],
      "metadata": {
        "id": "lc9Mei6fqRd1"
      }
    },
    {
      "cell_type": "code",
      "source": [
        "\"\"\"\n",
        "Чтобы получить воспроизводимые (т. е. постоянные) результаты при выполнении \n",
        "нескольких программ , нам нужно удалить все варианты использования \n",
        "random_state=None, что является значением по умолчанию. Рекомендуемый способ — \n",
        "объявить rng переменную в верхней части программы и передать ее любому объекту, \n",
        "принимающему random_state параметр.\n",
        "Мы не рекомендуем устанавливать глобальное numpyначальное число путем вызова \n",
        "np.random.seed(0). Смотрите здесь для обсуждения. Цитата из документации \n",
        "scikit-learn https://scikit-learn.ru/10-3-controlling-randomness/\n",
        "\"\"\"\n",
        "rng = np.random.RandomState(0)\n"
      ],
      "metadata": {
        "id": "0KmoCvssVAVf"
      },
      "execution_count": null,
      "outputs": []
    },
    {
      "cell_type": "code",
      "source": [
        "# 80%/20%\n",
        "X_train, X_test, y_train, y_test = train_test_split(X, y, test_size = 0.2, random_state = rng)"
      ],
      "metadata": {
        "id": "GwEBH2XCCCML"
      },
      "execution_count": null,
      "outputs": []
    },
    {
      "cell_type": "code",
      "source": [
        "def init_weights(X, rng):\n",
        "  # Зададим начальные веса для всех алгоритмов  и 1 - для фиктивного признака\n",
        "  random_state = rng\n",
        "  one = np.array([[1.]])\n",
        "  W0 = np.random.normal(size=X.shape[1],) \n",
        "  W0 = np.expand_dims(W0, axis=-1) \n",
        "  W = np.concatenate((one, W0), axis=0)\n",
        "  return W"
      ],
      "metadata": {
        "id": "qxGb225Ih-fS"
      },
      "execution_count": null,
      "outputs": []
    },
    {
      "cell_type": "code",
      "source": [
        "W = init_weights(X, rng)\n",
        "print(W)"
      ],
      "metadata": {
        "colab": {
          "base_uri": "https://localhost:8080/"
        },
        "id": "kpTw5Kv0PMAm",
        "outputId": "bd2d6746-e40d-4343-f5a1-68dff737206d"
      },
      "execution_count": null,
      "outputs": [
        {
          "output_type": "stream",
          "name": "stdout",
          "text": [
            "[[ 1.        ]\n",
            " [ 1.62434536]\n",
            " [-0.61175641]\n",
            " [-0.52817175]\n",
            " [-1.07296862]]\n"
          ]
        }
      ]
    },
    {
      "cell_type": "markdown",
      "source": [
        "## 2. Самостоятельно реализуйте логистическую регрессию, без использования метода LogisticRegression из библиотеки. Можете использовать библиотеки pandas, numpy, math для реализации. Оформите в виде функции. *Оформите в виде класса с методами."
      ],
      "metadata": {
        "id": "fcQoOVi7Q-zj"
      }
    },
    {
      "cell_type": "code",
      "source": [
        "class MyClassificator:\n",
        "\n",
        "  def __init__(self, epoch=100, learning_rate=0.01, learn_method='gd', stop_rate=0.0001, random_state=42,weights=[[0.],[0.],[0.],[0.],[0.]]): \n",
        "    self.epoch = epoch \n",
        "    self.learn_method = learn_method \n",
        "    self.learning_rate = learning_rate \n",
        "    self.stop_rate = stop_rate \n",
        "    self.learn_func = None \n",
        "    self.cost_func = None \n",
        "    # self.weights = None\n",
        "    self.weights = weights\n",
        "    self.epoch_passed = 0\n",
        "    self.learn_time = 0\n",
        "    self.random_state = random_state\n",
        "\n",
        "    if(self.learn_method == 'gd'):\n",
        "      self.learn_func = self.gd\n",
        "    elif(self.learn_method == 'rmsprop'):\n",
        "      self.learn_func = self.rmsprop\n",
        "    elif(self.learn_method == 'nadam'):\n",
        "      self.learn_func = self.nadam\n",
        "    else:\n",
        "      raise Exception('Unknown learining method: {}'.format(self.learn_method))\n",
        "\n",
        "\n",
        "  def init_weights(self,X):\n",
        "    \"\"\"\n",
        "    Ф-я должна задавать начальные веса. Но если она их будет выбирать случайным образом,\n",
        "    мы не сможем сопоставить результаты работы разных алгоритмов.\n",
        "    Можно бы задать все 0 кроме 1 признака =1, но это неинтересн0, т.к не сможем \n",
        "    проверить быстроту сходимости алгоритмов  взависимости от выбора начальной точки\n",
        "    Поэтому начальные веса задаем случайным образом во внешней программе,\n",
        "    и значения передаем в класс\n",
        "    \"\"\"\n",
        "  \n",
        "    # Будем использовать состояние генератора, сгенерированное в основной программе,\n",
        "    # чтобы обеспечить равные начальные условия для всех алгоритмов\n",
        "\n",
        "    # random_state = self.random_state\n",
        "    # W = np.random.normal(size=X.shape[1],) \n",
        "    # W = np.expand_dims(W, axis=-1) \n",
        "    #return np.random.randn(X.shape[1], 1);\n",
        "    # return np.zeros((X.shape[1], 1))\n",
        "    W = self.weights\n",
        "    return W\n",
        "\n",
        "\n",
        "  def fit(self,X,Y):\n",
        "    \"\"\"\n",
        "    Ф-я выполняет обучение модели\n",
        "    \"\"\"\n",
        "    X = self.add_ones(X) # добавляем фиктивный признак\n",
        "    Y = np.reshape(Y, (len(Y), 1)) # преобразуем в вектор\n",
        "    W = self.init_weights(X) # выбираем начальные значения весов\n",
        "\n",
        "    self.epoch_passed = 0\n",
        "    self.learn_time = 0\n",
        "\n",
        "    start = time.perf_counter()\n",
        "    self.learn_func(X,Y,W) # начинаем обучение\n",
        "    self.learn_time = time.perf_counter() - start\n",
        "\n",
        "\n",
        "  def score(self,X,Y):\n",
        "    \"\"\"\n",
        "    Ф-я возвращает accuracy - долю количества правильных ответов от общего\n",
        "    кол-ва ответов обученной модели\n",
        " \n",
        "    \"\"\"\n",
        "    predictions = self.predict(X)\n",
        "    scores = []\n",
        "\n",
        "    for idx, y_pred in enumerate(predictions):\n",
        "      scores.append(True if y_pred == Y[idx] else False)\n",
        "      accuracy = scores.count(True)/len(scores)\n",
        "\n",
        "    return accuracy\n",
        "\n",
        "\n",
        "  def n_iter(self):\n",
        "    \"\"\"\n",
        "    Ф-я возвращает к-во итераций обучения\n",
        "    \"\"\"\n",
        "    return self.epoch_passed\n",
        "\n",
        "\n",
        "  def time(self):\n",
        "    \"\"\"\n",
        "     Ф-я  возвращает время обучения\n",
        "    \"\"\"\n",
        "    return self.learn_time    \n",
        "\n",
        "\n",
        "  def predict_proba(self,X):\n",
        "    \"\"\"\n",
        "    Ф-я возвращает вероятности принадлежности к целевому классу\n",
        "    для каждой из точек датасета\n",
        "    \"\"\"\n",
        "    X = self.add_ones(X)\n",
        "    return self.sigmoid_linear_regression(X,self.weights)\n",
        "\n",
        " \n",
        "  def predict(self,X):\n",
        "    \"\"\"\n",
        "    Ф-я переводит плученную вероятность принадлежности к целевому классу\n",
        "    в метку класса и таким образом предсказывает ответ обученной модели \n",
        "    на основании значений признаков\n",
        "    \"\"\"\n",
        "    probas = self.predict_proba(X)\n",
        "    for idx, y in enumerate(probas):\n",
        "      probas[idx] = 1 if y > 0.5 else 0\n",
        "\n",
        "    return probas\n",
        "\n",
        " \n",
        "  def add_ones(self,X):\n",
        "    \"\"\"\n",
        "    Ф-я добавляет фикитвный единичный признак в начало вектора признаков\n",
        "    \"\"\"\n",
        "    return np.hstack((np.ones((X.shape[0],1)),X)) # С помощью функции hstack() можно присоединять данные по горизонтальной оси к вектору\n",
        "    # return x.insert(0,'x0', np.ones(x.shape[0])) # можно и так\n",
        "\n",
        "\n",
        "  def gd(self,X,Y,W):\n",
        "    \"\"\"\n",
        "    метод, реализующий  градиентный спуск (GD)\n",
        "    \"\"\"\n",
        "    prev = self.cost_binary_cross_entropy(X,Y,W) # Кросс-энтропия во всех точках датасета на текущем шаге\n",
        "\n",
        "    for i in range(self.epoch):\n",
        "      self.epoch_passed = i + 1\n",
        "      gradients = self.gradient(X,Y,W) # считаем градиент\n",
        "     \n",
        "      W = W - self.learning_rate * gradients # меняем веса (к-ты линейной регрессии)\n",
        "      actual = self.cost_binary_cross_entropy(X,Y,W) # кросс-энтропия на след. шаге\n",
        "      diff = abs(prev - actual)\n",
        "\n",
        "      if(diff <= self.stop_rate):\n",
        "        break\n",
        "      prev = actual #след. шаг становится текущим\n",
        "      \n",
        "    self.weights = W # Обновляем веса\n",
        "   \n",
        "    return W   \n",
        "\n",
        " \n",
        "  def rmsprop(self,X,Y,W):\n",
        "    \"\"\"\n",
        "    метод, реализующий улучшенный градиентный спуск\n",
        "    на основе скользящего среднего (Root Mean Square Propagation, RMSProp)\n",
        "    \"\"\"\n",
        "    prev = self.cost_binary_cross_entropy(X,Y,W) # значение ф-ии потерь на старте\n",
        "    lr = self.learning_rate\n",
        "    s = [0] * len(W) # начальные значения\n",
        "    rho = 0.9 # гиперпараметр rho\n",
        "\n",
        "    for i in range(self.epoch):\n",
        "      self.epoch_passed = i + 1\n",
        "      gradients = self.gradient(X, Y, W)\n",
        "      NEW_W = []\n",
        "   \n",
        "      for j, (w, grad) in enumerate(zip(W, gradients)):\n",
        "\n",
        "        # s[j-1]  затухающая скользящая средняя квадрата частной производной для предыдущей итерации\n",
        "        # s[j] затухающая скользящая средняя квадрата частной производной для текущей итерации\n",
        "        s[j] = rho * s[j] + (1 - rho) * grad **2\n",
        "        \n",
        "        #пользовательский размер шага для вектора признаков\n",
        "        cust_step_size = lr/(1e-8 + np.sqrt(s[j]))\n",
        "        # новое значение вектора весов для данной точки\n",
        "        new_w = w - cust_step_size * grad\n",
        "    \n",
        "        NEW_W.append(new_w) # собираем новые вектора весов для всех точек\n",
        "  \n",
        "      W = np.array(NEW_W)\n",
        "      actual = self.cost_binary_cross_entropy(X, Y, W) # значение ф-ии потерь на текущем шаге\n",
        "      diff = abs(prev - actual)\n",
        "      if(diff <= self.stop_rate):\n",
        "        break\n",
        "      prev = actual\n",
        "      \n",
        "    self.weights = W\n",
        "    return W\n",
        "\n",
        "  \n",
        " \n",
        "  def nadam(self,X,Y,W):\n",
        "    \"\"\"\n",
        "    метод, реализующий улучшенный градиентный спуск\n",
        "    на основе ускоренного по Нестерову метода адаптивной оценки моментов NADAM -\n",
        "    Nesterov-accelerated Adaptive Moment Estimation.\n",
        "    NADAM является расширением ADAM, в котором вместо классического импульса \n",
        "    используется импульс NAG.\n",
        "    NADAM использует затухающий размер шага ( lr ) и гиперпараметры \n",
        "    первого момента ( mu, nu ), которые могут повысить производительность\n",
        "    \n",
        "    \"\"\"\n",
        "    prev = self.cost_binary_cross_entropy(X,Y,W)\n",
        "    lr = self.learning_rate\n",
        "\n",
        "    # m,n - первый и второй моменты градиента\n",
        " \n",
        "    m = np.array([0.] * len(W))\n",
        "    n = np.array([0.] * len(W))\n",
        "\n",
        "    # Гиперпараметры\n",
        "    mu = 0.9\n",
        "    nu = 0.999\n",
        "\n",
        "    for t in range(self.epoch):\n",
        "      self.epoch_passed +=1\n",
        "      gradients = self.gradient(X,Y,W)\n",
        "\n",
        "      for i in range(len(W)):\n",
        "        m[i] = mu * m[i] + (1.0 - mu) * gradients[i]\n",
        "        n[i] = nu * n[i] + (1.0 - nu) * gradients[i]**2\n",
        "\n",
        "        # корректировка 1 и 2 моментов\n",
        "        mhat = (mu * m[i] / (1.0 - mu)) + ((1 - mu) *gradients [i] / (1.0 - mu))\n",
        "        nhat = nu * n[i] / (1.0 - nu)\n",
        "\n",
        "        # пересчет весов\n",
        "        W[i] = W[i] - lr / (np.sqrt(nhat) + 1e-9) * mhat\n",
        "\n",
        "      \n",
        "      actual = self.cost_binary_cross_entropy(X, Y, W)\n",
        "      diff = abs(prev - actual)\n",
        "      if(diff <= self.stop_rate):\n",
        "        break\n",
        "      prev = actual\n",
        "      \n",
        "    self.weights = W\n",
        "    return W\n",
        "\n",
        "\n",
        "  def cost_binary_cross_entropy(self, X, Y, W):\n",
        "    \"\"\"\n",
        "    функция бинарной кросс-энтропии, или\n",
        "    функция логистической ошибки, \n",
        "    или log loss\n",
        "    или функция потерь для логистической регрессии\n",
        "    \"\"\"\n",
        "    m = X.shape[0]\n",
        "\n",
        "    total_cost = -(1 / m) * np.sum(Y * np.log(self.sigmoid_linear_regression(X, W) + 1e-9) + \n",
        "        (1 - Y) * np.log(1 - self.sigmoid_linear_regression(X, W) + 1e-9))\n",
        "    \n",
        "    return total_cost    \n",
        "\n",
        "  \n",
        "  def gradient(self, X, Y, W):\n",
        "    \"\"\"\n",
        "    производная от функции бинарной кросс-энтропии\n",
        "    Производная  бинарной кросс-энтропии для классов 1 и 0 вывод см.\n",
        "    https://www.dmitrymakarov.ru/opt/logistic-regression-05/\n",
        "    \n",
        "    \"\"\"\n",
        "    m = X.shape[0]\n",
        "    return (1 / m) * np.dot(X.T, self.sigmoid_linear_regression(X, W) - Y)    \n",
        "\n",
        "  \n",
        "  def sigmoid_linear_regression(self, X, W):\n",
        "    \"\"\"\n",
        "    главная функция логистической регрессии\n",
        "    аргумент у сигмоиды - ф-я линейной регрессии\n",
        "    на выходе - вероятность принадлежности целевому классу\n",
        "    \"\"\"\n",
        "    return self.sigmoid(self.linear_regression(X, W))\n",
        "   \n",
        "\n",
        "  \n",
        "  def linear_regression(self, X, W):\n",
        "    \"\"\"\n",
        "    функция линейной регрессии\n",
        "    X - вектор признаков, включая фиктивный,который добавлен с помощью ф-ии add_ones\n",
        "    \"\"\"\n",
        "    \n",
        "    return np.dot(X,W)\n",
        "\n",
        " \n",
        "  def sigmoid(self, H):\n",
        "    \"\"\"\n",
        "    функция сигмоиды (логистическая функция) или\n",
        "    функция логистического отклика или \n",
        "    функция обратного логит-преобразования.\n",
        "    При очень больших отрицательных или положительных значениях H может \n",
        "    возникнуть переполнение памяти (overflow)\n",
        "    Ф-я позволяет преодолеть это ограничение и добиться вычислительной \n",
        "    устойчивости (numerical stability)\n",
        "    \"\"\"\n",
        "    \n",
        "    if H.all() >= 0:\n",
        "      return 1 / (1 + np.exp(-H))\n",
        "    else:\n",
        "      return np.exp(H) / (np.exp(H) + 1) \n",
        "    # return 1/(1 + np.exp(-H))\n",
        "\n",
        "\n"
      ],
      "metadata": {
        "id": "4LH20hvandMu"
      },
      "execution_count": null,
      "outputs": []
    },
    {
      "cell_type": "markdown",
      "source": [
        "### 3. Реализуйте метод градиентного спуска. Обучите логистическую регрессию этим методом. Выберете и посчитайте метрику качества. Метрика должна быть одинакова для всех пунктов домашнего задания. Для упрощения сравнения выберете только одну метрику."
      ],
      "metadata": {
        "id": "GTeTmhLvHeJN"
      }
    },
    {
      "cell_type": "markdown",
      "source": [
        "В качестве метрики качества для разных алгоритмов градиентного спуска была выбрана средняя accuracy (score) - доля правильных ответов. \n",
        "Для сравнения также использовались:\n",
        "- количество эпох для обучения (к-во итераций для \"схождения\" функции потерь)\n",
        "- время обучения\n",
        "- скорость обучения"
      ],
      "metadata": {
        "id": "B2cx4oi-q7X0"
      }
    },
    {
      "cell_type": "code",
      "source": [
        "full_results = pd.DataFrame(columns=['Method','Score','Iterations','Learning_Rate','Time','start_weights', 'model.coef_', 'model.intercept_']) # Здесь будут хранится лучшие для каждого метода результаты сравнительного анализа"
      ],
      "metadata": {
        "id": "2qOuHOdAtsqb"
      },
      "execution_count": null,
      "outputs": []
    },
    {
      "cell_type": "code",
      "source": [
        "iters = [1000] # максимальное к=во итераций\n",
        "rates = [0.01] # сКорость обучения. Первоначально тестировался список 0.01, 0.001, 0.0001, наиболее целесообразно на данном датасете для всех трех методов по достигнутям accuracy, iterations, time оказалось использовать 0.01\n",
        "tries = 1000 # кол-во вариантов различных начальных точек"
      ],
      "metadata": {
        "id": "iszlWcB0HFso"
      },
      "execution_count": null,
      "outputs": []
    },
    {
      "cell_type": "markdown",
      "source": [
        "Сначала проверим, какой результат дает реализация на базе SKLEARN"
      ],
      "metadata": {
        "id": "mPyfgT7JoBrU"
      }
    },
    {
      "cell_type": "code",
      "source": [
        "# SKLEARN с установками по-умолчанию и фиксацией  random_state\n",
        "import time\n",
        "results = pd.DataFrame(columns=['Method','Score','Iterations','Learning_Rate','Time','start_weights', 'model.coef_', 'model.intercept_'])\n",
        "for max_iter in iters:\n",
        "  start = time.perf_counter() #возвращает значение в долях секунды счетчика производительности\n",
        "  model = LogisticRegression(random_state=rng, max_iter=max_iter)\n",
        "  model.fit(X_train,y_train)\n",
        "  accuracy = model.score(X_test, y_test)\n",
        "  iter = model.n_iter_[0]\n",
        "  full_time = time.perf_counter() - start\n",
        "  results.loc[len(results)] = ['SKLEARN DEFAULT',accuracy,iter,'',full_time,'',model.coef_, model.intercept_]\n"
      ],
      "metadata": {
        "id": "KqWEsovooIOF"
      },
      "execution_count": null,
      "outputs": []
    },
    {
      "cell_type": "code",
      "source": [
        "#Сохраним один самый лучший результат\n",
        "r2 = results.sort_values(by=['Score','Time','Iterations']).loc[[0]]\n",
        "full_results = pd.concat([full_results, r2], ignore_index= True) \n",
        "full_results.head() "
      ],
      "metadata": {
        "colab": {
          "base_uri": "https://localhost:8080/",
          "height": 81
        },
        "id": "k6e2ZIK_hyPH",
        "outputId": "82f7cb50-4c73-4b7c-9965-9f8a61193e22"
      },
      "execution_count": null,
      "outputs": [
        {
          "output_type": "execute_result",
          "data": {
            "text/plain": [
              "            Method  Score Iterations Learning_Rate      Time start_weights  \\\n",
              "0  SKLEARN DEFAULT    0.9         26                0.016954                 \n",
              "\n",
              "                                         model.coef_       model.intercept_  \n",
              "0  [[-0.2737773304736526, -0.5778984375380704, 2....  [-13.964164303114424]  "
            ],
            "text/html": [
              "\n",
              "  <div id=\"df-ad52a9b5-1ae0-4ec3-be36-b2ec3354a7ee\">\n",
              "    <div class=\"colab-df-container\">\n",
              "      <div>\n",
              "<style scoped>\n",
              "    .dataframe tbody tr th:only-of-type {\n",
              "        vertical-align: middle;\n",
              "    }\n",
              "\n",
              "    .dataframe tbody tr th {\n",
              "        vertical-align: top;\n",
              "    }\n",
              "\n",
              "    .dataframe thead th {\n",
              "        text-align: right;\n",
              "    }\n",
              "</style>\n",
              "<table border=\"1\" class=\"dataframe\">\n",
              "  <thead>\n",
              "    <tr style=\"text-align: right;\">\n",
              "      <th></th>\n",
              "      <th>Method</th>\n",
              "      <th>Score</th>\n",
              "      <th>Iterations</th>\n",
              "      <th>Learning_Rate</th>\n",
              "      <th>Time</th>\n",
              "      <th>start_weights</th>\n",
              "      <th>model.coef_</th>\n",
              "      <th>model.intercept_</th>\n",
              "    </tr>\n",
              "  </thead>\n",
              "  <tbody>\n",
              "    <tr>\n",
              "      <th>0</th>\n",
              "      <td>SKLEARN DEFAULT</td>\n",
              "      <td>0.9</td>\n",
              "      <td>26</td>\n",
              "      <td></td>\n",
              "      <td>0.016954</td>\n",
              "      <td></td>\n",
              "      <td>[[-0.2737773304736526, -0.5778984375380704, 2....</td>\n",
              "      <td>[-13.964164303114424]</td>\n",
              "    </tr>\n",
              "  </tbody>\n",
              "</table>\n",
              "</div>\n",
              "      <button class=\"colab-df-convert\" onclick=\"convertToInteractive('df-ad52a9b5-1ae0-4ec3-be36-b2ec3354a7ee')\"\n",
              "              title=\"Convert this dataframe to an interactive table.\"\n",
              "              style=\"display:none;\">\n",
              "        \n",
              "  <svg xmlns=\"http://www.w3.org/2000/svg\" height=\"24px\"viewBox=\"0 0 24 24\"\n",
              "       width=\"24px\">\n",
              "    <path d=\"M0 0h24v24H0V0z\" fill=\"none\"/>\n",
              "    <path d=\"M18.56 5.44l.94 2.06.94-2.06 2.06-.94-2.06-.94-.94-2.06-.94 2.06-2.06.94zm-11 1L8.5 8.5l.94-2.06 2.06-.94-2.06-.94L8.5 2.5l-.94 2.06-2.06.94zm10 10l.94 2.06.94-2.06 2.06-.94-2.06-.94-.94-2.06-.94 2.06-2.06.94z\"/><path d=\"M17.41 7.96l-1.37-1.37c-.4-.4-.92-.59-1.43-.59-.52 0-1.04.2-1.43.59L10.3 9.45l-7.72 7.72c-.78.78-.78 2.05 0 2.83L4 21.41c.39.39.9.59 1.41.59.51 0 1.02-.2 1.41-.59l7.78-7.78 2.81-2.81c.8-.78.8-2.07 0-2.86zM5.41 20L4 18.59l7.72-7.72 1.47 1.35L5.41 20z\"/>\n",
              "  </svg>\n",
              "      </button>\n",
              "      \n",
              "  <style>\n",
              "    .colab-df-container {\n",
              "      display:flex;\n",
              "      flex-wrap:wrap;\n",
              "      gap: 12px;\n",
              "    }\n",
              "\n",
              "    .colab-df-convert {\n",
              "      background-color: #E8F0FE;\n",
              "      border: none;\n",
              "      border-radius: 50%;\n",
              "      cursor: pointer;\n",
              "      display: none;\n",
              "      fill: #1967D2;\n",
              "      height: 32px;\n",
              "      padding: 0 0 0 0;\n",
              "      width: 32px;\n",
              "    }\n",
              "\n",
              "    .colab-df-convert:hover {\n",
              "      background-color: #E2EBFA;\n",
              "      box-shadow: 0px 1px 2px rgba(60, 64, 67, 0.3), 0px 1px 3px 1px rgba(60, 64, 67, 0.15);\n",
              "      fill: #174EA6;\n",
              "    }\n",
              "\n",
              "    [theme=dark] .colab-df-convert {\n",
              "      background-color: #3B4455;\n",
              "      fill: #D2E3FC;\n",
              "    }\n",
              "\n",
              "    [theme=dark] .colab-df-convert:hover {\n",
              "      background-color: #434B5C;\n",
              "      box-shadow: 0px 1px 3px 1px rgba(0, 0, 0, 0.15);\n",
              "      filter: drop-shadow(0px 1px 2px rgba(0, 0, 0, 0.3));\n",
              "      fill: #FFFFFF;\n",
              "    }\n",
              "  </style>\n",
              "\n",
              "      <script>\n",
              "        const buttonEl =\n",
              "          document.querySelector('#df-ad52a9b5-1ae0-4ec3-be36-b2ec3354a7ee button.colab-df-convert');\n",
              "        buttonEl.style.display =\n",
              "          google.colab.kernel.accessAllowed ? 'block' : 'none';\n",
              "\n",
              "        async function convertToInteractive(key) {\n",
              "          const element = document.querySelector('#df-ad52a9b5-1ae0-4ec3-be36-b2ec3354a7ee');\n",
              "          const dataTable =\n",
              "            await google.colab.kernel.invokeFunction('convertToInteractive',\n",
              "                                                     [key], {});\n",
              "          if (!dataTable) return;\n",
              "\n",
              "          const docLinkHtml = 'Like what you see? Visit the ' +\n",
              "            '<a target=\"_blank\" href=https://colab.research.google.com/notebooks/data_table.ipynb>data table notebook</a>'\n",
              "            + ' to learn more about interactive tables.';\n",
              "          element.innerHTML = '';\n",
              "          dataTable['output_type'] = 'display_data';\n",
              "          await google.colab.output.renderOutput(dataTable, element);\n",
              "          const docLink = document.createElement('div');\n",
              "          docLink.innerHTML = docLinkHtml;\n",
              "          element.appendChild(docLink);\n",
              "        }\n",
              "      </script>\n",
              "    </div>\n",
              "  </div>\n",
              "  "
            ]
          },
          "metadata": {},
          "execution_count": 29
        }
      ]
    },
    {
      "cell_type": "markdown",
      "source": [
        "В стандартной реализации сходимость достигается за 26 итераций. На скорость обучения и выбор начальной точки мы здесь повлиять не можем, таким образом, задаваемое максимальное число итераций ни на что не влияет. однако в процессе запусков выяснилось, что время обучения модели все-таки меняется. Почему так происходит?"
      ],
      "metadata": {
        "id": "V4r7erwzrocV"
      }
    },
    {
      "cell_type": "markdown",
      "source": [
        "## 4. Повторите п. 3 для метода скользящего среднего (Root Mean Square Propagation, RMSProp).\n"
      ],
      "metadata": {
        "id": "qCvtZmd8ozG9"
      }
    },
    {
      "cell_type": "markdown",
      "source": [
        "https://machinelearningmastery.com/gradient-descent-with-rmsprop-from-scratch/"
      ],
      "metadata": {
        "id": "rHdCD28W9CcJ"
      }
    },
    {
      "cell_type": "markdown",
      "source": [
        "## 5. Повторите п. 3 для ускоренного по Нестерову метода адаптивной оценки моментов (Nesterov–accelerated Adaptive Moment Estimation, Nadam).\n",
        "\n",
        "https://machinelearningmastery.com/gradient-descent-optimization-with-nadam-from-scratch/"
      ],
      "metadata": {
        "id": "Zes9EpRwo7yT"
      }
    },
    {
      "cell_type": "markdown",
      "source": [
        "Для всех 3 методов написан общий класс. Поэтому пп.3,4,5 реализованы в коде ниже.\n",
        "\n",
        "Проведена серия оценочных вычислений с переменными скоростью обучения и максимальным числом итераций. Наилучшие результаты ( по accuracy, Time, Iteration) были получены для learning_rate = 0.01  и максимального числа итераций 1000, поэтому указанные значения были выбраны в качестве базовых в дальнейших исследованиях.\n",
        "\n",
        "Кроме того, в предварительных исследованиях была выявлена сильная зависимость значений accuracy, к-ва итераций и времени обучения от выбора начальных значений весов. Поэтому было зафиксировано random_state, и для данного состояния последовательно генерировались начальные значения весов, которые подавались на вход во все три алгоритма. \n",
        "\n",
        "Для оценки работы реализаций алгоритмов была выполнена серия вычислений по 1000 попыток для каждого алгоритма. \n"
      ],
      "metadata": {
        "id": "DTToIYfBLqd4"
      }
    },
    {
      "cell_type": "code",
      "source": [
        "results = pd.DataFrame(columns=['Method','Score','Iterations','Learning_Rate','Time','start_weights',  'model.coef_', 'model.intercept_'])\n",
        "for i in range(tries):\n",
        "  # Задаема начальные веса, тут без разницы, X, X_train Или X_test - здесь важно к-во признаков с учетом фиктивного\n",
        "  W_start = init_weights(X, rng) \n",
        "\n",
        "  for method in ['gd', 'rmsprop', 'nadam']:\n",
        "    \n",
        "    for lr in rates:  # может быть задано несколько значений lr\n",
        "\n",
        "      for max_iter in iters:  # может быть задано несколько значений max_iter\n",
        "\n",
        "        model = MyClassificator(learn_method=method, learning_rate=lr, epoch=max_iter, random_state=rng, weights=W_start)\n",
        "        model.fit(X_train,y_train)\n",
        "        accuracy = model.score(X_test, y_test)\n",
        "        iter = model.n_iter()\n",
        "        full_time = model.time()\n",
        "        # Сохраняем результаты попыток  в датафрейм\n",
        "        results.loc[len(results)] = [method, accuracy, iter,lr, full_time, W_start, model.weights[1::], model.weights[0]]\n",
        "\n",
        "# Добавляем его в общий датафрейм с результатами SKLEARN DEFAULT ( таким образом, для каждого метода здесь будет tries записей) \n",
        "full_results = pd.concat([full_results, results], ignore_index= True) \n"
      ],
      "metadata": {
        "id": "Dpj30zJZfgyf"
      },
      "execution_count": null,
      "outputs": []
    },
    {
      "cell_type": "code",
      "source": [
        "full_results.shape"
      ],
      "metadata": {
        "colab": {
          "base_uri": "https://localhost:8080/"
        },
        "id": "ibt0JdFOLLZb",
        "outputId": "44093b9c-7fd4-49f3-f481-88c522dc9256"
      },
      "execution_count": null,
      "outputs": [
        {
          "output_type": "execute_result",
          "data": {
            "text/plain": [
              "(3001, 8)"
            ]
          },
          "metadata": {},
          "execution_count": 31
        }
      ]
    },
    {
      "cell_type": "code",
      "source": [
        "plt.hist(full_results[full_results['Method']=='gd']['Score'], bins=50)\n",
        "plt.show()"
      ],
      "metadata": {
        "colab": {
          "base_uri": "https://localhost:8080/",
          "height": 268
        },
        "id": "p7AaigT_HQDc",
        "outputId": "fb2c4fd2-3718-4942-e633-3c2c5d481f4f"
      },
      "execution_count": null,
      "outputs": [
        {
          "output_type": "display_data",
          "data": {
            "text/plain": [
              "<Figure size 432x288 with 1 Axes>"
            ],
            "image/png": "[encoded data removed]"
          },
          "metadata": {
            "needs_background": "light"
          }
        }
      ]
    },
    {
      "cell_type": "code",
      "source": [
        "plt.hist(full_results[full_results['Method']=='rmsprop']['Score'], bins=50)\n",
        "plt.show()"
      ],
      "metadata": {
        "colab": {
          "base_uri": "https://localhost:8080/",
          "height": 265
        },
        "id": "DS87EufdIHDq",
        "outputId": "78cd5156-66b5-48a7-92ab-8678cc9fb2ae"
      },
      "execution_count": null,
      "outputs": [
        {
          "output_type": "display_data",
          "data": {
            "text/plain": [
              "<Figure size 432x288 with 1 Axes>"
            ],
            "image/png": "[encoded data removed]"
          },
          "metadata": {
            "needs_background": "light"
          }
        }
      ]
    },
    {
      "cell_type": "code",
      "source": [
        "plt.hist(full_results[full_results['Method']=='nadam']['Score'], bins=50)\n",
        "plt.show()"
      ],
      "metadata": {
        "colab": {
          "base_uri": "https://localhost:8080/",
          "height": 266
        },
        "id": "AaTOSrOPINfD",
        "outputId": "a7288357-fdc9-4d8c-99ec-fb300f8f7537"
      },
      "execution_count": null,
      "outputs": [
        {
          "output_type": "display_data",
          "data": {
            "text/plain": [
              "<Figure size 432x288 with 1 Axes>"
            ],
            "image/png": "[encoded data removed]"
          },
          "metadata": {
            "needs_background": "light"
          }
        }
      ]
    },
    {
      "cell_type": "markdown",
      "source": [
        "По гистограммам видно, что распределение у accuracy - не нормальное, напоминает экспоненциальное. Сравнение работы алгоритмов будем производить не по среднему значению, а по моде"
      ],
      "metadata": {
        "id": "qM31wt9ZJ0VW"
      }
    },
    {
      "cell_type": "markdown",
      "source": [
        "## 6. Сравните значение метрик для реализованных методов оптимизации. Можно оформить в виде таблицы вида |метод|метрика|время работы| (время работы опционально). Напишите вывод.\n"
      ],
      "metadata": {
        "id": "LYHwii1kpHSf"
      }
    },
    {
      "cell_type": "markdown",
      "source": [
        "Результаты работы алгоритмов собирались в латафрейм full_results.\n",
        "\n",
        "Сравнение происходило по следующим позициям:\n",
        "- доля правильных ответов (accuracy/score)\n",
        "- количество итераций для обучения (iterations)\n",
        "- время обучения (time)\n",
        "\n",
        "\n"
      ],
      "metadata": {
        "id": "-snU9kv3zz_Q"
      }
    },
    {
      "cell_type": "code",
      "source": [
        "print('accuracy : learning_rate = 0.01, макс. к-во итераций 1000')\n",
        "print(f\"SKLEARN DEFAULT: mode = {full_results[full_results['Method']=='SKLEARN DEFAULT']['Score'].mode()[0]}\")\n",
        "print(f\"gd: mode = {full_results[full_results['Method']=='gd']['Score'].mode()[0]}\")\n",
        "print(f\"rmsprop: mode = {full_results[full_results['Method']=='rmsprop']['Score'].mode()[0]}\")\n",
        "print(f\"nadam: mode = {full_results[full_results['Method']=='nadam']['Score'].mode()[0]}\")"
      ],
      "metadata": {
        "colab": {
          "base_uri": "https://localhost:8080/"
        },
        "id": "So_4AocaR5Ny",
        "outputId": "2e0ef301-21d9-4539-d51b-9258178b0de4"
      },
      "execution_count": null,
      "outputs": [
        {
          "output_type": "stream",
          "name": "stdout",
          "text": [
            "accuracy : learning_rate = 0.01, макс. к-во итераций 1000\n",
            "SKLEARN DEFAULT: mode = 0.9\n",
            "gd: mode = 0.9\n",
            "rmsprop: mode = 0.9\n",
            "nadam: mode = 0.9\n"
          ]
        }
      ]
    },
    {
      "cell_type": "code",
      "source": [
        "print('learning time : learning_rate = 0.01, макс. к-во итераций 1000')\n",
        "print(f\"SKLEARN DEFAULT: mode = {full_results[full_results['Method']=='SKLEARN DEFAULT']['Time'].mode()[0]}\")\n",
        "print(f\"gd: mode = {full_results[full_results['Method']=='gd']['Time'].mode()[0]}\")\n",
        "print(f\"rmsprop: mode = {full_results[full_results['Method']=='rmsprop']['Time'].mode()[0]}\")\n",
        "print(f\"nadam: mode = {full_results[full_results['Method']=='nadam']['Time'].mode()[0]}\")\n",
        "\n"
      ],
      "metadata": {
        "colab": {
          "base_uri": "https://localhost:8080/"
        },
        "id": "Ja3YYydzPqlw",
        "outputId": "bc1dee9d-beac-4b3a-f6fa-018ad12e7ed7"
      },
      "execution_count": null,
      "outputs": [
        {
          "output_type": "stream",
          "name": "stdout",
          "text": [
            "learning time : learning_rate = 0.01, макс. к-во итераций 1000\n",
            "SKLEARN DEFAULT: mode = 0.016954263000116043\n",
            "gd: mode = 0.0015853009999773349\n",
            "rmsprop: mode = 0.0098517209999045\n",
            "nadam: mode = 0.0005623520000881399\n"
          ]
        }
      ]
    },
    {
      "cell_type": "code",
      "source": [
        "print('Iteraions : learning_rate = 0.01, макс. к-во итераций 1000')\n",
        "print(f\"SKLEARN DEFAULT: mode = {full_results[full_results['Method']=='SKLEARN DEFAULT']['Iterations'].mode()[0]}\")\n",
        "print(f\"gd: mode = {full_results[full_results['Method']=='gd']['Iterations'].mode()[0]}\")\n",
        "print(f\"rmsprop: mode = {full_results[full_results['Method']=='rmsprop']['Iterations'].mode()[0]}\")\n",
        "print(f\"nadam: mode = {full_results[full_results['Method']=='nadam']['Iterations'].mode()[0]}\")"
      ],
      "metadata": {
        "colab": {
          "base_uri": "https://localhost:8080/"
        },
        "id": "kAM9nJ_LTrjE",
        "outputId": "2d46a4c4-8433-4ca3-ec7e-b1489d5d4ec2"
      },
      "execution_count": null,
      "outputs": [
        {
          "output_type": "stream",
          "name": "stdout",
          "text": [
            "Iteraions : learning_rate = 0.01, макс. к-во итераций 1000\n",
            "SKLEARN DEFAULT: mode = 26\n",
            "gd: mode = 1000\n",
            "rmsprop: mode = 779\n",
            "nadam: mode = 1000\n"
          ]
        }
      ]
    },
    {
      "cell_type": "markdown",
      "source": [
        "Таким образом, при равной accuracy наименьшая мода времени обучения у nadam, затeм у gd, rmsprop, худший результат - у SKLEARN DEFAULT. Наименьшая мода числа итераций наоборот, у SKLEARN DEFAULT, у реализаций алгоритмов мода значительно больше.Получается, что в большинстве случаев для достижения сходимости алгоритмам gd и nadam потребовалось максимально возможное кол-во итераций"
      ],
      "metadata": {
        "id": "inbTv0AGTWTE"
      }
    },
    {
      "cell_type": "markdown",
      "source": [
        "В то же время, топовые результаты по accuracy по всем 3 алгоритмам  превосходят результаты SKLEARN DEFAULT"
      ],
      "metadata": {
        "id": "l9JFJtyVVW7S"
      }
    },
    {
      "cell_type": "code",
      "source": [
        "full_results[(full_results['Score'] >= 0.95) & (full_results['Method'] == 'gd')].sort_values(by=['Method','Score','Time','Iterations'], ascending=[True, False, True, True]).head(1)"
      ],
      "metadata": {
        "colab": {
          "base_uri": "https://localhost:8080/",
          "height": 81
        },
        "id": "HkTjBlysSM2e",
        "outputId": "54f21067-e734-4e22-e852-26f630a9430a"
      },
      "execution_count": null,
      "outputs": [
        {
          "output_type": "execute_result",
          "data": {
            "text/plain": [
              "     Method  Score Iterations Learning_Rate      Time  \\\n",
              "2323     gd   0.95         39          0.01  0.002961   \n",
              "\n",
              "                                          start_weights  \\\n",
              "2323  [[1.161041439882987], [-1.154819017316854], [-...   \n",
              "\n",
              "                                            model.coef_      model.intercept_  \n",
              "2323  [[-1.057481357316182], [-0.8525477764839625], ...  [1.0405797887854265]  "
            ],
            "text/html": [
              "\n",
              "  <div id=\"df-3f9e9ae9-5c34-4693-896d-2dce21f97f3d\">\n",
              "    <div class=\"colab-df-container\">\n",
              "      <div>\n",
              "<style scoped>\n",
              "    .dataframe tbody tr th:only-of-type {\n",
              "        vertical-align: middle;\n",
              "    }\n",
              "\n",
              "    .dataframe tbody tr th {\n",
              "        vertical-align: top;\n",
              "    }\n",
              "\n",
              "    .dataframe thead th {\n",
              "        text-align: right;\n",
              "    }\n",
              "</style>\n",
              "<table border=\"1\" class=\"dataframe\">\n",
              "  <thead>\n",
              "    <tr style=\"text-align: right;\">\n",
              "      <th></th>\n",
              "      <th>Method</th>\n",
              "      <th>Score</th>\n",
              "      <th>Iterations</th>\n",
              "      <th>Learning_Rate</th>\n",
              "      <th>Time</th>\n",
              "      <th>start_weights</th>\n",
              "      <th>model.coef_</th>\n",
              "      <th>model.intercept_</th>\n",
              "    </tr>\n",
              "  </thead>\n",
              "  <tbody>\n",
              "    <tr>\n",
              "      <th>2323</th>\n",
              "      <td>gd</td>\n",
              "      <td>0.95</td>\n",
              "      <td>39</td>\n",
              "      <td>0.01</td>\n",
              "      <td>0.002961</td>\n",
              "      <td>[[1.161041439882987], [-1.154819017316854], [-...</td>\n",
              "      <td>[[-1.057481357316182], [-0.8525477764839625], ...</td>\n",
              "      <td>[1.0405797887854265]</td>\n",
              "    </tr>\n",
              "  </tbody>\n",
              "</table>\n",
              "</div>\n",
              "      <button class=\"colab-df-convert\" onclick=\"convertToInteractive('df-3f9e9ae9-5c34-4693-896d-2dce21f97f3d')\"\n",
              "              title=\"Convert this dataframe to an interactive table.\"\n",
              "              style=\"display:none;\">\n",
              "        \n",
              "  <svg xmlns=\"http://www.w3.org/2000/svg\" height=\"24px\"viewBox=\"0 0 24 24\"\n",
              "       width=\"24px\">\n",
              "    <path d=\"M0 0h24v24H0V0z\" fill=\"none\"/>\n",
              "    <path d=\"M18.56 5.44l.94 2.06.94-2.06 2.06-.94-2.06-.94-.94-2.06-.94 2.06-2.06.94zm-11 1L8.5 8.5l.94-2.06 2.06-.94-2.06-.94L8.5 2.5l-.94 2.06-2.06.94zm10 10l.94 2.06.94-2.06 2.06-.94-2.06-.94-.94-2.06-.94 2.06-2.06.94z\"/><path d=\"M17.41 7.96l-1.37-1.37c-.4-.4-.92-.59-1.43-.59-.52 0-1.04.2-1.43.59L10.3 9.45l-7.72 7.72c-.78.78-.78 2.05 0 2.83L4 21.41c.39.39.9.59 1.41.59.51 0 1.02-.2 1.41-.59l7.78-7.78 2.81-2.81c.8-.78.8-2.07 0-2.86zM5.41 20L4 18.59l7.72-7.72 1.47 1.35L5.41 20z\"/>\n",
              "  </svg>\n",
              "      </button>\n",
              "      \n",
              "  <style>\n",
              "    .colab-df-container {\n",
              "      display:flex;\n",
              "      flex-wrap:wrap;\n",
              "      gap: 12px;\n",
              "    }\n",
              "\n",
              "    .colab-df-convert {\n",
              "      background-color: #E8F0FE;\n",
              "      border: none;\n",
              "      border-radius: 50%;\n",
              "      cursor: pointer;\n",
              "      display: none;\n",
              "      fill: #1967D2;\n",
              "      height: 32px;\n",
              "      padding: 0 0 0 0;\n",
              "      width: 32px;\n",
              "    }\n",
              "\n",
              "    .colab-df-convert:hover {\n",
              "      background-color: #E2EBFA;\n",
              "      box-shadow: 0px 1px 2px rgba(60, 64, 67, 0.3), 0px 1px 3px 1px rgba(60, 64, 67, 0.15);\n",
              "      fill: #174EA6;\n",
              "    }\n",
              "\n",
              "    [theme=dark] .colab-df-convert {\n",
              "      background-color: #3B4455;\n",
              "      fill: #D2E3FC;\n",
              "    }\n",
              "\n",
              "    [theme=dark] .colab-df-convert:hover {\n",
              "      background-color: #434B5C;\n",
              "      box-shadow: 0px 1px 3px 1px rgba(0, 0, 0, 0.15);\n",
              "      filter: drop-shadow(0px 1px 2px rgba(0, 0, 0, 0.3));\n",
              "      fill: #FFFFFF;\n",
              "    }\n",
              "  </style>\n",
              "\n",
              "      <script>\n",
              "        const buttonEl =\n",
              "          document.querySelector('#df-3f9e9ae9-5c34-4693-896d-2dce21f97f3d button.colab-df-convert');\n",
              "        buttonEl.style.display =\n",
              "          google.colab.kernel.accessAllowed ? 'block' : 'none';\n",
              "\n",
              "        async function convertToInteractive(key) {\n",
              "          const element = document.querySelector('#df-3f9e9ae9-5c34-4693-896d-2dce21f97f3d');\n",
              "          const dataTable =\n",
              "            await google.colab.kernel.invokeFunction('convertToInteractive',\n",
              "                                                     [key], {});\n",
              "          if (!dataTable) return;\n",
              "\n",
              "          const docLinkHtml = 'Like what you see? Visit the ' +\n",
              "            '<a target=\"_blank\" href=https://colab.research.google.com/notebooks/data_table.ipynb>data table notebook</a>'\n",
              "            + ' to learn more about interactive tables.';\n",
              "          element.innerHTML = '';\n",
              "          dataTable['output_type'] = 'display_data';\n",
              "          await google.colab.output.renderOutput(dataTable, element);\n",
              "          const docLink = document.createElement('div');\n",
              "          docLink.innerHTML = docLinkHtml;\n",
              "          element.appendChild(docLink);\n",
              "        }\n",
              "      </script>\n",
              "    </div>\n",
              "  </div>\n",
              "  "
            ]
          },
          "metadata": {},
          "execution_count": 38
        }
      ]
    },
    {
      "cell_type": "code",
      "source": [
        "full_results[(full_results['Score'] >= 0.95) & (full_results['Method'] == 'rmsprop')].sort_values(by=['Method','Score','Time','Iterations'], ascending=[True, False, True, True]).head(1)"
      ],
      "metadata": {
        "colab": {
          "base_uri": "https://localhost:8080/",
          "height": 81
        },
        "id": "tCYZ3E6TWEmH",
        "outputId": "595df80e-22ee-4ad2-8cab-840ab0b973a5"
      },
      "execution_count": null,
      "outputs": [
        {
          "output_type": "execute_result",
          "data": {
            "text/plain": [
              "       Method  Score Iterations Learning_Rate      Time  \\\n",
              "2201  rmsprop   0.95        123          0.01  0.016777   \n",
              "\n",
              "                                          start_weights  \\\n",
              "2201  [[0.6883989915765354], [-0.6832416934489502], ...   \n",
              "\n",
              "                                            model.coef_  \\\n",
              "2201  [[-1.0588355171852633], [-0.4772905371062189],...   \n",
              "\n",
              "            model.intercept_  \n",
              "2201  [0.032658327406904775]  "
            ],
            "text/html": [
              "\n",
              "  <div id=\"df-e889af5b-e104-4f9b-9e66-9d165ccced66\">\n",
              "    <div class=\"colab-df-container\">\n",
              "      <div>\n",
              "<style scoped>\n",
              "    .dataframe tbody tr th:only-of-type {\n",
              "        vertical-align: middle;\n",
              "    }\n",
              "\n",
              "    .dataframe tbody tr th {\n",
              "        vertical-align: top;\n",
              "    }\n",
              "\n",
              "    .dataframe thead th {\n",
              "        text-align: right;\n",
              "    }\n",
              "</style>\n",
              "<table border=\"1\" class=\"dataframe\">\n",
              "  <thead>\n",
              "    <tr style=\"text-align: right;\">\n",
              "      <th></th>\n",
              "      <th>Method</th>\n",
              "      <th>Score</th>\n",
              "      <th>Iterations</th>\n",
              "      <th>Learning_Rate</th>\n",
              "      <th>Time</th>\n",
              "      <th>start_weights</th>\n",
              "      <th>model.coef_</th>\n",
              "      <th>model.intercept_</th>\n",
              "    </tr>\n",
              "  </thead>\n",
              "  <tbody>\n",
              "    <tr>\n",
              "      <th>2201</th>\n",
              "      <td>rmsprop</td>\n",
              "      <td>0.95</td>\n",
              "      <td>123</td>\n",
              "      <td>0.01</td>\n",
              "      <td>0.016777</td>\n",
              "      <td>[[0.6883989915765354], [-0.6832416934489502], ...</td>\n",
              "      <td>[[-1.0588355171852633], [-0.4772905371062189],...</td>\n",
              "      <td>[0.032658327406904775]</td>\n",
              "    </tr>\n",
              "  </tbody>\n",
              "</table>\n",
              "</div>\n",
              "      <button class=\"colab-df-convert\" onclick=\"convertToInteractive('df-e889af5b-e104-4f9b-9e66-9d165ccced66')\"\n",
              "              title=\"Convert this dataframe to an interactive table.\"\n",
              "              style=\"display:none;\">\n",
              "        \n",
              "  <svg xmlns=\"http://www.w3.org/2000/svg\" height=\"24px\"viewBox=\"0 0 24 24\"\n",
              "       width=\"24px\">\n",
              "    <path d=\"M0 0h24v24H0V0z\" fill=\"none\"/>\n",
              "    <path d=\"M18.56 5.44l.94 2.06.94-2.06 2.06-.94-2.06-.94-.94-2.06-.94 2.06-2.06.94zm-11 1L8.5 8.5l.94-2.06 2.06-.94-2.06-.94L8.5 2.5l-.94 2.06-2.06.94zm10 10l.94 2.06.94-2.06 2.06-.94-2.06-.94-.94-2.06-.94 2.06-2.06.94z\"/><path d=\"M17.41 7.96l-1.37-1.37c-.4-.4-.92-.59-1.43-.59-.52 0-1.04.2-1.43.59L10.3 9.45l-7.72 7.72c-.78.78-.78 2.05 0 2.83L4 21.41c.39.39.9.59 1.41.59.51 0 1.02-.2 1.41-.59l7.78-7.78 2.81-2.81c.8-.78.8-2.07 0-2.86zM5.41 20L4 18.59l7.72-7.72 1.47 1.35L5.41 20z\"/>\n",
              "  </svg>\n",
              "      </button>\n",
              "      \n",
              "  <style>\n",
              "    .colab-df-container {\n",
              "      display:flex;\n",
              "      flex-wrap:wrap;\n",
              "      gap: 12px;\n",
              "    }\n",
              "\n",
              "    .colab-df-convert {\n",
              "      background-color: #E8F0FE;\n",
              "      border: none;\n",
              "      border-radius: 50%;\n",
              "      cursor: pointer;\n",
              "      display: none;\n",
              "      fill: #1967D2;\n",
              "      height: 32px;\n",
              "      padding: 0 0 0 0;\n",
              "      width: 32px;\n",
              "    }\n",
              "\n",
              "    .colab-df-convert:hover {\n",
              "      background-color: #E2EBFA;\n",
              "      box-shadow: 0px 1px 2px rgba(60, 64, 67, 0.3), 0px 1px 3px 1px rgba(60, 64, 67, 0.15);\n",
              "      fill: #174EA6;\n",
              "    }\n",
              "\n",
              "    [theme=dark] .colab-df-convert {\n",
              "      background-color: #3B4455;\n",
              "      fill: #D2E3FC;\n",
              "    }\n",
              "\n",
              "    [theme=dark] .colab-df-convert:hover {\n",
              "      background-color: #434B5C;\n",
              "      box-shadow: 0px 1px 3px 1px rgba(0, 0, 0, 0.15);\n",
              "      filter: drop-shadow(0px 1px 2px rgba(0, 0, 0, 0.3));\n",
              "      fill: #FFFFFF;\n",
              "    }\n",
              "  </style>\n",
              "\n",
              "      <script>\n",
              "        const buttonEl =\n",
              "          document.querySelector('#df-e889af5b-e104-4f9b-9e66-9d165ccced66 button.colab-df-convert');\n",
              "        buttonEl.style.display =\n",
              "          google.colab.kernel.accessAllowed ? 'block' : 'none';\n",
              "\n",
              "        async function convertToInteractive(key) {\n",
              "          const element = document.querySelector('#df-e889af5b-e104-4f9b-9e66-9d165ccced66');\n",
              "          const dataTable =\n",
              "            await google.colab.kernel.invokeFunction('convertToInteractive',\n",
              "                                                     [key], {});\n",
              "          if (!dataTable) return;\n",
              "\n",
              "          const docLinkHtml = 'Like what you see? Visit the ' +\n",
              "            '<a target=\"_blank\" href=https://colab.research.google.com/notebooks/data_table.ipynb>data table notebook</a>'\n",
              "            + ' to learn more about interactive tables.';\n",
              "          element.innerHTML = '';\n",
              "          dataTable['output_type'] = 'display_data';\n",
              "          await google.colab.output.renderOutput(dataTable, element);\n",
              "          const docLink = document.createElement('div');\n",
              "          docLink.innerHTML = docLinkHtml;\n",
              "          element.appendChild(docLink);\n",
              "        }\n",
              "      </script>\n",
              "    </div>\n",
              "  </div>\n",
              "  "
            ]
          },
          "metadata": {},
          "execution_count": 39
        }
      ]
    },
    {
      "cell_type": "code",
      "source": [
        "full_results[(full_results['Score'] >= 0.95) & (full_results['Method'] == 'nadam')].sort_values(by=['Method','Score','Time','Iterations'], ascending=[True, False, True, True]).head(1)"
      ],
      "metadata": {
        "colab": {
          "base_uri": "https://localhost:8080/",
          "height": 81
        },
        "id": "CfASqWylWOnX",
        "outputId": "d7dea609-7d78-40a8-aa73-d93da76990a1"
      },
      "execution_count": null,
      "outputs": [
        {
          "output_type": "execute_result",
          "data": {
            "text/plain": [
              "     Method  Score Iterations Learning_Rate      Time  \\\n",
              "1452  nadam    1.0       1000          0.01  0.192402   \n",
              "\n",
              "                                          start_weights  \\\n",
              "1452  [[-1.4841636121793742], [0.16793948273625664],...   \n",
              "\n",
              "                                            model.coef_       model.intercept_  \n",
              "1452  [[0.16793948273625664], [-0.31424148649251515]...  [-1.4841636121793742]  "
            ],
            "text/html": [
              "\n",
              "  <div id=\"df-eb0e233e-3416-478b-8113-27b3d6fcb1a6\">\n",
              "    <div class=\"colab-df-container\">\n",
              "      <div>\n",
              "<style scoped>\n",
              "    .dataframe tbody tr th:only-of-type {\n",
              "        vertical-align: middle;\n",
              "    }\n",
              "\n",
              "    .dataframe tbody tr th {\n",
              "        vertical-align: top;\n",
              "    }\n",
              "\n",
              "    .dataframe thead th {\n",
              "        text-align: right;\n",
              "    }\n",
              "</style>\n",
              "<table border=\"1\" class=\"dataframe\">\n",
              "  <thead>\n",
              "    <tr style=\"text-align: right;\">\n",
              "      <th></th>\n",
              "      <th>Method</th>\n",
              "      <th>Score</th>\n",
              "      <th>Iterations</th>\n",
              "      <th>Learning_Rate</th>\n",
              "      <th>Time</th>\n",
              "      <th>start_weights</th>\n",
              "      <th>model.coef_</th>\n",
              "      <th>model.intercept_</th>\n",
              "    </tr>\n",
              "  </thead>\n",
              "  <tbody>\n",
              "    <tr>\n",
              "      <th>1452</th>\n",
              "      <td>nadam</td>\n",
              "      <td>1.0</td>\n",
              "      <td>1000</td>\n",
              "      <td>0.01</td>\n",
              "      <td>0.192402</td>\n",
              "      <td>[[-1.4841636121793742], [0.16793948273625664],...</td>\n",
              "      <td>[[0.16793948273625664], [-0.31424148649251515]...</td>\n",
              "      <td>[-1.4841636121793742]</td>\n",
              "    </tr>\n",
              "  </tbody>\n",
              "</table>\n",
              "</div>\n",
              "      <button class=\"colab-df-convert\" onclick=\"convertToInteractive('df-eb0e233e-3416-478b-8113-27b3d6fcb1a6')\"\n",
              "              title=\"Convert this dataframe to an interactive table.\"\n",
              "              style=\"display:none;\">\n",
              "        \n",
              "  <svg xmlns=\"http://www.w3.org/2000/svg\" height=\"24px\"viewBox=\"0 0 24 24\"\n",
              "       width=\"24px\">\n",
              "    <path d=\"M0 0h24v24H0V0z\" fill=\"none\"/>\n",
              "    <path d=\"M18.56 5.44l.94 2.06.94-2.06 2.06-.94-2.06-.94-.94-2.06-.94 2.06-2.06.94zm-11 1L8.5 8.5l.94-2.06 2.06-.94-2.06-.94L8.5 2.5l-.94 2.06-2.06.94zm10 10l.94 2.06.94-2.06 2.06-.94-2.06-.94-.94-2.06-.94 2.06-2.06.94z\"/><path d=\"M17.41 7.96l-1.37-1.37c-.4-.4-.92-.59-1.43-.59-.52 0-1.04.2-1.43.59L10.3 9.45l-7.72 7.72c-.78.78-.78 2.05 0 2.83L4 21.41c.39.39.9.59 1.41.59.51 0 1.02-.2 1.41-.59l7.78-7.78 2.81-2.81c.8-.78.8-2.07 0-2.86zM5.41 20L4 18.59l7.72-7.72 1.47 1.35L5.41 20z\"/>\n",
              "  </svg>\n",
              "      </button>\n",
              "      \n",
              "  <style>\n",
              "    .colab-df-container {\n",
              "      display:flex;\n",
              "      flex-wrap:wrap;\n",
              "      gap: 12px;\n",
              "    }\n",
              "\n",
              "    .colab-df-convert {\n",
              "      background-color: #E8F0FE;\n",
              "      border: none;\n",
              "      border-radius: 50%;\n",
              "      cursor: pointer;\n",
              "      display: none;\n",
              "      fill: #1967D2;\n",
              "      height: 32px;\n",
              "      padding: 0 0 0 0;\n",
              "      width: 32px;\n",
              "    }\n",
              "\n",
              "    .colab-df-convert:hover {\n",
              "      background-color: #E2EBFA;\n",
              "      box-shadow: 0px 1px 2px rgba(60, 64, 67, 0.3), 0px 1px 3px 1px rgba(60, 64, 67, 0.15);\n",
              "      fill: #174EA6;\n",
              "    }\n",
              "\n",
              "    [theme=dark] .colab-df-convert {\n",
              "      background-color: #3B4455;\n",
              "      fill: #D2E3FC;\n",
              "    }\n",
              "\n",
              "    [theme=dark] .colab-df-convert:hover {\n",
              "      background-color: #434B5C;\n",
              "      box-shadow: 0px 1px 3px 1px rgba(0, 0, 0, 0.15);\n",
              "      filter: drop-shadow(0px 1px 2px rgba(0, 0, 0, 0.3));\n",
              "      fill: #FFFFFF;\n",
              "    }\n",
              "  </style>\n",
              "\n",
              "      <script>\n",
              "        const buttonEl =\n",
              "          document.querySelector('#df-eb0e233e-3416-478b-8113-27b3d6fcb1a6 button.colab-df-convert');\n",
              "        buttonEl.style.display =\n",
              "          google.colab.kernel.accessAllowed ? 'block' : 'none';\n",
              "\n",
              "        async function convertToInteractive(key) {\n",
              "          const element = document.querySelector('#df-eb0e233e-3416-478b-8113-27b3d6fcb1a6');\n",
              "          const dataTable =\n",
              "            await google.colab.kernel.invokeFunction('convertToInteractive',\n",
              "                                                     [key], {});\n",
              "          if (!dataTable) return;\n",
              "\n",
              "          const docLinkHtml = 'Like what you see? Visit the ' +\n",
              "            '<a target=\"_blank\" href=https://colab.research.google.com/notebooks/data_table.ipynb>data table notebook</a>'\n",
              "            + ' to learn more about interactive tables.';\n",
              "          element.innerHTML = '';\n",
              "          dataTable['output_type'] = 'display_data';\n",
              "          await google.colab.output.renderOutput(dataTable, element);\n",
              "          const docLink = document.createElement('div');\n",
              "          docLink.innerHTML = docLinkHtml;\n",
              "          element.appendChild(docLink);\n",
              "        }\n",
              "      </script>\n",
              "    </div>\n",
              "  </div>\n",
              "  "
            ]
          },
          "metadata": {},
          "execution_count": 40
        }
      ]
    },
    {
      "cell_type": "markdown",
      "source": [
        "Если же сравнивать, зафиксировав accuracy на уровне 0.9, то и здесь реализации демонстрируют превосходство во времени обучения и к-ве итераций"
      ],
      "metadata": {
        "id": "XnRMplWlWVYt"
      }
    },
    {
      "cell_type": "code",
      "source": [
        "full_results[(full_results['Score'] == 0.9) & (full_results['Method'] == 'gd')].sort_values(by=['Method','Score','Time','Iterations'], ascending=[True, False, True, True]).head(1)"
      ],
      "metadata": {
        "colab": {
          "base_uri": "https://localhost:8080/",
          "height": 81
        },
        "id": "ayKDkKs9Wnzg",
        "outputId": "43ed912a-667e-43d6-8687-2b49ab5d5a54"
      },
      "execution_count": null,
      "outputs": [
        {
          "output_type": "execute_result",
          "data": {
            "text/plain": [
              "    Method  Score Iterations Learning_Rate      Time  \\\n",
              "997     gd    0.9         11          0.01  0.001585   \n",
              "\n",
              "                                         start_weights  \\\n",
              "997  [[-1.9525373896196274], [-2.3735385820398855],...   \n",
              "\n",
              "                                           model.coef_      model.intercept_  \n",
              "997  [[-0.7105511623371771], [-1.7159401730125035],...  [0.9967998900863646]  "
            ],
            "text/html": [
              "\n",
              "  <div id=\"df-404bace3-518a-4b61-aac6-3e26119070a6\">\n",
              "    <div class=\"colab-df-container\">\n",
              "      <div>\n",
              "<style scoped>\n",
              "    .dataframe tbody tr th:only-of-type {\n",
              "        vertical-align: middle;\n",
              "    }\n",
              "\n",
              "    .dataframe tbody tr th {\n",
              "        vertical-align: top;\n",
              "    }\n",
              "\n",
              "    .dataframe thead th {\n",
              "        text-align: right;\n",
              "    }\n",
              "</style>\n",
              "<table border=\"1\" class=\"dataframe\">\n",
              "  <thead>\n",
              "    <tr style=\"text-align: right;\">\n",
              "      <th></th>\n",
              "      <th>Method</th>\n",
              "      <th>Score</th>\n",
              "      <th>Iterations</th>\n",
              "      <th>Learning_Rate</th>\n",
              "      <th>Time</th>\n",
              "      <th>start_weights</th>\n",
              "      <th>model.coef_</th>\n",
              "      <th>model.intercept_</th>\n",
              "    </tr>\n",
              "  </thead>\n",
              "  <tbody>\n",
              "    <tr>\n",
              "      <th>997</th>\n",
              "      <td>gd</td>\n",
              "      <td>0.9</td>\n",
              "      <td>11</td>\n",
              "      <td>0.01</td>\n",
              "      <td>0.001585</td>\n",
              "      <td>[[-1.9525373896196274], [-2.3735385820398855],...</td>\n",
              "      <td>[[-0.7105511623371771], [-1.7159401730125035],...</td>\n",
              "      <td>[0.9967998900863646]</td>\n",
              "    </tr>\n",
              "  </tbody>\n",
              "</table>\n",
              "</div>\n",
              "      <button class=\"colab-df-convert\" onclick=\"convertToInteractive('df-404bace3-518a-4b61-aac6-3e26119070a6')\"\n",
              "              title=\"Convert this dataframe to an interactive table.\"\n",
              "              style=\"display:none;\">\n",
              "        \n",
              "  <svg xmlns=\"http://www.w3.org/2000/svg\" height=\"24px\"viewBox=\"0 0 24 24\"\n",
              "       width=\"24px\">\n",
              "    <path d=\"M0 0h24v24H0V0z\" fill=\"none\"/>\n",
              "    <path d=\"M18.56 5.44l.94 2.06.94-2.06 2.06-.94-2.06-.94-.94-2.06-.94 2.06-2.06.94zm-11 1L8.5 8.5l.94-2.06 2.06-.94-2.06-.94L8.5 2.5l-.94 2.06-2.06.94zm10 10l.94 2.06.94-2.06 2.06-.94-2.06-.94-.94-2.06-.94 2.06-2.06.94z\"/><path d=\"M17.41 7.96l-1.37-1.37c-.4-.4-.92-.59-1.43-.59-.52 0-1.04.2-1.43.59L10.3 9.45l-7.72 7.72c-.78.78-.78 2.05 0 2.83L4 21.41c.39.39.9.59 1.41.59.51 0 1.02-.2 1.41-.59l7.78-7.78 2.81-2.81c.8-.78.8-2.07 0-2.86zM5.41 20L4 18.59l7.72-7.72 1.47 1.35L5.41 20z\"/>\n",
              "  </svg>\n",
              "      </button>\n",
              "      \n",
              "  <style>\n",
              "    .colab-df-container {\n",
              "      display:flex;\n",
              "      flex-wrap:wrap;\n",
              "      gap: 12px;\n",
              "    }\n",
              "\n",
              "    .colab-df-convert {\n",
              "      background-color: #E8F0FE;\n",
              "      border: none;\n",
              "      border-radius: 50%;\n",
              "      cursor: pointer;\n",
              "      display: none;\n",
              "      fill: #1967D2;\n",
              "      height: 32px;\n",
              "      padding: 0 0 0 0;\n",
              "      width: 32px;\n",
              "    }\n",
              "\n",
              "    .colab-df-convert:hover {\n",
              "      background-color: #E2EBFA;\n",
              "      box-shadow: 0px 1px 2px rgba(60, 64, 67, 0.3), 0px 1px 3px 1px rgba(60, 64, 67, 0.15);\n",
              "      fill: #174EA6;\n",
              "    }\n",
              "\n",
              "    [theme=dark] .colab-df-convert {\n",
              "      background-color: #3B4455;\n",
              "      fill: #D2E3FC;\n",
              "    }\n",
              "\n",
              "    [theme=dark] .colab-df-convert:hover {\n",
              "      background-color: #434B5C;\n",
              "      box-shadow: 0px 1px 3px 1px rgba(0, 0, 0, 0.15);\n",
              "      filter: drop-shadow(0px 1px 2px rgba(0, 0, 0, 0.3));\n",
              "      fill: #FFFFFF;\n",
              "    }\n",
              "  </style>\n",
              "\n",
              "      <script>\n",
              "        const buttonEl =\n",
              "          document.querySelector('#df-404bace3-518a-4b61-aac6-3e26119070a6 button.colab-df-convert');\n",
              "        buttonEl.style.display =\n",
              "          google.colab.kernel.accessAllowed ? 'block' : 'none';\n",
              "\n",
              "        async function convertToInteractive(key) {\n",
              "          const element = document.querySelector('#df-404bace3-518a-4b61-aac6-3e26119070a6');\n",
              "          const dataTable =\n",
              "            await google.colab.kernel.invokeFunction('convertToInteractive',\n",
              "                                                     [key], {});\n",
              "          if (!dataTable) return;\n",
              "\n",
              "          const docLinkHtml = 'Like what you see? Visit the ' +\n",
              "            '<a target=\"_blank\" href=https://colab.research.google.com/notebooks/data_table.ipynb>data table notebook</a>'\n",
              "            + ' to learn more about interactive tables.';\n",
              "          element.innerHTML = '';\n",
              "          dataTable['output_type'] = 'display_data';\n",
              "          await google.colab.output.renderOutput(dataTable, element);\n",
              "          const docLink = document.createElement('div');\n",
              "          docLink.innerHTML = docLinkHtml;\n",
              "          element.appendChild(docLink);\n",
              "        }\n",
              "      </script>\n",
              "    </div>\n",
              "  </div>\n",
              "  "
            ]
          },
          "metadata": {},
          "execution_count": 41
        }
      ]
    },
    {
      "cell_type": "code",
      "source": [
        "full_results[(full_results['Score'] == 0.9) & (full_results['Method'] == 'rmsprop')].sort_values(by=['Method','Score','Time','Iterations'], ascending=[True, False, True, True]).head(1)"
      ],
      "metadata": {
        "colab": {
          "base_uri": "https://localhost:8080/",
          "height": 81
        },
        "id": "Ty2hgQIFW2v8",
        "outputId": "5bb7ff8c-46ee-4bfd-8654-3e0a841a6b57"
      },
      "execution_count": null,
      "outputs": [
        {
          "output_type": "execute_result",
          "data": {
            "text/plain": [
              "       Method  Score Iterations Learning_Rate      Time  \\\n",
              "1277  rmsprop    0.9         82          0.01  0.012338   \n",
              "\n",
              "                                          start_weights  \\\n",
              "1277  [[-1.8046066402011298], [-1.1780926649548393],...   \n",
              "\n",
              "                                            model.coef_      model.intercept_  \n",
              "1277  [[-0.37764485634741884], [-2.241834804735076],...  [0.4302890172529284]  "
            ],
            "text/html": [
              "\n",
              "  <div id=\"df-232363ae-cf0f-4323-97be-84ec365a378d\">\n",
              "    <div class=\"colab-df-container\">\n",
              "      <div>\n",
              "<style scoped>\n",
              "    .dataframe tbody tr th:only-of-type {\n",
              "        vertical-align: middle;\n",
              "    }\n",
              "\n",
              "    .dataframe tbody tr th {\n",
              "        vertical-align: top;\n",
              "    }\n",
              "\n",
              "    .dataframe thead th {\n",
              "        text-align: right;\n",
              "    }\n",
              "</style>\n",
              "<table border=\"1\" class=\"dataframe\">\n",
              "  <thead>\n",
              "    <tr style=\"text-align: right;\">\n",
              "      <th></th>\n",
              "      <th>Method</th>\n",
              "      <th>Score</th>\n",
              "      <th>Iterations</th>\n",
              "      <th>Learning_Rate</th>\n",
              "      <th>Time</th>\n",
              "      <th>start_weights</th>\n",
              "      <th>model.coef_</th>\n",
              "      <th>model.intercept_</th>\n",
              "    </tr>\n",
              "  </thead>\n",
              "  <tbody>\n",
              "    <tr>\n",
              "      <th>1277</th>\n",
              "      <td>rmsprop</td>\n",
              "      <td>0.9</td>\n",
              "      <td>82</td>\n",
              "      <td>0.01</td>\n",
              "      <td>0.012338</td>\n",
              "      <td>[[-1.8046066402011298], [-1.1780926649548393],...</td>\n",
              "      <td>[[-0.37764485634741884], [-2.241834804735076],...</td>\n",
              "      <td>[0.4302890172529284]</td>\n",
              "    </tr>\n",
              "  </tbody>\n",
              "</table>\n",
              "</div>\n",
              "      <button class=\"colab-df-convert\" onclick=\"convertToInteractive('df-232363ae-cf0f-4323-97be-84ec365a378d')\"\n",
              "              title=\"Convert this dataframe to an interactive table.\"\n",
              "              style=\"display:none;\">\n",
              "        \n",
              "  <svg xmlns=\"http://www.w3.org/2000/svg\" height=\"24px\"viewBox=\"0 0 24 24\"\n",
              "       width=\"24px\">\n",
              "    <path d=\"M0 0h24v24H0V0z\" fill=\"none\"/>\n",
              "    <path d=\"M18.56 5.44l.94 2.06.94-2.06 2.06-.94-2.06-.94-.94-2.06-.94 2.06-2.06.94zm-11 1L8.5 8.5l.94-2.06 2.06-.94-2.06-.94L8.5 2.5l-.94 2.06-2.06.94zm10 10l.94 2.06.94-2.06 2.06-.94-2.06-.94-.94-2.06-.94 2.06-2.06.94z\"/><path d=\"M17.41 7.96l-1.37-1.37c-.4-.4-.92-.59-1.43-.59-.52 0-1.04.2-1.43.59L10.3 9.45l-7.72 7.72c-.78.78-.78 2.05 0 2.83L4 21.41c.39.39.9.59 1.41.59.51 0 1.02-.2 1.41-.59l7.78-7.78 2.81-2.81c.8-.78.8-2.07 0-2.86zM5.41 20L4 18.59l7.72-7.72 1.47 1.35L5.41 20z\"/>\n",
              "  </svg>\n",
              "      </button>\n",
              "      \n",
              "  <style>\n",
              "    .colab-df-container {\n",
              "      display:flex;\n",
              "      flex-wrap:wrap;\n",
              "      gap: 12px;\n",
              "    }\n",
              "\n",
              "    .colab-df-convert {\n",
              "      background-color: #E8F0FE;\n",
              "      border: none;\n",
              "      border-radius: 50%;\n",
              "      cursor: pointer;\n",
              "      display: none;\n",
              "      fill: #1967D2;\n",
              "      height: 32px;\n",
              "      padding: 0 0 0 0;\n",
              "      width: 32px;\n",
              "    }\n",
              "\n",
              "    .colab-df-convert:hover {\n",
              "      background-color: #E2EBFA;\n",
              "      box-shadow: 0px 1px 2px rgba(60, 64, 67, 0.3), 0px 1px 3px 1px rgba(60, 64, 67, 0.15);\n",
              "      fill: #174EA6;\n",
              "    }\n",
              "\n",
              "    [theme=dark] .colab-df-convert {\n",
              "      background-color: #3B4455;\n",
              "      fill: #D2E3FC;\n",
              "    }\n",
              "\n",
              "    [theme=dark] .colab-df-convert:hover {\n",
              "      background-color: #434B5C;\n",
              "      box-shadow: 0px 1px 3px 1px rgba(0, 0, 0, 0.15);\n",
              "      filter: drop-shadow(0px 1px 2px rgba(0, 0, 0, 0.3));\n",
              "      fill: #FFFFFF;\n",
              "    }\n",
              "  </style>\n",
              "\n",
              "      <script>\n",
              "        const buttonEl =\n",
              "          document.querySelector('#df-232363ae-cf0f-4323-97be-84ec365a378d button.colab-df-convert');\n",
              "        buttonEl.style.display =\n",
              "          google.colab.kernel.accessAllowed ? 'block' : 'none';\n",
              "\n",
              "        async function convertToInteractive(key) {\n",
              "          const element = document.querySelector('#df-232363ae-cf0f-4323-97be-84ec365a378d');\n",
              "          const dataTable =\n",
              "            await google.colab.kernel.invokeFunction('convertToInteractive',\n",
              "                                                     [key], {});\n",
              "          if (!dataTable) return;\n",
              "\n",
              "          const docLinkHtml = 'Like what you see? Visit the ' +\n",
              "            '<a target=\"_blank\" href=https://colab.research.google.com/notebooks/data_table.ipynb>data table notebook</a>'\n",
              "            + ' to learn more about interactive tables.';\n",
              "          element.innerHTML = '';\n",
              "          dataTable['output_type'] = 'display_data';\n",
              "          await google.colab.output.renderOutput(dataTable, element);\n",
              "          const docLink = document.createElement('div');\n",
              "          docLink.innerHTML = docLinkHtml;\n",
              "          element.appendChild(docLink);\n",
              "        }\n",
              "      </script>\n",
              "    </div>\n",
              "  </div>\n",
              "  "
            ]
          },
          "metadata": {},
          "execution_count": 42
        }
      ]
    },
    {
      "cell_type": "code",
      "source": [
        "full_results[(full_results['Score'] == 0.9) & (full_results['Method'] == 'nadam')].sort_values(by=['Method','Score','Time','Iterations'], ascending=[True, False, True, True]).head(1)"
      ],
      "metadata": {
        "colab": {
          "base_uri": "https://localhost:8080/",
          "height": 81
        },
        "id": "qONr4vufW_Uh",
        "outputId": "be19d7e9-fe02-43a7-c7cb-98588b1c1774"
      },
      "execution_count": null,
      "outputs": [
        {
          "output_type": "execute_result",
          "data": {
            "text/plain": [
              "    Method  Score Iterations Learning_Rate      Time  \\\n",
              "405  nadam    0.9          2          0.01  0.000562   \n",
              "\n",
              "                                         start_weights  \\\n",
              "405  [[1.0198328869925393], [-0.35859380153514114],...   \n",
              "\n",
              "                                           model.coef_      model.intercept_  \n",
              "405  [[-0.35859380153514114], [-1.7173527708367435]...  [1.0198328869925393]  "
            ],
            "text/html": [
              "\n",
              "  <div id=\"df-54c53c6e-4772-448a-a041-41fbeb9d42b7\">\n",
              "    <div class=\"colab-df-container\">\n",
              "      <div>\n",
              "<style scoped>\n",
              "    .dataframe tbody tr th:only-of-type {\n",
              "        vertical-align: middle;\n",
              "    }\n",
              "\n",
              "    .dataframe tbody tr th {\n",
              "        vertical-align: top;\n",
              "    }\n",
              "\n",
              "    .dataframe thead th {\n",
              "        text-align: right;\n",
              "    }\n",
              "</style>\n",
              "<table border=\"1\" class=\"dataframe\">\n",
              "  <thead>\n",
              "    <tr style=\"text-align: right;\">\n",
              "      <th></th>\n",
              "      <th>Method</th>\n",
              "      <th>Score</th>\n",
              "      <th>Iterations</th>\n",
              "      <th>Learning_Rate</th>\n",
              "      <th>Time</th>\n",
              "      <th>start_weights</th>\n",
              "      <th>model.coef_</th>\n",
              "      <th>model.intercept_</th>\n",
              "    </tr>\n",
              "  </thead>\n",
              "  <tbody>\n",
              "    <tr>\n",
              "      <th>405</th>\n",
              "      <td>nadam</td>\n",
              "      <td>0.9</td>\n",
              "      <td>2</td>\n",
              "      <td>0.01</td>\n",
              "      <td>0.000562</td>\n",
              "      <td>[[1.0198328869925393], [-0.35859380153514114],...</td>\n",
              "      <td>[[-0.35859380153514114], [-1.7173527708367435]...</td>\n",
              "      <td>[1.0198328869925393]</td>\n",
              "    </tr>\n",
              "  </tbody>\n",
              "</table>\n",
              "</div>\n",
              "      <button class=\"colab-df-convert\" onclick=\"convertToInteractive('df-54c53c6e-4772-448a-a041-41fbeb9d42b7')\"\n",
              "              title=\"Convert this dataframe to an interactive table.\"\n",
              "              style=\"display:none;\">\n",
              "        \n",
              "  <svg xmlns=\"http://www.w3.org/2000/svg\" height=\"24px\"viewBox=\"0 0 24 24\"\n",
              "       width=\"24px\">\n",
              "    <path d=\"M0 0h24v24H0V0z\" fill=\"none\"/>\n",
              "    <path d=\"M18.56 5.44l.94 2.06.94-2.06 2.06-.94-2.06-.94-.94-2.06-.94 2.06-2.06.94zm-11 1L8.5 8.5l.94-2.06 2.06-.94-2.06-.94L8.5 2.5l-.94 2.06-2.06.94zm10 10l.94 2.06.94-2.06 2.06-.94-2.06-.94-.94-2.06-.94 2.06-2.06.94z\"/><path d=\"M17.41 7.96l-1.37-1.37c-.4-.4-.92-.59-1.43-.59-.52 0-1.04.2-1.43.59L10.3 9.45l-7.72 7.72c-.78.78-.78 2.05 0 2.83L4 21.41c.39.39.9.59 1.41.59.51 0 1.02-.2 1.41-.59l7.78-7.78 2.81-2.81c.8-.78.8-2.07 0-2.86zM5.41 20L4 18.59l7.72-7.72 1.47 1.35L5.41 20z\"/>\n",
              "  </svg>\n",
              "      </button>\n",
              "      \n",
              "  <style>\n",
              "    .colab-df-container {\n",
              "      display:flex;\n",
              "      flex-wrap:wrap;\n",
              "      gap: 12px;\n",
              "    }\n",
              "\n",
              "    .colab-df-convert {\n",
              "      background-color: #E8F0FE;\n",
              "      border: none;\n",
              "      border-radius: 50%;\n",
              "      cursor: pointer;\n",
              "      display: none;\n",
              "      fill: #1967D2;\n",
              "      height: 32px;\n",
              "      padding: 0 0 0 0;\n",
              "      width: 32px;\n",
              "    }\n",
              "\n",
              "    .colab-df-convert:hover {\n",
              "      background-color: #E2EBFA;\n",
              "      box-shadow: 0px 1px 2px rgba(60, 64, 67, 0.3), 0px 1px 3px 1px rgba(60, 64, 67, 0.15);\n",
              "      fill: #174EA6;\n",
              "    }\n",
              "\n",
              "    [theme=dark] .colab-df-convert {\n",
              "      background-color: #3B4455;\n",
              "      fill: #D2E3FC;\n",
              "    }\n",
              "\n",
              "    [theme=dark] .colab-df-convert:hover {\n",
              "      background-color: #434B5C;\n",
              "      box-shadow: 0px 1px 3px 1px rgba(0, 0, 0, 0.15);\n",
              "      filter: drop-shadow(0px 1px 2px rgba(0, 0, 0, 0.3));\n",
              "      fill: #FFFFFF;\n",
              "    }\n",
              "  </style>\n",
              "\n",
              "      <script>\n",
              "        const buttonEl =\n",
              "          document.querySelector('#df-54c53c6e-4772-448a-a041-41fbeb9d42b7 button.colab-df-convert');\n",
              "        buttonEl.style.display =\n",
              "          google.colab.kernel.accessAllowed ? 'block' : 'none';\n",
              "\n",
              "        async function convertToInteractive(key) {\n",
              "          const element = document.querySelector('#df-54c53c6e-4772-448a-a041-41fbeb9d42b7');\n",
              "          const dataTable =\n",
              "            await google.colab.kernel.invokeFunction('convertToInteractive',\n",
              "                                                     [key], {});\n",
              "          if (!dataTable) return;\n",
              "\n",
              "          const docLinkHtml = 'Like what you see? Visit the ' +\n",
              "            '<a target=\"_blank\" href=https://colab.research.google.com/notebooks/data_table.ipynb>data table notebook</a>'\n",
              "            + ' to learn more about interactive tables.';\n",
              "          element.innerHTML = '';\n",
              "          dataTable['output_type'] = 'display_data';\n",
              "          await google.colab.output.renderOutput(dataTable, element);\n",
              "          const docLink = document.createElement('div');\n",
              "          docLink.innerHTML = docLinkHtml;\n",
              "          element.appendChild(docLink);\n",
              "        }\n",
              "      </script>\n",
              "    </div>\n",
              "  </div>\n",
              "  "
            ]
          },
          "metadata": {},
          "execution_count": 43
        }
      ]
    },
    {
      "cell_type": "markdown",
      "source": [
        "В примерах выше показаны лучшие результаты, достигнутые алгоритмыми, но градиентный спуск в них происходит от разных начальных точек. Получим сравнение эффективности алгоритмов для одинаковых начальных условий. Зафиксируем, к примеру, точку 405, в которой nadam получил результат за 2 итерации"
      ],
      "metadata": {
        "id": "j0bkDh6HSbmT"
      }
    },
    {
      "cell_type": "code",
      "source": [
        "a= full_results.start_weights[405]\n",
        "full_results['check']=full_results.apply(lambda row:np.array_equal(row.start_weights,a), axis=1 )\n",
        "full_results[full_results['check']==True].sort_values(by=['Score', 'Time', 'Iterations'])"
      ],
      "metadata": {
        "colab": {
          "base_uri": "https://localhost:8080/",
          "height": 143
        },
        "id": "nrLC73RfTIzV",
        "outputId": "bd2d7931-a74d-4a81-db0e-b96c4521971b"
      },
      "execution_count": null,
      "outputs": [
        {
          "output_type": "execute_result",
          "data": {
            "text/plain": [
              "      Method  Score Iterations Learning_Rate      Time  \\\n",
              "405    nadam    0.9          2          0.01  0.000562   \n",
              "403       gd    0.9        392          0.01  0.028483   \n",
              "404  rmsprop    0.9        643          0.01  0.098294   \n",
              "\n",
              "                                         start_weights  \\\n",
              "405  [[1.0198328869925393], [-0.35859380153514114],...   \n",
              "403  [[1.0198328869925393], [-0.35859380153514114],...   \n",
              "404  [[1.0198328869925393], [-0.35859380153514114],...   \n",
              "\n",
              "                                           model.coef_      model.intercept_  \\\n",
              "405  [[-0.35859380153514114], [-1.7173527708367435]...  [1.0198328869925393]   \n",
              "403  [[-0.55408975683319], [-1.8353023374972348], [...   [0.901825450931134]   \n",
              "404  [[-2.336832753237653], [-3.8072072387107374], ...   [-4.02067659288946]   \n",
              "\n",
              "     check  \n",
              "405   True  \n",
              "403   True  \n",
              "404   True  "
            ],
            "text/html": [
              "\n",
              "  <div id=\"df-b9056628-117b-4e8c-8472-45fbd390ce30\">\n",
              "    <div class=\"colab-df-container\">\n",
              "      <div>\n",
              "<style scoped>\n",
              "    .dataframe tbody tr th:only-of-type {\n",
              "        vertical-align: middle;\n",
              "    }\n",
              "\n",
              "    .dataframe tbody tr th {\n",
              "        vertical-align: top;\n",
              "    }\n",
              "\n",
              "    .dataframe thead th {\n",
              "        text-align: right;\n",
              "    }\n",
              "</style>\n",
              "<table border=\"1\" class=\"dataframe\">\n",
              "  <thead>\n",
              "    <tr style=\"text-align: right;\">\n",
              "      <th></th>\n",
              "      <th>Method</th>\n",
              "      <th>Score</th>\n",
              "      <th>Iterations</th>\n",
              "      <th>Learning_Rate</th>\n",
              "      <th>Time</th>\n",
              "      <th>start_weights</th>\n",
              "      <th>model.coef_</th>\n",
              "      <th>model.intercept_</th>\n",
              "      <th>check</th>\n",
              "    </tr>\n",
              "  </thead>\n",
              "  <tbody>\n",
              "    <tr>\n",
              "      <th>405</th>\n",
              "      <td>nadam</td>\n",
              "      <td>0.9</td>\n",
              "      <td>2</td>\n",
              "      <td>0.01</td>\n",
              "      <td>0.000562</td>\n",
              "      <td>[[1.0198328869925393], [-0.35859380153514114],...</td>\n",
              "      <td>[[-0.35859380153514114], [-1.7173527708367435]...</td>\n",
              "      <td>[1.0198328869925393]</td>\n",
              "      <td>True</td>\n",
              "    </tr>\n",
              "    <tr>\n",
              "      <th>403</th>\n",
              "      <td>gd</td>\n",
              "      <td>0.9</td>\n",
              "      <td>392</td>\n",
              "      <td>0.01</td>\n",
              "      <td>0.028483</td>\n",
              "      <td>[[1.0198328869925393], [-0.35859380153514114],...</td>\n",
              "      <td>[[-0.55408975683319], [-1.8353023374972348], [...</td>\n",
              "      <td>[0.901825450931134]</td>\n",
              "      <td>True</td>\n",
              "    </tr>\n",
              "    <tr>\n",
              "      <th>404</th>\n",
              "      <td>rmsprop</td>\n",
              "      <td>0.9</td>\n",
              "      <td>643</td>\n",
              "      <td>0.01</td>\n",
              "      <td>0.098294</td>\n",
              "      <td>[[1.0198328869925393], [-0.35859380153514114],...</td>\n",
              "      <td>[[-2.336832753237653], [-3.8072072387107374], ...</td>\n",
              "      <td>[-4.02067659288946]</td>\n",
              "      <td>True</td>\n",
              "    </tr>\n",
              "  </tbody>\n",
              "</table>\n",
              "</div>\n",
              "      <button class=\"colab-df-convert\" onclick=\"convertToInteractive('df-b9056628-117b-4e8c-8472-45fbd390ce30')\"\n",
              "              title=\"Convert this dataframe to an interactive table.\"\n",
              "              style=\"display:none;\">\n",
              "        \n",
              "  <svg xmlns=\"http://www.w3.org/2000/svg\" height=\"24px\"viewBox=\"0 0 24 24\"\n",
              "       width=\"24px\">\n",
              "    <path d=\"M0 0h24v24H0V0z\" fill=\"none\"/>\n",
              "    <path d=\"M18.56 5.44l.94 2.06.94-2.06 2.06-.94-2.06-.94-.94-2.06-.94 2.06-2.06.94zm-11 1L8.5 8.5l.94-2.06 2.06-.94-2.06-.94L8.5 2.5l-.94 2.06-2.06.94zm10 10l.94 2.06.94-2.06 2.06-.94-2.06-.94-.94-2.06-.94 2.06-2.06.94z\"/><path d=\"M17.41 7.96l-1.37-1.37c-.4-.4-.92-.59-1.43-.59-.52 0-1.04.2-1.43.59L10.3 9.45l-7.72 7.72c-.78.78-.78 2.05 0 2.83L4 21.41c.39.39.9.59 1.41.59.51 0 1.02-.2 1.41-.59l7.78-7.78 2.81-2.81c.8-.78.8-2.07 0-2.86zM5.41 20L4 18.59l7.72-7.72 1.47 1.35L5.41 20z\"/>\n",
              "  </svg>\n",
              "      </button>\n",
              "      \n",
              "  <style>\n",
              "    .colab-df-container {\n",
              "      display:flex;\n",
              "      flex-wrap:wrap;\n",
              "      gap: 12px;\n",
              "    }\n",
              "\n",
              "    .colab-df-convert {\n",
              "      background-color: #E8F0FE;\n",
              "      border: none;\n",
              "      border-radius: 50%;\n",
              "      cursor: pointer;\n",
              "      display: none;\n",
              "      fill: #1967D2;\n",
              "      height: 32px;\n",
              "      padding: 0 0 0 0;\n",
              "      width: 32px;\n",
              "    }\n",
              "\n",
              "    .colab-df-convert:hover {\n",
              "      background-color: #E2EBFA;\n",
              "      box-shadow: 0px 1px 2px rgba(60, 64, 67, 0.3), 0px 1px 3px 1px rgba(60, 64, 67, 0.15);\n",
              "      fill: #174EA6;\n",
              "    }\n",
              "\n",
              "    [theme=dark] .colab-df-convert {\n",
              "      background-color: #3B4455;\n",
              "      fill: #D2E3FC;\n",
              "    }\n",
              "\n",
              "    [theme=dark] .colab-df-convert:hover {\n",
              "      background-color: #434B5C;\n",
              "      box-shadow: 0px 1px 3px 1px rgba(0, 0, 0, 0.15);\n",
              "      filter: drop-shadow(0px 1px 2px rgba(0, 0, 0, 0.3));\n",
              "      fill: #FFFFFF;\n",
              "    }\n",
              "  </style>\n",
              "\n",
              "      <script>\n",
              "        const buttonEl =\n",
              "          document.querySelector('#df-b9056628-117b-4e8c-8472-45fbd390ce30 button.colab-df-convert');\n",
              "        buttonEl.style.display =\n",
              "          google.colab.kernel.accessAllowed ? 'block' : 'none';\n",
              "\n",
              "        async function convertToInteractive(key) {\n",
              "          const element = document.querySelector('#df-b9056628-117b-4e8c-8472-45fbd390ce30');\n",
              "          const dataTable =\n",
              "            await google.colab.kernel.invokeFunction('convertToInteractive',\n",
              "                                                     [key], {});\n",
              "          if (!dataTable) return;\n",
              "\n",
              "          const docLinkHtml = 'Like what you see? Visit the ' +\n",
              "            '<a target=\"_blank\" href=https://colab.research.google.com/notebooks/data_table.ipynb>data table notebook</a>'\n",
              "            + ' to learn more about interactive tables.';\n",
              "          element.innerHTML = '';\n",
              "          dataTable['output_type'] = 'display_data';\n",
              "          await google.colab.output.renderOutput(dataTable, element);\n",
              "          const docLink = document.createElement('div');\n",
              "          docLink.innerHTML = docLinkHtml;\n",
              "          element.appendChild(docLink);\n",
              "        }\n",
              "      </script>\n",
              "    </div>\n",
              "  </div>\n",
              "  "
            ]
          },
          "metadata": {},
          "execution_count": 73
        }
      ]
    },
    {
      "cell_type": "markdown",
      "source": [
        "При движении из данной начальной точки все 3 алгоритма показали одинаковую accuracy, но разные Time и Iterations. Лучший результат у nadam"
      ],
      "metadata": {
        "id": "ANJMs96jXOfi"
      }
    },
    {
      "cell_type": "code",
      "source": [
        "full_results.drop(['check'], axis=1,inplace=True)"
      ],
      "metadata": {
        "id": "C_JmW9LRV3g8"
      },
      "execution_count": null,
      "outputs": []
    },
    {
      "cell_type": "markdown",
      "source": [
        "Зафиксируем точку 1452, где nadam показал абсолютный рекорд = accuracy=1"
      ],
      "metadata": {
        "id": "j2f6kanbXjFB"
      }
    },
    {
      "cell_type": "code",
      "source": [
        "a= full_results.start_weights[1452]\n",
        "full_results['check']=full_results.apply(lambda row:np.array_equal(row.start_weights,a), axis=1 )\n",
        "full_results[full_results['check']==True].sort_values(by=['Score', 'Time', 'Iterations'])"
      ],
      "metadata": {
        "colab": {
          "base_uri": "https://localhost:8080/",
          "height": 143
        },
        "id": "qVGziytBXiDw",
        "outputId": "5d6da717-18d0-44f9-a7b8-6eb3d5016522"
      },
      "execution_count": null,
      "outputs": [
        {
          "output_type": "execute_result",
          "data": {
            "text/plain": [
              "       Method  Score Iterations Learning_Rate      Time  \\\n",
              "1450       gd   0.85       1000          0.01  0.135685   \n",
              "1451  rmsprop   0.90        928          0.01  0.155901   \n",
              "1452    nadam   1.00       1000          0.01  0.192402   \n",
              "\n",
              "                                          start_weights  \\\n",
              "1450  [[-1.4841636121793742], [0.16793948273625664],...   \n",
              "1451  [[-1.4841636121793742], [0.16793948273625664],...   \n",
              "1452  [[-1.4841636121793742], [0.16793948273625664],...   \n",
              "\n",
              "                                            model.coef_  \\\n",
              "1450  [[-0.42357112441911116], [0.2333941528264516],...   \n",
              "1451  [[-1.9463928658793785], [-3.3748935565500235],...   \n",
              "1452  [[0.16793948273625664], [-0.31424148649251515]...   \n",
              "\n",
              "           model.intercept_  check  \n",
              "1450  [0.32865626407378473]   True  \n",
              "1451   [-6.180986281048437]   True  \n",
              "1452  [-1.4841636121793742]   True  "
            ],
            "text/html": [
              "\n",
              "  <div id=\"df-ba506364-029a-47c6-8e42-9e5651c2bbe1\">\n",
              "    <div class=\"colab-df-container\">\n",
              "      <div>\n",
              "<style scoped>\n",
              "    .dataframe tbody tr th:only-of-type {\n",
              "        vertical-align: middle;\n",
              "    }\n",
              "\n",
              "    .dataframe tbody tr th {\n",
              "        vertical-align: top;\n",
              "    }\n",
              "\n",
              "    .dataframe thead th {\n",
              "        text-align: right;\n",
              "    }\n",
              "</style>\n",
              "<table border=\"1\" class=\"dataframe\">\n",
              "  <thead>\n",
              "    <tr style=\"text-align: right;\">\n",
              "      <th></th>\n",
              "      <th>Method</th>\n",
              "      <th>Score</th>\n",
              "      <th>Iterations</th>\n",
              "      <th>Learning_Rate</th>\n",
              "      <th>Time</th>\n",
              "      <th>start_weights</th>\n",
              "      <th>model.coef_</th>\n",
              "      <th>model.intercept_</th>\n",
              "      <th>check</th>\n",
              "    </tr>\n",
              "  </thead>\n",
              "  <tbody>\n",
              "    <tr>\n",
              "      <th>1450</th>\n",
              "      <td>gd</td>\n",
              "      <td>0.85</td>\n",
              "      <td>1000</td>\n",
              "      <td>0.01</td>\n",
              "      <td>0.135685</td>\n",
              "      <td>[[-1.4841636121793742], [0.16793948273625664],...</td>\n",
              "      <td>[[-0.42357112441911116], [0.2333941528264516],...</td>\n",
              "      <td>[0.32865626407378473]</td>\n",
              "      <td>True</td>\n",
              "    </tr>\n",
              "    <tr>\n",
              "      <th>1451</th>\n",
              "      <td>rmsprop</td>\n",
              "      <td>0.90</td>\n",
              "      <td>928</td>\n",
              "      <td>0.01</td>\n",
              "      <td>0.155901</td>\n",
              "      <td>[[-1.4841636121793742], [0.16793948273625664],...</td>\n",
              "      <td>[[-1.9463928658793785], [-3.3748935565500235],...</td>\n",
              "      <td>[-6.180986281048437]</td>\n",
              "      <td>True</td>\n",
              "    </tr>\n",
              "    <tr>\n",
              "      <th>1452</th>\n",
              "      <td>nadam</td>\n",
              "      <td>1.00</td>\n",
              "      <td>1000</td>\n",
              "      <td>0.01</td>\n",
              "      <td>0.192402</td>\n",
              "      <td>[[-1.4841636121793742], [0.16793948273625664],...</td>\n",
              "      <td>[[0.16793948273625664], [-0.31424148649251515]...</td>\n",
              "      <td>[-1.4841636121793742]</td>\n",
              "      <td>True</td>\n",
              "    </tr>\n",
              "  </tbody>\n",
              "</table>\n",
              "</div>\n",
              "      <button class=\"colab-df-convert\" onclick=\"convertToInteractive('df-ba506364-029a-47c6-8e42-9e5651c2bbe1')\"\n",
              "              title=\"Convert this dataframe to an interactive table.\"\n",
              "              style=\"display:none;\">\n",
              "        \n",
              "  <svg xmlns=\"http://www.w3.org/2000/svg\" height=\"24px\"viewBox=\"0 0 24 24\"\n",
              "       width=\"24px\">\n",
              "    <path d=\"M0 0h24v24H0V0z\" fill=\"none\"/>\n",
              "    <path d=\"M18.56 5.44l.94 2.06.94-2.06 2.06-.94-2.06-.94-.94-2.06-.94 2.06-2.06.94zm-11 1L8.5 8.5l.94-2.06 2.06-.94-2.06-.94L8.5 2.5l-.94 2.06-2.06.94zm10 10l.94 2.06.94-2.06 2.06-.94-2.06-.94-.94-2.06-.94 2.06-2.06.94z\"/><path d=\"M17.41 7.96l-1.37-1.37c-.4-.4-.92-.59-1.43-.59-.52 0-1.04.2-1.43.59L10.3 9.45l-7.72 7.72c-.78.78-.78 2.05 0 2.83L4 21.41c.39.39.9.59 1.41.59.51 0 1.02-.2 1.41-.59l7.78-7.78 2.81-2.81c.8-.78.8-2.07 0-2.86zM5.41 20L4 18.59l7.72-7.72 1.47 1.35L5.41 20z\"/>\n",
              "  </svg>\n",
              "      </button>\n",
              "      \n",
              "  <style>\n",
              "    .colab-df-container {\n",
              "      display:flex;\n",
              "      flex-wrap:wrap;\n",
              "      gap: 12px;\n",
              "    }\n",
              "\n",
              "    .colab-df-convert {\n",
              "      background-color: #E8F0FE;\n",
              "      border: none;\n",
              "      border-radius: 50%;\n",
              "      cursor: pointer;\n",
              "      display: none;\n",
              "      fill: #1967D2;\n",
              "      height: 32px;\n",
              "      padding: 0 0 0 0;\n",
              "      width: 32px;\n",
              "    }\n",
              "\n",
              "    .colab-df-convert:hover {\n",
              "      background-color: #E2EBFA;\n",
              "      box-shadow: 0px 1px 2px rgba(60, 64, 67, 0.3), 0px 1px 3px 1px rgba(60, 64, 67, 0.15);\n",
              "      fill: #174EA6;\n",
              "    }\n",
              "\n",
              "    [theme=dark] .colab-df-convert {\n",
              "      background-color: #3B4455;\n",
              "      fill: #D2E3FC;\n",
              "    }\n",
              "\n",
              "    [theme=dark] .colab-df-convert:hover {\n",
              "      background-color: #434B5C;\n",
              "      box-shadow: 0px 1px 3px 1px rgba(0, 0, 0, 0.15);\n",
              "      filter: drop-shadow(0px 1px 2px rgba(0, 0, 0, 0.3));\n",
              "      fill: #FFFFFF;\n",
              "    }\n",
              "  </style>\n",
              "\n",
              "      <script>\n",
              "        const buttonEl =\n",
              "          document.querySelector('#df-ba506364-029a-47c6-8e42-9e5651c2bbe1 button.colab-df-convert');\n",
              "        buttonEl.style.display =\n",
              "          google.colab.kernel.accessAllowed ? 'block' : 'none';\n",
              "\n",
              "        async function convertToInteractive(key) {\n",
              "          const element = document.querySelector('#df-ba506364-029a-47c6-8e42-9e5651c2bbe1');\n",
              "          const dataTable =\n",
              "            await google.colab.kernel.invokeFunction('convertToInteractive',\n",
              "                                                     [key], {});\n",
              "          if (!dataTable) return;\n",
              "\n",
              "          const docLinkHtml = 'Like what you see? Visit the ' +\n",
              "            '<a target=\"_blank\" href=https://colab.research.google.com/notebooks/data_table.ipynb>data table notebook</a>'\n",
              "            + ' to learn more about interactive tables.';\n",
              "          element.innerHTML = '';\n",
              "          dataTable['output_type'] = 'display_data';\n",
              "          await google.colab.output.renderOutput(dataTable, element);\n",
              "          const docLink = document.createElement('div');\n",
              "          docLink.innerHTML = docLinkHtml;\n",
              "          element.appendChild(docLink);\n",
              "        }\n",
              "      </script>\n",
              "    </div>\n",
              "  </div>\n",
              "  "
            ]
          },
          "metadata": {},
          "execution_count": 65
        }
      ]
    },
    {
      "cell_type": "markdown",
      "source": [
        "в этом случае алгоритмы показали не только разные время обучения и к-во итераций, но и разную accuracy"
      ],
      "metadata": {
        "id": "do6zafc0X4R6"
      }
    },
    {
      "cell_type": "markdown",
      "source": [
        "Предлагается следующая методика определения победителя. Берем для рассмотрения весь датасет full_results. Для каждой начальной точки ищется алгоритм с максимальной accuracy. Если их несколько, из них выбирается алгоритм с минимальным временем обучения. Если их опят-таки несколькоЮ выбирается алгоритм с минимальным числом итераций. Победитель шага получит 1 балл. \n",
        "Алгоритм с наибольшей суммой баллов - победитель для данного датасета и выбранных условий работы"
      ],
      "metadata": {
        "id": "rjLSJ0s6bJea"
      }
    },
    {
      "cell_type": "code",
      "source": [
        "df=full_results.copy()"
      ],
      "metadata": {
        "id": "lT0mlRbgcHBJ"
      },
      "execution_count": null,
      "outputs": []
    },
    {
      "cell_type": "code",
      "source": [
        "for i in range(df.shape[0]):\n",
        "\n",
        "  if np.isnan(df.winner[i]):\n",
        "\n",
        "    a = df.start_weights[i]\n",
        "    df['check']=df.apply(lambda row:np.array_equal(row.start_weights,a), axis=1 )\n",
        "    # в B лежат номера строк с одинаковыми весами\n",
        "    b = df.index[df['check']==True ].tolist ()\n",
        "    candidates=df.loc[b]\n",
        "    # Выберем лучший результат ( по accuracy,Time, Iterations)\n",
        "    max_accuracy = max(candidates['Score'])\n",
        "    #  Строки с лучшим score\n",
        "    r = candidates.loc[(candidates['Score'] ==max_accuracy)]\n",
        "    \n",
        "    if len(r) > 1:\n",
        "      min_time = min(r['Time'])\n",
        "      r1 = r.loc[r['Time'] == min_time]\n",
        "\n",
        "      if len(r1) >1:\n",
        "        min_iteration = min(r1['Iterations'])\n",
        "        r2 = r1.loc[r1['Iterations'] == min_iteration]\n",
        "      else:\n",
        "        r2 = r1\n",
        "    else:\n",
        "      r2 = r\n",
        "    c =r2.index.to_list()\n",
        "    df.loc[b,'winner']=0\n",
        "    # Присуждаем очко победителю\n",
        "    df.loc[c,'winner']=1"
      ],
      "metadata": {
        "id": "_lPP9sCFcMRR"
      },
      "execution_count": null,
      "outputs": []
    },
    {
      "cell_type": "code",
      "source": [
        "result = df.groupby(by='Method').sum('winner')\n",
        "result['winner']"
      ],
      "metadata": {
        "colab": {
          "base_uri": "https://localhost:8080/"
        },
        "id": "wupR5OzbmT-d",
        "outputId": "a570b633-fe65-4ad2-fcb2-8c1352a6c21b"
      },
      "execution_count": null,
      "outputs": [
        {
          "output_type": "execute_result",
          "data": {
            "text/plain": [
              "Method\n",
              "SKLEARN DEFAULT      1.0\n",
              "gd                 399.0\n",
              "nadam              104.0\n",
              "rmsprop            497.0\n",
              "Name: winner, dtype: float64"
            ]
          },
          "metadata": {},
          "execution_count": 93
        }
      ]
    },
    {
      "cell_type": "markdown",
      "source": [
        "Итак, для данного датасета, зафиксированного состояния генератора случайных чисел, выбранной скорости обучения  и ограничения в виде максимального числа итераций на объеме выборки = 3000 наибольшую эффективность продемонстрировала реализация алгоритма rmsprop ( 497 баллов), второе место - у gd (399 баллов),третье - у nadam(104 балла). \n",
        "Кроме того, в ряде случаев самостоятельная реализация алгоритма благодаря возможности тонкой настройки и выбору начальных точек позволяет более эффективно решать задачу по сравнению со стандартным алгоритмом scikit-learn             "
      ],
      "metadata": {
        "id": "byP-lZa1nVlf"
      }
    },
    {
      "cell_type": "markdown",
      "source": [
        "В стандартной реализации логистической регрессии accuracy составила 0.9.  В моей реализации алгоритмов gd, msprop и nadam в некоторых случаях была достигнута accuracy 0.95 и даже 1"
      ],
      "metadata": {
        "id": "kxzK5pKrrjEe"
      }
    },
    {
      "cell_type": "code",
      "source": [
        "# model = keras.Sequential()\n",
        "# model.add(layers.Dense(64, kernel_initializer='uniform', input_shape=(10,)))\n",
        "# model.add(layers.Activation('softmax'))\n",
        "\n",
        "# optimizer = keras.optimizers.RMSprop(\n",
        "#     learning_rate=0.001,\n",
        "#     rho=0.9,\n",
        "#     momentum=0.0,\n",
        "#     epsilon=1e-07,\n",
        "#     centered=False,\n",
        "#     weight_decay=None,\n",
        "#     clipnorm=None,\n",
        "#     clipvalue=None,\n",
        "#     global_clipnorm=None,\n",
        "#     use_ema=False,\n",
        "#     ema_momentum=0.99,\n",
        "#     ema_overwrite_frequency=100,\n",
        "#     jit_compile=True,\n",
        "#     name=\"RMSprop\",\n",
        "\n",
        "# )\n",
        "# model.compile(loss='categorical_crossentropy', optimizer=optimizer)"
      ],
      "metadata": {
        "id": "5CM29mvYtsbd"
      },
      "execution_count": null,
      "outputs": []
    },
    {
      "cell_type": "code",
      "source": [
        "# from tensorflow import GradientTape"
      ],
      "metadata": {
        "id": "-tNe4ASCveO7"
      },
      "execution_count": null,
      "outputs": []
    },
    {
      "cell_type": "code",
      "source": [
        "# # Задаем оптимайзер\n",
        "# # optimizer = keras.optimizers.Adam()\n",
        "\n",
        "# # Движемся по датасету\n",
        "# for x, y in X_train, y_train:\n",
        "#     # Используем GradientTape - инструмент для автоматического дифференцирования\n",
        "#     with GradientTape() as tape:\n",
        "#         # Forward pass.\n",
        "#         logits = model(x)\n",
        "\n",
        "#         # Вычисляем значение ф-ии потерь на данном шаге\n",
        "#         loss_value = loss_fn(y, logits)\n",
        "\n",
        "#     # Получаем градиенты потерь относительно весов.\n",
        "#     gradients = tape.gradient(loss_value, model.trainable_weights)\n",
        "\n",
        "#     # Обновляем веса модели\n",
        "#     optimizer.apply_gradients(zip(gradients, model.trainable_weights))"
      ],
      "metadata": {
        "id": "-4HHm_5Ss0-F"
      },
      "execution_count": null,
      "outputs": []
    }
  ]
}