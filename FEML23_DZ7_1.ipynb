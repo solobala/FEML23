{
  "nbformat": 4,
  "nbformat_minor": 0,
  "metadata": {
    "colab": {
      "provenance": [],
      "authorship_tag": "ABX9TyMuI89SxkC5bzatdvSQY5pL",
      "include_colab_link": true
    },
    "kernelspec": {
      "name": "python3",
      "display_name": "Python 3"
    },
    "language_info": {
      "name": "python"
    }
  },
  "cells": [
    {
      "cell_type": "markdown",
      "metadata": {
        "id": "view-in-github",
        "colab_type": "text"
      },
      "source": [
        "<a href=\"https://colab.research.google.com/github/solobala/FEML23/blob/master/FEML23_DZ7_1.ipynb\" target=\"_parent\"><img src=\"https://colab.research.google.com/assets/colab-badge.svg\" alt=\"Open In Colab\"/></a>"
      ]
    },
    {
      "cell_type": "markdown",
      "source": [
        "Домашнее задание по теме «Ансамблирование» обновленное"
      ],
      "metadata": {
        "id": "bGE5wYEi1P6v"
      }
    },
    {
      "cell_type": "markdown",
      "source": [
        "**Цель**: применить на практике базовые ансамблевые методы\n",
        "\n",
        "**Описание задания**:\n",
        "\n",
        "В домашнем задании нужно решить задачу классификации наличия болезни сердца у пациентов. Данные для обучения моделей необходимо загрузить самостоятельно с сайта. Целевая переменная – наличие болезни сердца (HeartDisease), принимает значения 0 или 1 в зависимости от отсутствия или наличия болезни соответственно. (Подробнее о признаках можно прочесть в описании датасета на сайте. Для выполнения работы не обязательно вникать в медицинские показатели.)"
      ],
      "metadata": {
        "id": "gtvzkv_n1SKz"
      }
    },
    {
      "cell_type": "markdown",
      "source": [
        "# 0. Установка пакетов, импорт библиотек и пользовательские функции"
      ],
      "metadata": {
        "id": "9u7XtmYt1bLY"
      }
    },
    {
      "cell_type": "code",
      "source": [
        "!pip install catboost"
      ],
      "metadata": {
        "colab": {
          "base_uri": "https://localhost:8080/"
        },
        "id": "UPuOtNjaHupI",
        "outputId": "79dcd813-68ee-4bbc-a728-7c7760d3e8bd"
      },
      "execution_count": 1,
      "outputs": [
        {
          "output_type": "stream",
          "name": "stdout",
          "text": [
            "Looking in indexes: https://pypi.org/simple, https://us-python.pkg.dev/colab-wheels/public/simple/\n",
            "Collecting catboost\n",
            "  Downloading catboost-1.1.1-cp39-none-manylinux1_x86_64.whl (76.6 MB)\n",
            "\u001b[2K     \u001b[90m━━━━━━━━━━━━━━━━━━━━━━━━━━━━━━━━━━━━━━━━\u001b[0m \u001b[32m76.6/76.6 MB\u001b[0m \u001b[31m11.3 MB/s\u001b[0m eta \u001b[36m0:00:00\u001b[0m\n",
            "\u001b[?25hRequirement already satisfied: matplotlib in /usr/local/lib/python3.9/dist-packages (from catboost) (3.7.1)\n",
            "Requirement already satisfied: numpy>=1.16.0 in /usr/local/lib/python3.9/dist-packages (from catboost) (1.22.4)\n",
            "Requirement already satisfied: six in /usr/local/lib/python3.9/dist-packages (from catboost) (1.16.0)\n",
            "Requirement already satisfied: pandas>=0.24.0 in /usr/local/lib/python3.9/dist-packages (from catboost) (1.5.3)\n",
            "Requirement already satisfied: scipy in /usr/local/lib/python3.9/dist-packages (from catboost) (1.10.1)\n",
            "Requirement already satisfied: graphviz in /usr/local/lib/python3.9/dist-packages (from catboost) (0.20.1)\n",
            "Requirement already satisfied: plotly in /usr/local/lib/python3.9/dist-packages (from catboost) (5.13.1)\n",
            "Requirement already satisfied: pytz>=2020.1 in /usr/local/lib/python3.9/dist-packages (from pandas>=0.24.0->catboost) (2022.7.1)\n",
            "Requirement already satisfied: python-dateutil>=2.8.1 in /usr/local/lib/python3.9/dist-packages (from pandas>=0.24.0->catboost) (2.8.2)\n",
            "Requirement already satisfied: kiwisolver>=1.0.1 in /usr/local/lib/python3.9/dist-packages (from matplotlib->catboost) (1.4.4)\n",
            "Requirement already satisfied: cycler>=0.10 in /usr/local/lib/python3.9/dist-packages (from matplotlib->catboost) (0.11.0)\n",
            "Requirement already satisfied: packaging>=20.0 in /usr/local/lib/python3.9/dist-packages (from matplotlib->catboost) (23.0)\n",
            "Requirement already satisfied: contourpy>=1.0.1 in /usr/local/lib/python3.9/dist-packages (from matplotlib->catboost) (1.0.7)\n",
            "Requirement already satisfied: pillow>=6.2.0 in /usr/local/lib/python3.9/dist-packages (from matplotlib->catboost) (8.4.0)\n",
            "Requirement already satisfied: importlib-resources>=3.2.0 in /usr/local/lib/python3.9/dist-packages (from matplotlib->catboost) (5.12.0)\n",
            "Requirement already satisfied: fonttools>=4.22.0 in /usr/local/lib/python3.9/dist-packages (from matplotlib->catboost) (4.39.3)\n",
            "Requirement already satisfied: pyparsing>=2.3.1 in /usr/local/lib/python3.9/dist-packages (from matplotlib->catboost) (3.0.9)\n",
            "Requirement already satisfied: tenacity>=6.2.0 in /usr/local/lib/python3.9/dist-packages (from plotly->catboost) (8.2.2)\n",
            "Requirement already satisfied: zipp>=3.1.0 in /usr/local/lib/python3.9/dist-packages (from importlib-resources>=3.2.0->matplotlib->catboost) (3.15.0)\n",
            "Installing collected packages: catboost\n",
            "Successfully installed catboost-1.1.1\n"
          ]
        }
      ]
    },
    {
      "cell_type": "markdown",
      "source": [
        "Полезные ссылки:\n",
        "по форматированию датафреймов https://habr.com/ru/articles/521894/\n",
        "По автоматизации работы  с группой моделей https://github.com/ZakharovOleg/Machine-learning-projects/blob/master/MLA_regression.py"
      ],
      "metadata": {
        "id": "aeTPeRTJwf6B"
      }
    },
    {
      "cell_type": "code",
      "execution_count": 20,
      "metadata": {
        "id": "vmaCv_jORwdM"
      },
      "outputs": [],
      "source": [
        "import pandas as pd\n",
        "import numpy as np\n",
        "\n",
        "from lightgbm import LGBMClassifier\n",
        "from xgboost import XGBClassifier\n",
        "from catboost import CatBoostClassifier \n",
        "from sklearn.ensemble import GradientBoostingClassifier\n",
        "from sklearn.ensemble import AdaBoostClassifier\n",
        "from sklearn.ensemble import RandomForestClassifier\n",
        "from sklearn.ensemble import  BaggingClassifier\n",
        "from sklearn.ensemble import  StackingClassifier\n",
        "from sklearn.tree import DecisionTreeClassifier\n",
        "from sklearn.svm import LinearSVC\n",
        "\n",
        "\n",
        "from sklearn.model_selection import train_test_split\n",
        "from sklearn.metrics import classification_report\n",
        "from sklearn.pipeline import make_pipeline\n",
        "from sklearn.pipeline import Pipeline\n",
        "from sklearn.preprocessing import Normalizer\n",
        "from sklearn.preprocessing import OneHotEncoder\n",
        "from sklearn.compose import ColumnTransformer\n",
        "\n",
        "from sklearn.feature_selection import SelectPercentile, chi2\n",
        "# from sklearn.model_selection import GridSearchCV\n",
        "from sklearn.metrics import make_scorer\n",
        "from sklearn.metrics import r2_score\n",
        "from sklearn.model_selection import KFold\n",
        "from sklearn.model_selection import cross_val_score\n",
        "import seaborn as sns\n",
        "from matplotlib import pyplot as plt\n",
        "\n",
        "import os\n",
        "for dirname, _, filenames in os.walk('/kaggle/input'):\n",
        "    for filename in filenames:\n",
        "        print(os.path.join(dirname, filename))"
      ]
    },
    {
      "cell_type": "markdown",
      "source": [
        "#1. Получите данные и загрузите их в рабочую среду. (Jupyter Notebook или другую)"
      ],
      "metadata": {
        "id": "BwcN0nRC1lHk"
      }
    },
    {
      "cell_type": "code",
      "source": [
        "!pip install -q kaggle # Делаем 1 раз"
      ],
      "metadata": {
        "id": "hLU03p3X1s7s"
      },
      "execution_count": 3,
      "outputs": []
    },
    {
      "cell_type": "code",
      "source": [
        "# Это напоминалка - приглашение загрузить в сессионное хранилище свой kaggle.json. Ключ стерла\n",
        "from google.colab import files\n",
        "files.upload()"
      ],
      "metadata": {
        "id": "aLIlK6oNVDeb",
        "colab": {
          "base_uri": "https://localhost:8080/",
          "height": 91
        },
        "outputId": "6f80695c-75a6-4644-d4a7-086a88f839d8"
      },
      "execution_count": 4,
      "outputs": [
        {
          "output_type": "display_data",
          "data": {
            "text/plain": [
              "<IPython.core.display.HTML object>"
            ],
            "text/html": [
              "\n",
              "     <input type=\"file\" id=\"files-3aea3d14-625d-4bf3-b28c-107aeb5c65c1\" name=\"files[]\" multiple disabled\n",
              "        style=\"border:none\" />\n",
              "     <output id=\"result-3aea3d14-625d-4bf3-b28c-107aeb5c65c1\">\n",
              "      Upload widget is only available when the cell has been executed in the\n",
              "      current browser session. Please rerun this cell to enable.\n",
              "      </output>\n",
              "      <script>// Copyright 2017 Google LLC\n",
              "//\n",
              "// Licensed under the Apache License, Version 2.0 (the \"License\");\n",
              "// you may not use this file except in compliance with the License.\n",
              "// You may obtain a copy of the License at\n",
              "//\n",
              "//      http://www.apache.org/licenses/LICENSE-2.0\n",
              "//\n",
              "// Unless required by applicable law or agreed to in writing, software\n",
              "// distributed under the License is distributed on an \"AS IS\" BASIS,\n",
              "// WITHOUT WARRANTIES OR CONDITIONS OF ANY KIND, either express or implied.\n",
              "// See the License for the specific language governing permissions and\n",
              "// limitations under the License.\n",
              "\n",
              "/**\n",
              " * @fileoverview Helpers for google.colab Python module.\n",
              " */\n",
              "(function(scope) {\n",
              "function span(text, styleAttributes = {}) {\n",
              "  const element = document.createElement('span');\n",
              "  element.textContent = text;\n",
              "  for (const key of Object.keys(styleAttributes)) {\n",
              "    element.style[key] = styleAttributes[key];\n",
              "  }\n",
              "  return element;\n",
              "}\n",
              "\n",
              "// Max number of bytes which will be uploaded at a time.\n",
              "const MAX_PAYLOAD_SIZE = 100 * 1024;\n",
              "\n",
              "function _uploadFiles(inputId, outputId) {\n",
              "  const steps = uploadFilesStep(inputId, outputId);\n",
              "  const outputElement = document.getElementById(outputId);\n",
              "  // Cache steps on the outputElement to make it available for the next call\n",
              "  // to uploadFilesContinue from Python.\n",
              "  outputElement.steps = steps;\n",
              "\n",
              "  return _uploadFilesContinue(outputId);\n",
              "}\n",
              "\n",
              "// This is roughly an async generator (not supported in the browser yet),\n",
              "// where there are multiple asynchronous steps and the Python side is going\n",
              "// to poll for completion of each step.\n",
              "// This uses a Promise to block the python side on completion of each step,\n",
              "// then passes the result of the previous step as the input to the next step.\n",
              "function _uploadFilesContinue(outputId) {\n",
              "  const outputElement = document.getElementById(outputId);\n",
              "  const steps = outputElement.steps;\n",
              "\n",
              "  const next = steps.next(outputElement.lastPromiseValue);\n",
              "  return Promise.resolve(next.value.promise).then((value) => {\n",
              "    // Cache the last promise value to make it available to the next\n",
              "    // step of the generator.\n",
              "    outputElement.lastPromiseValue = value;\n",
              "    return next.value.response;\n",
              "  });\n",
              "}\n",
              "\n",
              "/**\n",
              " * Generator function which is called between each async step of the upload\n",
              " * process.\n",
              " * @param {string} inputId Element ID of the input file picker element.\n",
              " * @param {string} outputId Element ID of the output display.\n",
              " * @return {!Iterable<!Object>} Iterable of next steps.\n",
              " */\n",
              "function* uploadFilesStep(inputId, outputId) {\n",
              "  const inputElement = document.getElementById(inputId);\n",
              "  inputElement.disabled = false;\n",
              "\n",
              "  const outputElement = document.getElementById(outputId);\n",
              "  outputElement.innerHTML = '';\n",
              "\n",
              "  const pickedPromise = new Promise((resolve) => {\n",
              "    inputElement.addEventListener('change', (e) => {\n",
              "      resolve(e.target.files);\n",
              "    });\n",
              "  });\n",
              "\n",
              "  const cancel = document.createElement('button');\n",
              "  inputElement.parentElement.appendChild(cancel);\n",
              "  cancel.textContent = 'Cancel upload';\n",
              "  const cancelPromise = new Promise((resolve) => {\n",
              "    cancel.onclick = () => {\n",
              "      resolve(null);\n",
              "    };\n",
              "  });\n",
              "\n",
              "  // Wait for the user to pick the files.\n",
              "  const files = yield {\n",
              "    promise: Promise.race([pickedPromise, cancelPromise]),\n",
              "    response: {\n",
              "      action: 'starting',\n",
              "    }\n",
              "  };\n",
              "\n",
              "  cancel.remove();\n",
              "\n",
              "  // Disable the input element since further picks are not allowed.\n",
              "  inputElement.disabled = true;\n",
              "\n",
              "  if (!files) {\n",
              "    return {\n",
              "      response: {\n",
              "        action: 'complete',\n",
              "      }\n",
              "    };\n",
              "  }\n",
              "\n",
              "  for (const file of files) {\n",
              "    const li = document.createElement('li');\n",
              "    li.append(span(file.name, {fontWeight: 'bold'}));\n",
              "    li.append(span(\n",
              "        `(${file.type || 'n/a'}) - ${file.size} bytes, ` +\n",
              "        `last modified: ${\n",
              "            file.lastModifiedDate ? file.lastModifiedDate.toLocaleDateString() :\n",
              "                                    'n/a'} - `));\n",
              "    const percent = span('0% done');\n",
              "    li.appendChild(percent);\n",
              "\n",
              "    outputElement.appendChild(li);\n",
              "\n",
              "    const fileDataPromise = new Promise((resolve) => {\n",
              "      const reader = new FileReader();\n",
              "      reader.onload = (e) => {\n",
              "        resolve(e.target.result);\n",
              "      };\n",
              "      reader.readAsArrayBuffer(file);\n",
              "    });\n",
              "    // Wait for the data to be ready.\n",
              "    let fileData = yield {\n",
              "      promise: fileDataPromise,\n",
              "      response: {\n",
              "        action: 'continue',\n",
              "      }\n",
              "    };\n",
              "\n",
              "    // Use a chunked sending to avoid message size limits. See b/62115660.\n",
              "    let position = 0;\n",
              "    do {\n",
              "      const length = Math.min(fileData.byteLength - position, MAX_PAYLOAD_SIZE);\n",
              "      const chunk = new Uint8Array(fileData, position, length);\n",
              "      position += length;\n",
              "\n",
              "      const base64 = btoa(String.fromCharCode.apply(null, chunk));\n",
              "      yield {\n",
              "        response: {\n",
              "          action: 'append',\n",
              "          file: file.name,\n",
              "          data: base64,\n",
              "        },\n",
              "      };\n",
              "\n",
              "      let percentDone = fileData.byteLength === 0 ?\n",
              "          100 :\n",
              "          Math.round((position / fileData.byteLength) * 100);\n",
              "      percent.textContent = `${percentDone}% done`;\n",
              "\n",
              "    } while (position < fileData.byteLength);\n",
              "  }\n",
              "\n",
              "  // All done.\n",
              "  yield {\n",
              "    response: {\n",
              "      action: 'complete',\n",
              "    }\n",
              "  };\n",
              "}\n",
              "\n",
              "scope.google = scope.google || {};\n",
              "scope.google.colab = scope.google.colab || {};\n",
              "scope.google.colab._files = {\n",
              "  _uploadFiles,\n",
              "  _uploadFilesContinue,\n",
              "};\n",
              "})(self);\n",
              "</script> "
            ]
          },
          "metadata": {}
        },
        {
          "output_type": "stream",
          "name": "stdout",
          "text": [
            "Saving kaggle.json to kaggle.json\n"
          ]
        },
        {
          "output_type": "execute_result",
          "data": {
            "text/plain": [
              "{'kaggle.json': b'{\"username\":\"marinabalakina\",\"key\":\"0763a280a2e52ea690b44499c8ab213e\"}'}"
            ]
          },
          "metadata": {},
          "execution_count": 4
        }
      ]
    },
    {
      "cell_type": "code",
      "source": [
        "! mkdir ~/.kaggle # Создаем каталог .kaggle  1 раз, для того, чтобы сюда положить ключ kaggle.json, который получаем на Kaggle при регистрации"
      ],
      "metadata": {
        "id": "mMBZJnc1VDSY"
      },
      "execution_count": 5,
      "outputs": []
    },
    {
      "cell_type": "code",
      "source": [
        "! cp kaggle.json ~/.kaggle/  # кладем ключ"
      ],
      "metadata": {
        "id": "6nexyMF7VJR8"
      },
      "execution_count": 6,
      "outputs": []
    },
    {
      "cell_type": "code",
      "source": [
        "! chmod 600 /root/.kaggle/kaggle.json # засекречиваем. К сожалению, это все только на время сеанса"
      ],
      "metadata": {
        "id": "AntV6mU6VTG6"
      },
      "execution_count": 7,
      "outputs": []
    },
    {
      "cell_type": "code",
      "source": [
        "!kaggle datasets list -s 'heart' # Сюда вместо happiness - люббое ключевое слово"
      ],
      "metadata": {
        "colab": {
          "base_uri": "https://localhost:8080/"
        },
        "id": "dHhVq1-ESvU1",
        "outputId": "2fefa95c-f539-4a63-9511-e8dd0ff0e86f"
      },
      "execution_count": 8,
      "outputs": [
        {
          "output_type": "stream",
          "name": "stdout",
          "text": [
            "ref                                                           title                                            size  lastUpdated          downloadCount  voteCount  usabilityRating  \n",
            "------------------------------------------------------------  ----------------------------------------------  -----  -------------------  -------------  ---------  ---------------  \n",
            "andrewmvd/heart-failure-clinical-data                         Heart Failure Prediction                          4KB  2020-06-20 01:03:20         108229       1948  1.0              \n",
            "fedesoriano/heart-failure-prediction                          Heart Failure Prediction Dataset                  9KB  2021-09-10 18:11:57          97797       2090  1.0              \n",
            "johnsmith88/heart-disease-dataset                             Heart Disease Dataset                             6KB  2019-06-06 15:33:55          78515        630  0.88235295       \n",
            "rashikrahmanpritom/heart-attack-analysis-prediction-dataset   Heart Attack Analysis & Prediction Dataset        4KB  2021-03-22 11:40:59         123700       3005  1.0              \n",
            "rishidamarla/heart-disease-prediction                         Heart Disease Prediction                          3KB  2020-08-23 01:18:14          13541        127  0.9411765        \n",
            "pritsheta/heart-attack                                        Heart Attack                                      3KB  2021-09-26 06:47:56           3921         67  1.0              \n",
            "imnikhilanand/heart-attack-prediction                         Heart Attack Prediction                           3KB  2018-04-25 18:24:01          18198        268  0.7058824        \n",
            "kamilpytlak/personal-key-indicators-of-heart-disease          Personal Key Indicators of Heart Disease          3MB  2022-02-16 10:18:03          41118        657  1.0              \n",
            "yasserh/heart-disease-dataset                                 Heart Disease Dataset                             3KB  2021-12-29 14:29:31           4332         50  1.0              \n",
            "kinguistics/heartbeat-sounds                                  Heartbeat Sounds                                110MB  2016-11-27 01:33:54          18067        545  0.7647059        \n",
            "cherngs/heart-disease-cleveland-uci                           Heart Disease Cleveland UCI                       3KB  2020-03-29 12:06:31          12401        115  0.88235295       \n",
            "alexteboul/heart-disease-health-indicators-dataset            Heart Disease Health Indicators Dataset           3MB  2022-03-10 05:37:21          12160        174  0.9411765        \n",
            "redwankarimsony/heart-disease-data                            UCI Heart Disease Data                           12KB  2020-09-23 03:34:11           9263         81  0.9411765        \n",
            "nareshbhat/health-care-data-set-on-heart-attack-possibility   Health care: Heart attack possibility             3KB  2020-06-25 07:11:26          24872        342  0.7058824        \n",
            "volodymyrgavrysh/heart-disease                                Heart_Disease                                     3KB  2020-01-17 19:09:22           4186         78  1.0              \n",
            "mirzahasnine/heart-disease-dataset                            Heart Disease Dataset                            61KB  2023-03-11 13:22:58           1082         33  0.8235294        \n",
            "mazharkarimi/heart-disease-and-stroke-prevention              Heart Disease and Stroke Prevention               1MB  2018-05-14 10:36:48          10193        196  0.7058824        \n",
            "data855/heart-disease                                         Heart Disease                                     3KB  2020-09-08 06:04:56           1292         27  0.7647059        \n",
            "shayanfazeli/heartbeat                                        ECG Heartbeat Categorization Dataset             99MB  2018-05-31 18:47:34          55206        709  0.5882353        \n",
            "dileep070/heart-disease-prediction-using-logistic-regression    Logistic regression To predict heart disease   58KB  2019-06-07 06:12:56          31664        350  0.7058824        \n"
          ]
        }
      ]
    },
    {
      "cell_type": "code",
      "source": [
        "!kaggle datasets download -d 'fedesoriano/heart-failure-prediction'  # А это нужный датасет"
      ],
      "metadata": {
        "colab": {
          "base_uri": "https://localhost:8080/"
        },
        "id": "qGBsyu2w4z2k",
        "outputId": "e01d9a52-adf9-4d55-c20b-a745deaab7cb"
      },
      "execution_count": 9,
      "outputs": [
        {
          "output_type": "stream",
          "name": "stdout",
          "text": [
            "Downloading heart-failure-prediction.zip to /content\n",
            "\r  0% 0.00/8.56k [00:00<?, ?B/s]\n",
            "\r100% 8.56k/8.56k [00:00<00:00, 5.50MB/s]\n"
          ]
        }
      ]
    },
    {
      "cell_type": "code",
      "source": [
        "!unzip heart-failure-prediction.zip"
      ],
      "metadata": {
        "colab": {
          "base_uri": "https://localhost:8080/"
        },
        "id": "xBGbjGtX5JTV",
        "outputId": "2c0c09a3-6709-449f-a7ff-cc06aa4ac327"
      },
      "execution_count": 10,
      "outputs": [
        {
          "output_type": "stream",
          "name": "stdout",
          "text": [
            "Archive:  heart-failure-prediction.zip\n",
            "  inflating: heart.csv               \n"
          ]
        }
      ]
    },
    {
      "cell_type": "code",
      "source": [
        "df = pd.read_csv('/content/heart.csv')\n",
        "df.head()"
      ],
      "metadata": {
        "colab": {
          "base_uri": "https://localhost:8080/",
          "height": 206
        },
        "id": "a0hcIQyj5UOt",
        "outputId": "b5121ca3-aa7c-4e8a-f4af-500c5f1a599c"
      },
      "execution_count": 11,
      "outputs": [
        {
          "output_type": "execute_result",
          "data": {
            "text/plain": [
              "   Age Sex ChestPainType  RestingBP  Cholesterol  FastingBS RestingECG  MaxHR  \\\n",
              "0   40   M           ATA        140          289          0     Normal    172   \n",
              "1   49   F           NAP        160          180          0     Normal    156   \n",
              "2   37   M           ATA        130          283          0         ST     98   \n",
              "3   48   F           ASY        138          214          0     Normal    108   \n",
              "4   54   M           NAP        150          195          0     Normal    122   \n",
              "\n",
              "  ExerciseAngina  Oldpeak ST_Slope  HeartDisease  \n",
              "0              N      0.0       Up             0  \n",
              "1              N      1.0     Flat             1  \n",
              "2              N      0.0       Up             0  \n",
              "3              Y      1.5     Flat             1  \n",
              "4              N      0.0       Up             0  "
            ],
            "text/html": [
              "\n",
              "  <div id=\"df-d8c4614f-593a-44a5-86c9-8d183cb70881\">\n",
              "    <div class=\"colab-df-container\">\n",
              "      <div>\n",
              "<style scoped>\n",
              "    .dataframe tbody tr th:only-of-type {\n",
              "        vertical-align: middle;\n",
              "    }\n",
              "\n",
              "    .dataframe tbody tr th {\n",
              "        vertical-align: top;\n",
              "    }\n",
              "\n",
              "    .dataframe thead th {\n",
              "        text-align: right;\n",
              "    }\n",
              "</style>\n",
              "<table border=\"1\" class=\"dataframe\">\n",
              "  <thead>\n",
              "    <tr style=\"text-align: right;\">\n",
              "      <th></th>\n",
              "      <th>Age</th>\n",
              "      <th>Sex</th>\n",
              "      <th>ChestPainType</th>\n",
              "      <th>RestingBP</th>\n",
              "      <th>Cholesterol</th>\n",
              "      <th>FastingBS</th>\n",
              "      <th>RestingECG</th>\n",
              "      <th>MaxHR</th>\n",
              "      <th>ExerciseAngina</th>\n",
              "      <th>Oldpeak</th>\n",
              "      <th>ST_Slope</th>\n",
              "      <th>HeartDisease</th>\n",
              "    </tr>\n",
              "  </thead>\n",
              "  <tbody>\n",
              "    <tr>\n",
              "      <th>0</th>\n",
              "      <td>40</td>\n",
              "      <td>M</td>\n",
              "      <td>ATA</td>\n",
              "      <td>140</td>\n",
              "      <td>289</td>\n",
              "      <td>0</td>\n",
              "      <td>Normal</td>\n",
              "      <td>172</td>\n",
              "      <td>N</td>\n",
              "      <td>0.0</td>\n",
              "      <td>Up</td>\n",
              "      <td>0</td>\n",
              "    </tr>\n",
              "    <tr>\n",
              "      <th>1</th>\n",
              "      <td>49</td>\n",
              "      <td>F</td>\n",
              "      <td>NAP</td>\n",
              "      <td>160</td>\n",
              "      <td>180</td>\n",
              "      <td>0</td>\n",
              "      <td>Normal</td>\n",
              "      <td>156</td>\n",
              "      <td>N</td>\n",
              "      <td>1.0</td>\n",
              "      <td>Flat</td>\n",
              "      <td>1</td>\n",
              "    </tr>\n",
              "    <tr>\n",
              "      <th>2</th>\n",
              "      <td>37</td>\n",
              "      <td>M</td>\n",
              "      <td>ATA</td>\n",
              "      <td>130</td>\n",
              "      <td>283</td>\n",
              "      <td>0</td>\n",
              "      <td>ST</td>\n",
              "      <td>98</td>\n",
              "      <td>N</td>\n",
              "      <td>0.0</td>\n",
              "      <td>Up</td>\n",
              "      <td>0</td>\n",
              "    </tr>\n",
              "    <tr>\n",
              "      <th>3</th>\n",
              "      <td>48</td>\n",
              "      <td>F</td>\n",
              "      <td>ASY</td>\n",
              "      <td>138</td>\n",
              "      <td>214</td>\n",
              "      <td>0</td>\n",
              "      <td>Normal</td>\n",
              "      <td>108</td>\n",
              "      <td>Y</td>\n",
              "      <td>1.5</td>\n",
              "      <td>Flat</td>\n",
              "      <td>1</td>\n",
              "    </tr>\n",
              "    <tr>\n",
              "      <th>4</th>\n",
              "      <td>54</td>\n",
              "      <td>M</td>\n",
              "      <td>NAP</td>\n",
              "      <td>150</td>\n",
              "      <td>195</td>\n",
              "      <td>0</td>\n",
              "      <td>Normal</td>\n",
              "      <td>122</td>\n",
              "      <td>N</td>\n",
              "      <td>0.0</td>\n",
              "      <td>Up</td>\n",
              "      <td>0</td>\n",
              "    </tr>\n",
              "  </tbody>\n",
              "</table>\n",
              "</div>\n",
              "      <button class=\"colab-df-convert\" onclick=\"convertToInteractive('df-d8c4614f-593a-44a5-86c9-8d183cb70881')\"\n",
              "              title=\"Convert this dataframe to an interactive table.\"\n",
              "              style=\"display:none;\">\n",
              "        \n",
              "  <svg xmlns=\"http://www.w3.org/2000/svg\" height=\"24px\"viewBox=\"0 0 24 24\"\n",
              "       width=\"24px\">\n",
              "    <path d=\"M0 0h24v24H0V0z\" fill=\"none\"/>\n",
              "    <path d=\"M18.56 5.44l.94 2.06.94-2.06 2.06-.94-2.06-.94-.94-2.06-.94 2.06-2.06.94zm-11 1L8.5 8.5l.94-2.06 2.06-.94-2.06-.94L8.5 2.5l-.94 2.06-2.06.94zm10 10l.94 2.06.94-2.06 2.06-.94-2.06-.94-.94-2.06-.94 2.06-2.06.94z\"/><path d=\"M17.41 7.96l-1.37-1.37c-.4-.4-.92-.59-1.43-.59-.52 0-1.04.2-1.43.59L10.3 9.45l-7.72 7.72c-.78.78-.78 2.05 0 2.83L4 21.41c.39.39.9.59 1.41.59.51 0 1.02-.2 1.41-.59l7.78-7.78 2.81-2.81c.8-.78.8-2.07 0-2.86zM5.41 20L4 18.59l7.72-7.72 1.47 1.35L5.41 20z\"/>\n",
              "  </svg>\n",
              "      </button>\n",
              "      \n",
              "  <style>\n",
              "    .colab-df-container {\n",
              "      display:flex;\n",
              "      flex-wrap:wrap;\n",
              "      gap: 12px;\n",
              "    }\n",
              "\n",
              "    .colab-df-convert {\n",
              "      background-color: #E8F0FE;\n",
              "      border: none;\n",
              "      border-radius: 50%;\n",
              "      cursor: pointer;\n",
              "      display: none;\n",
              "      fill: #1967D2;\n",
              "      height: 32px;\n",
              "      padding: 0 0 0 0;\n",
              "      width: 32px;\n",
              "    }\n",
              "\n",
              "    .colab-df-convert:hover {\n",
              "      background-color: #E2EBFA;\n",
              "      box-shadow: 0px 1px 2px rgba(60, 64, 67, 0.3), 0px 1px 3px 1px rgba(60, 64, 67, 0.15);\n",
              "      fill: #174EA6;\n",
              "    }\n",
              "\n",
              "    [theme=dark] .colab-df-convert {\n",
              "      background-color: #3B4455;\n",
              "      fill: #D2E3FC;\n",
              "    }\n",
              "\n",
              "    [theme=dark] .colab-df-convert:hover {\n",
              "      background-color: #434B5C;\n",
              "      box-shadow: 0px 1px 3px 1px rgba(0, 0, 0, 0.15);\n",
              "      filter: drop-shadow(0px 1px 2px rgba(0, 0, 0, 0.3));\n",
              "      fill: #FFFFFF;\n",
              "    }\n",
              "  </style>\n",
              "\n",
              "      <script>\n",
              "        const buttonEl =\n",
              "          document.querySelector('#df-d8c4614f-593a-44a5-86c9-8d183cb70881 button.colab-df-convert');\n",
              "        buttonEl.style.display =\n",
              "          google.colab.kernel.accessAllowed ? 'block' : 'none';\n",
              "\n",
              "        async function convertToInteractive(key) {\n",
              "          const element = document.querySelector('#df-d8c4614f-593a-44a5-86c9-8d183cb70881');\n",
              "          const dataTable =\n",
              "            await google.colab.kernel.invokeFunction('convertToInteractive',\n",
              "                                                     [key], {});\n",
              "          if (!dataTable) return;\n",
              "\n",
              "          const docLinkHtml = 'Like what you see? Visit the ' +\n",
              "            '<a target=\"_blank\" href=https://colab.research.google.com/notebooks/data_table.ipynb>data table notebook</a>'\n",
              "            + ' to learn more about interactive tables.';\n",
              "          element.innerHTML = '';\n",
              "          dataTable['output_type'] = 'display_data';\n",
              "          await google.colab.output.renderOutput(dataTable, element);\n",
              "          const docLink = document.createElement('div');\n",
              "          docLink.innerHTML = docLinkHtml;\n",
              "          element.appendChild(docLink);\n",
              "        }\n",
              "      </script>\n",
              "    </div>\n",
              "  </div>\n",
              "  "
            ]
          },
          "metadata": {},
          "execution_count": 11
        }
      ]
    },
    {
      "cell_type": "code",
      "source": [
        "df.describe()"
      ],
      "metadata": {
        "colab": {
          "base_uri": "https://localhost:8080/",
          "height": 300
        },
        "id": "wPEI5R547OAY",
        "outputId": "442d21f0-a9d7-4a3c-87e3-25cb1a60e626"
      },
      "execution_count": 12,
      "outputs": [
        {
          "output_type": "execute_result",
          "data": {
            "text/plain": [
              "              Age   RestingBP  Cholesterol   FastingBS       MaxHR  \\\n",
              "count  918.000000  918.000000   918.000000  918.000000  918.000000   \n",
              "mean    53.510893  132.396514   198.799564    0.233115  136.809368   \n",
              "std      9.432617   18.514154   109.384145    0.423046   25.460334   \n",
              "min     28.000000    0.000000     0.000000    0.000000   60.000000   \n",
              "25%     47.000000  120.000000   173.250000    0.000000  120.000000   \n",
              "50%     54.000000  130.000000   223.000000    0.000000  138.000000   \n",
              "75%     60.000000  140.000000   267.000000    0.000000  156.000000   \n",
              "max     77.000000  200.000000   603.000000    1.000000  202.000000   \n",
              "\n",
              "          Oldpeak  HeartDisease  \n",
              "count  918.000000    918.000000  \n",
              "mean     0.887364      0.553377  \n",
              "std      1.066570      0.497414  \n",
              "min     -2.600000      0.000000  \n",
              "25%      0.000000      0.000000  \n",
              "50%      0.600000      1.000000  \n",
              "75%      1.500000      1.000000  \n",
              "max      6.200000      1.000000  "
            ],
            "text/html": [
              "\n",
              "  <div id=\"df-c3925704-f089-490b-b6d6-d1db1b289f00\">\n",
              "    <div class=\"colab-df-container\">\n",
              "      <div>\n",
              "<style scoped>\n",
              "    .dataframe tbody tr th:only-of-type {\n",
              "        vertical-align: middle;\n",
              "    }\n",
              "\n",
              "    .dataframe tbody tr th {\n",
              "        vertical-align: top;\n",
              "    }\n",
              "\n",
              "    .dataframe thead th {\n",
              "        text-align: right;\n",
              "    }\n",
              "</style>\n",
              "<table border=\"1\" class=\"dataframe\">\n",
              "  <thead>\n",
              "    <tr style=\"text-align: right;\">\n",
              "      <th></th>\n",
              "      <th>Age</th>\n",
              "      <th>RestingBP</th>\n",
              "      <th>Cholesterol</th>\n",
              "      <th>FastingBS</th>\n",
              "      <th>MaxHR</th>\n",
              "      <th>Oldpeak</th>\n",
              "      <th>HeartDisease</th>\n",
              "    </tr>\n",
              "  </thead>\n",
              "  <tbody>\n",
              "    <tr>\n",
              "      <th>count</th>\n",
              "      <td>918.000000</td>\n",
              "      <td>918.000000</td>\n",
              "      <td>918.000000</td>\n",
              "      <td>918.000000</td>\n",
              "      <td>918.000000</td>\n",
              "      <td>918.000000</td>\n",
              "      <td>918.000000</td>\n",
              "    </tr>\n",
              "    <tr>\n",
              "      <th>mean</th>\n",
              "      <td>53.510893</td>\n",
              "      <td>132.396514</td>\n",
              "      <td>198.799564</td>\n",
              "      <td>0.233115</td>\n",
              "      <td>136.809368</td>\n",
              "      <td>0.887364</td>\n",
              "      <td>0.553377</td>\n",
              "    </tr>\n",
              "    <tr>\n",
              "      <th>std</th>\n",
              "      <td>9.432617</td>\n",
              "      <td>18.514154</td>\n",
              "      <td>109.384145</td>\n",
              "      <td>0.423046</td>\n",
              "      <td>25.460334</td>\n",
              "      <td>1.066570</td>\n",
              "      <td>0.497414</td>\n",
              "    </tr>\n",
              "    <tr>\n",
              "      <th>min</th>\n",
              "      <td>28.000000</td>\n",
              "      <td>0.000000</td>\n",
              "      <td>0.000000</td>\n",
              "      <td>0.000000</td>\n",
              "      <td>60.000000</td>\n",
              "      <td>-2.600000</td>\n",
              "      <td>0.000000</td>\n",
              "    </tr>\n",
              "    <tr>\n",
              "      <th>25%</th>\n",
              "      <td>47.000000</td>\n",
              "      <td>120.000000</td>\n",
              "      <td>173.250000</td>\n",
              "      <td>0.000000</td>\n",
              "      <td>120.000000</td>\n",
              "      <td>0.000000</td>\n",
              "      <td>0.000000</td>\n",
              "    </tr>\n",
              "    <tr>\n",
              "      <th>50%</th>\n",
              "      <td>54.000000</td>\n",
              "      <td>130.000000</td>\n",
              "      <td>223.000000</td>\n",
              "      <td>0.000000</td>\n",
              "      <td>138.000000</td>\n",
              "      <td>0.600000</td>\n",
              "      <td>1.000000</td>\n",
              "    </tr>\n",
              "    <tr>\n",
              "      <th>75%</th>\n",
              "      <td>60.000000</td>\n",
              "      <td>140.000000</td>\n",
              "      <td>267.000000</td>\n",
              "      <td>0.000000</td>\n",
              "      <td>156.000000</td>\n",
              "      <td>1.500000</td>\n",
              "      <td>1.000000</td>\n",
              "    </tr>\n",
              "    <tr>\n",
              "      <th>max</th>\n",
              "      <td>77.000000</td>\n",
              "      <td>200.000000</td>\n",
              "      <td>603.000000</td>\n",
              "      <td>1.000000</td>\n",
              "      <td>202.000000</td>\n",
              "      <td>6.200000</td>\n",
              "      <td>1.000000</td>\n",
              "    </tr>\n",
              "  </tbody>\n",
              "</table>\n",
              "</div>\n",
              "      <button class=\"colab-df-convert\" onclick=\"convertToInteractive('df-c3925704-f089-490b-b6d6-d1db1b289f00')\"\n",
              "              title=\"Convert this dataframe to an interactive table.\"\n",
              "              style=\"display:none;\">\n",
              "        \n",
              "  <svg xmlns=\"http://www.w3.org/2000/svg\" height=\"24px\"viewBox=\"0 0 24 24\"\n",
              "       width=\"24px\">\n",
              "    <path d=\"M0 0h24v24H0V0z\" fill=\"none\"/>\n",
              "    <path d=\"M18.56 5.44l.94 2.06.94-2.06 2.06-.94-2.06-.94-.94-2.06-.94 2.06-2.06.94zm-11 1L8.5 8.5l.94-2.06 2.06-.94-2.06-.94L8.5 2.5l-.94 2.06-2.06.94zm10 10l.94 2.06.94-2.06 2.06-.94-2.06-.94-.94-2.06-.94 2.06-2.06.94z\"/><path d=\"M17.41 7.96l-1.37-1.37c-.4-.4-.92-.59-1.43-.59-.52 0-1.04.2-1.43.59L10.3 9.45l-7.72 7.72c-.78.78-.78 2.05 0 2.83L4 21.41c.39.39.9.59 1.41.59.51 0 1.02-.2 1.41-.59l7.78-7.78 2.81-2.81c.8-.78.8-2.07 0-2.86zM5.41 20L4 18.59l7.72-7.72 1.47 1.35L5.41 20z\"/>\n",
              "  </svg>\n",
              "      </button>\n",
              "      \n",
              "  <style>\n",
              "    .colab-df-container {\n",
              "      display:flex;\n",
              "      flex-wrap:wrap;\n",
              "      gap: 12px;\n",
              "    }\n",
              "\n",
              "    .colab-df-convert {\n",
              "      background-color: #E8F0FE;\n",
              "      border: none;\n",
              "      border-radius: 50%;\n",
              "      cursor: pointer;\n",
              "      display: none;\n",
              "      fill: #1967D2;\n",
              "      height: 32px;\n",
              "      padding: 0 0 0 0;\n",
              "      width: 32px;\n",
              "    }\n",
              "\n",
              "    .colab-df-convert:hover {\n",
              "      background-color: #E2EBFA;\n",
              "      box-shadow: 0px 1px 2px rgba(60, 64, 67, 0.3), 0px 1px 3px 1px rgba(60, 64, 67, 0.15);\n",
              "      fill: #174EA6;\n",
              "    }\n",
              "\n",
              "    [theme=dark] .colab-df-convert {\n",
              "      background-color: #3B4455;\n",
              "      fill: #D2E3FC;\n",
              "    }\n",
              "\n",
              "    [theme=dark] .colab-df-convert:hover {\n",
              "      background-color: #434B5C;\n",
              "      box-shadow: 0px 1px 3px 1px rgba(0, 0, 0, 0.15);\n",
              "      filter: drop-shadow(0px 1px 2px rgba(0, 0, 0, 0.3));\n",
              "      fill: #FFFFFF;\n",
              "    }\n",
              "  </style>\n",
              "\n",
              "      <script>\n",
              "        const buttonEl =\n",
              "          document.querySelector('#df-c3925704-f089-490b-b6d6-d1db1b289f00 button.colab-df-convert');\n",
              "        buttonEl.style.display =\n",
              "          google.colab.kernel.accessAllowed ? 'block' : 'none';\n",
              "\n",
              "        async function convertToInteractive(key) {\n",
              "          const element = document.querySelector('#df-c3925704-f089-490b-b6d6-d1db1b289f00');\n",
              "          const dataTable =\n",
              "            await google.colab.kernel.invokeFunction('convertToInteractive',\n",
              "                                                     [key], {});\n",
              "          if (!dataTable) return;\n",
              "\n",
              "          const docLinkHtml = 'Like what you see? Visit the ' +\n",
              "            '<a target=\"_blank\" href=https://colab.research.google.com/notebooks/data_table.ipynb>data table notebook</a>'\n",
              "            + ' to learn more about interactive tables.';\n",
              "          element.innerHTML = '';\n",
              "          dataTable['output_type'] = 'display_data';\n",
              "          await google.colab.output.renderOutput(dataTable, element);\n",
              "          const docLink = document.createElement('div');\n",
              "          docLink.innerHTML = docLinkHtml;\n",
              "          element.appendChild(docLink);\n",
              "        }\n",
              "      </script>\n",
              "    </div>\n",
              "  </div>\n",
              "  "
            ]
          },
          "metadata": {},
          "execution_count": 12
        }
      ]
    },
    {
      "cell_type": "markdown",
      "source": [
        "#2. Подготовьте датасет к обучению моделей."
      ],
      "metadata": {
        "id": "aeVHsSkp1tW7"
      }
    },
    {
      "cell_type": "code",
      "source": [
        "df.info() # пропусков типа nan нет"
      ],
      "metadata": {
        "colab": {
          "base_uri": "https://localhost:8080/"
        },
        "id": "pqgtSczS6LGl",
        "outputId": "23a72dd1-29c6-4f96-b86d-73d83c5bca68"
      },
      "execution_count": 13,
      "outputs": [
        {
          "output_type": "stream",
          "name": "stdout",
          "text": [
            "<class 'pandas.core.frame.DataFrame'>\n",
            "RangeIndex: 918 entries, 0 to 917\n",
            "Data columns (total 12 columns):\n",
            " #   Column          Non-Null Count  Dtype  \n",
            "---  ------          --------------  -----  \n",
            " 0   Age             918 non-null    int64  \n",
            " 1   Sex             918 non-null    object \n",
            " 2   ChestPainType   918 non-null    object \n",
            " 3   RestingBP       918 non-null    int64  \n",
            " 4   Cholesterol     918 non-null    int64  \n",
            " 5   FastingBS       918 non-null    int64  \n",
            " 6   RestingECG      918 non-null    object \n",
            " 7   MaxHR           918 non-null    int64  \n",
            " 8   ExerciseAngina  918 non-null    object \n",
            " 9   Oldpeak         918 non-null    float64\n",
            " 10  ST_Slope        918 non-null    object \n",
            " 11  HeartDisease    918 non-null    int64  \n",
            "dtypes: float64(1), int64(6), object(5)\n",
            "memory usage: 86.2+ KB\n"
          ]
        }
      ]
    },
    {
      "cell_type": "code",
      "source": [
        "# проверим, нет ли пропусков, обозначенных \"?\" \n",
        "flag=True\n",
        "for column in df.columns:\n",
        "  if('?')  in list(df[column].value_counts()):\n",
        "    print(column)\n",
        "    flag = False\n",
        "if flag:\n",
        "    print('пропусков \"?\" нет')"
      ],
      "metadata": {
        "colab": {
          "base_uri": "https://localhost:8080/"
        },
        "id": "kjhxFdja6Sat",
        "outputId": "67bbaf35-9a25-4df0-ff6d-663a48f0d915"
      },
      "execution_count": 14,
      "outputs": [
        {
          "output_type": "stream",
          "name": "stdout",
          "text": [
            "пропусков \"?\" нет\n"
          ]
        }
      ]
    },
    {
      "cell_type": "markdown",
      "source": [
        "## b) *Постройте 1-2 графика на выбор"
      ],
      "metadata": {
        "id": "HCXH5V2m2BDa"
      }
    },
    {
      "cell_type": "code",
      "source": [
        "# Посмотрим на соотношение меток классов в HeartDisease \n",
        "f, ax = plt.subplots(nrows=1, ncols=5, figsize=(22,3))\n",
        "\n",
        "_ = sns.countplot(x='HeartDisease', data=df, ax=ax[0])\n",
        "ax[0].set_title('К-во здоровых/больных')\n",
        "_ = sns.barplot(x='Sex', y='HeartDisease', data=df, ax=ax[1])\n",
        "ax[1].set_title('Шансы заболеть по гендеру')\n",
        "_ = sns.barplot(x='ExerciseAngina', y='HeartDisease', data=df, ax=ax[2])\n",
        "\n",
        "ax[2].set_title('Шансы заболеть по ExerciseAngina')\n",
        "_ = sns.barplot(x='ST_Slope',y='HeartDisease',data=df, ax=ax[3])\n",
        "ax[3].set_title('Шансы заболеть по ST_Slope')\n",
        "_ = sns.barplot(x='RestingECG',y='HeartDisease',data=df, ax=ax[4])\n",
        "ax[4].set_title('Шансы заболеть по RestingECG')\n",
        "\n",
        "plt.show()\n",
        "plt.close()"
      ],
      "metadata": {
        "colab": {
          "base_uri": "https://localhost:8080/",
          "height": 333
        },
        "id": "vZhPJfBQ2TL3",
        "outputId": "38cec434-da65-4bc6-dc5d-86d1744b4598"
      },
      "execution_count": 15,
      "outputs": [
        {
          "output_type": "display_data",
          "data": {
            "text/plain": [
              "<Figure size 2200x300 with 5 Axes>"
            ],
            "image/png": "[encoded data removed]"
          },
          "metadata": {}
        }
      ]
    },
    {
      "cell_type": "markdown",
      "source": [
        "## a)Категориальные переменные переведите в цифровые значения."
      ],
      "metadata": {
        "id": "NgtpByy415rG"
      }
    },
    {
      "cell_type": "code",
      "source": [
        "# Категориальные features - определяем по типу object. Вместе с target их 9\n",
        "cat_features = df.select_dtypes(\"object\").columns.tolist()\n",
        "print(*cat_features, sep=\", \")"
      ],
      "metadata": {
        "colab": {
          "base_uri": "https://localhost:8080/"
        },
        "id": "5gJlKUJy2AhR",
        "outputId": "5e5a99ac-ee84-4fdd-8553-d54e38606f8d"
      },
      "execution_count": 32,
      "outputs": [
        {
          "output_type": "stream",
          "name": "stdout",
          "text": [
            "Sex, ChestPainType, RestingECG, ExerciseAngina, ST_Slope\n"
          ]
        }
      ]
    },
    {
      "cell_type": "code",
      "source": [
        "num_features = df.select_dtypes(['int', 'float']).columns.tolist()\n",
        "print(*num_features, sep=\", \")\n"
      ],
      "metadata": {
        "colab": {
          "base_uri": "https://localhost:8080/"
        },
        "id": "AaF6gTBVNkGD",
        "outputId": "b2ca61ca-3ab8-4408-9bf6-368e05f817f5"
      },
      "execution_count": 33,
      "outputs": [
        {
          "output_type": "stream",
          "name": "stdout",
          "text": [
            "Age, RestingBP, Cholesterol, FastingBS, MaxHR, Oldpeak, HeartDisease\n"
          ]
        }
      ]
    },
    {
      "cell_type": "markdown",
      "source": [
        "#3. Разделите выборку на обучающее и тестовое подмножество. 80% данных оставить на обучающее множество, 20% на тестовое."
      ],
      "metadata": {
        "id": "BYy5KJ6C2TvK"
      }
    },
    {
      "cell_type": "markdown",
      "source": [
        "#4. Обучите дерево решений на обучающем множестве. "
      ],
      "metadata": {
        "id": "nMWI9F8W2bPr"
      }
    },
    {
      "cell_type": "markdown",
      "source": [
        "#5. Для тестового множества сделайте предсказание целевой переменной. Выведите метрики для каждой построенной модели с помощью metrics.classification_report."
      ],
      "metadata": {
        "id": "bvH9xSOj2oUB"
      }
    },
    {
      "cell_type": "code",
      "source": [
        "# Настройка параметров оценивания алгоритма\n",
        "random_seed=0\n",
        "num_folds = 9\n",
        "n_iter = 1000\n",
        "n_estimators = 100\n",
        "scoring = 'r2'\n",
        "X = df.drop(columns=['HeartDisease'])\n",
        "y=df['HeartDisease']\n",
        "target_names = ['healthy', 'sick']"
      ],
      "metadata": {
        "id": "PWTH6gtILY0V"
      },
      "execution_count": 84,
      "outputs": []
    },
    {
      "cell_type": "code",
      "source": [
        "# Формирование списка алгоритмов\n",
        "models = []\n",
        "models.append(('DTC', DecisionTreeClassifier()))\n",
        "models.append(('RFC', RandomForestClassifier()))\n",
        "models.append(('BGC', BaggingClassifier()))\n",
        "models.append(('SCC', StackingClassifier(\n",
        "     [\n",
        "                                      ('DTS', DecisionTreeClassifier()),\n",
        "                                      ('RFC',  RandomForestClassifier()),\n",
        "                                     ],  \n",
        "                                      LinearSVC(C=1, random_state=random_seed) \n",
        ")))\n",
        "models.append(('GBC', GradientBoostingClassifier()))\n",
        "models.append(('ABC', AdaBoostClassifier()))\n",
        "models.append(('LGBMC', LGBMClassifier()))\n",
        "models.append(('XGBC', XGBClassifier()))\n",
        "models.append(('CBC', CatBoostClassifier()))\n"
      ],
      "metadata": {
        "id": "qiDcMPKOCeUH"
      },
      "execution_count": 85,
      "outputs": []
    },
    {
      "cell_type": "code",
      "source": [
        "# Пайплайн трансформации числовых и категориальных признаков\n",
        "num_features =['Age', 'RestingBP', 'Cholesterol', 'FastingBS', 'MaxHR', 'Oldpeak']\n",
        "numeric_transformer = Pipeline(\n",
        "    steps=[ (\"scaler\", Normalizer())]\n",
        ")\n",
        "\n",
        "\n",
        "categorical_transformer = Pipeline(\n",
        "    steps=[\n",
        "        (\"encoder\", OneHotEncoder(handle_unknown=\"ignore\")),\n",
        "        (\"selector\", SelectPercentile(chi2, percentile=50)),\n",
        "    ]\n",
        ")\n",
        "preprocessor = ColumnTransformer(\n",
        "    transformers=[\n",
        "        (\"num\", numeric_transformer, num_features),\n",
        "        (\"cat\", categorical_transformer, cat_features),\n",
        "    ]\n",
        ")  "
      ],
      "metadata": {
        "id": "hZInuNIGVToo"
      },
      "execution_count": 86,
      "outputs": []
    },
    {
      "cell_type": "code",
      "source": [
        "##############################################################################\n",
        "# Блиц-проверка алгоритмов на нормализованных исходных данных\n",
        "# (функция Normalizer)\n",
        "pipelines = []\n",
        "pipelines.append(('SS_DTS', Pipeline([(\"preprocessor\", preprocessor),\n",
        "                                    ('DTS', DecisionTreeClassifier())])))\n",
        "\n",
        "pipelines.append(('SS_RFC', Pipeline([(\"preprocessor\", preprocessor),\n",
        "                                     ('RFC', RandomForestClassifier())])))\n",
        "\n",
        "pipelines.append(('SS_BGS', Pipeline([(\"preprocessor\", preprocessor),\n",
        "                                     ('BGC', BaggingClassifier())])))\n",
        "\n",
        "pipelines.append(('SS_GBC', Pipeline([(\"preprocessor\", preprocessor),\n",
        "                                      ('GBC', GradientBoostingClassifier())])))\n",
        "\n",
        "pipelines.append(('SS_ABC', Pipeline([(\"preprocessor\", preprocessor),\n",
        "                                      ('ABC', AdaBoostClassifier())])))\n",
        "\n",
        "pipelines.append(('SS_LGBMC', Pipeline([(\"preprocessor\", preprocessor),\n",
        "                                      ('LGBMC', LGBMClassifier())])))\n",
        "\n",
        "pipelines.append(('SS_XGBC', Pipeline([(\"preprocessor\", preprocessor),\n",
        "                                    ('XGBC', XGBClassifier())])))\n",
        "\n",
        "pipelines.append(('SS_SCC', Pipeline([(\"preprocessor\", preprocessor),\n",
        "                                     ('SCC', StackingClassifier([\n",
        "                                      ('DTS', DecisionTreeClassifier()),\n",
        "                                      ('RFC',  RandomForestClassifier())],  \n",
        "                                      LinearSVC(C=1, random_state=random_seed)))])))\n",
        "\n",
        "pipelines.append(('SS_CBC', Pipeline([(\"preprocessor\", preprocessor),\n",
        "                                      ('CBC', CatBoostClassifier(\n",
        "                                         verbose=False\n",
        "                                      ))])))\n"
      ],
      "metadata": {
        "id": "NTTYdbT-SHkP"
      },
      "execution_count": 87,
      "outputs": []
    },
    {
      "cell_type": "code",
      "source": [
        "# Оценивание эффективности выполнения каждого алгоритма\n",
        "scores_N = []\n",
        "names_N = []\n",
        "results_N = []\n",
        "predictions_N = []\n",
        "msg_N = []\n",
        "results = {}\n",
        "\n",
        "for name, model in pipelines:\n",
        "    kfold = KFold(n_splits=num_folds, random_state=random_seed, shuffle=True)\n",
        "    names_N.append(name)\n",
        "    # model\n",
        "    X = df.drop(columns=['HeartDisease'])\n",
        "    y=df['HeartDisease']\n",
        "    X_train, X_test, y_train, y_test = train_test_split(X, y, test_size=0.2, random_state=random_seed)\n",
        "    m_fit = model.fit(X_train, y_train)\n",
        "    m_predict = model.predict(X_test)\n",
        "    predictions_N.append(m_predict)\n",
        "    m_score = model.score(X_test, y_test)\n",
        "    scores_N.append(m_score)\n",
        "    cv_results = cross_val_score(model, X_train, y_train, cv=kfold, scoring=\n",
        "                                 scoring)\n",
        "    results_N.append(cv_results)\n",
        "    msg = \"%s: train = %.3f (%.3f) / test = %.3f\" % (name, cv_results.mean(),\n",
        "                           cv_results.std(), m_score)\n",
        "    msg_N.append(msg)\n",
        "    print(f\"Classification report {name}\\n\")\n",
        "    print('====================================================================')\n",
        "\n",
        "    print(f\"{classification_report(y_test, m_predict, target_names=target_names)}\\n\")\n",
        "    # print(msg)\n",
        "    # a=classification_report(y_test, m_predict, target_names=target_names, output_dict=True )['weighted avg']\n",
        "    a=classification_report(y_test, m_predict, target_names=target_names, output_dict=True )['sick']\n",
        "    results[f'{name}']=a"
      ],
      "metadata": {
        "colab": {
          "base_uri": "https://localhost:8080/"
        },
        "id": "iSFmlE7ITbB2",
        "outputId": "feb5aca6-9c1c-4e27-bdef-5fcdc743af59"
      },
      "execution_count": 88,
      "outputs": [
        {
          "output_type": "stream",
          "name": "stdout",
          "text": [
            "Classification report SS_DTS\n",
            "\n",
            "====================================================================\n",
            "              precision    recall  f1-score   support\n",
            "\n",
            "     healthy       0.77      0.78      0.77        77\n",
            "        sick       0.84      0.83      0.84       107\n",
            "\n",
            "    accuracy                           0.81       184\n",
            "   macro avg       0.80      0.81      0.80       184\n",
            "weighted avg       0.81      0.81      0.81       184\n",
            "\n",
            "\n",
            "Classification report SS_RFC\n",
            "\n",
            "====================================================================\n",
            "              precision    recall  f1-score   support\n",
            "\n",
            "     healthy       0.85      0.78      0.81        77\n",
            "        sick       0.85      0.90      0.87       107\n",
            "\n",
            "    accuracy                           0.85       184\n",
            "   macro avg       0.85      0.84      0.84       184\n",
            "weighted avg       0.85      0.85      0.85       184\n",
            "\n",
            "\n",
            "Classification report SS_BGS\n",
            "\n",
            "====================================================================\n",
            "              precision    recall  f1-score   support\n",
            "\n",
            "     healthy       0.81      0.81      0.81        77\n",
            "        sick       0.86      0.86      0.86       107\n",
            "\n",
            "    accuracy                           0.84       184\n",
            "   macro avg       0.83      0.83      0.83       184\n",
            "weighted avg       0.84      0.84      0.84       184\n",
            "\n",
            "\n",
            "Classification report SS_GBC\n",
            "\n",
            "====================================================================\n",
            "              precision    recall  f1-score   support\n",
            "\n",
            "     healthy       0.82      0.82      0.82        77\n",
            "        sick       0.87      0.87      0.87       107\n",
            "\n",
            "    accuracy                           0.85       184\n",
            "   macro avg       0.84      0.84      0.84       184\n",
            "weighted avg       0.85      0.85      0.85       184\n",
            "\n",
            "\n",
            "Classification report SS_ABC\n",
            "\n",
            "====================================================================\n",
            "              precision    recall  f1-score   support\n",
            "\n",
            "     healthy       0.80      0.77      0.78        77\n",
            "        sick       0.84      0.86      0.85       107\n",
            "\n",
            "    accuracy                           0.82       184\n",
            "   macro avg       0.82      0.81      0.81       184\n",
            "weighted avg       0.82      0.82      0.82       184\n",
            "\n",
            "\n",
            "Classification report SS_LGBMC\n",
            "\n",
            "====================================================================\n",
            "              precision    recall  f1-score   support\n",
            "\n",
            "     healthy       0.80      0.84      0.82        77\n",
            "        sick       0.88      0.85      0.87       107\n",
            "\n",
            "    accuracy                           0.85       184\n",
            "   macro avg       0.84      0.85      0.84       184\n",
            "weighted avg       0.85      0.85      0.85       184\n",
            "\n",
            "\n",
            "Classification report SS_XGBC\n",
            "\n",
            "====================================================================\n",
            "              precision    recall  f1-score   support\n",
            "\n",
            "     healthy       0.81      0.83      0.82        77\n",
            "        sick       0.88      0.86      0.87       107\n",
            "\n",
            "    accuracy                           0.85       184\n",
            "   macro avg       0.84      0.85      0.84       184\n",
            "weighted avg       0.85      0.85      0.85       184\n",
            "\n",
            "\n",
            "Classification report SS_SCC\n",
            "\n",
            "====================================================================\n",
            "              precision    recall  f1-score   support\n",
            "\n",
            "     healthy       0.84      0.79      0.81        77\n",
            "        sick       0.86      0.89      0.87       107\n",
            "\n",
            "    accuracy                           0.85       184\n",
            "   macro avg       0.85      0.84      0.84       184\n",
            "weighted avg       0.85      0.85      0.85       184\n",
            "\n",
            "\n",
            "Classification report SS_CBC\n",
            "\n",
            "====================================================================\n",
            "              precision    recall  f1-score   support\n",
            "\n",
            "     healthy       0.81      0.82      0.81        77\n",
            "        sick       0.87      0.86      0.86       107\n",
            "\n",
            "    accuracy                           0.84       184\n",
            "   macro avg       0.84      0.84      0.84       184\n",
            "weighted avg       0.84      0.84      0.84       184\n",
            "\n",
            "\n"
          ]
        }
      ]
    },
    {
      "cell_type": "markdown",
      "source": [
        "#9. Сформулируйте выводы по проделанной работе."
      ],
      "metadata": {
        "id": "ZluxoJ-W3DSF"
      }
    },
    {
      "cell_type": "markdown",
      "source": [
        "a) Сравните метрики построенных моделей."
      ],
      "metadata": {
        "id": "PneLzWIW3MIs"
      }
    },
    {
      "cell_type": "code",
      "source": [
        "res=pd.DataFrame.from_dict(results)\n",
        "res.drop('support', axis=0, inplace=True)\n",
        "# res.head().style.format('{:.4f}', na_rep='-').highlight_max(color='yellowgreen') .highlight_min(color='coral')\n",
        "res.head().style.format('{:.4f}', na_rep='-').background_gradient(cmap='Blues', axis=1)"
      ],
      "metadata": {
        "colab": {
          "base_uri": "https://localhost:8080/",
          "height": 143
        },
        "id": "GGbqmuP15gZi",
        "outputId": "8126098b-af02-4213-c684-b74f3a7003b3"
      },
      "execution_count": 92,
      "outputs": [
        {
          "output_type": "execute_result",
          "data": {
            "text/plain": [
              "<pandas.io.formats.style.Styler at 0x7f82126074f0>"
            ],
            "text/html": [
              "<style type=\"text/css\">\n",
              "#T_5abe5_row0_col0 {\n",
              "  background-color: #eaf2fb;\n",
              "  color: #000000;\n",
              "}\n",
              "#T_5abe5_row0_col1 {\n",
              "  background-color: #bdd7ec;\n",
              "  color: #000000;\n",
              "}\n",
              "#T_5abe5_row0_col2 {\n",
              "  background-color: #6caed6;\n",
              "  color: #f1f1f1;\n",
              "}\n",
              "#T_5abe5_row0_col3 {\n",
              "  background-color: #2f7fbc;\n",
              "  color: #f1f1f1;\n",
              "}\n",
              "#T_5abe5_row0_col4, #T_5abe5_row1_col0, #T_5abe5_row2_col0 {\n",
              "  background-color: #f7fbff;\n",
              "  color: #000000;\n",
              "}\n",
              "#T_5abe5_row0_col5, #T_5abe5_row1_col1, #T_5abe5_row2_col1 {\n",
              "  background-color: #08306b;\n",
              "  color: #f1f1f1;\n",
              "}\n",
              "#T_5abe5_row0_col6 {\n",
              "  background-color: #0e58a2;\n",
              "  color: #f1f1f1;\n",
              "}\n",
              "#T_5abe5_row0_col7 {\n",
              "  background-color: #8fc2de;\n",
              "  color: #000000;\n",
              "}\n",
              "#T_5abe5_row0_col8 {\n",
              "  background-color: #3686c0;\n",
              "  color: #f1f1f1;\n",
              "}\n",
              "#T_5abe5_row1_col2, #T_5abe5_row1_col4, #T_5abe5_row1_col6, #T_5abe5_row1_col8 {\n",
              "  background-color: #89bedc;\n",
              "  color: #000000;\n",
              "}\n",
              "#T_5abe5_row1_col3 {\n",
              "  background-color: #539ecd;\n",
              "  color: #f1f1f1;\n",
              "}\n",
              "#T_5abe5_row1_col5 {\n",
              "  background-color: #bad6eb;\n",
              "  color: #000000;\n",
              "}\n",
              "#T_5abe5_row1_col7 {\n",
              "  background-color: #0b559f;\n",
              "  color: #f1f1f1;\n",
              "}\n",
              "#T_5abe5_row2_col2 {\n",
              "  background-color: #3b8bc2;\n",
              "  color: #f1f1f1;\n",
              "}\n",
              "#T_5abe5_row2_col3 {\n",
              "  background-color: #084990;\n",
              "  color: #f1f1f1;\n",
              "}\n",
              "#T_5abe5_row2_col4 {\n",
              "  background-color: #add0e6;\n",
              "  color: #000000;\n",
              "}\n",
              "#T_5abe5_row2_col5 {\n",
              "  background-color: #0f5aa3;\n",
              "  color: #f1f1f1;\n",
              "}\n",
              "#T_5abe5_row2_col6 {\n",
              "  background-color: #09529d;\n",
              "  color: #f1f1f1;\n",
              "}\n",
              "#T_5abe5_row2_col7 {\n",
              "  background-color: #083877;\n",
              "  color: #f1f1f1;\n",
              "}\n",
              "#T_5abe5_row2_col8 {\n",
              "  background-color: #1f6eb3;\n",
              "  color: #f1f1f1;\n",
              "}\n",
              "</style>\n",
              "<table id=\"T_5abe5\" class=\"dataframe\">\n",
              "  <thead>\n",
              "    <tr>\n",
              "      <th class=\"blank level0\" >&nbsp;</th>\n",
              "      <th id=\"T_5abe5_level0_col0\" class=\"col_heading level0 col0\" >SS_DTS</th>\n",
              "      <th id=\"T_5abe5_level0_col1\" class=\"col_heading level0 col1\" >SS_RFC</th>\n",
              "      <th id=\"T_5abe5_level0_col2\" class=\"col_heading level0 col2\" >SS_BGS</th>\n",
              "      <th id=\"T_5abe5_level0_col3\" class=\"col_heading level0 col3\" >SS_GBC</th>\n",
              "      <th id=\"T_5abe5_level0_col4\" class=\"col_heading level0 col4\" >SS_ABC</th>\n",
              "      <th id=\"T_5abe5_level0_col5\" class=\"col_heading level0 col5\" >SS_LGBMC</th>\n",
              "      <th id=\"T_5abe5_level0_col6\" class=\"col_heading level0 col6\" >SS_XGBC</th>\n",
              "      <th id=\"T_5abe5_level0_col7\" class=\"col_heading level0 col7\" >SS_SCC</th>\n",
              "      <th id=\"T_5abe5_level0_col8\" class=\"col_heading level0 col8\" >SS_CBC</th>\n",
              "    </tr>\n",
              "  </thead>\n",
              "  <tbody>\n",
              "    <tr>\n",
              "      <th id=\"T_5abe5_level0_row0\" class=\"row_heading level0 row0\" >precision</th>\n",
              "      <td id=\"T_5abe5_row0_col0\" class=\"data row0 col0\" >0.8396</td>\n",
              "      <td id=\"T_5abe5_row0_col1\" class=\"data row0 col1\" >0.8496</td>\n",
              "      <td id=\"T_5abe5_row0_col2\" class=\"data row0 col2\" >0.8598</td>\n",
              "      <td id=\"T_5abe5_row0_col3\" class=\"data row0 col3\" >0.8692</td>\n",
              "      <td id=\"T_5abe5_row0_col4\" class=\"data row0 col4\" >0.8364</td>\n",
              "      <td id=\"T_5abe5_row0_col5\" class=\"data row0 col5\" >0.8835</td>\n",
              "      <td id=\"T_5abe5_row0_col6\" class=\"data row0 col6\" >0.8762</td>\n",
              "      <td id=\"T_5abe5_row0_col7\" class=\"data row0 col7\" >0.8559</td>\n",
              "      <td id=\"T_5abe5_row0_col8\" class=\"data row0 col8\" >0.8679</td>\n",
              "    </tr>\n",
              "    <tr>\n",
              "      <th id=\"T_5abe5_level0_row1\" class=\"row_heading level0 row1\" >recall</th>\n",
              "      <td id=\"T_5abe5_row1_col0\" class=\"data row1 col0\" >0.8318</td>\n",
              "      <td id=\"T_5abe5_row1_col1\" class=\"data row1 col1\" >0.8972</td>\n",
              "      <td id=\"T_5abe5_row1_col2\" class=\"data row1 col2\" >0.8598</td>\n",
              "      <td id=\"T_5abe5_row1_col3\" class=\"data row1 col3\" >0.8692</td>\n",
              "      <td id=\"T_5abe5_row1_col4\" class=\"data row1 col4\" >0.8598</td>\n",
              "      <td id=\"T_5abe5_row1_col5\" class=\"data row1 col5\" >0.8505</td>\n",
              "      <td id=\"T_5abe5_row1_col6\" class=\"data row1 col6\" >0.8598</td>\n",
              "      <td id=\"T_5abe5_row1_col7\" class=\"data row1 col7\" >0.8879</td>\n",
              "      <td id=\"T_5abe5_row1_col8\" class=\"data row1 col8\" >0.8598</td>\n",
              "    </tr>\n",
              "    <tr>\n",
              "      <th id=\"T_5abe5_level0_row2\" class=\"row_heading level0 row2\" >f1-score</th>\n",
              "      <td id=\"T_5abe5_row2_col0\" class=\"data row2 col0\" >0.8357</td>\n",
              "      <td id=\"T_5abe5_row2_col1\" class=\"data row2 col1\" >0.8727</td>\n",
              "      <td id=\"T_5abe5_row2_col2\" class=\"data row2 col2\" >0.8598</td>\n",
              "      <td id=\"T_5abe5_row2_col3\" class=\"data row2 col3\" >0.8692</td>\n",
              "      <td id=\"T_5abe5_row2_col4\" class=\"data row2 col4\" >0.8479</td>\n",
              "      <td id=\"T_5abe5_row2_col5\" class=\"data row2 col5\" >0.8667</td>\n",
              "      <td id=\"T_5abe5_row2_col6\" class=\"data row2 col6\" >0.8679</td>\n",
              "      <td id=\"T_5abe5_row2_col7\" class=\"data row2 col7\" >0.8716</td>\n",
              "      <td id=\"T_5abe5_row2_col8\" class=\"data row2 col8\" >0.8638</td>\n",
              "    </tr>\n",
              "  </tbody>\n",
              "</table>\n"
            ]
          },
          "metadata": {},
          "execution_count": 92
        }
      ]
    },
    {
      "cell_type": "markdown",
      "source": [
        "b) Напишите свое мнение, какая модель наилучшая и почему."
      ],
      "metadata": {
        "id": "YGuNcPS13O8I"
      }
    },
    {
      "cell_type": "markdown",
      "source": [
        "ClASSIFICATION_REPORT содержит метрики отдельно для каждого класса. Т.к у нас медицинская задача, то в первую очередь будут важны метрики для класса больных ('sick'), и сравнение моделей будет выполняться по ним\n",
        "Все рассмотренные в работе модели продемонстрировали неплохое качество - более  83%. Чуть ниже, чем у остальных, оказались метрики у DecisionTreeClassifier, что неудивительно, учитывая, что все остальные модели - это разные ансамбли,использующие бэггинг, стекинг и бустинг. \n",
        "Все модели работали в одинаковых условиях, без тонкой настроки по гиперпараметрам, что говорит о том, что на данном датасете их потенциал раскрыт не полностью.\n",
        "\n",
        "Наилучшие результаты по precision показала модель SS_LGBMC (0.8835), по recall -  RandomForestClassifier (0.8972). RandomForestClassifier опережает конкурентов также по f1-score(0.8727), поэтому - это лидер среди нетюнингованных классификаторов на нашем датасете.\n"
      ],
      "metadata": {
        "id": "mdx1lqDv5hOO"
      }
    }
  ]
}