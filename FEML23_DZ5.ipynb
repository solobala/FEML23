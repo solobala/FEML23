{
  "cells": [
    {
      "cell_type": "markdown",
      "metadata": {
        "id": "view-in-github",
        "colab_type": "text"
      },
      "source": [
        "<a href=\"https://colab.research.google.com/github/solobala/FEML23/blob/master/FEML23_DZ5.ipynb\" target=\"_parent\"><img src=\"https://colab.research.google.com/assets/colab-badge.svg\" alt=\"Open In Colab\"/></a>"
      ]
    },
    {
      "cell_type": "markdown",
      "metadata": {
        "id": "-jSx-XGqR1r_"
      },
      "source": [
        "Домашнее задание по теме «Работа с переменными» обновленное"
      ]
    },
    {
      "cell_type": "markdown",
      "metadata": {
        "id": "BRmw-0rLR5lK"
      },
      "source": [
        "Преподаватель: Юлия Пономарева, Егор Шишковец\n",
        "\n",
        "Цель: изучить применение методов разведочного анализа данных (EDA) для улучшения качества работы моделей машинного обучения.\n",
        "\n",
        "Описание задания:\n",
        "В домашнем задании нужно улучшить метрики RMSE, R2 модели линейной регрессии путем работы с данными, а именно проведения разведочного анализа данных. В качестве датасета необходимо загрузить данные о недвижимости Калифорнии из библиотеки sklearn.datasets. Целевая переменная – MedHouseVal. Прочитать информацию о признаках датасета можно, выполнив следующий код – print(fetch_california_housing().DESCR)."
      ]
    },
    {
      "cell_type": "markdown",
      "metadata": {
        "id": "jdgiLQvtSAi0"
      },
      "source": [
        "\n",
        "\n",
        "1.  Получите данные и загрузите их в рабочую среду. (Jupyter Notebook или другую).\n",
        "2.  Проверьте данные на наличие пропусков. Удалите их в случае обнаружения.\n",
        "\n",
        "3.   Разделите выборку на обучающее и тестовое подмножества. 80% данных оставить на обучающее множество, 20% - на тестовое.\n",
        "4.   Постройте модель линейной регрессии. Вычислите метрики RMSE, R2 на обучающем и тестовом множестве.\n",
        "5.  Постройте график распределения целевой переменной. Сделайте вывод. Присутствуют ли в этом признаке выбросы?\n",
        "\n",
        "6.   Посчитайте и выведите корреляционную матрицу. Убедитесь, что ячейки матрицы поделены на цветные категории, в ячейках указано числовое значение корреляции.\n",
        "\n",
        "  *   a. Сделайте выводы\n",
        "  *   b. Удалите признаки на основании полученных значений, выводов.\n",
        "  *   c. Повторите п. 3, п. 4 на измененных данных.\n",
        "\n",
        "7.  Исследуйте оставленные признаки на выбросы.\n",
        "\n",
        "  *   a. Удалите выбросы в случае обнаружения.\n",
        "  *   b. Повторите п. 3, п. 4 на измененных данных.\n",
        "\n",
        "8.  Измените несколько признаков на выбор математически. Например, вычислите логарифм, возведите в квадрат, извлеките квадратный корень.\n",
        "\n",
        "  *   a. Повторите п. 3, п. 4 на измененных данных.\n",
        "\n",
        "9.  Сформулируйте выводы по проделанной работе.\n",
        "\n",
        "  *   a. Кратко опишите какие преобразования были сделаны с данными.\n",
        "  *   b. Сравните метрики всех моделей. Желательно оформление в виде таблицы вида |модель|RMSE|R2|признаки, на которых проводилось обучение с указанием их преобразований|\n",
        "  *   c. Напишите свое мнение, в полной ли мере модели справились с поставленной задачей\n",
        "\n",
        "\n",
        "\n",
        "\n",
        "\n",
        "\n",
        "\n",
        "\n",
        "\n"
      ]
    },
    {
      "cell_type": "markdown",
      "metadata": {
        "id": "v3Ud3Uj52N7_"
      },
      "source": [
        "https://medium.com/@polanitzer/machine-learning-for-california-housing-e979ec5f5971"
      ]
    },
    {
      "cell_type": "markdown",
      "metadata": {
        "id": "tdev6bGiTnfE"
      },
      "source": [
        "#0. Импорт библиотек и вспомогательные функции"
      ]
    },
    {
      "cell_type": "code",
      "execution_count": 1,
      "metadata": {
        "colab": {
          "base_uri": "https://localhost:8080/"
        },
        "id": "k-wQSCoMXaop",
        "outputId": "0ad864a2-9f98-4b4e-8506-88a6483f9442"
      },
      "outputs": [
        {
          "output_type": "stream",
          "name": "stdout",
          "text": [
            "Looking in indexes: https://pypi.org/simple, https://us-python.pkg.dev/colab-wheels/public/simple/\n",
            "Requirement already satisfied: category_encoders in /usr/local/lib/python3.9/dist-packages (2.6.0)\n",
            "Requirement already satisfied: numpy>=1.14.0 in /usr/local/lib/python3.9/dist-packages (from category_encoders) (1.22.4)\n",
            "Requirement already satisfied: scikit-learn>=0.20.0 in /usr/local/lib/python3.9/dist-packages (from category_encoders) (1.2.2)\n",
            "Requirement already satisfied: scipy>=1.0.0 in /usr/local/lib/python3.9/dist-packages (from category_encoders) (1.10.1)\n",
            "Requirement already satisfied: pandas>=1.0.5 in /usr/local/lib/python3.9/dist-packages (from category_encoders) (1.4.4)\n",
            "Requirement already satisfied: statsmodels>=0.9.0 in /usr/local/lib/python3.9/dist-packages (from category_encoders) (0.13.5)\n",
            "Requirement already satisfied: patsy>=0.5.1 in /usr/local/lib/python3.9/dist-packages (from category_encoders) (0.5.3)\n",
            "Requirement already satisfied: pytz>=2020.1 in /usr/local/lib/python3.9/dist-packages (from pandas>=1.0.5->category_encoders) (2022.7.1)\n",
            "Requirement already satisfied: python-dateutil>=2.8.1 in /usr/local/lib/python3.9/dist-packages (from pandas>=1.0.5->category_encoders) (2.8.2)\n",
            "Requirement already satisfied: six in /usr/local/lib/python3.9/dist-packages (from patsy>=0.5.1->category_encoders) (1.16.0)\n",
            "Requirement already satisfied: threadpoolctl>=2.0.0 in /usr/local/lib/python3.9/dist-packages (from scikit-learn>=0.20.0->category_encoders) (3.1.0)\n",
            "Requirement already satisfied: joblib>=1.1.1 in /usr/local/lib/python3.9/dist-packages (from scikit-learn>=0.20.0->category_encoders) (1.1.1)\n",
            "Requirement already satisfied: packaging>=21.3 in /usr/local/lib/python3.9/dist-packages (from statsmodels>=0.9.0->category_encoders) (23.0)\n"
          ]
        }
      ],
      "source": [
        "!pip install category_encoders"
      ]
    },
    {
      "cell_type": "code",
      "execution_count": 2,
      "metadata": {
        "id": "7tdlsq8ER42i"
      },
      "outputs": [],
      "source": [
        "import pandas as pd\n",
        "import numpy as np\n",
        "from scipy.stats import chi2\n",
        "import seaborn as sns\n",
        "from matplotlib import pyplot as plt\n",
        "\n",
        "from sklearn.pipeline import make_pipeline\n",
        "from sklearn.cluster import KMeans\n",
        "# from sklearn.model_selection import RepeatedStratifiedKFold\n",
        "from sklearn.feature_selection import mutual_info_regression\n",
        "\n",
        "\n",
        "from sklearn.metrics import r2_score, mean_squared_error\n",
        " \n",
        "from sklearn.linear_model import LinearRegression\n",
        "from sklearn.model_selection import train_test_split, cross_val_score, cross_val_predict\n",
        "from sklearn.preprocessing import StandardScaler\n",
        "\n",
        "# from sklearn.preprocessing import LabelEncoder\n",
        "from category_encoders.count import CountEncoder"
      ]
    },
    {
      "cell_type": "code",
      "execution_count": 3,
      "metadata": {
        "id": "hOVh5OozRxdW"
      },
      "outputs": [],
      "source": [
        "def get_score(X,y, random_seed=42, model=None):\n",
        "  if model is None:\n",
        "      model = LinearRegression()\n",
        "\n",
        "  X_train, X_test, y_train, y_test = train_test_split(X, y, test_size=0.3, random_state=random_seed) \n",
        "\n",
        "  scaler = StandardScaler()\n",
        "  X_train = scaler.fit_transform(X_train)\n",
        "  X_test = scaler.transform(X_test)\n",
        "  scores = cross_val_score(model, X_train, y_train, cv=5)\n",
        "  predictions = cross_val_predict(model, X_test, y_test, cv=5)\n",
        "  model.fit(X_train, y_train)\n",
        "  predictions=model.predict(X_test)\n",
        "  return r2_score(y_test, predictions), mean_squared_error(y_test, predictions, squared=False), model.coef_, model.intercept_\n",
        "\n",
        "def get_one_hot(X, cols):\n",
        "    for each in cols:\n",
        "        dummies = pd.get_dummies(X[each], prefix=each)\n",
        "        X = pd.concat([X, dummies], axis=1)\n",
        "    return X\n",
        "\n",
        "\n",
        "def get_count(X, cols):\n",
        "    X = X.copy()\n",
        "    \n",
        "    for col in cols:\n",
        "        X[col] = X[col].astype('str')\n",
        "\n",
        "    ce = CountEncoder(handle_unknown=-1)\n",
        "    ce.fit(X[cols])\n",
        "    X[cols] = ce.transform(X[cols])\n",
        "    return X  "
      ]
    },
    {
      "cell_type": "markdown",
      "metadata": {
        "id": "rxy8WHo0TuN9"
      },
      "source": [
        "# 1. Получение данных"
      ]
    },
    {
      "cell_type": "code",
      "execution_count": 4,
      "metadata": {
        "id": "fH0K62GuYzj0"
      },
      "outputs": [],
      "source": [
        "from sklearn.datasets import fetch_california_housing "
      ]
    },
    {
      "cell_type": "code",
      "source": [
        "# california_housing = pd.read_csv('https://raw.githubusercontent.com/ageron/handson-ml/master/datasets/housing/housing.csv')# Используем этот датасет позже для обогащения данных о недвижимости -по долготе и широте получим признак близости к океану\n"
      ],
      "metadata": {
        "id": "VVJB5UPH_YVx"
      },
      "execution_count": 5,
      "outputs": []
    },
    {
      "cell_type": "code",
      "source": [
        "# ocean=california_housing['ocean_proximity']"
      ],
      "metadata": {
        "id": "xg4RrIFGm60Q"
      },
      "execution_count": 6,
      "outputs": []
    },
    {
      "cell_type": "code",
      "execution_count": 7,
      "metadata": {
        "colab": {
          "base_uri": "https://localhost:8080/"
        },
        "id": "jyJZ7t3sYIUj",
        "outputId": "d8e75754-ff03-4742-96ef-493edadd7ee6"
      },
      "outputs": [
        {
          "output_type": "stream",
          "name": "stdout",
          "text": [
            ".. _california_housing_dataset:\n",
            "\n",
            "California Housing dataset\n",
            "--------------------------\n",
            "\n",
            "**Data Set Characteristics:**\n",
            "\n",
            "    :Number of Instances: 20640\n",
            "\n",
            "    :Number of Attributes: 8 numeric, predictive attributes and the target\n",
            "\n",
            "    :Attribute Information:\n",
            "        - MedInc        median income in block group\n",
            "        - HouseAge      median house age in block group\n",
            "        - AveRooms      average number of rooms per household\n",
            "        - AveBedrms     average number of bedrooms per household\n",
            "        - Population    block group population\n",
            "        - AveOccup      average number of household members\n",
            "        - Latitude      block group latitude\n",
            "        - Longitude     block group longitude\n",
            "\n",
            "    :Missing Attribute Values: None\n",
            "\n",
            "This dataset was obtained from the StatLib repository.\n",
            "https://www.dcc.fc.up.pt/~ltorgo/Regression/cal_housing.html\n",
            "\n",
            "The target variable is the median house value for California districts,\n",
            "expressed in hundreds of thousands of dollars ($100,000).\n",
            "\n",
            "This dataset was derived from the 1990 U.S. census, using one row per census\n",
            "block group. A block group is the smallest geographical unit for which the U.S.\n",
            "Census Bureau publishes sample data (a block group typically has a population\n",
            "of 600 to 3,000 people).\n",
            "\n",
            "A household is a group of people residing within a home. Since the average\n",
            "number of rooms and bedrooms in this dataset are provided per household, these\n",
            "columns may take surprisingly large values for block groups with few households\n",
            "and many empty houses, such as vacation resorts.\n",
            "\n",
            "It can be downloaded/loaded using the\n",
            ":func:`sklearn.datasets.fetch_california_housing` function.\n",
            "\n",
            ".. topic:: References\n",
            "\n",
            "    - Pace, R. Kelley and Ronald Barry, Sparse Spatial Autoregressions,\n",
            "      Statistics and Probability Letters, 33 (1997) 291-297\n",
            "\n"
          ]
        }
      ],
      "source": [
        "print(fetch_california_housing().DESCR)"
      ]
    },
    {
      "cell_type": "markdown",
      "source": [
        "Информация об атрибутах:\n",
        "        - средний доход MedInc в блок-группе\n",
        "        - Средний возраст дома HouseAge в блочной группе\n",
        "        - AveRooms среднее количество комнат на домохозяйство\n",
        "        - Среднее количество спален AveBedrms на домохозяйство\n",
        "        - Население блока группы населения\n",
        "        - Среднее количество членов домохозяйства AveOccup\n",
        "        - широта группы блоков широты\n",
        "        - Долгота группы блоков долготы\n",
        "\n",
        "    : Отсутствующие значения атрибутов: нет\n",
        "\n",
        "Этот набор данных был получен из репозитория StatLib.\n",
        "https://www.dcc.fc.up.pt/~ltorgo/Regression/cal_housing.html\n",
        "\n",
        "Целевой переменной является медианная стоимость дома в округах Калифорнии.\n",
        "выражены в сотнях тысяч долларов (100 000 долларов США).\n",
        "\n",
        "Этот набор данных был получен из переписи населения США 1990 года с использованием одной строки для каждой переписи.\n",
        "группа блоков. Блок-группа — это наименьшая географическая единица, для которой США\n",
        "Бюро переписи населения публикует выборочные данные (в блочной группе обычно\n",
        "от 600 до 3000 человек).\n",
        "\n",
        "Домохозяйство – это группа людей, проживающих в одном доме. Поскольку средний\n",
        "количество комнат и спален в этом наборе данных указано на домохозяйство, эти\n",
        "столбцы могут принимать неожиданно большие значения для блочных групп с небольшим количеством домохозяйств.\n",
        "и много пустых домов, таких как курорты."
      ],
      "metadata": {
        "id": "gs3n6XMAIbRd"
      }
    },
    {
      "cell_type": "code",
      "execution_count": 8,
      "metadata": {
        "id": "y9TLq-CbaT19",
        "colab": {
          "base_uri": "https://localhost:8080/"
        },
        "outputId": "25c5a2aa-b611-4f08-8c77-1fc6b8a21038"
      },
      "outputs": [
        {
          "output_type": "execute_result",
          "data": {
            "text/plain": [
              "['MedInc',\n",
              " 'HouseAge',\n",
              " 'AveRooms',\n",
              " 'AveBedrms',\n",
              " 'Population',\n",
              " 'AveOccup',\n",
              " 'Latitude',\n",
              " 'Longitude']"
            ]
          },
          "metadata": {},
          "execution_count": 8
        }
      ],
      "source": [
        "dataset = fetch_california_housing(as_frame=True)\n",
        "X, y = dataset.data, dataset.target\n",
        "feature_names = dataset.feature_names\n",
        "feature_names\n"
      ]
    },
    {
      "cell_type": "code",
      "execution_count": 9,
      "metadata": {
        "colab": {
          "base_uri": "https://localhost:8080/",
          "height": 206
        },
        "id": "tNPERBX-gWA1",
        "outputId": "180d8df5-fc9c-440c-e622-3c6f21aa9fa1"
      },
      "outputs": [
        {
          "output_type": "execute_result",
          "data": {
            "text/plain": [
              "   MedInc  HouseAge  AveRooms  AveBedrms  Population  AveOccup  Latitude  \\\n",
              "0  8.3252      41.0  6.984127   1.023810       322.0  2.555556     37.88   \n",
              "1  8.3014      21.0  6.238137   0.971880      2401.0  2.109842     37.86   \n",
              "2  7.2574      52.0  8.288136   1.073446       496.0  2.802260     37.85   \n",
              "3  5.6431      52.0  5.817352   1.073059       558.0  2.547945     37.85   \n",
              "4  3.8462      52.0  6.281853   1.081081       565.0  2.181467     37.85   \n",
              "\n",
              "   Longitude  \n",
              "0    -122.23  \n",
              "1    -122.22  \n",
              "2    -122.24  \n",
              "3    -122.25  \n",
              "4    -122.25  "
            ],
            "text/html": [
              "\n",
              "  <div id=\"df-0b3deb1d-e998-41b7-9085-9497fcf8cbf2\">\n",
              "    <div class=\"colab-df-container\">\n",
              "      <div>\n",
              "<style scoped>\n",
              "    .dataframe tbody tr th:only-of-type {\n",
              "        vertical-align: middle;\n",
              "    }\n",
              "\n",
              "    .dataframe tbody tr th {\n",
              "        vertical-align: top;\n",
              "    }\n",
              "\n",
              "    .dataframe thead th {\n",
              "        text-align: right;\n",
              "    }\n",
              "</style>\n",
              "<table border=\"1\" class=\"dataframe\">\n",
              "  <thead>\n",
              "    <tr style=\"text-align: right;\">\n",
              "      <th></th>\n",
              "      <th>MedInc</th>\n",
              "      <th>HouseAge</th>\n",
              "      <th>AveRooms</th>\n",
              "      <th>AveBedrms</th>\n",
              "      <th>Population</th>\n",
              "      <th>AveOccup</th>\n",
              "      <th>Latitude</th>\n",
              "      <th>Longitude</th>\n",
              "    </tr>\n",
              "  </thead>\n",
              "  <tbody>\n",
              "    <tr>\n",
              "      <th>0</th>\n",
              "      <td>8.3252</td>\n",
              "      <td>41.0</td>\n",
              "      <td>6.984127</td>\n",
              "      <td>1.023810</td>\n",
              "      <td>322.0</td>\n",
              "      <td>2.555556</td>\n",
              "      <td>37.88</td>\n",
              "      <td>-122.23</td>\n",
              "    </tr>\n",
              "    <tr>\n",
              "      <th>1</th>\n",
              "      <td>8.3014</td>\n",
              "      <td>21.0</td>\n",
              "      <td>6.238137</td>\n",
              "      <td>0.971880</td>\n",
              "      <td>2401.0</td>\n",
              "      <td>2.109842</td>\n",
              "      <td>37.86</td>\n",
              "      <td>-122.22</td>\n",
              "    </tr>\n",
              "    <tr>\n",
              "      <th>2</th>\n",
              "      <td>7.2574</td>\n",
              "      <td>52.0</td>\n",
              "      <td>8.288136</td>\n",
              "      <td>1.073446</td>\n",
              "      <td>496.0</td>\n",
              "      <td>2.802260</td>\n",
              "      <td>37.85</td>\n",
              "      <td>-122.24</td>\n",
              "    </tr>\n",
              "    <tr>\n",
              "      <th>3</th>\n",
              "      <td>5.6431</td>\n",
              "      <td>52.0</td>\n",
              "      <td>5.817352</td>\n",
              "      <td>1.073059</td>\n",
              "      <td>558.0</td>\n",
              "      <td>2.547945</td>\n",
              "      <td>37.85</td>\n",
              "      <td>-122.25</td>\n",
              "    </tr>\n",
              "    <tr>\n",
              "      <th>4</th>\n",
              "      <td>3.8462</td>\n",
              "      <td>52.0</td>\n",
              "      <td>6.281853</td>\n",
              "      <td>1.081081</td>\n",
              "      <td>565.0</td>\n",
              "      <td>2.181467</td>\n",
              "      <td>37.85</td>\n",
              "      <td>-122.25</td>\n",
              "    </tr>\n",
              "  </tbody>\n",
              "</table>\n",
              "</div>\n",
              "      <button class=\"colab-df-convert\" onclick=\"convertToInteractive('df-0b3deb1d-e998-41b7-9085-9497fcf8cbf2')\"\n",
              "              title=\"Convert this dataframe to an interactive table.\"\n",
              "              style=\"display:none;\">\n",
              "        \n",
              "  <svg xmlns=\"http://www.w3.org/2000/svg\" height=\"24px\"viewBox=\"0 0 24 24\"\n",
              "       width=\"24px\">\n",
              "    <path d=\"M0 0h24v24H0V0z\" fill=\"none\"/>\n",
              "    <path d=\"M18.56 5.44l.94 2.06.94-2.06 2.06-.94-2.06-.94-.94-2.06-.94 2.06-2.06.94zm-11 1L8.5 8.5l.94-2.06 2.06-.94-2.06-.94L8.5 2.5l-.94 2.06-2.06.94zm10 10l.94 2.06.94-2.06 2.06-.94-2.06-.94-.94-2.06-.94 2.06-2.06.94z\"/><path d=\"M17.41 7.96l-1.37-1.37c-.4-.4-.92-.59-1.43-.59-.52 0-1.04.2-1.43.59L10.3 9.45l-7.72 7.72c-.78.78-.78 2.05 0 2.83L4 21.41c.39.39.9.59 1.41.59.51 0 1.02-.2 1.41-.59l7.78-7.78 2.81-2.81c.8-.78.8-2.07 0-2.86zM5.41 20L4 18.59l7.72-7.72 1.47 1.35L5.41 20z\"/>\n",
              "  </svg>\n",
              "      </button>\n",
              "      \n",
              "  <style>\n",
              "    .colab-df-container {\n",
              "      display:flex;\n",
              "      flex-wrap:wrap;\n",
              "      gap: 12px;\n",
              "    }\n",
              "\n",
              "    .colab-df-convert {\n",
              "      background-color: #E8F0FE;\n",
              "      border: none;\n",
              "      border-radius: 50%;\n",
              "      cursor: pointer;\n",
              "      display: none;\n",
              "      fill: #1967D2;\n",
              "      height: 32px;\n",
              "      padding: 0 0 0 0;\n",
              "      width: 32px;\n",
              "    }\n",
              "\n",
              "    .colab-df-convert:hover {\n",
              "      background-color: #E2EBFA;\n",
              "      box-shadow: 0px 1px 2px rgba(60, 64, 67, 0.3), 0px 1px 3px 1px rgba(60, 64, 67, 0.15);\n",
              "      fill: #174EA6;\n",
              "    }\n",
              "\n",
              "    [theme=dark] .colab-df-convert {\n",
              "      background-color: #3B4455;\n",
              "      fill: #D2E3FC;\n",
              "    }\n",
              "\n",
              "    [theme=dark] .colab-df-convert:hover {\n",
              "      background-color: #434B5C;\n",
              "      box-shadow: 0px 1px 3px 1px rgba(0, 0, 0, 0.15);\n",
              "      filter: drop-shadow(0px 1px 2px rgba(0, 0, 0, 0.3));\n",
              "      fill: #FFFFFF;\n",
              "    }\n",
              "  </style>\n",
              "\n",
              "      <script>\n",
              "        const buttonEl =\n",
              "          document.querySelector('#df-0b3deb1d-e998-41b7-9085-9497fcf8cbf2 button.colab-df-convert');\n",
              "        buttonEl.style.display =\n",
              "          google.colab.kernel.accessAllowed ? 'block' : 'none';\n",
              "\n",
              "        async function convertToInteractive(key) {\n",
              "          const element = document.querySelector('#df-0b3deb1d-e998-41b7-9085-9497fcf8cbf2');\n",
              "          const dataTable =\n",
              "            await google.colab.kernel.invokeFunction('convertToInteractive',\n",
              "                                                     [key], {});\n",
              "          if (!dataTable) return;\n",
              "\n",
              "          const docLinkHtml = 'Like what you see? Visit the ' +\n",
              "            '<a target=\"_blank\" href=https://colab.research.google.com/notebooks/data_table.ipynb>data table notebook</a>'\n",
              "            + ' to learn more about interactive tables.';\n",
              "          element.innerHTML = '';\n",
              "          dataTable['output_type'] = 'display_data';\n",
              "          await google.colab.output.renderOutput(dataTable, element);\n",
              "          const docLink = document.createElement('div');\n",
              "          docLink.innerHTML = docLinkHtml;\n",
              "          element.appendChild(docLink);\n",
              "        }\n",
              "      </script>\n",
              "    </div>\n",
              "  </div>\n",
              "  "
            ]
          },
          "metadata": {},
          "execution_count": 9
        }
      ],
      "source": [
        "data=pd.DataFrame.from_dict(X ) # Только X\n",
        "data.head()"
      ]
    },
    {
      "cell_type": "code",
      "execution_count": 10,
      "metadata": {
        "colab": {
          "base_uri": "https://localhost:8080/",
          "height": 206
        },
        "id": "Cs9y0kmzbFh1",
        "outputId": "1d284412-3423-4aef-fdb5-43c8c6661f86"
      },
      "outputs": [
        {
          "output_type": "execute_result",
          "data": {
            "text/plain": [
              "   MedInc  HouseAge  AveRooms  AveBedrms  Population  AveOccup  Latitude  \\\n",
              "0  8.3252      41.0  6.984127   1.023810       322.0  2.555556     37.88   \n",
              "1  8.3014      21.0  6.238137   0.971880      2401.0  2.109842     37.86   \n",
              "2  7.2574      52.0  8.288136   1.073446       496.0  2.802260     37.85   \n",
              "3  5.6431      52.0  5.817352   1.073059       558.0  2.547945     37.85   \n",
              "4  3.8462      52.0  6.281853   1.081081       565.0  2.181467     37.85   \n",
              "\n",
              "   Longitude  MedHouseVal  \n",
              "0    -122.23        4.526  \n",
              "1    -122.22        3.585  \n",
              "2    -122.24        3.521  \n",
              "3    -122.25        3.413  \n",
              "4    -122.25        3.422  "
            ],
            "text/html": [
              "\n",
              "  <div id=\"df-cc4757ce-99fe-4133-9766-b75c06da2116\">\n",
              "    <div class=\"colab-df-container\">\n",
              "      <div>\n",
              "<style scoped>\n",
              "    .dataframe tbody tr th:only-of-type {\n",
              "        vertical-align: middle;\n",
              "    }\n",
              "\n",
              "    .dataframe tbody tr th {\n",
              "        vertical-align: top;\n",
              "    }\n",
              "\n",
              "    .dataframe thead th {\n",
              "        text-align: right;\n",
              "    }\n",
              "</style>\n",
              "<table border=\"1\" class=\"dataframe\">\n",
              "  <thead>\n",
              "    <tr style=\"text-align: right;\">\n",
              "      <th></th>\n",
              "      <th>MedInc</th>\n",
              "      <th>HouseAge</th>\n",
              "      <th>AveRooms</th>\n",
              "      <th>AveBedrms</th>\n",
              "      <th>Population</th>\n",
              "      <th>AveOccup</th>\n",
              "      <th>Latitude</th>\n",
              "      <th>Longitude</th>\n",
              "      <th>MedHouseVal</th>\n",
              "    </tr>\n",
              "  </thead>\n",
              "  <tbody>\n",
              "    <tr>\n",
              "      <th>0</th>\n",
              "      <td>8.3252</td>\n",
              "      <td>41.0</td>\n",
              "      <td>6.984127</td>\n",
              "      <td>1.023810</td>\n",
              "      <td>322.0</td>\n",
              "      <td>2.555556</td>\n",
              "      <td>37.88</td>\n",
              "      <td>-122.23</td>\n",
              "      <td>4.526</td>\n",
              "    </tr>\n",
              "    <tr>\n",
              "      <th>1</th>\n",
              "      <td>8.3014</td>\n",
              "      <td>21.0</td>\n",
              "      <td>6.238137</td>\n",
              "      <td>0.971880</td>\n",
              "      <td>2401.0</td>\n",
              "      <td>2.109842</td>\n",
              "      <td>37.86</td>\n",
              "      <td>-122.22</td>\n",
              "      <td>3.585</td>\n",
              "    </tr>\n",
              "    <tr>\n",
              "      <th>2</th>\n",
              "      <td>7.2574</td>\n",
              "      <td>52.0</td>\n",
              "      <td>8.288136</td>\n",
              "      <td>1.073446</td>\n",
              "      <td>496.0</td>\n",
              "      <td>2.802260</td>\n",
              "      <td>37.85</td>\n",
              "      <td>-122.24</td>\n",
              "      <td>3.521</td>\n",
              "    </tr>\n",
              "    <tr>\n",
              "      <th>3</th>\n",
              "      <td>5.6431</td>\n",
              "      <td>52.0</td>\n",
              "      <td>5.817352</td>\n",
              "      <td>1.073059</td>\n",
              "      <td>558.0</td>\n",
              "      <td>2.547945</td>\n",
              "      <td>37.85</td>\n",
              "      <td>-122.25</td>\n",
              "      <td>3.413</td>\n",
              "    </tr>\n",
              "    <tr>\n",
              "      <th>4</th>\n",
              "      <td>3.8462</td>\n",
              "      <td>52.0</td>\n",
              "      <td>6.281853</td>\n",
              "      <td>1.081081</td>\n",
              "      <td>565.0</td>\n",
              "      <td>2.181467</td>\n",
              "      <td>37.85</td>\n",
              "      <td>-122.25</td>\n",
              "      <td>3.422</td>\n",
              "    </tr>\n",
              "  </tbody>\n",
              "</table>\n",
              "</div>\n",
              "      <button class=\"colab-df-convert\" onclick=\"convertToInteractive('df-cc4757ce-99fe-4133-9766-b75c06da2116')\"\n",
              "              title=\"Convert this dataframe to an interactive table.\"\n",
              "              style=\"display:none;\">\n",
              "        \n",
              "  <svg xmlns=\"http://www.w3.org/2000/svg\" height=\"24px\"viewBox=\"0 0 24 24\"\n",
              "       width=\"24px\">\n",
              "    <path d=\"M0 0h24v24H0V0z\" fill=\"none\"/>\n",
              "    <path d=\"M18.56 5.44l.94 2.06.94-2.06 2.06-.94-2.06-.94-.94-2.06-.94 2.06-2.06.94zm-11 1L8.5 8.5l.94-2.06 2.06-.94-2.06-.94L8.5 2.5l-.94 2.06-2.06.94zm10 10l.94 2.06.94-2.06 2.06-.94-2.06-.94-.94-2.06-.94 2.06-2.06.94z\"/><path d=\"M17.41 7.96l-1.37-1.37c-.4-.4-.92-.59-1.43-.59-.52 0-1.04.2-1.43.59L10.3 9.45l-7.72 7.72c-.78.78-.78 2.05 0 2.83L4 21.41c.39.39.9.59 1.41.59.51 0 1.02-.2 1.41-.59l7.78-7.78 2.81-2.81c.8-.78.8-2.07 0-2.86zM5.41 20L4 18.59l7.72-7.72 1.47 1.35L5.41 20z\"/>\n",
              "  </svg>\n",
              "      </button>\n",
              "      \n",
              "  <style>\n",
              "    .colab-df-container {\n",
              "      display:flex;\n",
              "      flex-wrap:wrap;\n",
              "      gap: 12px;\n",
              "    }\n",
              "\n",
              "    .colab-df-convert {\n",
              "      background-color: #E8F0FE;\n",
              "      border: none;\n",
              "      border-radius: 50%;\n",
              "      cursor: pointer;\n",
              "      display: none;\n",
              "      fill: #1967D2;\n",
              "      height: 32px;\n",
              "      padding: 0 0 0 0;\n",
              "      width: 32px;\n",
              "    }\n",
              "\n",
              "    .colab-df-convert:hover {\n",
              "      background-color: #E2EBFA;\n",
              "      box-shadow: 0px 1px 2px rgba(60, 64, 67, 0.3), 0px 1px 3px 1px rgba(60, 64, 67, 0.15);\n",
              "      fill: #174EA6;\n",
              "    }\n",
              "\n",
              "    [theme=dark] .colab-df-convert {\n",
              "      background-color: #3B4455;\n",
              "      fill: #D2E3FC;\n",
              "    }\n",
              "\n",
              "    [theme=dark] .colab-df-convert:hover {\n",
              "      background-color: #434B5C;\n",
              "      box-shadow: 0px 1px 3px 1px rgba(0, 0, 0, 0.15);\n",
              "      filter: drop-shadow(0px 1px 2px rgba(0, 0, 0, 0.3));\n",
              "      fill: #FFFFFF;\n",
              "    }\n",
              "  </style>\n",
              "\n",
              "      <script>\n",
              "        const buttonEl =\n",
              "          document.querySelector('#df-cc4757ce-99fe-4133-9766-b75c06da2116 button.colab-df-convert');\n",
              "        buttonEl.style.display =\n",
              "          google.colab.kernel.accessAllowed ? 'block' : 'none';\n",
              "\n",
              "        async function convertToInteractive(key) {\n",
              "          const element = document.querySelector('#df-cc4757ce-99fe-4133-9766-b75c06da2116');\n",
              "          const dataTable =\n",
              "            await google.colab.kernel.invokeFunction('convertToInteractive',\n",
              "                                                     [key], {});\n",
              "          if (!dataTable) return;\n",
              "\n",
              "          const docLinkHtml = 'Like what you see? Visit the ' +\n",
              "            '<a target=\"_blank\" href=https://colab.research.google.com/notebooks/data_table.ipynb>data table notebook</a>'\n",
              "            + ' to learn more about interactive tables.';\n",
              "          element.innerHTML = '';\n",
              "          dataTable['output_type'] = 'display_data';\n",
              "          await google.colab.output.renderOutput(dataTable, element);\n",
              "          const docLink = document.createElement('div');\n",
              "          docLink.innerHTML = docLinkHtml;\n",
              "          element.appendChild(docLink);\n",
              "        }\n",
              "      </script>\n",
              "    </div>\n",
              "  </div>\n",
              "  "
            ]
          },
          "metadata": {},
          "execution_count": 10
        }
      ],
      "source": [
        "df=pd.concat([data,y],axis=1) # X и y\n",
        "df.head()"
      ]
    },
    {
      "cell_type": "code",
      "source": [
        "df.info()"
      ],
      "metadata": {
        "colab": {
          "base_uri": "https://localhost:8080/"
        },
        "id": "I5dkV0JOnrVf",
        "outputId": "882ffff4-a220-4d97-a9ce-c9dbe717b8a6"
      },
      "execution_count": 11,
      "outputs": [
        {
          "output_type": "stream",
          "name": "stdout",
          "text": [
            "<class 'pandas.core.frame.DataFrame'>\n",
            "RangeIndex: 20640 entries, 0 to 20639\n",
            "Data columns (total 9 columns):\n",
            " #   Column       Non-Null Count  Dtype  \n",
            "---  ------       --------------  -----  \n",
            " 0   MedInc       20640 non-null  float64\n",
            " 1   HouseAge     20640 non-null  float64\n",
            " 2   AveRooms     20640 non-null  float64\n",
            " 3   AveBedrms    20640 non-null  float64\n",
            " 4   Population   20640 non-null  float64\n",
            " 5   AveOccup     20640 non-null  float64\n",
            " 6   Latitude     20640 non-null  float64\n",
            " 7   Longitude    20640 non-null  float64\n",
            " 8   MedHouseVal  20640 non-null  float64\n",
            "dtypes: float64(9)\n",
            "memory usage: 1.4 MB\n"
          ]
        }
      ]
    },
    {
      "cell_type": "markdown",
      "metadata": {
        "id": "XJkmPO77T5t0"
      },
      "source": [
        "# 2. Работа с пропусками"
      ]
    },
    {
      "cell_type": "code",
      "execution_count": 12,
      "metadata": {
        "colab": {
          "base_uri": "https://localhost:8080/"
        },
        "id": "UPM-WKWvUBA5",
        "outputId": "346aa34a-09c7-425e-a1b4-429c2c5aba44"
      },
      "outputs": [
        {
          "output_type": "execute_result",
          "data": {
            "text/plain": [
              "MedInc         0\n",
              "HouseAge       0\n",
              "AveRooms       0\n",
              "AveBedrms      0\n",
              "Population     0\n",
              "AveOccup       0\n",
              "Latitude       0\n",
              "Longitude      0\n",
              "MedHouseVal    0\n",
              "dtype: int64"
            ]
          },
          "metadata": {},
          "execution_count": 12
        }
      ],
      "source": [
        "df.isna().sum() # нет пропусков типа nan"
      ]
    },
    {
      "cell_type": "code",
      "execution_count": 13,
      "metadata": {
        "colab": {
          "base_uri": "https://localhost:8080/"
        },
        "id": "4nq4U0lA8Bp2",
        "outputId": "0e91d5b9-1a99-42fd-a100-c195d030181b"
      },
      "outputs": [
        {
          "output_type": "stream",
          "name": "stdout",
          "text": [
            "пропусков \"?\" нет\n"
          ]
        }
      ],
      "source": [
        "# На наличие nan уже проверяли в начале ноутбука и выявили пустые значенимя в столбwах Age, Cabin, Embarked. Сейчас проверим, нет ли пропусков, обозначенных \"?\" \n",
        "flag=True\n",
        "for column in df.columns:\n",
        "  if('?')  in list(df[column].value_counts()):\n",
        "    print(column)\n",
        "    flag = False\n",
        "if flag:\n",
        "    print('пропусков \"?\" нет')"
      ]
    },
    {
      "cell_type": "markdown",
      "metadata": {
        "id": "iOd6vmczUBoI"
      },
      "source": [
        "# 3. Разделить выборку на обучающее и тестовое подмножества"
      ]
    },
    {
      "cell_type": "markdown",
      "metadata": {
        "id": "Qt2A6K-QUNgi"
      },
      "source": [
        "# 4. Постройте модель линейной регрессии. Вычислите метрики RMSE, R2 "
      ]
    },
    {
      "cell_type": "code",
      "execution_count": 14,
      "metadata": {
        "colab": {
          "base_uri": "https://localhost:8080/"
        },
        "id": "Y5mc2qEF9sBJ",
        "outputId": "0ee194e8-9e10-40ed-ec78-42624104ee77"
      },
      "outputs": [
        {
          "output_type": "stream",
          "name": "stdout",
          "text": [
            "R2 = 0.5957702326061664, RMSE = 0.7284008391515452\n"
          ]
        }
      ],
      "source": [
        "r2, rmse, coef,intercept = get_score(X,y, random_seed=42, model=None) #разделение на train и test - внутри функции\n",
        "print(f'R2 = {r2}, RMSE = {rmse}')"
      ]
    },
    {
      "cell_type": "code",
      "source": [
        "results=pd.DataFrame(columns=['stage','R2', 'RMSE', 'Features', 'Transformations','Intercept', 'Coef'])"
      ],
      "metadata": {
        "id": "1oNZyDC4Di9K"
      },
      "execution_count": 15,
      "outputs": []
    },
    {
      "cell_type": "code",
      "source": [
        "stage='BaseLine'"
      ],
      "metadata": {
        "id": "fy2K93GMEgZZ"
      },
      "execution_count": 16,
      "outputs": []
    },
    {
      "cell_type": "code",
      "source": [
        "results.loc[len(results.index)] = [stage,r2, rmse, list(X.columns), '', intercept, coef]\n",
        "results.head()"
      ],
      "metadata": {
        "colab": {
          "base_uri": "https://localhost:8080/",
          "height": 81
        },
        "id": "To5HDLD6EDQa",
        "outputId": "33966b1b-873c-43f4-f27f-fee108f1ee79"
      },
      "execution_count": 17,
      "outputs": [
        {
          "output_type": "execute_result",
          "data": {
            "text/plain": [
              "      stage       R2      RMSE  \\\n",
              "0  BaseLine  0.59577  0.728401   \n",
              "\n",
              "                                            Features Transformations  \\\n",
              "0  [MedInc, HouseAge, AveRooms, AveBedrms, Popula...                   \n",
              "\n",
              "   Intercept                                               Coef  \n",
              "0    2.06924  [0.8492217601003719, 0.12211930906462487, -0.2...  "
            ],
            "text/html": [
              "\n",
              "  <div id=\"df-46fb1fb0-a656-4713-8eb4-9f5993f8c6d2\">\n",
              "    <div class=\"colab-df-container\">\n",
              "      <div>\n",
              "<style scoped>\n",
              "    .dataframe tbody tr th:only-of-type {\n",
              "        vertical-align: middle;\n",
              "    }\n",
              "\n",
              "    .dataframe tbody tr th {\n",
              "        vertical-align: top;\n",
              "    }\n",
              "\n",
              "    .dataframe thead th {\n",
              "        text-align: right;\n",
              "    }\n",
              "</style>\n",
              "<table border=\"1\" class=\"dataframe\">\n",
              "  <thead>\n",
              "    <tr style=\"text-align: right;\">\n",
              "      <th></th>\n",
              "      <th>stage</th>\n",
              "      <th>R2</th>\n",
              "      <th>RMSE</th>\n",
              "      <th>Features</th>\n",
              "      <th>Transformations</th>\n",
              "      <th>Intercept</th>\n",
              "      <th>Coef</th>\n",
              "    </tr>\n",
              "  </thead>\n",
              "  <tbody>\n",
              "    <tr>\n",
              "      <th>0</th>\n",
              "      <td>BaseLine</td>\n",
              "      <td>0.59577</td>\n",
              "      <td>0.728401</td>\n",
              "      <td>[MedInc, HouseAge, AveRooms, AveBedrms, Popula...</td>\n",
              "      <td></td>\n",
              "      <td>2.06924</td>\n",
              "      <td>[0.8492217601003719, 0.12211930906462487, -0.2...</td>\n",
              "    </tr>\n",
              "  </tbody>\n",
              "</table>\n",
              "</div>\n",
              "      <button class=\"colab-df-convert\" onclick=\"convertToInteractive('df-46fb1fb0-a656-4713-8eb4-9f5993f8c6d2')\"\n",
              "              title=\"Convert this dataframe to an interactive table.\"\n",
              "              style=\"display:none;\">\n",
              "        \n",
              "  <svg xmlns=\"http://www.w3.org/2000/svg\" height=\"24px\"viewBox=\"0 0 24 24\"\n",
              "       width=\"24px\">\n",
              "    <path d=\"M0 0h24v24H0V0z\" fill=\"none\"/>\n",
              "    <path d=\"M18.56 5.44l.94 2.06.94-2.06 2.06-.94-2.06-.94-.94-2.06-.94 2.06-2.06.94zm-11 1L8.5 8.5l.94-2.06 2.06-.94-2.06-.94L8.5 2.5l-.94 2.06-2.06.94zm10 10l.94 2.06.94-2.06 2.06-.94-2.06-.94-.94-2.06-.94 2.06-2.06.94z\"/><path d=\"M17.41 7.96l-1.37-1.37c-.4-.4-.92-.59-1.43-.59-.52 0-1.04.2-1.43.59L10.3 9.45l-7.72 7.72c-.78.78-.78 2.05 0 2.83L4 21.41c.39.39.9.59 1.41.59.51 0 1.02-.2 1.41-.59l7.78-7.78 2.81-2.81c.8-.78.8-2.07 0-2.86zM5.41 20L4 18.59l7.72-7.72 1.47 1.35L5.41 20z\"/>\n",
              "  </svg>\n",
              "      </button>\n",
              "      \n",
              "  <style>\n",
              "    .colab-df-container {\n",
              "      display:flex;\n",
              "      flex-wrap:wrap;\n",
              "      gap: 12px;\n",
              "    }\n",
              "\n",
              "    .colab-df-convert {\n",
              "      background-color: #E8F0FE;\n",
              "      border: none;\n",
              "      border-radius: 50%;\n",
              "      cursor: pointer;\n",
              "      display: none;\n",
              "      fill: #1967D2;\n",
              "      height: 32px;\n",
              "      padding: 0 0 0 0;\n",
              "      width: 32px;\n",
              "    }\n",
              "\n",
              "    .colab-df-convert:hover {\n",
              "      background-color: #E2EBFA;\n",
              "      box-shadow: 0px 1px 2px rgba(60, 64, 67, 0.3), 0px 1px 3px 1px rgba(60, 64, 67, 0.15);\n",
              "      fill: #174EA6;\n",
              "    }\n",
              "\n",
              "    [theme=dark] .colab-df-convert {\n",
              "      background-color: #3B4455;\n",
              "      fill: #D2E3FC;\n",
              "    }\n",
              "\n",
              "    [theme=dark] .colab-df-convert:hover {\n",
              "      background-color: #434B5C;\n",
              "      box-shadow: 0px 1px 3px 1px rgba(0, 0, 0, 0.15);\n",
              "      filter: drop-shadow(0px 1px 2px rgba(0, 0, 0, 0.3));\n",
              "      fill: #FFFFFF;\n",
              "    }\n",
              "  </style>\n",
              "\n",
              "      <script>\n",
              "        const buttonEl =\n",
              "          document.querySelector('#df-46fb1fb0-a656-4713-8eb4-9f5993f8c6d2 button.colab-df-convert');\n",
              "        buttonEl.style.display =\n",
              "          google.colab.kernel.accessAllowed ? 'block' : 'none';\n",
              "\n",
              "        async function convertToInteractive(key) {\n",
              "          const element = document.querySelector('#df-46fb1fb0-a656-4713-8eb4-9f5993f8c6d2');\n",
              "          const dataTable =\n",
              "            await google.colab.kernel.invokeFunction('convertToInteractive',\n",
              "                                                     [key], {});\n",
              "          if (!dataTable) return;\n",
              "\n",
              "          const docLinkHtml = 'Like what you see? Visit the ' +\n",
              "            '<a target=\"_blank\" href=https://colab.research.google.com/notebooks/data_table.ipynb>data table notebook</a>'\n",
              "            + ' to learn more about interactive tables.';\n",
              "          element.innerHTML = '';\n",
              "          dataTable['output_type'] = 'display_data';\n",
              "          await google.colab.output.renderOutput(dataTable, element);\n",
              "          const docLink = document.createElement('div');\n",
              "          docLink.innerHTML = docLinkHtml;\n",
              "          element.appendChild(docLink);\n",
              "        }\n",
              "      </script>\n",
              "    </div>\n",
              "  </div>\n",
              "  "
            ]
          },
          "metadata": {},
          "execution_count": 17
        }
      ]
    },
    {
      "cell_type": "markdown",
      "metadata": {
        "id": "YULUzG5wUVhj"
      },
      "source": [
        "# 5. Постройте график распределения целевой переменной. Сделайте вывод. Присутствуют ли в этом признаке выбросы?"
      ]
    },
    {
      "cell_type": "code",
      "execution_count": 18,
      "metadata": {
        "colab": {
          "base_uri": "https://localhost:8080/",
          "height": 319
        },
        "id": "_-pLsKgHUeay",
        "outputId": "92f996b7-5479-4efa-f8b5-c0f56ac01bcc"
      },
      "outputs": [
        {
          "output_type": "display_data",
          "data": {
            "text/plain": [
              "<Figure size 500x300 with 1 Axes>"
            ],
            "image/png": "[encoded data removed]"
          },
          "metadata": {}
        }
      ],
      "source": [
        "import warnings\n",
        "warnings.filterwarnings(\"ignore\", category=UserWarning)\n",
        "warnings.filterwarnings(\"ignore\", category=FutureWarning) \n",
        "\n",
        "\n",
        "sns.set(rc={'figure.figsize':(5, 3)})\n",
        "sns.distplot(y)\n",
        "plt.show()"
      ]
    },
    {
      "cell_type": "code",
      "execution_count": 19,
      "metadata": {
        "colab": {
          "base_uri": "https://localhost:8080/",
          "height": 296
        },
        "id": "YRMGWhNdLYxm",
        "outputId": "eabf0546-ae01-4004-b99e-bbe8be03ce76"
      },
      "outputs": [
        {
          "output_type": "display_data",
          "data": {
            "text/plain": [
              "<Figure size 500x300 with 1 Axes>"
            ],
            "image/png": "[encoded data removed]"
          },
          "metadata": {}
        }
      ],
      "source": [
        "sns.set(rc={'figure.figsize':(5, 3)})\n",
        "sns.boxplot(y)\n",
        "plt.show()"
      ]
    },
    {
      "cell_type": "markdown",
      "metadata": {
        "id": "-SEkQ5mcLyNt"
      },
      "source": [
        " Распределение сильно смещено влево. Есть выбросы целевой переменной при значениях y = 5"
      ]
    },
    {
      "cell_type": "markdown",
      "metadata": {
        "id": "Dt_ZBcdFUe7I"
      },
      "source": [
        "# 6. Посчитайте и выведите корреляционную матрицу"
      ]
    },
    {
      "cell_type": "code",
      "execution_count": 20,
      "metadata": {
        "colab": {
          "base_uri": "https://localhost:8080/",
          "height": 796
        },
        "id": "9xpeHI7MUlET",
        "outputId": "effd0662-226c-42d0-9f13-913d81e512b6"
      },
      "outputs": [
        {
          "output_type": "display_data",
          "data": {
            "text/plain": [
              "<Figure size 1170x827 with 2 Axes>"
            ],
            "image/png": "[encoded data removed]"
          },
          "metadata": {}
        }
      ],
      "source": [
        "sns.set(rc={'figure.figsize':(11.7,8.27)})\n",
        "sns.heatmap(df.corr(), annot=True)\n",
        "plt.show()"
      ]
    },
    {
      "cell_type": "markdown",
      "metadata": {
        "id": "Jbem4UWuUlkv"
      },
      "source": [
        "## a. Сделайте выводы"
      ]
    },
    {
      "cell_type": "markdown",
      "metadata": {
        "id": "IaShxr5eUwqp"
      },
      "source": [
        "Изучая корреляцию целевой переменной MedHouseVal и независимых признаков, можно сделать следующие выводы:\n",
        "1. Сильная положительная связь - только с MedInc. Слабая положительная связь - с AveRooms и HouseAge, слабая отрицательная связь - с Longitude. Все остальные признаки имеют очень низкий к-т корреляции по отношению к MedHouseVal.\n",
        "\n",
        "2. Сильная положительная корреляция 0.85 между AveBedrms и AveRooms и сильная отрицательная, близкая к -1 связь между Latitude и Longitude ведет к риску коллинеарности этих признаков. \n",
        "\n",
        "3. Выявлена слабая положительная корреляция 0.3 между Medinc и AveRooms, слабая отрицательная -0.33 -  между Population и HouseAge.  Все остальные признаки очень слабо коррелируют друг с другом и с целевой переменной. \n",
        "\n",
        "На первый взгляд, следует удалять признаки, которые, во-первых, имеют самую слабую корреляцию с целевой переменной и, во-вторых, имеют сильную корреляцию между собой. Кандидаты на удаление - признаки AveOccup, Population и AveBedrms. \n",
        "Кроме того, планируется удалить Latitude и Longitude, предварительно проведя кластеризацию  и введя категриальную переменную, которая заменит и широту, и долготу.\n",
        "ОДнако, прежде чем удалять признаки, проведем дополнительные проверки необходимости такого удаления."
      ]
    },
    {
      "cell_type": "markdown",
      "metadata": {
        "id": "tDMzRdHEUxUZ"
      },
      "source": [
        "## b. Удалите признаки на основании полученных значений, выводов."
      ]
    },
    {
      "cell_type": "markdown",
      "metadata": {
        "id": "TWXBFmmfU6R3"
      },
      "source": [
        "## c. Повторите п. 3, п. 4 на измененных данных."
      ]
    },
    {
      "cell_type": "code",
      "source": [
        "# Оставить лучшие признаки при помощи SelectKBest , f_regression и GridSearchCV\n",
        "from sklearn.pipeline import Pipeline\n",
        "from sklearn.feature_selection import SelectKBest,f_regression\n",
        "from sklearn.model_selection import GridSearchCV\n",
        "from sklearn.metrics import mean_squared_error\n",
        "pipeline = Pipeline(\n",
        "    [\n",
        "     ('selector',SelectKBest(f_regression)),\n",
        "     ('model',LinearRegression())\n",
        "    ]\n",
        ")\n",
        "search = GridSearchCV(\n",
        "    estimator = pipeline,\n",
        "    param_grid = {'selector__k':[1,2,3,4,5,6,7,8]},\n",
        "    n_jobs=-1,\n",
        "    scoring=\"neg_mean_squared_error\",\n",
        "    cv=5,\n",
        "    verbose=3\n",
        ")\n",
        "search.fit(X,y)"
      ],
      "metadata": {
        "colab": {
          "base_uri": "https://localhost:8080/",
          "height": 170
        },
        "id": "PDEwW1L1k5b9",
        "outputId": "bb0b5639-9a2c-4994-d3eb-12a2398e3e33"
      },
      "execution_count": 21,
      "outputs": [
        {
          "output_type": "stream",
          "name": "stdout",
          "text": [
            "Fitting 5 folds for each of 8 candidates, totalling 40 fits\n"
          ]
        },
        {
          "output_type": "execute_result",
          "data": {
            "text/plain": [
              "GridSearchCV(cv=5,\n",
              "             estimator=Pipeline(steps=[('selector',\n",
              "                                        SelectKBest(score_func=<function f_regression at 0x7f462065f5e0>)),\n",
              "                                       ('model', LinearRegression())]),\n",
              "             n_jobs=-1, param_grid={'selector__k': [1, 2, 3, 4, 5, 6, 7, 8]},\n",
              "             scoring='neg_mean_squared_error', verbose=3)"
            ],
            "text/html": [
              "<style>#sk-container-id-1 {color: black;background-color: white;}#sk-container-id-1 pre{padding: 0;}#sk-container-id-1 div.sk-toggleable {background-color: white;}#sk-container-id-1 label.sk-toggleable__label {cursor: pointer;display: block;width: 100%;margin-bottom: 0;padding: 0.3em;box-sizing: border-box;text-align: center;}#sk-container-id-1 label.sk-toggleable__label-arrow:before {content: \"▸\";float: left;margin-right: 0.25em;color: #696969;}#sk-container-id-1 label.sk-toggleable__label-arrow:hover:before {color: black;}#sk-container-id-1 div.sk-estimator:hover label.sk-toggleable__label-arrow:before {color: black;}#sk-container-id-1 div.sk-toggleable__content {max-height: 0;max-width: 0;overflow: hidden;text-align: left;background-color: #f0f8ff;}#sk-container-id-1 div.sk-toggleable__content pre {margin: 0.2em;color: black;border-radius: 0.25em;background-color: #f0f8ff;}#sk-container-id-1 input.sk-toggleable__control:checked~div.sk-toggleable__content {max-height: 200px;max-width: 100%;overflow: auto;}#sk-container-id-1 input.sk-toggleable__control:checked~label.sk-toggleable__label-arrow:before {content: \"▾\";}#sk-container-id-1 div.sk-estimator input.sk-toggleable__control:checked~label.sk-toggleable__label {background-color: #d4ebff;}#sk-container-id-1 div.sk-label input.sk-toggleable__control:checked~label.sk-toggleable__label {background-color: #d4ebff;}#sk-container-id-1 input.sk-hidden--visually {border: 0;clip: rect(1px 1px 1px 1px);clip: rect(1px, 1px, 1px, 1px);height: 1px;margin: -1px;overflow: hidden;padding: 0;position: absolute;width: 1px;}#sk-container-id-1 div.sk-estimator {font-family: monospace;background-color: #f0f8ff;border: 1px dotted black;border-radius: 0.25em;box-sizing: border-box;margin-bottom: 0.5em;}#sk-container-id-1 div.sk-estimator:hover {background-color: #d4ebff;}#sk-container-id-1 div.sk-parallel-item::after {content: \"\";width: 100%;border-bottom: 1px solid gray;flex-grow: 1;}#sk-container-id-1 div.sk-label:hover label.sk-toggleable__label {background-color: #d4ebff;}#sk-container-id-1 div.sk-serial::before {content: \"\";position: absolute;border-left: 1px solid gray;box-sizing: border-box;top: 0;bottom: 0;left: 50%;z-index: 0;}#sk-container-id-1 div.sk-serial {display: flex;flex-direction: column;align-items: center;background-color: white;padding-right: 0.2em;padding-left: 0.2em;position: relative;}#sk-container-id-1 div.sk-item {position: relative;z-index: 1;}#sk-container-id-1 div.sk-parallel {display: flex;align-items: stretch;justify-content: center;background-color: white;position: relative;}#sk-container-id-1 div.sk-item::before, #sk-container-id-1 div.sk-parallel-item::before {content: \"\";position: absolute;border-left: 1px solid gray;box-sizing: border-box;top: 0;bottom: 0;left: 50%;z-index: -1;}#sk-container-id-1 div.sk-parallel-item {display: flex;flex-direction: column;z-index: 1;position: relative;background-color: white;}#sk-container-id-1 div.sk-parallel-item:first-child::after {align-self: flex-end;width: 50%;}#sk-container-id-1 div.sk-parallel-item:last-child::after {align-self: flex-start;width: 50%;}#sk-container-id-1 div.sk-parallel-item:only-child::after {width: 0;}#sk-container-id-1 div.sk-dashed-wrapped {border: 1px dashed gray;margin: 0 0.4em 0.5em 0.4em;box-sizing: border-box;padding-bottom: 0.4em;background-color: white;}#sk-container-id-1 div.sk-label label {font-family: monospace;font-weight: bold;display: inline-block;line-height: 1.2em;}#sk-container-id-1 div.sk-label-container {text-align: center;}#sk-container-id-1 div.sk-container {/* jupyter's `normalize.less` sets `[hidden] { display: none; }` but bootstrap.min.css set `[hidden] { display: none !important; }` so we also need the `!important` here to be able to override the default hidden behavior on the sphinx rendered scikit-learn.org. See: https://github.com/scikit-learn/scikit-learn/issues/21755 */display: inline-block !important;position: relative;}#sk-container-id-1 div.sk-text-repr-fallback {display: none;}</style><div id=\"sk-container-id-1\" class=\"sk-top-container\"><div class=\"sk-text-repr-fallback\"><pre>GridSearchCV(cv=5,\n",
              "             estimator=Pipeline(steps=[(&#x27;selector&#x27;,\n",
              "                                        SelectKBest(score_func=&lt;function f_regression at 0x7f462065f5e0&gt;)),\n",
              "                                       (&#x27;model&#x27;, LinearRegression())]),\n",
              "             n_jobs=-1, param_grid={&#x27;selector__k&#x27;: [1, 2, 3, 4, 5, 6, 7, 8]},\n",
              "             scoring=&#x27;neg_mean_squared_error&#x27;, verbose=3)</pre><b>In a Jupyter environment, please rerun this cell to show the HTML representation or trust the notebook. <br />On GitHub, the HTML representation is unable to render, please try loading this page with nbviewer.org.</b></div><div class=\"sk-container\" hidden><div class=\"sk-item sk-dashed-wrapped\"><div class=\"sk-label-container\"><div class=\"sk-label sk-toggleable\"><input class=\"sk-toggleable__control sk-hidden--visually\" id=\"sk-estimator-id-1\" type=\"checkbox\" ><label for=\"sk-estimator-id-1\" class=\"sk-toggleable__label sk-toggleable__label-arrow\">GridSearchCV</label><div class=\"sk-toggleable__content\"><pre>GridSearchCV(cv=5,\n",
              "             estimator=Pipeline(steps=[(&#x27;selector&#x27;,\n",
              "                                        SelectKBest(score_func=&lt;function f_regression at 0x7f462065f5e0&gt;)),\n",
              "                                       (&#x27;model&#x27;, LinearRegression())]),\n",
              "             n_jobs=-1, param_grid={&#x27;selector__k&#x27;: [1, 2, 3, 4, 5, 6, 7, 8]},\n",
              "             scoring=&#x27;neg_mean_squared_error&#x27;, verbose=3)</pre></div></div></div><div class=\"sk-parallel\"><div class=\"sk-parallel-item\"><div class=\"sk-item\"><div class=\"sk-label-container\"><div class=\"sk-label sk-toggleable\"><input class=\"sk-toggleable__control sk-hidden--visually\" id=\"sk-estimator-id-2\" type=\"checkbox\" ><label for=\"sk-estimator-id-2\" class=\"sk-toggleable__label sk-toggleable__label-arrow\">estimator: Pipeline</label><div class=\"sk-toggleable__content\"><pre>Pipeline(steps=[(&#x27;selector&#x27;,\n",
              "                 SelectKBest(score_func=&lt;function f_regression at 0x7f462065f5e0&gt;)),\n",
              "                (&#x27;model&#x27;, LinearRegression())])</pre></div></div></div><div class=\"sk-serial\"><div class=\"sk-item\"><div class=\"sk-serial\"><div class=\"sk-item\"><div class=\"sk-estimator sk-toggleable\"><input class=\"sk-toggleable__control sk-hidden--visually\" id=\"sk-estimator-id-3\" type=\"checkbox\" ><label for=\"sk-estimator-id-3\" class=\"sk-toggleable__label sk-toggleable__label-arrow\">SelectKBest</label><div class=\"sk-toggleable__content\"><pre>SelectKBest(score_func=&lt;function f_regression at 0x7f462065f5e0&gt;)</pre></div></div></div><div class=\"sk-item\"><div class=\"sk-estimator sk-toggleable\"><input class=\"sk-toggleable__control sk-hidden--visually\" id=\"sk-estimator-id-4\" type=\"checkbox\" ><label for=\"sk-estimator-id-4\" class=\"sk-toggleable__label sk-toggleable__label-arrow\">LinearRegression</label><div class=\"sk-toggleable__content\"><pre>LinearRegression()</pre></div></div></div></div></div></div></div></div></div></div></div></div>"
            ]
          },
          "metadata": {},
          "execution_count": 21
        }
      ]
    },
    {
      "cell_type": "code",
      "source": [
        "search.best_params_"
      ],
      "metadata": {
        "colab": {
          "base_uri": "https://localhost:8080/"
        },
        "id": "ns-ifZwplw6s",
        "outputId": "7b918e50-9161-4f1c-b155-f0e036cd5938"
      },
      "execution_count": 22,
      "outputs": [
        {
          "output_type": "execute_result",
          "data": {
            "text/plain": [
              "{'selector__k': 8}"
            ]
          },
          "metadata": {},
          "execution_count": 22
        }
      ]
    },
    {
      "cell_type": "code",
      "source": [
        "search.best_score_"
      ],
      "metadata": {
        "colab": {
          "base_uri": "https://localhost:8080/"
        },
        "id": "oo5SX5NRl0zz",
        "outputId": "cd3bf74f-0fa7-451b-aea5-027890aded56"
      },
      "execution_count": 23,
      "outputs": [
        {
          "output_type": "execute_result",
          "data": {
            "text/plain": [
              "-0.5582901717686546"
            ]
          },
          "metadata": {},
          "execution_count": 23
        }
      ]
    },
    {
      "cell_type": "markdown",
      "source": [
        "Результат - нам предлагается оставить в модели все признаки"
      ],
      "metadata": {
        "id": "TcBA6Qr-pAK9"
      }
    },
    {
      "cell_type": "code",
      "execution_count": 24,
      "metadata": {
        "id": "E-0X66eFrUBk"
      },
      "outputs": [],
      "source": [
        "def make_mi_scores(X, y, discrete_features):\n",
        "  \"\"\"\n",
        "    Взаимная информация (МИ) между двумя случайными величинами представляет собой \n",
        "    неотрицательную величину, которая измеряет зависимость между переменными. \n",
        "    Равна нулю тогда и только тогда, когда две случайные величины независимы, \n",
        "    а более высокие значения означают более высокую зависимость.\n",
        "\n",
        "    Функция основана на непараметрических методах оценки энтропии \n",
        "    по k-ближайшим соседним расстояниям. \n",
        "    Можно использовать для выбора одномерных признаков (sci-kit learn)\n",
        "  \"\"\"\n",
        "  mi_scores = mutual_info_regression(X, y, discrete_features=discrete_features)\n",
        "  mi_scores = pd.Series(mi_scores, name=\"MI Scores\", index=X.columns)\n",
        "  mi_scores = mi_scores.sort_values(ascending=False)\n",
        "  return mi_scores"
      ]
    },
    {
      "cell_type": "code",
      "source": [
        "def plot_mi_scores(scores):\n",
        "    scores = scores.sort_values(ascending=True)\n",
        "    width = np.arange(len(scores))\n",
        "    ticks = list(scores.index)\n",
        "    plt.barh(width, scores)\n",
        "    plt.yticks(width, ticks)\n",
        "    plt.title(\"Mutual Information Scores\")"
      ],
      "metadata": {
        "id": "qxqitWlgmDdQ"
      },
      "execution_count": 25,
      "outputs": []
    },
    {
      "cell_type": "code",
      "execution_count": 26,
      "metadata": {
        "id": "KDtohfxEsORp",
        "colab": {
          "base_uri": "https://localhost:8080/"
        },
        "outputId": "21226f57-762c-426d-feda-49733aacf46d"
      },
      "outputs": [
        {
          "output_type": "execute_result",
          "data": {
            "text/plain": [
              "Longitude     0.403836\n",
              "MedInc        0.387852\n",
              "Latitude      0.369680\n",
              "AveRooms      0.103361\n",
              "AveOccup      0.072162\n",
              "HouseAge      0.032590\n",
              "AveBedrms     0.023684\n",
              "Population    0.021041\n",
              "Name: MI Scores, dtype: float64"
            ]
          },
          "metadata": {},
          "execution_count": 26
        }
      ],
      "source": [
        "X=df.drop(columns=['MedHouseVal'])\n",
        "discrete_features = X.dtypes == int\n",
        "mi_scores = make_mi_scores(X,y, discrete_features)\n",
        "mi_scores"
      ]
    },
    {
      "cell_type": "code",
      "execution_count": 27,
      "metadata": {
        "colab": {
          "base_uri": "https://localhost:8080/",
          "height": 318
        },
        "id": "mx3-jzJrsrES",
        "outputId": "5220643c-8545-460d-abef-a6fb51428405"
      },
      "outputs": [
        {
          "output_type": "display_data",
          "data": {
            "text/plain": [
              "<Figure size 500x300 with 1 Axes>"
            ],
            "image/png": "[encoded data removed]"
          },
          "metadata": {}
        }
      ],
      "source": [
        "plt.figure(dpi=100, figsize=(5, 3))\n",
        "plot_mi_scores(mi_scores)"
      ]
    },
    {
      "cell_type": "markdown",
      "metadata": {
        "id": "_-lhMDsgwEGO"
      },
      "source": [
        "Два кандидата на удаление - AveBedrms и Population. Выполним еще одну проверку: построим модели линейной регрессии и рассчитав метрики R2 и RMSE, поочередно удаляя столбцы из X"
      ]
    },
    {
      "cell_type": "code",
      "execution_count": 28,
      "metadata": {
        "id": "ABMLz9slVt0L"
      },
      "outputs": [],
      "source": [
        "def search_cols(X,y, cols, r2, rmse):\n",
        "    \"\"\"\n",
        "    Искренняя благодарность коллеге А. Хрусталеву за идею ф-ии.\n",
        "    Ф-я принимает на вход вектор признаков, целевую переменную,\n",
        "    список признаков для проверки и r2и rmse для baseline.\n",
        "    Поочередно удаляем из вектора  один из признаков, обучаем модель\n",
        "    линейной регрессии и рассчитываем метрики качества- RMSE и R2\n",
        "    Возвращаем список словарей, где указано:\n",
        "    random_state, удаляемая колонка, R2 и RMSE\n",
        "    \"\"\"\n",
        "    r2_test_best=r2\n",
        "    rmse_test_best=rmse\n",
        "    best_cols_to_drop = []\n",
        "    dict_col=dict()\n",
        "\n",
        "    for col in cols:\n",
        "      \n",
        "      tmp_X = X.drop([col], axis=1)\n",
        "      for i in range(43) :          \n",
        "        r2_test,rmse_test, coef,intercept = get_score(tmp_X,y, random_seed=i, model=None)\n",
        "         \n",
        "        if r2_test > r2_test_best:\n",
        "            rmse_test_best = rmse_test\n",
        "            r2_test_best = r2_test\n",
        "           \n",
        "            dict_col['random_state'] = i\n",
        "            dict_col['column'] = col\n",
        "            dict_col['rmse_test'] = rmse_test\n",
        "            dict_col['r2_test'] = r2_test\n",
        "            print(f'random_state: {i}, column:{col}, rmse_test {rmse_test}, r2_test {r2_test} ')\n",
        "            best_cols_to_drop.append(dict_col)\n",
        "     \n",
        "    return  rmse_test_best,r2_test_best,best_cols_to_drop"
      ]
    },
    {
      "cell_type": "code",
      "execution_count": 29,
      "metadata": {
        "colab": {
          "base_uri": "https://localhost:8080/"
        },
        "id": "Iy8wP1O3XaqL",
        "outputId": "d8169bda-fa9d-4ad4-9a74-89bf4c927036"
      },
      "outputs": [
        {
          "output_type": "stream",
          "name": "stdout",
          "text": [
            "random_state: 5, column:HouseAge, rmse_test 0.7388190966675731, r2_test 0.599566285560887 \n",
            "random_state: 7, column:HouseAge, rmse_test 0.7305668645997027, r2_test 0.6004676487648952 \n",
            "random_state: 20, column:HouseAge, rmse_test 0.7322053434227968, r2_test 0.6064427291333337 \n",
            "random_state: 28, column:HouseAge, rmse_test 0.7204453754927291, r2_test 0.6175166683082413 \n",
            "random_state: 28, column:AveRooms, rmse_test 0.7197354411613098, r2_test 0.6182701029735023 \n",
            "random_state: 28, column:Population, rmse_test 0.7122421335572735, r2_test 0.6261772565785643 \n"
          ]
        }
      ],
      "source": [
        "rmse_test_best, r2_test_best, best_cols_to_drop = search_cols(X,y, feature_names, r2, rmse)"
      ]
    },
    {
      "cell_type": "code",
      "execution_count": 30,
      "metadata": {
        "colab": {
          "base_uri": "https://localhost:8080/"
        },
        "id": "a7hCvbloOma6",
        "outputId": "56e4c8dd-4110-4d9a-eaf5-fcac8cc6696b"
      },
      "outputs": [
        {
          "output_type": "execute_result",
          "data": {
            "text/plain": [
              "0.6261772565785643"
            ]
          },
          "metadata": {},
          "execution_count": 30
        }
      ],
      "source": [
        "r2_test_best # Получается, что для выбранного random_state=42 ничего удалять не надо. Так и поступим"
      ]
    },
    {
      "cell_type": "markdown",
      "metadata": {
        "id": "Jg6w4GnxVCtP"
      },
      "source": [
        "# 7. Исследуйте оставленные признаки на выбросы."
      ]
    },
    {
      "cell_type": "markdown",
      "metadata": {
        "id": "1WkmUO7PVQSl"
      },
      "source": [
        "## a. Удалите выбросы в случае обнаружения."
      ]
    },
    {
      "cell_type": "code",
      "source": [
        "def mahalanobis(x= None , data= None , cov= None ):\n",
        "  \"\"\"\n",
        "  Функция для расчета расстояния Maхаланобиса\n",
        "  Расстояние Махаланобиса — это расстояние между двумя точками в \n",
        "  многомерном пространстве. Оно часто используется для поиска выбросов \n",
        "  в статистическом анализе, включающем несколько переменных\n",
        "  https://ru.wikipedia.org/wiki/%D0%A0%D0%B0%D1%81%D1%81%D1%82%D0%BE%D1%8F%D0%BD%D0%B8%D0%B5_%D0%9C%D0%B0%D1%85%D0%B0%D0%BB%D0%B0%D0%BD%D0%BE%D0%B1%D0%B8%D1%81%D0%B0\n",
        "  \"\"\"\n",
        "  x_mu = x - np.mean(data)\n",
        "  if not cov:\n",
        "    cov = np.cov(data.values.T)\n",
        "    inv_covmat = np.linalg.inv(cov)\n",
        "    left = np.dot(x_mu, inv_covmat)\n",
        "    mahal = np.dot(left, x_mu.T)\n",
        "  return mahal.diagonal()"
      ],
      "metadata": {
        "id": "WdJUYf3mySah"
      },
      "execution_count": 31,
      "outputs": []
    },
    {
      "cell_type": "code",
      "source": [
        "df['mahalanobis'] = mahalanobis(x=df, data=df[list(df.columns)])\n",
        "df['p'] = 1 - chi2.cdf(df['mahalanobis'], 3)\n",
        "\n",
        "#Обычно выбросом считается p-значение меньше 0,001\n",
        "tmp=df[df['p']>0.001]\n",
        "tmp.head()"
      ],
      "metadata": {
        "colab": {
          "base_uri": "https://localhost:8080/",
          "height": 206
        },
        "id": "Jt-ROl0VfeCK",
        "outputId": "ff0458a3-ac57-4ecb-c4c4-606305f35328"
      },
      "execution_count": 32,
      "outputs": [
        {
          "output_type": "execute_result",
          "data": {
            "text/plain": [
              "   MedInc  HouseAge  AveRooms  AveBedrms  Population  AveOccup  Latitude  \\\n",
              "0  8.3252      41.0  6.984127   1.023810       322.0  2.555556     37.88   \n",
              "1  8.3014      21.0  6.238137   0.971880      2401.0  2.109842     37.86   \n",
              "2  7.2574      52.0  8.288136   1.073446       496.0  2.802260     37.85   \n",
              "3  5.6431      52.0  5.817352   1.073059       558.0  2.547945     37.85   \n",
              "4  3.8462      52.0  6.281853   1.081081       565.0  2.181467     37.85   \n",
              "\n",
              "   Longitude  MedHouseVal  mahalanobis         p  \n",
              "0    -122.23        4.526     9.481103  0.023533  \n",
              "1    -122.22        3.585     9.688851  0.021405  \n",
              "2    -122.24        3.521    11.169189  0.010845  \n",
              "3    -122.25        3.413     6.326904  0.096745  \n",
              "4    -122.25        3.422     8.250569  0.041107  "
            ],
            "text/html": [
              "\n",
              "  <div id=\"df-1d01d594-de92-4862-8a56-844b8289e59c\">\n",
              "    <div class=\"colab-df-container\">\n",
              "      <div>\n",
              "<style scoped>\n",
              "    .dataframe tbody tr th:only-of-type {\n",
              "        vertical-align: middle;\n",
              "    }\n",
              "\n",
              "    .dataframe tbody tr th {\n",
              "        vertical-align: top;\n",
              "    }\n",
              "\n",
              "    .dataframe thead th {\n",
              "        text-align: right;\n",
              "    }\n",
              "</style>\n",
              "<table border=\"1\" class=\"dataframe\">\n",
              "  <thead>\n",
              "    <tr style=\"text-align: right;\">\n",
              "      <th></th>\n",
              "      <th>MedInc</th>\n",
              "      <th>HouseAge</th>\n",
              "      <th>AveRooms</th>\n",
              "      <th>AveBedrms</th>\n",
              "      <th>Population</th>\n",
              "      <th>AveOccup</th>\n",
              "      <th>Latitude</th>\n",
              "      <th>Longitude</th>\n",
              "      <th>MedHouseVal</th>\n",
              "      <th>mahalanobis</th>\n",
              "      <th>p</th>\n",
              "    </tr>\n",
              "  </thead>\n",
              "  <tbody>\n",
              "    <tr>\n",
              "      <th>0</th>\n",
              "      <td>8.3252</td>\n",
              "      <td>41.0</td>\n",
              "      <td>6.984127</td>\n",
              "      <td>1.023810</td>\n",
              "      <td>322.0</td>\n",
              "      <td>2.555556</td>\n",
              "      <td>37.88</td>\n",
              "      <td>-122.23</td>\n",
              "      <td>4.526</td>\n",
              "      <td>9.481103</td>\n",
              "      <td>0.023533</td>\n",
              "    </tr>\n",
              "    <tr>\n",
              "      <th>1</th>\n",
              "      <td>8.3014</td>\n",
              "      <td>21.0</td>\n",
              "      <td>6.238137</td>\n",
              "      <td>0.971880</td>\n",
              "      <td>2401.0</td>\n",
              "      <td>2.109842</td>\n",
              "      <td>37.86</td>\n",
              "      <td>-122.22</td>\n",
              "      <td>3.585</td>\n",
              "      <td>9.688851</td>\n",
              "      <td>0.021405</td>\n",
              "    </tr>\n",
              "    <tr>\n",
              "      <th>2</th>\n",
              "      <td>7.2574</td>\n",
              "      <td>52.0</td>\n",
              "      <td>8.288136</td>\n",
              "      <td>1.073446</td>\n",
              "      <td>496.0</td>\n",
              "      <td>2.802260</td>\n",
              "      <td>37.85</td>\n",
              "      <td>-122.24</td>\n",
              "      <td>3.521</td>\n",
              "      <td>11.169189</td>\n",
              "      <td>0.010845</td>\n",
              "    </tr>\n",
              "    <tr>\n",
              "      <th>3</th>\n",
              "      <td>5.6431</td>\n",
              "      <td>52.0</td>\n",
              "      <td>5.817352</td>\n",
              "      <td>1.073059</td>\n",
              "      <td>558.0</td>\n",
              "      <td>2.547945</td>\n",
              "      <td>37.85</td>\n",
              "      <td>-122.25</td>\n",
              "      <td>3.413</td>\n",
              "      <td>6.326904</td>\n",
              "      <td>0.096745</td>\n",
              "    </tr>\n",
              "    <tr>\n",
              "      <th>4</th>\n",
              "      <td>3.8462</td>\n",
              "      <td>52.0</td>\n",
              "      <td>6.281853</td>\n",
              "      <td>1.081081</td>\n",
              "      <td>565.0</td>\n",
              "      <td>2.181467</td>\n",
              "      <td>37.85</td>\n",
              "      <td>-122.25</td>\n",
              "      <td>3.422</td>\n",
              "      <td>8.250569</td>\n",
              "      <td>0.041107</td>\n",
              "    </tr>\n",
              "  </tbody>\n",
              "</table>\n",
              "</div>\n",
              "      <button class=\"colab-df-convert\" onclick=\"convertToInteractive('df-1d01d594-de92-4862-8a56-844b8289e59c')\"\n",
              "              title=\"Convert this dataframe to an interactive table.\"\n",
              "              style=\"display:none;\">\n",
              "        \n",
              "  <svg xmlns=\"http://www.w3.org/2000/svg\" height=\"24px\"viewBox=\"0 0 24 24\"\n",
              "       width=\"24px\">\n",
              "    <path d=\"M0 0h24v24H0V0z\" fill=\"none\"/>\n",
              "    <path d=\"M18.56 5.44l.94 2.06.94-2.06 2.06-.94-2.06-.94-.94-2.06-.94 2.06-2.06.94zm-11 1L8.5 8.5l.94-2.06 2.06-.94-2.06-.94L8.5 2.5l-.94 2.06-2.06.94zm10 10l.94 2.06.94-2.06 2.06-.94-2.06-.94-.94-2.06-.94 2.06-2.06.94z\"/><path d=\"M17.41 7.96l-1.37-1.37c-.4-.4-.92-.59-1.43-.59-.52 0-1.04.2-1.43.59L10.3 9.45l-7.72 7.72c-.78.78-.78 2.05 0 2.83L4 21.41c.39.39.9.59 1.41.59.51 0 1.02-.2 1.41-.59l7.78-7.78 2.81-2.81c.8-.78.8-2.07 0-2.86zM5.41 20L4 18.59l7.72-7.72 1.47 1.35L5.41 20z\"/>\n",
              "  </svg>\n",
              "      </button>\n",
              "      \n",
              "  <style>\n",
              "    .colab-df-container {\n",
              "      display:flex;\n",
              "      flex-wrap:wrap;\n",
              "      gap: 12px;\n",
              "    }\n",
              "\n",
              "    .colab-df-convert {\n",
              "      background-color: #E8F0FE;\n",
              "      border: none;\n",
              "      border-radius: 50%;\n",
              "      cursor: pointer;\n",
              "      display: none;\n",
              "      fill: #1967D2;\n",
              "      height: 32px;\n",
              "      padding: 0 0 0 0;\n",
              "      width: 32px;\n",
              "    }\n",
              "\n",
              "    .colab-df-convert:hover {\n",
              "      background-color: #E2EBFA;\n",
              "      box-shadow: 0px 1px 2px rgba(60, 64, 67, 0.3), 0px 1px 3px 1px rgba(60, 64, 67, 0.15);\n",
              "      fill: #174EA6;\n",
              "    }\n",
              "\n",
              "    [theme=dark] .colab-df-convert {\n",
              "      background-color: #3B4455;\n",
              "      fill: #D2E3FC;\n",
              "    }\n",
              "\n",
              "    [theme=dark] .colab-df-convert:hover {\n",
              "      background-color: #434B5C;\n",
              "      box-shadow: 0px 1px 3px 1px rgba(0, 0, 0, 0.15);\n",
              "      filter: drop-shadow(0px 1px 2px rgba(0, 0, 0, 0.3));\n",
              "      fill: #FFFFFF;\n",
              "    }\n",
              "  </style>\n",
              "\n",
              "      <script>\n",
              "        const buttonEl =\n",
              "          document.querySelector('#df-1d01d594-de92-4862-8a56-844b8289e59c button.colab-df-convert');\n",
              "        buttonEl.style.display =\n",
              "          google.colab.kernel.accessAllowed ? 'block' : 'none';\n",
              "\n",
              "        async function convertToInteractive(key) {\n",
              "          const element = document.querySelector('#df-1d01d594-de92-4862-8a56-844b8289e59c');\n",
              "          const dataTable =\n",
              "            await google.colab.kernel.invokeFunction('convertToInteractive',\n",
              "                                                     [key], {});\n",
              "          if (!dataTable) return;\n",
              "\n",
              "          const docLinkHtml = 'Like what you see? Visit the ' +\n",
              "            '<a target=\"_blank\" href=https://colab.research.google.com/notebooks/data_table.ipynb>data table notebook</a>'\n",
              "            + ' to learn more about interactive tables.';\n",
              "          element.innerHTML = '';\n",
              "          dataTable['output_type'] = 'display_data';\n",
              "          await google.colab.output.renderOutput(dataTable, element);\n",
              "          const docLink = document.createElement('div');\n",
              "          docLink.innerHTML = docLinkHtml;\n",
              "          element.appendChild(docLink);\n",
              "        }\n",
              "      </script>\n",
              "    </div>\n",
              "  </div>\n",
              "  "
            ]
          },
          "metadata": {},
          "execution_count": 32
        }
      ]
    },
    {
      "cell_type": "code",
      "source": [
        "tmp.shape"
      ],
      "metadata": {
        "colab": {
          "base_uri": "https://localhost:8080/"
        },
        "id": "QtDaXQr-hCFg",
        "outputId": "19b9b438-e255-41c5-d676-ab8b72857aa8"
      },
      "execution_count": 33,
      "outputs": [
        {
          "output_type": "execute_result",
          "data": {
            "text/plain": [
              "(19469, 11)"
            ]
          },
          "metadata": {},
          "execution_count": 33
        }
      ]
    },
    {
      "cell_type": "code",
      "source": [
        "a=list(tmp.columns)\n",
        "a.remove('mahalanobis')\n",
        "a.remove('p')"
      ],
      "metadata": {
        "id": "teEZbtSjiFag"
      },
      "execution_count": 34,
      "outputs": []
    },
    {
      "cell_type": "code",
      "source": [
        "df=tmp.loc[:, a]\n",
        "df.head()"
      ],
      "metadata": {
        "colab": {
          "base_uri": "https://localhost:8080/",
          "height": 206
        },
        "id": "EcrPhg1ihnCK",
        "outputId": "d346b8ca-bc1f-4796-ebe0-a63c602ed151"
      },
      "execution_count": 35,
      "outputs": [
        {
          "output_type": "execute_result",
          "data": {
            "text/plain": [
              "   MedInc  HouseAge  AveRooms  AveBedrms  Population  AveOccup  Latitude  \\\n",
              "0  8.3252      41.0  6.984127   1.023810       322.0  2.555556     37.88   \n",
              "1  8.3014      21.0  6.238137   0.971880      2401.0  2.109842     37.86   \n",
              "2  7.2574      52.0  8.288136   1.073446       496.0  2.802260     37.85   \n",
              "3  5.6431      52.0  5.817352   1.073059       558.0  2.547945     37.85   \n",
              "4  3.8462      52.0  6.281853   1.081081       565.0  2.181467     37.85   \n",
              "\n",
              "   Longitude  MedHouseVal  \n",
              "0    -122.23        4.526  \n",
              "1    -122.22        3.585  \n",
              "2    -122.24        3.521  \n",
              "3    -122.25        3.413  \n",
              "4    -122.25        3.422  "
            ],
            "text/html": [
              "\n",
              "  <div id=\"df-0c44c1d4-f42c-42f0-84fa-9d6a3630b8bf\">\n",
              "    <div class=\"colab-df-container\">\n",
              "      <div>\n",
              "<style scoped>\n",
              "    .dataframe tbody tr th:only-of-type {\n",
              "        vertical-align: middle;\n",
              "    }\n",
              "\n",
              "    .dataframe tbody tr th {\n",
              "        vertical-align: top;\n",
              "    }\n",
              "\n",
              "    .dataframe thead th {\n",
              "        text-align: right;\n",
              "    }\n",
              "</style>\n",
              "<table border=\"1\" class=\"dataframe\">\n",
              "  <thead>\n",
              "    <tr style=\"text-align: right;\">\n",
              "      <th></th>\n",
              "      <th>MedInc</th>\n",
              "      <th>HouseAge</th>\n",
              "      <th>AveRooms</th>\n",
              "      <th>AveBedrms</th>\n",
              "      <th>Population</th>\n",
              "      <th>AveOccup</th>\n",
              "      <th>Latitude</th>\n",
              "      <th>Longitude</th>\n",
              "      <th>MedHouseVal</th>\n",
              "    </tr>\n",
              "  </thead>\n",
              "  <tbody>\n",
              "    <tr>\n",
              "      <th>0</th>\n",
              "      <td>8.3252</td>\n",
              "      <td>41.0</td>\n",
              "      <td>6.984127</td>\n",
              "      <td>1.023810</td>\n",
              "      <td>322.0</td>\n",
              "      <td>2.555556</td>\n",
              "      <td>37.88</td>\n",
              "      <td>-122.23</td>\n",
              "      <td>4.526</td>\n",
              "    </tr>\n",
              "    <tr>\n",
              "      <th>1</th>\n",
              "      <td>8.3014</td>\n",
              "      <td>21.0</td>\n",
              "      <td>6.238137</td>\n",
              "      <td>0.971880</td>\n",
              "      <td>2401.0</td>\n",
              "      <td>2.109842</td>\n",
              "      <td>37.86</td>\n",
              "      <td>-122.22</td>\n",
              "      <td>3.585</td>\n",
              "    </tr>\n",
              "    <tr>\n",
              "      <th>2</th>\n",
              "      <td>7.2574</td>\n",
              "      <td>52.0</td>\n",
              "      <td>8.288136</td>\n",
              "      <td>1.073446</td>\n",
              "      <td>496.0</td>\n",
              "      <td>2.802260</td>\n",
              "      <td>37.85</td>\n",
              "      <td>-122.24</td>\n",
              "      <td>3.521</td>\n",
              "    </tr>\n",
              "    <tr>\n",
              "      <th>3</th>\n",
              "      <td>5.6431</td>\n",
              "      <td>52.0</td>\n",
              "      <td>5.817352</td>\n",
              "      <td>1.073059</td>\n",
              "      <td>558.0</td>\n",
              "      <td>2.547945</td>\n",
              "      <td>37.85</td>\n",
              "      <td>-122.25</td>\n",
              "      <td>3.413</td>\n",
              "    </tr>\n",
              "    <tr>\n",
              "      <th>4</th>\n",
              "      <td>3.8462</td>\n",
              "      <td>52.0</td>\n",
              "      <td>6.281853</td>\n",
              "      <td>1.081081</td>\n",
              "      <td>565.0</td>\n",
              "      <td>2.181467</td>\n",
              "      <td>37.85</td>\n",
              "      <td>-122.25</td>\n",
              "      <td>3.422</td>\n",
              "    </tr>\n",
              "  </tbody>\n",
              "</table>\n",
              "</div>\n",
              "      <button class=\"colab-df-convert\" onclick=\"convertToInteractive('df-0c44c1d4-f42c-42f0-84fa-9d6a3630b8bf')\"\n",
              "              title=\"Convert this dataframe to an interactive table.\"\n",
              "              style=\"display:none;\">\n",
              "        \n",
              "  <svg xmlns=\"http://www.w3.org/2000/svg\" height=\"24px\"viewBox=\"0 0 24 24\"\n",
              "       width=\"24px\">\n",
              "    <path d=\"M0 0h24v24H0V0z\" fill=\"none\"/>\n",
              "    <path d=\"M18.56 5.44l.94 2.06.94-2.06 2.06-.94-2.06-.94-.94-2.06-.94 2.06-2.06.94zm-11 1L8.5 8.5l.94-2.06 2.06-.94-2.06-.94L8.5 2.5l-.94 2.06-2.06.94zm10 10l.94 2.06.94-2.06 2.06-.94-2.06-.94-.94-2.06-.94 2.06-2.06.94z\"/><path d=\"M17.41 7.96l-1.37-1.37c-.4-.4-.92-.59-1.43-.59-.52 0-1.04.2-1.43.59L10.3 9.45l-7.72 7.72c-.78.78-.78 2.05 0 2.83L4 21.41c.39.39.9.59 1.41.59.51 0 1.02-.2 1.41-.59l7.78-7.78 2.81-2.81c.8-.78.8-2.07 0-2.86zM5.41 20L4 18.59l7.72-7.72 1.47 1.35L5.41 20z\"/>\n",
              "  </svg>\n",
              "      </button>\n",
              "      \n",
              "  <style>\n",
              "    .colab-df-container {\n",
              "      display:flex;\n",
              "      flex-wrap:wrap;\n",
              "      gap: 12px;\n",
              "    }\n",
              "\n",
              "    .colab-df-convert {\n",
              "      background-color: #E8F0FE;\n",
              "      border: none;\n",
              "      border-radius: 50%;\n",
              "      cursor: pointer;\n",
              "      display: none;\n",
              "      fill: #1967D2;\n",
              "      height: 32px;\n",
              "      padding: 0 0 0 0;\n",
              "      width: 32px;\n",
              "    }\n",
              "\n",
              "    .colab-df-convert:hover {\n",
              "      background-color: #E2EBFA;\n",
              "      box-shadow: 0px 1px 2px rgba(60, 64, 67, 0.3), 0px 1px 3px 1px rgba(60, 64, 67, 0.15);\n",
              "      fill: #174EA6;\n",
              "    }\n",
              "\n",
              "    [theme=dark] .colab-df-convert {\n",
              "      background-color: #3B4455;\n",
              "      fill: #D2E3FC;\n",
              "    }\n",
              "\n",
              "    [theme=dark] .colab-df-convert:hover {\n",
              "      background-color: #434B5C;\n",
              "      box-shadow: 0px 1px 3px 1px rgba(0, 0, 0, 0.15);\n",
              "      filter: drop-shadow(0px 1px 2px rgba(0, 0, 0, 0.3));\n",
              "      fill: #FFFFFF;\n",
              "    }\n",
              "  </style>\n",
              "\n",
              "      <script>\n",
              "        const buttonEl =\n",
              "          document.querySelector('#df-0c44c1d4-f42c-42f0-84fa-9d6a3630b8bf button.colab-df-convert');\n",
              "        buttonEl.style.display =\n",
              "          google.colab.kernel.accessAllowed ? 'block' : 'none';\n",
              "\n",
              "        async function convertToInteractive(key) {\n",
              "          const element = document.querySelector('#df-0c44c1d4-f42c-42f0-84fa-9d6a3630b8bf');\n",
              "          const dataTable =\n",
              "            await google.colab.kernel.invokeFunction('convertToInteractive',\n",
              "                                                     [key], {});\n",
              "          if (!dataTable) return;\n",
              "\n",
              "          const docLinkHtml = 'Like what you see? Visit the ' +\n",
              "            '<a target=\"_blank\" href=https://colab.research.google.com/notebooks/data_table.ipynb>data table notebook</a>'\n",
              "            + ' to learn more about interactive tables.';\n",
              "          element.innerHTML = '';\n",
              "          dataTable['output_type'] = 'display_data';\n",
              "          await google.colab.output.renderOutput(dataTable, element);\n",
              "          const docLink = document.createElement('div');\n",
              "          docLink.innerHTML = docLinkHtml;\n",
              "          element.appendChild(docLink);\n",
              "        }\n",
              "      </script>\n",
              "    </div>\n",
              "  </div>\n",
              "  "
            ]
          },
          "metadata": {},
          "execution_count": 35
        }
      ]
    },
    {
      "cell_type": "code",
      "source": [
        "X=df.drop(columns=['MedHouseVal'])\n",
        "y=df['MedHouseVal']"
      ],
      "metadata": {
        "id": "KaP9QuZWiYCu"
      },
      "execution_count": 36,
      "outputs": []
    },
    {
      "cell_type": "markdown",
      "metadata": {
        "id": "DEricqQMVUI9"
      },
      "source": [
        "## b. Повторите п. 3, п. 4 на измененных данных."
      ]
    },
    {
      "cell_type": "code",
      "execution_count": 37,
      "metadata": {
        "colab": {
          "base_uri": "https://localhost:8080/"
        },
        "id": "ddqVspup3-z0",
        "outputId": "96ce2328-5f48-461e-ff97-2d3ae1e62dff"
      },
      "outputs": [
        {
          "output_type": "stream",
          "name": "stdout",
          "text": [
            "Изменения в метриках качества после удаления выбросов\n",
            "R2 = 0.6960762136542791, RMSE = 0.6069678518839074\n",
            "Изменения в метриках:R2 увеличилась на 16.836353271516998%, RMSE уменьшилась на -16.671176190445518%\n"
          ]
        }
      ],
      "source": [
        "r2_1, rmse_1, coef_1, intercept_1 = get_score(X, y, random_seed=42, model=None)\n",
        "print('Изменения в метриках качества после удаления выбросов')\n",
        "print(f'R2 = {r2_1}, RMSE = {rmse_1}')\n",
        "print(f'Изменения в метриках:R2 увеличилась на {(r2_1-r2)/r2*100.}%, RMSE уменьшилась на {(rmse_1 - rmse)/rmse * 100.}%')"
      ]
    },
    {
      "cell_type": "code",
      "source": [
        "stage = 'Удаление выбросов'"
      ],
      "metadata": {
        "id": "4FCb7CsNFZ7I"
      },
      "execution_count": 38,
      "outputs": []
    },
    {
      "cell_type": "code",
      "source": [
        "results.loc[len(results.index)] = [stage,r2_1, rmse_1, list(X.columns), '', intercept_1, coef_1]"
      ],
      "metadata": {
        "id": "--RS4wSKFVE8"
      },
      "execution_count": 39,
      "outputs": []
    },
    {
      "cell_type": "code",
      "source": [
        "results.head()"
      ],
      "metadata": {
        "colab": {
          "base_uri": "https://localhost:8080/",
          "height": 112
        },
        "id": "Pm9_d9XIFl3T",
        "outputId": "a601fc78-0dc6-4d40-a636-99eeec310f08"
      },
      "execution_count": 40,
      "outputs": [
        {
          "output_type": "execute_result",
          "data": {
            "text/plain": [
              "               stage        R2      RMSE  \\\n",
              "0           BaseLine  0.595770  0.728401   \n",
              "1  Удаление выбросов  0.696076  0.606968   \n",
              "\n",
              "                                            Features Transformations  \\\n",
              "0  [MedInc, HouseAge, AveRooms, AveBedrms, Popula...                   \n",
              "1  [MedInc, HouseAge, AveRooms, AveBedrms, Popula...                   \n",
              "\n",
              "   Intercept                                               Coef  \n",
              "0   2.069240  [0.8492217601003719, 0.12211930906462487, -0.2...  \n",
              "1   2.011034  [0.862958451803064, 0.1479600847365695, -0.210...  "
            ],
            "text/html": [
              "\n",
              "  <div id=\"df-59f85f84-63be-45b7-ac8f-6ca39636c241\">\n",
              "    <div class=\"colab-df-container\">\n",
              "      <div>\n",
              "<style scoped>\n",
              "    .dataframe tbody tr th:only-of-type {\n",
              "        vertical-align: middle;\n",
              "    }\n",
              "\n",
              "    .dataframe tbody tr th {\n",
              "        vertical-align: top;\n",
              "    }\n",
              "\n",
              "    .dataframe thead th {\n",
              "        text-align: right;\n",
              "    }\n",
              "</style>\n",
              "<table border=\"1\" class=\"dataframe\">\n",
              "  <thead>\n",
              "    <tr style=\"text-align: right;\">\n",
              "      <th></th>\n",
              "      <th>stage</th>\n",
              "      <th>R2</th>\n",
              "      <th>RMSE</th>\n",
              "      <th>Features</th>\n",
              "      <th>Transformations</th>\n",
              "      <th>Intercept</th>\n",
              "      <th>Coef</th>\n",
              "    </tr>\n",
              "  </thead>\n",
              "  <tbody>\n",
              "    <tr>\n",
              "      <th>0</th>\n",
              "      <td>BaseLine</td>\n",
              "      <td>0.595770</td>\n",
              "      <td>0.728401</td>\n",
              "      <td>[MedInc, HouseAge, AveRooms, AveBedrms, Popula...</td>\n",
              "      <td></td>\n",
              "      <td>2.069240</td>\n",
              "      <td>[0.8492217601003719, 0.12211930906462487, -0.2...</td>\n",
              "    </tr>\n",
              "    <tr>\n",
              "      <th>1</th>\n",
              "      <td>Удаление выбросов</td>\n",
              "      <td>0.696076</td>\n",
              "      <td>0.606968</td>\n",
              "      <td>[MedInc, HouseAge, AveRooms, AveBedrms, Popula...</td>\n",
              "      <td></td>\n",
              "      <td>2.011034</td>\n",
              "      <td>[0.862958451803064, 0.1479600847365695, -0.210...</td>\n",
              "    </tr>\n",
              "  </tbody>\n",
              "</table>\n",
              "</div>\n",
              "      <button class=\"colab-df-convert\" onclick=\"convertToInteractive('df-59f85f84-63be-45b7-ac8f-6ca39636c241')\"\n",
              "              title=\"Convert this dataframe to an interactive table.\"\n",
              "              style=\"display:none;\">\n",
              "        \n",
              "  <svg xmlns=\"http://www.w3.org/2000/svg\" height=\"24px\"viewBox=\"0 0 24 24\"\n",
              "       width=\"24px\">\n",
              "    <path d=\"M0 0h24v24H0V0z\" fill=\"none\"/>\n",
              "    <path d=\"M18.56 5.44l.94 2.06.94-2.06 2.06-.94-2.06-.94-.94-2.06-.94 2.06-2.06.94zm-11 1L8.5 8.5l.94-2.06 2.06-.94-2.06-.94L8.5 2.5l-.94 2.06-2.06.94zm10 10l.94 2.06.94-2.06 2.06-.94-2.06-.94-.94-2.06-.94 2.06-2.06.94z\"/><path d=\"M17.41 7.96l-1.37-1.37c-.4-.4-.92-.59-1.43-.59-.52 0-1.04.2-1.43.59L10.3 9.45l-7.72 7.72c-.78.78-.78 2.05 0 2.83L4 21.41c.39.39.9.59 1.41.59.51 0 1.02-.2 1.41-.59l7.78-7.78 2.81-2.81c.8-.78.8-2.07 0-2.86zM5.41 20L4 18.59l7.72-7.72 1.47 1.35L5.41 20z\"/>\n",
              "  </svg>\n",
              "      </button>\n",
              "      \n",
              "  <style>\n",
              "    .colab-df-container {\n",
              "      display:flex;\n",
              "      flex-wrap:wrap;\n",
              "      gap: 12px;\n",
              "    }\n",
              "\n",
              "    .colab-df-convert {\n",
              "      background-color: #E8F0FE;\n",
              "      border: none;\n",
              "      border-radius: 50%;\n",
              "      cursor: pointer;\n",
              "      display: none;\n",
              "      fill: #1967D2;\n",
              "      height: 32px;\n",
              "      padding: 0 0 0 0;\n",
              "      width: 32px;\n",
              "    }\n",
              "\n",
              "    .colab-df-convert:hover {\n",
              "      background-color: #E2EBFA;\n",
              "      box-shadow: 0px 1px 2px rgba(60, 64, 67, 0.3), 0px 1px 3px 1px rgba(60, 64, 67, 0.15);\n",
              "      fill: #174EA6;\n",
              "    }\n",
              "\n",
              "    [theme=dark] .colab-df-convert {\n",
              "      background-color: #3B4455;\n",
              "      fill: #D2E3FC;\n",
              "    }\n",
              "\n",
              "    [theme=dark] .colab-df-convert:hover {\n",
              "      background-color: #434B5C;\n",
              "      box-shadow: 0px 1px 3px 1px rgba(0, 0, 0, 0.15);\n",
              "      filter: drop-shadow(0px 1px 2px rgba(0, 0, 0, 0.3));\n",
              "      fill: #FFFFFF;\n",
              "    }\n",
              "  </style>\n",
              "\n",
              "      <script>\n",
              "        const buttonEl =\n",
              "          document.querySelector('#df-59f85f84-63be-45b7-ac8f-6ca39636c241 button.colab-df-convert');\n",
              "        buttonEl.style.display =\n",
              "          google.colab.kernel.accessAllowed ? 'block' : 'none';\n",
              "\n",
              "        async function convertToInteractive(key) {\n",
              "          const element = document.querySelector('#df-59f85f84-63be-45b7-ac8f-6ca39636c241');\n",
              "          const dataTable =\n",
              "            await google.colab.kernel.invokeFunction('convertToInteractive',\n",
              "                                                     [key], {});\n",
              "          if (!dataTable) return;\n",
              "\n",
              "          const docLinkHtml = 'Like what you see? Visit the ' +\n",
              "            '<a target=\"_blank\" href=https://colab.research.google.com/notebooks/data_table.ipynb>data table notebook</a>'\n",
              "            + ' to learn more about interactive tables.';\n",
              "          element.innerHTML = '';\n",
              "          dataTable['output_type'] = 'display_data';\n",
              "          await google.colab.output.renderOutput(dataTable, element);\n",
              "          const docLink = document.createElement('div');\n",
              "          docLink.innerHTML = docLinkHtml;\n",
              "          element.appendChild(docLink);\n",
              "        }\n",
              "      </script>\n",
              "    </div>\n",
              "  </div>\n",
              "  "
            ]
          },
          "metadata": {},
          "execution_count": 40
        }
      ]
    },
    {
      "cell_type": "markdown",
      "metadata": {
        "id": "IC82MqadVKSC"
      },
      "source": [
        "# 8. Измените несколько признаков на выбор математически. Например, вычислите логарифм, возведите в квадрат, извлеките квадратный корень."
      ]
    },
    {
      "cell_type": "markdown",
      "metadata": {
        "id": "lTolwdXsVqBq"
      },
      "source": [
        "## a. Повторите п. 3, п. 4 на измененных данных."
      ]
    },
    {
      "cell_type": "code",
      "source": [
        "def transform_cols(X,y, cols,rmse_test_best,r2_test_best, random_seed):\n",
        "  \"\"\"\n",
        "  Функция исследует влияние трансформации признаков на метрики качества линейной регрессии\n",
        "\n",
        "  \"\"\"\n",
        "  transformations=[]\n",
        "  \n",
        "  methods = ['sqrt','log', 'lod1p', 'power2', 'power3', 'power4', 'power5']\n",
        "  \n",
        "  for col in cols:\n",
        "    transformation = dict() \n",
        "    rmse_test_best = 0\n",
        "    r2_test_best = 0\n",
        "    for method in methods:\n",
        "      tmp_X = X.copy()\n",
        "      if method == 'sqrt' :\n",
        "        tmp_X[col]=np.sqrt(abs(tmp_X[col]))\n",
        "      elif method=='log' :\n",
        "        tmp_X[col] = (abs(tmp_X[col])+1).transform(np.log)\n",
        "      elif method == 'log1p' :\n",
        "        tmp_X[col] = (abs(tmp_X[col])+1).transform(np.log1p)\n",
        "      elif method == 'power2' :\n",
        "        tmp_X[col]= tmp_X[col]**2\n",
        "      elif method == 'power3':\n",
        "        tmp_X[col]= tmp_X[col]**3\n",
        "      elif method == 'power4' :  \n",
        "        tmp_X[col]= tmp_X[col]**4\n",
        "    \n",
        "      r2_test, rmse_test, coef,intercept = get_score(tmp_X,y, random_seed=random_seed, model=None)  \n",
        "      # print(f'{method}:{col}: r2_test {r2_test} rmse_test {rmse_test}')              \n",
        "      if rmse_test< rmse_test_best or r2_test > r2_test_best:\n",
        "          rmse_test_best = rmse_test\n",
        "          r2_test_best = r2_test\n",
        "         \n",
        "          transformation['method'] = method\n",
        "          transformation['column'] = col\n",
        "          transformation['r2'] = r2_test_best\n",
        "          transformation['rmse'] = rmse_test_best\n",
        "\n",
        "    transformations.append(transformation)\n",
        " \n",
        "  return transformations"
      ],
      "metadata": {
        "id": "-_Y2njBzutsH"
      },
      "execution_count": 41,
      "outputs": []
    },
    {
      "cell_type": "code",
      "source": [
        "tmp=df.copy()\n",
        "y=tmp['MedHouseVal']\n",
        "X=tmp.drop(columns=['MedHouseVal'])\n",
        "cols=list(X.columns)"
      ],
      "metadata": {
        "id": "YWGlJeO9tpsp"
      },
      "execution_count": 42,
      "outputs": []
    },
    {
      "cell_type": "code",
      "execution_count": 43,
      "metadata": {
        "colab": {
          "base_uri": "https://localhost:8080/"
        },
        "id": "sEWZ0vKLFJAP",
        "outputId": "0493daee-63f3-4aca-8e0e-455f374b30b0"
      },
      "outputs": [
        {
          "output_type": "execute_result",
          "data": {
            "text/plain": [
              "['MedInc',\n",
              " 'HouseAge',\n",
              " 'AveRooms',\n",
              " 'AveBedrms',\n",
              " 'Population',\n",
              " 'AveOccup',\n",
              " 'Latitude',\n",
              " 'Longitude']"
            ]
          },
          "metadata": {},
          "execution_count": 43
        }
      ],
      "source": [
        "cols"
      ]
    },
    {
      "cell_type": "markdown",
      "source": [
        "посмотрим на изменения в метриках качества модели при различных трансформациях колонок"
      ],
      "metadata": {
        "id": "kstUDoTWzzzj"
      }
    },
    {
      "cell_type": "code",
      "execution_count": 44,
      "metadata": {
        "id": "ws2esNwSe4X8"
      },
      "outputs": [],
      "source": [
        "transformations = transform_cols(X,y, cols,rmse_1,r2_1, 42)"
      ]
    },
    {
      "cell_type": "code",
      "execution_count": 45,
      "metadata": {
        "colab": {
          "base_uri": "https://localhost:8080/"
        },
        "id": "bTKrzE52RZIP",
        "outputId": "b00c86a1-7179-4046-de3f-148960b523dc"
      },
      "outputs": [
        {
          "output_type": "execute_result",
          "data": {
            "text/plain": [
              "[{'method': 'lod1p',\n",
              "  'column': 'MedInc',\n",
              "  'r2': 0.6960762136542791,\n",
              "  'rmse': 0.6069678518839074},\n",
              " {'method': 'lod1p',\n",
              "  'column': 'HouseAge',\n",
              "  'r2': 0.6960762136542791,\n",
              "  'rmse': 0.6069678518839074},\n",
              " {'method': 'log',\n",
              "  'column': 'AveRooms',\n",
              "  'r2': 0.6976669104802437,\n",
              "  'rmse': 0.605377373410432},\n",
              " {'method': 'log',\n",
              "  'column': 'AveBedrms',\n",
              "  'r2': 0.6971803072632001,\n",
              "  'rmse': 0.6058643530900153},\n",
              " {'method': 'sqrt',\n",
              "  'column': 'Population',\n",
              "  'r2': 0.6961371507369013,\n",
              "  'rmse': 0.6069069999434477},\n",
              " {'method': 'log',\n",
              "  'column': 'AveOccup',\n",
              "  'r2': 0.7080887874511884,\n",
              "  'rmse': 0.5948517343236779},\n",
              " {'method': 'log',\n",
              "  'column': 'Latitude',\n",
              "  'r2': 0.6963434539825413,\n",
              "  'rmse': 0.6067009396381857},\n",
              " {'method': 'log',\n",
              "  'column': 'Longitude',\n",
              "  'r2': 0.6962464397427635,\n",
              "  'rmse': 0.6067978483510328}]"
            ]
          },
          "metadata": {},
          "execution_count": 45
        }
      ],
      "source": [
        "transformations # показывает лучший вариант трансформации для каждого столбца при условии, что транформации подвергается только этот столбец"
      ]
    },
    {
      "cell_type": "markdown",
      "source": [
        "Базовые метрики после удаления выбросов: R2 = 0.6960762136542791, RMSE = 0.6069678518839074\n",
        "\n",
        "Планируется, что при трансформации следующих признаков будет достигнуто улучшение:  \n",
        "*    Population(0.6961371507369013)\n",
        "*    Longitude (0.6962464397427635)\n",
        "*    Latitude (0.6963434539825413)\n",
        "*    AveBedrms (0.6971803072632001)\n",
        "*    AveRooms (0.6976669104802437)\n",
        "*    AveOccup (0.7080887874511884)\n"
      ],
      "metadata": {
        "id": "XRDamja1qGuO"
      }
    },
    {
      "cell_type": "code",
      "source": [
        "y=tmp['MedHouseVal']\n",
        "X=tmp.drop(columns=['MedHouseVal'])"
      ],
      "metadata": {
        "id": "4jriLqUON-B0"
      },
      "execution_count": 46,
      "outputs": []
    },
    {
      "cell_type": "code",
      "source": [
        "X.head()"
      ],
      "metadata": {
        "colab": {
          "base_uri": "https://localhost:8080/",
          "height": 206
        },
        "id": "jUwH4oeINo1u",
        "outputId": "ccd538da-69a8-4887-d723-dd605a840b8a"
      },
      "execution_count": 47,
      "outputs": [
        {
          "output_type": "execute_result",
          "data": {
            "text/plain": [
              "   MedInc  HouseAge  AveRooms  AveBedrms  Population  AveOccup  Latitude  \\\n",
              "0  8.3252      41.0  6.984127   1.023810       322.0  2.555556     37.88   \n",
              "1  8.3014      21.0  6.238137   0.971880      2401.0  2.109842     37.86   \n",
              "2  7.2574      52.0  8.288136   1.073446       496.0  2.802260     37.85   \n",
              "3  5.6431      52.0  5.817352   1.073059       558.0  2.547945     37.85   \n",
              "4  3.8462      52.0  6.281853   1.081081       565.0  2.181467     37.85   \n",
              "\n",
              "   Longitude  \n",
              "0    -122.23  \n",
              "1    -122.22  \n",
              "2    -122.24  \n",
              "3    -122.25  \n",
              "4    -122.25  "
            ],
            "text/html": [
              "\n",
              "  <div id=\"df-f38e9d81-212d-4d38-bce2-ec9cdd117f3b\">\n",
              "    <div class=\"colab-df-container\">\n",
              "      <div>\n",
              "<style scoped>\n",
              "    .dataframe tbody tr th:only-of-type {\n",
              "        vertical-align: middle;\n",
              "    }\n",
              "\n",
              "    .dataframe tbody tr th {\n",
              "        vertical-align: top;\n",
              "    }\n",
              "\n",
              "    .dataframe thead th {\n",
              "        text-align: right;\n",
              "    }\n",
              "</style>\n",
              "<table border=\"1\" class=\"dataframe\">\n",
              "  <thead>\n",
              "    <tr style=\"text-align: right;\">\n",
              "      <th></th>\n",
              "      <th>MedInc</th>\n",
              "      <th>HouseAge</th>\n",
              "      <th>AveRooms</th>\n",
              "      <th>AveBedrms</th>\n",
              "      <th>Population</th>\n",
              "      <th>AveOccup</th>\n",
              "      <th>Latitude</th>\n",
              "      <th>Longitude</th>\n",
              "    </tr>\n",
              "  </thead>\n",
              "  <tbody>\n",
              "    <tr>\n",
              "      <th>0</th>\n",
              "      <td>8.3252</td>\n",
              "      <td>41.0</td>\n",
              "      <td>6.984127</td>\n",
              "      <td>1.023810</td>\n",
              "      <td>322.0</td>\n",
              "      <td>2.555556</td>\n",
              "      <td>37.88</td>\n",
              "      <td>-122.23</td>\n",
              "    </tr>\n",
              "    <tr>\n",
              "      <th>1</th>\n",
              "      <td>8.3014</td>\n",
              "      <td>21.0</td>\n",
              "      <td>6.238137</td>\n",
              "      <td>0.971880</td>\n",
              "      <td>2401.0</td>\n",
              "      <td>2.109842</td>\n",
              "      <td>37.86</td>\n",
              "      <td>-122.22</td>\n",
              "    </tr>\n",
              "    <tr>\n",
              "      <th>2</th>\n",
              "      <td>7.2574</td>\n",
              "      <td>52.0</td>\n",
              "      <td>8.288136</td>\n",
              "      <td>1.073446</td>\n",
              "      <td>496.0</td>\n",
              "      <td>2.802260</td>\n",
              "      <td>37.85</td>\n",
              "      <td>-122.24</td>\n",
              "    </tr>\n",
              "    <tr>\n",
              "      <th>3</th>\n",
              "      <td>5.6431</td>\n",
              "      <td>52.0</td>\n",
              "      <td>5.817352</td>\n",
              "      <td>1.073059</td>\n",
              "      <td>558.0</td>\n",
              "      <td>2.547945</td>\n",
              "      <td>37.85</td>\n",
              "      <td>-122.25</td>\n",
              "    </tr>\n",
              "    <tr>\n",
              "      <th>4</th>\n",
              "      <td>3.8462</td>\n",
              "      <td>52.0</td>\n",
              "      <td>6.281853</td>\n",
              "      <td>1.081081</td>\n",
              "      <td>565.0</td>\n",
              "      <td>2.181467</td>\n",
              "      <td>37.85</td>\n",
              "      <td>-122.25</td>\n",
              "    </tr>\n",
              "  </tbody>\n",
              "</table>\n",
              "</div>\n",
              "      <button class=\"colab-df-convert\" onclick=\"convertToInteractive('df-f38e9d81-212d-4d38-bce2-ec9cdd117f3b')\"\n",
              "              title=\"Convert this dataframe to an interactive table.\"\n",
              "              style=\"display:none;\">\n",
              "        \n",
              "  <svg xmlns=\"http://www.w3.org/2000/svg\" height=\"24px\"viewBox=\"0 0 24 24\"\n",
              "       width=\"24px\">\n",
              "    <path d=\"M0 0h24v24H0V0z\" fill=\"none\"/>\n",
              "    <path d=\"M18.56 5.44l.94 2.06.94-2.06 2.06-.94-2.06-.94-.94-2.06-.94 2.06-2.06.94zm-11 1L8.5 8.5l.94-2.06 2.06-.94-2.06-.94L8.5 2.5l-.94 2.06-2.06.94zm10 10l.94 2.06.94-2.06 2.06-.94-2.06-.94-.94-2.06-.94 2.06-2.06.94z\"/><path d=\"M17.41 7.96l-1.37-1.37c-.4-.4-.92-.59-1.43-.59-.52 0-1.04.2-1.43.59L10.3 9.45l-7.72 7.72c-.78.78-.78 2.05 0 2.83L4 21.41c.39.39.9.59 1.41.59.51 0 1.02-.2 1.41-.59l7.78-7.78 2.81-2.81c.8-.78.8-2.07 0-2.86zM5.41 20L4 18.59l7.72-7.72 1.47 1.35L5.41 20z\"/>\n",
              "  </svg>\n",
              "      </button>\n",
              "      \n",
              "  <style>\n",
              "    .colab-df-container {\n",
              "      display:flex;\n",
              "      flex-wrap:wrap;\n",
              "      gap: 12px;\n",
              "    }\n",
              "\n",
              "    .colab-df-convert {\n",
              "      background-color: #E8F0FE;\n",
              "      border: none;\n",
              "      border-radius: 50%;\n",
              "      cursor: pointer;\n",
              "      display: none;\n",
              "      fill: #1967D2;\n",
              "      height: 32px;\n",
              "      padding: 0 0 0 0;\n",
              "      width: 32px;\n",
              "    }\n",
              "\n",
              "    .colab-df-convert:hover {\n",
              "      background-color: #E2EBFA;\n",
              "      box-shadow: 0px 1px 2px rgba(60, 64, 67, 0.3), 0px 1px 3px 1px rgba(60, 64, 67, 0.15);\n",
              "      fill: #174EA6;\n",
              "    }\n",
              "\n",
              "    [theme=dark] .colab-df-convert {\n",
              "      background-color: #3B4455;\n",
              "      fill: #D2E3FC;\n",
              "    }\n",
              "\n",
              "    [theme=dark] .colab-df-convert:hover {\n",
              "      background-color: #434B5C;\n",
              "      box-shadow: 0px 1px 3px 1px rgba(0, 0, 0, 0.15);\n",
              "      filter: drop-shadow(0px 1px 2px rgba(0, 0, 0, 0.3));\n",
              "      fill: #FFFFFF;\n",
              "    }\n",
              "  </style>\n",
              "\n",
              "      <script>\n",
              "        const buttonEl =\n",
              "          document.querySelector('#df-f38e9d81-212d-4d38-bce2-ec9cdd117f3b button.colab-df-convert');\n",
              "        buttonEl.style.display =\n",
              "          google.colab.kernel.accessAllowed ? 'block' : 'none';\n",
              "\n",
              "        async function convertToInteractive(key) {\n",
              "          const element = document.querySelector('#df-f38e9d81-212d-4d38-bce2-ec9cdd117f3b');\n",
              "          const dataTable =\n",
              "            await google.colab.kernel.invokeFunction('convertToInteractive',\n",
              "                                                     [key], {});\n",
              "          if (!dataTable) return;\n",
              "\n",
              "          const docLinkHtml = 'Like what you see? Visit the ' +\n",
              "            '<a target=\"_blank\" href=https://colab.research.google.com/notebooks/data_table.ipynb>data table notebook</a>'\n",
              "            + ' to learn more about interactive tables.';\n",
              "          element.innerHTML = '';\n",
              "          dataTable['output_type'] = 'display_data';\n",
              "          await google.colab.output.renderOutput(dataTable, element);\n",
              "          const docLink = document.createElement('div');\n",
              "          docLink.innerHTML = docLinkHtml;\n",
              "          element.appendChild(docLink);\n",
              "        }\n",
              "      </script>\n",
              "    </div>\n",
              "  </div>\n",
              "  "
            ]
          },
          "metadata": {},
          "execution_count": 47
        }
      ]
    },
    {
      "cell_type": "markdown",
      "source": [
        "Трансформируем Population"
      ],
      "metadata": {
        "id": "kI4ypFFcwfZ-"
      }
    },
    {
      "cell_type": "code",
      "source": [
        "X_tmp=X.copy()\n",
        "X_tmp['Population']=np.sqrt(X_tmp['Population'])\n",
        "r2_2, rmse_2, coef_2, intercept_2 = get_score(X_tmp,y, random_seed=42, model=None)\n",
        "print(f'R2 = {r2_2}, RMSE = {rmse_2}')\n",
        "print(f'Изменения в метриках:R2 - на {(r2_2-r2_1)/r2_1*100.}%, RMSE - на {(rmse_2 - rmse_1)/rmse_1 * 100.}%')"
      ],
      "metadata": {
        "colab": {
          "base_uri": "https://localhost:8080/"
        },
        "id": "1RKk45FZPDiO",
        "outputId": "295b86bf-4c97-4685-b8a4-25c44ed4906d"
      },
      "execution_count": 48,
      "outputs": [
        {
          "output_type": "stream",
          "name": "stdout",
          "text": [
            "R2 = 0.6961371507369013, RMSE = 0.6069069999434477\n",
            "Изменения в метриках:R2 - на 0.008754369338713134%, RMSE - на -0.010025562354072249%\n"
          ]
        }
      ]
    },
    {
      "cell_type": "code",
      "source": [
        "stage = 'Трансформация Population'\n",
        "results.loc[len(results.index)] = [stage,r2_2, rmse_2, list(X.columns), 'sqrt', intercept_2, coef_2]"
      ],
      "metadata": {
        "id": "ujHCwkm3GBEh"
      },
      "execution_count": 49,
      "outputs": []
    },
    {
      "cell_type": "code",
      "source": [
        "results.head()"
      ],
      "metadata": {
        "colab": {
          "base_uri": "https://localhost:8080/",
          "height": 143
        },
        "id": "HJE2WFzAGTWJ",
        "outputId": "21265679-cd1c-4450-a93e-82f184f93e3d"
      },
      "execution_count": 50,
      "outputs": [
        {
          "output_type": "execute_result",
          "data": {
            "text/plain": [
              "                      stage        R2      RMSE  \\\n",
              "0                  BaseLine  0.595770  0.728401   \n",
              "1         Удаление выбросов  0.696076  0.606968   \n",
              "2  Трансформация Population  0.696137  0.606907   \n",
              "\n",
              "                                            Features Transformations  \\\n",
              "0  [MedInc, HouseAge, AveRooms, AveBedrms, Popula...                   \n",
              "1  [MedInc, HouseAge, AveRooms, AveBedrms, Popula...                   \n",
              "2  [MedInc, HouseAge, AveRooms, AveBedrms, Popula...            sqrt   \n",
              "\n",
              "   Intercept                                               Coef  \n",
              "0   2.069240  [0.8492217601003719, 0.12211930906462487, -0.2...  \n",
              "1   2.011034  [0.862958451803064, 0.1479600847365695, -0.210...  \n",
              "2   2.011034  [0.8631979173799593, 0.14731565108560313, -0.2...  "
            ],
            "text/html": [
              "\n",
              "  <div id=\"df-bd995c63-3815-4d78-9fd4-6dd3c48f7d82\">\n",
              "    <div class=\"colab-df-container\">\n",
              "      <div>\n",
              "<style scoped>\n",
              "    .dataframe tbody tr th:only-of-type {\n",
              "        vertical-align: middle;\n",
              "    }\n",
              "\n",
              "    .dataframe tbody tr th {\n",
              "        vertical-align: top;\n",
              "    }\n",
              "\n",
              "    .dataframe thead th {\n",
              "        text-align: right;\n",
              "    }\n",
              "</style>\n",
              "<table border=\"1\" class=\"dataframe\">\n",
              "  <thead>\n",
              "    <tr style=\"text-align: right;\">\n",
              "      <th></th>\n",
              "      <th>stage</th>\n",
              "      <th>R2</th>\n",
              "      <th>RMSE</th>\n",
              "      <th>Features</th>\n",
              "      <th>Transformations</th>\n",
              "      <th>Intercept</th>\n",
              "      <th>Coef</th>\n",
              "    </tr>\n",
              "  </thead>\n",
              "  <tbody>\n",
              "    <tr>\n",
              "      <th>0</th>\n",
              "      <td>BaseLine</td>\n",
              "      <td>0.595770</td>\n",
              "      <td>0.728401</td>\n",
              "      <td>[MedInc, HouseAge, AveRooms, AveBedrms, Popula...</td>\n",
              "      <td></td>\n",
              "      <td>2.069240</td>\n",
              "      <td>[0.8492217601003719, 0.12211930906462487, -0.2...</td>\n",
              "    </tr>\n",
              "    <tr>\n",
              "      <th>1</th>\n",
              "      <td>Удаление выбросов</td>\n",
              "      <td>0.696076</td>\n",
              "      <td>0.606968</td>\n",
              "      <td>[MedInc, HouseAge, AveRooms, AveBedrms, Popula...</td>\n",
              "      <td></td>\n",
              "      <td>2.011034</td>\n",
              "      <td>[0.862958451803064, 0.1479600847365695, -0.210...</td>\n",
              "    </tr>\n",
              "    <tr>\n",
              "      <th>2</th>\n",
              "      <td>Трансформация Population</td>\n",
              "      <td>0.696137</td>\n",
              "      <td>0.606907</td>\n",
              "      <td>[MedInc, HouseAge, AveRooms, AveBedrms, Popula...</td>\n",
              "      <td>sqrt</td>\n",
              "      <td>2.011034</td>\n",
              "      <td>[0.8631979173799593, 0.14731565108560313, -0.2...</td>\n",
              "    </tr>\n",
              "  </tbody>\n",
              "</table>\n",
              "</div>\n",
              "      <button class=\"colab-df-convert\" onclick=\"convertToInteractive('df-bd995c63-3815-4d78-9fd4-6dd3c48f7d82')\"\n",
              "              title=\"Convert this dataframe to an interactive table.\"\n",
              "              style=\"display:none;\">\n",
              "        \n",
              "  <svg xmlns=\"http://www.w3.org/2000/svg\" height=\"24px\"viewBox=\"0 0 24 24\"\n",
              "       width=\"24px\">\n",
              "    <path d=\"M0 0h24v24H0V0z\" fill=\"none\"/>\n",
              "    <path d=\"M18.56 5.44l.94 2.06.94-2.06 2.06-.94-2.06-.94-.94-2.06-.94 2.06-2.06.94zm-11 1L8.5 8.5l.94-2.06 2.06-.94-2.06-.94L8.5 2.5l-.94 2.06-2.06.94zm10 10l.94 2.06.94-2.06 2.06-.94-2.06-.94-.94-2.06-.94 2.06-2.06.94z\"/><path d=\"M17.41 7.96l-1.37-1.37c-.4-.4-.92-.59-1.43-.59-.52 0-1.04.2-1.43.59L10.3 9.45l-7.72 7.72c-.78.78-.78 2.05 0 2.83L4 21.41c.39.39.9.59 1.41.59.51 0 1.02-.2 1.41-.59l7.78-7.78 2.81-2.81c.8-.78.8-2.07 0-2.86zM5.41 20L4 18.59l7.72-7.72 1.47 1.35L5.41 20z\"/>\n",
              "  </svg>\n",
              "      </button>\n",
              "      \n",
              "  <style>\n",
              "    .colab-df-container {\n",
              "      display:flex;\n",
              "      flex-wrap:wrap;\n",
              "      gap: 12px;\n",
              "    }\n",
              "\n",
              "    .colab-df-convert {\n",
              "      background-color: #E8F0FE;\n",
              "      border: none;\n",
              "      border-radius: 50%;\n",
              "      cursor: pointer;\n",
              "      display: none;\n",
              "      fill: #1967D2;\n",
              "      height: 32px;\n",
              "      padding: 0 0 0 0;\n",
              "      width: 32px;\n",
              "    }\n",
              "\n",
              "    .colab-df-convert:hover {\n",
              "      background-color: #E2EBFA;\n",
              "      box-shadow: 0px 1px 2px rgba(60, 64, 67, 0.3), 0px 1px 3px 1px rgba(60, 64, 67, 0.15);\n",
              "      fill: #174EA6;\n",
              "    }\n",
              "\n",
              "    [theme=dark] .colab-df-convert {\n",
              "      background-color: #3B4455;\n",
              "      fill: #D2E3FC;\n",
              "    }\n",
              "\n",
              "    [theme=dark] .colab-df-convert:hover {\n",
              "      background-color: #434B5C;\n",
              "      box-shadow: 0px 1px 3px 1px rgba(0, 0, 0, 0.15);\n",
              "      filter: drop-shadow(0px 1px 2px rgba(0, 0, 0, 0.3));\n",
              "      fill: #FFFFFF;\n",
              "    }\n",
              "  </style>\n",
              "\n",
              "      <script>\n",
              "        const buttonEl =\n",
              "          document.querySelector('#df-bd995c63-3815-4d78-9fd4-6dd3c48f7d82 button.colab-df-convert');\n",
              "        buttonEl.style.display =\n",
              "          google.colab.kernel.accessAllowed ? 'block' : 'none';\n",
              "\n",
              "        async function convertToInteractive(key) {\n",
              "          const element = document.querySelector('#df-bd995c63-3815-4d78-9fd4-6dd3c48f7d82');\n",
              "          const dataTable =\n",
              "            await google.colab.kernel.invokeFunction('convertToInteractive',\n",
              "                                                     [key], {});\n",
              "          if (!dataTable) return;\n",
              "\n",
              "          const docLinkHtml = 'Like what you see? Visit the ' +\n",
              "            '<a target=\"_blank\" href=https://colab.research.google.com/notebooks/data_table.ipynb>data table notebook</a>'\n",
              "            + ' to learn more about interactive tables.';\n",
              "          element.innerHTML = '';\n",
              "          dataTable['output_type'] = 'display_data';\n",
              "          await google.colab.output.renderOutput(dataTable, element);\n",
              "          const docLink = document.createElement('div');\n",
              "          docLink.innerHTML = docLinkHtml;\n",
              "          element.appendChild(docLink);\n",
              "        }\n",
              "      </script>\n",
              "    </div>\n",
              "  </div>\n",
              "  "
            ]
          },
          "metadata": {},
          "execution_count": 50
        }
      ]
    },
    {
      "cell_type": "markdown",
      "source": [
        "Трансформируем Longitude"
      ],
      "metadata": {
        "id": "N0YfICJyxBRA"
      }
    },
    {
      "cell_type": "code",
      "source": [
        "X=X_tmp.copy()\n",
        "X_tmp=X.copy()\n",
        "X_tmp['Longitude']=(abs(X_tmp['Longitude'])+1).transform(np.log)\n",
        "r2_3, rmse_3, coef_3, intercept_3 = get_score(X_tmp,y, random_seed=42, model=None)\n",
        "print(f'R2 = {r2_3}, RMSE = {rmse_3}')\n",
        "print(f'Изменения в метриках:R2 - на {(r2_3-r2_2)/r2_2*100.}%, RMSE - на {(rmse_3 - rmse_2)/rmse_2 * 100.}%')"
      ],
      "metadata": {
        "colab": {
          "base_uri": "https://localhost:8080/"
        },
        "id": "nEY8dCxgwlRp",
        "outputId": "c8fd5fca-57f2-4aac-f276-e5206b7d0634"
      },
      "execution_count": 51,
      "outputs": [
        {
          "output_type": "stream",
          "name": "stdout",
          "text": [
            "R2 = 0.6963048003102561, RMSE = 0.6067395531200137\n",
            "Изменения в метриках:R2 - на 0.024082836719363888%, RMSE - на -0.027590194782652133%\n"
          ]
        }
      ]
    },
    {
      "cell_type": "code",
      "source": [
        "stage = 'Трансформация Longitude'\n",
        "results.loc[len(results.index)] = [stage,r2_3, rmse_3, list(X.columns), 'log', intercept_3, coef_3]\n",
        "results.head()"
      ],
      "metadata": {
        "colab": {
          "base_uri": "https://localhost:8080/",
          "height": 175
        },
        "id": "Eos1zYsQGbYm",
        "outputId": "5af3b91c-7b97-4896-b765-32bba2d75658"
      },
      "execution_count": 52,
      "outputs": [
        {
          "output_type": "execute_result",
          "data": {
            "text/plain": [
              "                      stage        R2      RMSE  \\\n",
              "0                  BaseLine  0.595770  0.728401   \n",
              "1         Удаление выбросов  0.696076  0.606968   \n",
              "2  Трансформация Population  0.696137  0.606907   \n",
              "3   Трансформация Longitude  0.696305  0.606740   \n",
              "\n",
              "                                            Features Transformations  \\\n",
              "0  [MedInc, HouseAge, AveRooms, AveBedrms, Popula...                   \n",
              "1  [MedInc, HouseAge, AveRooms, AveBedrms, Popula...                   \n",
              "2  [MedInc, HouseAge, AveRooms, AveBedrms, Popula...            sqrt   \n",
              "3  [MedInc, HouseAge, AveRooms, AveBedrms, Popula...             log   \n",
              "\n",
              "   Intercept                                               Coef  \n",
              "0   2.069240  [0.8492217601003719, 0.12211930906462487, -0.2...  \n",
              "1   2.011034  [0.862958451803064, 0.1479600847365695, -0.210...  \n",
              "2   2.011034  [0.8631979173799593, 0.14731565108560313, -0.2...  \n",
              "3   2.011034  [0.8622785454635296, 0.14692950795437418, -0.2...  "
            ],
            "text/html": [
              "\n",
              "  <div id=\"df-bf9c6652-9678-4997-a07d-86712754888a\">\n",
              "    <div class=\"colab-df-container\">\n",
              "      <div>\n",
              "<style scoped>\n",
              "    .dataframe tbody tr th:only-of-type {\n",
              "        vertical-align: middle;\n",
              "    }\n",
              "\n",
              "    .dataframe tbody tr th {\n",
              "        vertical-align: top;\n",
              "    }\n",
              "\n",
              "    .dataframe thead th {\n",
              "        text-align: right;\n",
              "    }\n",
              "</style>\n",
              "<table border=\"1\" class=\"dataframe\">\n",
              "  <thead>\n",
              "    <tr style=\"text-align: right;\">\n",
              "      <th></th>\n",
              "      <th>stage</th>\n",
              "      <th>R2</th>\n",
              "      <th>RMSE</th>\n",
              "      <th>Features</th>\n",
              "      <th>Transformations</th>\n",
              "      <th>Intercept</th>\n",
              "      <th>Coef</th>\n",
              "    </tr>\n",
              "  </thead>\n",
              "  <tbody>\n",
              "    <tr>\n",
              "      <th>0</th>\n",
              "      <td>BaseLine</td>\n",
              "      <td>0.595770</td>\n",
              "      <td>0.728401</td>\n",
              "      <td>[MedInc, HouseAge, AveRooms, AveBedrms, Popula...</td>\n",
              "      <td></td>\n",
              "      <td>2.069240</td>\n",
              "      <td>[0.8492217601003719, 0.12211930906462487, -0.2...</td>\n",
              "    </tr>\n",
              "    <tr>\n",
              "      <th>1</th>\n",
              "      <td>Удаление выбросов</td>\n",
              "      <td>0.696076</td>\n",
              "      <td>0.606968</td>\n",
              "      <td>[MedInc, HouseAge, AveRooms, AveBedrms, Popula...</td>\n",
              "      <td></td>\n",
              "      <td>2.011034</td>\n",
              "      <td>[0.862958451803064, 0.1479600847365695, -0.210...</td>\n",
              "    </tr>\n",
              "    <tr>\n",
              "      <th>2</th>\n",
              "      <td>Трансформация Population</td>\n",
              "      <td>0.696137</td>\n",
              "      <td>0.606907</td>\n",
              "      <td>[MedInc, HouseAge, AveRooms, AveBedrms, Popula...</td>\n",
              "      <td>sqrt</td>\n",
              "      <td>2.011034</td>\n",
              "      <td>[0.8631979173799593, 0.14731565108560313, -0.2...</td>\n",
              "    </tr>\n",
              "    <tr>\n",
              "      <th>3</th>\n",
              "      <td>Трансформация Longitude</td>\n",
              "      <td>0.696305</td>\n",
              "      <td>0.606740</td>\n",
              "      <td>[MedInc, HouseAge, AveRooms, AveBedrms, Popula...</td>\n",
              "      <td>log</td>\n",
              "      <td>2.011034</td>\n",
              "      <td>[0.8622785454635296, 0.14692950795437418, -0.2...</td>\n",
              "    </tr>\n",
              "  </tbody>\n",
              "</table>\n",
              "</div>\n",
              "      <button class=\"colab-df-convert\" onclick=\"convertToInteractive('df-bf9c6652-9678-4997-a07d-86712754888a')\"\n",
              "              title=\"Convert this dataframe to an interactive table.\"\n",
              "              style=\"display:none;\">\n",
              "        \n",
              "  <svg xmlns=\"http://www.w3.org/2000/svg\" height=\"24px\"viewBox=\"0 0 24 24\"\n",
              "       width=\"24px\">\n",
              "    <path d=\"M0 0h24v24H0V0z\" fill=\"none\"/>\n",
              "    <path d=\"M18.56 5.44l.94 2.06.94-2.06 2.06-.94-2.06-.94-.94-2.06-.94 2.06-2.06.94zm-11 1L8.5 8.5l.94-2.06 2.06-.94-2.06-.94L8.5 2.5l-.94 2.06-2.06.94zm10 10l.94 2.06.94-2.06 2.06-.94-2.06-.94-.94-2.06-.94 2.06-2.06.94z\"/><path d=\"M17.41 7.96l-1.37-1.37c-.4-.4-.92-.59-1.43-.59-.52 0-1.04.2-1.43.59L10.3 9.45l-7.72 7.72c-.78.78-.78 2.05 0 2.83L4 21.41c.39.39.9.59 1.41.59.51 0 1.02-.2 1.41-.59l7.78-7.78 2.81-2.81c.8-.78.8-2.07 0-2.86zM5.41 20L4 18.59l7.72-7.72 1.47 1.35L5.41 20z\"/>\n",
              "  </svg>\n",
              "      </button>\n",
              "      \n",
              "  <style>\n",
              "    .colab-df-container {\n",
              "      display:flex;\n",
              "      flex-wrap:wrap;\n",
              "      gap: 12px;\n",
              "    }\n",
              "\n",
              "    .colab-df-convert {\n",
              "      background-color: #E8F0FE;\n",
              "      border: none;\n",
              "      border-radius: 50%;\n",
              "      cursor: pointer;\n",
              "      display: none;\n",
              "      fill: #1967D2;\n",
              "      height: 32px;\n",
              "      padding: 0 0 0 0;\n",
              "      width: 32px;\n",
              "    }\n",
              "\n",
              "    .colab-df-convert:hover {\n",
              "      background-color: #E2EBFA;\n",
              "      box-shadow: 0px 1px 2px rgba(60, 64, 67, 0.3), 0px 1px 3px 1px rgba(60, 64, 67, 0.15);\n",
              "      fill: #174EA6;\n",
              "    }\n",
              "\n",
              "    [theme=dark] .colab-df-convert {\n",
              "      background-color: #3B4455;\n",
              "      fill: #D2E3FC;\n",
              "    }\n",
              "\n",
              "    [theme=dark] .colab-df-convert:hover {\n",
              "      background-color: #434B5C;\n",
              "      box-shadow: 0px 1px 3px 1px rgba(0, 0, 0, 0.15);\n",
              "      filter: drop-shadow(0px 1px 2px rgba(0, 0, 0, 0.3));\n",
              "      fill: #FFFFFF;\n",
              "    }\n",
              "  </style>\n",
              "\n",
              "      <script>\n",
              "        const buttonEl =\n",
              "          document.querySelector('#df-bf9c6652-9678-4997-a07d-86712754888a button.colab-df-convert');\n",
              "        buttonEl.style.display =\n",
              "          google.colab.kernel.accessAllowed ? 'block' : 'none';\n",
              "\n",
              "        async function convertToInteractive(key) {\n",
              "          const element = document.querySelector('#df-bf9c6652-9678-4997-a07d-86712754888a');\n",
              "          const dataTable =\n",
              "            await google.colab.kernel.invokeFunction('convertToInteractive',\n",
              "                                                     [key], {});\n",
              "          if (!dataTable) return;\n",
              "\n",
              "          const docLinkHtml = 'Like what you see? Visit the ' +\n",
              "            '<a target=\"_blank\" href=https://colab.research.google.com/notebooks/data_table.ipynb>data table notebook</a>'\n",
              "            + ' to learn more about interactive tables.';\n",
              "          element.innerHTML = '';\n",
              "          dataTable['output_type'] = 'display_data';\n",
              "          await google.colab.output.renderOutput(dataTable, element);\n",
              "          const docLink = document.createElement('div');\n",
              "          docLink.innerHTML = docLinkHtml;\n",
              "          element.appendChild(docLink);\n",
              "        }\n",
              "      </script>\n",
              "    </div>\n",
              "  </div>\n",
              "  "
            ]
          },
          "metadata": {},
          "execution_count": 52
        }
      ]
    },
    {
      "cell_type": "markdown",
      "source": [
        "Трансформируем Latitude"
      ],
      "metadata": {
        "id": "skxMKnsqux7p"
      }
    },
    {
      "cell_type": "code",
      "source": [
        "X=X_tmp.copy()\n",
        "X_tmp=X.copy()\n",
        "X_tmp['Latitude']=(abs(X_tmp['Latitude'])+1).transform(np.log)\n",
        "r2_4, rmse_4, coef_4, intercept_4 = get_score(X_tmp,y, random_seed=42, model=None)\n",
        "print(f'R2 = {r2_4}, RMSE = {rmse_4}')\n",
        "print(f'Изменения в метриках:R2 - на {(r2_4-r2_3)/r2_3*100.}%, RMSE - на {(rmse_4 - rmse_3)/rmse_3 * 100.}%')"
      ],
      "metadata": {
        "colab": {
          "base_uri": "https://localhost:8080/"
        },
        "outputId": "4d325b26-a011-4495-cb1c-c9a7e2b87031",
        "id": "z06PnFneux7q"
      },
      "execution_count": 53,
      "outputs": [
        {
          "output_type": "stream",
          "name": "stdout",
          "text": [
            "R2 = 0.6966659451480033, RMSE = 0.6063786879509718\n",
            "Изменения в метриках:R2 - на 0.05186591239731044%, RMSE - на -0.059476124011730636%\n"
          ]
        }
      ]
    },
    {
      "cell_type": "code",
      "source": [
        "stage = 'Трансформация Latitude'\n",
        "results.loc[len(results.index)] = [stage,r2_4, rmse_4, list(X.columns), 'log', intercept_4, coef_4]\n",
        "results.head()"
      ],
      "metadata": {
        "colab": {
          "base_uri": "https://localhost:8080/",
          "height": 206
        },
        "id": "-z0FN_qHGvzZ",
        "outputId": "74f6f815-e622-46e2-e740-ddfa8a1bf3b7"
      },
      "execution_count": 54,
      "outputs": [
        {
          "output_type": "execute_result",
          "data": {
            "text/plain": [
              "                      stage        R2      RMSE  \\\n",
              "0                  BaseLine  0.595770  0.728401   \n",
              "1         Удаление выбросов  0.696076  0.606968   \n",
              "2  Трансформация Population  0.696137  0.606907   \n",
              "3   Трансформация Longitude  0.696305  0.606740   \n",
              "4    Трансформация Latitude  0.696666  0.606379   \n",
              "\n",
              "                                            Features Transformations  \\\n",
              "0  [MedInc, HouseAge, AveRooms, AveBedrms, Popula...                   \n",
              "1  [MedInc, HouseAge, AveRooms, AveBedrms, Popula...                   \n",
              "2  [MedInc, HouseAge, AveRooms, AveBedrms, Popula...            sqrt   \n",
              "3  [MedInc, HouseAge, AveRooms, AveBedrms, Popula...             log   \n",
              "4  [MedInc, HouseAge, AveRooms, AveBedrms, Popula...             log   \n",
              "\n",
              "   Intercept                                               Coef  \n",
              "0   2.069240  [0.8492217601003719, 0.12211930906462487, -0.2...  \n",
              "1   2.011034  [0.862958451803064, 0.1479600847365695, -0.210...  \n",
              "2   2.011034  [0.8631979173799593, 0.14731565108560313, -0.2...  \n",
              "3   2.011034  [0.8622785454635296, 0.14692950795437418, -0.2...  \n",
              "4   2.011034  [0.8631971926201976, 0.1480929493476086, -0.20...  "
            ],
            "text/html": [
              "\n",
              "  <div id=\"df-3defc132-8872-4c2f-b51f-551600a5e7e7\">\n",
              "    <div class=\"colab-df-container\">\n",
              "      <div>\n",
              "<style scoped>\n",
              "    .dataframe tbody tr th:only-of-type {\n",
              "        vertical-align: middle;\n",
              "    }\n",
              "\n",
              "    .dataframe tbody tr th {\n",
              "        vertical-align: top;\n",
              "    }\n",
              "\n",
              "    .dataframe thead th {\n",
              "        text-align: right;\n",
              "    }\n",
              "</style>\n",
              "<table border=\"1\" class=\"dataframe\">\n",
              "  <thead>\n",
              "    <tr style=\"text-align: right;\">\n",
              "      <th></th>\n",
              "      <th>stage</th>\n",
              "      <th>R2</th>\n",
              "      <th>RMSE</th>\n",
              "      <th>Features</th>\n",
              "      <th>Transformations</th>\n",
              "      <th>Intercept</th>\n",
              "      <th>Coef</th>\n",
              "    </tr>\n",
              "  </thead>\n",
              "  <tbody>\n",
              "    <tr>\n",
              "      <th>0</th>\n",
              "      <td>BaseLine</td>\n",
              "      <td>0.595770</td>\n",
              "      <td>0.728401</td>\n",
              "      <td>[MedInc, HouseAge, AveRooms, AveBedrms, Popula...</td>\n",
              "      <td></td>\n",
              "      <td>2.069240</td>\n",
              "      <td>[0.8492217601003719, 0.12211930906462487, -0.2...</td>\n",
              "    </tr>\n",
              "    <tr>\n",
              "      <th>1</th>\n",
              "      <td>Удаление выбросов</td>\n",
              "      <td>0.696076</td>\n",
              "      <td>0.606968</td>\n",
              "      <td>[MedInc, HouseAge, AveRooms, AveBedrms, Popula...</td>\n",
              "      <td></td>\n",
              "      <td>2.011034</td>\n",
              "      <td>[0.862958451803064, 0.1479600847365695, -0.210...</td>\n",
              "    </tr>\n",
              "    <tr>\n",
              "      <th>2</th>\n",
              "      <td>Трансформация Population</td>\n",
              "      <td>0.696137</td>\n",
              "      <td>0.606907</td>\n",
              "      <td>[MedInc, HouseAge, AveRooms, AveBedrms, Popula...</td>\n",
              "      <td>sqrt</td>\n",
              "      <td>2.011034</td>\n",
              "      <td>[0.8631979173799593, 0.14731565108560313, -0.2...</td>\n",
              "    </tr>\n",
              "    <tr>\n",
              "      <th>3</th>\n",
              "      <td>Трансформация Longitude</td>\n",
              "      <td>0.696305</td>\n",
              "      <td>0.606740</td>\n",
              "      <td>[MedInc, HouseAge, AveRooms, AveBedrms, Popula...</td>\n",
              "      <td>log</td>\n",
              "      <td>2.011034</td>\n",
              "      <td>[0.8622785454635296, 0.14692950795437418, -0.2...</td>\n",
              "    </tr>\n",
              "    <tr>\n",
              "      <th>4</th>\n",
              "      <td>Трансформация Latitude</td>\n",
              "      <td>0.696666</td>\n",
              "      <td>0.606379</td>\n",
              "      <td>[MedInc, HouseAge, AveRooms, AveBedrms, Popula...</td>\n",
              "      <td>log</td>\n",
              "      <td>2.011034</td>\n",
              "      <td>[0.8631971926201976, 0.1480929493476086, -0.20...</td>\n",
              "    </tr>\n",
              "  </tbody>\n",
              "</table>\n",
              "</div>\n",
              "      <button class=\"colab-df-convert\" onclick=\"convertToInteractive('df-3defc132-8872-4c2f-b51f-551600a5e7e7')\"\n",
              "              title=\"Convert this dataframe to an interactive table.\"\n",
              "              style=\"display:none;\">\n",
              "        \n",
              "  <svg xmlns=\"http://www.w3.org/2000/svg\" height=\"24px\"viewBox=\"0 0 24 24\"\n",
              "       width=\"24px\">\n",
              "    <path d=\"M0 0h24v24H0V0z\" fill=\"none\"/>\n",
              "    <path d=\"M18.56 5.44l.94 2.06.94-2.06 2.06-.94-2.06-.94-.94-2.06-.94 2.06-2.06.94zm-11 1L8.5 8.5l.94-2.06 2.06-.94-2.06-.94L8.5 2.5l-.94 2.06-2.06.94zm10 10l.94 2.06.94-2.06 2.06-.94-2.06-.94-.94-2.06-.94 2.06-2.06.94z\"/><path d=\"M17.41 7.96l-1.37-1.37c-.4-.4-.92-.59-1.43-.59-.52 0-1.04.2-1.43.59L10.3 9.45l-7.72 7.72c-.78.78-.78 2.05 0 2.83L4 21.41c.39.39.9.59 1.41.59.51 0 1.02-.2 1.41-.59l7.78-7.78 2.81-2.81c.8-.78.8-2.07 0-2.86zM5.41 20L4 18.59l7.72-7.72 1.47 1.35L5.41 20z\"/>\n",
              "  </svg>\n",
              "      </button>\n",
              "      \n",
              "  <style>\n",
              "    .colab-df-container {\n",
              "      display:flex;\n",
              "      flex-wrap:wrap;\n",
              "      gap: 12px;\n",
              "    }\n",
              "\n",
              "    .colab-df-convert {\n",
              "      background-color: #E8F0FE;\n",
              "      border: none;\n",
              "      border-radius: 50%;\n",
              "      cursor: pointer;\n",
              "      display: none;\n",
              "      fill: #1967D2;\n",
              "      height: 32px;\n",
              "      padding: 0 0 0 0;\n",
              "      width: 32px;\n",
              "    }\n",
              "\n",
              "    .colab-df-convert:hover {\n",
              "      background-color: #E2EBFA;\n",
              "      box-shadow: 0px 1px 2px rgba(60, 64, 67, 0.3), 0px 1px 3px 1px rgba(60, 64, 67, 0.15);\n",
              "      fill: #174EA6;\n",
              "    }\n",
              "\n",
              "    [theme=dark] .colab-df-convert {\n",
              "      background-color: #3B4455;\n",
              "      fill: #D2E3FC;\n",
              "    }\n",
              "\n",
              "    [theme=dark] .colab-df-convert:hover {\n",
              "      background-color: #434B5C;\n",
              "      box-shadow: 0px 1px 3px 1px rgba(0, 0, 0, 0.15);\n",
              "      filter: drop-shadow(0px 1px 2px rgba(0, 0, 0, 0.3));\n",
              "      fill: #FFFFFF;\n",
              "    }\n",
              "  </style>\n",
              "\n",
              "      <script>\n",
              "        const buttonEl =\n",
              "          document.querySelector('#df-3defc132-8872-4c2f-b51f-551600a5e7e7 button.colab-df-convert');\n",
              "        buttonEl.style.display =\n",
              "          google.colab.kernel.accessAllowed ? 'block' : 'none';\n",
              "\n",
              "        async function convertToInteractive(key) {\n",
              "          const element = document.querySelector('#df-3defc132-8872-4c2f-b51f-551600a5e7e7');\n",
              "          const dataTable =\n",
              "            await google.colab.kernel.invokeFunction('convertToInteractive',\n",
              "                                                     [key], {});\n",
              "          if (!dataTable) return;\n",
              "\n",
              "          const docLinkHtml = 'Like what you see? Visit the ' +\n",
              "            '<a target=\"_blank\" href=https://colab.research.google.com/notebooks/data_table.ipynb>data table notebook</a>'\n",
              "            + ' to learn more about interactive tables.';\n",
              "          element.innerHTML = '';\n",
              "          dataTable['output_type'] = 'display_data';\n",
              "          await google.colab.output.renderOutput(dataTable, element);\n",
              "          const docLink = document.createElement('div');\n",
              "          docLink.innerHTML = docLinkHtml;\n",
              "          element.appendChild(docLink);\n",
              "        }\n",
              "      </script>\n",
              "    </div>\n",
              "  </div>\n",
              "  "
            ]
          },
          "metadata": {},
          "execution_count": 54
        }
      ]
    },
    {
      "cell_type": "markdown",
      "source": [
        "Трансформируем AveBedrms"
      ],
      "metadata": {
        "id": "gaUFRh4Q2PkR"
      }
    },
    {
      "cell_type": "code",
      "execution_count": 55,
      "metadata": {
        "id": "4zS8u6xlGtez",
        "colab": {
          "base_uri": "https://localhost:8080/"
        },
        "outputId": "0143065c-12d3-403d-f007-c29b1e11e4b4"
      },
      "outputs": [
        {
          "output_type": "stream",
          "name": "stdout",
          "text": [
            "R2 = 0.6977221598387253, RMSE = 0.6053220565416202\n",
            "Изменения в метриках:R2 - на 0.1516099212367338%, RMSE - на -0.1742527285914559%\n"
          ]
        }
      ],
      "source": [
        "X=X_tmp.copy()\n",
        "X_tmp=X.copy()\n",
        "X_tmp['AveBedrms']=(abs(X_tmp['AveBedrms'])+1).transform(np.log)\n",
        "r2_5, rmse_5, coef_5,intercept_5 = get_score(X_tmp,y, random_seed=42, model=None)\n",
        "print(f'R2 = {r2_5}, RMSE = {rmse_5}')\n",
        "print(f'Изменения в метриках:R2 - на {(r2_5-r2_4)/r2_4*100.}%, RMSE - на {(rmse_5 - rmse_4)/rmse_4 * 100.}%')"
      ]
    },
    {
      "cell_type": "code",
      "source": [
        "stage = 'Трансформация AveBedrms'\n",
        "results.loc[len(results.index)] = [stage,r2_5, rmse_5, list(X.columns), 'log', intercept_5, coef_5]\n",
        "results.head()"
      ],
      "metadata": {
        "colab": {
          "base_uri": "https://localhost:8080/",
          "height": 206
        },
        "id": "54Tk5cbwG7Cu",
        "outputId": "e540174d-7abb-43a9-f661-a62ae2b19b49"
      },
      "execution_count": 56,
      "outputs": [
        {
          "output_type": "execute_result",
          "data": {
            "text/plain": [
              "                      stage        R2      RMSE  \\\n",
              "0                  BaseLine  0.595770  0.728401   \n",
              "1         Удаление выбросов  0.696076  0.606968   \n",
              "2  Трансформация Population  0.696137  0.606907   \n",
              "3   Трансформация Longitude  0.696305  0.606740   \n",
              "4    Трансформация Latitude  0.696666  0.606379   \n",
              "\n",
              "                                            Features Transformations  \\\n",
              "0  [MedInc, HouseAge, AveRooms, AveBedrms, Popula...                   \n",
              "1  [MedInc, HouseAge, AveRooms, AveBedrms, Popula...                   \n",
              "2  [MedInc, HouseAge, AveRooms, AveBedrms, Popula...            sqrt   \n",
              "3  [MedInc, HouseAge, AveRooms, AveBedrms, Popula...             log   \n",
              "4  [MedInc, HouseAge, AveRooms, AveBedrms, Popula...             log   \n",
              "\n",
              "   Intercept                                               Coef  \n",
              "0   2.069240  [0.8492217601003719, 0.12211930906462487, -0.2...  \n",
              "1   2.011034  [0.862958451803064, 0.1479600847365695, -0.210...  \n",
              "2   2.011034  [0.8631979173799593, 0.14731565108560313, -0.2...  \n",
              "3   2.011034  [0.8622785454635296, 0.14692950795437418, -0.2...  \n",
              "4   2.011034  [0.8631971926201976, 0.1480929493476086, -0.20...  "
            ],
            "text/html": [
              "\n",
              "  <div id=\"df-4d6eefa8-dfd6-44f6-b0a5-67912eeb1275\">\n",
              "    <div class=\"colab-df-container\">\n",
              "      <div>\n",
              "<style scoped>\n",
              "    .dataframe tbody tr th:only-of-type {\n",
              "        vertical-align: middle;\n",
              "    }\n",
              "\n",
              "    .dataframe tbody tr th {\n",
              "        vertical-align: top;\n",
              "    }\n",
              "\n",
              "    .dataframe thead th {\n",
              "        text-align: right;\n",
              "    }\n",
              "</style>\n",
              "<table border=\"1\" class=\"dataframe\">\n",
              "  <thead>\n",
              "    <tr style=\"text-align: right;\">\n",
              "      <th></th>\n",
              "      <th>stage</th>\n",
              "      <th>R2</th>\n",
              "      <th>RMSE</th>\n",
              "      <th>Features</th>\n",
              "      <th>Transformations</th>\n",
              "      <th>Intercept</th>\n",
              "      <th>Coef</th>\n",
              "    </tr>\n",
              "  </thead>\n",
              "  <tbody>\n",
              "    <tr>\n",
              "      <th>0</th>\n",
              "      <td>BaseLine</td>\n",
              "      <td>0.595770</td>\n",
              "      <td>0.728401</td>\n",
              "      <td>[MedInc, HouseAge, AveRooms, AveBedrms, Popula...</td>\n",
              "      <td></td>\n",
              "      <td>2.069240</td>\n",
              "      <td>[0.8492217601003719, 0.12211930906462487, -0.2...</td>\n",
              "    </tr>\n",
              "    <tr>\n",
              "      <th>1</th>\n",
              "      <td>Удаление выбросов</td>\n",
              "      <td>0.696076</td>\n",
              "      <td>0.606968</td>\n",
              "      <td>[MedInc, HouseAge, AveRooms, AveBedrms, Popula...</td>\n",
              "      <td></td>\n",
              "      <td>2.011034</td>\n",
              "      <td>[0.862958451803064, 0.1479600847365695, -0.210...</td>\n",
              "    </tr>\n",
              "    <tr>\n",
              "      <th>2</th>\n",
              "      <td>Трансформация Population</td>\n",
              "      <td>0.696137</td>\n",
              "      <td>0.606907</td>\n",
              "      <td>[MedInc, HouseAge, AveRooms, AveBedrms, Popula...</td>\n",
              "      <td>sqrt</td>\n",
              "      <td>2.011034</td>\n",
              "      <td>[0.8631979173799593, 0.14731565108560313, -0.2...</td>\n",
              "    </tr>\n",
              "    <tr>\n",
              "      <th>3</th>\n",
              "      <td>Трансформация Longitude</td>\n",
              "      <td>0.696305</td>\n",
              "      <td>0.606740</td>\n",
              "      <td>[MedInc, HouseAge, AveRooms, AveBedrms, Popula...</td>\n",
              "      <td>log</td>\n",
              "      <td>2.011034</td>\n",
              "      <td>[0.8622785454635296, 0.14692950795437418, -0.2...</td>\n",
              "    </tr>\n",
              "    <tr>\n",
              "      <th>4</th>\n",
              "      <td>Трансформация Latitude</td>\n",
              "      <td>0.696666</td>\n",
              "      <td>0.606379</td>\n",
              "      <td>[MedInc, HouseAge, AveRooms, AveBedrms, Popula...</td>\n",
              "      <td>log</td>\n",
              "      <td>2.011034</td>\n",
              "      <td>[0.8631971926201976, 0.1480929493476086, -0.20...</td>\n",
              "    </tr>\n",
              "  </tbody>\n",
              "</table>\n",
              "</div>\n",
              "      <button class=\"colab-df-convert\" onclick=\"convertToInteractive('df-4d6eefa8-dfd6-44f6-b0a5-67912eeb1275')\"\n",
              "              title=\"Convert this dataframe to an interactive table.\"\n",
              "              style=\"display:none;\">\n",
              "        \n",
              "  <svg xmlns=\"http://www.w3.org/2000/svg\" height=\"24px\"viewBox=\"0 0 24 24\"\n",
              "       width=\"24px\">\n",
              "    <path d=\"M0 0h24v24H0V0z\" fill=\"none\"/>\n",
              "    <path d=\"M18.56 5.44l.94 2.06.94-2.06 2.06-.94-2.06-.94-.94-2.06-.94 2.06-2.06.94zm-11 1L8.5 8.5l.94-2.06 2.06-.94-2.06-.94L8.5 2.5l-.94 2.06-2.06.94zm10 10l.94 2.06.94-2.06 2.06-.94-2.06-.94-.94-2.06-.94 2.06-2.06.94z\"/><path d=\"M17.41 7.96l-1.37-1.37c-.4-.4-.92-.59-1.43-.59-.52 0-1.04.2-1.43.59L10.3 9.45l-7.72 7.72c-.78.78-.78 2.05 0 2.83L4 21.41c.39.39.9.59 1.41.59.51 0 1.02-.2 1.41-.59l7.78-7.78 2.81-2.81c.8-.78.8-2.07 0-2.86zM5.41 20L4 18.59l7.72-7.72 1.47 1.35L5.41 20z\"/>\n",
              "  </svg>\n",
              "      </button>\n",
              "      \n",
              "  <style>\n",
              "    .colab-df-container {\n",
              "      display:flex;\n",
              "      flex-wrap:wrap;\n",
              "      gap: 12px;\n",
              "    }\n",
              "\n",
              "    .colab-df-convert {\n",
              "      background-color: #E8F0FE;\n",
              "      border: none;\n",
              "      border-radius: 50%;\n",
              "      cursor: pointer;\n",
              "      display: none;\n",
              "      fill: #1967D2;\n",
              "      height: 32px;\n",
              "      padding: 0 0 0 0;\n",
              "      width: 32px;\n",
              "    }\n",
              "\n",
              "    .colab-df-convert:hover {\n",
              "      background-color: #E2EBFA;\n",
              "      box-shadow: 0px 1px 2px rgba(60, 64, 67, 0.3), 0px 1px 3px 1px rgba(60, 64, 67, 0.15);\n",
              "      fill: #174EA6;\n",
              "    }\n",
              "\n",
              "    [theme=dark] .colab-df-convert {\n",
              "      background-color: #3B4455;\n",
              "      fill: #D2E3FC;\n",
              "    }\n",
              "\n",
              "    [theme=dark] .colab-df-convert:hover {\n",
              "      background-color: #434B5C;\n",
              "      box-shadow: 0px 1px 3px 1px rgba(0, 0, 0, 0.15);\n",
              "      filter: drop-shadow(0px 1px 2px rgba(0, 0, 0, 0.3));\n",
              "      fill: #FFFFFF;\n",
              "    }\n",
              "  </style>\n",
              "\n",
              "      <script>\n",
              "        const buttonEl =\n",
              "          document.querySelector('#df-4d6eefa8-dfd6-44f6-b0a5-67912eeb1275 button.colab-df-convert');\n",
              "        buttonEl.style.display =\n",
              "          google.colab.kernel.accessAllowed ? 'block' : 'none';\n",
              "\n",
              "        async function convertToInteractive(key) {\n",
              "          const element = document.querySelector('#df-4d6eefa8-dfd6-44f6-b0a5-67912eeb1275');\n",
              "          const dataTable =\n",
              "            await google.colab.kernel.invokeFunction('convertToInteractive',\n",
              "                                                     [key], {});\n",
              "          if (!dataTable) return;\n",
              "\n",
              "          const docLinkHtml = 'Like what you see? Visit the ' +\n",
              "            '<a target=\"_blank\" href=https://colab.research.google.com/notebooks/data_table.ipynb>data table notebook</a>'\n",
              "            + ' to learn more about interactive tables.';\n",
              "          element.innerHTML = '';\n",
              "          dataTable['output_type'] = 'display_data';\n",
              "          await google.colab.output.renderOutput(dataTable, element);\n",
              "          const docLink = document.createElement('div');\n",
              "          docLink.innerHTML = docLinkHtml;\n",
              "          element.appendChild(docLink);\n",
              "        }\n",
              "      </script>\n",
              "    </div>\n",
              "  </div>\n",
              "  "
            ]
          },
          "metadata": {},
          "execution_count": 56
        }
      ]
    },
    {
      "cell_type": "markdown",
      "source": [
        "Трансформируем AveRooms"
      ],
      "metadata": {
        "id": "r4n0xeZR2gc6"
      }
    },
    {
      "cell_type": "code",
      "source": [
        "X=X_tmp.copy()\n",
        "X_tmp=X.copy()\n",
        "X_tmp['AveRooms']=(abs(X_tmp['AveRooms'])+1).transform(np.log)\n",
        "r2_6, rmse_6, coef_6,intercept_6 = get_score(X_tmp,y, random_seed=42, model=None)\n",
        "print(f'R2 = {r2_6}, RMSE = {rmse_6}')\n",
        "print(f'Изменения в метриках:R2 - на {(r2_6-r2_5)/r2_5*100.}%, RMSE - на {(rmse_6 - rmse_5)/rmse_5 * 100.}%')"
      ],
      "metadata": {
        "colab": {
          "base_uri": "https://localhost:8080/"
        },
        "id": "sMS08nFr2f9u",
        "outputId": "091eeb02-5efd-49cf-91ef-f0e9f50b608d"
      },
      "execution_count": 57,
      "outputs": [
        {
          "output_type": "stream",
          "name": "stdout",
          "text": [
            "R2 = 0.69956115327279, RMSE = 0.6034779227659889\n",
            "Изменения в метриках:R2 - на 0.2635710229541452%, RMSE - на -0.3046533255648036%\n"
          ]
        }
      ]
    },
    {
      "cell_type": "code",
      "source": [
        "stage = 'Трансформация AveRooms'\n",
        "results.loc[len(results.index)] = [stage,r2_6, rmse_6, list(X.columns), 'log', intercept_6, coef_6]\n",
        "results.head(6)"
      ],
      "metadata": {
        "colab": {
          "base_uri": "https://localhost:8080/",
          "height": 238
        },
        "id": "PujBTbxjHHK3",
        "outputId": "1a3505bd-fd66-43de-975b-e13f8d789ab1"
      },
      "execution_count": 58,
      "outputs": [
        {
          "output_type": "execute_result",
          "data": {
            "text/plain": [
              "                      stage        R2      RMSE  \\\n",
              "0                  BaseLine  0.595770  0.728401   \n",
              "1         Удаление выбросов  0.696076  0.606968   \n",
              "2  Трансформация Population  0.696137  0.606907   \n",
              "3   Трансформация Longitude  0.696305  0.606740   \n",
              "4    Трансформация Latitude  0.696666  0.606379   \n",
              "5   Трансформация AveBedrms  0.697722  0.605322   \n",
              "\n",
              "                                            Features Transformations  \\\n",
              "0  [MedInc, HouseAge, AveRooms, AveBedrms, Popula...                   \n",
              "1  [MedInc, HouseAge, AveRooms, AveBedrms, Popula...                   \n",
              "2  [MedInc, HouseAge, AveRooms, AveBedrms, Popula...            sqrt   \n",
              "3  [MedInc, HouseAge, AveRooms, AveBedrms, Popula...             log   \n",
              "4  [MedInc, HouseAge, AveRooms, AveBedrms, Popula...             log   \n",
              "5  [MedInc, HouseAge, AveRooms, AveBedrms, Popula...             log   \n",
              "\n",
              "   Intercept                                               Coef  \n",
              "0   2.069240  [0.8492217601003719, 0.12211930906462487, -0.2...  \n",
              "1   2.011034  [0.862958451803064, 0.1479600847365695, -0.210...  \n",
              "2   2.011034  [0.8631979173799593, 0.14731565108560313, -0.2...  \n",
              "3   2.011034  [0.8622785454635296, 0.14692950795437418, -0.2...  \n",
              "4   2.011034  [0.8631971926201976, 0.1480929493476086, -0.20...  \n",
              "5   2.011034  [0.8672331026398157, 0.14882951256861998, -0.2...  "
            ],
            "text/html": [
              "\n",
              "  <div id=\"df-6f79fade-59cd-4fe4-8727-3b898817b08a\">\n",
              "    <div class=\"colab-df-container\">\n",
              "      <div>\n",
              "<style scoped>\n",
              "    .dataframe tbody tr th:only-of-type {\n",
              "        vertical-align: middle;\n",
              "    }\n",
              "\n",
              "    .dataframe tbody tr th {\n",
              "        vertical-align: top;\n",
              "    }\n",
              "\n",
              "    .dataframe thead th {\n",
              "        text-align: right;\n",
              "    }\n",
              "</style>\n",
              "<table border=\"1\" class=\"dataframe\">\n",
              "  <thead>\n",
              "    <tr style=\"text-align: right;\">\n",
              "      <th></th>\n",
              "      <th>stage</th>\n",
              "      <th>R2</th>\n",
              "      <th>RMSE</th>\n",
              "      <th>Features</th>\n",
              "      <th>Transformations</th>\n",
              "      <th>Intercept</th>\n",
              "      <th>Coef</th>\n",
              "    </tr>\n",
              "  </thead>\n",
              "  <tbody>\n",
              "    <tr>\n",
              "      <th>0</th>\n",
              "      <td>BaseLine</td>\n",
              "      <td>0.595770</td>\n",
              "      <td>0.728401</td>\n",
              "      <td>[MedInc, HouseAge, AveRooms, AveBedrms, Popula...</td>\n",
              "      <td></td>\n",
              "      <td>2.069240</td>\n",
              "      <td>[0.8492217601003719, 0.12211930906462487, -0.2...</td>\n",
              "    </tr>\n",
              "    <tr>\n",
              "      <th>1</th>\n",
              "      <td>Удаление выбросов</td>\n",
              "      <td>0.696076</td>\n",
              "      <td>0.606968</td>\n",
              "      <td>[MedInc, HouseAge, AveRooms, AveBedrms, Popula...</td>\n",
              "      <td></td>\n",
              "      <td>2.011034</td>\n",
              "      <td>[0.862958451803064, 0.1479600847365695, -0.210...</td>\n",
              "    </tr>\n",
              "    <tr>\n",
              "      <th>2</th>\n",
              "      <td>Трансформация Population</td>\n",
              "      <td>0.696137</td>\n",
              "      <td>0.606907</td>\n",
              "      <td>[MedInc, HouseAge, AveRooms, AveBedrms, Popula...</td>\n",
              "      <td>sqrt</td>\n",
              "      <td>2.011034</td>\n",
              "      <td>[0.8631979173799593, 0.14731565108560313, -0.2...</td>\n",
              "    </tr>\n",
              "    <tr>\n",
              "      <th>3</th>\n",
              "      <td>Трансформация Longitude</td>\n",
              "      <td>0.696305</td>\n",
              "      <td>0.606740</td>\n",
              "      <td>[MedInc, HouseAge, AveRooms, AveBedrms, Popula...</td>\n",
              "      <td>log</td>\n",
              "      <td>2.011034</td>\n",
              "      <td>[0.8622785454635296, 0.14692950795437418, -0.2...</td>\n",
              "    </tr>\n",
              "    <tr>\n",
              "      <th>4</th>\n",
              "      <td>Трансформация Latitude</td>\n",
              "      <td>0.696666</td>\n",
              "      <td>0.606379</td>\n",
              "      <td>[MedInc, HouseAge, AveRooms, AveBedrms, Popula...</td>\n",
              "      <td>log</td>\n",
              "      <td>2.011034</td>\n",
              "      <td>[0.8631971926201976, 0.1480929493476086, -0.20...</td>\n",
              "    </tr>\n",
              "    <tr>\n",
              "      <th>5</th>\n",
              "      <td>Трансформация AveBedrms</td>\n",
              "      <td>0.697722</td>\n",
              "      <td>0.605322</td>\n",
              "      <td>[MedInc, HouseAge, AveRooms, AveBedrms, Popula...</td>\n",
              "      <td>log</td>\n",
              "      <td>2.011034</td>\n",
              "      <td>[0.8672331026398157, 0.14882951256861998, -0.2...</td>\n",
              "    </tr>\n",
              "  </tbody>\n",
              "</table>\n",
              "</div>\n",
              "      <button class=\"colab-df-convert\" onclick=\"convertToInteractive('df-6f79fade-59cd-4fe4-8727-3b898817b08a')\"\n",
              "              title=\"Convert this dataframe to an interactive table.\"\n",
              "              style=\"display:none;\">\n",
              "        \n",
              "  <svg xmlns=\"http://www.w3.org/2000/svg\" height=\"24px\"viewBox=\"0 0 24 24\"\n",
              "       width=\"24px\">\n",
              "    <path d=\"M0 0h24v24H0V0z\" fill=\"none\"/>\n",
              "    <path d=\"M18.56 5.44l.94 2.06.94-2.06 2.06-.94-2.06-.94-.94-2.06-.94 2.06-2.06.94zm-11 1L8.5 8.5l.94-2.06 2.06-.94-2.06-.94L8.5 2.5l-.94 2.06-2.06.94zm10 10l.94 2.06.94-2.06 2.06-.94-2.06-.94-.94-2.06-.94 2.06-2.06.94z\"/><path d=\"M17.41 7.96l-1.37-1.37c-.4-.4-.92-.59-1.43-.59-.52 0-1.04.2-1.43.59L10.3 9.45l-7.72 7.72c-.78.78-.78 2.05 0 2.83L4 21.41c.39.39.9.59 1.41.59.51 0 1.02-.2 1.41-.59l7.78-7.78 2.81-2.81c.8-.78.8-2.07 0-2.86zM5.41 20L4 18.59l7.72-7.72 1.47 1.35L5.41 20z\"/>\n",
              "  </svg>\n",
              "      </button>\n",
              "      \n",
              "  <style>\n",
              "    .colab-df-container {\n",
              "      display:flex;\n",
              "      flex-wrap:wrap;\n",
              "      gap: 12px;\n",
              "    }\n",
              "\n",
              "    .colab-df-convert {\n",
              "      background-color: #E8F0FE;\n",
              "      border: none;\n",
              "      border-radius: 50%;\n",
              "      cursor: pointer;\n",
              "      display: none;\n",
              "      fill: #1967D2;\n",
              "      height: 32px;\n",
              "      padding: 0 0 0 0;\n",
              "      width: 32px;\n",
              "    }\n",
              "\n",
              "    .colab-df-convert:hover {\n",
              "      background-color: #E2EBFA;\n",
              "      box-shadow: 0px 1px 2px rgba(60, 64, 67, 0.3), 0px 1px 3px 1px rgba(60, 64, 67, 0.15);\n",
              "      fill: #174EA6;\n",
              "    }\n",
              "\n",
              "    [theme=dark] .colab-df-convert {\n",
              "      background-color: #3B4455;\n",
              "      fill: #D2E3FC;\n",
              "    }\n",
              "\n",
              "    [theme=dark] .colab-df-convert:hover {\n",
              "      background-color: #434B5C;\n",
              "      box-shadow: 0px 1px 3px 1px rgba(0, 0, 0, 0.15);\n",
              "      filter: drop-shadow(0px 1px 2px rgba(0, 0, 0, 0.3));\n",
              "      fill: #FFFFFF;\n",
              "    }\n",
              "  </style>\n",
              "\n",
              "      <script>\n",
              "        const buttonEl =\n",
              "          document.querySelector('#df-6f79fade-59cd-4fe4-8727-3b898817b08a button.colab-df-convert');\n",
              "        buttonEl.style.display =\n",
              "          google.colab.kernel.accessAllowed ? 'block' : 'none';\n",
              "\n",
              "        async function convertToInteractive(key) {\n",
              "          const element = document.querySelector('#df-6f79fade-59cd-4fe4-8727-3b898817b08a');\n",
              "          const dataTable =\n",
              "            await google.colab.kernel.invokeFunction('convertToInteractive',\n",
              "                                                     [key], {});\n",
              "          if (!dataTable) return;\n",
              "\n",
              "          const docLinkHtml = 'Like what you see? Visit the ' +\n",
              "            '<a target=\"_blank\" href=https://colab.research.google.com/notebooks/data_table.ipynb>data table notebook</a>'\n",
              "            + ' to learn more about interactive tables.';\n",
              "          element.innerHTML = '';\n",
              "          dataTable['output_type'] = 'display_data';\n",
              "          await google.colab.output.renderOutput(dataTable, element);\n",
              "          const docLink = document.createElement('div');\n",
              "          docLink.innerHTML = docLinkHtml;\n",
              "          element.appendChild(docLink);\n",
              "        }\n",
              "      </script>\n",
              "    </div>\n",
              "  </div>\n",
              "  "
            ]
          },
          "metadata": {},
          "execution_count": 58
        }
      ]
    },
    {
      "cell_type": "markdown",
      "source": [
        "Трансформируем AveOccup"
      ],
      "metadata": {
        "id": "M3QXUwq00Q26"
      }
    },
    {
      "cell_type": "code",
      "execution_count": 59,
      "metadata": {
        "colab": {
          "base_uri": "https://localhost:8080/"
        },
        "outputId": "9867fbdf-6d58-44c5-ecad-6ab888406c2c",
        "id": "IValscBq0Q27"
      },
      "outputs": [
        {
          "output_type": "stream",
          "name": "stdout",
          "text": [
            "R2 = 0.7114461930211629, RMSE = 0.5914210090487815\n",
            "Изменения в метриках:R2 - на 1.6989279197065912%, RMSE - на -1.9979046891965138%\n"
          ]
        }
      ],
      "source": [
        "X=X_tmp.copy()\n",
        "X_tmp=X.copy()\n",
        "X_tmp['AveOccup']=(abs(X_tmp['AveOccup'])+1).transform(np.log)\n",
        "r2_7, rmse_7, coef_7,intercept_7 = get_score(X_tmp,y, random_seed=42, model=None)\n",
        "print(f'R2 = {r2_7}, RMSE = {rmse_7}')\n",
        "print(f'Изменения в метриках:R2 - на {(r2_7-r2_6)/r2_6*100.}%, RMSE - на {(rmse_7 - rmse_6)/rmse_6 * 100.}%')"
      ]
    },
    {
      "cell_type": "code",
      "source": [
        "stage = 'Трансформация AveOccup'\n",
        "results.loc[len(results.index)] = [stage,r2_7, rmse_7, list(X.columns), 'log', intercept_7, coef_7]\n",
        "results.head(7)"
      ],
      "metadata": {
        "colab": {
          "base_uri": "https://localhost:8080/",
          "height": 269
        },
        "id": "NJAFi29YHXKF",
        "outputId": "0d18a048-3d42-41f9-c519-bf1ad5bee03d"
      },
      "execution_count": 60,
      "outputs": [
        {
          "output_type": "execute_result",
          "data": {
            "text/plain": [
              "                      stage        R2      RMSE  \\\n",
              "0                  BaseLine  0.595770  0.728401   \n",
              "1         Удаление выбросов  0.696076  0.606968   \n",
              "2  Трансформация Population  0.696137  0.606907   \n",
              "3   Трансформация Longitude  0.696305  0.606740   \n",
              "4    Трансформация Latitude  0.696666  0.606379   \n",
              "5   Трансформация AveBedrms  0.697722  0.605322   \n",
              "6    Трансформация AveRooms  0.699561  0.603478   \n",
              "\n",
              "                                            Features Transformations  \\\n",
              "0  [MedInc, HouseAge, AveRooms, AveBedrms, Popula...                   \n",
              "1  [MedInc, HouseAge, AveRooms, AveBedrms, Popula...                   \n",
              "2  [MedInc, HouseAge, AveRooms, AveBedrms, Popula...            sqrt   \n",
              "3  [MedInc, HouseAge, AveRooms, AveBedrms, Popula...             log   \n",
              "4  [MedInc, HouseAge, AveRooms, AveBedrms, Popula...             log   \n",
              "5  [MedInc, HouseAge, AveRooms, AveBedrms, Popula...             log   \n",
              "6  [MedInc, HouseAge, AveRooms, AveBedrms, Popula...             log   \n",
              "\n",
              "   Intercept                                               Coef  \n",
              "0   2.069240  [0.8492217601003719, 0.12211930906462487, -0.2...  \n",
              "1   2.011034  [0.862958451803064, 0.1479600847365695, -0.210...  \n",
              "2   2.011034  [0.8631979173799593, 0.14731565108560313, -0.2...  \n",
              "3   2.011034  [0.8622785454635296, 0.14692950795437418, -0.2...  \n",
              "4   2.011034  [0.8631971926201976, 0.1480929493476086, -0.20...  \n",
              "5   2.011034  [0.8672331026398157, 0.14882951256861998, -0.2...  \n",
              "6   2.011034  [0.8659803050254057, 0.14986392148303274, -0.2...  "
            ],
            "text/html": [
              "\n",
              "  <div id=\"df-10adeaa7-0d74-4494-af29-24f3c9c31e01\">\n",
              "    <div class=\"colab-df-container\">\n",
              "      <div>\n",
              "<style scoped>\n",
              "    .dataframe tbody tr th:only-of-type {\n",
              "        vertical-align: middle;\n",
              "    }\n",
              "\n",
              "    .dataframe tbody tr th {\n",
              "        vertical-align: top;\n",
              "    }\n",
              "\n",
              "    .dataframe thead th {\n",
              "        text-align: right;\n",
              "    }\n",
              "</style>\n",
              "<table border=\"1\" class=\"dataframe\">\n",
              "  <thead>\n",
              "    <tr style=\"text-align: right;\">\n",
              "      <th></th>\n",
              "      <th>stage</th>\n",
              "      <th>R2</th>\n",
              "      <th>RMSE</th>\n",
              "      <th>Features</th>\n",
              "      <th>Transformations</th>\n",
              "      <th>Intercept</th>\n",
              "      <th>Coef</th>\n",
              "    </tr>\n",
              "  </thead>\n",
              "  <tbody>\n",
              "    <tr>\n",
              "      <th>0</th>\n",
              "      <td>BaseLine</td>\n",
              "      <td>0.595770</td>\n",
              "      <td>0.728401</td>\n",
              "      <td>[MedInc, HouseAge, AveRooms, AveBedrms, Popula...</td>\n",
              "      <td></td>\n",
              "      <td>2.069240</td>\n",
              "      <td>[0.8492217601003719, 0.12211930906462487, -0.2...</td>\n",
              "    </tr>\n",
              "    <tr>\n",
              "      <th>1</th>\n",
              "      <td>Удаление выбросов</td>\n",
              "      <td>0.696076</td>\n",
              "      <td>0.606968</td>\n",
              "      <td>[MedInc, HouseAge, AveRooms, AveBedrms, Popula...</td>\n",
              "      <td></td>\n",
              "      <td>2.011034</td>\n",
              "      <td>[0.862958451803064, 0.1479600847365695, -0.210...</td>\n",
              "    </tr>\n",
              "    <tr>\n",
              "      <th>2</th>\n",
              "      <td>Трансформация Population</td>\n",
              "      <td>0.696137</td>\n",
              "      <td>0.606907</td>\n",
              "      <td>[MedInc, HouseAge, AveRooms, AveBedrms, Popula...</td>\n",
              "      <td>sqrt</td>\n",
              "      <td>2.011034</td>\n",
              "      <td>[0.8631979173799593, 0.14731565108560313, -0.2...</td>\n",
              "    </tr>\n",
              "    <tr>\n",
              "      <th>3</th>\n",
              "      <td>Трансформация Longitude</td>\n",
              "      <td>0.696305</td>\n",
              "      <td>0.606740</td>\n",
              "      <td>[MedInc, HouseAge, AveRooms, AveBedrms, Popula...</td>\n",
              "      <td>log</td>\n",
              "      <td>2.011034</td>\n",
              "      <td>[0.8622785454635296, 0.14692950795437418, -0.2...</td>\n",
              "    </tr>\n",
              "    <tr>\n",
              "      <th>4</th>\n",
              "      <td>Трансформация Latitude</td>\n",
              "      <td>0.696666</td>\n",
              "      <td>0.606379</td>\n",
              "      <td>[MedInc, HouseAge, AveRooms, AveBedrms, Popula...</td>\n",
              "      <td>log</td>\n",
              "      <td>2.011034</td>\n",
              "      <td>[0.8631971926201976, 0.1480929493476086, -0.20...</td>\n",
              "    </tr>\n",
              "    <tr>\n",
              "      <th>5</th>\n",
              "      <td>Трансформация AveBedrms</td>\n",
              "      <td>0.697722</td>\n",
              "      <td>0.605322</td>\n",
              "      <td>[MedInc, HouseAge, AveRooms, AveBedrms, Popula...</td>\n",
              "      <td>log</td>\n",
              "      <td>2.011034</td>\n",
              "      <td>[0.8672331026398157, 0.14882951256861998, -0.2...</td>\n",
              "    </tr>\n",
              "    <tr>\n",
              "      <th>6</th>\n",
              "      <td>Трансформация AveRooms</td>\n",
              "      <td>0.699561</td>\n",
              "      <td>0.603478</td>\n",
              "      <td>[MedInc, HouseAge, AveRooms, AveBedrms, Popula...</td>\n",
              "      <td>log</td>\n",
              "      <td>2.011034</td>\n",
              "      <td>[0.8659803050254057, 0.14986392148303274, -0.2...</td>\n",
              "    </tr>\n",
              "  </tbody>\n",
              "</table>\n",
              "</div>\n",
              "      <button class=\"colab-df-convert\" onclick=\"convertToInteractive('df-10adeaa7-0d74-4494-af29-24f3c9c31e01')\"\n",
              "              title=\"Convert this dataframe to an interactive table.\"\n",
              "              style=\"display:none;\">\n",
              "        \n",
              "  <svg xmlns=\"http://www.w3.org/2000/svg\" height=\"24px\"viewBox=\"0 0 24 24\"\n",
              "       width=\"24px\">\n",
              "    <path d=\"M0 0h24v24H0V0z\" fill=\"none\"/>\n",
              "    <path d=\"M18.56 5.44l.94 2.06.94-2.06 2.06-.94-2.06-.94-.94-2.06-.94 2.06-2.06.94zm-11 1L8.5 8.5l.94-2.06 2.06-.94-2.06-.94L8.5 2.5l-.94 2.06-2.06.94zm10 10l.94 2.06.94-2.06 2.06-.94-2.06-.94-.94-2.06-.94 2.06-2.06.94z\"/><path d=\"M17.41 7.96l-1.37-1.37c-.4-.4-.92-.59-1.43-.59-.52 0-1.04.2-1.43.59L10.3 9.45l-7.72 7.72c-.78.78-.78 2.05 0 2.83L4 21.41c.39.39.9.59 1.41.59.51 0 1.02-.2 1.41-.59l7.78-7.78 2.81-2.81c.8-.78.8-2.07 0-2.86zM5.41 20L4 18.59l7.72-7.72 1.47 1.35L5.41 20z\"/>\n",
              "  </svg>\n",
              "      </button>\n",
              "      \n",
              "  <style>\n",
              "    .colab-df-container {\n",
              "      display:flex;\n",
              "      flex-wrap:wrap;\n",
              "      gap: 12px;\n",
              "    }\n",
              "\n",
              "    .colab-df-convert {\n",
              "      background-color: #E8F0FE;\n",
              "      border: none;\n",
              "      border-radius: 50%;\n",
              "      cursor: pointer;\n",
              "      display: none;\n",
              "      fill: #1967D2;\n",
              "      height: 32px;\n",
              "      padding: 0 0 0 0;\n",
              "      width: 32px;\n",
              "    }\n",
              "\n",
              "    .colab-df-convert:hover {\n",
              "      background-color: #E2EBFA;\n",
              "      box-shadow: 0px 1px 2px rgba(60, 64, 67, 0.3), 0px 1px 3px 1px rgba(60, 64, 67, 0.15);\n",
              "      fill: #174EA6;\n",
              "    }\n",
              "\n",
              "    [theme=dark] .colab-df-convert {\n",
              "      background-color: #3B4455;\n",
              "      fill: #D2E3FC;\n",
              "    }\n",
              "\n",
              "    [theme=dark] .colab-df-convert:hover {\n",
              "      background-color: #434B5C;\n",
              "      box-shadow: 0px 1px 3px 1px rgba(0, 0, 0, 0.15);\n",
              "      filter: drop-shadow(0px 1px 2px rgba(0, 0, 0, 0.3));\n",
              "      fill: #FFFFFF;\n",
              "    }\n",
              "  </style>\n",
              "\n",
              "      <script>\n",
              "        const buttonEl =\n",
              "          document.querySelector('#df-10adeaa7-0d74-4494-af29-24f3c9c31e01 button.colab-df-convert');\n",
              "        buttonEl.style.display =\n",
              "          google.colab.kernel.accessAllowed ? 'block' : 'none';\n",
              "\n",
              "        async function convertToInteractive(key) {\n",
              "          const element = document.querySelector('#df-10adeaa7-0d74-4494-af29-24f3c9c31e01');\n",
              "          const dataTable =\n",
              "            await google.colab.kernel.invokeFunction('convertToInteractive',\n",
              "                                                     [key], {});\n",
              "          if (!dataTable) return;\n",
              "\n",
              "          const docLinkHtml = 'Like what you see? Visit the ' +\n",
              "            '<a target=\"_blank\" href=https://colab.research.google.com/notebooks/data_table.ipynb>data table notebook</a>'\n",
              "            + ' to learn more about interactive tables.';\n",
              "          element.innerHTML = '';\n",
              "          dataTable['output_type'] = 'display_data';\n",
              "          await google.colab.output.renderOutput(dataTable, element);\n",
              "          const docLink = document.createElement('div');\n",
              "          docLink.innerHTML = docLinkHtml;\n",
              "          element.appendChild(docLink);\n",
              "        }\n",
              "      </script>\n",
              "    </div>\n",
              "  </div>\n",
              "  "
            ]
          },
          "metadata": {},
          "execution_count": 60
        }
      ]
    },
    {
      "cell_type": "code",
      "source": [
        "X=X_tmp.copy()\n",
        "X.head()"
      ],
      "metadata": {
        "colab": {
          "base_uri": "https://localhost:8080/",
          "height": 206
        },
        "id": "7hcPs2-l49iM",
        "outputId": "e5cc2a0a-2b85-48ba-d6fd-67723343c8e4"
      },
      "execution_count": 61,
      "outputs": [
        {
          "output_type": "execute_result",
          "data": {
            "text/plain": [
              "   MedInc  HouseAge  AveRooms  AveBedrms  Population  AveOccup  Latitude  \\\n",
              "0  8.3252      41.0  2.077455   0.704982   17.944358  1.268511  3.660480   \n",
              "1  8.3014      21.0  1.979364   0.678988   49.000000  1.134572  3.659965   \n",
              "2  7.2574      52.0  2.228738   0.729212   22.271057  1.335596  3.659708   \n",
              "3  5.6431      52.0  1.919471   0.729025   23.622024  1.266369  3.659708   \n",
              "4  3.8462      52.0  1.985385   0.732888   23.769729  1.157342  3.659708   \n",
              "\n",
              "   Longitude  \n",
              "0   4.814053  \n",
              "1   4.813971  \n",
              "2   4.814134  \n",
              "3   4.814215  \n",
              "4   4.814215  "
            ],
            "text/html": [
              "\n",
              "  <div id=\"df-75f380ea-298f-4933-bdea-e347ac6fb336\">\n",
              "    <div class=\"colab-df-container\">\n",
              "      <div>\n",
              "<style scoped>\n",
              "    .dataframe tbody tr th:only-of-type {\n",
              "        vertical-align: middle;\n",
              "    }\n",
              "\n",
              "    .dataframe tbody tr th {\n",
              "        vertical-align: top;\n",
              "    }\n",
              "\n",
              "    .dataframe thead th {\n",
              "        text-align: right;\n",
              "    }\n",
              "</style>\n",
              "<table border=\"1\" class=\"dataframe\">\n",
              "  <thead>\n",
              "    <tr style=\"text-align: right;\">\n",
              "      <th></th>\n",
              "      <th>MedInc</th>\n",
              "      <th>HouseAge</th>\n",
              "      <th>AveRooms</th>\n",
              "      <th>AveBedrms</th>\n",
              "      <th>Population</th>\n",
              "      <th>AveOccup</th>\n",
              "      <th>Latitude</th>\n",
              "      <th>Longitude</th>\n",
              "    </tr>\n",
              "  </thead>\n",
              "  <tbody>\n",
              "    <tr>\n",
              "      <th>0</th>\n",
              "      <td>8.3252</td>\n",
              "      <td>41.0</td>\n",
              "      <td>2.077455</td>\n",
              "      <td>0.704982</td>\n",
              "      <td>17.944358</td>\n",
              "      <td>1.268511</td>\n",
              "      <td>3.660480</td>\n",
              "      <td>4.814053</td>\n",
              "    </tr>\n",
              "    <tr>\n",
              "      <th>1</th>\n",
              "      <td>8.3014</td>\n",
              "      <td>21.0</td>\n",
              "      <td>1.979364</td>\n",
              "      <td>0.678988</td>\n",
              "      <td>49.000000</td>\n",
              "      <td>1.134572</td>\n",
              "      <td>3.659965</td>\n",
              "      <td>4.813971</td>\n",
              "    </tr>\n",
              "    <tr>\n",
              "      <th>2</th>\n",
              "      <td>7.2574</td>\n",
              "      <td>52.0</td>\n",
              "      <td>2.228738</td>\n",
              "      <td>0.729212</td>\n",
              "      <td>22.271057</td>\n",
              "      <td>1.335596</td>\n",
              "      <td>3.659708</td>\n",
              "      <td>4.814134</td>\n",
              "    </tr>\n",
              "    <tr>\n",
              "      <th>3</th>\n",
              "      <td>5.6431</td>\n",
              "      <td>52.0</td>\n",
              "      <td>1.919471</td>\n",
              "      <td>0.729025</td>\n",
              "      <td>23.622024</td>\n",
              "      <td>1.266369</td>\n",
              "      <td>3.659708</td>\n",
              "      <td>4.814215</td>\n",
              "    </tr>\n",
              "    <tr>\n",
              "      <th>4</th>\n",
              "      <td>3.8462</td>\n",
              "      <td>52.0</td>\n",
              "      <td>1.985385</td>\n",
              "      <td>0.732888</td>\n",
              "      <td>23.769729</td>\n",
              "      <td>1.157342</td>\n",
              "      <td>3.659708</td>\n",
              "      <td>4.814215</td>\n",
              "    </tr>\n",
              "  </tbody>\n",
              "</table>\n",
              "</div>\n",
              "      <button class=\"colab-df-convert\" onclick=\"convertToInteractive('df-75f380ea-298f-4933-bdea-e347ac6fb336')\"\n",
              "              title=\"Convert this dataframe to an interactive table.\"\n",
              "              style=\"display:none;\">\n",
              "        \n",
              "  <svg xmlns=\"http://www.w3.org/2000/svg\" height=\"24px\"viewBox=\"0 0 24 24\"\n",
              "       width=\"24px\">\n",
              "    <path d=\"M0 0h24v24H0V0z\" fill=\"none\"/>\n",
              "    <path d=\"M18.56 5.44l.94 2.06.94-2.06 2.06-.94-2.06-.94-.94-2.06-.94 2.06-2.06.94zm-11 1L8.5 8.5l.94-2.06 2.06-.94-2.06-.94L8.5 2.5l-.94 2.06-2.06.94zm10 10l.94 2.06.94-2.06 2.06-.94-2.06-.94-.94-2.06-.94 2.06-2.06.94z\"/><path d=\"M17.41 7.96l-1.37-1.37c-.4-.4-.92-.59-1.43-.59-.52 0-1.04.2-1.43.59L10.3 9.45l-7.72 7.72c-.78.78-.78 2.05 0 2.83L4 21.41c.39.39.9.59 1.41.59.51 0 1.02-.2 1.41-.59l7.78-7.78 2.81-2.81c.8-.78.8-2.07 0-2.86zM5.41 20L4 18.59l7.72-7.72 1.47 1.35L5.41 20z\"/>\n",
              "  </svg>\n",
              "      </button>\n",
              "      \n",
              "  <style>\n",
              "    .colab-df-container {\n",
              "      display:flex;\n",
              "      flex-wrap:wrap;\n",
              "      gap: 12px;\n",
              "    }\n",
              "\n",
              "    .colab-df-convert {\n",
              "      background-color: #E8F0FE;\n",
              "      border: none;\n",
              "      border-radius: 50%;\n",
              "      cursor: pointer;\n",
              "      display: none;\n",
              "      fill: #1967D2;\n",
              "      height: 32px;\n",
              "      padding: 0 0 0 0;\n",
              "      width: 32px;\n",
              "    }\n",
              "\n",
              "    .colab-df-convert:hover {\n",
              "      background-color: #E2EBFA;\n",
              "      box-shadow: 0px 1px 2px rgba(60, 64, 67, 0.3), 0px 1px 3px 1px rgba(60, 64, 67, 0.15);\n",
              "      fill: #174EA6;\n",
              "    }\n",
              "\n",
              "    [theme=dark] .colab-df-convert {\n",
              "      background-color: #3B4455;\n",
              "      fill: #D2E3FC;\n",
              "    }\n",
              "\n",
              "    [theme=dark] .colab-df-convert:hover {\n",
              "      background-color: #434B5C;\n",
              "      box-shadow: 0px 1px 3px 1px rgba(0, 0, 0, 0.15);\n",
              "      filter: drop-shadow(0px 1px 2px rgba(0, 0, 0, 0.3));\n",
              "      fill: #FFFFFF;\n",
              "    }\n",
              "  </style>\n",
              "\n",
              "      <script>\n",
              "        const buttonEl =\n",
              "          document.querySelector('#df-75f380ea-298f-4933-bdea-e347ac6fb336 button.colab-df-convert');\n",
              "        buttonEl.style.display =\n",
              "          google.colab.kernel.accessAllowed ? 'block' : 'none';\n",
              "\n",
              "        async function convertToInteractive(key) {\n",
              "          const element = document.querySelector('#df-75f380ea-298f-4933-bdea-e347ac6fb336');\n",
              "          const dataTable =\n",
              "            await google.colab.kernel.invokeFunction('convertToInteractive',\n",
              "                                                     [key], {});\n",
              "          if (!dataTable) return;\n",
              "\n",
              "          const docLinkHtml = 'Like what you see? Visit the ' +\n",
              "            '<a target=\"_blank\" href=https://colab.research.google.com/notebooks/data_table.ipynb>data table notebook</a>'\n",
              "            + ' to learn more about interactive tables.';\n",
              "          element.innerHTML = '';\n",
              "          dataTable['output_type'] = 'display_data';\n",
              "          await google.colab.output.renderOutput(dataTable, element);\n",
              "          const docLink = document.createElement('div');\n",
              "          docLink.innerHTML = docLinkHtml;\n",
              "          element.appendChild(docLink);\n",
              "        }\n",
              "      </script>\n",
              "    </div>\n",
              "  </div>\n",
              "  "
            ]
          },
          "metadata": {},
          "execution_count": 61
        }
      ]
    },
    {
      "cell_type": "code",
      "source": [
        "df=pd.concat([X,y],axis=1) # X и y"
      ],
      "metadata": {
        "id": "Zfoo788x5jhK"
      },
      "execution_count": 62,
      "outputs": []
    },
    {
      "cell_type": "code",
      "source": [
        "tmp=df.copy()"
      ],
      "metadata": {
        "id": "IkYaBRuL5o9p"
      },
      "execution_count": 63,
      "outputs": []
    },
    {
      "cell_type": "code",
      "source": [
        "print('Вывод: После трансформации признаков достигнуты следующие результаты по сравнению с метриками после удаления  выбросов:')\n",
        "print(f'Было: R2 = {r2_1}, RMSE = {rmse_1}')\n",
        "print(f'Стало: R2 = {r2_7}, RMSE = {rmse_7}')\n",
        "print(f'Изменения в метриках:R2 - на {(r2_7-r2_1)/r2_1*100.}%, RMSE - на {(rmse_7 - rmse_1)/rmse_1 * 100.}%')"
      ],
      "metadata": {
        "colab": {
          "base_uri": "https://localhost:8080/"
        },
        "id": "__UDSMj61OMe",
        "outputId": "1b754705-91e5-4a1b-c69e-5088f854afe4"
      },
      "execution_count": 64,
      "outputs": [
        {
          "output_type": "stream",
          "name": "stdout",
          "text": [
            "Вывод: После трансформации признаков достигнуты следующие результаты по сравнению с метриками после удаления  выбросов:\n",
            "Было: R2 = 0.6960762136542791, RMSE = 0.6069678518839074\n",
            "Стало: R2 = 0.7114461930211629, RMSE = 0.5914210090487815\n",
            "Изменения в метриках:R2 - на 2.208088577857597%, RMSE - на -2.5613947735241114%\n"
          ]
        }
      ]
    },
    {
      "cell_type": "markdown",
      "metadata": {
        "id": "C4elEnQvTwKm"
      },
      "source": [
        "Посмотрим, как выглядят распределения признаков после преобразований"
      ]
    },
    {
      "cell_type": "code",
      "execution_count": 65,
      "metadata": {
        "colab": {
          "base_uri": "https://localhost:8080/",
          "height": 265
        },
        "id": "aiwR69-dJJ1q",
        "outputId": "7bb8ceb1-b908-493d-8cc9-0386421746c1"
      },
      "outputs": [
        {
          "output_type": "display_data",
          "data": {
            "text/plain": [
              "<Figure size 2200x200 with 8 Axes>"
            ],
            "image/png": "[encoded data removed]"
          },
          "metadata": {}
        }
      ],
      "source": [
        "f, ax = plt.subplots(nrows=1, ncols=8, figsize=(22,2))\n",
        "\n",
        "_ = sns.histplot(x=X['MedInc'], bins=50, ax=ax[0])\n",
        "ax[0].set_title('median income')\n",
        "_ = sns.histplot(x=X['HouseAge'], bins=50, ax=ax[1])\n",
        "ax[1].set_title('median house age')\n",
        "_ = sns.histplot(x=X['AveRooms'], bins=50,ax=ax[2])\n",
        "ax[2].set_title('rooms')\n",
        "_ = sns.histplot(x=X['AveBedrms'], ax=ax[3])\n",
        "ax[3].set_title('AveBedrms')\n",
        "_ = sns.histplot(x=X['AveOccup'], bins=50,ax=ax[4])\n",
        "ax[4].set_title( 'AveOccup')\n",
        "_ = sns.histplot(x=X['Latitude'], bins=50,ax=ax[5])\n",
        "ax[5].set_title( 'Latitude')\n",
        "_ = sns.histplot(x=X['Longitude'], bins=50,ax=ax[6])\n",
        "ax[6].set_title( 'Longitude')\n",
        "_ = sns.histplot(x=X['Population'], bins=50,ax=ax[7])\n",
        "ax[7].set_title( 'Population')\n",
        "plt.show()\n",
        "plt.close()"
      ]
    },
    {
      "cell_type": "markdown",
      "source": [
        "Проведем кластеризацию"
      ],
      "metadata": {
        "id": "fEWAVcID2Hko"
      }
    },
    {
      "cell_type": "code",
      "source": [
        "y=tmp['MedHouseVal']\n",
        "X=tmp.drop(columns=['MedHouseVal'])"
      ],
      "metadata": {
        "id": "U3NBvTtT2jIl"
      },
      "execution_count": 66,
      "outputs": []
    },
    {
      "cell_type": "code",
      "source": [
        "X_tmp = X.copy()\n",
        "scaler = StandardScaler()\n",
        "X_scaled = scaler.fit_transform(X_tmp)"
      ],
      "metadata": {
        "id": "2Vuacwl74l2f"
      },
      "execution_count": 67,
      "outputs": []
    },
    {
      "cell_type": "code",
      "source": [
        "# оптимальное к-во кластеров неизвестно. Будем выбирать, исходя из метрик качества модели\n",
        "r2_best= r2_7\n",
        "rmse_best=rmse_7\n",
        "clastering=dict()\n",
        "# Может, дальше еще лучше будет, но не хочется сильно увеличивать к-во признаков\n",
        "for i in range(4,380):\n",
        "  kmeans = KMeans(n_clusters=i, random_state=42, n_init='auto')\n",
        "  cluster = kmeans.fit_predict(X_scaled)\n",
        "  tmp = df.copy()\n",
        "  tmp['cluster'] = cluster\n",
        "  tmp=get_one_hot(tmp, ['cluster'])\n",
        "  X_tmp=tmp.drop(columns=['MedHouseVal'])\n",
        "  r2_test, rmse_test, coef,intercept = get_score(X_tmp,y, random_seed=42, model=None)\n",
        "  if rmse_test< rmse_best or r2_test > r2_best:\n",
        "    rmse_best = rmse_test\n",
        "    r2_best = r2_test\n",
        "    clastering['n'] =i    \n",
        "    clastering['r2'] = r2_best\n",
        "    clastering['rmse'] = rmse_best\n",
        "# Считаем 14 минут"
      ],
      "metadata": {
        "id": "urNvtFL52RDf"
      },
      "execution_count": 68,
      "outputs": []
    },
    {
      "cell_type": "code",
      "source": [
        "clastering"
      ],
      "metadata": {
        "colab": {
          "base_uri": "https://localhost:8080/"
        },
        "id": "_ztiANmB73J_",
        "outputId": "ed92fd73-86be-41b8-ba1f-875c89ce37b0"
      },
      "execution_count": 69,
      "outputs": [
        {
          "output_type": "execute_result",
          "data": {
            "text/plain": [
              "{'n': 285, 'r2': 0.7567036673701303, 'rmse': 0.5340742474151743}"
            ]
          },
          "metadata": {},
          "execution_count": 69
        }
      ]
    },
    {
      "cell_type": "code",
      "source": [
        "kmeans = KMeans(n_clusters=285,random_state=42, n_init='auto')\n",
        "cluster = kmeans.fit_predict(X_scaled)\n",
        "tmp = df.copy()\n",
        "tmp['cluster'] = cluster\n",
        "tmp=get_one_hot(tmp, ['cluster'])\n",
        "X_tmp=tmp.drop(columns=['MedHouseVal'])\n",
        "r2_8, rmse_8, coef_8,intercept_8 = get_score(X_tmp,y, random_seed=42, model=None)\n",
        "print(f'R2 = {r2_8}, RMSE = {rmse_8}')\n",
        "print(f'Изменения в метриках:R2 - на {(r2_8-r2_7)/r2_7*100.}%, RMSE - на {(rmse_8 - rmse_7)/rmse_7 * 100.}%')"
      ],
      "metadata": {
        "colab": {
          "base_uri": "https://localhost:8080/"
        },
        "id": "_828UjXY9_fB",
        "outputId": "aceedf76-7eda-466c-c6ae-6095f2b8a20c"
      },
      "execution_count": 70,
      "outputs": [
        {
          "output_type": "stream",
          "name": "stdout",
          "text": [
            "R2 = 0.7570439161383953, RMSE = 0.5337006666046429\n",
            "Изменения в метриках:R2 - на 6.409159760009577%, RMSE - на -9.759602983494576%\n"
          ]
        }
      ]
    },
    {
      "cell_type": "code",
      "source": [
        "stage = 'Кластеризация'\n",
        "results.loc[len(results.index)] = [stage,r2_8, rmse_8, list(X.columns), '', intercept_8, coef_8]"
      ],
      "metadata": {
        "id": "ZBnnLixTW5bu"
      },
      "execution_count": null,
      "outputs": []
    },
    {
      "cell_type": "code",
      "source": [
        "\n",
        "results.head(9)"
      ],
      "metadata": {
        "colab": {
          "base_uri": "https://localhost:8080/",
          "height": 332
        },
        "id": "EXvwbjhcMWRl",
        "outputId": "704944d6-62ce-476b-ed8a-f179f39a06a5"
      },
      "execution_count": 75,
      "outputs": [
        {
          "output_type": "execute_result",
          "data": {
            "text/plain": [
              "                      stage        R2      RMSE  \\\n",
              "0                  BaseLine  0.595770  0.728401   \n",
              "1         Удаление выбросов  0.696076  0.606968   \n",
              "2  Трансформация Population  0.696137  0.606907   \n",
              "3   Трансформация Longitude  0.696305  0.606740   \n",
              "4    Трансформация Latitude  0.696666  0.606379   \n",
              "5   Трансформация AveBedrms  0.697722  0.605322   \n",
              "6    Трансформация AveRooms  0.699561  0.603478   \n",
              "7    Трансформация AveOccup  0.711446  0.591421   \n",
              "8             Кластеризация  0.757044  0.533701   \n",
              "\n",
              "                                            Features Transformations  \\\n",
              "0  [MedInc, HouseAge, AveRooms, AveBedrms, Popula...                   \n",
              "1  [MedInc, HouseAge, AveRooms, AveBedrms, Popula...                   \n",
              "2  [MedInc, HouseAge, AveRooms, AveBedrms, Popula...            sqrt   \n",
              "3  [MedInc, HouseAge, AveRooms, AveBedrms, Popula...             log   \n",
              "4  [MedInc, HouseAge, AveRooms, AveBedrms, Popula...             log   \n",
              "5  [MedInc, HouseAge, AveRooms, AveBedrms, Popula...             log   \n",
              "6  [MedInc, HouseAge, AveRooms, AveBedrms, Popula...             log   \n",
              "7  [MedInc, HouseAge, AveRooms, AveBedrms, Popula...             log   \n",
              "8  [MedInc, HouseAge, AveRooms, AveBedrms, Popula...                   \n",
              "\n",
              "   Intercept                                               Coef  \n",
              "0   2.069240  [0.8492217601003719, 0.12211930906462487, -0.2...  \n",
              "1   2.011034  [0.862958451803064, 0.1479600847365695, -0.210...  \n",
              "2   2.011034  [0.8631979173799593, 0.14731565108560313, -0.2...  \n",
              "3   2.011034  [0.8622785454635296, 0.14692950795437418, -0.2...  \n",
              "4   2.011034  [0.8631971926201976, 0.1480929493476086, -0.20...  \n",
              "5   2.011034  [0.8672331026398157, 0.14882951256861998, -0.2...  \n",
              "6   2.011034  [0.8659803050254057, 0.14986392148303274, -0.2...  \n",
              "7   2.011034  [0.8487837349558816, 0.1533765394554204, -0.19...  \n",
              "8   2.011311  [0.6412779782040239, 0.11544239626631297, -0.0...  "
            ],
            "text/html": [
              "\n",
              "  <div id=\"df-b09ea018-bb18-47e9-8265-7be13453ba12\">\n",
              "    <div class=\"colab-df-container\">\n",
              "      <div>\n",
              "<style scoped>\n",
              "    .dataframe tbody tr th:only-of-type {\n",
              "        vertical-align: middle;\n",
              "    }\n",
              "\n",
              "    .dataframe tbody tr th {\n",
              "        vertical-align: top;\n",
              "    }\n",
              "\n",
              "    .dataframe thead th {\n",
              "        text-align: right;\n",
              "    }\n",
              "</style>\n",
              "<table border=\"1\" class=\"dataframe\">\n",
              "  <thead>\n",
              "    <tr style=\"text-align: right;\">\n",
              "      <th></th>\n",
              "      <th>stage</th>\n",
              "      <th>R2</th>\n",
              "      <th>RMSE</th>\n",
              "      <th>Features</th>\n",
              "      <th>Transformations</th>\n",
              "      <th>Intercept</th>\n",
              "      <th>Coef</th>\n",
              "    </tr>\n",
              "  </thead>\n",
              "  <tbody>\n",
              "    <tr>\n",
              "      <th>0</th>\n",
              "      <td>BaseLine</td>\n",
              "      <td>0.595770</td>\n",
              "      <td>0.728401</td>\n",
              "      <td>[MedInc, HouseAge, AveRooms, AveBedrms, Popula...</td>\n",
              "      <td></td>\n",
              "      <td>2.069240</td>\n",
              "      <td>[0.8492217601003719, 0.12211930906462487, -0.2...</td>\n",
              "    </tr>\n",
              "    <tr>\n",
              "      <th>1</th>\n",
              "      <td>Удаление выбросов</td>\n",
              "      <td>0.696076</td>\n",
              "      <td>0.606968</td>\n",
              "      <td>[MedInc, HouseAge, AveRooms, AveBedrms, Popula...</td>\n",
              "      <td></td>\n",
              "      <td>2.011034</td>\n",
              "      <td>[0.862958451803064, 0.1479600847365695, -0.210...</td>\n",
              "    </tr>\n",
              "    <tr>\n",
              "      <th>2</th>\n",
              "      <td>Трансформация Population</td>\n",
              "      <td>0.696137</td>\n",
              "      <td>0.606907</td>\n",
              "      <td>[MedInc, HouseAge, AveRooms, AveBedrms, Popula...</td>\n",
              "      <td>sqrt</td>\n",
              "      <td>2.011034</td>\n",
              "      <td>[0.8631979173799593, 0.14731565108560313, -0.2...</td>\n",
              "    </tr>\n",
              "    <tr>\n",
              "      <th>3</th>\n",
              "      <td>Трансформация Longitude</td>\n",
              "      <td>0.696305</td>\n",
              "      <td>0.606740</td>\n",
              "      <td>[MedInc, HouseAge, AveRooms, AveBedrms, Popula...</td>\n",
              "      <td>log</td>\n",
              "      <td>2.011034</td>\n",
              "      <td>[0.8622785454635296, 0.14692950795437418, -0.2...</td>\n",
              "    </tr>\n",
              "    <tr>\n",
              "      <th>4</th>\n",
              "      <td>Трансформация Latitude</td>\n",
              "      <td>0.696666</td>\n",
              "      <td>0.606379</td>\n",
              "      <td>[MedInc, HouseAge, AveRooms, AveBedrms, Popula...</td>\n",
              "      <td>log</td>\n",
              "      <td>2.011034</td>\n",
              "      <td>[0.8631971926201976, 0.1480929493476086, -0.20...</td>\n",
              "    </tr>\n",
              "    <tr>\n",
              "      <th>5</th>\n",
              "      <td>Трансформация AveBedrms</td>\n",
              "      <td>0.697722</td>\n",
              "      <td>0.605322</td>\n",
              "      <td>[MedInc, HouseAge, AveRooms, AveBedrms, Popula...</td>\n",
              "      <td>log</td>\n",
              "      <td>2.011034</td>\n",
              "      <td>[0.8672331026398157, 0.14882951256861998, -0.2...</td>\n",
              "    </tr>\n",
              "    <tr>\n",
              "      <th>6</th>\n",
              "      <td>Трансформация AveRooms</td>\n",
              "      <td>0.699561</td>\n",
              "      <td>0.603478</td>\n",
              "      <td>[MedInc, HouseAge, AveRooms, AveBedrms, Popula...</td>\n",
              "      <td>log</td>\n",
              "      <td>2.011034</td>\n",
              "      <td>[0.8659803050254057, 0.14986392148303274, -0.2...</td>\n",
              "    </tr>\n",
              "    <tr>\n",
              "      <th>7</th>\n",
              "      <td>Трансформация AveOccup</td>\n",
              "      <td>0.711446</td>\n",
              "      <td>0.591421</td>\n",
              "      <td>[MedInc, HouseAge, AveRooms, AveBedrms, Popula...</td>\n",
              "      <td>log</td>\n",
              "      <td>2.011034</td>\n",
              "      <td>[0.8487837349558816, 0.1533765394554204, -0.19...</td>\n",
              "    </tr>\n",
              "    <tr>\n",
              "      <th>8</th>\n",
              "      <td>Кластеризация</td>\n",
              "      <td>0.757044</td>\n",
              "      <td>0.533701</td>\n",
              "      <td>[MedInc, HouseAge, AveRooms, AveBedrms, Popula...</td>\n",
              "      <td></td>\n",
              "      <td>2.011311</td>\n",
              "      <td>[0.6412779782040239, 0.11544239626631297, -0.0...</td>\n",
              "    </tr>\n",
              "  </tbody>\n",
              "</table>\n",
              "</div>\n",
              "      <button class=\"colab-df-convert\" onclick=\"convertToInteractive('df-b09ea018-bb18-47e9-8265-7be13453ba12')\"\n",
              "              title=\"Convert this dataframe to an interactive table.\"\n",
              "              style=\"display:none;\">\n",
              "        \n",
              "  <svg xmlns=\"http://www.w3.org/2000/svg\" height=\"24px\"viewBox=\"0 0 24 24\"\n",
              "       width=\"24px\">\n",
              "    <path d=\"M0 0h24v24H0V0z\" fill=\"none\"/>\n",
              "    <path d=\"M18.56 5.44l.94 2.06.94-2.06 2.06-.94-2.06-.94-.94-2.06-.94 2.06-2.06.94zm-11 1L8.5 8.5l.94-2.06 2.06-.94-2.06-.94L8.5 2.5l-.94 2.06-2.06.94zm10 10l.94 2.06.94-2.06 2.06-.94-2.06-.94-.94-2.06-.94 2.06-2.06.94z\"/><path d=\"M17.41 7.96l-1.37-1.37c-.4-.4-.92-.59-1.43-.59-.52 0-1.04.2-1.43.59L10.3 9.45l-7.72 7.72c-.78.78-.78 2.05 0 2.83L4 21.41c.39.39.9.59 1.41.59.51 0 1.02-.2 1.41-.59l7.78-7.78 2.81-2.81c.8-.78.8-2.07 0-2.86zM5.41 20L4 18.59l7.72-7.72 1.47 1.35L5.41 20z\"/>\n",
              "  </svg>\n",
              "      </button>\n",
              "      \n",
              "  <style>\n",
              "    .colab-df-container {\n",
              "      display:flex;\n",
              "      flex-wrap:wrap;\n",
              "      gap: 12px;\n",
              "    }\n",
              "\n",
              "    .colab-df-convert {\n",
              "      background-color: #E8F0FE;\n",
              "      border: none;\n",
              "      border-radius: 50%;\n",
              "      cursor: pointer;\n",
              "      display: none;\n",
              "      fill: #1967D2;\n",
              "      height: 32px;\n",
              "      padding: 0 0 0 0;\n",
              "      width: 32px;\n",
              "    }\n",
              "\n",
              "    .colab-df-convert:hover {\n",
              "      background-color: #E2EBFA;\n",
              "      box-shadow: 0px 1px 2px rgba(60, 64, 67, 0.3), 0px 1px 3px 1px rgba(60, 64, 67, 0.15);\n",
              "      fill: #174EA6;\n",
              "    }\n",
              "\n",
              "    [theme=dark] .colab-df-convert {\n",
              "      background-color: #3B4455;\n",
              "      fill: #D2E3FC;\n",
              "    }\n",
              "\n",
              "    [theme=dark] .colab-df-convert:hover {\n",
              "      background-color: #434B5C;\n",
              "      box-shadow: 0px 1px 3px 1px rgba(0, 0, 0, 0.15);\n",
              "      filter: drop-shadow(0px 1px 2px rgba(0, 0, 0, 0.3));\n",
              "      fill: #FFFFFF;\n",
              "    }\n",
              "  </style>\n",
              "\n",
              "      <script>\n",
              "        const buttonEl =\n",
              "          document.querySelector('#df-b09ea018-bb18-47e9-8265-7be13453ba12 button.colab-df-convert');\n",
              "        buttonEl.style.display =\n",
              "          google.colab.kernel.accessAllowed ? 'block' : 'none';\n",
              "\n",
              "        async function convertToInteractive(key) {\n",
              "          const element = document.querySelector('#df-b09ea018-bb18-47e9-8265-7be13453ba12');\n",
              "          const dataTable =\n",
              "            await google.colab.kernel.invokeFunction('convertToInteractive',\n",
              "                                                     [key], {});\n",
              "          if (!dataTable) return;\n",
              "\n",
              "          const docLinkHtml = 'Like what you see? Visit the ' +\n",
              "            '<a target=\"_blank\" href=https://colab.research.google.com/notebooks/data_table.ipynb>data table notebook</a>'\n",
              "            + ' to learn more about interactive tables.';\n",
              "          element.innerHTML = '';\n",
              "          dataTable['output_type'] = 'display_data';\n",
              "          await google.colab.output.renderOutput(dataTable, element);\n",
              "          const docLink = document.createElement('div');\n",
              "          docLink.innerHTML = docLinkHtml;\n",
              "          element.appendChild(docLink);\n",
              "        }\n",
              "      </script>\n",
              "    </div>\n",
              "  </div>\n",
              "  "
            ]
          },
          "metadata": {},
          "execution_count": 75
        }
      ]
    },
    {
      "cell_type": "code",
      "source": [
        "tmp.head()"
      ],
      "metadata": {
        "colab": {
          "base_uri": "https://localhost:8080/",
          "height": 300
        },
        "id": "-oq40mv5FVkM",
        "outputId": "4c76abeb-9e88-40d8-bc0d-0f92605edd7b"
      },
      "execution_count": 72,
      "outputs": [
        {
          "output_type": "execute_result",
          "data": {
            "text/plain": [
              "   MedInc  HouseAge  AveRooms  AveBedrms  Population  AveOccup  Latitude  \\\n",
              "0  8.3252      41.0  2.077455   0.704982   17.944358  1.268511  3.660480   \n",
              "1  8.3014      21.0  1.979364   0.678988   49.000000  1.134572  3.659965   \n",
              "2  7.2574      52.0  2.228738   0.729212   22.271057  1.335596  3.659708   \n",
              "3  5.6431      52.0  1.919471   0.729025   23.622024  1.266369  3.659708   \n",
              "4  3.8462      52.0  1.985385   0.732888   23.769729  1.157342  3.659708   \n",
              "\n",
              "   Longitude  MedHouseVal  cluster  ...  cluster_275  cluster_276  \\\n",
              "0   4.814053        4.526      152  ...            0            0   \n",
              "1   4.813971        3.585       27  ...            0            0   \n",
              "2   4.814134        3.521       14  ...            0            0   \n",
              "3   4.814215        3.413      172  ...            0            0   \n",
              "4   4.814215        3.422      133  ...            0            0   \n",
              "\n",
              "   cluster_277  cluster_278  cluster_279  cluster_280  cluster_281  \\\n",
              "0            0            0            0            0            0   \n",
              "1            0            0            0            0            0   \n",
              "2            0            0            0            0            0   \n",
              "3            0            0            0            0            0   \n",
              "4            0            0            0            0            0   \n",
              "\n",
              "   cluster_282  cluster_283  cluster_284  \n",
              "0            0            0            0  \n",
              "1            0            0            0  \n",
              "2            0            0            0  \n",
              "3            0            0            0  \n",
              "4            0            0            0  \n",
              "\n",
              "[5 rows x 295 columns]"
            ],
            "text/html": [
              "\n",
              "  <div id=\"df-4df0ba73-629e-4fa0-a6b8-5c930ca47eee\">\n",
              "    <div class=\"colab-df-container\">\n",
              "      <div>\n",
              "<style scoped>\n",
              "    .dataframe tbody tr th:only-of-type {\n",
              "        vertical-align: middle;\n",
              "    }\n",
              "\n",
              "    .dataframe tbody tr th {\n",
              "        vertical-align: top;\n",
              "    }\n",
              "\n",
              "    .dataframe thead th {\n",
              "        text-align: right;\n",
              "    }\n",
              "</style>\n",
              "<table border=\"1\" class=\"dataframe\">\n",
              "  <thead>\n",
              "    <tr style=\"text-align: right;\">\n",
              "      <th></th>\n",
              "      <th>MedInc</th>\n",
              "      <th>HouseAge</th>\n",
              "      <th>AveRooms</th>\n",
              "      <th>AveBedrms</th>\n",
              "      <th>Population</th>\n",
              "      <th>AveOccup</th>\n",
              "      <th>Latitude</th>\n",
              "      <th>Longitude</th>\n",
              "      <th>MedHouseVal</th>\n",
              "      <th>cluster</th>\n",
              "      <th>...</th>\n",
              "      <th>cluster_275</th>\n",
              "      <th>cluster_276</th>\n",
              "      <th>cluster_277</th>\n",
              "      <th>cluster_278</th>\n",
              "      <th>cluster_279</th>\n",
              "      <th>cluster_280</th>\n",
              "      <th>cluster_281</th>\n",
              "      <th>cluster_282</th>\n",
              "      <th>cluster_283</th>\n",
              "      <th>cluster_284</th>\n",
              "    </tr>\n",
              "  </thead>\n",
              "  <tbody>\n",
              "    <tr>\n",
              "      <th>0</th>\n",
              "      <td>8.3252</td>\n",
              "      <td>41.0</td>\n",
              "      <td>2.077455</td>\n",
              "      <td>0.704982</td>\n",
              "      <td>17.944358</td>\n",
              "      <td>1.268511</td>\n",
              "      <td>3.660480</td>\n",
              "      <td>4.814053</td>\n",
              "      <td>4.526</td>\n",
              "      <td>152</td>\n",
              "      <td>...</td>\n",
              "      <td>0</td>\n",
              "      <td>0</td>\n",
              "      <td>0</td>\n",
              "      <td>0</td>\n",
              "      <td>0</td>\n",
              "      <td>0</td>\n",
              "      <td>0</td>\n",
              "      <td>0</td>\n",
              "      <td>0</td>\n",
              "      <td>0</td>\n",
              "    </tr>\n",
              "    <tr>\n",
              "      <th>1</th>\n",
              "      <td>8.3014</td>\n",
              "      <td>21.0</td>\n",
              "      <td>1.979364</td>\n",
              "      <td>0.678988</td>\n",
              "      <td>49.000000</td>\n",
              "      <td>1.134572</td>\n",
              "      <td>3.659965</td>\n",
              "      <td>4.813971</td>\n",
              "      <td>3.585</td>\n",
              "      <td>27</td>\n",
              "      <td>...</td>\n",
              "      <td>0</td>\n",
              "      <td>0</td>\n",
              "      <td>0</td>\n",
              "      <td>0</td>\n",
              "      <td>0</td>\n",
              "      <td>0</td>\n",
              "      <td>0</td>\n",
              "      <td>0</td>\n",
              "      <td>0</td>\n",
              "      <td>0</td>\n",
              "    </tr>\n",
              "    <tr>\n",
              "      <th>2</th>\n",
              "      <td>7.2574</td>\n",
              "      <td>52.0</td>\n",
              "      <td>2.228738</td>\n",
              "      <td>0.729212</td>\n",
              "      <td>22.271057</td>\n",
              "      <td>1.335596</td>\n",
              "      <td>3.659708</td>\n",
              "      <td>4.814134</td>\n",
              "      <td>3.521</td>\n",
              "      <td>14</td>\n",
              "      <td>...</td>\n",
              "      <td>0</td>\n",
              "      <td>0</td>\n",
              "      <td>0</td>\n",
              "      <td>0</td>\n",
              "      <td>0</td>\n",
              "      <td>0</td>\n",
              "      <td>0</td>\n",
              "      <td>0</td>\n",
              "      <td>0</td>\n",
              "      <td>0</td>\n",
              "    </tr>\n",
              "    <tr>\n",
              "      <th>3</th>\n",
              "      <td>5.6431</td>\n",
              "      <td>52.0</td>\n",
              "      <td>1.919471</td>\n",
              "      <td>0.729025</td>\n",
              "      <td>23.622024</td>\n",
              "      <td>1.266369</td>\n",
              "      <td>3.659708</td>\n",
              "      <td>4.814215</td>\n",
              "      <td>3.413</td>\n",
              "      <td>172</td>\n",
              "      <td>...</td>\n",
              "      <td>0</td>\n",
              "      <td>0</td>\n",
              "      <td>0</td>\n",
              "      <td>0</td>\n",
              "      <td>0</td>\n",
              "      <td>0</td>\n",
              "      <td>0</td>\n",
              "      <td>0</td>\n",
              "      <td>0</td>\n",
              "      <td>0</td>\n",
              "    </tr>\n",
              "    <tr>\n",
              "      <th>4</th>\n",
              "      <td>3.8462</td>\n",
              "      <td>52.0</td>\n",
              "      <td>1.985385</td>\n",
              "      <td>0.732888</td>\n",
              "      <td>23.769729</td>\n",
              "      <td>1.157342</td>\n",
              "      <td>3.659708</td>\n",
              "      <td>4.814215</td>\n",
              "      <td>3.422</td>\n",
              "      <td>133</td>\n",
              "      <td>...</td>\n",
              "      <td>0</td>\n",
              "      <td>0</td>\n",
              "      <td>0</td>\n",
              "      <td>0</td>\n",
              "      <td>0</td>\n",
              "      <td>0</td>\n",
              "      <td>0</td>\n",
              "      <td>0</td>\n",
              "      <td>0</td>\n",
              "      <td>0</td>\n",
              "    </tr>\n",
              "  </tbody>\n",
              "</table>\n",
              "<p>5 rows × 295 columns</p>\n",
              "</div>\n",
              "      <button class=\"colab-df-convert\" onclick=\"convertToInteractive('df-4df0ba73-629e-4fa0-a6b8-5c930ca47eee')\"\n",
              "              title=\"Convert this dataframe to an interactive table.\"\n",
              "              style=\"display:none;\">\n",
              "        \n",
              "  <svg xmlns=\"http://www.w3.org/2000/svg\" height=\"24px\"viewBox=\"0 0 24 24\"\n",
              "       width=\"24px\">\n",
              "    <path d=\"M0 0h24v24H0V0z\" fill=\"none\"/>\n",
              "    <path d=\"M18.56 5.44l.94 2.06.94-2.06 2.06-.94-2.06-.94-.94-2.06-.94 2.06-2.06.94zm-11 1L8.5 8.5l.94-2.06 2.06-.94-2.06-.94L8.5 2.5l-.94 2.06-2.06.94zm10 10l.94 2.06.94-2.06 2.06-.94-2.06-.94-.94-2.06-.94 2.06-2.06.94z\"/><path d=\"M17.41 7.96l-1.37-1.37c-.4-.4-.92-.59-1.43-.59-.52 0-1.04.2-1.43.59L10.3 9.45l-7.72 7.72c-.78.78-.78 2.05 0 2.83L4 21.41c.39.39.9.59 1.41.59.51 0 1.02-.2 1.41-.59l7.78-7.78 2.81-2.81c.8-.78.8-2.07 0-2.86zM5.41 20L4 18.59l7.72-7.72 1.47 1.35L5.41 20z\"/>\n",
              "  </svg>\n",
              "      </button>\n",
              "      \n",
              "  <style>\n",
              "    .colab-df-container {\n",
              "      display:flex;\n",
              "      flex-wrap:wrap;\n",
              "      gap: 12px;\n",
              "    }\n",
              "\n",
              "    .colab-df-convert {\n",
              "      background-color: #E8F0FE;\n",
              "      border: none;\n",
              "      border-radius: 50%;\n",
              "      cursor: pointer;\n",
              "      display: none;\n",
              "      fill: #1967D2;\n",
              "      height: 32px;\n",
              "      padding: 0 0 0 0;\n",
              "      width: 32px;\n",
              "    }\n",
              "\n",
              "    .colab-df-convert:hover {\n",
              "      background-color: #E2EBFA;\n",
              "      box-shadow: 0px 1px 2px rgba(60, 64, 67, 0.3), 0px 1px 3px 1px rgba(60, 64, 67, 0.15);\n",
              "      fill: #174EA6;\n",
              "    }\n",
              "\n",
              "    [theme=dark] .colab-df-convert {\n",
              "      background-color: #3B4455;\n",
              "      fill: #D2E3FC;\n",
              "    }\n",
              "\n",
              "    [theme=dark] .colab-df-convert:hover {\n",
              "      background-color: #434B5C;\n",
              "      box-shadow: 0px 1px 3px 1px rgba(0, 0, 0, 0.15);\n",
              "      filter: drop-shadow(0px 1px 2px rgba(0, 0, 0, 0.3));\n",
              "      fill: #FFFFFF;\n",
              "    }\n",
              "  </style>\n",
              "\n",
              "      <script>\n",
              "        const buttonEl =\n",
              "          document.querySelector('#df-4df0ba73-629e-4fa0-a6b8-5c930ca47eee button.colab-df-convert');\n",
              "        buttonEl.style.display =\n",
              "          google.colab.kernel.accessAllowed ? 'block' : 'none';\n",
              "\n",
              "        async function convertToInteractive(key) {\n",
              "          const element = document.querySelector('#df-4df0ba73-629e-4fa0-a6b8-5c930ca47eee');\n",
              "          const dataTable =\n",
              "            await google.colab.kernel.invokeFunction('convertToInteractive',\n",
              "                                                     [key], {});\n",
              "          if (!dataTable) return;\n",
              "\n",
              "          const docLinkHtml = 'Like what you see? Visit the ' +\n",
              "            '<a target=\"_blank\" href=https://colab.research.google.com/notebooks/data_table.ipynb>data table notebook</a>'\n",
              "            + ' to learn more about interactive tables.';\n",
              "          element.innerHTML = '';\n",
              "          dataTable['output_type'] = 'display_data';\n",
              "          await google.colab.output.renderOutput(dataTable, element);\n",
              "          const docLink = document.createElement('div');\n",
              "          docLink.innerHTML = docLinkHtml;\n",
              "          element.appendChild(docLink);\n",
              "        }\n",
              "      </script>\n",
              "    </div>\n",
              "  </div>\n",
              "  "
            ]
          },
          "metadata": {},
          "execution_count": 72
        }
      ]
    },
    {
      "cell_type": "code",
      "source": [],
      "metadata": {
        "id": "V8cGRdFD1Y-Z"
      },
      "execution_count": 72,
      "outputs": []
    },
    {
      "cell_type": "markdown",
      "metadata": {
        "id": "3H2ZwIN4VySD"
      },
      "source": [
        "# 9. Сформулируйте выводы по проделанной работе."
      ]
    },
    {
      "cell_type": "markdown",
      "metadata": {
        "id": "IZhO4FXSV5fC"
      },
      "source": [
        "## a. Кратко опишите какие преобразования были сделаны с данными."
      ]
    },
    {
      "cell_type": "markdown",
      "source": [
        "В процессе работы  с данными были выполнены следующие преобразования:\n",
        "*   Удаление выбросов при помощи расстояния Махаланобиса\n",
        "*   Трансформация признаков :\n",
        "        * Population(sqrt)\n",
        "        * Longitude (log)\n",
        "        * Latitude (log)\n",
        "        * AveBedrms (log)\n",
        "        * AveRooms (log)\n",
        "        * AveOccup (log)\n",
        "*    Масштабирование численных признаков при помощт StandardScaler    \n",
        "*    Кластеризация и последующая трансфорация нового признака cluster при помощи OneHotEncoder    "
      ],
      "metadata": {
        "id": "jmfk4z0x5u7N"
      }
    },
    {
      "cell_type": "markdown",
      "metadata": {
        "id": "TsV6HSKeV7gy"
      },
      "source": [
        "## b. Сравните метрики всех моделей. Желательно оформление в виде таблицы вида |модель|RMSE|R2|признаки, на которых проводилось обучение с указанием их преобразований|"
      ]
    },
    {
      "cell_type": "code",
      "source": [
        "results.head(9)"
      ],
      "metadata": {
        "colab": {
          "base_uri": "https://localhost:8080/",
          "height": 332
        },
        "id": "pVlRG-vA7jTs",
        "outputId": "dd4bedc9-48fc-46e8-f82c-da74ddbde167"
      },
      "execution_count": 76,
      "outputs": [
        {
          "output_type": "execute_result",
          "data": {
            "text/plain": [
              "                      stage        R2      RMSE  \\\n",
              "0                  BaseLine  0.595770  0.728401   \n",
              "1         Удаление выбросов  0.696076  0.606968   \n",
              "2  Трансформация Population  0.696137  0.606907   \n",
              "3   Трансформация Longitude  0.696305  0.606740   \n",
              "4    Трансформация Latitude  0.696666  0.606379   \n",
              "5   Трансформация AveBedrms  0.697722  0.605322   \n",
              "6    Трансформация AveRooms  0.699561  0.603478   \n",
              "7    Трансформация AveOccup  0.711446  0.591421   \n",
              "8             Кластеризация  0.757044  0.533701   \n",
              "\n",
              "                                            Features Transformations  \\\n",
              "0  [MedInc, HouseAge, AveRooms, AveBedrms, Popula...                   \n",
              "1  [MedInc, HouseAge, AveRooms, AveBedrms, Popula...                   \n",
              "2  [MedInc, HouseAge, AveRooms, AveBedrms, Popula...            sqrt   \n",
              "3  [MedInc, HouseAge, AveRooms, AveBedrms, Popula...             log   \n",
              "4  [MedInc, HouseAge, AveRooms, AveBedrms, Popula...             log   \n",
              "5  [MedInc, HouseAge, AveRooms, AveBedrms, Popula...             log   \n",
              "6  [MedInc, HouseAge, AveRooms, AveBedrms, Popula...             log   \n",
              "7  [MedInc, HouseAge, AveRooms, AveBedrms, Popula...             log   \n",
              "8  [MedInc, HouseAge, AveRooms, AveBedrms, Popula...                   \n",
              "\n",
              "   Intercept                                               Coef  \n",
              "0   2.069240  [0.8492217601003719, 0.12211930906462487, -0.2...  \n",
              "1   2.011034  [0.862958451803064, 0.1479600847365695, -0.210...  \n",
              "2   2.011034  [0.8631979173799593, 0.14731565108560313, -0.2...  \n",
              "3   2.011034  [0.8622785454635296, 0.14692950795437418, -0.2...  \n",
              "4   2.011034  [0.8631971926201976, 0.1480929493476086, -0.20...  \n",
              "5   2.011034  [0.8672331026398157, 0.14882951256861998, -0.2...  \n",
              "6   2.011034  [0.8659803050254057, 0.14986392148303274, -0.2...  \n",
              "7   2.011034  [0.8487837349558816, 0.1533765394554204, -0.19...  \n",
              "8   2.011311  [0.6412779782040239, 0.11544239626631297, -0.0...  "
            ],
            "text/html": [
              "\n",
              "  <div id=\"df-617d5209-2aed-4cfb-93ce-8e14b9069713\">\n",
              "    <div class=\"colab-df-container\">\n",
              "      <div>\n",
              "<style scoped>\n",
              "    .dataframe tbody tr th:only-of-type {\n",
              "        vertical-align: middle;\n",
              "    }\n",
              "\n",
              "    .dataframe tbody tr th {\n",
              "        vertical-align: top;\n",
              "    }\n",
              "\n",
              "    .dataframe thead th {\n",
              "        text-align: right;\n",
              "    }\n",
              "</style>\n",
              "<table border=\"1\" class=\"dataframe\">\n",
              "  <thead>\n",
              "    <tr style=\"text-align: right;\">\n",
              "      <th></th>\n",
              "      <th>stage</th>\n",
              "      <th>R2</th>\n",
              "      <th>RMSE</th>\n",
              "      <th>Features</th>\n",
              "      <th>Transformations</th>\n",
              "      <th>Intercept</th>\n",
              "      <th>Coef</th>\n",
              "    </tr>\n",
              "  </thead>\n",
              "  <tbody>\n",
              "    <tr>\n",
              "      <th>0</th>\n",
              "      <td>BaseLine</td>\n",
              "      <td>0.595770</td>\n",
              "      <td>0.728401</td>\n",
              "      <td>[MedInc, HouseAge, AveRooms, AveBedrms, Popula...</td>\n",
              "      <td></td>\n",
              "      <td>2.069240</td>\n",
              "      <td>[0.8492217601003719, 0.12211930906462487, -0.2...</td>\n",
              "    </tr>\n",
              "    <tr>\n",
              "      <th>1</th>\n",
              "      <td>Удаление выбросов</td>\n",
              "      <td>0.696076</td>\n",
              "      <td>0.606968</td>\n",
              "      <td>[MedInc, HouseAge, AveRooms, AveBedrms, Popula...</td>\n",
              "      <td></td>\n",
              "      <td>2.011034</td>\n",
              "      <td>[0.862958451803064, 0.1479600847365695, -0.210...</td>\n",
              "    </tr>\n",
              "    <tr>\n",
              "      <th>2</th>\n",
              "      <td>Трансформация Population</td>\n",
              "      <td>0.696137</td>\n",
              "      <td>0.606907</td>\n",
              "      <td>[MedInc, HouseAge, AveRooms, AveBedrms, Popula...</td>\n",
              "      <td>sqrt</td>\n",
              "      <td>2.011034</td>\n",
              "      <td>[0.8631979173799593, 0.14731565108560313, -0.2...</td>\n",
              "    </tr>\n",
              "    <tr>\n",
              "      <th>3</th>\n",
              "      <td>Трансформация Longitude</td>\n",
              "      <td>0.696305</td>\n",
              "      <td>0.606740</td>\n",
              "      <td>[MedInc, HouseAge, AveRooms, AveBedrms, Popula...</td>\n",
              "      <td>log</td>\n",
              "      <td>2.011034</td>\n",
              "      <td>[0.8622785454635296, 0.14692950795437418, -0.2...</td>\n",
              "    </tr>\n",
              "    <tr>\n",
              "      <th>4</th>\n",
              "      <td>Трансформация Latitude</td>\n",
              "      <td>0.696666</td>\n",
              "      <td>0.606379</td>\n",
              "      <td>[MedInc, HouseAge, AveRooms, AveBedrms, Popula...</td>\n",
              "      <td>log</td>\n",
              "      <td>2.011034</td>\n",
              "      <td>[0.8631971926201976, 0.1480929493476086, -0.20...</td>\n",
              "    </tr>\n",
              "    <tr>\n",
              "      <th>5</th>\n",
              "      <td>Трансформация AveBedrms</td>\n",
              "      <td>0.697722</td>\n",
              "      <td>0.605322</td>\n",
              "      <td>[MedInc, HouseAge, AveRooms, AveBedrms, Popula...</td>\n",
              "      <td>log</td>\n",
              "      <td>2.011034</td>\n",
              "      <td>[0.8672331026398157, 0.14882951256861998, -0.2...</td>\n",
              "    </tr>\n",
              "    <tr>\n",
              "      <th>6</th>\n",
              "      <td>Трансформация AveRooms</td>\n",
              "      <td>0.699561</td>\n",
              "      <td>0.603478</td>\n",
              "      <td>[MedInc, HouseAge, AveRooms, AveBedrms, Popula...</td>\n",
              "      <td>log</td>\n",
              "      <td>2.011034</td>\n",
              "      <td>[0.8659803050254057, 0.14986392148303274, -0.2...</td>\n",
              "    </tr>\n",
              "    <tr>\n",
              "      <th>7</th>\n",
              "      <td>Трансформация AveOccup</td>\n",
              "      <td>0.711446</td>\n",
              "      <td>0.591421</td>\n",
              "      <td>[MedInc, HouseAge, AveRooms, AveBedrms, Popula...</td>\n",
              "      <td>log</td>\n",
              "      <td>2.011034</td>\n",
              "      <td>[0.8487837349558816, 0.1533765394554204, -0.19...</td>\n",
              "    </tr>\n",
              "    <tr>\n",
              "      <th>8</th>\n",
              "      <td>Кластеризация</td>\n",
              "      <td>0.757044</td>\n",
              "      <td>0.533701</td>\n",
              "      <td>[MedInc, HouseAge, AveRooms, AveBedrms, Popula...</td>\n",
              "      <td></td>\n",
              "      <td>2.011311</td>\n",
              "      <td>[0.6412779782040239, 0.11544239626631297, -0.0...</td>\n",
              "    </tr>\n",
              "  </tbody>\n",
              "</table>\n",
              "</div>\n",
              "      <button class=\"colab-df-convert\" onclick=\"convertToInteractive('df-617d5209-2aed-4cfb-93ce-8e14b9069713')\"\n",
              "              title=\"Convert this dataframe to an interactive table.\"\n",
              "              style=\"display:none;\">\n",
              "        \n",
              "  <svg xmlns=\"http://www.w3.org/2000/svg\" height=\"24px\"viewBox=\"0 0 24 24\"\n",
              "       width=\"24px\">\n",
              "    <path d=\"M0 0h24v24H0V0z\" fill=\"none\"/>\n",
              "    <path d=\"M18.56 5.44l.94 2.06.94-2.06 2.06-.94-2.06-.94-.94-2.06-.94 2.06-2.06.94zm-11 1L8.5 8.5l.94-2.06 2.06-.94-2.06-.94L8.5 2.5l-.94 2.06-2.06.94zm10 10l.94 2.06.94-2.06 2.06-.94-2.06-.94-.94-2.06-.94 2.06-2.06.94z\"/><path d=\"M17.41 7.96l-1.37-1.37c-.4-.4-.92-.59-1.43-.59-.52 0-1.04.2-1.43.59L10.3 9.45l-7.72 7.72c-.78.78-.78 2.05 0 2.83L4 21.41c.39.39.9.59 1.41.59.51 0 1.02-.2 1.41-.59l7.78-7.78 2.81-2.81c.8-.78.8-2.07 0-2.86zM5.41 20L4 18.59l7.72-7.72 1.47 1.35L5.41 20z\"/>\n",
              "  </svg>\n",
              "      </button>\n",
              "      \n",
              "  <style>\n",
              "    .colab-df-container {\n",
              "      display:flex;\n",
              "      flex-wrap:wrap;\n",
              "      gap: 12px;\n",
              "    }\n",
              "\n",
              "    .colab-df-convert {\n",
              "      background-color: #E8F0FE;\n",
              "      border: none;\n",
              "      border-radius: 50%;\n",
              "      cursor: pointer;\n",
              "      display: none;\n",
              "      fill: #1967D2;\n",
              "      height: 32px;\n",
              "      padding: 0 0 0 0;\n",
              "      width: 32px;\n",
              "    }\n",
              "\n",
              "    .colab-df-convert:hover {\n",
              "      background-color: #E2EBFA;\n",
              "      box-shadow: 0px 1px 2px rgba(60, 64, 67, 0.3), 0px 1px 3px 1px rgba(60, 64, 67, 0.15);\n",
              "      fill: #174EA6;\n",
              "    }\n",
              "\n",
              "    [theme=dark] .colab-df-convert {\n",
              "      background-color: #3B4455;\n",
              "      fill: #D2E3FC;\n",
              "    }\n",
              "\n",
              "    [theme=dark] .colab-df-convert:hover {\n",
              "      background-color: #434B5C;\n",
              "      box-shadow: 0px 1px 3px 1px rgba(0, 0, 0, 0.15);\n",
              "      filter: drop-shadow(0px 1px 2px rgba(0, 0, 0, 0.3));\n",
              "      fill: #FFFFFF;\n",
              "    }\n",
              "  </style>\n",
              "\n",
              "      <script>\n",
              "        const buttonEl =\n",
              "          document.querySelector('#df-617d5209-2aed-4cfb-93ce-8e14b9069713 button.colab-df-convert');\n",
              "        buttonEl.style.display =\n",
              "          google.colab.kernel.accessAllowed ? 'block' : 'none';\n",
              "\n",
              "        async function convertToInteractive(key) {\n",
              "          const element = document.querySelector('#df-617d5209-2aed-4cfb-93ce-8e14b9069713');\n",
              "          const dataTable =\n",
              "            await google.colab.kernel.invokeFunction('convertToInteractive',\n",
              "                                                     [key], {});\n",
              "          if (!dataTable) return;\n",
              "\n",
              "          const docLinkHtml = 'Like what you see? Visit the ' +\n",
              "            '<a target=\"_blank\" href=https://colab.research.google.com/notebooks/data_table.ipynb>data table notebook</a>'\n",
              "            + ' to learn more about interactive tables.';\n",
              "          element.innerHTML = '';\n",
              "          dataTable['output_type'] = 'display_data';\n",
              "          await google.colab.output.renderOutput(dataTable, element);\n",
              "          const docLink = document.createElement('div');\n",
              "          docLink.innerHTML = docLinkHtml;\n",
              "          element.appendChild(docLink);\n",
              "        }\n",
              "      </script>\n",
              "    </div>\n",
              "  </div>\n",
              "  "
            ]
          },
          "metadata": {},
          "execution_count": 76
        }
      ]
    },
    {
      "cell_type": "markdown",
      "metadata": {
        "id": "qQ2He_zlV763"
      },
      "source": [
        "## c. Напишите свое мнение, в полной ли мере модели справились с поставленной задачей"
      ]
    },
    {
      "cell_type": "markdown",
      "metadata": {
        "id": "kvzbaOiHV1NR"
      },
      "source": [
        "Работа с призаками дала неплохие результаты - качество модели по сравнению с BaseLine существенно возросло.\n",
        "В то же время, несмотря на все усилия, по-настоящему хороших метрик качества модели достигнуть не удалось. Это связано, во-первых, с типом выбранной модели (вполне вероятно, што надругих видах регрессоров качество повысится) и, во-вторых, с тем, что зависимость целевой переменной от множества признаков - не совсем линейная."
      ]
    }
  ],
  "metadata": {
    "colab": {
      "provenance": [],
      "authorship_tag": "ABX9TyMrifwe9hDmcWQt0ymNd5b2",
      "include_colab_link": true
    },
    "kernelspec": {
      "display_name": "Python 3",
      "name": "python3"
    },
    "language_info": {
      "name": "python"
    }
  },
  "nbformat": 4,
  "nbformat_minor": 0
}