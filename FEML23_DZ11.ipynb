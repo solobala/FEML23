{
  "nbformat": 4,
  "nbformat_minor": 0,
  "metadata": {
    "colab": {
      "provenance": [],
      "authorship_tag": "ABX9TyOpy1NCQsEO9EXy1Eqf0+/R",
      "include_colab_link": true
    },
    "kernelspec": {
      "name": "python3",
      "display_name": "Python 3"
    },
    "language_info": {
      "name": "python"
    }
  },
  "cells": [
    {
      "cell_type": "markdown",
      "metadata": {
        "id": "view-in-github",
        "colab_type": "text"
      },
      "source": [
        "<a href=\"https://colab.research.google.com/github/solobala/FEML23/blob/master/FEML23_DZ11.ipynb\" target=\"_parent\"><img src=\"https://colab.research.google.com/assets/colab-badge.svg\" alt=\"Open In Colab\"/></a>"
      ]
    },
    {
      "cell_type": "markdown",
      "source": [
        "# Домашнее задание к лекции «Улучшение качества модели» обновленное"
      ],
      "metadata": {
        "id": "iL1-WpgWxTsz"
      }
    },
    {
      "cell_type": "markdown",
      "source": [
        "**Цель:**\n",
        "\n",
        "Применить на практике алгоритмы по автоматической оптимизации параметров моделей машинного обучения.\n",
        "\n",
        "**Описание задания:**\n",
        "\n",
        "В домашнем задании нужно решить задачу классификации наличия болезни сердца у пациентов наиболее эффективно. Данные для обучения моделей необходимо загрузить самостоятельно с сайта. Целевая переменная – наличие болезни сердца (HeartDisease). Она принимает значения 0 или 1 в зависимости от отсутствия или наличия болезни соответственно. Подробное описание признаков можно прочесть в описании датасета на сайте. Для выполнения работы не обязательно вникать в медицинские показатели."
      ],
      "metadata": {
        "id": "jvhN_3zFxXYK"
      }
    },
    {
      "cell_type": "markdown",
      "source": [
        "# 0. Установка пакетов, импорт библиотек и пользовательские функции"
      ],
      "metadata": {
        "id": "o7Khx9Wxxumz"
      }
    },
    {
      "cell_type": "code",
      "execution_count": 1,
      "metadata": {
        "colab": {
          "base_uri": "https://localhost:8080/"
        },
        "id": "W3bwqDYCxKkw",
        "outputId": "b0bdc7a4-74df-44cd-acbd-c2747c2c4239"
      },
      "outputs": [
        {
          "output_type": "stream",
          "name": "stdout",
          "text": [
            "Looking in indexes: https://pypi.org/simple, https://us-python.pkg.dev/colab-wheels/public/simple/\n",
            "Collecting catboost\n",
            "  Downloading catboost-1.2-cp310-cp310-manylinux2014_x86_64.whl (98.6 MB)\n",
            "\u001b[2K     \u001b[90m━━━━━━━━━━━━━━━━━━━━━━━━━━━━━━━━━━━━━━━━\u001b[0m \u001b[32m98.6/98.6 MB\u001b[0m \u001b[31m11.0 MB/s\u001b[0m eta \u001b[36m0:00:00\u001b[0m\n",
            "\u001b[?25hRequirement already satisfied: graphviz in /usr/local/lib/python3.10/dist-packages (from catboost) (0.20.1)\n",
            "Requirement already satisfied: matplotlib in /usr/local/lib/python3.10/dist-packages (from catboost) (3.7.1)\n",
            "Requirement already satisfied: numpy>=1.16.0 in /usr/local/lib/python3.10/dist-packages (from catboost) (1.22.4)\n",
            "Requirement already satisfied: pandas>=0.24 in /usr/local/lib/python3.10/dist-packages (from catboost) (1.5.3)\n",
            "Requirement already satisfied: scipy in /usr/local/lib/python3.10/dist-packages (from catboost) (1.10.1)\n",
            "Requirement already satisfied: plotly in /usr/local/lib/python3.10/dist-packages (from catboost) (5.13.1)\n",
            "Requirement already satisfied: six in /usr/local/lib/python3.10/dist-packages (from catboost) (1.16.0)\n",
            "Requirement already satisfied: python-dateutil>=2.8.1 in /usr/local/lib/python3.10/dist-packages (from pandas>=0.24->catboost) (2.8.2)\n",
            "Requirement already satisfied: pytz>=2020.1 in /usr/local/lib/python3.10/dist-packages (from pandas>=0.24->catboost) (2022.7.1)\n",
            "Requirement already satisfied: contourpy>=1.0.1 in /usr/local/lib/python3.10/dist-packages (from matplotlib->catboost) (1.0.7)\n",
            "Requirement already satisfied: cycler>=0.10 in /usr/local/lib/python3.10/dist-packages (from matplotlib->catboost) (0.11.0)\n",
            "Requirement already satisfied: fonttools>=4.22.0 in /usr/local/lib/python3.10/dist-packages (from matplotlib->catboost) (4.39.3)\n",
            "Requirement already satisfied: kiwisolver>=1.0.1 in /usr/local/lib/python3.10/dist-packages (from matplotlib->catboost) (1.4.4)\n",
            "Requirement already satisfied: packaging>=20.0 in /usr/local/lib/python3.10/dist-packages (from matplotlib->catboost) (23.1)\n",
            "Requirement already satisfied: pillow>=6.2.0 in /usr/local/lib/python3.10/dist-packages (from matplotlib->catboost) (8.4.0)\n",
            "Requirement already satisfied: pyparsing>=2.3.1 in /usr/local/lib/python3.10/dist-packages (from matplotlib->catboost) (3.0.9)\n",
            "Requirement already satisfied: tenacity>=6.2.0 in /usr/local/lib/python3.10/dist-packages (from plotly->catboost) (8.2.2)\n",
            "Installing collected packages: catboost\n",
            "Successfully installed catboost-1.2\n"
          ]
        }
      ],
      "source": [
        "# установка catboost\n",
        "!pip install catboost"
      ]
    },
    {
      "cell_type": "code",
      "source": [
        "# Установка библиотеки для работы с kaggle\n",
        "!pip install -q kaggle"
      ],
      "metadata": {
        "id": "OTojH5d5zsWS"
      },
      "execution_count": 2,
      "outputs": []
    },
    {
      "cell_type": "code",
      "source": [
        "import pandas as pd\n",
        "import numpy as np\n",
        "\n",
        "from sklearn.linear_model import LogisticRegression\n",
        "from lightgbm import LGBMClassifier\n",
        "from xgboost import XGBClassifier\n",
        "from catboost import CatBoostClassifier \n",
        "from sklearn.ensemble import GradientBoostingClassifier\n",
        "from sklearn.ensemble import AdaBoostClassifier\n",
        "from sklearn.ensemble import RandomForestClassifier\n",
        "from sklearn.ensemble import  BaggingClassifier\n",
        "from sklearn.ensemble import  StackingClassifier\n",
        "from sklearn.tree import DecisionTreeClassifier\n",
        "from sklearn.svm import LinearSVC\n",
        "\n",
        "\n",
        "from sklearn.model_selection import train_test_split\n",
        "from sklearn.metrics import classification_report\n",
        "from sklearn.pipeline import make_pipeline\n",
        "from sklearn.pipeline import Pipeline\n",
        "from sklearn.preprocessing import Normalizer\n",
        "from sklearn.preprocessing import OneHotEncoder\n",
        "from sklearn.compose import ColumnTransformer\n",
        "\n",
        "from sklearn.feature_selection import SelectPercentile, chi2\n",
        "from sklearn.model_selection import GridSearchCV, RandomizedSearchCV\n",
        "from sklearn.metrics import make_scorer, accuracy_score, precision_score, recall_score, f1_score\n",
        "\n",
        "from sklearn.model_selection import KFold\n",
        "from sklearn.model_selection import  cross_validate\n",
        "import seaborn as sns\n",
        "from matplotlib import pyplot as plt\n",
        "\n",
        "import os\n",
        "for dirname, _, filenames in os.walk('/kaggle/input'):\n",
        "    for filename in filenames:\n",
        "        print(os.path.join(dirname, filename))"
      ],
      "metadata": {
        "id": "85BJGX1Lzn_0"
      },
      "execution_count": 3,
      "outputs": []
    },
    {
      "cell_type": "markdown",
      "source": [
        "# 1.Получите данные и загрузите их в рабочую среду. "
      ],
      "metadata": {
        "id": "pYai51Ppxwuv"
      }
    },
    {
      "cell_type": "code",
      "source": [
        "# Это напоминалка - приглашение загрузить в сессионное хранилище свой kaggle.json. Ключ стерла\n",
        "from google.colab import files\n",
        "files.upload()"
      ],
      "metadata": {
        "colab": {
          "base_uri": "https://localhost:8080/",
          "height": 90
        },
        "id": "YT8DB9o6x5iB",
        "outputId": "2249b045-a02b-40bf-9f38-bfc68ad8ff01"
      },
      "execution_count": 4,
      "outputs": [
        {
          "output_type": "display_data",
          "data": {
            "text/plain": [
              "<IPython.core.display.HTML object>"
            ],
            "text/html": [
              "\n",
              "     <input type=\"file\" id=\"files-f7986625-0f70-4672-9179-178b74040d9c\" name=\"files[]\" multiple disabled\n",
              "        style=\"border:none\" />\n",
              "     <output id=\"result-f7986625-0f70-4672-9179-178b74040d9c\">\n",
              "      Upload widget is only available when the cell has been executed in the\n",
              "      current browser session. Please rerun this cell to enable.\n",
              "      </output>\n",
              "      <script>// Copyright 2017 Google LLC\n",
              "//\n",
              "// Licensed under the Apache License, Version 2.0 (the \"License\");\n",
              "// you may not use this file except in compliance with the License.\n",
              "// You may obtain a copy of the License at\n",
              "//\n",
              "//      http://www.apache.org/licenses/LICENSE-2.0\n",
              "//\n",
              "// Unless required by applicable law or agreed to in writing, software\n",
              "// distributed under the License is distributed on an \"AS IS\" BASIS,\n",
              "// WITHOUT WARRANTIES OR CONDITIONS OF ANY KIND, either express or implied.\n",
              "// See the License for the specific language governing permissions and\n",
              "// limitations under the License.\n",
              "\n",
              "/**\n",
              " * @fileoverview Helpers for google.colab Python module.\n",
              " */\n",
              "(function(scope) {\n",
              "function span(text, styleAttributes = {}) {\n",
              "  const element = document.createElement('span');\n",
              "  element.textContent = text;\n",
              "  for (const key of Object.keys(styleAttributes)) {\n",
              "    element.style[key] = styleAttributes[key];\n",
              "  }\n",
              "  return element;\n",
              "}\n",
              "\n",
              "// Max number of bytes which will be uploaded at a time.\n",
              "const MAX_PAYLOAD_SIZE = 100 * 1024;\n",
              "\n",
              "function _uploadFiles(inputId, outputId) {\n",
              "  const steps = uploadFilesStep(inputId, outputId);\n",
              "  const outputElement = document.getElementById(outputId);\n",
              "  // Cache steps on the outputElement to make it available for the next call\n",
              "  // to uploadFilesContinue from Python.\n",
              "  outputElement.steps = steps;\n",
              "\n",
              "  return _uploadFilesContinue(outputId);\n",
              "}\n",
              "\n",
              "// This is roughly an async generator (not supported in the browser yet),\n",
              "// where there are multiple asynchronous steps and the Python side is going\n",
              "// to poll for completion of each step.\n",
              "// This uses a Promise to block the python side on completion of each step,\n",
              "// then passes the result of the previous step as the input to the next step.\n",
              "function _uploadFilesContinue(outputId) {\n",
              "  const outputElement = document.getElementById(outputId);\n",
              "  const steps = outputElement.steps;\n",
              "\n",
              "  const next = steps.next(outputElement.lastPromiseValue);\n",
              "  return Promise.resolve(next.value.promise).then((value) => {\n",
              "    // Cache the last promise value to make it available to the next\n",
              "    // step of the generator.\n",
              "    outputElement.lastPromiseValue = value;\n",
              "    return next.value.response;\n",
              "  });\n",
              "}\n",
              "\n",
              "/**\n",
              " * Generator function which is called between each async step of the upload\n",
              " * process.\n",
              " * @param {string} inputId Element ID of the input file picker element.\n",
              " * @param {string} outputId Element ID of the output display.\n",
              " * @return {!Iterable<!Object>} Iterable of next steps.\n",
              " */\n",
              "function* uploadFilesStep(inputId, outputId) {\n",
              "  const inputElement = document.getElementById(inputId);\n",
              "  inputElement.disabled = false;\n",
              "\n",
              "  const outputElement = document.getElementById(outputId);\n",
              "  outputElement.innerHTML = '';\n",
              "\n",
              "  const pickedPromise = new Promise((resolve) => {\n",
              "    inputElement.addEventListener('change', (e) => {\n",
              "      resolve(e.target.files);\n",
              "    });\n",
              "  });\n",
              "\n",
              "  const cancel = document.createElement('button');\n",
              "  inputElement.parentElement.appendChild(cancel);\n",
              "  cancel.textContent = 'Cancel upload';\n",
              "  const cancelPromise = new Promise((resolve) => {\n",
              "    cancel.onclick = () => {\n",
              "      resolve(null);\n",
              "    };\n",
              "  });\n",
              "\n",
              "  // Wait for the user to pick the files.\n",
              "  const files = yield {\n",
              "    promise: Promise.race([pickedPromise, cancelPromise]),\n",
              "    response: {\n",
              "      action: 'starting',\n",
              "    }\n",
              "  };\n",
              "\n",
              "  cancel.remove();\n",
              "\n",
              "  // Disable the input element since further picks are not allowed.\n",
              "  inputElement.disabled = true;\n",
              "\n",
              "  if (!files) {\n",
              "    return {\n",
              "      response: {\n",
              "        action: 'complete',\n",
              "      }\n",
              "    };\n",
              "  }\n",
              "\n",
              "  for (const file of files) {\n",
              "    const li = document.createElement('li');\n",
              "    li.append(span(file.name, {fontWeight: 'bold'}));\n",
              "    li.append(span(\n",
              "        `(${file.type || 'n/a'}) - ${file.size} bytes, ` +\n",
              "        `last modified: ${\n",
              "            file.lastModifiedDate ? file.lastModifiedDate.toLocaleDateString() :\n",
              "                                    'n/a'} - `));\n",
              "    const percent = span('0% done');\n",
              "    li.appendChild(percent);\n",
              "\n",
              "    outputElement.appendChild(li);\n",
              "\n",
              "    const fileDataPromise = new Promise((resolve) => {\n",
              "      const reader = new FileReader();\n",
              "      reader.onload = (e) => {\n",
              "        resolve(e.target.result);\n",
              "      };\n",
              "      reader.readAsArrayBuffer(file);\n",
              "    });\n",
              "    // Wait for the data to be ready.\n",
              "    let fileData = yield {\n",
              "      promise: fileDataPromise,\n",
              "      response: {\n",
              "        action: 'continue',\n",
              "      }\n",
              "    };\n",
              "\n",
              "    // Use a chunked sending to avoid message size limits. See b/62115660.\n",
              "    let position = 0;\n",
              "    do {\n",
              "      const length = Math.min(fileData.byteLength - position, MAX_PAYLOAD_SIZE);\n",
              "      const chunk = new Uint8Array(fileData, position, length);\n",
              "      position += length;\n",
              "\n",
              "      const base64 = btoa(String.fromCharCode.apply(null, chunk));\n",
              "      yield {\n",
              "        response: {\n",
              "          action: 'append',\n",
              "          file: file.name,\n",
              "          data: base64,\n",
              "        },\n",
              "      };\n",
              "\n",
              "      let percentDone = fileData.byteLength === 0 ?\n",
              "          100 :\n",
              "          Math.round((position / fileData.byteLength) * 100);\n",
              "      percent.textContent = `${percentDone}% done`;\n",
              "\n",
              "    } while (position < fileData.byteLength);\n",
              "  }\n",
              "\n",
              "  // All done.\n",
              "  yield {\n",
              "    response: {\n",
              "      action: 'complete',\n",
              "    }\n",
              "  };\n",
              "}\n",
              "\n",
              "scope.google = scope.google || {};\n",
              "scope.google.colab = scope.google.colab || {};\n",
              "scope.google.colab._files = {\n",
              "  _uploadFiles,\n",
              "  _uploadFilesContinue,\n",
              "};\n",
              "})(self);\n",
              "</script> "
            ]
          },
          "metadata": {}
        },
        {
          "output_type": "stream",
          "name": "stdout",
          "text": [
            "Saving kaggle.json to kaggle.json\n"
          ]
        },
        {
          "output_type": "execute_result",
          "data": {
            "text/plain": [
              "{'kaggle.json': b'{\"username\":\"marinabalakina\",\"key\":\"0763a280a2e52ea690b44499c8ab213e\"}'}"
            ]
          },
          "metadata": {},
          "execution_count": 4
        }
      ]
    },
    {
      "cell_type": "code",
      "source": [
        "! mkdir ~/.kaggle # Создаем каталог .kaggle  1 раз, для того, чтобы сюда положить ключ kaggle.json, который получаем на Kaggle при регистрации"
      ],
      "metadata": {
        "id": "iuha-eEUz-iH"
      },
      "execution_count": 5,
      "outputs": []
    },
    {
      "cell_type": "code",
      "source": [
        "! cp kaggle.json ~/.kaggle/  # кладем ключ"
      ],
      "metadata": {
        "id": "2Xn66wCB0FJE"
      },
      "execution_count": 6,
      "outputs": []
    },
    {
      "cell_type": "code",
      "source": [
        "! chmod 600 /root/.kaggle/kaggle.json # засекречиваем. К сожалению, это все только на время сеанса"
      ],
      "metadata": {
        "id": "Y6GTFVJu0IYe"
      },
      "execution_count": 7,
      "outputs": []
    },
    {
      "cell_type": "code",
      "source": [
        "!kaggle datasets list -s 'heart' # Сюда  - люббое ключевое слово"
      ],
      "metadata": {
        "colab": {
          "base_uri": "https://localhost:8080/"
        },
        "id": "MswbeKKL0LPm",
        "outputId": "cdd8db2e-b049-4f90-f93b-c782f8363419"
      },
      "execution_count": 8,
      "outputs": [
        {
          "output_type": "stream",
          "name": "stdout",
          "text": [
            "ref                                                          title                                        size  lastUpdated          downloadCount  voteCount  usabilityRating  \n",
            "-----------------------------------------------------------  ------------------------------------------  -----  -------------------  -------------  ---------  ---------------  \n",
            "andrewmvd/heart-failure-clinical-data                        Heart Failure Prediction                      4KB  2020-06-20 01:03:20         110928       1993  1.0              \n",
            "fedesoriano/heart-failure-prediction                         Heart Failure Prediction Dataset              9KB  2021-09-10 18:11:57         101615       2141  1.0              \n",
            "johnsmith88/heart-disease-dataset                            Heart Disease Dataset                         6KB  2019-06-06 15:33:55          84262        663  0.88235295       \n",
            "rashikrahmanpritom/heart-attack-analysis-prediction-dataset  Heart Attack Analysis & Prediction Dataset    4KB  2021-03-22 11:40:59         128079       3067  1.0              \n",
            "rishidamarla/heart-disease-prediction                        Heart Disease Prediction                      3KB  2020-08-23 01:18:14          14675        134  0.9411765        \n",
            "pritsheta/heart-attack                                       Heart Attack                                  3KB  2021-09-26 06:47:56           4131         71  1.0              \n",
            "imnikhilanand/heart-attack-prediction                        Heart Attack Prediction                       3KB  2018-04-25 18:24:01          18450        270  0.7058824        \n",
            "kamilpytlak/personal-key-indicators-of-heart-disease         Personal Key Indicators of Heart Disease      3MB  2022-02-16 10:18:03          42845        674  1.0              \n",
            "yasserh/heart-disease-dataset                                Heart Disease Dataset                         3KB  2021-12-29 14:29:31           4824         53  1.0              \n",
            "kinguistics/heartbeat-sounds                                 Heartbeat Sounds                            110MB  2016-11-27 01:33:54          18395        547  0.7647059        \n",
            "cherngs/heart-disease-cleveland-uci                          Heart Disease Cleveland UCI                   3KB  2020-03-29 12:06:31          13202        122  0.88235295       \n",
            "alexteboul/heart-disease-health-indicators-dataset           Heart Disease Health Indicators Dataset       3MB  2022-03-10 05:37:21          13006        185  0.9411765        \n",
            "redwankarimsony/heart-disease-data                           UCI Heart Disease Data                       12KB  2020-09-23 03:34:11          10196         84  0.9411765        \n",
            "nareshbhat/health-care-data-set-on-heart-attack-possibility  Health care: Heart attack possibility         3KB  2020-06-25 07:11:26          25450        347  0.7058824        \n",
            "volodymyrgavrysh/heart-disease                               Heart_Disease                                 3KB  2020-01-17 19:09:22           4341         79  1.0              \n",
            "mirzahasnine/heart-disease-dataset                           Heart Disease Dataset                        61KB  2023-03-11 13:22:58           1539         37  0.8235294        \n",
            "mazharkarimi/heart-disease-and-stroke-prevention             Heart Disease and Stroke Prevention           1MB  2018-05-14 10:36:48          10291        197  0.7058824        \n",
            "data855/heart-disease                                        Heart Disease                                 3KB  2020-09-08 06:04:56           1416         27  0.7647059        \n",
            "ritwikb3/heart-disease-cleveland                             Heart Disease Cleveland                       3KB  2023-03-28 17:48:48           1321         30  1.0              \n",
            "shayanfazeli/heartbeat                                       ECG Heartbeat Categorization Dataset         99MB  2018-05-31 18:47:34          57441        717  0.5882353        \n"
          ]
        }
      ]
    },
    {
      "cell_type": "code",
      "source": [
        "!kaggle datasets download -d 'fedesoriano/heart-failure-prediction'  # А это нужный датасет"
      ],
      "metadata": {
        "colab": {
          "base_uri": "https://localhost:8080/"
        },
        "id": "nlPOJjsb0T2K",
        "outputId": "ddf549a4-d7af-4edf-d635-2b539cae3e50"
      },
      "execution_count": 9,
      "outputs": [
        {
          "output_type": "stream",
          "name": "stdout",
          "text": [
            "Downloading heart-failure-prediction.zip to /content\n",
            "\r  0% 0.00/8.56k [00:00<?, ?B/s]\n",
            "\r100% 8.56k/8.56k [00:00<00:00, 34.6MB/s]\n"
          ]
        }
      ]
    },
    {
      "cell_type": "code",
      "source": [
        "!unzip heart-failure-prediction.zip"
      ],
      "metadata": {
        "colab": {
          "base_uri": "https://localhost:8080/"
        },
        "id": "DMwmC4RJ0Uet",
        "outputId": "b74083ff-aea4-45a7-d8fb-16501fe126e3"
      },
      "execution_count": 10,
      "outputs": [
        {
          "output_type": "stream",
          "name": "stdout",
          "text": [
            "Archive:  heart-failure-prediction.zip\n",
            "  inflating: heart.csv               \n"
          ]
        }
      ]
    },
    {
      "cell_type": "code",
      "source": [
        "df = pd.read_csv('/content/heart.csv')\n",
        "df.head()"
      ],
      "metadata": {
        "colab": {
          "base_uri": "https://localhost:8080/",
          "height": 206
        },
        "id": "EFF_d8vf0ZbX",
        "outputId": "9fc6a0d8-68df-4dd5-8cc4-112cb7fed2b4"
      },
      "execution_count": 11,
      "outputs": [
        {
          "output_type": "execute_result",
          "data": {
            "text/plain": [
              "   Age Sex ChestPainType  RestingBP  Cholesterol  FastingBS RestingECG  MaxHR  \\\n",
              "0   40   M           ATA        140          289          0     Normal    172   \n",
              "1   49   F           NAP        160          180          0     Normal    156   \n",
              "2   37   M           ATA        130          283          0         ST     98   \n",
              "3   48   F           ASY        138          214          0     Normal    108   \n",
              "4   54   M           NAP        150          195          0     Normal    122   \n",
              "\n",
              "  ExerciseAngina  Oldpeak ST_Slope  HeartDisease  \n",
              "0              N      0.0       Up             0  \n",
              "1              N      1.0     Flat             1  \n",
              "2              N      0.0       Up             0  \n",
              "3              Y      1.5     Flat             1  \n",
              "4              N      0.0       Up             0  "
            ],
            "text/html": [
              "\n",
              "  <div id=\"df-acf6a31f-57e5-4040-8200-67d224ee9204\">\n",
              "    <div class=\"colab-df-container\">\n",
              "      <div>\n",
              "<style scoped>\n",
              "    .dataframe tbody tr th:only-of-type {\n",
              "        vertical-align: middle;\n",
              "    }\n",
              "\n",
              "    .dataframe tbody tr th {\n",
              "        vertical-align: top;\n",
              "    }\n",
              "\n",
              "    .dataframe thead th {\n",
              "        text-align: right;\n",
              "    }\n",
              "</style>\n",
              "<table border=\"1\" class=\"dataframe\">\n",
              "  <thead>\n",
              "    <tr style=\"text-align: right;\">\n",
              "      <th></th>\n",
              "      <th>Age</th>\n",
              "      <th>Sex</th>\n",
              "      <th>ChestPainType</th>\n",
              "      <th>RestingBP</th>\n",
              "      <th>Cholesterol</th>\n",
              "      <th>FastingBS</th>\n",
              "      <th>RestingECG</th>\n",
              "      <th>MaxHR</th>\n",
              "      <th>ExerciseAngina</th>\n",
              "      <th>Oldpeak</th>\n",
              "      <th>ST_Slope</th>\n",
              "      <th>HeartDisease</th>\n",
              "    </tr>\n",
              "  </thead>\n",
              "  <tbody>\n",
              "    <tr>\n",
              "      <th>0</th>\n",
              "      <td>40</td>\n",
              "      <td>M</td>\n",
              "      <td>ATA</td>\n",
              "      <td>140</td>\n",
              "      <td>289</td>\n",
              "      <td>0</td>\n",
              "      <td>Normal</td>\n",
              "      <td>172</td>\n",
              "      <td>N</td>\n",
              "      <td>0.0</td>\n",
              "      <td>Up</td>\n",
              "      <td>0</td>\n",
              "    </tr>\n",
              "    <tr>\n",
              "      <th>1</th>\n",
              "      <td>49</td>\n",
              "      <td>F</td>\n",
              "      <td>NAP</td>\n",
              "      <td>160</td>\n",
              "      <td>180</td>\n",
              "      <td>0</td>\n",
              "      <td>Normal</td>\n",
              "      <td>156</td>\n",
              "      <td>N</td>\n",
              "      <td>1.0</td>\n",
              "      <td>Flat</td>\n",
              "      <td>1</td>\n",
              "    </tr>\n",
              "    <tr>\n",
              "      <th>2</th>\n",
              "      <td>37</td>\n",
              "      <td>M</td>\n",
              "      <td>ATA</td>\n",
              "      <td>130</td>\n",
              "      <td>283</td>\n",
              "      <td>0</td>\n",
              "      <td>ST</td>\n",
              "      <td>98</td>\n",
              "      <td>N</td>\n",
              "      <td>0.0</td>\n",
              "      <td>Up</td>\n",
              "      <td>0</td>\n",
              "    </tr>\n",
              "    <tr>\n",
              "      <th>3</th>\n",
              "      <td>48</td>\n",
              "      <td>F</td>\n",
              "      <td>ASY</td>\n",
              "      <td>138</td>\n",
              "      <td>214</td>\n",
              "      <td>0</td>\n",
              "      <td>Normal</td>\n",
              "      <td>108</td>\n",
              "      <td>Y</td>\n",
              "      <td>1.5</td>\n",
              "      <td>Flat</td>\n",
              "      <td>1</td>\n",
              "    </tr>\n",
              "    <tr>\n",
              "      <th>4</th>\n",
              "      <td>54</td>\n",
              "      <td>M</td>\n",
              "      <td>NAP</td>\n",
              "      <td>150</td>\n",
              "      <td>195</td>\n",
              "      <td>0</td>\n",
              "      <td>Normal</td>\n",
              "      <td>122</td>\n",
              "      <td>N</td>\n",
              "      <td>0.0</td>\n",
              "      <td>Up</td>\n",
              "      <td>0</td>\n",
              "    </tr>\n",
              "  </tbody>\n",
              "</table>\n",
              "</div>\n",
              "      <button class=\"colab-df-convert\" onclick=\"convertToInteractive('df-acf6a31f-57e5-4040-8200-67d224ee9204')\"\n",
              "              title=\"Convert this dataframe to an interactive table.\"\n",
              "              style=\"display:none;\">\n",
              "        \n",
              "  <svg xmlns=\"http://www.w3.org/2000/svg\" height=\"24px\"viewBox=\"0 0 24 24\"\n",
              "       width=\"24px\">\n",
              "    <path d=\"M0 0h24v24H0V0z\" fill=\"none\"/>\n",
              "    <path d=\"M18.56 5.44l.94 2.06.94-2.06 2.06-.94-2.06-.94-.94-2.06-.94 2.06-2.06.94zm-11 1L8.5 8.5l.94-2.06 2.06-.94-2.06-.94L8.5 2.5l-.94 2.06-2.06.94zm10 10l.94 2.06.94-2.06 2.06-.94-2.06-.94-.94-2.06-.94 2.06-2.06.94z\"/><path d=\"M17.41 7.96l-1.37-1.37c-.4-.4-.92-.59-1.43-.59-.52 0-1.04.2-1.43.59L10.3 9.45l-7.72 7.72c-.78.78-.78 2.05 0 2.83L4 21.41c.39.39.9.59 1.41.59.51 0 1.02-.2 1.41-.59l7.78-7.78 2.81-2.81c.8-.78.8-2.07 0-2.86zM5.41 20L4 18.59l7.72-7.72 1.47 1.35L5.41 20z\"/>\n",
              "  </svg>\n",
              "      </button>\n",
              "      \n",
              "  <style>\n",
              "    .colab-df-container {\n",
              "      display:flex;\n",
              "      flex-wrap:wrap;\n",
              "      gap: 12px;\n",
              "    }\n",
              "\n",
              "    .colab-df-convert {\n",
              "      background-color: #E8F0FE;\n",
              "      border: none;\n",
              "      border-radius: 50%;\n",
              "      cursor: pointer;\n",
              "      display: none;\n",
              "      fill: #1967D2;\n",
              "      height: 32px;\n",
              "      padding: 0 0 0 0;\n",
              "      width: 32px;\n",
              "    }\n",
              "\n",
              "    .colab-df-convert:hover {\n",
              "      background-color: #E2EBFA;\n",
              "      box-shadow: 0px 1px 2px rgba(60, 64, 67, 0.3), 0px 1px 3px 1px rgba(60, 64, 67, 0.15);\n",
              "      fill: #174EA6;\n",
              "    }\n",
              "\n",
              "    [theme=dark] .colab-df-convert {\n",
              "      background-color: #3B4455;\n",
              "      fill: #D2E3FC;\n",
              "    }\n",
              "\n",
              "    [theme=dark] .colab-df-convert:hover {\n",
              "      background-color: #434B5C;\n",
              "      box-shadow: 0px 1px 3px 1px rgba(0, 0, 0, 0.15);\n",
              "      filter: drop-shadow(0px 1px 2px rgba(0, 0, 0, 0.3));\n",
              "      fill: #FFFFFF;\n",
              "    }\n",
              "  </style>\n",
              "\n",
              "      <script>\n",
              "        const buttonEl =\n",
              "          document.querySelector('#df-acf6a31f-57e5-4040-8200-67d224ee9204 button.colab-df-convert');\n",
              "        buttonEl.style.display =\n",
              "          google.colab.kernel.accessAllowed ? 'block' : 'none';\n",
              "\n",
              "        async function convertToInteractive(key) {\n",
              "          const element = document.querySelector('#df-acf6a31f-57e5-4040-8200-67d224ee9204');\n",
              "          const dataTable =\n",
              "            await google.colab.kernel.invokeFunction('convertToInteractive',\n",
              "                                                     [key], {});\n",
              "          if (!dataTable) return;\n",
              "\n",
              "          const docLinkHtml = 'Like what you see? Visit the ' +\n",
              "            '<a target=\"_blank\" href=https://colab.research.google.com/notebooks/data_table.ipynb>data table notebook</a>'\n",
              "            + ' to learn more about interactive tables.';\n",
              "          element.innerHTML = '';\n",
              "          dataTable['output_type'] = 'display_data';\n",
              "          await google.colab.output.renderOutput(dataTable, element);\n",
              "          const docLink = document.createElement('div');\n",
              "          docLink.innerHTML = docLinkHtml;\n",
              "          element.appendChild(docLink);\n",
              "        }\n",
              "      </script>\n",
              "    </div>\n",
              "  </div>\n",
              "  "
            ]
          },
          "metadata": {},
          "execution_count": 11
        }
      ]
    },
    {
      "cell_type": "code",
      "source": [
        "df.describe()"
      ],
      "metadata": {
        "id": "tslBsZ4_0Z9C",
        "colab": {
          "base_uri": "https://localhost:8080/",
          "height": 300
        },
        "outputId": "695a1e35-7051-4c8d-8bf1-12f9e87ecc53"
      },
      "execution_count": 12,
      "outputs": [
        {
          "output_type": "execute_result",
          "data": {
            "text/plain": [
              "              Age   RestingBP  Cholesterol   FastingBS       MaxHR  \\\n",
              "count  918.000000  918.000000   918.000000  918.000000  918.000000   \n",
              "mean    53.510893  132.396514   198.799564    0.233115  136.809368   \n",
              "std      9.432617   18.514154   109.384145    0.423046   25.460334   \n",
              "min     28.000000    0.000000     0.000000    0.000000   60.000000   \n",
              "25%     47.000000  120.000000   173.250000    0.000000  120.000000   \n",
              "50%     54.000000  130.000000   223.000000    0.000000  138.000000   \n",
              "75%     60.000000  140.000000   267.000000    0.000000  156.000000   \n",
              "max     77.000000  200.000000   603.000000    1.000000  202.000000   \n",
              "\n",
              "          Oldpeak  HeartDisease  \n",
              "count  918.000000    918.000000  \n",
              "mean     0.887364      0.553377  \n",
              "std      1.066570      0.497414  \n",
              "min     -2.600000      0.000000  \n",
              "25%      0.000000      0.000000  \n",
              "50%      0.600000      1.000000  \n",
              "75%      1.500000      1.000000  \n",
              "max      6.200000      1.000000  "
            ],
            "text/html": [
              "\n",
              "  <div id=\"df-3708a911-7888-4026-a86e-1e68f3f43f46\">\n",
              "    <div class=\"colab-df-container\">\n",
              "      <div>\n",
              "<style scoped>\n",
              "    .dataframe tbody tr th:only-of-type {\n",
              "        vertical-align: middle;\n",
              "    }\n",
              "\n",
              "    .dataframe tbody tr th {\n",
              "        vertical-align: top;\n",
              "    }\n",
              "\n",
              "    .dataframe thead th {\n",
              "        text-align: right;\n",
              "    }\n",
              "</style>\n",
              "<table border=\"1\" class=\"dataframe\">\n",
              "  <thead>\n",
              "    <tr style=\"text-align: right;\">\n",
              "      <th></th>\n",
              "      <th>Age</th>\n",
              "      <th>RestingBP</th>\n",
              "      <th>Cholesterol</th>\n",
              "      <th>FastingBS</th>\n",
              "      <th>MaxHR</th>\n",
              "      <th>Oldpeak</th>\n",
              "      <th>HeartDisease</th>\n",
              "    </tr>\n",
              "  </thead>\n",
              "  <tbody>\n",
              "    <tr>\n",
              "      <th>count</th>\n",
              "      <td>918.000000</td>\n",
              "      <td>918.000000</td>\n",
              "      <td>918.000000</td>\n",
              "      <td>918.000000</td>\n",
              "      <td>918.000000</td>\n",
              "      <td>918.000000</td>\n",
              "      <td>918.000000</td>\n",
              "    </tr>\n",
              "    <tr>\n",
              "      <th>mean</th>\n",
              "      <td>53.510893</td>\n",
              "      <td>132.396514</td>\n",
              "      <td>198.799564</td>\n",
              "      <td>0.233115</td>\n",
              "      <td>136.809368</td>\n",
              "      <td>0.887364</td>\n",
              "      <td>0.553377</td>\n",
              "    </tr>\n",
              "    <tr>\n",
              "      <th>std</th>\n",
              "      <td>9.432617</td>\n",
              "      <td>18.514154</td>\n",
              "      <td>109.384145</td>\n",
              "      <td>0.423046</td>\n",
              "      <td>25.460334</td>\n",
              "      <td>1.066570</td>\n",
              "      <td>0.497414</td>\n",
              "    </tr>\n",
              "    <tr>\n",
              "      <th>min</th>\n",
              "      <td>28.000000</td>\n",
              "      <td>0.000000</td>\n",
              "      <td>0.000000</td>\n",
              "      <td>0.000000</td>\n",
              "      <td>60.000000</td>\n",
              "      <td>-2.600000</td>\n",
              "      <td>0.000000</td>\n",
              "    </tr>\n",
              "    <tr>\n",
              "      <th>25%</th>\n",
              "      <td>47.000000</td>\n",
              "      <td>120.000000</td>\n",
              "      <td>173.250000</td>\n",
              "      <td>0.000000</td>\n",
              "      <td>120.000000</td>\n",
              "      <td>0.000000</td>\n",
              "      <td>0.000000</td>\n",
              "    </tr>\n",
              "    <tr>\n",
              "      <th>50%</th>\n",
              "      <td>54.000000</td>\n",
              "      <td>130.000000</td>\n",
              "      <td>223.000000</td>\n",
              "      <td>0.000000</td>\n",
              "      <td>138.000000</td>\n",
              "      <td>0.600000</td>\n",
              "      <td>1.000000</td>\n",
              "    </tr>\n",
              "    <tr>\n",
              "      <th>75%</th>\n",
              "      <td>60.000000</td>\n",
              "      <td>140.000000</td>\n",
              "      <td>267.000000</td>\n",
              "      <td>0.000000</td>\n",
              "      <td>156.000000</td>\n",
              "      <td>1.500000</td>\n",
              "      <td>1.000000</td>\n",
              "    </tr>\n",
              "    <tr>\n",
              "      <th>max</th>\n",
              "      <td>77.000000</td>\n",
              "      <td>200.000000</td>\n",
              "      <td>603.000000</td>\n",
              "      <td>1.000000</td>\n",
              "      <td>202.000000</td>\n",
              "      <td>6.200000</td>\n",
              "      <td>1.000000</td>\n",
              "    </tr>\n",
              "  </tbody>\n",
              "</table>\n",
              "</div>\n",
              "      <button class=\"colab-df-convert\" onclick=\"convertToInteractive('df-3708a911-7888-4026-a86e-1e68f3f43f46')\"\n",
              "              title=\"Convert this dataframe to an interactive table.\"\n",
              "              style=\"display:none;\">\n",
              "        \n",
              "  <svg xmlns=\"http://www.w3.org/2000/svg\" height=\"24px\"viewBox=\"0 0 24 24\"\n",
              "       width=\"24px\">\n",
              "    <path d=\"M0 0h24v24H0V0z\" fill=\"none\"/>\n",
              "    <path d=\"M18.56 5.44l.94 2.06.94-2.06 2.06-.94-2.06-.94-.94-2.06-.94 2.06-2.06.94zm-11 1L8.5 8.5l.94-2.06 2.06-.94-2.06-.94L8.5 2.5l-.94 2.06-2.06.94zm10 10l.94 2.06.94-2.06 2.06-.94-2.06-.94-.94-2.06-.94 2.06-2.06.94z\"/><path d=\"M17.41 7.96l-1.37-1.37c-.4-.4-.92-.59-1.43-.59-.52 0-1.04.2-1.43.59L10.3 9.45l-7.72 7.72c-.78.78-.78 2.05 0 2.83L4 21.41c.39.39.9.59 1.41.59.51 0 1.02-.2 1.41-.59l7.78-7.78 2.81-2.81c.8-.78.8-2.07 0-2.86zM5.41 20L4 18.59l7.72-7.72 1.47 1.35L5.41 20z\"/>\n",
              "  </svg>\n",
              "      </button>\n",
              "      \n",
              "  <style>\n",
              "    .colab-df-container {\n",
              "      display:flex;\n",
              "      flex-wrap:wrap;\n",
              "      gap: 12px;\n",
              "    }\n",
              "\n",
              "    .colab-df-convert {\n",
              "      background-color: #E8F0FE;\n",
              "      border: none;\n",
              "      border-radius: 50%;\n",
              "      cursor: pointer;\n",
              "      display: none;\n",
              "      fill: #1967D2;\n",
              "      height: 32px;\n",
              "      padding: 0 0 0 0;\n",
              "      width: 32px;\n",
              "    }\n",
              "\n",
              "    .colab-df-convert:hover {\n",
              "      background-color: #E2EBFA;\n",
              "      box-shadow: 0px 1px 2px rgba(60, 64, 67, 0.3), 0px 1px 3px 1px rgba(60, 64, 67, 0.15);\n",
              "      fill: #174EA6;\n",
              "    }\n",
              "\n",
              "    [theme=dark] .colab-df-convert {\n",
              "      background-color: #3B4455;\n",
              "      fill: #D2E3FC;\n",
              "    }\n",
              "\n",
              "    [theme=dark] .colab-df-convert:hover {\n",
              "      background-color: #434B5C;\n",
              "      box-shadow: 0px 1px 3px 1px rgba(0, 0, 0, 0.15);\n",
              "      filter: drop-shadow(0px 1px 2px rgba(0, 0, 0, 0.3));\n",
              "      fill: #FFFFFF;\n",
              "    }\n",
              "  </style>\n",
              "\n",
              "      <script>\n",
              "        const buttonEl =\n",
              "          document.querySelector('#df-3708a911-7888-4026-a86e-1e68f3f43f46 button.colab-df-convert');\n",
              "        buttonEl.style.display =\n",
              "          google.colab.kernel.accessAllowed ? 'block' : 'none';\n",
              "\n",
              "        async function convertToInteractive(key) {\n",
              "          const element = document.querySelector('#df-3708a911-7888-4026-a86e-1e68f3f43f46');\n",
              "          const dataTable =\n",
              "            await google.colab.kernel.invokeFunction('convertToInteractive',\n",
              "                                                     [key], {});\n",
              "          if (!dataTable) return;\n",
              "\n",
              "          const docLinkHtml = 'Like what you see? Visit the ' +\n",
              "            '<a target=\"_blank\" href=https://colab.research.google.com/notebooks/data_table.ipynb>data table notebook</a>'\n",
              "            + ' to learn more about interactive tables.';\n",
              "          element.innerHTML = '';\n",
              "          dataTable['output_type'] = 'display_data';\n",
              "          await google.colab.output.renderOutput(dataTable, element);\n",
              "          const docLink = document.createElement('div');\n",
              "          docLink.innerHTML = docLinkHtml;\n",
              "          element.appendChild(docLink);\n",
              "        }\n",
              "      </script>\n",
              "    </div>\n",
              "  </div>\n",
              "  "
            ]
          },
          "metadata": {},
          "execution_count": 12
        }
      ]
    },
    {
      "cell_type": "markdown",
      "source": [
        "#2. Подготовьте датасет к обучению моделей:\n",
        "a) Категориальные переменные переведите в цифровые значения. Можно использовать pd.get_dummies, preprocessing.LabelEncoder. "
      ],
      "metadata": {
        "id": "pUx6d_06x58F"
      }
    },
    {
      "cell_type": "code",
      "source": [
        "df.info() # пропусков типа nan нет"
      ],
      "metadata": {
        "colab": {
          "base_uri": "https://localhost:8080/"
        },
        "id": "kmlxwPIGyBz_",
        "outputId": "291407e6-544c-40c0-eab0-e69ab8c2e231"
      },
      "execution_count": 13,
      "outputs": [
        {
          "output_type": "stream",
          "name": "stdout",
          "text": [
            "<class 'pandas.core.frame.DataFrame'>\n",
            "RangeIndex: 918 entries, 0 to 917\n",
            "Data columns (total 12 columns):\n",
            " #   Column          Non-Null Count  Dtype  \n",
            "---  ------          --------------  -----  \n",
            " 0   Age             918 non-null    int64  \n",
            " 1   Sex             918 non-null    object \n",
            " 2   ChestPainType   918 non-null    object \n",
            " 3   RestingBP       918 non-null    int64  \n",
            " 4   Cholesterol     918 non-null    int64  \n",
            " 5   FastingBS       918 non-null    int64  \n",
            " 6   RestingECG      918 non-null    object \n",
            " 7   MaxHR           918 non-null    int64  \n",
            " 8   ExerciseAngina  918 non-null    object \n",
            " 9   Oldpeak         918 non-null    float64\n",
            " 10  ST_Slope        918 non-null    object \n",
            " 11  HeartDisease    918 non-null    int64  \n",
            "dtypes: float64(1), int64(6), object(5)\n",
            "memory usage: 86.2+ KB\n"
          ]
        }
      ]
    },
    {
      "cell_type": "code",
      "source": [
        "# проверим, нет ли пропусков, обозначенных \"?\" \n",
        "flag=True\n",
        "for column in df.columns:\n",
        "  if('?')  in list(df[column].value_counts()):\n",
        "    print(column)\n",
        "    flag = False\n",
        "if flag:\n",
        "    print('пропусков \"?\" нет')"
      ],
      "metadata": {
        "colab": {
          "base_uri": "https://localhost:8080/"
        },
        "id": "a70h2Fsk0jn3",
        "outputId": "df804ccf-5e16-4ab4-9d16-37591522614b"
      },
      "execution_count": 14,
      "outputs": [
        {
          "output_type": "stream",
          "name": "stdout",
          "text": [
            "пропусков \"?\" нет\n"
          ]
        }
      ]
    },
    {
      "cell_type": "code",
      "source": [
        "# Категориальные features - определяем по типу object. Вместе с target их 9\n",
        "cat_features = df.select_dtypes(\"object\").columns.tolist()\n",
        "print(*cat_features, sep=\", \")"
      ],
      "metadata": {
        "colab": {
          "base_uri": "https://localhost:8080/"
        },
        "id": "5WyI8pbn0mol",
        "outputId": "89e635b7-4058-4d74-f606-631de458d33b"
      },
      "execution_count": 15,
      "outputs": [
        {
          "output_type": "stream",
          "name": "stdout",
          "text": [
            "Sex, ChestPainType, RestingECG, ExerciseAngina, ST_Slope\n"
          ]
        }
      ]
    },
    {
      "cell_type": "code",
      "source": [
        "# Это числовые признаки\n",
        "num_features = df.select_dtypes(['int', 'float']).columns.tolist()\n",
        "print(*num_features, sep=\", \")"
      ],
      "metadata": {
        "colab": {
          "base_uri": "https://localhost:8080/"
        },
        "id": "jdKe4Brd0qyN",
        "outputId": "eb7b6824-b34b-495c-dcfb-1f07170b3b99"
      },
      "execution_count": 16,
      "outputs": [
        {
          "output_type": "stream",
          "name": "stdout",
          "text": [
            "Age, RestingBP, Cholesterol, FastingBS, MaxHR, Oldpeak, HeartDisease\n"
          ]
        }
      ]
    },
    {
      "cell_type": "code",
      "source": [
        "# Настройка параметров оценивания алгоритма\n",
        "random_seed=0\n",
        "num_folds = 10\n",
        "n_iter = 1000\n",
        "n_estimators = 100\n",
        "scoring = {\"accuracy\": make_scorer(accuracy_score), \"recall\": make_scorer(recall_score), \"precision\": make_scorer(precision_score), \"f1\": make_scorer(f1_score) }\n",
        "# scoring = ['accuracy','recall','precision','f1'] # F1 = 2 * (precision * recall) / (precision + recall) Непонятно, зачем использовать Cross_validate Вместо cross_val_score, если время обучения и предсказания не используем???\n",
        "X = df.drop(columns=['HeartDisease'])\n",
        "y=df['HeartDisease']\n",
        "\n",
        "target_names = ['healthy', 'sick']"
      ],
      "metadata": {
        "id": "rVOufNRU0xYN"
      },
      "execution_count": 17,
      "outputs": []
    },
    {
      "cell_type": "code",
      "source": [
        "# Формирование списка алгоритмов\n",
        "models = []\n",
        "models.append(('LR_Base', LogisticRegression(random_state=random_seed)))\n",
        "models.append(('DTC', DecisionTreeClassifier(random_state=random_seed)))\n",
        "models.append(('RFC', RandomForestClassifier(random_state=random_seed)))\n",
        "models.append(('BGC', BaggingClassifier(random_state=random_seed)))\n",
        "models.append(('SCC', StackingClassifier(\n",
        "     [\n",
        "                                      ('DTS', DecisionTreeClassifier(random_state=random_seed)),\n",
        "                                      ('RFC',  RandomForestClassifier(random_state=random_seed)),\n",
        "                                     ],  \n",
        "                                      LinearSVC(C=1, random_state=random_seed) \n",
        ")))\n",
        "models.append(('GBC', GradientBoostingClassifier(random_state=random_seed)))\n",
        "models.append(('ABC', AdaBoostClassifier(random_state=random_seed)))\n",
        "models.append(('LGBMC', LGBMClassifier(random_state=random_seed)))\n",
        "models.append(('XGBC', XGBClassifier(random_state=random_seed)))\n",
        "models.append(('CBC', CatBoostClassifier(random_state=random_seed)))\n"
      ],
      "metadata": {
        "id": "_5Oal-Ar1GXV"
      },
      "execution_count": 18,
      "outputs": []
    },
    {
      "cell_type": "code",
      "source": [
        "# Пайплайн трансформации числовых и категориальных признаков\n",
        "num_features =['Age', 'RestingBP', 'Cholesterol', 'FastingBS', 'MaxHR', 'Oldpeak']\n",
        "numeric_transformer = Pipeline(\n",
        "    steps=[ (\"scaler\", Normalizer())]\n",
        ")\n",
        "\n",
        "\n",
        "categorical_transformer = Pipeline(\n",
        "    steps=[\n",
        "        (\"encoder\", OneHotEncoder(handle_unknown=\"ignore\")),\n",
        "        (\"selector\", SelectPercentile(chi2, percentile=50)),\n",
        "    ]\n",
        ")\n",
        "preprocessor = ColumnTransformer(\n",
        "    transformers=[\n",
        "        (\"num\", numeric_transformer, num_features),\n",
        "        (\"cat\", categorical_transformer, cat_features),\n",
        "    ]\n",
        ")  "
      ],
      "metadata": {
        "id": "0ZQ3pGyf1XPM"
      },
      "execution_count": 19,
      "outputs": []
    },
    {
      "cell_type": "code",
      "source": [
        "clf = Pipeline(\n",
        "    steps=[(\"preprocessor\", preprocessor), (\"classifier\", LogisticRegression(random_state=random_seed))]\n",
        ")"
      ],
      "metadata": {
        "id": "4Xhrl9hjTBQb"
      },
      "execution_count": 20,
      "outputs": []
    },
    {
      "cell_type": "code",
      "source": [
        "# Блиц-проверка алгоритмов на нормализованных исходных данных\n",
        "# (функция Normalizer)\n",
        "pipelines = []\n",
        "pipelines.append(('Base_LR', Pipeline([(\"preprocessor\", preprocessor),\n",
        "                                    ('LR_Base', LogisticRegression(random_state=random_seed))])))\n",
        "pipelines.append(('SS_DTS', Pipeline([(\"preprocessor\", preprocessor),\n",
        "                                    ('DTS', DecisionTreeClassifier(random_state=random_seed))])))\n",
        "\n",
        "pipelines.append(('SS_RFC', Pipeline([(\"preprocessor\", preprocessor),\n",
        "                                     ('RFC', RandomForestClassifier(random_state=random_seed))])))\n",
        "\n",
        "pipelines.append(('SS_BGS', Pipeline([(\"preprocessor\", preprocessor),\n",
        "                                     ('BGC', BaggingClassifier(random_state=random_seed))])))\n",
        "\n",
        "pipelines.append(('SS_GBC', Pipeline([(\"preprocessor\", preprocessor),\n",
        "                                      ('GBC', GradientBoostingClassifier(random_state=random_seed))])))\n",
        "\n",
        "pipelines.append(('SS_ABC', Pipeline([(\"preprocessor\", preprocessor),\n",
        "                                      ('ABC', AdaBoostClassifier(random_state=random_seed))])))\n",
        "\n",
        "pipelines.append(('SS_LGBMC', Pipeline([(\"preprocessor\", preprocessor),\n",
        "                                      ('LGBMC', LGBMClassifier(random_state=random_seed))])))\n",
        "\n",
        "pipelines.append(('SS_XGBC', Pipeline([(\"preprocessor\", preprocessor),\n",
        "                                    ('XGBC', XGBClassifier(random_state=random_seed))])))\n",
        "\n",
        "pipelines.append(('SS_SCC', Pipeline([(\"preprocessor\", preprocessor),\n",
        "                                     ('SCC', StackingClassifier([\n",
        "                                      ('DTS', DecisionTreeClassifier(random_state=random_seed)),\n",
        "                                      ('RFC',  RandomForestClassifier(random_state=random_seed))],  \n",
        "                                      LinearSVC(C=1, random_state=random_seed)))])))\n",
        "\n",
        "pipelines.append(('SS_CBC', Pipeline([(\"preprocessor\", preprocessor),\n",
        "                                      ('CBC', CatBoostClassifier(random_state=random_seed,\n",
        "                                         verbose=False\n",
        "                                      ))])))"
      ],
      "metadata": {
        "id": "h2ONoM7wOooe"
      },
      "execution_count": 21,
      "outputs": []
    },
    {
      "cell_type": "markdown",
      "source": [
        "#3. Разделите выборку на обучающее и тестовое подмножество. 80% данных оставить на обучающее множество, 20% на тестовое."
      ],
      "metadata": {
        "id": "ZofjMtfFyCHi"
      }
    },
    {
      "cell_type": "code",
      "source": [
        "X_train, X_test, y_train, y_test = train_test_split(X, y, test_size=0.2, random_state=random_seed)"
      ],
      "metadata": {
        "id": "UM6H-hkpTgvP"
      },
      "execution_count": 54,
      "outputs": []
    },
    {
      "cell_type": "code",
      "source": [
        "model= LogisticRegression(random_state=random_seed)\n",
        "model.fit(X_train, y_train)"
      ],
      "metadata": {
        "colab": {
          "base_uri": "https://localhost:8080/",
          "height": 75
        },
        "id": "7OUWjgbJBu79",
        "outputId": "07e34687-1679-4051-c85c-2199d6a8d087"
      },
      "execution_count": 55,
      "outputs": [
        {
          "output_type": "execute_result",
          "data": {
            "text/plain": [
              "LogisticRegression(random_state=0)"
            ],
            "text/html": [
              "<style>#sk-container-id-4 {color: black;background-color: white;}#sk-container-id-4 pre{padding: 0;}#sk-container-id-4 div.sk-toggleable {background-color: white;}#sk-container-id-4 label.sk-toggleable__label {cursor: pointer;display: block;width: 100%;margin-bottom: 0;padding: 0.3em;box-sizing: border-box;text-align: center;}#sk-container-id-4 label.sk-toggleable__label-arrow:before {content: \"▸\";float: left;margin-right: 0.25em;color: #696969;}#sk-container-id-4 label.sk-toggleable__label-arrow:hover:before {color: black;}#sk-container-id-4 div.sk-estimator:hover label.sk-toggleable__label-arrow:before {color: black;}#sk-container-id-4 div.sk-toggleable__content {max-height: 0;max-width: 0;overflow: hidden;text-align: left;background-color: #f0f8ff;}#sk-container-id-4 div.sk-toggleable__content pre {margin: 0.2em;color: black;border-radius: 0.25em;background-color: #f0f8ff;}#sk-container-id-4 input.sk-toggleable__control:checked~div.sk-toggleable__content {max-height: 200px;max-width: 100%;overflow: auto;}#sk-container-id-4 input.sk-toggleable__control:checked~label.sk-toggleable__label-arrow:before {content: \"▾\";}#sk-container-id-4 div.sk-estimator input.sk-toggleable__control:checked~label.sk-toggleable__label {background-color: #d4ebff;}#sk-container-id-4 div.sk-label input.sk-toggleable__control:checked~label.sk-toggleable__label {background-color: #d4ebff;}#sk-container-id-4 input.sk-hidden--visually {border: 0;clip: rect(1px 1px 1px 1px);clip: rect(1px, 1px, 1px, 1px);height: 1px;margin: -1px;overflow: hidden;padding: 0;position: absolute;width: 1px;}#sk-container-id-4 div.sk-estimator {font-family: monospace;background-color: #f0f8ff;border: 1px dotted black;border-radius: 0.25em;box-sizing: border-box;margin-bottom: 0.5em;}#sk-container-id-4 div.sk-estimator:hover {background-color: #d4ebff;}#sk-container-id-4 div.sk-parallel-item::after {content: \"\";width: 100%;border-bottom: 1px solid gray;flex-grow: 1;}#sk-container-id-4 div.sk-label:hover label.sk-toggleable__label {background-color: #d4ebff;}#sk-container-id-4 div.sk-serial::before {content: \"\";position: absolute;border-left: 1px solid gray;box-sizing: border-box;top: 0;bottom: 0;left: 50%;z-index: 0;}#sk-container-id-4 div.sk-serial {display: flex;flex-direction: column;align-items: center;background-color: white;padding-right: 0.2em;padding-left: 0.2em;position: relative;}#sk-container-id-4 div.sk-item {position: relative;z-index: 1;}#sk-container-id-4 div.sk-parallel {display: flex;align-items: stretch;justify-content: center;background-color: white;position: relative;}#sk-container-id-4 div.sk-item::before, #sk-container-id-4 div.sk-parallel-item::before {content: \"\";position: absolute;border-left: 1px solid gray;box-sizing: border-box;top: 0;bottom: 0;left: 50%;z-index: -1;}#sk-container-id-4 div.sk-parallel-item {display: flex;flex-direction: column;z-index: 1;position: relative;background-color: white;}#sk-container-id-4 div.sk-parallel-item:first-child::after {align-self: flex-end;width: 50%;}#sk-container-id-4 div.sk-parallel-item:last-child::after {align-self: flex-start;width: 50%;}#sk-container-id-4 div.sk-parallel-item:only-child::after {width: 0;}#sk-container-id-4 div.sk-dashed-wrapped {border: 1px dashed gray;margin: 0 0.4em 0.5em 0.4em;box-sizing: border-box;padding-bottom: 0.4em;background-color: white;}#sk-container-id-4 div.sk-label label {font-family: monospace;font-weight: bold;display: inline-block;line-height: 1.2em;}#sk-container-id-4 div.sk-label-container {text-align: center;}#sk-container-id-4 div.sk-container {/* jupyter's `normalize.less` sets `[hidden] { display: none; }` but bootstrap.min.css set `[hidden] { display: none !important; }` so we also need the `!important` here to be able to override the default hidden behavior on the sphinx rendered scikit-learn.org. See: https://github.com/scikit-learn/scikit-learn/issues/21755 */display: inline-block !important;position: relative;}#sk-container-id-4 div.sk-text-repr-fallback {display: none;}</style><div id=\"sk-container-id-4\" class=\"sk-top-container\"><div class=\"sk-text-repr-fallback\"><pre>LogisticRegression(random_state=0)</pre><b>In a Jupyter environment, please rerun this cell to show the HTML representation or trust the notebook. <br />On GitHub, the HTML representation is unable to render, please try loading this page with nbviewer.org.</b></div><div class=\"sk-container\" hidden><div class=\"sk-item\"><div class=\"sk-estimator sk-toggleable\"><input class=\"sk-toggleable__control sk-hidden--visually\" id=\"sk-estimator-id-22\" type=\"checkbox\" checked><label for=\"sk-estimator-id-22\" class=\"sk-toggleable__label sk-toggleable__label-arrow\">LogisticRegression</label><div class=\"sk-toggleable__content\"><pre>LogisticRegression(random_state=0)</pre></div></div></div></div></div>"
            ]
          },
          "metadata": {},
          "execution_count": 55
        }
      ]
    },
    {
      "cell_type": "code",
      "source": [
        "cv_results = cross_validate(model, X, y, cv=num_folds, scoring=\n",
        "                                 scoring,  return_train_score=True)\n",
        "res = {'fit_time': cv_results['fit_time'].mean(), \n",
        "                       'train_accuracy':  cv_results['train_accuracy'].mean(), \n",
        "                      'train_precision':  cv_results['train_precision'].mean(),\n",
        "                      'train_recall':  cv_results['train_recall'].mean(),\n",
        "                      'train_f1':  cv_results['train_f1'].mean(),\n",
        "                      'score_time':   cv_results['score_time'].mean(), \n",
        "                      'test_accuracy':  cv_results['test_accuracy'].mean(), \n",
        "                      'test_precision':  cv_results['test_precision'].mean(),\n",
        "                      'test_recall':  cv_results['test_recall'].mean(),\n",
        "                      'test_f1':  cv_results['test_f1'].mean(),\n",
        "                      }"
      ],
      "metadata": {
        "id": "Y8nKxjGyB3RY"
      },
      "execution_count": 56,
      "outputs": []
    },
    {
      "cell_type": "code",
      "source": [
        "res"
      ],
      "metadata": {
        "colab": {
          "base_uri": "https://localhost:8080/"
        },
        "id": "-8poXYOOCDeu",
        "outputId": "cb80bdd8-743a-45cd-d42e-35c181342331"
      },
      "execution_count": 57,
      "outputs": [
        {
          "output_type": "execute_result",
          "data": {
            "text/plain": [
              "{'fit_time': 0.022654271125793456,\n",
              " 'train_accuracy': 0.8731517401500801,\n",
              " 'train_precision': 0.8728534253891393,\n",
              " 'train_recall': 0.9022268831280517,\n",
              " 'train_f1': 0.887289726633596,\n",
              " 'score_time': 0.00782637596130371,\n",
              " 'test_accuracy': 0.8483874820831343,\n",
              " 'test_precision': 0.8644599660790575,\n",
              " 'test_recall': 0.8675686274509802,\n",
              " 'test_f1': 0.8615900831638843}"
            ]
          },
          "metadata": {},
          "execution_count": 57
        }
      ]
    },
    {
      "cell_type": "code",
      "source": [
        "# Оценивание эффективности выполнения каждого алгоритма\n",
        "results = {}\n",
        "\n",
        "for name, model in pipelines:\n",
        "    kfold = KFold(n_splits=num_folds, random_state=random_seed, shuffle=True)\n",
        "    X = df.drop(columns=['HeartDisease'])\n",
        "    y=df['HeartDisease']\n",
        "    X_train, X_test, y_train, y_test = train_test_split(X, y, test_size=0.2, random_state=random_seed)\n",
        "    m_fit = model.fit(X_train, y_train) # обучение\n",
        "    m_predict = model.predict(X_test) # предсказание\n",
        "  \n",
        "    cv_results = cross_validate(model, X, y, cv=num_folds, scoring=\n",
        "                                 scoring,  return_train_score=True)\n",
        "   \n",
        "    results[f'{name}'] = {'fit_time': cv_results['fit_time'].mean(), \n",
        "                       'train_accuracy':  cv_results['train_accuracy'].mean(), \n",
        "                      'train_precision':  cv_results['train_precision'].mean(),\n",
        "                      'train_recall':  cv_results['train_recall'].mean(),\n",
        "                      'train_f1':  cv_results['train_f1'].mean(),\n",
        "                      'score_time':   cv_results['score_time'].mean(), \n",
        "                      'test_accuracy':  cv_results['test_accuracy'].mean(), \n",
        "                      'test_precision':  cv_results['test_precision'].mean(),\n",
        "                      'test_recall':  cv_results['test_recall'].mean(),\n",
        "                      'test_f1':  cv_results['test_f1'].mean(),\n",
        "                      }"
      ],
      "metadata": {
        "id": "nfAWzwPryHq7"
      },
      "execution_count": 23,
      "outputs": []
    },
    {
      "cell_type": "markdown",
      "source": [
        "#4. Обучите модель логистической регрессии с параметрами по умолчанию."
      ],
      "metadata": {
        "id": "3f7w8_N8yIDr"
      }
    },
    {
      "cell_type": "code",
      "source": [
        "clf.fit(X_train, y_train)"
      ],
      "metadata": {
        "colab": {
          "base_uri": "https://localhost:8080/",
          "height": 227
        },
        "id": "6Y43-SXiTX6p",
        "outputId": "18753b8d-1b32-4604-b4c0-36ce02a69236"
      },
      "execution_count": 24,
      "outputs": [
        {
          "output_type": "execute_result",
          "data": {
            "text/plain": [
              "Pipeline(steps=[('preprocessor',\n",
              "                 ColumnTransformer(transformers=[('num',\n",
              "                                                  Pipeline(steps=[('scaler',\n",
              "                                                                   Normalizer())]),\n",
              "                                                  ['Age', 'RestingBP',\n",
              "                                                   'Cholesterol', 'FastingBS',\n",
              "                                                   'MaxHR', 'Oldpeak']),\n",
              "                                                 ('cat',\n",
              "                                                  Pipeline(steps=[('encoder',\n",
              "                                                                   OneHotEncoder(handle_unknown='ignore')),\n",
              "                                                                  ('selector',\n",
              "                                                                   SelectPercentile(percentile=50,\n",
              "                                                                                    score_func=<function chi2 at 0x7fba29d22320>))]),\n",
              "                                                  ['Sex', 'ChestPainType',\n",
              "                                                   'RestingECG',\n",
              "                                                   'ExerciseAngina',\n",
              "                                                   'ST_Slope'])])),\n",
              "                ('classifier', LogisticRegression(random_state=0))])"
            ],
            "text/html": [
              "<style>#sk-container-id-1 {color: black;background-color: white;}#sk-container-id-1 pre{padding: 0;}#sk-container-id-1 div.sk-toggleable {background-color: white;}#sk-container-id-1 label.sk-toggleable__label {cursor: pointer;display: block;width: 100%;margin-bottom: 0;padding: 0.3em;box-sizing: border-box;text-align: center;}#sk-container-id-1 label.sk-toggleable__label-arrow:before {content: \"▸\";float: left;margin-right: 0.25em;color: #696969;}#sk-container-id-1 label.sk-toggleable__label-arrow:hover:before {color: black;}#sk-container-id-1 div.sk-estimator:hover label.sk-toggleable__label-arrow:before {color: black;}#sk-container-id-1 div.sk-toggleable__content {max-height: 0;max-width: 0;overflow: hidden;text-align: left;background-color: #f0f8ff;}#sk-container-id-1 div.sk-toggleable__content pre {margin: 0.2em;color: black;border-radius: 0.25em;background-color: #f0f8ff;}#sk-container-id-1 input.sk-toggleable__control:checked~div.sk-toggleable__content {max-height: 200px;max-width: 100%;overflow: auto;}#sk-container-id-1 input.sk-toggleable__control:checked~label.sk-toggleable__label-arrow:before {content: \"▾\";}#sk-container-id-1 div.sk-estimator input.sk-toggleable__control:checked~label.sk-toggleable__label {background-color: #d4ebff;}#sk-container-id-1 div.sk-label input.sk-toggleable__control:checked~label.sk-toggleable__label {background-color: #d4ebff;}#sk-container-id-1 input.sk-hidden--visually {border: 0;clip: rect(1px 1px 1px 1px);clip: rect(1px, 1px, 1px, 1px);height: 1px;margin: -1px;overflow: hidden;padding: 0;position: absolute;width: 1px;}#sk-container-id-1 div.sk-estimator {font-family: monospace;background-color: #f0f8ff;border: 1px dotted black;border-radius: 0.25em;box-sizing: border-box;margin-bottom: 0.5em;}#sk-container-id-1 div.sk-estimator:hover {background-color: #d4ebff;}#sk-container-id-1 div.sk-parallel-item::after {content: \"\";width: 100%;border-bottom: 1px solid gray;flex-grow: 1;}#sk-container-id-1 div.sk-label:hover label.sk-toggleable__label {background-color: #d4ebff;}#sk-container-id-1 div.sk-serial::before {content: \"\";position: absolute;border-left: 1px solid gray;box-sizing: border-box;top: 0;bottom: 0;left: 50%;z-index: 0;}#sk-container-id-1 div.sk-serial {display: flex;flex-direction: column;align-items: center;background-color: white;padding-right: 0.2em;padding-left: 0.2em;position: relative;}#sk-container-id-1 div.sk-item {position: relative;z-index: 1;}#sk-container-id-1 div.sk-parallel {display: flex;align-items: stretch;justify-content: center;background-color: white;position: relative;}#sk-container-id-1 div.sk-item::before, #sk-container-id-1 div.sk-parallel-item::before {content: \"\";position: absolute;border-left: 1px solid gray;box-sizing: border-box;top: 0;bottom: 0;left: 50%;z-index: -1;}#sk-container-id-1 div.sk-parallel-item {display: flex;flex-direction: column;z-index: 1;position: relative;background-color: white;}#sk-container-id-1 div.sk-parallel-item:first-child::after {align-self: flex-end;width: 50%;}#sk-container-id-1 div.sk-parallel-item:last-child::after {align-self: flex-start;width: 50%;}#sk-container-id-1 div.sk-parallel-item:only-child::after {width: 0;}#sk-container-id-1 div.sk-dashed-wrapped {border: 1px dashed gray;margin: 0 0.4em 0.5em 0.4em;box-sizing: border-box;padding-bottom: 0.4em;background-color: white;}#sk-container-id-1 div.sk-label label {font-family: monospace;font-weight: bold;display: inline-block;line-height: 1.2em;}#sk-container-id-1 div.sk-label-container {text-align: center;}#sk-container-id-1 div.sk-container {/* jupyter's `normalize.less` sets `[hidden] { display: none; }` but bootstrap.min.css set `[hidden] { display: none !important; }` so we also need the `!important` here to be able to override the default hidden behavior on the sphinx rendered scikit-learn.org. See: https://github.com/scikit-learn/scikit-learn/issues/21755 */display: inline-block !important;position: relative;}#sk-container-id-1 div.sk-text-repr-fallback {display: none;}</style><div id=\"sk-container-id-1\" class=\"sk-top-container\"><div class=\"sk-text-repr-fallback\"><pre>Pipeline(steps=[(&#x27;preprocessor&#x27;,\n",
              "                 ColumnTransformer(transformers=[(&#x27;num&#x27;,\n",
              "                                                  Pipeline(steps=[(&#x27;scaler&#x27;,\n",
              "                                                                   Normalizer())]),\n",
              "                                                  [&#x27;Age&#x27;, &#x27;RestingBP&#x27;,\n",
              "                                                   &#x27;Cholesterol&#x27;, &#x27;FastingBS&#x27;,\n",
              "                                                   &#x27;MaxHR&#x27;, &#x27;Oldpeak&#x27;]),\n",
              "                                                 (&#x27;cat&#x27;,\n",
              "                                                  Pipeline(steps=[(&#x27;encoder&#x27;,\n",
              "                                                                   OneHotEncoder(handle_unknown=&#x27;ignore&#x27;)),\n",
              "                                                                  (&#x27;selector&#x27;,\n",
              "                                                                   SelectPercentile(percentile=50,\n",
              "                                                                                    score_func=&lt;function chi2 at 0x7fba29d22320&gt;))]),\n",
              "                                                  [&#x27;Sex&#x27;, &#x27;ChestPainType&#x27;,\n",
              "                                                   &#x27;RestingECG&#x27;,\n",
              "                                                   &#x27;ExerciseAngina&#x27;,\n",
              "                                                   &#x27;ST_Slope&#x27;])])),\n",
              "                (&#x27;classifier&#x27;, LogisticRegression(random_state=0))])</pre><b>In a Jupyter environment, please rerun this cell to show the HTML representation or trust the notebook. <br />On GitHub, the HTML representation is unable to render, please try loading this page with nbviewer.org.</b></div><div class=\"sk-container\" hidden><div class=\"sk-item sk-dashed-wrapped\"><div class=\"sk-label-container\"><div class=\"sk-label sk-toggleable\"><input class=\"sk-toggleable__control sk-hidden--visually\" id=\"sk-estimator-id-1\" type=\"checkbox\" ><label for=\"sk-estimator-id-1\" class=\"sk-toggleable__label sk-toggleable__label-arrow\">Pipeline</label><div class=\"sk-toggleable__content\"><pre>Pipeline(steps=[(&#x27;preprocessor&#x27;,\n",
              "                 ColumnTransformer(transformers=[(&#x27;num&#x27;,\n",
              "                                                  Pipeline(steps=[(&#x27;scaler&#x27;,\n",
              "                                                                   Normalizer())]),\n",
              "                                                  [&#x27;Age&#x27;, &#x27;RestingBP&#x27;,\n",
              "                                                   &#x27;Cholesterol&#x27;, &#x27;FastingBS&#x27;,\n",
              "                                                   &#x27;MaxHR&#x27;, &#x27;Oldpeak&#x27;]),\n",
              "                                                 (&#x27;cat&#x27;,\n",
              "                                                  Pipeline(steps=[(&#x27;encoder&#x27;,\n",
              "                                                                   OneHotEncoder(handle_unknown=&#x27;ignore&#x27;)),\n",
              "                                                                  (&#x27;selector&#x27;,\n",
              "                                                                   SelectPercentile(percentile=50,\n",
              "                                                                                    score_func=&lt;function chi2 at 0x7fba29d22320&gt;))]),\n",
              "                                                  [&#x27;Sex&#x27;, &#x27;ChestPainType&#x27;,\n",
              "                                                   &#x27;RestingECG&#x27;,\n",
              "                                                   &#x27;ExerciseAngina&#x27;,\n",
              "                                                   &#x27;ST_Slope&#x27;])])),\n",
              "                (&#x27;classifier&#x27;, LogisticRegression(random_state=0))])</pre></div></div></div><div class=\"sk-serial\"><div class=\"sk-item sk-dashed-wrapped\"><div class=\"sk-label-container\"><div class=\"sk-label sk-toggleable\"><input class=\"sk-toggleable__control sk-hidden--visually\" id=\"sk-estimator-id-2\" type=\"checkbox\" ><label for=\"sk-estimator-id-2\" class=\"sk-toggleable__label sk-toggleable__label-arrow\">preprocessor: ColumnTransformer</label><div class=\"sk-toggleable__content\"><pre>ColumnTransformer(transformers=[(&#x27;num&#x27;,\n",
              "                                 Pipeline(steps=[(&#x27;scaler&#x27;, Normalizer())]),\n",
              "                                 [&#x27;Age&#x27;, &#x27;RestingBP&#x27;, &#x27;Cholesterol&#x27;,\n",
              "                                  &#x27;FastingBS&#x27;, &#x27;MaxHR&#x27;, &#x27;Oldpeak&#x27;]),\n",
              "                                (&#x27;cat&#x27;,\n",
              "                                 Pipeline(steps=[(&#x27;encoder&#x27;,\n",
              "                                                  OneHotEncoder(handle_unknown=&#x27;ignore&#x27;)),\n",
              "                                                 (&#x27;selector&#x27;,\n",
              "                                                  SelectPercentile(percentile=50,\n",
              "                                                                   score_func=&lt;function chi2 at 0x7fba29d22320&gt;))]),\n",
              "                                 [&#x27;Sex&#x27;, &#x27;ChestPainType&#x27;, &#x27;RestingECG&#x27;,\n",
              "                                  &#x27;ExerciseAngina&#x27;, &#x27;ST_Slope&#x27;])])</pre></div></div></div><div class=\"sk-parallel\"><div class=\"sk-parallel-item\"><div class=\"sk-item\"><div class=\"sk-label-container\"><div class=\"sk-label sk-toggleable\"><input class=\"sk-toggleable__control sk-hidden--visually\" id=\"sk-estimator-id-3\" type=\"checkbox\" ><label for=\"sk-estimator-id-3\" class=\"sk-toggleable__label sk-toggleable__label-arrow\">num</label><div class=\"sk-toggleable__content\"><pre>[&#x27;Age&#x27;, &#x27;RestingBP&#x27;, &#x27;Cholesterol&#x27;, &#x27;FastingBS&#x27;, &#x27;MaxHR&#x27;, &#x27;Oldpeak&#x27;]</pre></div></div></div><div class=\"sk-serial\"><div class=\"sk-item\"><div class=\"sk-serial\"><div class=\"sk-item\"><div class=\"sk-estimator sk-toggleable\"><input class=\"sk-toggleable__control sk-hidden--visually\" id=\"sk-estimator-id-4\" type=\"checkbox\" ><label for=\"sk-estimator-id-4\" class=\"sk-toggleable__label sk-toggleable__label-arrow\">Normalizer</label><div class=\"sk-toggleable__content\"><pre>Normalizer()</pre></div></div></div></div></div></div></div></div><div class=\"sk-parallel-item\"><div class=\"sk-item\"><div class=\"sk-label-container\"><div class=\"sk-label sk-toggleable\"><input class=\"sk-toggleable__control sk-hidden--visually\" id=\"sk-estimator-id-5\" type=\"checkbox\" ><label for=\"sk-estimator-id-5\" class=\"sk-toggleable__label sk-toggleable__label-arrow\">cat</label><div class=\"sk-toggleable__content\"><pre>[&#x27;Sex&#x27;, &#x27;ChestPainType&#x27;, &#x27;RestingECG&#x27;, &#x27;ExerciseAngina&#x27;, &#x27;ST_Slope&#x27;]</pre></div></div></div><div class=\"sk-serial\"><div class=\"sk-item\"><div class=\"sk-serial\"><div class=\"sk-item\"><div class=\"sk-estimator sk-toggleable\"><input class=\"sk-toggleable__control sk-hidden--visually\" id=\"sk-estimator-id-6\" type=\"checkbox\" ><label for=\"sk-estimator-id-6\" class=\"sk-toggleable__label sk-toggleable__label-arrow\">OneHotEncoder</label><div class=\"sk-toggleable__content\"><pre>OneHotEncoder(handle_unknown=&#x27;ignore&#x27;)</pre></div></div></div><div class=\"sk-item\"><div class=\"sk-estimator sk-toggleable\"><input class=\"sk-toggleable__control sk-hidden--visually\" id=\"sk-estimator-id-7\" type=\"checkbox\" ><label for=\"sk-estimator-id-7\" class=\"sk-toggleable__label sk-toggleable__label-arrow\">SelectPercentile</label><div class=\"sk-toggleable__content\"><pre>SelectPercentile(percentile=50, score_func=&lt;function chi2 at 0x7fba29d22320&gt;)</pre></div></div></div></div></div></div></div></div></div></div><div class=\"sk-item\"><div class=\"sk-estimator sk-toggleable\"><input class=\"sk-toggleable__control sk-hidden--visually\" id=\"sk-estimator-id-8\" type=\"checkbox\" ><label for=\"sk-estimator-id-8\" class=\"sk-toggleable__label sk-toggleable__label-arrow\">LogisticRegression</label><div class=\"sk-toggleable__content\"><pre>LogisticRegression(random_state=0)</pre></div></div></div></div></div></div></div>"
            ]
          },
          "metadata": {},
          "execution_count": 24
        }
      ]
    },
    {
      "cell_type": "markdown",
      "source": [
        "# 5. Подсчитайте основные метрики модели. Используйте следующие метрики и функцию:\n",
        "cross_validate(…, cv=10, scoring=[‘accuracy’,‘recall’,‘precision’,‘f1’])"
      ],
      "metadata": {
        "id": "Cl9f_CpuyNxU"
      }
    },
    {
      "cell_type": "code",
      "source": [
        "cv_results = cross_validate(clf, X, y, cv=num_folds, scoring=\n",
        "                                 scoring,  return_train_score=True)"
      ],
      "metadata": {
        "id": "6G_-Jkj9Txk4"
      },
      "execution_count": 25,
      "outputs": []
    },
    {
      "cell_type": "code",
      "source": [
        "results['clf'] = {'fit_time': cv_results['fit_time'].mean(), \n",
        "                       'train_accuracy':  cv_results['train_accuracy'].mean(), \n",
        "                      'train_precision':  cv_results['train_precision'].mean(),\n",
        "                      'train_recall':  cv_results['train_recall'].mean(),\n",
        "                      'train_f1':  cv_results['train_f1'].mean(),\n",
        "                      'score_time':   cv_results['score_time'].mean(), \n",
        "                      'test_accuracy':  cv_results['test_accuracy'].mean(), \n",
        "                      'test_precision':  cv_results['test_precision'].mean(),\n",
        "                      'test_recall':  cv_results['test_recall'].mean(),\n",
        "                      'test_f1':  cv_results['test_f1'].mean(),\n",
        "                      }"
      ],
      "metadata": {
        "id": "moeTjf7NT_g0"
      },
      "execution_count": 26,
      "outputs": []
    },
    {
      "cell_type": "code",
      "source": [
        "results['clf']"
      ],
      "metadata": {
        "colab": {
          "base_uri": "https://localhost:8080/"
        },
        "id": "NYsdTr34UHRa",
        "outputId": "2fca35d5-d1a1-4dc3-e474-edc5431216b0"
      },
      "execution_count": 27,
      "outputs": [
        {
          "output_type": "execute_result",
          "data": {
            "text/plain": [
              "{'fit_time': 0.020459294319152832,\n",
              " 'train_accuracy': 0.869037127691033,\n",
              " 'train_precision': 0.8667722684696596,\n",
              " 'train_recall': 0.9020099758248689,\n",
              " 'train_f1': 0.8840322431646668,\n",
              " 'score_time': 0.010377860069274903,\n",
              " 'test_accuracy': 0.8483874820831343,\n",
              " 'test_precision': 0.8621312033016387,\n",
              " 'test_recall': 0.8676470588235293,\n",
              " 'test_f1': 0.8613655536558097}"
            ]
          },
          "metadata": {},
          "execution_count": 27
        }
      ]
    },
    {
      "cell_type": "code",
      "source": [
        "results['Base_LR']"
      ],
      "metadata": {
        "id": "UwwoLrDTyNMX",
        "colab": {
          "base_uri": "https://localhost:8080/"
        },
        "outputId": "f1b214d5-97f3-4deb-a407-d0a244d21b47"
      },
      "execution_count": 28,
      "outputs": [
        {
          "output_type": "execute_result",
          "data": {
            "text/plain": [
              "{'fit_time': 0.01967000961303711,\n",
              " 'train_accuracy': 0.869037127691033,\n",
              " 'train_precision': 0.8667722684696596,\n",
              " 'train_recall': 0.9020099758248689,\n",
              " 'train_f1': 0.8840322431646668,\n",
              " 'score_time': 0.01035451889038086,\n",
              " 'test_accuracy': 0.8483874820831343,\n",
              " 'test_precision': 0.8621312033016387,\n",
              " 'test_recall': 0.8676470588235293,\n",
              " 'test_f1': 0.8613655536558097}"
            ]
          },
          "metadata": {},
          "execution_count": 28
        }
      ]
    },
    {
      "cell_type": "markdown",
      "source": [
        "#6. Оптимизируйте 3-4 параметра модели:"
      ],
      "metadata": {
        "id": "WRNl_DaIyVP6"
      }
    },
    {
      "cell_type": "markdown",
      "source": [
        "## a) Используйте GridSearchCV."
      ],
      "metadata": {
        "id": "DmxfCzGpyaO8"
      }
    },
    {
      "cell_type": "code",
      "source": [
        "SelectedColumns=df[cat_features]\n",
        "encoded_features = pd.get_dummies(SelectedColumns, columns=cat_features,drop_first=True)"
      ],
      "metadata": {
        "id": "NTHpr0Gb-XBG"
      },
      "execution_count": 52,
      "outputs": []
    },
    {
      "cell_type": "code",
      "source": [
        "other_features=df.loc[:, num_features]\n",
        "X = pd.concat([other_features, encoded_features], axis=1)\n",
        "transformer = Normalizer().fit(X)\n",
        "transformer.transform(X)"
      ],
      "metadata": {
        "colab": {
          "base_uri": "https://localhost:8080/"
        },
        "id": "2GRSG7Iz_SZJ",
        "outputId": "2a4c1c8a-8254-481f-9e48-995fa7adec53"
      },
      "execution_count": 53,
      "outputs": [
        {
          "output_type": "execute_result",
          "data": {
            "text/plain": [
              "array([[0.1091459 , 0.38201066, 0.78857914, ..., 0.        , 0.        ,\n",
              "        0.00272865],\n",
              "       [0.16832526, 0.54963349, 0.61833768, ..., 0.        , 0.00343521,\n",
              "        0.        ],\n",
              "       [0.11260514, 0.39563968, 0.86127716, ..., 0.        , 0.        ,\n",
              "        0.00304338],\n",
              "       ...,\n",
              "       [0.25354517, 0.57826092, 0.58270908, ..., 0.00444816, 0.00444816,\n",
              "        0.        ],\n",
              "       [0.17497262, 0.39906036, 0.72444804, ..., 0.        , 0.0030697 ,\n",
              "        0.        ],\n",
              "       [0.13348049, 0.48474495, 0.6147128 , ..., 0.        , 0.        ,\n",
              "        0.00351264]])"
            ]
          },
          "metadata": {},
          "execution_count": 53
        }
      ]
    },
    {
      "cell_type": "code",
      "source": [
        "import warnings\n",
        "warnings.filterwarnings('ignore')\n",
        "# parameter grid\n",
        "penalty = [\"l1\", \"l2\", \"elasticnet\"]\n",
        "l1_ratio = np.linspace(0, 1, 20)\n",
        "C = np.logspace(0, 10, 20)\n",
        "param_grid = {\"penalty\" : penalty,\n",
        "             \"l1_ratio\" : l1_ratio,\n",
        "             \"C\" : C}"
      ],
      "metadata": {
        "id": "7orDPk8vVJuq"
      },
      "execution_count": 44,
      "outputs": []
    },
    {
      "cell_type": "code",
      "source": [
        "LR_grid_model = LogisticRegression(solver='saga', max_iter=5000, class_weight = \"balanced\")\n",
        "\n",
        "LR_grid_model = GridSearchCV(LR_grid_model, param_grid = param_grid)\n",
        "LR_grid_model.fit(X_train, y_train)"
      ],
      "metadata": {
        "colab": {
          "base_uri": "https://localhost:8080/",
          "height": 118
        },
        "id": "D5yaQrdJmDoM",
        "outputId": "0605a407-a3b4-4f6b-92fd-3061f4a4efe8"
      },
      "execution_count": 58,
      "outputs": [
        {
          "output_type": "execute_result",
          "data": {
            "text/plain": [
              "GridSearchCV(estimator=LogisticRegression(class_weight='balanced',\n",
              "                                          max_iter=5000, solver='saga'),\n",
              "             param_grid={'C': array([1.00000000e+00, 3.35981829e+00, 1.12883789e+01, 3.79269019e+01,\n",
              "       1.27427499e+02, 4.28133240e+02, 1.43844989e+03, 4.83293024e+03,\n",
              "       1.62377674e+04, 5.45559478e+04, 1.83298071e+05, 6.15848211e+05,\n",
              "       2.06913808e+06, 6.95192796e+06, 2.33572147e+07, 7.84759970e+07,\n",
              "       2.63665090e+08, 8.85866790e+08, 2.97635144e+09, 1.00000000e+10]),\n",
              "                         'l1_ratio': array([0.        , 0.05263158, 0.10526316, 0.15789474, 0.21052632,\n",
              "       0.26315789, 0.31578947, 0.36842105, 0.42105263, 0.47368421,\n",
              "       0.52631579, 0.57894737, 0.63157895, 0.68421053, 0.73684211,\n",
              "       0.78947368, 0.84210526, 0.89473684, 0.94736842, 1.        ]),\n",
              "                         'penalty': ['l1', 'l2', 'elasticnet']})"
            ],
            "text/html": [
              "<style>#sk-container-id-5 {color: black;background-color: white;}#sk-container-id-5 pre{padding: 0;}#sk-container-id-5 div.sk-toggleable {background-color: white;}#sk-container-id-5 label.sk-toggleable__label {cursor: pointer;display: block;width: 100%;margin-bottom: 0;padding: 0.3em;box-sizing: border-box;text-align: center;}#sk-container-id-5 label.sk-toggleable__label-arrow:before {content: \"▸\";float: left;margin-right: 0.25em;color: #696969;}#sk-container-id-5 label.sk-toggleable__label-arrow:hover:before {color: black;}#sk-container-id-5 div.sk-estimator:hover label.sk-toggleable__label-arrow:before {color: black;}#sk-container-id-5 div.sk-toggleable__content {max-height: 0;max-width: 0;overflow: hidden;text-align: left;background-color: #f0f8ff;}#sk-container-id-5 div.sk-toggleable__content pre {margin: 0.2em;color: black;border-radius: 0.25em;background-color: #f0f8ff;}#sk-container-id-5 input.sk-toggleable__control:checked~div.sk-toggleable__content {max-height: 200px;max-width: 100%;overflow: auto;}#sk-container-id-5 input.sk-toggleable__control:checked~label.sk-toggleable__label-arrow:before {content: \"▾\";}#sk-container-id-5 div.sk-estimator input.sk-toggleable__control:checked~label.sk-toggleable__label {background-color: #d4ebff;}#sk-container-id-5 div.sk-label input.sk-toggleable__control:checked~label.sk-toggleable__label {background-color: #d4ebff;}#sk-container-id-5 input.sk-hidden--visually {border: 0;clip: rect(1px 1px 1px 1px);clip: rect(1px, 1px, 1px, 1px);height: 1px;margin: -1px;overflow: hidden;padding: 0;position: absolute;width: 1px;}#sk-container-id-5 div.sk-estimator {font-family: monospace;background-color: #f0f8ff;border: 1px dotted black;border-radius: 0.25em;box-sizing: border-box;margin-bottom: 0.5em;}#sk-container-id-5 div.sk-estimator:hover {background-color: #d4ebff;}#sk-container-id-5 div.sk-parallel-item::after {content: \"\";width: 100%;border-bottom: 1px solid gray;flex-grow: 1;}#sk-container-id-5 div.sk-label:hover label.sk-toggleable__label {background-color: #d4ebff;}#sk-container-id-5 div.sk-serial::before {content: \"\";position: absolute;border-left: 1px solid gray;box-sizing: border-box;top: 0;bottom: 0;left: 50%;z-index: 0;}#sk-container-id-5 div.sk-serial {display: flex;flex-direction: column;align-items: center;background-color: white;padding-right: 0.2em;padding-left: 0.2em;position: relative;}#sk-container-id-5 div.sk-item {position: relative;z-index: 1;}#sk-container-id-5 div.sk-parallel {display: flex;align-items: stretch;justify-content: center;background-color: white;position: relative;}#sk-container-id-5 div.sk-item::before, #sk-container-id-5 div.sk-parallel-item::before {content: \"\";position: absolute;border-left: 1px solid gray;box-sizing: border-box;top: 0;bottom: 0;left: 50%;z-index: -1;}#sk-container-id-5 div.sk-parallel-item {display: flex;flex-direction: column;z-index: 1;position: relative;background-color: white;}#sk-container-id-5 div.sk-parallel-item:first-child::after {align-self: flex-end;width: 50%;}#sk-container-id-5 div.sk-parallel-item:last-child::after {align-self: flex-start;width: 50%;}#sk-container-id-5 div.sk-parallel-item:only-child::after {width: 0;}#sk-container-id-5 div.sk-dashed-wrapped {border: 1px dashed gray;margin: 0 0.4em 0.5em 0.4em;box-sizing: border-box;padding-bottom: 0.4em;background-color: white;}#sk-container-id-5 div.sk-label label {font-family: monospace;font-weight: bold;display: inline-block;line-height: 1.2em;}#sk-container-id-5 div.sk-label-container {text-align: center;}#sk-container-id-5 div.sk-container {/* jupyter's `normalize.less` sets `[hidden] { display: none; }` but bootstrap.min.css set `[hidden] { display: none !important; }` so we also need the `!important` here to be able to override the default hidden behavior on the sphinx rendered scikit-learn.org. See: https://github.com/scikit-learn/scikit-learn/issues/21755 */display: inline-block !important;position: relative;}#sk-container-id-5 div.sk-text-repr-fallback {display: none;}</style><div id=\"sk-container-id-5\" class=\"sk-top-container\"><div class=\"sk-text-repr-fallback\"><pre>GridSearchCV(estimator=LogisticRegression(class_weight=&#x27;balanced&#x27;,\n",
              "                                          max_iter=5000, solver=&#x27;saga&#x27;),\n",
              "             param_grid={&#x27;C&#x27;: array([1.00000000e+00, 3.35981829e+00, 1.12883789e+01, 3.79269019e+01,\n",
              "       1.27427499e+02, 4.28133240e+02, 1.43844989e+03, 4.83293024e+03,\n",
              "       1.62377674e+04, 5.45559478e+04, 1.83298071e+05, 6.15848211e+05,\n",
              "       2.06913808e+06, 6.95192796e+06, 2.33572147e+07, 7.84759970e+07,\n",
              "       2.63665090e+08, 8.85866790e+08, 2.97635144e+09, 1.00000000e+10]),\n",
              "                         &#x27;l1_ratio&#x27;: array([0.        , 0.05263158, 0.10526316, 0.15789474, 0.21052632,\n",
              "       0.26315789, 0.31578947, 0.36842105, 0.42105263, 0.47368421,\n",
              "       0.52631579, 0.57894737, 0.63157895, 0.68421053, 0.73684211,\n",
              "       0.78947368, 0.84210526, 0.89473684, 0.94736842, 1.        ]),\n",
              "                         &#x27;penalty&#x27;: [&#x27;l1&#x27;, &#x27;l2&#x27;, &#x27;elasticnet&#x27;]})</pre><b>In a Jupyter environment, please rerun this cell to show the HTML representation or trust the notebook. <br />On GitHub, the HTML representation is unable to render, please try loading this page with nbviewer.org.</b></div><div class=\"sk-container\" hidden><div class=\"sk-item sk-dashed-wrapped\"><div class=\"sk-label-container\"><div class=\"sk-label sk-toggleable\"><input class=\"sk-toggleable__control sk-hidden--visually\" id=\"sk-estimator-id-23\" type=\"checkbox\" ><label for=\"sk-estimator-id-23\" class=\"sk-toggleable__label sk-toggleable__label-arrow\">GridSearchCV</label><div class=\"sk-toggleable__content\"><pre>GridSearchCV(estimator=LogisticRegression(class_weight=&#x27;balanced&#x27;,\n",
              "                                          max_iter=5000, solver=&#x27;saga&#x27;),\n",
              "             param_grid={&#x27;C&#x27;: array([1.00000000e+00, 3.35981829e+00, 1.12883789e+01, 3.79269019e+01,\n",
              "       1.27427499e+02, 4.28133240e+02, 1.43844989e+03, 4.83293024e+03,\n",
              "       1.62377674e+04, 5.45559478e+04, 1.83298071e+05, 6.15848211e+05,\n",
              "       2.06913808e+06, 6.95192796e+06, 2.33572147e+07, 7.84759970e+07,\n",
              "       2.63665090e+08, 8.85866790e+08, 2.97635144e+09, 1.00000000e+10]),\n",
              "                         &#x27;l1_ratio&#x27;: array([0.        , 0.05263158, 0.10526316, 0.15789474, 0.21052632,\n",
              "       0.26315789, 0.31578947, 0.36842105, 0.42105263, 0.47368421,\n",
              "       0.52631579, 0.57894737, 0.63157895, 0.68421053, 0.73684211,\n",
              "       0.78947368, 0.84210526, 0.89473684, 0.94736842, 1.        ]),\n",
              "                         &#x27;penalty&#x27;: [&#x27;l1&#x27;, &#x27;l2&#x27;, &#x27;elasticnet&#x27;]})</pre></div></div></div><div class=\"sk-parallel\"><div class=\"sk-parallel-item\"><div class=\"sk-item\"><div class=\"sk-label-container\"><div class=\"sk-label sk-toggleable\"><input class=\"sk-toggleable__control sk-hidden--visually\" id=\"sk-estimator-id-24\" type=\"checkbox\" ><label for=\"sk-estimator-id-24\" class=\"sk-toggleable__label sk-toggleable__label-arrow\">estimator: LogisticRegression</label><div class=\"sk-toggleable__content\"><pre>LogisticRegression(class_weight=&#x27;balanced&#x27;, max_iter=5000, solver=&#x27;saga&#x27;)</pre></div></div></div><div class=\"sk-serial\"><div class=\"sk-item\"><div class=\"sk-estimator sk-toggleable\"><input class=\"sk-toggleable__control sk-hidden--visually\" id=\"sk-estimator-id-25\" type=\"checkbox\" ><label for=\"sk-estimator-id-25\" class=\"sk-toggleable__label sk-toggleable__label-arrow\">LogisticRegression</label><div class=\"sk-toggleable__content\"><pre>LogisticRegression(class_weight=&#x27;balanced&#x27;, max_iter=5000, solver=&#x27;saga&#x27;)</pre></div></div></div></div></div></div></div></div></div></div>"
            ]
          },
          "metadata": {},
          "execution_count": 58
        }
      ]
    },
    {
      "cell_type": "code",
      "source": [
        "LR_grid_model.best_params_"
      ],
      "metadata": {
        "colab": {
          "base_uri": "https://localhost:8080/"
        },
        "id": "qeJayEQMCoa0",
        "outputId": "6085446c-a5c2-457f-8c4d-e5f2205c33cf"
      },
      "execution_count": 59,
      "outputs": [
        {
          "output_type": "execute_result",
          "data": {
            "text/plain": [
              "{'C': 37.926901907322495, 'l1_ratio': 0.0, 'penalty': 'l1'}"
            ]
          },
          "metadata": {},
          "execution_count": 59
        }
      ]
    },
    {
      "cell_type": "code",
      "source": [
        "cv_results = cross_validate(LogisticRegression(solver='saga', max_iter=5000, class_weight = \"balanced\", C=37.926901907322495, l1_ratio=0.0, penalty='l1'), X, y, cv=num_folds, scoring=\n",
        "                                 scoring,  return_train_score=True)\n",
        "results['LR_grid_model'] = {'fit_time': cv_results['fit_time'].mean(), \n",
        "                       'train_accuracy':  cv_results['train_accuracy'].mean(), \n",
        "                      'train_precision':  cv_results['train_precision'].mean(),\n",
        "                      'train_recall':  cv_results['train_recall'].mean(),\n",
        "                      'train_f1':  cv_results['train_f1'].mean(),\n",
        "                      'score_time':   cv_results['score_time'].mean(), \n",
        "                      'test_accuracy':  cv_results['test_accuracy'].mean(), \n",
        "                      'test_precision':  cv_results['test_precision'].mean(),\n",
        "                      'test_recall':  cv_results['test_recall'].mean(),\n",
        "                      'test_f1':  cv_results['test_f1'].mean(),\n",
        "                      }"
      ],
      "metadata": {
        "id": "g5jIDMaAtEoW"
      },
      "execution_count": 61,
      "outputs": []
    },
    {
      "cell_type": "markdown",
      "source": [
        "##  b) Используйте RandomizedSearchCV."
      ],
      "metadata": {
        "id": "6SB6kCqKybWR"
      }
    },
    {
      "cell_type": "markdown",
      "source": [
        "## c) *Добавьте в п. 6b 2-5 моделей классификации и вариации их параметров."
      ],
      "metadata": {
        "id": "lzGx8J9gyceJ"
      }
    },
    {
      "cell_type": "markdown",
      "source": [
        "## d) Повторите п. 5 после каждого итогового изменения параметров."
      ],
      "metadata": {
        "id": "ACgJXHehydD8"
      }
    },
    {
      "cell_type": "code",
      "source": [
        "tuned_models=[\n",
        "      \n",
        "      {'name':'LR_tuned',\"model\": LogisticRegression(random_state=random_seed)  , 'params':{'C':[0.1,0.2,0.3,0.5,0.7,1], 'penalty':['l1', 'l2'], 'max_iter':[100,200,300,400,500]}},\n",
        "      {'name':'DTC_tuned',\"model\": DecisionTreeClassifier(random_state=random_seed), 'params':{'criterion': ['gini', 'entropy', 'log_loss'], 'max_features': [None, 'log2', 'sqrt'], \n",
        "                                                                                                'max_depth': [2,3, 4,5, 6, 7, 8, 10, 20, 50]}},\n",
        "      {'name':'RFC_tuned', \"model\": RandomForestClassifier(random_state=random_seed), 'params':{'criterion': ['gini', 'entropy', 'log_loss'], 'max_features': [None, 'log2', 'sqrt'], \n",
        "                                                                                                'max_depth': [2,3, 4,5, 6, 7, 8, 10, 20, 50]}},\n",
        "      {'name':'BGC_tuned',\"model\": BaggingClassifier(random_state=random_seed), 'params':{'n_estimators':[10,25,50], 'max_samples':[3,5,7,9,11]}},\n",
        "      \n",
        "      {'name':'GBC_tuned',\"model\": GradientBoostingClassifier(random_state=random_seed), 'params':{'loss':['log_loss', 'deviance', 'exponential'], \n",
        "                                                                                          'learning_rate':[0.05, 0.1, 0.15,0.25], 'criterion': ['friedman_mse', 'squared_error']}},\n",
        "      {'name':'ABC_tuned',\"model\": AdaBoostClassifier(random_state=random_seed), 'params':{'learning_rate':[0.05, 0.1, 0.15,0.25], 'n_estimators':[10,25,50]}}\n",
        "   \n",
        "]\n"
      ],
      "metadata": {
        "id": "0y9zeuMPvBbO"
      },
      "execution_count": 64,
      "outputs": []
    },
    {
      "cell_type": "code",
      "source": [
        "res=[]\n",
        "for v in  tuned_models:\n",
        "    res.append((v['name'], RandomizedSearchCV(v['model'], v['params'], cv=10).fit(X_train, y_train)))\n",
        "    cv_results = cross_validate(RandomizedSearchCV(v['model'], v['params'], cv=10), X, y, cv=num_folds, scoring=\n",
        "                                 scoring,  return_train_score=True)\n",
        "    results[v['name']] = {'fit_time': cv_results['fit_time'].mean(), \n",
        "                       'train_accuracy':  cv_results['train_accuracy'].mean(), \n",
        "                      'train_precision':  cv_results['train_precision'].mean(),\n",
        "                      'train_recall':  cv_results['train_recall'].mean(),\n",
        "                      'train_f1':  cv_results['train_f1'].mean(),\n",
        "                      'score_time':   cv_results['score_time'].mean(), \n",
        "                      'test_accuracy':  cv_results['test_accuracy'].mean(), \n",
        "                      'test_precision':  cv_results['test_precision'].mean(),\n",
        "                      'test_recall':  cv_results['test_recall'].mean(),\n",
        "                      'test_f1':  cv_results['test_f1'].mean(),\n",
        "                      }"
      ],
      "metadata": {
        "id": "2GybjLqP_Q9L"
      },
      "execution_count": 68,
      "outputs": []
    },
    {
      "cell_type": "markdown",
      "source": [
        "# 7. Сформулируйте выводы по проделанной работе:"
      ],
      "metadata": {
        "id": "cIkIWVd2y2-x"
      }
    },
    {
      "cell_type": "markdown",
      "source": [
        "## a) Сравните метрики построенных моделей."
      ],
      "metadata": {
        "id": "3uiPICu6zAys"
      }
    },
    {
      "cell_type": "code",
      "source": [
        "res1=pd.DataFrame.from_dict(results)\n",
        "\n",
        "res1.head(20).style.format('{:.4f}', na_rep='-').background_gradient(cmap='Blues', axis=1)"
      ],
      "metadata": {
        "id": "Y20zKEnFzCpM",
        "colab": {
          "base_uri": "https://localhost:8080/",
          "height": 363
        },
        "outputId": "cfc616d2-667c-4405-a04a-7b3158ccf2af"
      },
      "execution_count": 72,
      "outputs": [
        {
          "output_type": "execute_result",
          "data": {
            "text/plain": [
              "<pandas.io.formats.style.Styler at 0x7fba24647160>"
            ],
            "text/html": [
              "<style type=\"text/css\">\n",
              "#T_d23a5_row0_col0, #T_d23a5_row0_col1, #T_d23a5_row0_col3, #T_d23a5_row0_col6, #T_d23a5_row0_col10, #T_d23a5_row1_col15, #T_d23a5_row2_col15, #T_d23a5_row3_col11, #T_d23a5_row4_col15, #T_d23a5_row5_col13, #T_d23a5_row6_col1, #T_d23a5_row7_col1, #T_d23a5_row8_col1, #T_d23a5_row9_col1 {\n",
              "  background-color: #f7fbff;\n",
              "  color: #000000;\n",
              "}\n",
              "#T_d23a5_row0_col2, #T_d23a5_row0_col4 {\n",
              "  background-color: #f5fafe;\n",
              "  color: #000000;\n",
              "}\n",
              "#T_d23a5_row0_col5, #T_d23a5_row0_col7, #T_d23a5_row3_col15 {\n",
              "  background-color: #f6faff;\n",
              "  color: #000000;\n",
              "}\n",
              "#T_d23a5_row0_col8 {\n",
              "  background-color: #ecf4fb;\n",
              "  color: #000000;\n",
              "}\n",
              "#T_d23a5_row0_col9 {\n",
              "  background-color: #e3eef9;\n",
              "  color: #000000;\n",
              "}\n",
              "#T_d23a5_row0_col11 {\n",
              "  background-color: #edf4fc;\n",
              "  color: #000000;\n",
              "}\n",
              "#T_d23a5_row0_col12, #T_d23a5_row2_col0, #T_d23a5_row2_col10 {\n",
              "  background-color: #deebf7;\n",
              "  color: #000000;\n",
              "}\n",
              "#T_d23a5_row0_col13 {\n",
              "  background-color: #f2f8fd;\n",
              "  color: #000000;\n",
              "}\n",
              "#T_d23a5_row0_col14, #T_d23a5_row1_col1, #T_d23a5_row1_col2, #T_d23a5_row1_col6, #T_d23a5_row1_col7, #T_d23a5_row1_col8, #T_d23a5_row2_col1, #T_d23a5_row2_col2, #T_d23a5_row2_col6, #T_d23a5_row2_col7, #T_d23a5_row2_col8, #T_d23a5_row3_col1, #T_d23a5_row3_col2, #T_d23a5_row3_col6, #T_d23a5_row3_col7, #T_d23a5_row3_col8, #T_d23a5_row4_col1, #T_d23a5_row4_col2, #T_d23a5_row4_col6, #T_d23a5_row4_col7, #T_d23a5_row4_col8, #T_d23a5_row5_col2, #T_d23a5_row6_col9, #T_d23a5_row7_col9, #T_d23a5_row8_col9, #T_d23a5_row9_col9 {\n",
              "  background-color: #08306b;\n",
              "  color: #f1f1f1;\n",
              "}\n",
              "#T_d23a5_row0_col15 {\n",
              "  background-color: #c2d9ee;\n",
              "  color: #000000;\n",
              "}\n",
              "#T_d23a5_row0_col16 {\n",
              "  background-color: #1f6eb3;\n",
              "  color: #f1f1f1;\n",
              "}\n",
              "#T_d23a5_row0_col17 {\n",
              "  background-color: #b9d6ea;\n",
              "  color: #000000;\n",
              "}\n",
              "#T_d23a5_row1_col0, #T_d23a5_row1_col10 {\n",
              "  background-color: #d0e2f2;\n",
              "  color: #000000;\n",
              "}\n",
              "#T_d23a5_row1_col3 {\n",
              "  background-color: #084184;\n",
              "  color: #f1f1f1;\n",
              "}\n",
              "#T_d23a5_row1_col4, #T_d23a5_row4_col4 {\n",
              "  background-color: #2d7dbb;\n",
              "  color: #f1f1f1;\n",
              "}\n",
              "#T_d23a5_row1_col5 {\n",
              "  background-color: #9cc9e1;\n",
              "  color: #000000;\n",
              "}\n",
              "#T_d23a5_row1_col9, #T_d23a5_row3_col14 {\n",
              "  background-color: #135fa7;\n",
              "  color: #f1f1f1;\n",
              "}\n",
              "#T_d23a5_row1_col11 {\n",
              "  background-color: #e7f0fa;\n",
              "  color: #000000;\n",
              "}\n",
              "#T_d23a5_row1_col12 {\n",
              "  background-color: #cddff1;\n",
              "  color: #000000;\n",
              "}\n",
              "#T_d23a5_row1_col13 {\n",
              "  background-color: #b2d2e8;\n",
              "  color: #000000;\n",
              "}\n",
              "#T_d23a5_row1_col14 {\n",
              "  background-color: #1e6db2;\n",
              "  color: #f1f1f1;\n",
              "}\n",
              "#T_d23a5_row1_col16, #T_d23a5_row4_col16, #T_d23a5_row5_col5 {\n",
              "  background-color: #4b98ca;\n",
              "  color: #f1f1f1;\n",
              "}\n",
              "#T_d23a5_row1_col17, #T_d23a5_row5_col1 {\n",
              "  background-color: #c9ddf0;\n",
              "  color: #000000;\n",
              "}\n",
              "#T_d23a5_row2_col3 {\n",
              "  background-color: #083a7a;\n",
              "  color: #f1f1f1;\n",
              "}\n",
              "#T_d23a5_row2_col4 {\n",
              "  background-color: #3181bd;\n",
              "  color: #f1f1f1;\n",
              "}\n",
              "#T_d23a5_row2_col5 {\n",
              "  background-color: #97c6df;\n",
              "  color: #000000;\n",
              "}\n",
              "#T_d23a5_row2_col9, #T_d23a5_row9_col4, #T_d23a5_row9_col6 {\n",
              "  background-color: #0e59a2;\n",
              "  color: #f1f1f1;\n",
              "}\n",
              "#T_d23a5_row2_col11 {\n",
              "  background-color: #dae8f6;\n",
              "  color: #000000;\n",
              "}\n",
              "#T_d23a5_row2_col12 {\n",
              "  background-color: #d6e6f4;\n",
              "  color: #000000;\n",
              "}\n",
              "#T_d23a5_row2_col13 {\n",
              "  background-color: #b8d5ea;\n",
              "  color: #000000;\n",
              "}\n",
              "#T_d23a5_row2_col14 {\n",
              "  background-color: #2979b9;\n",
              "  color: #f1f1f1;\n",
              "}\n",
              "#T_d23a5_row2_col16 {\n",
              "  background-color: #5da5d1;\n",
              "  color: #f1f1f1;\n",
              "}\n",
              "#T_d23a5_row2_col17 {\n",
              "  background-color: #d6e5f4;\n",
              "  color: #000000;\n",
              "}\n",
              "#T_d23a5_row3_col0, #T_d23a5_row3_col10 {\n",
              "  background-color: #b5d4e9;\n",
              "  color: #000000;\n",
              "}\n",
              "#T_d23a5_row3_col3 {\n",
              "  background-color: #08488e;\n",
              "  color: #f1f1f1;\n",
              "}\n",
              "#T_d23a5_row3_col4, #T_d23a5_row6_col7, #T_d23a5_row6_col14 {\n",
              "  background-color: #2777b8;\n",
              "  color: #f1f1f1;\n",
              "}\n",
              "#T_d23a5_row3_col5 {\n",
              "  background-color: #a3cce3;\n",
              "  color: #000000;\n",
              "}\n",
              "#T_d23a5_row3_col9 {\n",
              "  background-color: #1967ad;\n",
              "  color: #f1f1f1;\n",
              "}\n",
              "#T_d23a5_row3_col12 {\n",
              "  background-color: #b7d4ea;\n",
              "  color: #000000;\n",
              "}\n",
              "#T_d23a5_row3_col13, #T_d23a5_row5_col7 {\n",
              "  background-color: #a6cee4;\n",
              "  color: #000000;\n",
              "}\n",
              "#T_d23a5_row3_col16 {\n",
              "  background-color: #3989c1;\n",
              "  color: #f1f1f1;\n",
              "}\n",
              "#T_d23a5_row3_col17 {\n",
              "  background-color: #abd0e6;\n",
              "  color: #000000;\n",
              "}\n",
              "#T_d23a5_row4_col0, #T_d23a5_row4_col10 {\n",
              "  background-color: #cee0f2;\n",
              "  color: #000000;\n",
              "}\n",
              "#T_d23a5_row4_col3, #T_d23a5_row8_col8, #T_d23a5_row8_col12 {\n",
              "  background-color: #084285;\n",
              "  color: #f1f1f1;\n",
              "}\n",
              "#T_d23a5_row4_col5 {\n",
              "  background-color: #9dcae1;\n",
              "  color: #000000;\n",
              "}\n",
              "#T_d23a5_row4_col9, #T_d23a5_row6_col16, #T_d23a5_row8_col2 {\n",
              "  background-color: #1460a8;\n",
              "  color: #f1f1f1;\n",
              "}\n",
              "#T_d23a5_row4_col11 {\n",
              "  background-color: #e9f2fa;\n",
              "  color: #000000;\n",
              "}\n",
              "#T_d23a5_row4_col12 {\n",
              "  background-color: #cbdef1;\n",
              "  color: #000000;\n",
              "}\n",
              "#T_d23a5_row4_col13, #T_d23a5_row5_col0, #T_d23a5_row5_col10 {\n",
              "  background-color: #b0d2e7;\n",
              "  color: #000000;\n",
              "}\n",
              "#T_d23a5_row4_col14, #T_d23a5_row5_col8, #T_d23a5_row8_col6, #T_d23a5_row9_col14 {\n",
              "  background-color: #1d6cb1;\n",
              "  color: #f1f1f1;\n",
              "}\n",
              "#T_d23a5_row4_col17 {\n",
              "  background-color: #c7dcef;\n",
              "  color: #000000;\n",
              "}\n",
              "#T_d23a5_row5_col3 {\n",
              "  background-color: #afd1e7;\n",
              "  color: #000000;\n",
              "}\n",
              "#T_d23a5_row5_col4 {\n",
              "  background-color: #bcd7eb;\n",
              "  color: #000000;\n",
              "}\n",
              "#T_d23a5_row5_col6 {\n",
              "  background-color: #add0e6;\n",
              "  color: #000000;\n",
              "}\n",
              "#T_d23a5_row5_col9 {\n",
              "  background-color: #b4d3e9;\n",
              "  color: #000000;\n",
              "}\n",
              "#T_d23a5_row5_col11, #T_d23a5_row5_col16 {\n",
              "  background-color: #eaf3fb;\n",
              "  color: #000000;\n",
              "}\n",
              "#T_d23a5_row5_col12 {\n",
              "  background-color: #dceaf6;\n",
              "  color: #000000;\n",
              "}\n",
              "#T_d23a5_row5_col14 {\n",
              "  background-color: #5ba3d0;\n",
              "  color: #f1f1f1;\n",
              "}\n",
              "#T_d23a5_row5_col15 {\n",
              "  background-color: #a5cde3;\n",
              "  color: #000000;\n",
              "}\n",
              "#T_d23a5_row5_col17 {\n",
              "  background-color: #71b1d7;\n",
              "  color: #f1f1f1;\n",
              "}\n",
              "#T_d23a5_row6_col0, #T_d23a5_row6_col10, #T_d23a5_row7_col3 {\n",
              "  background-color: #2070b4;\n",
              "  color: #f1f1f1;\n",
              "}\n",
              "#T_d23a5_row6_col2, #T_d23a5_row6_col17 {\n",
              "  background-color: #3484bf;\n",
              "  color: #f1f1f1;\n",
              "}\n",
              "#T_d23a5_row6_col3 {\n",
              "  background-color: #87bddc;\n",
              "  color: #000000;\n",
              "}\n",
              "#T_d23a5_row6_col4, #T_d23a5_row6_col6 {\n",
              "  background-color: #0e58a2;\n",
              "  color: #f1f1f1;\n",
              "}\n",
              "#T_d23a5_row6_col5, #T_d23a5_row7_col17 {\n",
              "  background-color: #5fa6d1;\n",
              "  color: #f1f1f1;\n",
              "}\n",
              "#T_d23a5_row6_col8 {\n",
              "  background-color: #4594c7;\n",
              "  color: #f1f1f1;\n",
              "}\n",
              "#T_d23a5_row6_col11 {\n",
              "  background-color: #74b3d8;\n",
              "  color: #000000;\n",
              "}\n",
              "#T_d23a5_row6_col12 {\n",
              "  background-color: #1764ab;\n",
              "  color: #f1f1f1;\n",
              "}\n",
              "#T_d23a5_row6_col13 {\n",
              "  background-color: #4f9bcb;\n",
              "  color: #f1f1f1;\n",
              "}\n",
              "#T_d23a5_row6_col15 {\n",
              "  background-color: #549fcd;\n",
              "  color: #f1f1f1;\n",
              "}\n",
              "#T_d23a5_row7_col0, #T_d23a5_row7_col10 {\n",
              "  background-color: #3f8fc5;\n",
              "  color: #f1f1f1;\n",
              "}\n",
              "#T_d23a5_row7_col2 {\n",
              "  background-color: #5ca4d0;\n",
              "  color: #f1f1f1;\n",
              "}\n",
              "#T_d23a5_row7_col4 {\n",
              "  background-color: #084b93;\n",
              "  color: #f1f1f1;\n",
              "}\n",
              "#T_d23a5_row7_col5 {\n",
              "  background-color: #82bbdb;\n",
              "  color: #000000;\n",
              "}\n",
              "#T_d23a5_row7_col6 {\n",
              "  background-color: #083471;\n",
              "  color: #f1f1f1;\n",
              "}\n",
              "#T_d23a5_row7_col7 {\n",
              "  background-color: #0b559f;\n",
              "  color: #f1f1f1;\n",
              "}\n",
              "#T_d23a5_row7_col8 {\n",
              "  background-color: #b3d3e8;\n",
              "  color: #000000;\n",
              "}\n",
              "#T_d23a5_row7_col11 {\n",
              "  background-color: #3787c0;\n",
              "  color: #f1f1f1;\n",
              "}\n",
              "#T_d23a5_row7_col12 {\n",
              "  background-color: #2c7cba;\n",
              "  color: #f1f1f1;\n",
              "}\n",
              "#T_d23a5_row7_col13 {\n",
              "  background-color: #6fb0d7;\n",
              "  color: #f1f1f1;\n",
              "}\n",
              "#T_d23a5_row7_col14 {\n",
              "  background-color: #6caed6;\n",
              "  color: #f1f1f1;\n",
              "}\n",
              "#T_d23a5_row7_col15 {\n",
              "  background-color: #72b2d8;\n",
              "  color: #f1f1f1;\n",
              "}\n",
              "#T_d23a5_row7_col16 {\n",
              "  background-color: #3080bd;\n",
              "  color: #f1f1f1;\n",
              "}\n",
              "#T_d23a5_row8_col0, #T_d23a5_row8_col10 {\n",
              "  background-color: #084e98;\n",
              "  color: #f1f1f1;\n",
              "}\n",
              "#T_d23a5_row8_col3 {\n",
              "  background-color: #caddf0;\n",
              "  color: #000000;\n",
              "}\n",
              "#T_d23a5_row8_col4, #T_d23a5_row8_col17 {\n",
              "  background-color: #0f5aa3;\n",
              "  color: #f1f1f1;\n",
              "}\n",
              "#T_d23a5_row8_col5 {\n",
              "  background-color: #3585bf;\n",
              "  color: #f1f1f1;\n",
              "}\n",
              "#T_d23a5_row8_col7 {\n",
              "  background-color: #3b8bc2;\n",
              "  color: #f1f1f1;\n",
              "}\n",
              "#T_d23a5_row8_col11 {\n",
              "  background-color: #9fcae1;\n",
              "  color: #000000;\n",
              "}\n",
              "#T_d23a5_row8_col13, #T_d23a5_row8_col15, #T_d23a5_row9_col8 {\n",
              "  background-color: #2f7fbc;\n",
              "  color: #f1f1f1;\n",
              "}\n",
              "#T_d23a5_row8_col14 {\n",
              "  background-color: #083b7c;\n",
              "  color: #f1f1f1;\n",
              "}\n",
              "#T_d23a5_row8_col16 {\n",
              "  background-color: #083573;\n",
              "  color: #f1f1f1;\n",
              "}\n",
              "#T_d23a5_row9_col0, #T_d23a5_row9_col10 {\n",
              "  background-color: #1a68ae;\n",
              "  color: #f1f1f1;\n",
              "}\n",
              "#T_d23a5_row9_col2 {\n",
              "  background-color: #2b7bba;\n",
              "  color: #f1f1f1;\n",
              "}\n",
              "#T_d23a5_row9_col3 {\n",
              "  background-color: #94c4df;\n",
              "  color: #000000;\n",
              "}\n",
              "#T_d23a5_row9_col5 {\n",
              "  background-color: #529dcc;\n",
              "  color: #f1f1f1;\n",
              "}\n",
              "#T_d23a5_row9_col7, #T_d23a5_row9_col17 {\n",
              "  background-color: #2e7ebc;\n",
              "  color: #f1f1f1;\n",
              "}\n",
              "#T_d23a5_row9_col11 {\n",
              "  background-color: #7cb7da;\n",
              "  color: #000000;\n",
              "}\n",
              "#T_d23a5_row9_col12 {\n",
              "  background-color: #115ca5;\n",
              "  color: #f1f1f1;\n",
              "}\n",
              "#T_d23a5_row9_col13 {\n",
              "  background-color: #4493c7;\n",
              "  color: #f1f1f1;\n",
              "}\n",
              "#T_d23a5_row9_col15 {\n",
              "  background-color: #4695c8;\n",
              "  color: #f1f1f1;\n",
              "}\n",
              "#T_d23a5_row9_col16 {\n",
              "  background-color: #0d57a1;\n",
              "  color: #f1f1f1;\n",
              "}\n",
              "</style>\n",
              "<table id=\"T_d23a5\" class=\"dataframe\">\n",
              "  <thead>\n",
              "    <tr>\n",
              "      <th class=\"blank level0\" >&nbsp;</th>\n",
              "      <th id=\"T_d23a5_level0_col0\" class=\"col_heading level0 col0\" >Base_LR</th>\n",
              "      <th id=\"T_d23a5_level0_col1\" class=\"col_heading level0 col1\" >SS_DTS</th>\n",
              "      <th id=\"T_d23a5_level0_col2\" class=\"col_heading level0 col2\" >SS_RFC</th>\n",
              "      <th id=\"T_d23a5_level0_col3\" class=\"col_heading level0 col3\" >SS_BGS</th>\n",
              "      <th id=\"T_d23a5_level0_col4\" class=\"col_heading level0 col4\" >SS_GBC</th>\n",
              "      <th id=\"T_d23a5_level0_col5\" class=\"col_heading level0 col5\" >SS_ABC</th>\n",
              "      <th id=\"T_d23a5_level0_col6\" class=\"col_heading level0 col6\" >SS_LGBMC</th>\n",
              "      <th id=\"T_d23a5_level0_col7\" class=\"col_heading level0 col7\" >SS_XGBC</th>\n",
              "      <th id=\"T_d23a5_level0_col8\" class=\"col_heading level0 col8\" >SS_SCC</th>\n",
              "      <th id=\"T_d23a5_level0_col9\" class=\"col_heading level0 col9\" >SS_CBC</th>\n",
              "      <th id=\"T_d23a5_level0_col10\" class=\"col_heading level0 col10\" >clf</th>\n",
              "      <th id=\"T_d23a5_level0_col11\" class=\"col_heading level0 col11\" >LR_grid_model</th>\n",
              "      <th id=\"T_d23a5_level0_col12\" class=\"col_heading level0 col12\" >LR_tuned</th>\n",
              "      <th id=\"T_d23a5_level0_col13\" class=\"col_heading level0 col13\" >DTC_tuned</th>\n",
              "      <th id=\"T_d23a5_level0_col14\" class=\"col_heading level0 col14\" >RFC_tuned</th>\n",
              "      <th id=\"T_d23a5_level0_col15\" class=\"col_heading level0 col15\" >BGC_tuned</th>\n",
              "      <th id=\"T_d23a5_level0_col16\" class=\"col_heading level0 col16\" >GBC_tuned</th>\n",
              "      <th id=\"T_d23a5_level0_col17\" class=\"col_heading level0 col17\" >ABC_tuned</th>\n",
              "    </tr>\n",
              "  </thead>\n",
              "  <tbody>\n",
              "    <tr>\n",
              "      <th id=\"T_d23a5_level0_row0\" class=\"row_heading level0 row0\" >fit_time</th>\n",
              "      <td id=\"T_d23a5_row0_col0\" class=\"data row0 col0\" >0.0197</td>\n",
              "      <td id=\"T_d23a5_row0_col1\" class=\"data row0 col1\" >0.0141</td>\n",
              "      <td id=\"T_d23a5_row0_col2\" class=\"data row0 col2\" >0.2081</td>\n",
              "      <td id=\"T_d23a5_row0_col3\" class=\"data row0 col3\" >0.0425</td>\n",
              "      <td id=\"T_d23a5_row0_col4\" class=\"data row0 col4\" >0.1812</td>\n",
              "      <td id=\"T_d23a5_row0_col5\" class=\"data row0 col5\" >0.0972</td>\n",
              "      <td id=\"T_d23a5_row0_col6\" class=\"data row0 col6\" >0.0623</td>\n",
              "      <td id=\"T_d23a5_row0_col7\" class=\"data row0 col7\" >0.0961</td>\n",
              "      <td id=\"T_d23a5_row0_col8\" class=\"data row0 col8\" >1.0138</td>\n",
              "      <td id=\"T_d23a5_row0_col9\" class=\"data row0 col9\" >1.8073</td>\n",
              "      <td id=\"T_d23a5_row0_col10\" class=\"data row0 col10\" >0.0205</td>\n",
              "      <td id=\"T_d23a5_row0_col11\" class=\"data row0 col11\" >0.9231</td>\n",
              "      <td id=\"T_d23a5_row0_col12\" class=\"data row0 col12\" >2.3150</td>\n",
              "      <td id=\"T_d23a5_row0_col13\" class=\"data row0 col13\" >0.4558</td>\n",
              "      <td id=\"T_d23a5_row0_col14\" class=\"data row0 col14\" >17.8878</td>\n",
              "      <td id=\"T_d23a5_row0_col15\" class=\"data row0 col15\" >4.7387</td>\n",
              "      <td id=\"T_d23a5_row0_col16\" class=\"data row0 col16\" >13.5924</td>\n",
              "      <td id=\"T_d23a5_row0_col17\" class=\"data row0 col17\" >5.2349</td>\n",
              "    </tr>\n",
              "    <tr>\n",
              "      <th id=\"T_d23a5_level0_row1\" class=\"row_heading level0 row1\" >train_accuracy</th>\n",
              "      <td id=\"T_d23a5_row1_col0\" class=\"data row1 col0\" >0.8690</td>\n",
              "      <td id=\"T_d23a5_row1_col1\" class=\"data row1 col1\" >1.0000</td>\n",
              "      <td id=\"T_d23a5_row1_col2\" class=\"data row1 col2\" >1.0000</td>\n",
              "      <td id=\"T_d23a5_row1_col3\" class=\"data row1 col3\" >0.9892</td>\n",
              "      <td id=\"T_d23a5_row1_col4\" class=\"data row1 col4\" >0.9521</td>\n",
              "      <td id=\"T_d23a5_row1_col5\" class=\"data row1 col5\" >0.8987</td>\n",
              "      <td id=\"T_d23a5_row1_col6\" class=\"data row1 col6\" >1.0000</td>\n",
              "      <td id=\"T_d23a5_row1_col7\" class=\"data row1 col7\" >1.0000</td>\n",
              "      <td id=\"T_d23a5_row1_col8\" class=\"data row1 col8\" >0.9999</td>\n",
              "      <td id=\"T_d23a5_row1_col9\" class=\"data row1 col9\" >0.9702</td>\n",
              "      <td id=\"T_d23a5_row1_col10\" class=\"data row1 col10\" >0.8690</td>\n",
              "      <td id=\"T_d23a5_row1_col11\" class=\"data row1 col11\" >0.8506</td>\n",
              "      <td id=\"T_d23a5_row1_col12\" class=\"data row1 col12\" >0.8723</td>\n",
              "      <td id=\"T_d23a5_row1_col13\" class=\"data row1 col13\" >0.8882</td>\n",
              "      <td id=\"T_d23a5_row1_col14\" class=\"data row1 col14\" >0.9614</td>\n",
              "      <td id=\"T_d23a5_row1_col15\" class=\"data row1 col15\" >0.8366</td>\n",
              "      <td id=\"T_d23a5_row1_col16\" class=\"data row1 col16\" >0.9338</td>\n",
              "      <td id=\"T_d23a5_row1_col17\" class=\"data row1 col17\" >0.8753</td>\n",
              "    </tr>\n",
              "    <tr>\n",
              "      <th id=\"T_d23a5_level0_row2\" class=\"row_heading level0 row2\" >train_precision</th>\n",
              "      <td id=\"T_d23a5_row2_col0\" class=\"data row2 col0\" >0.8668</td>\n",
              "      <td id=\"T_d23a5_row2_col1\" class=\"data row2 col1\" >1.0000</td>\n",
              "      <td id=\"T_d23a5_row2_col2\" class=\"data row2 col2\" >1.0000</td>\n",
              "      <td id=\"T_d23a5_row2_col3\" class=\"data row2 col3\" >0.9936</td>\n",
              "      <td id=\"T_d23a5_row2_col4\" class=\"data row2 col4\" >0.9524</td>\n",
              "      <td id=\"T_d23a5_row2_col5\" class=\"data row2 col5\" >0.9070</td>\n",
              "      <td id=\"T_d23a5_row2_col6\" class=\"data row2 col6\" >1.0000</td>\n",
              "      <td id=\"T_d23a5_row2_col7\" class=\"data row2 col7\" >1.0000</td>\n",
              "      <td id=\"T_d23a5_row2_col8\" class=\"data row2 col8\" >0.9998</td>\n",
              "      <td id=\"T_d23a5_row2_col9\" class=\"data row2 col9\" >0.9758</td>\n",
              "      <td id=\"T_d23a5_row2_col10\" class=\"data row2 col10\" >0.8668</td>\n",
              "      <td id=\"T_d23a5_row2_col11\" class=\"data row2 col11\" >0.8692</td>\n",
              "      <td id=\"T_d23a5_row2_col12\" class=\"data row2 col12\" >0.8723</td>\n",
              "      <td id=\"T_d23a5_row2_col13\" class=\"data row2 col13\" >0.8919</td>\n",
              "      <td id=\"T_d23a5_row2_col14\" class=\"data row2 col14\" >0.9572</td>\n",
              "      <td id=\"T_d23a5_row2_col15\" class=\"data row2 col15\" >0.8471</td>\n",
              "      <td id=\"T_d23a5_row2_col16\" class=\"data row2 col16\" >0.9301</td>\n",
              "      <td id=\"T_d23a5_row2_col17\" class=\"data row2 col17\" >0.8730</td>\n",
              "    </tr>\n",
              "    <tr>\n",
              "      <th id=\"T_d23a5_level0_row3\" class=\"row_heading level0 row3\" >train_recall</th>\n",
              "      <td id=\"T_d23a5_row3_col0\" class=\"data row3 col0\" >0.9020</td>\n",
              "      <td id=\"T_d23a5_row3_col1\" class=\"data row3 col1\" >1.0000</td>\n",
              "      <td id=\"T_d23a5_row3_col2\" class=\"data row3 col2\" >1.0000</td>\n",
              "      <td id=\"T_d23a5_row3_col3\" class=\"data row3 col3\" >0.9869</td>\n",
              "      <td id=\"T_d23a5_row3_col4\" class=\"data row3 col4\" >0.9615</td>\n",
              "      <td id=\"T_d23a5_row3_col5\" class=\"data row3 col5\" >0.9103</td>\n",
              "      <td id=\"T_d23a5_row3_col6\" class=\"data row3 col6\" >1.0000</td>\n",
              "      <td id=\"T_d23a5_row3_col7\" class=\"data row3 col7\" >1.0000</td>\n",
              "      <td id=\"T_d23a5_row3_col8\" class=\"data row3 col8\" >1.0000</td>\n",
              "      <td id=\"T_d23a5_row3_col9\" class=\"data row3 col9\" >0.9703</td>\n",
              "      <td id=\"T_d23a5_row3_col10\" class=\"data row3 col10\" >0.9020</td>\n",
              "      <td id=\"T_d23a5_row3_col11\" class=\"data row3 col11\" >0.8594</td>\n",
              "      <td id=\"T_d23a5_row3_col12\" class=\"data row3 col12\" >0.9011</td>\n",
              "      <td id=\"T_d23a5_row3_col13\" class=\"data row3 col13\" >0.9086</td>\n",
              "      <td id=\"T_d23a5_row3_col14\" class=\"data row3 col14\" >0.9746</td>\n",
              "      <td id=\"T_d23a5_row3_col15\" class=\"data row3 col15\" >0.8604</td>\n",
              "      <td id=\"T_d23a5_row3_col16\" class=\"data row3 col16\" >0.9521</td>\n",
              "      <td id=\"T_d23a5_row3_col17\" class=\"data row3 col17\" >0.9066</td>\n",
              "    </tr>\n",
              "    <tr>\n",
              "      <th id=\"T_d23a5_level0_row4\" class=\"row_heading level0 row4\" >train_f1</th>\n",
              "      <td id=\"T_d23a5_row4_col0\" class=\"data row4 col0\" >0.8840</td>\n",
              "      <td id=\"T_d23a5_row4_col1\" class=\"data row4 col1\" >1.0000</td>\n",
              "      <td id=\"T_d23a5_row4_col2\" class=\"data row4 col2\" >1.0000</td>\n",
              "      <td id=\"T_d23a5_row4_col3\" class=\"data row4 col3\" >0.9902</td>\n",
              "      <td id=\"T_d23a5_row4_col4\" class=\"data row4 col4\" >0.9569</td>\n",
              "      <td id=\"T_d23a5_row4_col5\" class=\"data row4 col5\" >0.9086</td>\n",
              "      <td id=\"T_d23a5_row4_col6\" class=\"data row4 col6\" >1.0000</td>\n",
              "      <td id=\"T_d23a5_row4_col7\" class=\"data row4 col7\" >1.0000</td>\n",
              "      <td id=\"T_d23a5_row4_col8\" class=\"data row4 col8\" >0.9999</td>\n",
              "      <td id=\"T_d23a5_row4_col9\" class=\"data row4 col9\" >0.9730</td>\n",
              "      <td id=\"T_d23a5_row4_col10\" class=\"data row4 col10\" >0.8840</td>\n",
              "      <td id=\"T_d23a5_row4_col11\" class=\"data row4 col11\" >0.8643</td>\n",
              "      <td id=\"T_d23a5_row4_col12\" class=\"data row4 col12\" >0.8865</td>\n",
              "      <td id=\"T_d23a5_row4_col13\" class=\"data row4 col13\" >0.9000</td>\n",
              "      <td id=\"T_d23a5_row4_col14\" class=\"data row4 col14\" >0.9658</td>\n",
              "      <td id=\"T_d23a5_row4_col15\" class=\"data row4 col15\" >0.8535</td>\n",
              "      <td id=\"T_d23a5_row4_col16\" class=\"data row4 col16\" >0.9410</td>\n",
              "      <td id=\"T_d23a5_row4_col17\" class=\"data row4 col17\" >0.8895</td>\n",
              "    </tr>\n",
              "    <tr>\n",
              "      <th id=\"T_d23a5_level0_row5\" class=\"row_heading level0 row5\" >score_time</th>\n",
              "      <td id=\"T_d23a5_row5_col0\" class=\"data row5 col0\" >0.0104</td>\n",
              "      <td id=\"T_d23a5_row5_col1\" class=\"data row5 col1\" >0.0089</td>\n",
              "      <td id=\"T_d23a5_row5_col2\" class=\"data row5 col2\" >0.0227</td>\n",
              "      <td id=\"T_d23a5_row5_col3\" class=\"data row5 col3\" >0.0105</td>\n",
              "      <td id=\"T_d23a5_row5_col4\" class=\"data row5 col4\" >0.0097</td>\n",
              "      <td id=\"T_d23a5_row5_col5\" class=\"data row5 col5\" >0.0154</td>\n",
              "      <td id=\"T_d23a5_row5_col6\" class=\"data row5 col6\" >0.0106</td>\n",
              "      <td id=\"T_d23a5_row5_col7\" class=\"data row5 col7\" >0.0109</td>\n",
              "      <td id=\"T_d23a5_row5_col8\" class=\"data row5 col8\" >0.0185</td>\n",
              "      <td id=\"T_d23a5_row5_col9\" class=\"data row5 col9\" >0.0101</td>\n",
              "      <td id=\"T_d23a5_row5_col10\" class=\"data row5 col10\" >0.0104</td>\n",
              "      <td id=\"T_d23a5_row5_col11\" class=\"data row5 col11\" >0.0058</td>\n",
              "      <td id=\"T_d23a5_row5_col12\" class=\"data row5 col12\" >0.0071</td>\n",
              "      <td id=\"T_d23a5_row5_col13\" class=\"data row5 col13\" >0.0046</td>\n",
              "      <td id=\"T_d23a5_row5_col14\" class=\"data row5 col14\" >0.0145</td>\n",
              "      <td id=\"T_d23a5_row5_col15\" class=\"data row5 col15\" >0.0110</td>\n",
              "      <td id=\"T_d23a5_row5_col16\" class=\"data row5 col16\" >0.0058</td>\n",
              "      <td id=\"T_d23a5_row5_col17\" class=\"data row5 col17\" >0.0134</td>\n",
              "    </tr>\n",
              "    <tr>\n",
              "      <th id=\"T_d23a5_level0_row6\" class=\"row_heading level0 row6\" >test_accuracy</th>\n",
              "      <td id=\"T_d23a5_row6_col0\" class=\"data row6 col0\" >0.8484</td>\n",
              "      <td id=\"T_d23a5_row6_col1\" class=\"data row6 col1\" >0.7951</td>\n",
              "      <td id=\"T_d23a5_row6_col2\" class=\"data row6 col2\" >0.8430</td>\n",
              "      <td id=\"T_d23a5_row6_col3\" class=\"data row6 col3\" >0.8255</td>\n",
              "      <td id=\"T_d23a5_row6_col4\" class=\"data row6 col4\" >0.8549</td>\n",
              "      <td id=\"T_d23a5_row6_col5\" class=\"data row6 col5\" >0.8332</td>\n",
              "      <td id=\"T_d23a5_row6_col6\" class=\"data row6 col6\" >0.8550</td>\n",
              "      <td id=\"T_d23a5_row6_col7\" class=\"data row6 col7\" >0.8462</td>\n",
              "      <td id=\"T_d23a5_row6_col8\" class=\"data row6 col8\" >0.8386</td>\n",
              "      <td id=\"T_d23a5_row6_col9\" class=\"data row6 col9\" >0.8658</td>\n",
              "      <td id=\"T_d23a5_row6_col10\" class=\"data row6 col10\" >0.8484</td>\n",
              "      <td id=\"T_d23a5_row6_col11\" class=\"data row6 col11\" >0.8289</td>\n",
              "      <td id=\"T_d23a5_row6_col12\" class=\"data row6 col12\" >0.8516</td>\n",
              "      <td id=\"T_d23a5_row6_col13\" class=\"data row6 col13\" >0.8364</td>\n",
              "      <td id=\"T_d23a5_row6_col14\" class=\"data row6 col14\" >0.8462</td>\n",
              "      <td id=\"T_d23a5_row6_col15\" class=\"data row6 col15\" >0.8353</td>\n",
              "      <td id=\"T_d23a5_row6_col16\" class=\"data row6 col16\" >0.8528</td>\n",
              "      <td id=\"T_d23a5_row6_col17\" class=\"data row6 col17\" >0.8429</td>\n",
              "    </tr>\n",
              "    <tr>\n",
              "      <th id=\"T_d23a5_level0_row7\" class=\"row_heading level0 row7\" >test_precision</th>\n",
              "      <td id=\"T_d23a5_row7_col0\" class=\"data row7 col0\" >0.8621</td>\n",
              "      <td id=\"T_d23a5_row7_col1\" class=\"data row7 col1\" >0.8305</td>\n",
              "      <td id=\"T_d23a5_row7_col2\" class=\"data row7 col2\" >0.8577</td>\n",
              "      <td id=\"T_d23a5_row7_col3\" class=\"data row7 col3\" >0.8680</td>\n",
              "      <td id=\"T_d23a5_row7_col4\" class=\"data row7 col4\" >0.8751</td>\n",
              "      <td id=\"T_d23a5_row7_col5\" class=\"data row7 col5\" >0.8527</td>\n",
              "      <td id=\"T_d23a5_row7_col6\" class=\"data row7 col6\" >0.8795</td>\n",
              "      <td id=\"T_d23a5_row7_col7\" class=\"data row7 col7\" >0.8731</td>\n",
              "      <td id=\"T_d23a5_row7_col8\" class=\"data row7 col8\" >0.8460</td>\n",
              "      <td id=\"T_d23a5_row7_col9\" class=\"data row7 col9\" >0.8803</td>\n",
              "      <td id=\"T_d23a5_row7_col10\" class=\"data row7 col10\" >0.8621</td>\n",
              "      <td id=\"T_d23a5_row7_col11\" class=\"data row7 col11\" >0.8637</td>\n",
              "      <td id=\"T_d23a5_row7_col12\" class=\"data row7 col12\" >0.8659</td>\n",
              "      <td id=\"T_d23a5_row7_col13\" class=\"data row7 col13\" >0.8549</td>\n",
              "      <td id=\"T_d23a5_row7_col14\" class=\"data row7 col14\" >0.8554</td>\n",
              "      <td id=\"T_d23a5_row7_col15\" class=\"data row7 col15\" >0.8545</td>\n",
              "      <td id=\"T_d23a5_row7_col16\" class=\"data row7 col16\" >0.8650</td>\n",
              "      <td id=\"T_d23a5_row7_col17\" class=\"data row7 col17\" >0.8572</td>\n",
              "    </tr>\n",
              "    <tr>\n",
              "      <th id=\"T_d23a5_level0_row8\" class=\"row_heading level0 row8\" >test_recall</th>\n",
              "      <td id=\"T_d23a5_row8_col0\" class=\"data row8 col0\" >0.8676</td>\n",
              "      <td id=\"T_d23a5_row8_col1\" class=\"data row8 col1\" >0.7929</td>\n",
              "      <td id=\"T_d23a5_row8_col2\" class=\"data row8 col2\" >0.8617</td>\n",
              "      <td id=\"T_d23a5_row8_col3\" class=\"data row8 col3\" >0.8126</td>\n",
              "      <td id=\"T_d23a5_row8_col4\" class=\"data row8 col4\" >0.8635</td>\n",
              "      <td id=\"T_d23a5_row8_col5\" class=\"data row8 col5\" >0.8498</td>\n",
              "      <td id=\"T_d23a5_row8_col6\" class=\"data row8 col6\" >0.8578</td>\n",
              "      <td id=\"T_d23a5_row8_col7\" class=\"data row8 col7\" >0.8478</td>\n",
              "      <td id=\"T_d23a5_row8_col8\" class=\"data row8 col8\" >0.8716</td>\n",
              "      <td id=\"T_d23a5_row8_col9\" class=\"data row8 col9\" >0.8774</td>\n",
              "      <td id=\"T_d23a5_row8_col10\" class=\"data row8 col10\" >0.8676</td>\n",
              "      <td id=\"T_d23a5_row8_col11\" class=\"data row8 col11\" >0.8245</td>\n",
              "      <td id=\"T_d23a5_row8_col12\" class=\"data row8 col12\" >0.8715</td>\n",
              "      <td id=\"T_d23a5_row8_col13\" class=\"data row8 col13\" >0.8519</td>\n",
              "      <td id=\"T_d23a5_row8_col14\" class=\"data row8 col14\" >0.8735</td>\n",
              "      <td id=\"T_d23a5_row8_col15\" class=\"data row8 col15\" >0.8520</td>\n",
              "      <td id=\"T_d23a5_row8_col16\" class=\"data row8 col16\" >0.8754</td>\n",
              "      <td id=\"T_d23a5_row8_col17\" class=\"data row8 col17\" >0.8636</td>\n",
              "    </tr>\n",
              "    <tr>\n",
              "      <th id=\"T_d23a5_level0_row9\" class=\"row_heading level0 row9\" >test_f1</th>\n",
              "      <td id=\"T_d23a5_row9_col0\" class=\"data row9 col0\" >0.8614</td>\n",
              "      <td id=\"T_d23a5_row9_col1\" class=\"data row9 col1\" >0.8074</td>\n",
              "      <td id=\"T_d23a5_row9_col2\" class=\"data row9 col2\" >0.8565</td>\n",
              "      <td id=\"T_d23a5_row9_col3\" class=\"data row9 col3\" >0.8350</td>\n",
              "      <td id=\"T_d23a5_row9_col4\" class=\"data row9 col4\" >0.8654</td>\n",
              "      <td id=\"T_d23a5_row9_col5\" class=\"data row9 col5\" >0.8473</td>\n",
              "      <td id=\"T_d23a5_row9_col6\" class=\"data row9 col6\" >0.8655</td>\n",
              "      <td id=\"T_d23a5_row9_col7\" class=\"data row9 col7\" >0.8556</td>\n",
              "      <td id=\"T_d23a5_row9_col8\" class=\"data row9 col8\" >0.8554</td>\n",
              "      <td id=\"T_d23a5_row9_col9\" class=\"data row9 col9\" >0.8764</td>\n",
              "      <td id=\"T_d23a5_row9_col10\" class=\"data row9 col10\" >0.8614</td>\n",
              "      <td id=\"T_d23a5_row9_col11\" class=\"data row9 col11\" >0.8391</td>\n",
              "      <td id=\"T_d23a5_row9_col12\" class=\"data row9 col12\" >0.8647</td>\n",
              "      <td id=\"T_d23a5_row9_col13\" class=\"data row9 col13\" >0.8501</td>\n",
              "      <td id=\"T_d23a5_row9_col14\" class=\"data row9 col14\" >0.8602</td>\n",
              "      <td id=\"T_d23a5_row9_col15\" class=\"data row9 col15\" >0.8494</td>\n",
              "      <td id=\"T_d23a5_row9_col16\" class=\"data row9 col16\" >0.8660</td>\n",
              "      <td id=\"T_d23a5_row9_col17\" class=\"data row9 col17\" >0.8558</td>\n",
              "    </tr>\n",
              "  </tbody>\n",
              "</table>\n"
            ]
          },
          "metadata": {},
          "execution_count": 72
        }
      ]
    },
    {
      "cell_type": "markdown",
      "source": [
        "## b) *Сравните с полученными результатами в домашнем задании по теме «Ансамблирование»."
      ],
      "metadata": {
        "id": "fp-dcaXszDOu"
      }
    },
    {
      "cell_type": "markdown",
      "source": [
        "В начальных колоннках(1-11) датафрейма приведены метрики по моделям из ДЗ \"Ансамблирование\", в 12-17 - модели после оптимизации. Как можно заметить,\n",
        "оптимизация во всех случаях привела к увеличению метрик качества моделей. Однако параллельно выросло и время обучения, в некоторых случаях - значительно (например, у RFC в 85 раз!, а метрики возросли не столь существенно).\n",
        "При этом лучшие результаты на тестовой выборке продемонстрировал catBoostClassifier ,без всякого подбора гиперпараметров"
      ],
      "metadata": {
        "id": "hTjdi3MoVk8z"
      }
    }
  ]
}